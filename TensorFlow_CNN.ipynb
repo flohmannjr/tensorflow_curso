{
  "nbformat": 4,
  "nbformat_minor": 0,
  "metadata": {
    "colab": {
      "provenance": [],
      "toc_visible": true,
      "collapsed_sections": [
        "rNq1ORni7feL",
        "feNiY5A4--ES",
        "WgOtX0L2fYZt",
        "WAsqg-En991p",
        "4I5IO--tN732",
        "e_qNUmkXiR3X",
        "lkYnYPIONmcW",
        "hmOE88T7PAap",
        "veY_l0X66h7O",
        "3S_6oQ92Aabe",
        "_cJTMuwPOU8C",
        "_nJK4NKPOxBD",
        "YkhoZD5UFFC5",
        "WMNKuciT8-3F",
        "R9g8W6dGA-TX",
        "dTXtkozuHplZ",
        "ixPS5krTMtJE",
        "kx2zTVVWNNti",
        "vdpPBvgBSpF9",
        "tTaNa5bwS27s",
        "be5hhMo4TBMT",
        "I1YOpQJ3TDhr",
        "-4ByQ_vqTFeL",
        "Fu7Rx9FXTICb",
        "98Q30UDXwnWI",
        "MSXiWAndTO6C",
        "1pObw-e6Lmc1"
      ],
      "authorship_tag": "ABX9TyMnfgYvWV8mSpVr88OPwrEZ",
      "include_colab_link": true
    },
    "kernelspec": {
      "name": "python3",
      "display_name": "Python 3"
    },
    "language_info": {
      "name": "python"
    },
    "gpuClass": "standard",
    "accelerator": "GPU"
  },
  "cells": [
    {
      "cell_type": "markdown",
      "metadata": {
        "id": "view-in-github",
        "colab_type": "text"
      },
      "source": [
        "<a href=\"https://colab.research.google.com/github/flohmannjr/tensorflow_curso/blob/main/TensorFlow_CNN.ipynb\" target=\"_parent\"><img src=\"https://colab.research.google.com/assets/colab-badge.svg\" alt=\"Open In Colab\"/></a>"
      ]
    },
    {
      "cell_type": "markdown",
      "source": [
        "# TensorFlow Convolutional Neural Networks"
      ],
      "metadata": {
        "id": "aUskipfp6nsM"
      }
    },
    {
      "cell_type": "code",
      "source": [
        "import tensorflow as tf\n",
        "\n",
        "import numpy as np\n",
        "\n",
        "import matplotlib.pyplot as plt\n",
        "import matplotlib.image as mpimg\n",
        "import seaborn as sns\n",
        "\n",
        "import zipfile\n",
        "import os\n",
        "import pathlib\n",
        "import random\n",
        "\n",
        "from tensorflow.keras.preprocessing.image import ImageDataGenerator\n",
        "\n",
        "from tensorflow.keras import Sequential\n",
        "from tensorflow.keras.layers import Dense, Conv2D, MaxPool2D, Flatten\n",
        "from tensorflow.keras.optimizers import Adam"
      ],
      "metadata": {
        "id": "xJToyLuR7ZUB"
      },
      "execution_count": null,
      "outputs": []
    },
    {
      "cell_type": "markdown",
      "source": [
        "## Setup"
      ],
      "metadata": {
        "id": "1xo1Gle9-hkq"
      }
    },
    {
      "cell_type": "code",
      "source": [
        "# Ajustes MatPlotLib\n",
        "plt.rcParams['figure.figsize'] = [8, 5]\n",
        "plt.rcParams['figure.dpi'] = 100\n",
        "plt.style.use('seaborn-darkgrid')\n",
        "\n",
        "# Determinando um seed\n",
        "seed = 2008193"
      ],
      "metadata": {
        "id": "oWVjXEC7-iKg"
      },
      "execution_count": null,
      "outputs": []
    },
    {
      "cell_type": "markdown",
      "source": [
        "### Funções"
      ],
      "metadata": {
        "id": "yP9y50e3iGi1"
      }
    },
    {
      "cell_type": "code",
      "source": [
        "# Create a function to import and image and resize it to be able to be used with our model\n",
        "def load_and_prep_image(filename, img_shape=224):\n",
        "    \"\"\"\n",
        "    Reads an image from filename, turns it into a tensor and reshapes it \n",
        "    to (img_shape, img_shape, colour_channels).\n",
        "    \"\"\"\n",
        "\n",
        "    # Read in the image\n",
        "    img = tf.io.read_file(filename)\n",
        "\n",
        "    # Decode the read file into a tensor\n",
        "    img = tf.image.decode_image(img)\n",
        "\n",
        "    # Resize the image\n",
        "    img = tf.image.resize(img, size=[img_shape, img_shape])\n",
        "\n",
        "    # Rescale the image (get all values between 0 and 1)\n",
        "    img = img/255.\n",
        "\n",
        "    return img\n",
        "\n",
        "def pred_and_plot(model, filename, class_names):\n",
        "    \"\"\"\n",
        "    Imports an image located at filename, makes a prediction with model\n",
        "    and plots the image with the predicted class as the title.\n",
        "    \"\"\"\n",
        "\n",
        "    # Import the target image and preprocess it\n",
        "    img = load_and_prep_image(filename)\n",
        "\n",
        "    # Make a prediction\n",
        "    pred = model.predict(tf.expand_dims(img, axis=0))\n",
        "\n",
        "    # Get the predicted class\n",
        "    if len(pred[0]) > 1: # Multi-class\n",
        "        pred_class = class_names[pred.argmax()]\n",
        "        pred_perc = pred.max()\n",
        "    else: # Binary\n",
        "        pred_class = class_names[int(tf.round(pred))]\n",
        "        pred_perc = tf.squeeze(pred if pred >= 0.5 else 1 - pred)\n",
        "\n",
        "    # Plot the image and predicted class\n",
        "    plt.imshow(img)\n",
        "    plt.title(f\"Prediction: {pred_class} ({(pred_perc * 100):0.2f}%)\")\n",
        "    plt.axis(False)\n",
        "    plt.show()"
      ],
      "metadata": {
        "id": "VP1D3y7_iIob"
      },
      "execution_count": null,
      "outputs": []
    },
    {
      "cell_type": "markdown",
      "source": [
        "## Dados para os primeiros testes"
      ],
      "metadata": {
        "id": "rNq1ORni7feL"
      }
    },
    {
      "cell_type": "markdown",
      "source": [
        "Dados modificados da base Food 101: https://www.kaggle.com/datasets/dansbecker/food-101\n",
        "\n",
        "Fonte da base modificada: https://github.com/mrdbourke/tensorflow-deep-learning#course-materials\n",
        "\n",
        "03 TensorFlow Computer Vision: pizza_steak"
      ],
      "metadata": {
        "id": "xilQjpLM8ERA"
      }
    },
    {
      "cell_type": "code",
      "source": [
        "# !wget https://storage.googleapis.com/ztm_tf_course/food_vision/pizza_steak.zip\n",
        "\n",
        "# zip_ps = zipfile.ZipFile('pizza_steak.zip')\n",
        "# zip_ps.extractall()\n",
        "# zip_ps.close()"
      ],
      "metadata": {
        "id": "JTsqr5FP-LGC"
      },
      "execution_count": null,
      "outputs": []
    },
    {
      "cell_type": "markdown",
      "source": [
        "### Verificando os dados"
      ],
      "metadata": {
        "id": "feNiY5A4--ES"
      }
    },
    {
      "cell_type": "code",
      "source": [
        "# for caminho, diretorios, arquivos in os.walk('pizza_steak'):\n",
        "#     print(f\"Há {len(diretorios)} diretórios e {len(arquivos)} imagens em '{caminho}'.\")\n",
        "\n",
        "# print(len(os.listdir('pizza_steak/train/pizza')))"
      ],
      "metadata": {
        "id": "MbBwjdRcA9pi"
      },
      "execution_count": null,
      "outputs": []
    },
    {
      "cell_type": "code",
      "source": [
        "# # Definindo rótulos pelos nomes dos diretórios\n",
        "\n",
        "# diretorio = pathlib.Path('pizza_steak/train')\n",
        "# rotulos = np.array(sorted([item.name for item in diretorio.glob('*')]))\n",
        "\n",
        "# # rotulos"
      ],
      "metadata": {
        "id": "iFly6g6Jc0KH"
      },
      "execution_count": null,
      "outputs": []
    },
    {
      "cell_type": "markdown",
      "source": [
        "#### Amostra"
      ],
      "metadata": {
        "id": "WgOtX0L2fYZt"
      }
    },
    {
      "cell_type": "code",
      "source": [
        "# def visualizar_imagem_aleatoria(raiz, rotulo):\n",
        "#     diretorio = raiz + '/' + rotulo\n",
        "\n",
        "#     caminho_imagem = random.sample(os.listdir(diretorio), 1)\n",
        "\n",
        "#     imagem = mpimg.imread(diretorio + '/' + caminho_imagem[0])\n",
        "\n",
        "#     plt.imshow(imagem)\n",
        "#     plt.title(f\"[{rotulo}] {caminho_imagem[0]}\")\n",
        "#     plt.axis(False)\n",
        "#     plt.show()\n",
        "\n",
        "#     print(f\"Dimensões: {imagem.shape}\")\n",
        "\n",
        "#     return imagem"
      ],
      "metadata": {
        "id": "v7pUYsDMd82v"
      },
      "execution_count": null,
      "outputs": []
    },
    {
      "cell_type": "code",
      "source": [
        "# imagem = visualizar_imagem_aleatoria('pizza_steak/train', 'pizza')"
      ],
      "metadata": {
        "id": "QHnV8b_Zh-Hm"
      },
      "execution_count": null,
      "outputs": []
    },
    {
      "cell_type": "markdown",
      "source": [
        "## Pré-processamento dos dados"
      ],
      "metadata": {
        "id": "WAsqg-En991p"
      }
    },
    {
      "cell_type": "code",
      "source": [
        "# # Diretórios\n",
        "# dir_treino = 'pizza_steak/train'\n",
        "# dir_teste = 'pizza_steak/test'"
      ],
      "metadata": {
        "id": "QdolKfF2-G4Y"
      },
      "execution_count": null,
      "outputs": []
    },
    {
      "cell_type": "markdown",
      "source": [
        "### Importando dados e tranformando em lotes"
      ],
      "metadata": {
        "id": "4I5IO--tN732"
      }
    },
    {
      "cell_type": "code",
      "source": [
        "# tf.random.set_seed(seed)\n",
        "\n",
        "# # Criando geradores de pré-processamento\n",
        "# dg_treino = ImageDataGenerator(rescale=1./255)\n",
        "# dg_teste = ImageDataGenerator(rescale=1./255)\n",
        "\n",
        "# dados_treino = dg_treino.flow_from_directory(directory=dir_treino,\n",
        "#                                              batch_size=32,\n",
        "#                                              target_size=(224, 224),\n",
        "#                                              class_mode='binary',\n",
        "#                                              seed=seed)\n",
        "\n",
        "# dados_teste = dg_teste.flow_from_directory(directory=dir_teste,\n",
        "#                                            batch_size=32,\n",
        "#                                            target_size=(224, 224),\n",
        "#                                            class_mode='binary',\n",
        "#                                            seed=seed)"
      ],
      "metadata": {
        "id": "pz7A6GCaN9mb"
      },
      "execution_count": null,
      "outputs": []
    },
    {
      "cell_type": "markdown",
      "source": [
        "## Primeiro modelo convulacional (Tiny VGG)"
      ],
      "metadata": {
        "id": "e_qNUmkXiR3X"
      }
    },
    {
      "cell_type": "code",
      "source": [
        "# tf.random.set_seed(seed)\n",
        "\n",
        "# cnn = tf.keras.Sequential()\n",
        "\n",
        "# # Primeiro bloco convulacional, com formato de entrada (input_shape) e borda (padding)\n",
        "# cnn.add(tf.keras.layers.Conv2D(filters=10, kernel_size=3, activation='relu', input_shape=(224, 224, 3)))\n",
        "# cnn.add(tf.keras.layers.Conv2D(10, 3, activation='relu'))\n",
        "# cnn.add(tf.keras.layers.MaxPool2D(pool_size=2, padding='valid'))\n",
        "\n",
        "# # Segundo bloco convulacional\n",
        "# cnn.add(tf.keras.layers.Conv2D(10, 3, activation='relu'))\n",
        "# cnn.add(tf.keras.layers.Conv2D(10, 3, activation='relu'))\n",
        "# cnn.add(tf.keras.layers.MaxPool2D(2))\n",
        "\n",
        "# # Camadas de finalização\n",
        "# cnn.add(tf.keras.layers.Flatten())\n",
        "# cnn.add(tf.keras.layers.Dense(1, activation='sigmoid'))\n",
        "\n",
        "# cnn.compile(loss='binary_crossentropy',\n",
        "#             optimizer='Adam',\n",
        "#             metrics=['accuracy'])\n",
        "\n",
        "# # Utilize GPU para acelerar (muito) o processamento\n",
        "# hist_cnn = cnn.fit(dados_treino,\n",
        "#                    epochs=10,\n",
        "#                    steps_per_epoch=len(dados_treino),\n",
        "#                    validation_data=dados_teste,\n",
        "#                    validation_steps=len(dados_teste),\n",
        "#                    verbose=1)\n",
        "\n",
        "# cnn.evaluate(dados_teste)"
      ],
      "metadata": {
        "id": "2pSoMzDS8a5f"
      },
      "execution_count": null,
      "outputs": []
    },
    {
      "cell_type": "code",
      "source": [
        "# sns.lineplot(data=hist_cnn.history['loss'], label='Perda no treinamento')\n",
        "# sns.lineplot(data=hist_cnn.history['accuracy'], label='Precisão no treinamento')\n",
        "\n",
        "# sns.lineplot(data=hist_cnn.history['val_loss'], label='Perda na validação')\n",
        "# sns.lineplot(data=hist_cnn.history['val_accuracy'], label='Precisão na validação')\n",
        "\n",
        "# plt.title('Histórico de perda e precisão por iteração')\n",
        "# plt.xlabel('Iteração')\n",
        "# plt.ylabel('Perda / Precisão')\n",
        "\n",
        "# plt.ylim(0, 1.1)\n",
        "\n",
        "# plt.legend(frameon=True, facecolor='white');"
      ],
      "metadata": {
        "id": "oz121qqG89qz"
      },
      "execution_count": null,
      "outputs": []
    },
    {
      "cell_type": "markdown",
      "source": [
        "CNN Explainer https://poloclub.github.io/cnn-explainer/"
      ],
      "metadata": {
        "id": "_bf9-nvzLrFm"
      }
    },
    {
      "cell_type": "markdown",
      "source": [
        "## Testando modelo não-convulacional"
      ],
      "metadata": {
        "id": "lkYnYPIONmcW"
      }
    },
    {
      "cell_type": "code",
      "source": [
        "# tf.random.set_seed(seed)\n",
        "\n",
        "# ncnn = tf.keras.Sequential()\n",
        "\n",
        "# ncnn.add(tf.keras.layers.Flatten(input_shape=(224, 224, 3)))\n",
        "# ncnn.add(tf.keras.layers.Dense(10, activation='relu'))\n",
        "# ncnn.add(tf.keras.layers.Dense(10, activation='relu'))\n",
        "# ncnn.add(tf.keras.layers.Dense(1, activation='sigmoid'))\n",
        "\n",
        "# ncnn.compile(loss='binary_crossentropy',\n",
        "#              optimizer='Adam',\n",
        "#              metrics=['accuracy'])\n",
        "\n",
        "# hist_ncnn = ncnn.fit(dados_treino,\n",
        "#                      epochs=10,\n",
        "#                      steps_per_epoch=len(dados_treino),\n",
        "#                      verbose=1)"
      ],
      "metadata": {
        "id": "C2MIXQXvv0yc"
      },
      "execution_count": null,
      "outputs": []
    },
    {
      "cell_type": "code",
      "source": [
        "# sns.lineplot(data=hist_ncnn.history['loss'], label='Perda')\n",
        "# sns.lineplot(data=hist_ncnn.history['accuracy'], label='Precisão')\n",
        "\n",
        "# plt.title('Histórico de perda e precisão por iteração')\n",
        "# plt.xlabel('Iteração')\n",
        "# plt.ylabel('Perda / Precisão')\n",
        "\n",
        "# plt.ylim(0, 1.1)\n",
        "\n",
        "# plt.legend(frameon=True, facecolor='white');"
      ],
      "metadata": {
        "id": "pISTvYpPw62Z"
      },
      "execution_count": null,
      "outputs": []
    },
    {
      "cell_type": "markdown",
      "source": [
        "## Binary Classification: Let's break it down\n",
        "\n",
        "1. Become one with the data (visualize, visualize, visualize)\n",
        "2. Preprocess the data (prepared it for our model, the main step here was scaling/normalizing & turning our data into batches)\n",
        "3. Create a model (start with a baseline)\n",
        "4. Fit the model\n",
        "5. Evaluate the model\n",
        "6. Adjust different parameters and improve the model (try to beat our baseline)\n",
        "7. Repeat until satisfied (experiment, experiment, experiment)"
      ],
      "metadata": {
        "id": "lIiMQ_bmw8xM"
      }
    },
    {
      "cell_type": "markdown",
      "source": [
        "### 1. Become one with the data"
      ],
      "metadata": {
        "id": "hmOE88T7PAap"
      }
    },
    {
      "cell_type": "code",
      "source": [
        "# # visualize, visualize, visualize\n",
        "# imagem_pizza = visualizar_imagem_aleatoria('pizza_steak/train', 'pizza')"
      ],
      "metadata": {
        "id": "Mh8IykkG58-Y"
      },
      "execution_count": null,
      "outputs": []
    },
    {
      "cell_type": "markdown",
      "source": [
        "### 2. Preprocess the data"
      ],
      "metadata": {
        "id": "veY_l0X66h7O"
      }
    },
    {
      "cell_type": "code",
      "source": [
        "# # Define directory dataset paths\n",
        "# dir_treino = 'pizza_steak/train'"
      ],
      "metadata": {
        "id": "VLPb8Phh8n_l"
      },
      "execution_count": null,
      "outputs": []
    },
    {
      "cell_type": "code",
      "source": [
        "# # Create train and test data generators and rescale the data\n",
        "# from tensorflow.keras.preprocessing.image import ImageDataGenerator\n",
        "# dg_treino = ImageDataGenerator(rescale=1./255)  # 255 é o valor máximo em bytes de uma cor em um canal (0-255). O resultado são dados escalonados de 0 a 1."
      ],
      "metadata": {
        "id": "SNUO4gT19gh-"
      },
      "execution_count": null,
      "outputs": []
    },
    {
      "cell_type": "markdown",
      "source": [
        "Our next step is to turn our data into **batches**.\n",
        "\n",
        "A batch is a small subset of data. Rather than look at all ~10,000 images at one time, a model might only look at 32 at a time.\n",
        "\n",
        "It does this for a couple of reasons:\n",
        "1. 10,000 images (or more) might not fit into the memory of your processor (GPU).\n",
        "2. Trying to learn the patterns in 10,000 images in one hit could result in the model not being able to learn very well.\n",
        "\n",
        "Why 32?\n",
        "\n",
        "Because 32 is good for your health... https://twitter.com/ylecun/status/989610208497360896?s=20 "
      ],
      "metadata": {
        "id": "dulLXdCo9aw-"
      }
    },
    {
      "cell_type": "code",
      "source": [
        "# Load in our image data from directories and turn them into batches\n",
        "# dados_treino = dg_treino.flow_from_directory(directory=dir_treino,    # Diretório das imagens\n",
        "#                                              batch_size=32,           # Tamanho do minilote de imagens\n",
        "#                                              target_size=(224, 224),  # Tamanho-alvo da imagens\n",
        "#                                              class_mode='binary',     # Tipo de dado de saída (rótulo)\n",
        "#                                              seed=seed)"
      ],
      "metadata": {
        "id": "MvgMeZyJ-WsG"
      },
      "execution_count": null,
      "outputs": []
    },
    {
      "cell_type": "code",
      "source": [
        "# # How many batches are there?\n",
        "# len(dados_treino)  # Quantidade de imagens / tamanho do lote (1500 / 32 = 46.875)"
      ],
      "metadata": {
        "id": "O250VCtL_V0m"
      },
      "execution_count": null,
      "outputs": []
    },
    {
      "cell_type": "markdown",
      "source": [
        "### 3. Create a model"
      ],
      "metadata": {
        "id": "3S_6oQ92Aabe"
      }
    },
    {
      "cell_type": "code",
      "source": [
        "# # Create the model (this will be our baseline, a layer convolutional neural network)\n",
        "\n",
        "# tf.keras.layers.Conv2D(filters=10,                 # Quantidade de janelas (kernels) para verificar a imagem. Equivalente à quantidade de neurônios de uma camada densa.\n",
        "#                        kernel_size=3,              # Tamanho da janela de verificação. O mesmo que (3, 3), por ser quadrada.\n",
        "#                        strides=1,                  # Quantidade de pixels transpostos por vez. O mesmo que (1, 1), por ser quadrado.\n",
        "#                        padding='valid',            # 'valid' = acrescenta uma \"borda\" vazia à imagem. 'same' = mesmo formato da entrada, se strides=1.\n",
        "#                        activation='relu',          # \n",
        "#                        input_shape=(224, 224, 3))  # "
      ],
      "metadata": {
        "id": "3bbev92nA5z1"
      },
      "execution_count": null,
      "outputs": []
    },
    {
      "cell_type": "markdown",
      "source": [
        "Explicações mais detalhadas: https://poloclub.github.io/cnn-explainer/"
      ],
      "metadata": {
        "id": "9dOnZk9KhXn1"
      }
    },
    {
      "cell_type": "markdown",
      "source": [
        "### 4. Fit the model"
      ],
      "metadata": {
        "id": "_cJTMuwPOU8C"
      }
    },
    {
      "cell_type": "code",
      "source": [
        "# # Fit the model\n",
        "\n",
        "# hist_cnn = cnn.fit(dados_treino,\n",
        "#                    epochs=10,                          # Quantidade de iterações\n",
        "#                    steps_per_epoch=len(dados_treino),  # Quantidade de passos por iteração\n",
        "#                    validation_data=dados_teste,        # Dados para validação\n",
        "#                    validation_steps=len(dados_teste),  # Quantidade de passos por validação\n",
        "#                    verbose=1)"
      ],
      "metadata": {
        "id": "M7oy1Q06OWOM"
      },
      "execution_count": null,
      "outputs": []
    },
    {
      "cell_type": "markdown",
      "source": [
        "### 5. Evaluating our model"
      ],
      "metadata": {
        "id": "_nJK4NKPOxBD"
      }
    },
    {
      "cell_type": "code",
      "source": [
        "# cnn.evaluate(dados_teste)\n",
        "\n",
        "# sns.lineplot(data=hist_cnn.history['loss'], label='Perda no treinamento')\n",
        "# sns.lineplot(data=hist_cnn.history['accuracy'], label='Precisão no treinamento')\n",
        "\n",
        "# sns.lineplot(data=hist_cnn.history['val_loss'], label='Perda na validação')\n",
        "# sns.lineplot(data=hist_cnn.history['val_accuracy'], label='Precisão na validação')"
      ],
      "metadata": {
        "id": "RQ_jIAKaOxSE"
      },
      "execution_count": null,
      "outputs": []
    },
    {
      "cell_type": "markdown",
      "source": [
        "When a model's **validation loss starts to increase**, it's likely that the model is **overfitting** the training dataset. This means, it's learning the patterns in the training dataset too well and thus the model's ability to generalize to unseen data will be diminished.\n",
        "\n",
        "Ideally the two loss curves (training and validation) will be very similar to each other (training loss and validation loss decreasing at similar rates), **when there are large differences your model may be overfitting**."
      ],
      "metadata": {
        "id": "MgbZ-JoJsNq6"
      }
    },
    {
      "cell_type": "markdown",
      "source": [
        "### 6. Adjust the model parameters"
      ],
      "metadata": {
        "id": "l7YGLOUjPRqt"
      }
    },
    {
      "cell_type": "markdown",
      "source": [
        "Fitting a machine learning model comes in 3 steps:\n",
        "\n",
        "0. Create a baseline\n",
        "1. Beat the baseline by overfitting a larger model\n",
        "2. Reduce overfitting\n",
        "\n",
        "Ways to induce overfitting:\n",
        "\n",
        "* Increase the number of conv layers\n",
        "* Increase the number of conv filters\n",
        "* Add another dense layer to the output of our flattened layer\n",
        "\n",
        "Reduce overfitting:\n",
        "* Add data augmentation\n",
        "* Add regularization layers (such as MaxPool2D)\n",
        "* Add more data...\n",
        "\n",
        "Reducing overfitting is also known as **regularization**."
      ],
      "metadata": {
        "id": "4wOfEz7vPW3N"
      }
    },
    {
      "cell_type": "code",
      "source": [
        "# tf.keras.layers.MaxPool2D(pool_size=2)"
      ],
      "metadata": {
        "id": "j4h0ggsj_Eq6"
      },
      "execution_count": null,
      "outputs": []
    },
    {
      "cell_type": "markdown",
      "source": [
        "pool_size define o tamanho do bloco que será compactado.\n",
        "\n",
        "2 = (2, 2) = 4 pixels que serão convertidos em **1 pixel contendo o valor máximo** entre os pixels do bloco."
      ],
      "metadata": {
        "id": "RorDMBJU_k0h"
      }
    },
    {
      "cell_type": "markdown",
      "source": [
        "#### Opening our bag of tricks and finding data augmentation"
      ],
      "metadata": {
        "id": "YkhoZD5UFFC5"
      }
    },
    {
      "cell_type": "code",
      "source": [
        "# # Create ImageDataGenerator training instance with data augmentation\n",
        "\n",
        "# dg_treino_original = ImageDataGenerator(rescale=1./255)\n",
        "\n",
        "# dg_treino_expandido = ImageDataGenerator(rescale=1./255,          # 255 é o valor máximo em bytes de uma cor em um canal (0-255). O resultado são dados escalonados de 0 a 1.\n",
        "#                                          rotation_range=0.2,      # Alcance para rotações aleatórias\n",
        "#                                          shear_range=0.2,         # Intensidade da poda\n",
        "#                                          zoom_range=0.2,          # Alcance do zoom aleatório\n",
        "#                                         #  width_shift_range=0.2,   # Alcance do movimento horizontal (fração da largura total, se < 1, ou quantidade de pixels, se >= 1)\n",
        "#                                         #  height_shift_range=0.2,  # Alcance do movimento vertical (mesmo que acima)\n",
        "#                                          horizontal_flip=True)    # Inverter entradas horizontalmente de maneira aleatória\n",
        "\n",
        "# dg_teste_original = ImageDataGenerator(rescale=1./255)"
      ],
      "metadata": {
        "id": "FnzFpWFDF73H"
      },
      "execution_count": null,
      "outputs": []
    },
    {
      "cell_type": "markdown",
      "source": [
        "Data augmentation is the process of altering our training data, leading it to have more diversity and in turn allowing our models to learn more generalizable (hopefully) patterns. Altering might mean adjuting the rotation of an image, flipping it, cropping it or something similar."
      ],
      "metadata": {
        "id": "2CNB7j-DKosq"
      }
    },
    {
      "cell_type": "code",
      "source": [
        "# # Dados de treino originais\n",
        "\n",
        "# dados_treino_originais = dg_treino_original.flow_from_directory(directory=dir_treino,\n",
        "#                                                                 batch_size=32,\n",
        "#                                                                 target_size=(224, 224),\n",
        "#                                                                 class_mode='binary',\n",
        "#                                                                 seed=seed)\n",
        "\n",
        "# # Dados de treino expandidos\n",
        "\n",
        "# dados_treino_expandidos = dg_treino_expandido.flow_from_directory(directory=dir_treino,\n",
        "#                                                                   batch_size=32,\n",
        "#                                                                   target_size=(224, 224),\n",
        "#                                                                   class_mode='binary',\n",
        "#                                                                   seed=seed)\n",
        "\n",
        "# # Dados de teste originais\n",
        "\n",
        "# dados_teste_originais = dg_teste_original.flow_from_directory(directory=dir_teste,\n",
        "#                                                               batch_size=32,\n",
        "#                                                               target_size=(224, 224),\n",
        "#                                                               class_mode='binary',\n",
        "#                                                               seed=seed)"
      ],
      "metadata": {
        "id": "fFz7_PwjLzwu"
      },
      "execution_count": null,
      "outputs": []
    },
    {
      "cell_type": "markdown",
      "source": [
        "##### Visualização"
      ],
      "metadata": {
        "id": "WMNKuciT8-3F"
      }
    },
    {
      "cell_type": "code",
      "source": [
        "# # Get sample data batches\n",
        "# imagens_originais, rotulos_originais = dados_treino_originais.next()\n",
        "# imagens_expandidas, rotulos_expandidos = dados_treino_expandidos.next()"
      ],
      "metadata": {
        "id": "ZuWxqfjZ9Bk7"
      },
      "execution_count": null,
      "outputs": []
    },
    {
      "cell_type": "code",
      "source": [
        "# # Show original image and augmented image\n",
        "\n",
        "# indice_aleatorio = random.randint(0, 32) # O lote tem 32 imagens.\n",
        "\n",
        "# plt.imshow(imagens_originais[indice_aleatorio])\n",
        "# plt.title(f\"Original\")\n",
        "# plt.axis(False)\n",
        "# plt.show()\n",
        "\n",
        "# plt.imshow(imagens_expandidas[indice_aleatorio])\n",
        "# plt.title(f\"Expandida\")\n",
        "# plt.axis(False)\n",
        "# plt.show();"
      ],
      "metadata": {
        "id": "oXfsXkfc9U4V"
      },
      "execution_count": null,
      "outputs": []
    },
    {
      "cell_type": "markdown",
      "source": [
        "#### Modelo com dados expandidos"
      ],
      "metadata": {
        "id": "R9g8W6dGA-TX"
      }
    },
    {
      "cell_type": "code",
      "source": [
        "# tf.random.set_seed(seed)\n",
        "\n",
        "# cnne = tf.keras.Sequential()\n",
        "\n",
        "# cnne.add(tf.keras.layers.Conv2D(filters=10, kernel_size=3, activation='relu', input_shape=(224, 224, 3)))\n",
        "# cnne.add(tf.keras.layers.Conv2D(10, 3, activation='relu'))\n",
        "# cnne.add(tf.keras.layers.MaxPool2D(pool_size=2, padding='valid'))\n",
        "\n",
        "# cnne.add(tf.keras.layers.Conv2D(10, 3, activation='relu'))\n",
        "# cnne.add(tf.keras.layers.Conv2D(10, 3, activation='relu'))\n",
        "# cnne.add(tf.keras.layers.MaxPool2D(2))\n",
        "\n",
        "# cnne.add(tf.keras.layers.Flatten())\n",
        "# cnne.add(tf.keras.layers.Dense(1, activation='sigmoid'))\n",
        "\n",
        "# cnne.compile(loss='binary_crossentropy',\n",
        "#              optimizer='Adam',\n",
        "#              metrics=['accuracy'])\n",
        "\n",
        "# hist_cnne = cnne.fit(dados_treino_expandidos,\n",
        "#                      epochs=10,\n",
        "#                      steps_per_epoch=len(dados_treino_expandidos),\n",
        "#                      validation_data=dados_teste_originais,\n",
        "#                      validation_steps=len(dados_teste_originais),\n",
        "#                      verbose=1)\n",
        "\n",
        "# cnne.evaluate(dados_teste_originais)"
      ],
      "metadata": {
        "id": "7Nz8o6xXBA8S"
      },
      "execution_count": null,
      "outputs": []
    },
    {
      "cell_type": "code",
      "source": [
        "# sns.lineplot(data=hist_cnne.history['loss'], label='Perda no treinamento')\n",
        "# sns.lineplot(data=hist_cnne.history['accuracy'], label='Precisão no treinamento')\n",
        "\n",
        "# sns.lineplot(data=hist_cnne.history['val_loss'], label='Perda na validação')\n",
        "# sns.lineplot(data=hist_cnne.history['val_accuracy'], label='Precisão na validação')\n",
        "\n",
        "# plt.title('Histórico de perda e precisão por iteração')\n",
        "# plt.xlabel('Iteração')\n",
        "# plt.ylabel('Perda / Precisão')\n",
        "\n",
        "# plt.ylim(0, 1.1)\n",
        "\n",
        "# plt.legend(frameon=True, facecolor='white');"
      ],
      "metadata": {
        "id": "lmgb5XcoBNZk"
      },
      "execution_count": null,
      "outputs": []
    },
    {
      "cell_type": "markdown",
      "source": [
        "### 7. Repeat until satisfied"
      ],
      "metadata": {
        "id": "x6-VlkpvPTh0"
      }
    },
    {
      "cell_type": "markdown",
      "source": [
        "Since we've already beaten our baseline, there are a few things we could try to contine to improve our model:\n",
        "\n",
        "* Increase the number of model layers (e.g. add more `Conv2D`/`MaxPool2D` layers)\n",
        "* Increase the number of filters in each convolutional layer (e.g. from 10 to 32 or even 64)\n",
        "* Train for longer (more epochs)\n",
        "* Find an ideal learning rate \n",
        "* Get more data (give the model more opportunities to learn)\n",
        "* Use **transfer learning** to leverage what another image model has learn and adjust it for our own use case"
      ],
      "metadata": {
        "id": "Coxtyy04QCwl"
      }
    },
    {
      "cell_type": "markdown",
      "source": [
        "#### Verificar a melhor taxa de aprendizado"
      ],
      "metadata": {
        "id": "dTXtkozuHplZ"
      }
    },
    {
      "cell_type": "code",
      "source": [
        "# tf.random.set_seed(seed)\n",
        "\n",
        "# cnnlr = tf.keras.Sequential()\n",
        "\n",
        "# cnnlr.add(tf.keras.layers.Conv2D(filters=10, kernel_size=3, activation='relu', input_shape=(224, 224, 3)))\n",
        "# cnnlr.add(tf.keras.layers.Conv2D(10, 3, activation='relu'))\n",
        "# cnnlr.add(tf.keras.layers.MaxPool2D(pool_size=2, padding='valid'))\n",
        "\n",
        "# cnnlr.add(tf.keras.layers.Conv2D(10, 3, activation='relu'))\n",
        "# cnnlr.add(tf.keras.layers.Conv2D(10, 3, activation='relu'))\n",
        "# cnnlr.add(tf.keras.layers.MaxPool2D(2))\n",
        "\n",
        "# cnnlr.add(tf.keras.layers.Flatten())\n",
        "# cnnlr.add(tf.keras.layers.Dense(1, activation='sigmoid'))\n",
        "\n",
        "# cnnlr.compile(loss='binary_crossentropy',\n",
        "#               optimizer=tf.keras.optimizers.Adam(),\n",
        "#               metrics=['accuracy'])\n",
        "\n",
        "# lrs = tf.keras.callbacks.LearningRateScheduler(lambda epoch: tf.multiply(0.001, tf.pow(10, tf.divide(epoch, 20))))\n",
        "\n",
        "# hist_cnnlr = cnnlr.fit(dados_treino_expandidos,\n",
        "#                        epochs=40,\n",
        "#                        steps_per_epoch=len(dados_treino_expandidos),\n",
        "#                        callbacks=[lrs],\n",
        "#                        verbose=1)\n",
        "\n",
        "# cnnlr.evaluate(dados_teste_originais)"
      ],
      "metadata": {
        "id": "lqBqLMrLQGRU"
      },
      "execution_count": null,
      "outputs": []
    },
    {
      "cell_type": "code",
      "source": [
        "# sns.lineplot(x=hist_cnnlr.history['lr'], y=hist_cnnlr.history['loss'], label='Perda')\n",
        "# sns.lineplot(x=hist_cnnlr.history['lr'], y=hist_cnnlr.history['accuracy'], label='Precisão')\n",
        "\n",
        "# plt.xscale('log')\n",
        "\n",
        "# plt.title('Histórico de perda e precisão por taxa de aprendizado')\n",
        "# plt.xlabel('Iteração')\n",
        "# plt.ylabel('Perda / Precisão')\n",
        "\n",
        "# plt.ylim(0, 1.1)\n",
        "\n",
        "# plt.legend(frameon=True, facecolor='white');"
      ],
      "metadata": {
        "id": "bvfJX_3LEPR9"
      },
      "execution_count": null,
      "outputs": []
    },
    {
      "cell_type": "markdown",
      "source": [
        "#### Modelo aperfeiçoado"
      ],
      "metadata": {
        "id": "ixPS5krTMtJE"
      }
    },
    {
      "cell_type": "code",
      "source": [
        "# tf.random.set_seed(seed)\n",
        "\n",
        "# cnnf = tf.keras.Sequential()\n",
        "\n",
        "# cnnf.add(tf.keras.layers.Conv2D(filters=10, kernel_size=3, activation='relu', input_shape=(224, 224, 3)))\n",
        "# cnnf.add(tf.keras.layers.MaxPool2D(pool_size=2, padding='valid'))\n",
        "\n",
        "# cnnf.add(tf.keras.layers.Conv2D(10, 3, activation='relu'))\n",
        "# cnnf.add(tf.keras.layers.MaxPool2D(2))\n",
        "\n",
        "# cnnf.add(tf.keras.layers.Conv2D(10, 3, activation='relu'))\n",
        "# cnnf.add(tf.keras.layers.MaxPool2D(2))\n",
        "\n",
        "# cnnf.add(tf.keras.layers.Conv2D(10, 3, activation='relu'))\n",
        "# cnnf.add(tf.keras.layers.MaxPool2D(2))\n",
        "\n",
        "# cnnf.add(tf.keras.layers.Flatten())\n",
        "# cnnf.add(tf.keras.layers.Dense(1, activation='sigmoid'))\n",
        "\n",
        "# cnnf.compile(loss='binary_crossentropy',\n",
        "#              optimizer=tf.keras.optimizers.Adam(learning_rate=0.001),\n",
        "#              metrics=['accuracy'])\n",
        "\n",
        "# hist_cnnf = cnnf.fit(dados_treino_expandidos,\n",
        "#                      epochs=10,\n",
        "#                      steps_per_epoch=len(dados_treino_expandidos),\n",
        "#                      validation_data=dados_teste_originais,\n",
        "#                      validation_steps=len(dados_teste_originais),\n",
        "#                      verbose=1)\n",
        "\n",
        "# cnnf.evaluate(dados_teste_originais)"
      ],
      "metadata": {
        "id": "eDQFWXttETFA"
      },
      "execution_count": null,
      "outputs": []
    },
    {
      "cell_type": "code",
      "source": [
        "# sns.lineplot(data=hist_cnnf.history['loss'], label='Perda no treinamento')\n",
        "# sns.lineplot(data=hist_cnnf.history['accuracy'], label='Precisão no treinamento')\n",
        "\n",
        "# sns.lineplot(data=hist_cnnf.history['val_loss'], label='Perda na validação')\n",
        "# sns.lineplot(data=hist_cnnf.history['val_accuracy'], label='Precisão na validação')\n",
        "\n",
        "# plt.title('Histórico de perda e precisão por iteração')\n",
        "# plt.xlabel('Iteração')\n",
        "# plt.ylabel('Perda / Precisão')\n",
        "\n",
        "# plt.legend(frameon=True, facecolor='white');"
      ],
      "metadata": {
        "id": "YDWdSvpJNNEs"
      },
      "execution_count": null,
      "outputs": []
    },
    {
      "cell_type": "markdown",
      "source": [
        "## Usando modelo aperfeiçoado para fazer previsões com novos dados (novas imagens)"
      ],
      "metadata": {
        "id": "kx2zTVVWNNti"
      }
    },
    {
      "cell_type": "code",
      "source": [
        "# novos_dados = ['https://www.alegretetudo.com.br/wp-content/uploads/2022/12/alegretetudo-piero-pizza-napoletana-uma-referencia-na-gastronomia-alegretense-piero-1.jpg',\n",
        "#                'https://p2.trrsf.com/image/fget/cf/774/0/images.terra.com/2022/06/02/279611433_1059421814647523_54491555537251263_n-s4p4togqup9g.jpg',\n",
        "#                'https://www.thedailymeal.com/img/gallery/the-best-flour-choice-for-a-homemade-neapolitan-pizza/l-intro-1673454821.jpg',\n",
        "#                'https://imageproxy.wolt.com/venue/6385a050b8f220e130ecd428/2369d9c8-81d3-11ed-9275-9259623c4ddd_p1016240.jpg',\n",
        "#                'https://duisktnou8b89.cloudfront.net/img/items/linha-economypizzas-grandes-8-pedacos6266efced8f32.jpg',\n",
        "#                'https://doordash-static.s3.amazonaws.com/media/store/header/e677ff3e-fe3e-4478-839d-543ce9f9f832.jpg',\n",
        "#                'https://natashaskitchen.com/wp-content/uploads/2020/03/Pan-Seared-Steak-4.jpg',\n",
        "#                'https://cdn.apartmenttherapy.info/image/upload/f_jpg,q_auto:eco,c_fill,g_auto,w_1500,ar_4:3/k%2Farchive%2F2816f86937ebc7019a513d858cec8e0c55d38890',\n",
        "#                'https://www.cookingclassy.com/wp-content/uploads/2022/07/grilled-steak-15.jpg',\n",
        "#                'https://img.hellofresh.com/f_auto,fl_lossy,q_auto,w_1200/hellofresh_s3/image/6243263a18a51738954a3a82-044a399e.jpg',\n",
        "#                'https://ichef.bbci.co.uk/food/ic/food_16x9_832/recipes/rib-eye_steak_with_61963_16x9.jpg',\n",
        "#                'https://whitneybond.com/wp-content/uploads/2021/06/steak-marinade-13.jpg']"
      ],
      "metadata": {
        "id": "F1hvoIfbgaiC"
      },
      "execution_count": null,
      "outputs": []
    },
    {
      "cell_type": "code",
      "source": [
        "# !wget '{random.choice(novos_dados)}' -O nova_imagem.jpg\n",
        "# pred_and_plot(cnnf, 'nova_imagem.jpg', rotulos)"
      ],
      "metadata": {
        "id": "dBFiQX6szidw"
      },
      "execution_count": null,
      "outputs": []
    },
    {
      "cell_type": "markdown",
      "source": [
        "## Multi-class Image Classification\n",
        "\n",
        "We've just been through a bunch of the following steps with a binary classification problem (pizza vs. steak), now we're going to step things up a notch with 10 classes of food (multi-class classification).\n",
        "\n",
        "1. Become one with the data\n",
        "2. Preprocess the data (get it ready for a model)\n",
        "3. Create a model (start with a baseline)\n",
        "4. Fit the model (overfit it to make sure it works)\n",
        "5. Evaluate the model\n",
        "6. Adjust differet hyperparameters and improve the model (try to beat baseline/reduce overfitting)\n",
        "7. Repeat until satisfied"
      ],
      "metadata": {
        "id": "-oYn1YgEzrZ3"
      }
    },
    {
      "cell_type": "markdown",
      "source": [
        "### 1. Become one with the data"
      ],
      "metadata": {
        "id": "vdpPBvgBSpF9"
      }
    },
    {
      "cell_type": "code",
      "source": [
        "# !wget https://storage.googleapis.com/ztm_tf_course/food_vision/10_food_classes_all_data.zip\n",
        "\n",
        "# zip_fc = zipfile.ZipFile('10_food_classes_all_data.zip')\n",
        "# zip_fc.extractall()\n",
        "# zip_fc.close()"
      ],
      "metadata": {
        "id": "cIPsOKU2TNbo",
        "colab": {
          "base_uri": "https://localhost:8080/"
        },
        "outputId": "830cf3f9-fccf-484c-c134-f140968670e8"
      },
      "execution_count": null,
      "outputs": [
        {
          "output_type": "stream",
          "name": "stdout",
          "text": [
            "--2023-01-21 14:13:53--  https://storage.googleapis.com/ztm_tf_course/food_vision/10_food_classes_all_data.zip\n",
            "Resolving storage.googleapis.com (storage.googleapis.com)... 142.250.125.128, 142.250.136.128, 142.250.148.128, ...\n",
            "Connecting to storage.googleapis.com (storage.googleapis.com)|142.250.125.128|:443... connected.\n",
            "HTTP request sent, awaiting response... 200 OK\n",
            "Length: 519183241 (495M) [application/zip]\n",
            "Saving to: ‘10_food_classes_all_data.zip’\n",
            "\n",
            "10_food_classes_all 100%[===================>] 495.13M  85.1MB/s    in 5.4s    \n",
            "\n",
            "2023-01-21 14:13:59 (91.8 MB/s) - ‘10_food_classes_all_data.zip’ saved [519183241/519183241]\n",
            "\n"
          ]
        }
      ]
    },
    {
      "cell_type": "code",
      "source": [
        "# for caminho, diretorios, arquivos in os.walk('10_food_classes_all_data'):\n",
        "#     print(f\"Há {len(diretorios)} diretórios e {len(arquivos)} imagens em '{caminho}'.\")"
      ],
      "metadata": {
        "id": "ewp1l4AbVybE"
      },
      "execution_count": null,
      "outputs": []
    },
    {
      "cell_type": "code",
      "source": [
        "# dir_treino = '10_food_classes_all_data/train'\n",
        "# dir_teste = '10_food_classes_all_data/test'"
      ],
      "metadata": {
        "id": "LhL96AWnnFqF"
      },
      "execution_count": null,
      "outputs": []
    },
    {
      "cell_type": "code",
      "source": [
        "# diretorio = pathlib.Path(dir_treino)\n",
        "# rotulos = np.array(sorted([item.name for item in diretorio.glob('*')]))\n",
        "\n",
        "# # rotulos"
      ],
      "metadata": {
        "id": "CDRUwFUdWL9e"
      },
      "execution_count": null,
      "outputs": []
    },
    {
      "cell_type": "code",
      "source": [
        "# imagem = visualizar_imagem_aleatoria(dir_treino, random.choice(rotulos))"
      ],
      "metadata": {
        "id": "AGqnjO72W2hQ"
      },
      "execution_count": null,
      "outputs": []
    },
    {
      "cell_type": "markdown",
      "source": [
        "### 2. Preprocess the data"
      ],
      "metadata": {
        "id": "tTaNa5bwS27s"
      }
    },
    {
      "cell_type": "code",
      "source": [
        "# # dg_treino = ImageDataGenerator(rescale=1./255)\n",
        "\n",
        "# # dados_treino = dg_treino.flow_from_directory(directory=dir_treino,\n",
        "# #                                              batch_size=32,\n",
        "# #                                              target_size=(224, 224),\n",
        "# #                                              class_mode='categorical',\n",
        "# #                                              seed=seed)\n",
        "\n",
        "# dg_teste = ImageDataGenerator(rescale=1./255)\n",
        "\n",
        "# dados_teste = dg_teste.flow_from_directory(directory=dir_teste,\n",
        "#                                            batch_size=32,\n",
        "#                                            target_size=(224, 224),\n",
        "#                                            class_mode='categorical',\n",
        "#                                            seed=seed)"
      ],
      "metadata": {
        "id": "DX4TsHkrTN2j",
        "colab": {
          "base_uri": "https://localhost:8080/"
        },
        "outputId": "8e1d3a2f-54a6-48d3-91db-fa2c45cd6ea5"
      },
      "execution_count": null,
      "outputs": [
        {
          "output_type": "stream",
          "name": "stdout",
          "text": [
            "Found 2500 images belonging to 10 classes.\n"
          ]
        }
      ]
    },
    {
      "cell_type": "markdown",
      "source": [
        "### 3. Create a model"
      ],
      "metadata": {
        "id": "be5hhMo4TBMT"
      }
    },
    {
      "cell_type": "code",
      "source": [
        "# cnnm = Sequential()\n",
        "\n",
        "# cnnm.add(Conv2D(10, 3, activation='relu', input_shape=(224, 224, 3)))\n",
        "# cnnm.add(Conv2D(10, 3, activation='relu'))\n",
        "# cnnm.add(MaxPool2D(2, padding='valid'))\n",
        "\n",
        "# cnnm.add(Conv2D(10, 3, activation='relu'))\n",
        "# cnnm.add(Conv2D(10, 3, activation='relu'))\n",
        "# cnnm.add(MaxPool2D(2))\n",
        "\n",
        "# cnnm.add(Flatten())\n",
        "# cnnm.add(Dense(len(rotulos), activation='softmax'))\n",
        "\n",
        "# cnnm.compile(loss='categorical_crossentropy',\n",
        "#              optimizer=Adam(),\n",
        "#              metrics=['accuracy'])"
      ],
      "metadata": {
        "id": "sqJGcELrTOGG"
      },
      "execution_count": null,
      "outputs": []
    },
    {
      "cell_type": "markdown",
      "source": [
        "### 4. Fit the model"
      ],
      "metadata": {
        "id": "I1YOpQJ3TDhr"
      }
    },
    {
      "cell_type": "code",
      "source": [
        "# hist_cnnm = cnnm.fit(dados_treino,\n",
        "#                      epochs=5,\n",
        "#                      steps_per_epoch=len(dados_treino),\n",
        "#                      validation_data=dados_teste,\n",
        "#                      validation_steps=len(dados_teste),\n",
        "#                      verbose=1)"
      ],
      "metadata": {
        "id": "-5vCEEYSTOWb"
      },
      "execution_count": null,
      "outputs": []
    },
    {
      "cell_type": "markdown",
      "source": [
        "### 5. Evaluate the model"
      ],
      "metadata": {
        "id": "-4ByQ_vqTFeL"
      }
    },
    {
      "cell_type": "code",
      "source": [
        "# cnnm.evaluate(dados_teste)"
      ],
      "metadata": {
        "id": "hHZW26xUTPRz"
      },
      "execution_count": null,
      "outputs": []
    },
    {
      "cell_type": "code",
      "source": [
        "# sns.lineplot(data=hist_cnnm.history['loss'], label='Perda no treinamento')\n",
        "# sns.lineplot(data=hist_cnnm.history['accuracy'], label='Precisão no treinamento')\n",
        "\n",
        "# sns.lineplot(data=hist_cnnm.history['val_loss'], label='Perda na validação')\n",
        "# sns.lineplot(data=hist_cnnm.history['val_accuracy'], label='Precisão na validação')\n",
        "\n",
        "# plt.title('Histórico de perda e precisão por iteração')\n",
        "# plt.xlabel('Iteração')\n",
        "# plt.ylabel('Perda / Precisão')\n",
        "\n",
        "# plt.legend(frameon=True, facecolor='white');"
      ],
      "metadata": {
        "id": "iTuooJf3uE1w"
      },
      "execution_count": null,
      "outputs": []
    },
    {
      "cell_type": "markdown",
      "source": [
        "### 6. Adjust differet hyperparameters and improve the model"
      ],
      "metadata": {
        "id": "Fu7Rx9FXTICb"
      }
    },
    {
      "cell_type": "markdown",
      "source": [
        "#### Expandir dados"
      ],
      "metadata": {
        "id": "98Q30UDXwnWI"
      }
    },
    {
      "cell_type": "code",
      "source": [
        "# dg_treino_expandido = ImageDataGenerator(rescale=1./255,\n",
        "#                                          rotation_range=0.2,\n",
        "#                                          shear_range=0.2,\n",
        "#                                          zoom_range=0.2,\n",
        "#                                          horizontal_flip=True)\n",
        "\n",
        "# dados_treino_expandidos = dg_treino_expandido.flow_from_directory(directory=dir_treino,\n",
        "#                                                                   batch_size=32,\n",
        "#                                                                   target_size=(224, 224),\n",
        "#                                                                   class_mode='categorical',\n",
        "#                                                                   seed=seed)"
      ],
      "metadata": {
        "id": "Y7PealMgwvwm",
        "colab": {
          "base_uri": "https://localhost:8080/"
        },
        "outputId": "05e28719-d714-4fc8-e9b2-894632698255"
      },
      "execution_count": null,
      "outputs": [
        {
          "output_type": "stream",
          "name": "stdout",
          "text": [
            "Found 7500 images belonging to 10 classes.\n"
          ]
        }
      ]
    },
    {
      "cell_type": "markdown",
      "source": [
        "#### Modelo expandido"
      ],
      "metadata": {
        "id": "MSXiWAndTO6C"
      }
    },
    {
      "cell_type": "code",
      "source": [
        "# cnnme = Sequential()\n",
        "\n",
        "# cnnme.add(Conv2D(10, 3, activation='relu', input_shape=(224, 224, 3)))\n",
        "# cnnme.add(MaxPool2D(2, padding='valid'))\n",
        "\n",
        "# cnnme.add(Conv2D(10, 3, activation='relu'))\n",
        "# cnnme.add(MaxPool2D(2))\n",
        "\n",
        "# cnnme.add(Conv2D(10, 3, activation='relu'))\n",
        "# cnnme.add(MaxPool2D(2))\n",
        "\n",
        "# cnnme.add(Conv2D(10, 3, activation='relu'))\n",
        "# cnnme.add(MaxPool2D(2))\n",
        "\n",
        "# cnnme.add(Flatten())\n",
        "# cnnme.add(Dense(len(rotulos), activation='softmax'))\n",
        "\n",
        "# cnnme.compile(loss='categorical_crossentropy',\n",
        "#               optimizer=Adam(learning_rate=0.001),\n",
        "#               metrics=['accuracy'])\n",
        "\n",
        "# hist_cnnme = cnnme.fit(dados_treino_expandidos,\n",
        "#                        epochs=15,\n",
        "#                        steps_per_epoch=len(dados_treino_expandidos),\n",
        "#                        validation_data=dados_teste,\n",
        "#                        validation_steps=len(dados_teste),\n",
        "#                        verbose=1)"
      ],
      "metadata": {
        "id": "nJ-NGRKtuZzY",
        "colab": {
          "base_uri": "https://localhost:8080/"
        },
        "outputId": "9bfe9d8c-57de-47b8-b488-6d392ccdb916"
      },
      "execution_count": null,
      "outputs": [
        {
          "output_type": "stream",
          "name": "stdout",
          "text": [
            "Epoch 1/15\n",
            "235/235 [==============================] - 339s 1s/step - loss: 2.1699 - accuracy: 0.2015 - val_loss: 2.0017 - val_accuracy: 0.2936\n",
            "Epoch 2/15\n",
            "235/235 [==============================] - 340s 1s/step - loss: 1.9905 - accuracy: 0.2947 - val_loss: 1.9131 - val_accuracy: 0.3232\n",
            "Epoch 3/15\n",
            "235/235 [==============================] - 338s 1s/step - loss: 1.9328 - accuracy: 0.3187 - val_loss: 1.8745 - val_accuracy: 0.3388\n",
            "Epoch 4/15\n",
            "235/235 [==============================] - 336s 1s/step - loss: 1.8976 - accuracy: 0.3337 - val_loss: 1.8615 - val_accuracy: 0.3360\n",
            "Epoch 5/15\n",
            "235/235 [==============================] - 336s 1s/step - loss: 1.8438 - accuracy: 0.3600 - val_loss: 1.8513 - val_accuracy: 0.3424\n",
            "Epoch 6/15\n",
            "235/235 [==============================] - 342s 1s/step - loss: 1.8166 - accuracy: 0.3783 - val_loss: 1.7715 - val_accuracy: 0.3880\n",
            "Epoch 7/15\n",
            "235/235 [==============================] - 335s 1s/step - loss: 1.7906 - accuracy: 0.3805 - val_loss: 1.7656 - val_accuracy: 0.3920\n",
            "Epoch 8/15\n",
            "235/235 [==============================] - 335s 1s/step - loss: 1.7569 - accuracy: 0.3911 - val_loss: 1.7744 - val_accuracy: 0.3832\n",
            "Epoch 9/15\n",
            "235/235 [==============================] - 334s 1s/step - loss: 1.7372 - accuracy: 0.4085 - val_loss: 1.7542 - val_accuracy: 0.3944\n",
            "Epoch 10/15\n",
            "235/235 [==============================] - 334s 1s/step - loss: 1.7186 - accuracy: 0.4120 - val_loss: 1.7005 - val_accuracy: 0.4192\n",
            "Epoch 11/15\n",
            "235/235 [==============================] - 334s 1s/step - loss: 1.6918 - accuracy: 0.4212 - val_loss: 1.7039 - val_accuracy: 0.4032\n",
            "Epoch 12/15\n",
            "235/235 [==============================] - 346s 1s/step - loss: 1.6655 - accuracy: 0.4340 - val_loss: 1.6792 - val_accuracy: 0.4200\n",
            "Epoch 13/15\n",
            "235/235 [==============================] - 341s 1s/step - loss: 1.6552 - accuracy: 0.4391 - val_loss: 1.6584 - val_accuracy: 0.4384\n",
            "Epoch 14/15\n",
            "235/235 [==============================] - 340s 1s/step - loss: 1.6424 - accuracy: 0.4456 - val_loss: 1.6475 - val_accuracy: 0.4456\n",
            "Epoch 15/15\n",
            "235/235 [==============================] - 333s 1s/step - loss: 1.6176 - accuracy: 0.4479 - val_loss: 1.6318 - val_accuracy: 0.4488\n"
          ]
        }
      ]
    },
    {
      "cell_type": "code",
      "source": [
        "# sns.lineplot(data=hist_cnnme.history['loss'], label='Perda no treinamento')\n",
        "# sns.lineplot(data=hist_cnnme.history['accuracy'], label='Precisão no treinamento')\n",
        "\n",
        "# sns.lineplot(data=hist_cnnme.history['val_loss'], label='Perda na validação')\n",
        "# sns.lineplot(data=hist_cnnme.history['val_accuracy'], label='Precisão na validação')\n",
        "\n",
        "# plt.title('Histórico de perda e precisão por iteração')\n",
        "# plt.xlabel('Iteração')\n",
        "# plt.ylabel('Perda / Precisão')\n",
        "\n",
        "# plt.legend(frameon=True, facecolor='white');"
      ],
      "metadata": {
        "id": "cXctsHv9wFiw",
        "colab": {
          "base_uri": "https://localhost:8080/",
          "height": 473
        },
        "outputId": "2027339d-af06-40c0-b18e-25c2282eecc0"
      },
      "execution_count": null,
      "outputs": [
        {
          "output_type": "display_data",
          "data": {
            "text/plain": [
              "<Figure size 800x500 with 1 Axes>"
            ],
            "image/png": "[encoded data removed]"
          },
          "metadata": {}
        }
      ]
    },
    {
      "cell_type": "markdown",
      "source": [
        "## Salvar o modelo"
      ],
      "metadata": {
        "id": "1pObw-e6Lmc1"
      }
    },
    {
      "cell_type": "code",
      "source": [
        "# Formato HDF5\n",
        "# cnnme.save('modelo_cnnme_HDF5.h5')"
      ],
      "metadata": {
        "id": "a-p_ofujlLQy"
      },
      "execution_count": null,
      "outputs": []
    },
    {
      "cell_type": "markdown",
      "source": [
        "## Novos dados (novas imagens)"
      ],
      "metadata": {
        "id": "FI2mqOuuTJsL"
      }
    },
    {
      "cell_type": "markdown",
      "source": [
        "### Carregar modelo"
      ],
      "metadata": {
        "id": "dePoaTW22bF-"
      }
    },
    {
      "cell_type": "code",
      "source": [
        "cnnme = tf.keras.models.load_model('modelo_cnnme_HDF5.h5')\n",
        "\n",
        "rotulos = np.array(['chicken_curry', 'chicken_wings', 'fried_rice', 'grilled_salmon', 'hamburger', 'ice_cream', 'pizza', 'ramen', 'steak', 'sushi'])"
      ],
      "metadata": {
        "id": "YoZqe3Wc2c1o"
      },
      "execution_count": null,
      "outputs": []
    },
    {
      "cell_type": "markdown",
      "source": [
        "### Testar modelo"
      ],
      "metadata": {
        "id": "ORVdNkP42dvC"
      }
    },
    {
      "cell_type": "code",
      "source": [
        "novos_dados = ['https://www.alegretetudo.com.br/wp-content/uploads/2022/12/alegretetudo-piero-pizza-napoletana-uma-referencia-na-gastronomia-alegretense-piero-1.jpg',\n",
        "               'https://www.thedailymeal.com/img/gallery/the-best-flour-choice-for-a-homemade-neapolitan-pizza/l-intro-1673454821.jpg',\n",
        "               'https://doordash-static.s3.amazonaws.com/media/store/header/e677ff3e-fe3e-4478-839d-543ce9f9f832.jpg',\n",
        "               'https://natashaskitchen.com/wp-content/uploads/2020/03/Pan-Seared-Steak-4.jpg',\n",
        "               'https://img.hellofresh.com/f_auto,fl_lossy,q_auto,w_1200/hellofresh_s3/image/6243263a18a51738954a3a82-044a399e.jpg',\n",
        "               'https://whitneybond.com/wp-content/uploads/2021/06/steak-marinade-13.jpg',\n",
        "               'https://www.cookingclassy.com/wp-content/uploads/2018/08/chicken-curry-11.jpg',\n",
        "               'https://www.licious.in/blog/wp-content/uploads/2020/12/Chicken-Curry-recipe.jpg',\n",
        "               'https://savvybites.co.uk/wp-content/uploads/2020/10/Coconut-Chicken-Curry-4-of-5.jpg',\n",
        "               'https://www.seriouseats.com/thmb/zNzv_FjRF4hEbpawVKJDC-JU0g8=/1500x0/filters:no_upscale():max_bytes(150000):strip_icc()/the-best-buffalo-wings-oven-fried-wings-recipe-hero-dcc412b6e26444b4a2112d4402f039ae.JPG',\n",
        "               'https://mccormick.widen.net/content/n0phdkxdlp/jpeg/Franks_RedHot_Buffalo_Chicken_Wings.jpg',\n",
        "               'https://www.foodandwine.com/thmb/YqtSpajmztyHG1tWz3VlGj6MT_o=/1500x0/filters:no_upscale():max_bytes(150000):strip_icc()/Buffalo-Wings-Recipe-FT-BLOG1222-26e07fdb9aec4afe8d4bc39ea331c753.jpg',\n",
        "               'https://www.allrecipes.com/thmb/WAaJX7ghFAiGjU3WGRmRC424exA=/1500x0/filters:no_upscale():max_bytes(150000):strip_icc()/6751001-egg-fried-rice-Mariya-Tkachenko-4x3-1-0a5504e18cea49c2bf4419799bd50ad9.jpg',\n",
        "               'https://www.indianhealthyrecipes.com/wp-content/uploads/2020/12/fried-rice.jpg',\n",
        "               'https://images.squarespace-cdn.com/content/v1/5ed666a6924cd0017d343b01/1593466464958-HD61RC4NOR0G4Q6FIP7W/bite-me-more-apple-vegetable-fried-rice-recipe.jpg',\n",
        "               'https://www.acouplecooks.com/wp-content/uploads/2020/05/Grilled-Salmon-015-1.jpg',\n",
        "               'https://hips.hearstapps.com/hmg-prod/images/how-to-grill-salmon-recipe1-1655870645.jpg',\n",
        "               'https://images-gmi-pmc.edge-generalmills.com/7f4554ba-8c3b-483f-ab26-7e2235343c73.jpg',\n",
        "               'https://assets.epicurious.com/photos/57c5c6d9cf9e9ad43de2d96e/1:1/w_2560%2Cc_limit/the-ultimate-hamburger.jpg',\n",
        "               'https://assets.biggreenegg.eu/app/uploads/2019/03/28145521/topimage-classic-hamburger-2019m04-800x534-600x401.jpg',\n",
        "               'https://www.thecountrycook.net/wp-content/uploads/2011/03/thumbnail-Homemade-Freddys-Steakburger-Cheeseburgers-scaled.jpg',\n",
        "               'https://upload.wikimedia.org/wikipedia/commons/d/da/Strawberry_ice_cream_cone_%285076899310%29.jpg',\n",
        "               'https://img.etimg.com/thumb/width-1200,height-900,imgsize-381352,resizemode-1,msid-84939728/magazines/panache/from-the-us-russia-to-india-an-ice-cream-bowl-has-a-long-political-history.jpg',\n",
        "               'https://i.pinimg.com/originals/97/15/62/971562a8ea05473cb1d3daa5e4b85b6d.jpg',\n",
        "               'https://www.pacificfoods.com/wp-content/uploads/2022/08/SP_Recipes_0002_Ramen.jpg',\n",
        "               'https://hips.hearstapps.com/hmg-prod/images/190208-delish-ramen-horizontal-093-1550096715.jpg',\n",
        "               'https://i0.wp.com/seonkyounglongest.com/wp-content/uploads/2018/04/shoyu-ramen-1.jpg',\n",
        "               'https://t1.uc.ltmcdn.com/pt/posts/2/0/3/como_fazer_sushi_delicioso_10302_orig.jpg',\n",
        "               'https://xtudoreceitas.com/wp-content/uploads/Sushi.jpg',\n",
        "               'https://cdn.britannica.com/52/128652-050-14AD19CA/Maki-zushi.jpg']"
      ],
      "metadata": {
        "id": "jiUPwdHTTLOE"
      },
      "execution_count": null,
      "outputs": []
    },
    {
      "cell_type": "code",
      "source": [
        "# !wget '{random.choice(novos_dados)}' -O nova_imagem.jpg\n",
        "# pred_and_plot(cnnme, 'nova_imagem.jpg', rotulos)"
      ],
      "metadata": {
        "id": "Lz84Dn9I9g-8"
      },
      "execution_count": null,
      "outputs": []
    },
    {
      "cell_type": "code",
      "source": [
        "for nd in novos_dados:\n",
        "    !wget '{nd}' -O nova_imagem.jpg\n",
        "    pred_and_plot(cnnme, 'nova_imagem.jpg', rotulos)"
      ],
      "metadata": {
        "id": "UJgobQPwB-Gl"
      },
      "execution_count": null,
      "outputs": []
    },
    {
      "cell_type": "code",
      "source": [],
      "metadata": {
        "id": "M-SZZkCuliCL"
      },
      "execution_count": null,
      "outputs": []
    }
  ]
}