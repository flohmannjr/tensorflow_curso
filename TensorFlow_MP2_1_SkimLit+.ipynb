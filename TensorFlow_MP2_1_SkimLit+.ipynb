{
  "nbformat": 4,
  "nbformat_minor": 0,
  "metadata": {
    "colab": {
      "provenance": [],
      "toc_visible": true,
      "authorship_tag": "ABX9TyOhFv3mT4gc3uL9jqcqNud6",
      "include_colab_link": true
    },
    "kernelspec": {
      "name": "python3",
      "display_name": "Python 3"
    },
    "language_info": {
      "name": "python"
    },
    "gpuClass": "standard",
    "accelerator": "GPU"
  },
  "cells": [
    {
      "cell_type": "markdown",
      "metadata": {
        "id": "view-in-github",
        "colab_type": "text"
      },
      "source": [
        "<a href=\"https://colab.research.google.com/github/flohmannjr/tensorflow_curso/blob/main/TensorFlow_MP2_1_SkimLit%2B.ipynb\" target=\"_parent\"><img src=\"https://colab.research.google.com/assets/colab-badge.svg\" alt=\"Open In Colab\"/></a>"
      ]
    },
    {
      "cell_type": "markdown",
      "source": [
        "#Milestone Project 2.1: SkimLit+"
      ],
      "metadata": {
        "id": "ym_83ON7bfRW"
      }
    },
    {
      "cell_type": "markdown",
      "source": [
        "Esta é a continuidade do projeto SkimLit, segundo milestone project do curso TensorFlow Developer Certificate in 2023: Zero to Mastery. https://www.udemy.com/share/104ssS3@m--2vC9jNX6kIapUf0IUOOxnuj8_1SisbHiZTsJDQ5z2toWaLfaenc4bvZ4i2Yd5/"
      ],
      "metadata": {
        "id": "HE2o9-n-Uqpm"
      }
    },
    {
      "cell_type": "markdown",
      "source": [
        "# Importações"
      ],
      "metadata": {
        "id": "ZRx1Qbr9bQ85"
      }
    },
    {
      "cell_type": "code",
      "source": [
        "import tensorflow as tf\n",
        "import tensorflow_hub as hub\n",
        "\n",
        "import numpy as np\n",
        "import pandas as pd\n",
        "import matplotlib.pyplot as plt\n",
        "import seaborn as sns\n",
        "\n",
        "from tensorflow.data import AUTOTUNE, Dataset\n",
        "from tensorflow.keras import Model\n",
        "from tensorflow.keras.layers import Bidirectional, Concatenate, Dense, Dropout, Embedding, Input, LSTM, TextVectorization\n",
        "from tensorflow.keras.losses import CategoricalCrossentropy\n",
        "from tensorflow.keras.optimizers import Adam, SGD\n",
        "from tensorflow.keras.utils import plot_model\n",
        "\n",
        "from sklearn.preprocessing import LabelEncoder, OneHotEncoder"
      ],
      "metadata": {
        "id": "WJhI_c3LVUw7"
      },
      "execution_count": null,
      "outputs": []
    },
    {
      "cell_type": "markdown",
      "source": [
        "# Configurações, constantes e variáveis globais"
      ],
      "metadata": {
        "id": "4rMYPNLEVUuH"
      }
    },
    {
      "cell_type": "code",
      "source": [
        "plt.rcParams['figure.figsize'] = [8, 5]\n",
        "plt.rcParams['figure.dpi'] = 100\n",
        "\n",
        "plt.style.use('seaborn-darkgrid')\n",
        "\n",
        "COR = '#007f66'\n",
        "\n",
        "DIRETORIO = '/content/pubmed-rct/PubMed_20k_RCT_numbers_replaced_with_at_sign'\n",
        "\n",
        "LIMITE_DICIONARIO = 68000\n",
        "LIMITE_CARACTERES = 80\n",
        "\n",
        "LIMITE_INCORPORADOR = 300\n",
        "LIMITE_INCORPORADOR_CARACTERES = 25\n",
        "LIMITE_VETOR_TEXTO = 100\n",
        "\n",
        "LOTE_TAMANHO = 32\n",
        "\n",
        "ENTRADA_FORMATO = (1,)\n",
        "ENTRADA_TIPO = tf.string\n",
        "\n",
        "ATIVACAO_CNN = 'relu'\n",
        "ATIVACAO_RNN = 'tanh'\n",
        "ATIVACAO_SAIDA = 'softmax'\n",
        "\n",
        "SUAVIZACAO = 0.2\n",
        "APRENDIZADO = 0.001\n",
        "METRICAS = ['accuracy']\n",
        "\n",
        "ITERACOES = 3\n",
        "\n",
        "avaliacoes = [None] * 6"
      ],
      "metadata": {
        "id": "q2vvRySpVUrG"
      },
      "execution_count": null,
      "outputs": []
    },
    {
      "cell_type": "markdown",
      "source": [
        "# Funções"
      ],
      "metadata": {
        "id": "4rM95o2VYW9r"
      }
    },
    {
      "cell_type": "code",
      "source": [
        "!wget https://raw.githubusercontent.com/flohmannjr/tensorflow_curso/main/funcoes.py"
      ],
      "metadata": {
        "id": "e0s3fvYaYZvY"
      },
      "execution_count": null,
      "outputs": []
    },
    {
      "cell_type": "code",
      "source": [
        "from funcoes import avaliar_modelo, grafico_historico_por_iteracao, preprocessar_texto"
      ],
      "metadata": {
        "id": "4Uc-_QZxYeHA"
      },
      "execution_count": null,
      "outputs": []
    },
    {
      "cell_type": "markdown",
      "source": [
        "# Dados"
      ],
      "metadata": {
        "id": "VaNG5j60VUlL"
      }
    },
    {
      "cell_type": "code",
      "source": [
        "!git clone https://github.com/Franck-Dernoncourt/pubmed-rct.git"
      ],
      "metadata": {
        "id": "jXI5bG6UVQkP"
      },
      "execution_count": null,
      "outputs": []
    },
    {
      "cell_type": "code",
      "source": [
        "df_treino    = pd.DataFrame(preprocessar_texto(f'{DIRETORIO}/train.txt'))\n",
        "df_validacao = pd.DataFrame(preprocessar_texto(f'{DIRETORIO}/dev.txt'))\n",
        "\n",
        "codificador_onehot = OneHotEncoder(sparse=False)\n",
        "\n",
        "rotulos_onehot_treino    = codificador_onehot.fit_transform(df_treino['classe'].to_numpy().reshape(-1, 1))\n",
        "rotulos_onehot_validacao = codificador_onehot.transform(df_validacao['classe'].to_numpy().reshape(-1, 1))\n",
        "\n",
        "codificador_int = LabelEncoder()\n",
        "\n",
        "rotulos_int_treino    = codificador_int.fit_transform(df_treino['classe'].to_numpy())\n",
        "rotulos_int_validacao = codificador_int.transform(df_validacao['classe'].to_numpy())\n",
        "\n",
        "classes = codificador_int.classes_\n",
        "\n",
        "palavras_por_texto_98   = int(np.percentile([len(texto.split()) for texto in df_treino['texto']], 98))\n",
        "caracteres_por_texto_98 = int(np.percentile([len(texto) for texto in df_treino['texto']], 98))\n",
        "\n",
        "lista_caracteres_treino    = [\" \".join(list(texto)) for texto in df_treino['texto']]\n",
        "lista_caracteres_validacao = [\" \".join(list(texto)) for texto in df_validacao['texto']]\n",
        "\n",
        "numero_linha_98 = int(np.percentile(df_treino['numero'], 98))\n",
        "\n",
        "linhas_numero_onehot_treino    = tf.one_hot(df_treino['numero'], depth=numero_linha_98)\n",
        "linhas_numero_onehot_validacao = tf.one_hot(df_validacao['numero'], depth=numero_linha_98)\n",
        "\n",
        "total_linhas_98 = int(np.percentile(df_treino['total'], 98))\n",
        "\n",
        "linhas_total_onehot_treino    = tf.one_hot(df_treino['total'], depth=total_linhas_98)\n",
        "linhas_total_onehot_validacao = tf.one_hot(df_validacao['total'], depth=total_linhas_98)\n",
        "\n",
        "dados_hibridos_linhas_treino_textos  = Dataset.from_tensor_slices((df_treino['texto'], lista_caracteres_treino, linhas_numero_onehot_treino, linhas_total_onehot_treino))\n",
        "dados_hibridos_linhas_treino_rotulos = Dataset.from_tensor_slices(rotulos_onehot_treino)\n",
        "dados_hibridos_linhas_treino         = Dataset.zip((dados_hibridos_linhas_treino_textos, dados_hibridos_linhas_treino_rotulos))\n",
        "dados_hibridos_linhas_treino         = dados_hibridos_linhas_treino.batch(LOTE_TAMANHO).prefetch(AUTOTUNE)\n",
        "\n",
        "dados_hibridos_linhas_validacao_textos  = Dataset.from_tensor_slices((df_validacao['texto'], lista_caracteres_validacao, linhas_numero_onehot_validacao, linhas_total_onehot_validacao))\n",
        "dados_hibridos_linhas_validacao_rotulos = Dataset.from_tensor_slices(rotulos_onehot_validacao)\n",
        "dados_hibridos_linhas_validacao         = Dataset.zip((dados_hibridos_linhas_validacao_textos, dados_hibridos_linhas_validacao_rotulos))\n",
        "dados_hibridos_linhas_validacao         = dados_hibridos_linhas_validacao.batch(LOTE_TAMANHO).prefetch(AUTOTUNE)"
      ],
      "metadata": {
        "id": "e-NI2TH_cx2S"
      },
      "execution_count": null,
      "outputs": []
    },
    {
      "cell_type": "markdown",
      "source": [
        "# Camadas auxiliares"
      ],
      "metadata": {
        "id": "OeCPbTT6ahqb"
      }
    },
    {
      "cell_type": "code",
      "source": [
        "vetorizador_palavras = TextVectorization(max_tokens=LIMITE_DICIONARIO,\n",
        "                                         output_mode='int',\n",
        "                                         output_sequence_length=palavras_por_texto_98,\n",
        "                                         name='vetorizador_palavras')\n",
        "\n",
        "vetorizador_palavras.adapt(df_treino['texto'])\n",
        "\n",
        "vocabulario_palavras = vetorizador_palavras.get_vocabulary()\n",
        "\n",
        "incorporador_palavras = Embedding(input_dim=len(vocabulario_palavras),\n",
        "                                  output_dim=LIMITE_INCORPORADOR,\n",
        "                                  mask_zero=True,\n",
        "                                  input_length=palavras_por_texto_98,\n",
        "                                  name='incorporador_palavras')\n",
        "\n",
        "vetorizador_caracteres = TextVectorization(max_tokens=LIMITE_CARACTERES,\n",
        "                                           output_mode='int',\n",
        "                                           output_sequence_length=caracteres_por_texto_98,\n",
        "                                           name='vetorizador_caracteres')\n",
        "\n",
        "vetorizador_caracteres.adapt(lista_caracteres_treino)\n",
        "\n",
        "vocabulario_caracteres = vetorizador_caracteres.get_vocabulary()\n",
        "\n",
        "incorporador_caracteres = Embedding(input_dim=len(vocabulario_caracteres),\n",
        "                                    output_dim=LIMITE_INCORPORADOR_CARACTERES,\n",
        "                                    mask_zero=True,\n",
        "                                    input_length=caracteres_por_texto_98,\n",
        "                                    name='incorporador_caracteres')\n",
        "\n",
        "incorporador_use = hub.KerasLayer(handle='https://tfhub.dev/google/universal-sentence-encoder/4',\n",
        "                                  trainable=False,\n",
        "                                  name='incorporador_use')"
      ],
      "metadata": {
        "id": "IhXCoZVnalMA"
      },
      "execution_count": null,
      "outputs": []
    },
    {
      "cell_type": "markdown",
      "source": [
        "# Modelo 0: Modelo 5 do projeto original"
      ],
      "metadata": {
        "id": "vcfgCjPJVEUX"
      }
    },
    {
      "cell_type": "markdown",
      "source": [
        "## Modelo com incorporação de palavras"
      ],
      "metadata": {
        "id": "nqBgr8JO1GwQ"
      }
    },
    {
      "cell_type": "code",
      "source": [
        "modelo_nome = 'modelo_incorporacao_palavras'\n",
        "\n",
        "entradas = Input(shape=[], dtype=ENTRADA_TIPO, name='camada_entrada_palavras')\n",
        "\n",
        "incorporador_hub = incorporador_use(entradas)\n",
        "\n",
        "saidas = Dense(LIMITE_INCORPORADOR, activation=ATIVACAO_CNN, name='camada_relu_palavras')(incorporador_hub)\n",
        "\n",
        "modelo_incorporacao_palavras = Model(inputs=entradas, outputs=saidas, name=modelo_nome)"
      ],
      "metadata": {
        "id": "PUEkkUvG1GwQ"
      },
      "execution_count": null,
      "outputs": []
    },
    {
      "cell_type": "markdown",
      "source": [
        "## Modelo com incorporação de caracteres"
      ],
      "metadata": {
        "id": "YggWbgD_1GwR"
      }
    },
    {
      "cell_type": "code",
      "source": [
        "modelo_nome = 'modelo_incorporacao_caracteres'\n",
        "\n",
        "entradas = Input(shape=ENTRADA_FORMATO, dtype=ENTRADA_TIPO, name='camada_entrada_caracteres')\n",
        "\n",
        "camadas = vetorizador_caracteres(entradas)\n",
        "camadas = incorporador_caracteres(camadas)\n",
        "\n",
        "saidas = Bidirectional(layer=LSTM(units=LIMITE_INCORPORADOR_CARACTERES, activation=ATIVACAO_RNN), name='camada_bi_lstm_caracteres')(camadas)\n",
        "\n",
        "modelo_incorporacao_caracteres = Model(inputs=entradas, outputs=saidas, name=modelo_nome)"
      ],
      "metadata": {
        "id": "yQPddG291GwR"
      },
      "execution_count": null,
      "outputs": []
    },
    {
      "cell_type": "markdown",
      "source": [
        "## Combinação dos modelos de incorporação"
      ],
      "metadata": {
        "id": "DBmp9kEc2KGN"
      }
    },
    {
      "cell_type": "code",
      "source": [
        "combinacao_incorporacao = Concatenate(name=\"camada_combinacao_incorporacao\")([modelo_incorporacao_palavras.output,\n",
        "                                                                              modelo_incorporacao_caracteres.output])"
      ],
      "metadata": {
        "id": "kgVE8BeU2KGN"
      },
      "execution_count": null,
      "outputs": []
    },
    {
      "cell_type": "markdown",
      "source": [
        "## Camadas de abandono"
      ],
      "metadata": {
        "id": "hcZr64H9703q"
      }
    },
    {
      "cell_type": "code",
      "source": [
        "abandonos_incorporacao = Dense(LIMITE_VETOR_TEXTO * 2, activation=ATIVACAO_CNN, name='camada_abandonos_incorporacao_relu')(combinacao_incorporacao)\n",
        "abandonos_incorporacao = Dropout(rate=0.5, name='camada_abandonos_incorporacao')(abandonos_incorporacao)"
      ],
      "metadata": {
        "id": "xUvZpcjR72Qp"
      },
      "execution_count": null,
      "outputs": []
    },
    {
      "cell_type": "markdown",
      "source": [
        "## Modelo para o número de linhas"
      ],
      "metadata": {
        "id": "V3QJkRbA1bYr"
      }
    },
    {
      "cell_type": "code",
      "source": [
        "modelo_nome = 'modelo_numero_linhas'\n",
        "\n",
        "entradas = Input(shape=(numero_linha_98,), dtype=linhas_numero_onehot_treino.dtype, name='camada_entrada_numero_linhas')\n",
        "\n",
        "saidas = Dense(numero_linha_98 * 2, activation=ATIVACAO_CNN, name='camada_relu_numero_linhas')(entradas)\n",
        "\n",
        "modelo_numero_linhas = Model(inputs=entradas, outputs=saidas, name=modelo_nome)"
      ],
      "metadata": {
        "id": "oBav4KCW1it6"
      },
      "execution_count": null,
      "outputs": []
    },
    {
      "cell_type": "markdown",
      "source": [
        "## Modelo para o total de linhas"
      ],
      "metadata": {
        "id": "Eggj4sYE1fkr"
      }
    },
    {
      "cell_type": "code",
      "source": [
        "modelo_nome = 'modelo_total_linhas'\n",
        "\n",
        "entradas = Input(shape=(total_linhas_98,), dtype=linhas_total_onehot_treino.dtype, name='camada_entrada_total_linhas')\n",
        "\n",
        "saidas = Dense(total_linhas_98 * 2, activation=ATIVACAO_CNN, name='camada_relu_total_linhas')(entradas)\n",
        "\n",
        "modelo_total_linhas = Model(inputs=entradas, outputs=saidas, name=modelo_nome)"
      ],
      "metadata": {
        "id": "LdlgHcRG1h9D"
      },
      "execution_count": null,
      "outputs": []
    },
    {
      "cell_type": "markdown",
      "source": [
        "## Combinação dos modelos de incorporação e linhas"
      ],
      "metadata": {
        "id": "AcRyAphB1GwR"
      }
    },
    {
      "cell_type": "code",
      "source": [
        "combinacao_linhas = Concatenate(name=\"camada_combinacao_linhas\")([abandonos_incorporacao,\n",
        "                                                                  modelo_numero_linhas.output,\n",
        "                                                                  modelo_total_linhas.output])"
      ],
      "metadata": {
        "id": "sVXgW62r1GwR"
      },
      "execution_count": null,
      "outputs": []
    },
    {
      "cell_type": "markdown",
      "source": [
        "## Camadas de abandono e saída"
      ],
      "metadata": {
        "id": "otNMlC-C1GwR"
      }
    },
    {
      "cell_type": "code",
      "source": [
        "abandonos_linhas = Dense(LIMITE_VETOR_TEXTO * 2, activation=ATIVACAO_CNN, name='camada_abandonos_linhas_relu')(combinacao_linhas)\n",
        "abandonos_linhas = Dropout(rate=0.5, name='camada_abandonos_linhas')(abandonos_linhas)\n",
        "\n",
        "saidas = Dense(len(classes), activation=ATIVACAO_SAIDA, name='camada_saida')(abandonos_linhas)"
      ],
      "metadata": {
        "id": "Laz3vRkw1GwR"
      },
      "execution_count": null,
      "outputs": []
    },
    {
      "cell_type": "markdown",
      "source": [
        "## Modelo com incorporação híbrida e linhas"
      ],
      "metadata": {
        "id": "V534sJFN1GwR"
      }
    },
    {
      "cell_type": "code",
      "source": [
        "modelo_nome = 'modelo_0_modelo_5_original'\n",
        "\n",
        "modelo = Model(inputs=[modelo_incorporacao_palavras.input,\n",
        "                       modelo_incorporacao_caracteres.input,\n",
        "                       modelo_numero_linhas.input,\n",
        "                       modelo_total_linhas.input],\n",
        "               outputs=saidas,\n",
        "               name=modelo_nome)"
      ],
      "metadata": {
        "id": "vTPCFsNV1GwR"
      },
      "execution_count": null,
      "outputs": []
    },
    {
      "cell_type": "markdown",
      "source": [
        "## Verificação do modelo"
      ],
      "metadata": {
        "id": "fqsVegs81GwS"
      }
    },
    {
      "cell_type": "code",
      "source": [
        "modelo.summary()"
      ],
      "metadata": {
        "id": "juCHvx5y1GwS"
      },
      "execution_count": null,
      "outputs": []
    },
    {
      "cell_type": "code",
      "source": [
        "plot_model(modelo, show_shapes=True)"
      ],
      "metadata": {
        "id": "f9XKvJ061GwS"
      },
      "execution_count": null,
      "outputs": []
    },
    {
      "cell_type": "markdown",
      "source": [
        "## Compilação com suavização de rótulo"
      ],
      "metadata": {
        "id": "kvaaKxJegcMy"
      }
    },
    {
      "cell_type": "code",
      "source": [
        "modelo.compile(loss=CategoricalCrossentropy(label_smoothing=SUAVIZACAO),\n",
        "               optimizer=Adam(learning_rate=APRENDIZADO),\n",
        "               metrics=METRICAS)"
      ],
      "metadata": {
        "id": "OgEY8WBNgpD9"
      },
      "execution_count": null,
      "outputs": []
    },
    {
      "cell_type": "markdown",
      "source": [
        "## Finalização do modelo"
      ],
      "metadata": {
        "id": "HScHZLhE1GwS"
      }
    },
    {
      "cell_type": "code",
      "source": [
        "historico = modelo.fit(dados_hibridos_linhas_treino,\n",
        "                       epochs=ITERACOES,\n",
        "                       validation_data=dados_hibridos_linhas_validacao,\n",
        "                       verbose=1)"
      ],
      "metadata": {
        "id": "jhrS1-1S1GwS"
      },
      "execution_count": null,
      "outputs": []
    },
    {
      "cell_type": "code",
      "source": [
        "grafico_historico_por_iteracao(historico)"
      ],
      "metadata": {
        "id": "8KWVEDTy1GwS"
      },
      "execution_count": null,
      "outputs": []
    },
    {
      "cell_type": "code",
      "source": [
        "probabilidades = modelo.predict(dados_hibridos_linhas_validacao)\n",
        "previsoes      = tf.argmax(probabilidades, axis=1)\n",
        "avaliacoes[0]  = avaliar_modelo(rotulos_int_validacao, previsoes, classes)"
      ],
      "metadata": {
        "id": "3qKSZyL31GwS"
      },
      "execution_count": null,
      "outputs": []
    },
    {
      "cell_type": "code",
      "source": [
        "avaliacoes[0]"
      ],
      "metadata": {
        "id": "Ne3OA4Qf1GwT"
      },
      "execution_count": null,
      "outputs": []
    },
    {
      "cell_type": "markdown",
      "source": [
        "# Modelo 1: Substituição do incorporador de palavras"
      ],
      "metadata": {
        "id": "s_fjdRQsurVi"
      }
    },
    {
      "cell_type": "markdown",
      "source": [
        "## Modelo com incorporação de palavras particularizada"
      ],
      "metadata": {
        "id": "AM9gtt-Gu633"
      }
    },
    {
      "cell_type": "code",
      "source": [
        "modelo_nome = 'modelo_incorporacao_palavras_particularizada'\n",
        "\n",
        "entradas = Input(shape=[], dtype=ENTRADA_TIPO, name='camada_entrada_palavras')\n",
        "\n",
        "camadas = vetorizador_palavras(entradas)\n",
        "camadas = incorporador_palavras(camadas)\n",
        "\n",
        "saidas = Bidirectional(layer=LSTM(units=int(LIMITE_INCORPORADOR / 2), activation=ATIVACAO_RNN), name='camada_bi_lstm_palavras')(camadas)\n",
        "\n",
        "modelo_incorporacao_palavras_particularizada = Model(inputs=entradas, outputs=saidas, name=modelo_nome)"
      ],
      "metadata": {
        "id": "ZV2_QmrXu633"
      },
      "execution_count": null,
      "outputs": []
    },
    {
      "cell_type": "markdown",
      "source": [
        "## Reuso de camadas anteriores ajustadas"
      ],
      "metadata": {
        "id": "qY3YxkcAwBi8"
      }
    },
    {
      "cell_type": "code",
      "source": [
        "combinacao_incorporacao = Concatenate(name=\"camada_combinacao_incorporacao\")([modelo_incorporacao_palavras_particularizada.output,\n",
        "                                                                              modelo_incorporacao_caracteres.output])\n",
        "\n",
        "abandonos_incorporacao = Dense(LIMITE_VETOR_TEXTO * 2, activation=ATIVACAO_CNN, name='camada_abandonos_incorporacao_relu')(combinacao_incorporacao)\n",
        "abandonos_incorporacao = Dropout(rate=0.5, name='camada_abandonos_incorporacao')(abandonos_incorporacao)\n",
        "\n",
        "combinacao_linhas = Concatenate(name=\"camada_combinacao_linhas\")([abandonos_incorporacao,\n",
        "                                                                  modelo_numero_linhas.output,\n",
        "                                                                  modelo_total_linhas.output])\n",
        "\n",
        "abandonos_linhas = Dense(LIMITE_VETOR_TEXTO * 2, activation=ATIVACAO_CNN, name='camada_abandonos_linhas_relu')(combinacao_linhas)\n",
        "abandonos_linhas = Dropout(rate=0.5, name='camada_abandonos_linhas')(abandonos_linhas)\n",
        "\n",
        "saidas = Dense(len(classes), activation=ATIVACAO_SAIDA, name='camada_saida')(abandonos_linhas)\n",
        "\n",
        "modelo_nome = 'modelo_1_incorporacao_palavras_particularizada'\n",
        "\n",
        "modelo = Model(inputs=[modelo_incorporacao_palavras_particularizada.input,\n",
        "                       modelo_incorporacao_caracteres.input,\n",
        "                       modelo_numero_linhas.input,\n",
        "                       modelo_total_linhas.input],\n",
        "               outputs=saidas,\n",
        "               name=modelo_nome)\n",
        "\n",
        "modelo.compile(loss=CategoricalCrossentropy(label_smoothing=SUAVIZACAO),\n",
        "               optimizer=Adam(learning_rate=APRENDIZADO),\n",
        "               metrics=METRICAS)"
      ],
      "metadata": {
        "id": "4kGiKQQ5wKrc"
      },
      "execution_count": null,
      "outputs": []
    },
    {
      "cell_type": "markdown",
      "source": [
        "## Verificação do modelo"
      ],
      "metadata": {
        "id": "wMaErRVb4bkj"
      }
    },
    {
      "cell_type": "code",
      "source": [
        "modelo.summary()"
      ],
      "metadata": {
        "id": "57HJ6-RY4bkj"
      },
      "execution_count": null,
      "outputs": []
    },
    {
      "cell_type": "code",
      "source": [
        "plot_model(modelo, show_shapes=True)"
      ],
      "metadata": {
        "id": "HVS35Ycf4bkk"
      },
      "execution_count": null,
      "outputs": []
    },
    {
      "cell_type": "markdown",
      "source": [
        "## Finalização do modelo"
      ],
      "metadata": {
        "id": "hsDTH2mj1v7L"
      }
    },
    {
      "cell_type": "code",
      "source": [
        "historico = modelo.fit(dados_hibridos_linhas_treino,\n",
        "                       epochs=ITERACOES,\n",
        "                       validation_data=dados_hibridos_linhas_validacao,\n",
        "                       verbose=1)"
      ],
      "metadata": {
        "id": "RJobSS7E1xnD"
      },
      "execution_count": null,
      "outputs": []
    },
    {
      "cell_type": "code",
      "source": [
        "grafico_historico_por_iteracao(historico)"
      ],
      "metadata": {
        "id": "tom-UkQ91ncd"
      },
      "execution_count": null,
      "outputs": []
    },
    {
      "cell_type": "code",
      "source": [
        "probabilidades = modelo.predict(dados_hibridos_linhas_validacao)\n",
        "previsoes      = tf.argmax(probabilidades, axis=1)\n",
        "avaliacoes[1]  = avaliar_modelo(rotulos_int_validacao, previsoes, classes)"
      ],
      "metadata": {
        "id": "L4hWa-dA2AkR"
      },
      "execution_count": null,
      "outputs": []
    },
    {
      "cell_type": "code",
      "source": [
        "avaliacoes[1]"
      ],
      "metadata": {
        "id": "RZQXqOII2GKr"
      },
      "execution_count": null,
      "outputs": []
    },
    {
      "cell_type": "markdown",
      "source": [
        "# Modelo 2: Otimizador de descida de gradiente estocástica"
      ],
      "metadata": {
        "id": "WN0maOKU5dw0"
      }
    },
    {
      "cell_type": "markdown",
      "source": [
        "## Reuso de camadas anteriores ajustadas"
      ],
      "metadata": {
        "id": "jVI7KPER5dw0"
      }
    },
    {
      "cell_type": "code",
      "source": [
        "modelo_nome = 'modelo_2_otimizador_sgd'\n",
        "\n",
        "modelo = Model(inputs=[modelo_incorporacao_palavras_particularizada.input,\n",
        "                       modelo_incorporacao_caracteres.input,\n",
        "                       modelo_numero_linhas.input,\n",
        "                       modelo_total_linhas.input],\n",
        "               outputs=saidas,\n",
        "               name=modelo_nome)"
      ],
      "metadata": {
        "id": "cJMSjOyD5dw0"
      },
      "execution_count": null,
      "outputs": []
    },
    {
      "cell_type": "markdown",
      "source": [
        "## Compilação com otimizador de descida de gradiente estocástica"
      ],
      "metadata": {
        "id": "JqhdcM6r7e1C"
      }
    },
    {
      "cell_type": "code",
      "source": [
        "modelo.compile(loss=CategoricalCrossentropy(label_smoothing=SUAVIZACAO),\n",
        "               optimizer=SGD(learning_rate=APRENDIZADO),\n",
        "               metrics=METRICAS)"
      ],
      "metadata": {
        "id": "Mc0g3ojn7eQa"
      },
      "execution_count": null,
      "outputs": []
    },
    {
      "cell_type": "markdown",
      "source": [
        "## Verificação do modelo"
      ],
      "metadata": {
        "id": "r0MZ7eJs5dw1"
      }
    },
    {
      "cell_type": "code",
      "source": [
        "modelo.summary()"
      ],
      "metadata": {
        "id": "dkOKYjq35dw1"
      },
      "execution_count": null,
      "outputs": []
    },
    {
      "cell_type": "code",
      "source": [
        "plot_model(modelo, show_shapes=True)"
      ],
      "metadata": {
        "id": "8RhM3yIH5dw1"
      },
      "execution_count": null,
      "outputs": []
    },
    {
      "cell_type": "markdown",
      "source": [
        "## Finalização do modelo"
      ],
      "metadata": {
        "id": "jkVqoeAR5dw1"
      }
    },
    {
      "cell_type": "code",
      "source": [
        "historico = modelo.fit(dados_hibridos_linhas_treino,\n",
        "                       epochs=ITERACOES,\n",
        "                       validation_data=dados_hibridos_linhas_validacao,\n",
        "                       verbose=1)"
      ],
      "metadata": {
        "id": "M4JrzThf5dw1"
      },
      "execution_count": null,
      "outputs": []
    },
    {
      "cell_type": "code",
      "source": [
        "grafico_historico_por_iteracao(historico)"
      ],
      "metadata": {
        "id": "5QDx1Ngv5dw1"
      },
      "execution_count": null,
      "outputs": []
    },
    {
      "cell_type": "code",
      "source": [
        "probabilidades = modelo.predict(dados_hibridos_linhas_validacao)\n",
        "previsoes      = tf.argmax(probabilidades, axis=1)\n",
        "avaliacoes[2]  = avaliar_modelo(rotulos_int_validacao, previsoes, classes)"
      ],
      "metadata": {
        "id": "hxmcYmA45dw1"
      },
      "execution_count": null,
      "outputs": []
    },
    {
      "cell_type": "code",
      "source": [
        "avaliacoes[2]"
      ],
      "metadata": {
        "id": "jHGwpNw35dw1"
      },
      "execution_count": null,
      "outputs": []
    },
    {
      "cell_type": "markdown",
      "source": [
        "# Modelo 3: Ajuste na taxa de aprendizado do otimizador"
      ],
      "metadata": {
        "id": "gu2GZUxfYFQR"
      }
    },
    {
      "cell_type": "markdown",
      "source": [
        "## Reuso de camadas anteriores ajustadas"
      ],
      "metadata": {
        "id": "Voyao-PnYFQR"
      }
    },
    {
      "cell_type": "code",
      "source": [
        "modelo_nome = 'modelo_3_ajuste_aprendizado'\n",
        "\n",
        "modelo = Model(inputs=[modelo_incorporacao_palavras_particularizada.input,\n",
        "                       modelo_incorporacao_caracteres.input,\n",
        "                       modelo_numero_linhas.input,\n",
        "                       modelo_total_linhas.input],\n",
        "               outputs=saidas,\n",
        "               name=modelo_nome)"
      ],
      "metadata": {
        "id": "-Zd_n0M5YFQR"
      },
      "execution_count": null,
      "outputs": []
    },
    {
      "cell_type": "markdown",
      "source": [
        "## Ajuste na taxa de aprendizado do otimizador"
      ],
      "metadata": {
        "id": "bMWdJwJ1YW2h"
      }
    },
    {
      "cell_type": "code",
      "source": [
        "modelo.compile(loss=CategoricalCrossentropy(label_smoothing=SUAVIZACAO),\n",
        "               optimizer=SGD(),\n",
        "               metrics=METRICAS)\n",
        "\n",
        "lrs = tf.keras.callbacks.LearningRateScheduler(lambda epoch: tf.add(0.001, tf.multiply(0.002, epoch)))"
      ],
      "metadata": {
        "id": "fVjSVy04YZ_F"
      },
      "execution_count": null,
      "outputs": []
    },
    {
      "cell_type": "markdown",
      "source": [
        "## Finalização do modelo"
      ],
      "metadata": {
        "id": "KGqIohgwYFQS"
      }
    },
    {
      "cell_type": "code",
      "source": [
        "historico = modelo.fit(dados_hibridos_linhas_treino,\n",
        "                       epochs=6,\n",
        "                       validation_data=dados_hibridos_linhas_validacao,\n",
        "                       callbacks=[lrs],\n",
        "                       verbose=1)"
      ],
      "metadata": {
        "id": "ka4bHAIWYFQS"
      },
      "execution_count": null,
      "outputs": []
    },
    {
      "cell_type": "code",
      "source": [
        "grafico_historico_por_iteracao(historico)"
      ],
      "metadata": {
        "id": "KTG7KFvyYFQS"
      },
      "execution_count": null,
      "outputs": []
    },
    {
      "cell_type": "code",
      "source": [
        "probabilidades = modelo.predict(dados_hibridos_linhas_validacao)\n",
        "previsoes      = tf.argmax(probabilidades, axis=1)\n",
        "avaliacoes[3]  = avaliar_modelo(rotulos_int_validacao, previsoes, classes)"
      ],
      "metadata": {
        "id": "SUvKxvP0YFQS"
      },
      "execution_count": null,
      "outputs": []
    },
    {
      "cell_type": "code",
      "source": [
        "avaliacoes[3]"
      ],
      "metadata": {
        "id": "-Z1qROaPYFQS"
      },
      "execution_count": null,
      "outputs": []
    },
    {
      "cell_type": "markdown",
      "source": [
        "# Comparação de modelos"
      ],
      "metadata": {
        "id": "CJaHEyWb1HSj"
      }
    },
    {
      "cell_type": "code",
      "source": [
        "avaliacoes = [a for a in avaliacoes if a is not None]\n",
        "\n",
        "comparacao = pd.DataFrame(avaliacoes)\n",
        "comparacao = comparacao.reset_index().melt(id_vars='index').rename(columns=str.title)"
      ],
      "metadata": {
        "id": "0PxQ0STCu1-K"
      },
      "execution_count": null,
      "outputs": []
    },
    {
      "cell_type": "code",
      "source": [
        "sns.barplot(data=comparacao, x='Index', y='Value', hue='Variable', palette='summer_r')\n",
        "\n",
        "plt.ylim(0.80, 0.90)\n",
        "\n",
        "plt.title('Medidas de avaliação dos modelos')\n",
        "plt.xlabel('Modelo')\n",
        "plt.ylabel('Valor')\n",
        "\n",
        "plt.legend(loc=(1.03, 0.76));"
      ],
      "metadata": {
        "id": "_1hTtBITvUky"
      },
      "execution_count": null,
      "outputs": []
    },
    {
      "cell_type": "code",
      "source": [
        "comparacao_f1 = pd.DataFrame([a['pontuacao-f1'] for a in avaliacoes]).T\n",
        "\n",
        "sns.barplot(data=comparacao_f1, color=COR)\n",
        "\n",
        "plt.ylim(0.80, 0.90)\n",
        "\n",
        "plt.title('Pontuação-F1')\n",
        "plt.xlabel('Modelo')\n",
        "plt.ylabel('');"
      ],
      "metadata": {
        "id": "SEfGE99avqXC"
      },
      "execution_count": null,
      "outputs": []
    },
    {
      "cell_type": "code",
      "source": [],
      "metadata": {
        "id": "TSv9hyiJnnnY"
      },
      "execution_count": null,
      "outputs": []
    }
  ]
}