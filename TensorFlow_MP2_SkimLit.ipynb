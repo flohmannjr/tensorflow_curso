{
  "nbformat": 4,
  "nbformat_minor": 0,
  "metadata": {
    "colab": {
      "provenance": [],
      "toc_visible": true,
      "authorship_tag": "ABX9TyPGNmhHnpcGG/HdJ5+N3J6M",
      "include_colab_link": true
    },
    "kernelspec": {
      "name": "python3",
      "display_name": "Python 3"
    },
    "language_info": {
      "name": "python"
    },
    "gpuClass": "standard",
    "accelerator": "GPU"
  },
  "cells": [
    {
      "cell_type": "markdown",
      "metadata": {
        "id": "view-in-github",
        "colab_type": "text"
      },
      "source": [
        "<a href=\"https://colab.research.google.com/github/flohmannjr/tensorflow_curso/blob/main/TensorFlow_MP2_SkimLit.ipynb\" target=\"_parent\"><img src=\"https://colab.research.google.com/assets/colab-badge.svg\" alt=\"Open In Colab\"/></a>"
      ]
    },
    {
      "cell_type": "markdown",
      "source": [
        "# TensorFlow Milestone Project: SkimLit"
      ],
      "metadata": {
        "id": "G-cwRZOT6Vee"
      }
    },
    {
      "cell_type": "markdown",
      "source": [
        "Este projeto tem como objetivo reproduzir o artigo **PubMed 200k RCT: a Dataset for Sequential Sentence Classification in Medical Abstracts**. https://arxiv.org/abs/1710.06071\n",
        "\n",
        "O resumo de artigos científicos de Medicina costumam ser blocos de texto de difícil interpretação imediata. Este artigo teve como propósito criar um modelo para classificação sequencial de sentenças, onde, uma vez apresentado um resumo, dividirá o texto em cinco categorias: Background, Conclusions, Methods, Objective e Results (Contexto, Conclusões, Métodos, Objetivo e Resultados), facilitando sua interpretação.\n",
        "\n",
        "PubMed 200k RCT utiliza a arquitetura do modelo do artigo **Neural Networks for Joint Sentence Classification in Medical Paper Abstracts**. https://arxiv.org/abs/1612.05251"
      ],
      "metadata": {
        "id": "X3g3-RzJsuU7"
      }
    },
    {
      "cell_type": "code",
      "source": [
        "import tensorflow as tf\n",
        "import tensorflow_hub as hub\n",
        "\n",
        "import numpy as np\n",
        "import pandas as pd\n",
        "import matplotlib.pyplot as plt\n",
        "import seaborn as sns\n",
        "\n",
        "import random, re\n",
        "\n",
        "from tensorflow.data import AUTOTUNE, Dataset\n",
        "from tensorflow.keras import Model\n",
        "from tensorflow.keras.optimizers import Adam\n",
        "from tensorflow.keras.utils import plot_model\n",
        "\n",
        "from tensorflow.keras.layers import Embedding, TextVectorization\n",
        "from tensorflow.keras.layers import Dense, GlobalAveragePooling1D, GlobalMaxPool1D, Input\n",
        "from tensorflow.keras.layers import Bidirectional, Concatenate, Conv1D, Dropout, LSTM\n",
        "\n",
        "from sklearn.feature_extraction.text import TfidfVectorizer\n",
        "from sklearn.metrics import classification_report\n",
        "from sklearn.naive_bayes import MultinomialNB\n",
        "from sklearn.pipeline import Pipeline\n",
        "from sklearn.preprocessing import LabelEncoder, OneHotEncoder"
      ],
      "metadata": {
        "id": "ND6yUaUk6kOK"
      },
      "execution_count": 1,
      "outputs": []
    },
    {
      "cell_type": "markdown",
      "source": [
        "## Setup"
      ],
      "metadata": {
        "id": "bYIefgtjOAGl"
      }
    },
    {
      "cell_type": "code",
      "source": [
        "pd.set_option('display.max_colwidth', None)\n",
        "\n",
        "plt.rcParams['figure.figsize'] = [8, 5]\n",
        "plt.rcParams['figure.dpi'] = 100\n",
        "\n",
        "plt.style.use('seaborn-darkgrid')"
      ],
      "metadata": {
        "id": "T_u3SG7QOCXV"
      },
      "execution_count": 2,
      "outputs": []
    },
    {
      "cell_type": "markdown",
      "source": [
        "### Constantes"
      ],
      "metadata": {
        "id": "Uy_Tv0JkpVxy"
      }
    },
    {
      "cell_type": "code",
      "source": [
        "SEMENTE = 2008193\n",
        "\n",
        "COR = '#007f66'\n",
        "\n",
        "DIRETORIO = '/content/pubmed-rct/PubMed_20k_RCT_numbers_replaced_with_at_sign'\n",
        "# DIRETORIO = '/content/pubmed-rct/PubMed_200k_RCT_numbers_replaced_with_at_sign'\n",
        "\n",
        "# 1710.06071 - Tabela 2\n",
        "LIMITE_DICIONARIO = 68000\n",
        "# LIMITE_DICIONARIO = 331000\n",
        "\n",
        "LIMITE_CARACTERES = 100\n",
        "\n",
        "# 1612.05251 - Figura 1\n",
        "LIMITE_INCORPORADOR = 300\n",
        "LIMITE_INCORPORADOR_CARACTERES = 25\n",
        "LIMITE_VETOR_TEXTO = 100\n",
        "\n",
        "LOTE_TAMANHO = 32\n",
        "\n",
        "ENTRADA_FORMATO = (1,)\n",
        "ENTRADA_TIPO = tf.string\n",
        "\n",
        "ATIVACAO_CNN = 'relu'\n",
        "ATIVACAO_RNN = 'tanh'\n",
        "ATIVACAO_SAIDA = 'softmax'\n",
        "\n",
        "FILTROS = 64\n",
        "NUCLEO_TAMANHO = 5\n",
        "PREENCHIMENTO = 'same'\n",
        "\n",
        "PERDA = 'categorical_crossentropy'\n",
        "APRENDIZADO = 0.001\n",
        "METRICAS = ['accuracy']\n",
        "\n",
        "ITERACOES = 3"
      ],
      "metadata": {
        "id": "Z-1CGl0S2DiU"
      },
      "execution_count": 3,
      "outputs": []
    },
    {
      "cell_type": "markdown",
      "source": [
        "### Funções"
      ],
      "metadata": {
        "id": "nVZAWLhD1mhS"
      }
    },
    {
      "cell_type": "code",
      "source": [
        "!wget https://raw.githubusercontent.com/flohmannjr/tensorflow_curso/main/funcoes.py"
      ],
      "metadata": {
        "colab": {
          "base_uri": "https://localhost:8080/"
        },
        "id": "FYXVOXEYBFVR",
        "outputId": "975dcdf3-24db-4a65-c0ae-87c95c4425a7"
      },
      "execution_count": 4,
      "outputs": [
        {
          "output_type": "stream",
          "name": "stdout",
          "text": [
            "--2023-02-01 01:38:57--  https://raw.githubusercontent.com/flohmannjr/tensorflow_curso/main/funcoes.py\n",
            "Resolving raw.githubusercontent.com (raw.githubusercontent.com)... 185.199.109.133, 185.199.111.133, 185.199.108.133, ...\n",
            "Connecting to raw.githubusercontent.com (raw.githubusercontent.com)|185.199.109.133|:443... connected.\n",
            "HTTP request sent, awaiting response... 200 OK\n",
            "Length: 5909 (5.8K) [text/plain]\n",
            "Saving to: ‘funcoes.py’\n",
            "\n",
            "funcoes.py          100%[===================>]   5.77K  --.-KB/s    in 0s      \n",
            "\n",
            "2023-02-01 01:38:58 (68.3 MB/s) - ‘funcoes.py’ saved [5909/5909]\n",
            "\n"
          ]
        }
      ]
    },
    {
      "cell_type": "code",
      "source": [
        "from funcoes import avaliar_modelo, grafico_historico_por_iteracao"
      ],
      "metadata": {
        "id": "mGECR6zZBKnd"
      },
      "execution_count": 5,
      "outputs": []
    },
    {
      "cell_type": "code",
      "source": [
        "def preprocessar_texto(arquivo):\n",
        "    \"\"\"\n",
        "    Retorna uma lista de dicionários com o conteúdo das linhas do arquivo informado.\n",
        "\n",
        "    Cada dicionário contém o código do resumo, o total de linhas, o número, a classe e o texto da linha.\n",
        "    {codigo, total, numero, classe, texto}\n",
        "    \"\"\"\n",
        "\n",
        "    with open(arquivo, 'r') as a: linhas_arquivo = a.readlines()\n",
        "    linhas = ''  # Linhas do texto\n",
        "    saida = []   # Lista de dicionários\n",
        "\n",
        "    for linha in linhas_arquivo:\n",
        "        if linha.startswith('###'):            # Verifica se a linha inicia com '###'.\n",
        "            codigo = re.sub('\\D+', '', linha)  # Extrai o código do resumo.\n",
        "            linhas = ''                        # Limpa as linhas de texto.\n",
        "        \n",
        "        elif linha.isspace():                       # Verifica se a linha é vazia.\n",
        "            linhas_separadas = linhas.splitlines()  # Separa linhas de texto.\n",
        "\n",
        "            for linha_numero, linha_completa in enumerate(linhas_separadas):  # Itera sobre cada uma das linhas de texto.\n",
        "                linha_dados = {}                                              # Dicionário com os dados da linha.\n",
        "                linha_conteudo = linha_completa.split('\\t')                   # Separa classe e texto.\n",
        "\n",
        "                linha_dados['codigo'] = codigo                    # Código do resumo.\n",
        "                linha_dados['total'] = len(linhas_separadas)      # Total de linhas.\n",
        "                linha_dados['numero'] = linha_numero              # Número da linha.\n",
        "                linha_dados['classe'] = linha_conteudo[0]         # Classe da linha.\n",
        "                linha_dados['texto'] = linha_conteudo[1].lower()  # Texto da linha, em caixa baixa.\n",
        "\n",
        "                saida.append(linha_dados)  # Acrescenta o dicionário à lista.\n",
        "\n",
        "        else:\n",
        "            linhas += linha  # Acrescenta a linha atual às linhas de texto.\n",
        "\n",
        "    return saida"
      ],
      "metadata": {
        "id": "Fc3LGM4_1peB"
      },
      "execution_count": 6,
      "outputs": []
    },
    {
      "cell_type": "markdown",
      "source": [
        "## Dados"
      ],
      "metadata": {
        "id": "nLfeMWwru_9I"
      }
    },
    {
      "cell_type": "code",
      "source": [
        "!git clone https://github.com/Franck-Dernoncourt/pubmed-rct.git"
      ],
      "metadata": {
        "colab": {
          "base_uri": "https://localhost:8080/"
        },
        "id": "HSS_zH7py6b8",
        "outputId": "a81f16f6-a9d5-4235-ec48-e62cb1b38ddb"
      },
      "execution_count": 7,
      "outputs": [
        {
          "output_type": "stream",
          "name": "stdout",
          "text": [
            "Cloning into 'pubmed-rct'...\n",
            "remote: Enumerating objects: 33, done.\u001b[K\n",
            "remote: Counting objects: 100% (8/8), done.\u001b[K\n",
            "remote: Compressing objects: 100% (3/3), done.\u001b[K\n",
            "remote: Total 33 (delta 5), reused 5 (delta 5), pack-reused 25\u001b[K\n",
            "Unpacking objects: 100% (33/33), 177.08 MiB | 6.83 MiB/s, done.\n"
          ]
        }
      ]
    },
    {
      "cell_type": "markdown",
      "source": [
        "### Pré-processamento"
      ],
      "metadata": {
        "id": "4rHNd8yc1a2Z"
      }
    },
    {
      "cell_type": "code",
      "source": [
        "linhas_treino    = preprocessar_texto(f'{DIRETORIO}/train.txt')  # Dados de treino\n",
        "linhas_validacao = preprocessar_texto(f'{DIRETORIO}/dev.txt')    # Dados de validação\n",
        "linhas_teste     = preprocessar_texto(f'{DIRETORIO}/test.txt')   # Dados de teste"
      ],
      "metadata": {
        "id": "vZHFSSiv3MMZ"
      },
      "execution_count": 8,
      "outputs": []
    },
    {
      "cell_type": "code",
      "source": [
        "df_treino    = pd.DataFrame(linhas_treino)\n",
        "df_validacao = pd.DataFrame(linhas_validacao)\n",
        "df_teste     = pd.DataFrame(linhas_teste)"
      ],
      "metadata": {
        "id": "03f210ZBYHDE"
      },
      "execution_count": 9,
      "outputs": []
    },
    {
      "cell_type": "markdown",
      "source": [
        "### Verificação"
      ],
      "metadata": {
        "id": "gRV03ysP1iH-"
      }
    },
    {
      "cell_type": "code",
      "source": [
        "df_treino[:12]"
      ],
      "metadata": {
        "colab": {
          "base_uri": "https://localhost:8080/",
          "height": 539
        },
        "id": "4KkIE_9xZ-ny",
        "outputId": "771d84da-2b8c-4d31-e348-bbac468c16b5"
      },
      "execution_count": 10,
      "outputs": [
        {
          "output_type": "execute_result",
          "data": {
            "text/plain": [
              "      codigo  total  numero       classe  \\\n",
              "0   24293578     12       0    OBJECTIVE   \n",
              "1   24293578     12       1      METHODS   \n",
              "2   24293578     12       2      METHODS   \n",
              "3   24293578     12       3      METHODS   \n",
              "4   24293578     12       4      METHODS   \n",
              "5   24293578     12       5      METHODS   \n",
              "6   24293578     12       6      RESULTS   \n",
              "7   24293578     12       7      RESULTS   \n",
              "8   24293578     12       8      RESULTS   \n",
              "9   24293578     12       9      RESULTS   \n",
              "10  24293578     12      10      RESULTS   \n",
              "11  24293578     12      11  CONCLUSIONS   \n",
              "\n",
              "                                                                                                                                                                                                                                                                                        texto  \n",
              "0   to investigate the efficacy of @ weeks of daily low-dose oral prednisolone in improving pain , mobility , and systemic low-grade inflammation in the short term and whether the effect would be sustained at @ weeks in older adults with moderate to severe knee osteoarthritis ( oa ) .  \n",
              "1                                                                                                                                                   a total of @ patients with primary knee oa were randomized @:@ ; @ received @ mg/day of prednisolone and @ received placebo for @ weeks .  \n",
              "2                                                                                                                                                                             outcome measures included pain reduction and improvement in function scores and systemic inflammation markers .  \n",
              "3                                                                                                                                                                                                                           pain was assessed using the visual analog pain scale ( @-@ mm ) .  \n",
              "4                                                                           secondary outcome measures included the western ontario and mcmaster universities osteoarthritis index scores , patient global assessment ( pga ) of the severity of knee oa , and @-min walk distance ( @mwd ) .  \n",
              "5                                                                                                                                         serum levels of interleukin @ ( il-@ ) , il-@ , tumor necrosis factor ( tnf ) - , and high-sensitivity c-reactive protein ( hscrp ) were measured .  \n",
              "6                                                                                                                           there was a clinically relevant reduction in the intervention group compared to the placebo group for knee pain , physical function , pga , and @mwd at @ weeks .  \n",
              "7                                                                                                                        the mean difference between treatment arms ( @ % ci ) was @ ( @-@ @ ) , p < @ ; @ ( @-@ @ ) , p < @ ; @ ( @-@ @ ) , p < @ ; and @ ( @-@ @ ) , p < @ , respectively .  \n",
              "8                                                                                                        further , there was a clinically relevant reduction in the serum levels of il-@ , il-@ , tnf - , and hscrp at @ weeks in the intervention group when compared to the placebo group .  \n",
              "9                                                                                                                                                                                                                                         these differences remained significant at @ weeks .  \n",
              "10                                                                                               the outcome measures in rheumatology clinical trials-osteoarthritis research society international responder rate was @ % in the intervention group and @ % in the placebo group ( p < @ ) .  \n",
              "11                                   low-dose oral prednisolone had both a short-term and a longer sustained effect resulting in less knee pain , better physical function , and attenuation of systemic inflammation in older patients with knee oa ( clinicaltrials.gov identifier nct@ ) .  "
            ],
            "text/html": [
              "\n",
              "  <div id=\"df-3fba528d-f9a7-4ebf-929b-528c902157b4\">\n",
              "    <div class=\"colab-df-container\">\n",
              "      <div>\n",
              "<style scoped>\n",
              "    .dataframe tbody tr th:only-of-type {\n",
              "        vertical-align: middle;\n",
              "    }\n",
              "\n",
              "    .dataframe tbody tr th {\n",
              "        vertical-align: top;\n",
              "    }\n",
              "\n",
              "    .dataframe thead th {\n",
              "        text-align: right;\n",
              "    }\n",
              "</style>\n",
              "<table border=\"1\" class=\"dataframe\">\n",
              "  <thead>\n",
              "    <tr style=\"text-align: right;\">\n",
              "      <th></th>\n",
              "      <th>codigo</th>\n",
              "      <th>total</th>\n",
              "      <th>numero</th>\n",
              "      <th>classe</th>\n",
              "      <th>texto</th>\n",
              "    </tr>\n",
              "  </thead>\n",
              "  <tbody>\n",
              "    <tr>\n",
              "      <th>0</th>\n",
              "      <td>24293578</td>\n",
              "      <td>12</td>\n",
              "      <td>0</td>\n",
              "      <td>OBJECTIVE</td>\n",
              "      <td>to investigate the efficacy of @ weeks of daily low-dose oral prednisolone in improving pain , mobility , and systemic low-grade inflammation in the short term and whether the effect would be sustained at @ weeks in older adults with moderate to severe knee osteoarthritis ( oa ) .</td>\n",
              "    </tr>\n",
              "    <tr>\n",
              "      <th>1</th>\n",
              "      <td>24293578</td>\n",
              "      <td>12</td>\n",
              "      <td>1</td>\n",
              "      <td>METHODS</td>\n",
              "      <td>a total of @ patients with primary knee oa were randomized @:@ ; @ received @ mg/day of prednisolone and @ received placebo for @ weeks .</td>\n",
              "    </tr>\n",
              "    <tr>\n",
              "      <th>2</th>\n",
              "      <td>24293578</td>\n",
              "      <td>12</td>\n",
              "      <td>2</td>\n",
              "      <td>METHODS</td>\n",
              "      <td>outcome measures included pain reduction and improvement in function scores and systemic inflammation markers .</td>\n",
              "    </tr>\n",
              "    <tr>\n",
              "      <th>3</th>\n",
              "      <td>24293578</td>\n",
              "      <td>12</td>\n",
              "      <td>3</td>\n",
              "      <td>METHODS</td>\n",
              "      <td>pain was assessed using the visual analog pain scale ( @-@ mm ) .</td>\n",
              "    </tr>\n",
              "    <tr>\n",
              "      <th>4</th>\n",
              "      <td>24293578</td>\n",
              "      <td>12</td>\n",
              "      <td>4</td>\n",
              "      <td>METHODS</td>\n",
              "      <td>secondary outcome measures included the western ontario and mcmaster universities osteoarthritis index scores , patient global assessment ( pga ) of the severity of knee oa , and @-min walk distance ( @mwd ) .</td>\n",
              "    </tr>\n",
              "    <tr>\n",
              "      <th>5</th>\n",
              "      <td>24293578</td>\n",
              "      <td>12</td>\n",
              "      <td>5</td>\n",
              "      <td>METHODS</td>\n",
              "      <td>serum levels of interleukin @ ( il-@ ) , il-@ , tumor necrosis factor ( tnf ) - , and high-sensitivity c-reactive protein ( hscrp ) were measured .</td>\n",
              "    </tr>\n",
              "    <tr>\n",
              "      <th>6</th>\n",
              "      <td>24293578</td>\n",
              "      <td>12</td>\n",
              "      <td>6</td>\n",
              "      <td>RESULTS</td>\n",
              "      <td>there was a clinically relevant reduction in the intervention group compared to the placebo group for knee pain , physical function , pga , and @mwd at @ weeks .</td>\n",
              "    </tr>\n",
              "    <tr>\n",
              "      <th>7</th>\n",
              "      <td>24293578</td>\n",
              "      <td>12</td>\n",
              "      <td>7</td>\n",
              "      <td>RESULTS</td>\n",
              "      <td>the mean difference between treatment arms ( @ % ci ) was @ ( @-@ @ ) , p &lt; @ ; @ ( @-@ @ ) , p &lt; @ ; @ ( @-@ @ ) , p &lt; @ ; and @ ( @-@ @ ) , p &lt; @ , respectively .</td>\n",
              "    </tr>\n",
              "    <tr>\n",
              "      <th>8</th>\n",
              "      <td>24293578</td>\n",
              "      <td>12</td>\n",
              "      <td>8</td>\n",
              "      <td>RESULTS</td>\n",
              "      <td>further , there was a clinically relevant reduction in the serum levels of il-@ , il-@ , tnf - , and hscrp at @ weeks in the intervention group when compared to the placebo group .</td>\n",
              "    </tr>\n",
              "    <tr>\n",
              "      <th>9</th>\n",
              "      <td>24293578</td>\n",
              "      <td>12</td>\n",
              "      <td>9</td>\n",
              "      <td>RESULTS</td>\n",
              "      <td>these differences remained significant at @ weeks .</td>\n",
              "    </tr>\n",
              "    <tr>\n",
              "      <th>10</th>\n",
              "      <td>24293578</td>\n",
              "      <td>12</td>\n",
              "      <td>10</td>\n",
              "      <td>RESULTS</td>\n",
              "      <td>the outcome measures in rheumatology clinical trials-osteoarthritis research society international responder rate was @ % in the intervention group and @ % in the placebo group ( p &lt; @ ) .</td>\n",
              "    </tr>\n",
              "    <tr>\n",
              "      <th>11</th>\n",
              "      <td>24293578</td>\n",
              "      <td>12</td>\n",
              "      <td>11</td>\n",
              "      <td>CONCLUSIONS</td>\n",
              "      <td>low-dose oral prednisolone had both a short-term and a longer sustained effect resulting in less knee pain , better physical function , and attenuation of systemic inflammation in older patients with knee oa ( clinicaltrials.gov identifier nct@ ) .</td>\n",
              "    </tr>\n",
              "  </tbody>\n",
              "</table>\n",
              "</div>\n",
              "      <button class=\"colab-df-convert\" onclick=\"convertToInteractive('df-3fba528d-f9a7-4ebf-929b-528c902157b4')\"\n",
              "              title=\"Convert this dataframe to an interactive table.\"\n",
              "              style=\"display:none;\">\n",
              "        \n",
              "  <svg xmlns=\"http://www.w3.org/2000/svg\" height=\"24px\"viewBox=\"0 0 24 24\"\n",
              "       width=\"24px\">\n",
              "    <path d=\"M0 0h24v24H0V0z\" fill=\"none\"/>\n",
              "    <path d=\"M18.56 5.44l.94 2.06.94-2.06 2.06-.94-2.06-.94-.94-2.06-.94 2.06-2.06.94zm-11 1L8.5 8.5l.94-2.06 2.06-.94-2.06-.94L8.5 2.5l-.94 2.06-2.06.94zm10 10l.94 2.06.94-2.06 2.06-.94-2.06-.94-.94-2.06-.94 2.06-2.06.94z\"/><path d=\"M17.41 7.96l-1.37-1.37c-.4-.4-.92-.59-1.43-.59-.52 0-1.04.2-1.43.59L10.3 9.45l-7.72 7.72c-.78.78-.78 2.05 0 2.83L4 21.41c.39.39.9.59 1.41.59.51 0 1.02-.2 1.41-.59l7.78-7.78 2.81-2.81c.8-.78.8-2.07 0-2.86zM5.41 20L4 18.59l7.72-7.72 1.47 1.35L5.41 20z\"/>\n",
              "  </svg>\n",
              "      </button>\n",
              "      \n",
              "  <style>\n",
              "    .colab-df-container {\n",
              "      display:flex;\n",
              "      flex-wrap:wrap;\n",
              "      gap: 12px;\n",
              "    }\n",
              "\n",
              "    .colab-df-convert {\n",
              "      background-color: #E8F0FE;\n",
              "      border: none;\n",
              "      border-radius: 50%;\n",
              "      cursor: pointer;\n",
              "      display: none;\n",
              "      fill: #1967D2;\n",
              "      height: 32px;\n",
              "      padding: 0 0 0 0;\n",
              "      width: 32px;\n",
              "    }\n",
              "\n",
              "    .colab-df-convert:hover {\n",
              "      background-color: #E2EBFA;\n",
              "      box-shadow: 0px 1px 2px rgba(60, 64, 67, 0.3), 0px 1px 3px 1px rgba(60, 64, 67, 0.15);\n",
              "      fill: #174EA6;\n",
              "    }\n",
              "\n",
              "    [theme=dark] .colab-df-convert {\n",
              "      background-color: #3B4455;\n",
              "      fill: #D2E3FC;\n",
              "    }\n",
              "\n",
              "    [theme=dark] .colab-df-convert:hover {\n",
              "      background-color: #434B5C;\n",
              "      box-shadow: 0px 1px 3px 1px rgba(0, 0, 0, 0.15);\n",
              "      filter: drop-shadow(0px 1px 2px rgba(0, 0, 0, 0.3));\n",
              "      fill: #FFFFFF;\n",
              "    }\n",
              "  </style>\n",
              "\n",
              "      <script>\n",
              "        const buttonEl =\n",
              "          document.querySelector('#df-3fba528d-f9a7-4ebf-929b-528c902157b4 button.colab-df-convert');\n",
              "        buttonEl.style.display =\n",
              "          google.colab.kernel.accessAllowed ? 'block' : 'none';\n",
              "\n",
              "        async function convertToInteractive(key) {\n",
              "          const element = document.querySelector('#df-3fba528d-f9a7-4ebf-929b-528c902157b4');\n",
              "          const dataTable =\n",
              "            await google.colab.kernel.invokeFunction('convertToInteractive',\n",
              "                                                     [key], {});\n",
              "          if (!dataTable) return;\n",
              "\n",
              "          const docLinkHtml = 'Like what you see? Visit the ' +\n",
              "            '<a target=\"_blank\" href=https://colab.research.google.com/notebooks/data_table.ipynb>data table notebook</a>'\n",
              "            + ' to learn more about interactive tables.';\n",
              "          element.innerHTML = '';\n",
              "          dataTable['output_type'] = 'display_data';\n",
              "          await google.colab.output.renderOutput(dataTable, element);\n",
              "          const docLink = document.createElement('div');\n",
              "          docLink.innerHTML = docLinkHtml;\n",
              "          element.appendChild(docLink);\n",
              "        }\n",
              "      </script>\n",
              "    </div>\n",
              "  </div>\n",
              "  "
            ]
          },
          "metadata": {},
          "execution_count": 10
        }
      ]
    },
    {
      "cell_type": "code",
      "source": [
        "df_treino['classe'].value_counts()"
      ],
      "metadata": {
        "colab": {
          "base_uri": "https://localhost:8080/"
        },
        "id": "DxCyKmEoaM7z",
        "outputId": "88c496ee-b19b-4e33-bafa-faee2be95b0d"
      },
      "execution_count": 11,
      "outputs": [
        {
          "output_type": "execute_result",
          "data": {
            "text/plain": [
              "METHODS        59353\n",
              "RESULTS        57953\n",
              "CONCLUSIONS    27168\n",
              "BACKGROUND     21727\n",
              "OBJECTIVE      13839\n",
              "Name: classe, dtype: int64"
            ]
          },
          "metadata": {},
          "execution_count": 11
        }
      ]
    },
    {
      "cell_type": "code",
      "source": [
        "sns.histplot(data=df_treino, x='total', color=COR)\n",
        "\n",
        "plt.xlabel('Quantidade de linhas')\n",
        "plt.ylabel('Quantidade de resumos');"
      ],
      "metadata": {
        "colab": {
          "base_uri": "https://localhost:8080/",
          "height": 452
        },
        "id": "A56YZP5EcOA0",
        "outputId": "38540e2e-c1c0-406c-8001-3d174e675fa0"
      },
      "execution_count": 12,
      "outputs": [
        {
          "output_type": "display_data",
          "data": {
            "text/plain": [
              "<Figure size 800x500 with 1 Axes>"
            ],
            "image/png": "[encoded data removed]"
          },
          "metadata": {}
        }
      ]
    },
    {
      "cell_type": "markdown",
      "source": [
        "### Rótulos numéricos"
      ],
      "metadata": {
        "id": "SaAEt9KddM8U"
      }
    },
    {
      "cell_type": "markdown",
      "source": [
        "#### One-hot"
      ],
      "metadata": {
        "id": "KrqrdjCW4XFm"
      }
    },
    {
      "cell_type": "code",
      "source": [
        "codificador_onehot = OneHotEncoder(sparse=False)\n",
        "\n",
        "rotulos_onehot_treino    = codificador_onehot.fit_transform(df_treino['classe'].to_numpy().reshape(-1, 1))\n",
        "rotulos_onehot_validacao = codificador_onehot.transform(df_validacao['classe'].to_numpy().reshape(-1, 1))\n",
        "rotulos_onehot_teste     = codificador_onehot.transform(df_teste['classe'].to_numpy().reshape(-1, 1))"
      ],
      "metadata": {
        "id": "j2mOlwRr1pr4"
      },
      "execution_count": 13,
      "outputs": []
    },
    {
      "cell_type": "code",
      "source": [
        "rotulos_onehot_treino"
      ],
      "metadata": {
        "colab": {
          "base_uri": "https://localhost:8080/"
        },
        "id": "zVisvpjt2vAQ",
        "outputId": "9ab480a6-3725-42c0-8c2e-46dc6687a6c0"
      },
      "execution_count": 14,
      "outputs": [
        {
          "output_type": "execute_result",
          "data": {
            "text/plain": [
              "array([[0., 0., 0., 1., 0.],\n",
              "       [0., 0., 1., 0., 0.],\n",
              "       [0., 0., 1., 0., 0.],\n",
              "       ...,\n",
              "       [0., 0., 0., 0., 1.],\n",
              "       [0., 1., 0., 0., 0.],\n",
              "       [0., 1., 0., 0., 0.]])"
            ]
          },
          "metadata": {},
          "execution_count": 14
        }
      ]
    },
    {
      "cell_type": "markdown",
      "source": [
        "#### Inteiros"
      ],
      "metadata": {
        "id": "mw90LPah2-83"
      }
    },
    {
      "cell_type": "code",
      "source": [
        "codificador_int = LabelEncoder()\n",
        "\n",
        "rotulos_int_treino    = codificador_int.fit_transform(df_treino['classe'].to_numpy())\n",
        "rotulos_int_validacao = codificador_int.transform(df_validacao['classe'].to_numpy())\n",
        "rotulos_int_teste     = codificador_int.transform(df_teste['classe'].to_numpy())"
      ],
      "metadata": {
        "id": "OsmgVFMn4iFB"
      },
      "execution_count": 15,
      "outputs": []
    },
    {
      "cell_type": "code",
      "source": [
        "rotulos_int_treino"
      ],
      "metadata": {
        "colab": {
          "base_uri": "https://localhost:8080/"
        },
        "outputId": "01ba3b9f-ab89-4683-d7b7-453c698f0541",
        "id": "KKPkj4XE4iFB"
      },
      "execution_count": 16,
      "outputs": [
        {
          "output_type": "execute_result",
          "data": {
            "text/plain": [
              "array([3, 2, 2, ..., 4, 1, 1])"
            ]
          },
          "metadata": {},
          "execution_count": 16
        }
      ]
    },
    {
      "cell_type": "code",
      "source": [
        "classes = codificador_int.classes_\n",
        "classes"
      ],
      "metadata": {
        "colab": {
          "base_uri": "https://localhost:8080/"
        },
        "id": "gH7wCQLS46lv",
        "outputId": "c6d36a27-3465-4659-f038-4a0ef0b9cab7"
      },
      "execution_count": 17,
      "outputs": [
        {
          "output_type": "execute_result",
          "data": {
            "text/plain": [
              "array(['BACKGROUND', 'CONCLUSIONS', 'METHODS', 'OBJECTIVE', 'RESULTS'],\n",
              "      dtype=object)"
            ]
          },
          "metadata": {},
          "execution_count": 17
        }
      ]
    },
    {
      "cell_type": "markdown",
      "source": [
        "## Modelos"
      ],
      "metadata": {
        "id": "sF-Hny925HTY"
      }
    },
    {
      "cell_type": "code",
      "source": [
        "avaliacoes = [None] * 7"
      ],
      "metadata": {
        "id": "O7BwmdBR7R5n"
      },
      "execution_count": 18,
      "outputs": []
    },
    {
      "cell_type": "markdown",
      "source": [
        "### Modelo 0: TF-IDF Naive-Bayes"
      ],
      "metadata": {
        "id": "UX62Fknz7GgI"
      }
    },
    {
      "cell_type": "code",
      "source": [
        "modelo_nome = 'modelo_0_tfidf_naive_bayes'\n",
        "\n",
        "modelo = Pipeline([('tfidf', TfidfVectorizer()),\n",
        "                   ('clf', MultinomialNB())])\n",
        "\n",
        "modelo.fit(df_treino['texto'], rotulos_int_treino)"
      ],
      "metadata": {
        "colab": {
          "base_uri": "https://localhost:8080/"
        },
        "id": "Hb0thwq57OEr",
        "outputId": "44401d7c-41ae-4b96-b01c-c1c17324c6a9"
      },
      "execution_count": 19,
      "outputs": [
        {
          "output_type": "execute_result",
          "data": {
            "text/plain": [
              "Pipeline(steps=[('tfidf', TfidfVectorizer()), ('clf', MultinomialNB())])"
            ]
          },
          "metadata": {},
          "execution_count": 19
        }
      ]
    },
    {
      "cell_type": "code",
      "source": [
        "probabilidades = modelo.predict(df_validacao['texto'])"
      ],
      "metadata": {
        "id": "t9Eb1OST-YYg"
      },
      "execution_count": 20,
      "outputs": []
    },
    {
      "cell_type": "code",
      "source": [
        "previsoes = np.zeros((probabilidades.size, probabilidades.max() + 1))\n",
        "previsoes[np.arange(probabilidades.size), probabilidades] = 1"
      ],
      "metadata": {
        "id": "YWeMPo_lCMbz"
      },
      "execution_count": 21,
      "outputs": []
    },
    {
      "cell_type": "code",
      "source": [
        "avaliacoes[0] = avaliar_modelo(rotulos_int_validacao, probabilidades, classes)"
      ],
      "metadata": {
        "colab": {
          "base_uri": "https://localhost:8080/",
          "height": 748
        },
        "id": "AmCdCp_K-2OX",
        "outputId": "e66754f1-4eab-4fdf-b7ab-4acc7f318093"
      },
      "execution_count": 22,
      "outputs": [
        {
          "output_type": "stream",
          "name": "stdout",
          "text": [
            "              precision    recall  f1-score   support\n",
            "\n",
            "  BACKGROUND       0.66      0.49      0.56      3449\n",
            " CONCLUSIONS       0.65      0.59      0.61      4582\n",
            "     METHODS       0.72      0.87      0.79      9964\n",
            "   OBJECTIVE       0.75      0.14      0.23      2376\n",
            "     RESULTS       0.76      0.86      0.81      9841\n",
            "\n",
            "    accuracy                           0.72     30212\n",
            "   macro avg       0.71      0.59      0.60     30212\n",
            "weighted avg       0.72      0.72      0.70     30212\n",
            "\n"
          ]
        },
        {
          "output_type": "display_data",
          "data": {
            "text/plain": [
              "<Figure size 800x500 with 2 Axes>"
            ],
            "image/png": "[encoded data removed]"
          },
          "metadata": {}
        }
      ]
    },
    {
      "cell_type": "code",
      "source": [
        "avaliacoes[0]"
      ],
      "metadata": {
        "colab": {
          "base_uri": "https://localhost:8080/"
        },
        "id": "Fjjg8COn-89_",
        "outputId": "f9a37162-4e33-4d3b-b8b3-9457cf749b85"
      },
      "execution_count": 23,
      "outputs": [
        {
          "output_type": "execute_result",
          "data": {
            "text/plain": [
              "{'acuracia': 0.7218323844829869,\n",
              " 'precisao': 0.7186466952323352,\n",
              " 'revocacao': 0.7218323844829869,\n",
              " 'pontuacao-f1': 0.6989250353450294}"
            ]
          },
          "metadata": {},
          "execution_count": 23
        }
      ]
    },
    {
      "cell_type": "markdown",
      "source": [
        "### Preparação dos textos"
      ],
      "metadata": {
        "id": "VRtW8n1x-PDW"
      }
    },
    {
      "cell_type": "code",
      "source": [
        "palavras_por_texto    = [len(texto.split()) for texto in df_treino['texto']]\n",
        "palavras_por_texto_95 = int(np.percentile(palavras_por_texto, 95))  # Quantidade máxima de palavras para 95% dos textos."
      ],
      "metadata": {
        "id": "GWkiCt7ah6Ea"
      },
      "execution_count": 24,
      "outputs": []
    },
    {
      "cell_type": "code",
      "source": [
        "print(f\"Média: {np.mean(palavras_por_texto)}\")\n",
        "print(f\"Máximo: {np.max(palavras_por_texto)}\")\n",
        "print(f\"95%: {palavras_por_texto_95}\")"
      ],
      "metadata": {
        "colab": {
          "base_uri": "https://localhost:8080/"
        },
        "id": "ge1jUxe_iX4w",
        "outputId": "9d43b654-db00-4d58-81fe-b3f3ec76cd7e"
      },
      "execution_count": 25,
      "outputs": [
        {
          "output_type": "stream",
          "name": "stdout",
          "text": [
            "Média: 26.338269273494777\n",
            "Máximo: 296\n",
            "95%: 55\n"
          ]
        }
      ]
    },
    {
      "cell_type": "code",
      "source": [
        "sns.histplot(x=palavras_por_texto, color=COR)\n",
        "\n",
        "plt.xlim(0, 60)\n",
        "\n",
        "plt.xlabel('Quantidade de palavras')\n",
        "plt.ylabel('Quantidade de textos');"
      ],
      "metadata": {
        "colab": {
          "base_uri": "https://localhost:8080/",
          "height": 452
        },
        "id": "O5Vyt98piT5V",
        "outputId": "2eb1b621-a840-4a47-c5c7-3db9ace8897c"
      },
      "execution_count": 26,
      "outputs": [
        {
          "output_type": "display_data",
          "data": {
            "text/plain": [
              "<Figure size 800x500 with 1 Axes>"
            ],
            "image/png": "[encoded data removed]"
          },
          "metadata": {}
        }
      ]
    },
    {
      "cell_type": "markdown",
      "source": [
        "#### Vetorização"
      ],
      "metadata": {
        "id": "oZvbMm1Doyqc"
      }
    },
    {
      "cell_type": "code",
      "source": [
        "vetorizador = TextVectorization(max_tokens=LIMITE_DICIONARIO,\n",
        "                                output_mode='int',\n",
        "                                output_sequence_length=palavras_por_texto_95,\n",
        "                                name='vetorizador')\n",
        "\n",
        "vetorizador.adapt(df_treino['texto'])"
      ],
      "metadata": {
        "id": "KeLhjzAYH3jG"
      },
      "execution_count": 27,
      "outputs": []
    },
    {
      "cell_type": "code",
      "source": [
        "vetorizador.get_config()"
      ],
      "metadata": {
        "colab": {
          "base_uri": "https://localhost:8080/"
        },
        "id": "6nHcUj06QgTH",
        "outputId": "465c742d-ad6c-42bd-ac89-66832d0a783a"
      },
      "execution_count": 28,
      "outputs": [
        {
          "output_type": "execute_result",
          "data": {
            "text/plain": [
              "{'name': 'vetorizador',\n",
              " 'trainable': True,\n",
              " 'batch_input_shape': (None, None),\n",
              " 'dtype': 'string',\n",
              " 'max_tokens': 68000,\n",
              " 'standardize': 'lower_and_strip_punctuation',\n",
              " 'split': 'whitespace',\n",
              " 'ngrams': None,\n",
              " 'output_mode': 'int',\n",
              " 'output_sequence_length': 55,\n",
              " 'pad_to_max_tokens': False,\n",
              " 'sparse': False,\n",
              " 'ragged': False,\n",
              " 'vocabulary': None,\n",
              " 'idf_weights': None}"
            ]
          },
          "metadata": {},
          "execution_count": 28
        }
      ]
    },
    {
      "cell_type": "markdown",
      "source": [
        "#### Vocabulário"
      ],
      "metadata": {
        "id": "VRtmy8e7YrHM"
      }
    },
    {
      "cell_type": "code",
      "source": [
        "vocabulario = vetorizador.get_vocabulary()\n",
        "\n",
        "print(f\"Tamanho do vocabulário: {len(vocabulario)}\")\n",
        "print(f\"10 palavras mais comuns: {vocabulario[:10]}\")\n",
        "print(f\"10 palavras menos comuns: {vocabulario[-10:]}\")"
      ],
      "metadata": {
        "colab": {
          "base_uri": "https://localhost:8080/"
        },
        "id": "u10YwRExLW33",
        "outputId": "d7f9aeb8-5c04-4926-ced4-2b61fc5a9e4c"
      },
      "execution_count": 29,
      "outputs": [
        {
          "output_type": "stream",
          "name": "stdout",
          "text": [
            "Tamanho do vocabulário: 64841\n",
            "10 palavras mais comuns: ['', '[UNK]', 'the', 'and', 'of', 'in', 'to', 'with', 'a', 'were']\n",
            "10 palavras menos comuns: ['aarm', 'aaqol', 'aaq', 'aanhui', 'aana', 'aainduced', 'aaigroup', 'aachener', 'aachen', 'aaacp']\n"
          ]
        }
      ]
    },
    {
      "cell_type": "markdown",
      "source": [
        "#### Incorporação"
      ],
      "metadata": {
        "id": "3kBsMF6VLosd"
      }
    },
    {
      "cell_type": "code",
      "source": [
        "incorporador = Embedding(input_dim=len(vocabulario),\n",
        "                         output_dim=LIMITE_INCORPORADOR,\n",
        "                         mask_zero=True,\n",
        "                         input_length=palavras_por_texto_95,\n",
        "                         name='incorporador')"
      ],
      "metadata": {
        "id": "z7XbDbl1LtUs"
      },
      "execution_count": 30,
      "outputs": []
    },
    {
      "cell_type": "markdown",
      "source": [
        "`mask_zero=True` otimiza o tratamento de preenchimento com valor zero nas camadas subsequentes e na função de perda.\n",
        "\n",
        "Mais informações: https://stackoverflow.com/questions/47485216/how-does-mask-zero-in-keras-embedding-layer-work"
      ],
      "metadata": {
        "id": "YNf0XZ4GhcsG"
      }
    },
    {
      "cell_type": "code",
      "source": [
        "incorporador.get_config()"
      ],
      "metadata": {
        "colab": {
          "base_uri": "https://localhost:8080/"
        },
        "id": "MUKf0O-aUHub",
        "outputId": "9bb3648b-337f-42bc-fdc0-9584b3d8e38f"
      },
      "execution_count": 31,
      "outputs": [
        {
          "output_type": "execute_result",
          "data": {
            "text/plain": [
              "{'name': 'incorporador',\n",
              " 'trainable': True,\n",
              " 'batch_input_shape': (None, 55),\n",
              " 'dtype': 'float32',\n",
              " 'input_dim': 64841,\n",
              " 'output_dim': 300,\n",
              " 'embeddings_initializer': {'class_name': 'RandomUniform',\n",
              "  'config': {'minval': -0.05, 'maxval': 0.05, 'seed': None}},\n",
              " 'embeddings_regularizer': None,\n",
              " 'activity_regularizer': None,\n",
              " 'embeddings_constraint': None,\n",
              " 'mask_zero': True,\n",
              " 'input_length': 55}"
            ]
          },
          "metadata": {},
          "execution_count": 31
        }
      ]
    },
    {
      "cell_type": "markdown",
      "source": [
        "#### Verificação"
      ],
      "metadata": {
        "id": "XfgZ6wGIV60K"
      }
    },
    {
      "cell_type": "code",
      "source": [
        "texto_aleatorio = random.choice(df_treino['texto'])\n",
        "\n",
        "vetorizado = vetorizador([texto_aleatorio])\n",
        "incorporado = incorporador(vetorizado)\n",
        "\n",
        "print(texto_aleatorio)\n",
        "print()\n",
        "print(f\"Quantidade de palavras: {len(texto_aleatorio.split())}\")\n",
        "print(f\"Formato vetorizado: {vetorizado.shape}\")\n",
        "print(f\"Formato incorporado: {incorporado.shape}\")\n",
        "print()\n",
        "print(vetorizado)\n",
        "print()\n",
        "print(incorporado)"
      ],
      "metadata": {
        "colab": {
          "base_uri": "https://localhost:8080/"
        },
        "id": "eqhJBzTELByS",
        "outputId": "8c69897c-0dbd-4b02-8703-a2184418cf9b"
      },
      "execution_count": 32,
      "outputs": [
        {
          "output_type": "stream",
          "name": "stdout",
          "text": [
            "a multicenter , randomized study assigned patients undergoing implantation of everolimus-eluting stents with confirmed nonresistance to aspirin to receive @ - or @-month dapt .\n",
            "\n",
            "Quantidade de palavras: 25\n",
            "Formato vetorizado: (1, 55)\n",
            "Formato incorporado: (1, 55, 300)\n",
            "\n",
            "tf.Tensor(\n",
            "[[    8   502    29    17   123    12   295  1087     4  4435  1475     7\n",
            "    736 50762     6  1271     6   175    16   178  5223     0     0     0\n",
            "      0     0     0     0     0     0     0     0     0     0     0     0\n",
            "      0     0     0     0     0     0     0     0     0     0     0     0\n",
            "      0     0     0     0     0     0     0]], shape=(1, 55), dtype=int64)\n",
            "\n",
            "tf.Tensor(\n",
            "[[[-0.01613315 -0.04090969  0.03157474 ...  0.0074662   0.005469\n",
            "   -0.01261669]\n",
            "  [ 0.01493705 -0.03579326 -0.01482107 ...  0.01834147 -0.04167961\n",
            "   -0.04442924]\n",
            "  [ 0.00493182 -0.03058741 -0.00525532 ...  0.0002775   0.03767722\n",
            "    0.04147697]\n",
            "  ...\n",
            "  [ 0.04939245  0.02565536 -0.02008821 ...  0.00526866  0.00262833\n",
            "    0.00383962]\n",
            "  [ 0.04939245  0.02565536 -0.02008821 ...  0.00526866  0.00262833\n",
            "    0.00383962]\n",
            "  [ 0.04939245  0.02565536 -0.02008821 ...  0.00526866  0.00262833\n",
            "    0.00383962]]], shape=(1, 55, 300), dtype=float32)\n"
          ]
        }
      ]
    },
    {
      "cell_type": "markdown",
      "source": [
        "#### Criação de datasets"
      ],
      "metadata": {
        "id": "YA2mPLtdSzmW"
      }
    },
    {
      "cell_type": "markdown",
      "source": [
        "Fusão dos dados e rótulos em datasets para ganho de performance.\n",
        "\n",
        "Better performance with the tf.data API: https://www.tensorflow.org/guide/data_performance"
      ],
      "metadata": {
        "id": "zyXYoLr-ja4o"
      }
    },
    {
      "cell_type": "code",
      "source": [
        "# Datasets\n",
        "dados_treino    = Dataset.from_tensor_slices((df_treino['texto'], rotulos_onehot_treino))\n",
        "dados_validacao = Dataset.from_tensor_slices((df_validacao['texto'], rotulos_onehot_validacao))\n",
        "dados_teste     = Dataset.from_tensor_slices((df_teste['texto'], rotulos_onehot_teste))"
      ],
      "metadata": {
        "id": "N4DJJZbJj3Gw"
      },
      "execution_count": 33,
      "outputs": []
    },
    {
      "cell_type": "code",
      "source": [
        "dados_treino"
      ],
      "metadata": {
        "colab": {
          "base_uri": "https://localhost:8080/"
        },
        "id": "aHup0yT6moG_",
        "outputId": "89a583cf-5dd7-47a9-b5c5-398a49c70427"
      },
      "execution_count": 34,
      "outputs": [
        {
          "output_type": "execute_result",
          "data": {
            "text/plain": [
              "<TensorSliceDataset element_spec=(TensorSpec(shape=(), dtype=tf.string, name=None), TensorSpec(shape=(5,), dtype=tf.float64, name=None))>"
            ]
          },
          "metadata": {},
          "execution_count": 34
        }
      ]
    },
    {
      "cell_type": "code",
      "source": [
        "# Pré-buscas\n",
        "dados_treino    = dados_treino.batch(LOTE_TAMANHO).prefetch(AUTOTUNE)\n",
        "dados_validacao = dados_validacao.batch(LOTE_TAMANHO).prefetch(AUTOTUNE)\n",
        "dados_teste     = dados_teste.batch(LOTE_TAMANHO).prefetch(AUTOTUNE)"
      ],
      "metadata": {
        "id": "dXfcMje8mpcz"
      },
      "execution_count": 35,
      "outputs": []
    },
    {
      "cell_type": "code",
      "source": [
        "dados_treino"
      ],
      "metadata": {
        "colab": {
          "base_uri": "https://localhost:8080/"
        },
        "id": "cldjvm9YmpOK",
        "outputId": "51360959-4d55-4337-d433-86c0637d6e4b"
      },
      "execution_count": 36,
      "outputs": [
        {
          "output_type": "execute_result",
          "data": {
            "text/plain": [
              "<PrefetchDataset element_spec=(TensorSpec(shape=(None,), dtype=tf.string, name=None), TensorSpec(shape=(None, 5), dtype=tf.float64, name=None))>"
            ]
          },
          "metadata": {},
          "execution_count": 36
        }
      ]
    },
    {
      "cell_type": "markdown",
      "source": [
        "### Modelo 1: Conv1D com incorporação de palavras"
      ],
      "metadata": {
        "id": "VzH5qYgYmozK"
      }
    },
    {
      "cell_type": "code",
      "source": [
        "# modelo_nome = 'modelo_1_conv1d_inc_palavras'\n",
        "\n",
        "# entradas = Input(shape=ENTRADA_FORMATO, dtype=ENTRADA_TIPO, name='camada_entrada')\n",
        "\n",
        "# camadas = vetorizador(entradas)\n",
        "# camadas = incorporador(camadas)\n",
        "\n",
        "# camadas = Conv1D(filters=FILTROS,\n",
        "#                  kernel_size=NUCLEO_TAMANHO,\n",
        "#                  activation=ATIVACAO_CNN,\n",
        "#                  padding=PREENCHIMENTO,\n",
        "#                  name='camada_convulacional')(camadas)\n",
        "\n",
        "# camadas = GlobalAveragePooling1D(name='agrupamento_media_global')(camadas)\n",
        "\n",
        "# saidas = Dense(len(classes), activation=ATIVACAO_SAIDA, name='camada_saida')(camadas)\n",
        "\n",
        "# modelo = Model(inputs=entradas, outputs=saidas, name=modelo_nome)\n",
        "\n",
        "# modelo.compile(loss=PERDA,\n",
        "#                optimizer=Adam(learning_rate=APRENDIZADO),\n",
        "#                metrics=METRICAS)\n",
        "\n",
        "# historico = modelo.fit(dados_treino,\n",
        "#                        epochs=ITERACOES,\n",
        "#                     #    validation_data=dados_validacao,\n",
        "#                        verbose=1)"
      ],
      "metadata": {
        "id": "tGq3c7yNRiq9"
      },
      "execution_count": 37,
      "outputs": []
    },
    {
      "cell_type": "code",
      "source": [
        "# grafico_historico_por_iteracao(historico)"
      ],
      "metadata": {
        "id": "DvgTDDqKWfrz"
      },
      "execution_count": 38,
      "outputs": []
    },
    {
      "cell_type": "code",
      "source": [
        "# probabilidades = modelo.predict(dados_validacao)\n",
        "# previsoes      = tf.argmax(probabilidades, axis=1)\n",
        "# avaliacoes[1]  = avaliar_modelo(rotulos_int_validacao, previsoes, classes)"
      ],
      "metadata": {
        "id": "pESc6xprWmui"
      },
      "execution_count": 39,
      "outputs": []
    },
    {
      "cell_type": "code",
      "source": [
        "# avaliacoes[1]"
      ],
      "metadata": {
        "id": "P7WWed99Ytdo"
      },
      "execution_count": 40,
      "outputs": []
    },
    {
      "cell_type": "markdown",
      "source": [
        "### Modelo 2: TFHub USE"
      ],
      "metadata": {
        "id": "LZ4fqAxTZGOn"
      }
    },
    {
      "cell_type": "code",
      "source": [
        "# modelo_nome = 'modelo_2_use'\n",
        "\n",
        "# entradas = Input(shape=[], dtype=ENTRADA_TIPO, name='camada_entrada')  # shape=[] para entradas de tamanho variável\n",
        "\n",
        "# incorporador_use = hub.KerasLayer(handle='https://tfhub.dev/google/universal-sentence-encoder/4',\n",
        "#                                   trainable=False,\n",
        "#                                   name='incorporador_use')(entradas)\n",
        "\n",
        "# camadas = Dense(LIMITE_INCORPORADOR, activation=ATIVACAO_CNN, name='camada_relu')(incorporador_use)\n",
        "\n",
        "# saidas = Dense(len(classes), activation=ATIVACAO_SAIDA, name='camada_saida')(camadas)\n",
        "\n",
        "# modelo = Model(inputs=entradas, outputs=saidas, name=modelo_nome)\n",
        "\n",
        "# modelo.compile(loss=PERDA,\n",
        "#                optimizer=Adam(learning_rate=APRENDIZADO),\n",
        "#                metrics=METRICAS)\n",
        "\n",
        "# historico = modelo.fit(dados_treino,\n",
        "#                        epochs=ITERACOES,\n",
        "#                     #    validation_data=dados_validacao,\n",
        "#                        verbose=1)"
      ],
      "metadata": {
        "id": "oYEdZE6s0F6Q"
      },
      "execution_count": 41,
      "outputs": []
    },
    {
      "cell_type": "code",
      "source": [
        "# grafico_historico_por_iteracao(historico)"
      ],
      "metadata": {
        "id": "GqS2eo02276k"
      },
      "execution_count": 42,
      "outputs": []
    },
    {
      "cell_type": "code",
      "source": [
        "# probabilidades = modelo.predict(dados_validacao)\n",
        "# previsoes      = tf.argmax(probabilidades, axis=1)\n",
        "# avaliacoes[2]  = avaliar_modelo(rotulos_int_validacao, previsoes, classes)"
      ],
      "metadata": {
        "id": "J5lUNxJ_3Axz"
      },
      "execution_count": 43,
      "outputs": []
    },
    {
      "cell_type": "code",
      "source": [
        "# avaliacoes[2]"
      ],
      "metadata": {
        "id": "iRbuW8Nh3AsV"
      },
      "execution_count": 44,
      "outputs": []
    },
    {
      "cell_type": "markdown",
      "source": [
        "### Preparação dos caracteres"
      ],
      "metadata": {
        "id": "QjgLcEPf3Amu"
      }
    },
    {
      "cell_type": "code",
      "source": [
        "caracteres_por_texto    = [len(texto) for texto in df_treino['texto']]\n",
        "caracteres_por_texto_95 = int(np.percentile(caracteres_por_texto, 95))  # Quantidade máxima de caracteres para 95% dos textos."
      ],
      "metadata": {
        "id": "E0pxxUvmGzTB"
      },
      "execution_count": 45,
      "outputs": []
    },
    {
      "cell_type": "code",
      "source": [
        "print(f\"Média: {np.mean(caracteres_por_texto)}\")\n",
        "print(f\"Máximo: {np.max(caracteres_por_texto)}\")\n",
        "print(f\"95%: {caracteres_por_texto_95}\")"
      ],
      "metadata": {
        "colab": {
          "base_uri": "https://localhost:8080/"
        },
        "outputId": "470d207c-e233-403d-ce38-1141c127c73c",
        "id": "b9asU3JlEQZF"
      },
      "execution_count": 46,
      "outputs": [
        {
          "output_type": "stream",
          "name": "stdout",
          "text": [
            "Média: 149.3662574983337\n",
            "Máximo: 1386\n",
            "95%: 290\n"
          ]
        }
      ]
    },
    {
      "cell_type": "code",
      "source": [
        "sns.histplot(x=caracteres_por_texto, color=COR)\n",
        "\n",
        "plt.xlim(0, 300)\n",
        "\n",
        "plt.xlabel('Quantidade de caracteres')\n",
        "plt.ylabel('Quantidade de textos');"
      ],
      "metadata": {
        "colab": {
          "base_uri": "https://localhost:8080/",
          "height": 452
        },
        "outputId": "3041e942-abd6-409c-e3b5-77ea5f470aa0",
        "id": "6EJS1vNBEQZF"
      },
      "execution_count": 47,
      "outputs": [
        {
          "output_type": "display_data",
          "data": {
            "text/plain": [
              "<Figure size 800x500 with 1 Axes>"
            ],
            "image/png": "[encoded data removed]"
          },
          "metadata": {}
        }
      ]
    },
    {
      "cell_type": "markdown",
      "source": [
        "#### Listas de caracteres"
      ],
      "metadata": {
        "id": "SbBiHLhsHudf"
      }
    },
    {
      "cell_type": "code",
      "source": [
        "lista_caracteres_treino    = [\" \".join(list(texto)) for texto in df_treino['texto']]\n",
        "lista_caracteres_validacao = [\" \".join(list(texto)) for texto in df_validacao['texto']]\n",
        "lista_caracteres_teste     = [\" \".join(list(texto)) for texto in df_teste['texto']]"
      ],
      "metadata": {
        "id": "vzjrtsvIHQ1d"
      },
      "execution_count": 48,
      "outputs": []
    },
    {
      "cell_type": "markdown",
      "source": [
        "#### Vetorização"
      ],
      "metadata": {
        "id": "bM0_3wobIXFj"
      }
    },
    {
      "cell_type": "code",
      "source": [
        "vetorizador_caracteres = TextVectorization(max_tokens=LIMITE_CARACTERES,\n",
        "                                           output_mode='int',\n",
        "                                           output_sequence_length=caracteres_por_texto_95,\n",
        "                                           name='vetorizador_caracteres')\n",
        "\n",
        "vetorizador_caracteres.adapt(lista_caracteres_treino)"
      ],
      "metadata": {
        "id": "cj6oo8JxIXFj"
      },
      "execution_count": 49,
      "outputs": []
    },
    {
      "cell_type": "code",
      "source": [
        "vetorizador_caracteres.get_config()"
      ],
      "metadata": {
        "colab": {
          "base_uri": "https://localhost:8080/"
        },
        "outputId": "214d5270-5066-4b64-bb05-599f42ea7fe1",
        "id": "CKxOJL76IXFj"
      },
      "execution_count": 50,
      "outputs": [
        {
          "output_type": "execute_result",
          "data": {
            "text/plain": [
              "{'name': 'vetorizador_caracteres',\n",
              " 'trainable': True,\n",
              " 'batch_input_shape': (None,),\n",
              " 'dtype': 'string',\n",
              " 'max_tokens': 100,\n",
              " 'standardize': 'lower_and_strip_punctuation',\n",
              " 'split': 'whitespace',\n",
              " 'ngrams': None,\n",
              " 'output_mode': 'int',\n",
              " 'output_sequence_length': 290,\n",
              " 'pad_to_max_tokens': False,\n",
              " 'sparse': False,\n",
              " 'ragged': False,\n",
              " 'vocabulary': None,\n",
              " 'idf_weights': None}"
            ]
          },
          "metadata": {},
          "execution_count": 50
        }
      ]
    },
    {
      "cell_type": "markdown",
      "source": [
        "#### Vocabulário"
      ],
      "metadata": {
        "id": "9y1O0XZXIXFj"
      }
    },
    {
      "cell_type": "code",
      "source": [
        "vocabulario_caracteres = vetorizador_caracteres.get_vocabulary()\n",
        "\n",
        "print(f\"Tamanho do vocabulário: {len(vocabulario_caracteres)}\")\n",
        "print(f\"10 caracteres mais comuns: {vocabulario_caracteres[:10]}\")\n",
        "print(f\"10 caracteres menos comuns: {vocabulario_caracteres[-10:]}\")"
      ],
      "metadata": {
        "colab": {
          "base_uri": "https://localhost:8080/"
        },
        "outputId": "f98c67f3-4ed3-4de2-cc2c-1eee5858022a",
        "id": "1WUV2_r5IXFj"
      },
      "execution_count": 51,
      "outputs": [
        {
          "output_type": "stream",
          "name": "stdout",
          "text": [
            "Tamanho do vocabulário: 28\n",
            "10 caracteres mais comuns: ['', '[UNK]', 'e', 't', 'i', 'a', 'n', 'o', 'r', 's']\n",
            "10 caracteres menos comuns: ['g', 'y', 'w', 'v', 'b', 'k', 'x', 'z', 'q', 'j']\n"
          ]
        }
      ]
    },
    {
      "cell_type": "markdown",
      "source": [
        "#### Incorporação"
      ],
      "metadata": {
        "id": "jt-5UfbPIXFk"
      }
    },
    {
      "cell_type": "code",
      "source": [
        "incorporador_caracteres = Embedding(input_dim=len(vocabulario_caracteres),\n",
        "                                    output_dim=LIMITE_INCORPORADOR_CARACTERES,\n",
        "                                    mask_zero=True,\n",
        "                                    input_length=caracteres_por_texto_95,\n",
        "                                    name='incorporador_caracteres')"
      ],
      "metadata": {
        "id": "Q3alwoI7IXFk"
      },
      "execution_count": 52,
      "outputs": []
    },
    {
      "cell_type": "code",
      "source": [
        "incorporador_caracteres.get_config()"
      ],
      "metadata": {
        "colab": {
          "base_uri": "https://localhost:8080/"
        },
        "outputId": "75b0c4d4-55da-4510-f657-2e93fd6134ad",
        "id": "1pK0YLIuIXFk"
      },
      "execution_count": 53,
      "outputs": [
        {
          "output_type": "execute_result",
          "data": {
            "text/plain": [
              "{'name': 'incorporador_caracteres',\n",
              " 'trainable': True,\n",
              " 'batch_input_shape': (None, 290),\n",
              " 'dtype': 'float32',\n",
              " 'input_dim': 28,\n",
              " 'output_dim': 25,\n",
              " 'embeddings_initializer': {'class_name': 'RandomUniform',\n",
              "  'config': {'minval': -0.05, 'maxval': 0.05, 'seed': None}},\n",
              " 'embeddings_regularizer': None,\n",
              " 'activity_regularizer': None,\n",
              " 'embeddings_constraint': None,\n",
              " 'mask_zero': True,\n",
              " 'input_length': 290}"
            ]
          },
          "metadata": {},
          "execution_count": 53
        }
      ]
    },
    {
      "cell_type": "markdown",
      "source": [
        "#### Verificação"
      ],
      "metadata": {
        "id": "ly2PWk0dIXFk"
      }
    },
    {
      "cell_type": "code",
      "source": [
        "texto_aleatorio = random.choice(lista_caracteres_treino)\n",
        "\n",
        "vetorizado = vetorizador_caracteres([texto_aleatorio])\n",
        "incorporado = incorporador_caracteres(vetorizado)\n",
        "\n",
        "print(texto_aleatorio)\n",
        "print()\n",
        "print(f\"Quantidade de caracteres: {len(texto_aleatorio.split())}\")\n",
        "print(f\"Formato vetorizado: {vetorizado.shape}\")\n",
        "print(f\"Formato incorporado: {incorporado.shape}\")\n",
        "print()\n",
        "print(vetorizado)\n",
        "print()\n",
        "print(incorporado)"
      ],
      "metadata": {
        "colab": {
          "base_uri": "https://localhost:8080/"
        },
        "outputId": "0134ca73-80a2-4a2d-dbd0-a3aa28984db1",
        "id": "eXvchSBvIXFk"
      },
      "execution_count": 54,
      "outputs": [
        {
          "output_type": "stream",
          "name": "stdout",
          "text": [
            "r o b o t - a s s i s t e d   c t - g u i d e d   l u n g   b i o p s y   r e d u c e s   p r o c e d u r e   d u r a t i o n   a n d   r a d i a t i o n   d o s e   .\n",
            "\n",
            "Quantidade de caracteres: 74\n",
            "Formato vetorizado: (1, 290)\n",
            "Formato incorporado: (1, 290, 25)\n",
            "\n",
            "tf.Tensor(\n",
            "[[ 8  7 22  7  3  5  9  9  4  9  3  2 10 11  3 18 16  4 10  2 10 12 16  6\n",
            "  18 22  4  7 14  9 19  8  2 10 16 11  2  9 14  8  7 11  2 10 16  8  2 10\n",
            "  16  8  5  3  4  7  6  5  6 10  8  5 10  4  5  3  4  7  6 10  7  9  2  0\n",
            "   0  0  0  0  0  0  0  0  0  0  0  0  0  0  0  0  0  0  0  0  0  0  0  0\n",
            "   0  0  0  0  0  0  0  0  0  0  0  0  0  0  0  0  0  0  0  0  0  0  0  0\n",
            "   0  0  0  0  0  0  0  0  0  0  0  0  0  0  0  0  0  0  0  0  0  0  0  0\n",
            "   0  0  0  0  0  0  0  0  0  0  0  0  0  0  0  0  0  0  0  0  0  0  0  0\n",
            "   0  0  0  0  0  0  0  0  0  0  0  0  0  0  0  0  0  0  0  0  0  0  0  0\n",
            "   0  0  0  0  0  0  0  0  0  0  0  0  0  0  0  0  0  0  0  0  0  0  0  0\n",
            "   0  0  0  0  0  0  0  0  0  0  0  0  0  0  0  0  0  0  0  0  0  0  0  0\n",
            "   0  0  0  0  0  0  0  0  0  0  0  0  0  0  0  0  0  0  0  0  0  0  0  0\n",
            "   0  0  0  0  0  0  0  0  0  0  0  0  0  0  0  0  0  0  0  0  0  0  0  0\n",
            "   0  0]], shape=(1, 290), dtype=int64)\n",
            "\n",
            "tf.Tensor(\n",
            "[[[ 0.01598665 -0.03336096 -0.00794208 ... -0.00226334 -0.03846948\n",
            "   -0.0018098 ]\n",
            "  [-0.02145612 -0.02353152 -0.04079755 ... -0.03751651  0.03555215\n",
            "    0.04150223]\n",
            "  [ 0.01560951 -0.04146146  0.00955743 ...  0.03120487 -0.00708205\n",
            "   -0.02771287]\n",
            "  ...\n",
            "  [ 0.00446226  0.03146391 -0.03536667 ...  0.0058223  -0.0201977\n",
            "   -0.03415623]\n",
            "  [ 0.00446226  0.03146391 -0.03536667 ...  0.0058223  -0.0201977\n",
            "   -0.03415623]\n",
            "  [ 0.00446226  0.03146391 -0.03536667 ...  0.0058223  -0.0201977\n",
            "   -0.03415623]]], shape=(1, 290, 25), dtype=float32)\n"
          ]
        }
      ]
    },
    {
      "cell_type": "markdown",
      "source": [
        "#### Criação de datasets"
      ],
      "metadata": {
        "id": "39Aw_gWSNLRr"
      }
    },
    {
      "cell_type": "code",
      "source": [
        "# Datasets\n",
        "caracteres_treino    = Dataset.from_tensor_slices((lista_caracteres_treino, rotulos_onehot_treino))\n",
        "caracteres_validacao = Dataset.from_tensor_slices((lista_caracteres_validacao, rotulos_onehot_validacao))\n",
        "caracteres_teste     = Dataset.from_tensor_slices((lista_caracteres_teste, rotulos_onehot_teste))"
      ],
      "metadata": {
        "id": "-4akrLZ5NLRx"
      },
      "execution_count": 55,
      "outputs": []
    },
    {
      "cell_type": "code",
      "source": [
        "caracteres_treino"
      ],
      "metadata": {
        "colab": {
          "base_uri": "https://localhost:8080/"
        },
        "outputId": "5b3395c0-3b7a-418f-bb15-193607d7d0eb",
        "id": "D45KgBeLNLRx"
      },
      "execution_count": 56,
      "outputs": [
        {
          "output_type": "execute_result",
          "data": {
            "text/plain": [
              "<TensorSliceDataset element_spec=(TensorSpec(shape=(), dtype=tf.string, name=None), TensorSpec(shape=(5,), dtype=tf.float64, name=None))>"
            ]
          },
          "metadata": {},
          "execution_count": 56
        }
      ]
    },
    {
      "cell_type": "code",
      "source": [
        "# Pré-buscas\n",
        "caracteres_treino    = caracteres_treino.batch(LOTE_TAMANHO).prefetch(AUTOTUNE)\n",
        "caracteres_validacao = caracteres_validacao.batch(LOTE_TAMANHO).prefetch(AUTOTUNE)\n",
        "caracteres_teste     = caracteres_teste.batch(LOTE_TAMANHO).prefetch(AUTOTUNE)"
      ],
      "metadata": {
        "id": "ljbXXb6ZNLRx"
      },
      "execution_count": 57,
      "outputs": []
    },
    {
      "cell_type": "code",
      "source": [
        "caracteres_treino"
      ],
      "metadata": {
        "colab": {
          "base_uri": "https://localhost:8080/"
        },
        "outputId": "a87daf29-d1d0-4fab-fa35-653b22a6ab93",
        "id": "VmXYT7rcNLRx"
      },
      "execution_count": 58,
      "outputs": [
        {
          "output_type": "execute_result",
          "data": {
            "text/plain": [
              "<PrefetchDataset element_spec=(TensorSpec(shape=(None,), dtype=tf.string, name=None), TensorSpec(shape=(None, 5), dtype=tf.float64, name=None))>"
            ]
          },
          "metadata": {},
          "execution_count": 58
        }
      ]
    },
    {
      "cell_type": "markdown",
      "source": [
        "### Modelo 3: Conv1D com incorporação de caracteres"
      ],
      "metadata": {
        "id": "W9HK252ZNLRy"
      }
    },
    {
      "cell_type": "code",
      "source": [
        "# modelo_nome = 'modelo_3_conv1d_inc_caracteres'\n",
        "\n",
        "# entradas = Input(shape=ENTRADA_FORMATO, dtype=ENTRADA_TIPO, name='camada_entrada')\n",
        "\n",
        "# camadas = vetorizador_caracteres(entradas)\n",
        "# camadas = incorporador_caracteres(camadas)\n",
        "\n",
        "# camadas = Conv1D(filters=FILTROS,\n",
        "#                  kernel_size=NUCLEO_TAMANHO,\n",
        "#                  activation=ATIVACAO_CNN,\n",
        "#                  padding=PREENCHIMENTO,\n",
        "#                  name='camada_convulacional')(camadas)\n",
        "\n",
        "# camadas = GlobalMaxPool1D(name='agrupamento_maximo_global')(camadas)\n",
        "\n",
        "# saidas = Dense(len(classes), activation=ATIVACAO_SAIDA, name='camada_saida')(camadas)\n",
        "\n",
        "# modelo = Model(inputs=entradas, outputs=saidas, name=modelo_nome)\n",
        "\n",
        "# modelo.compile(loss=PERDA,\n",
        "#                optimizer=Adam(learning_rate=APRENDIZADO),\n",
        "#                metrics=METRICAS)\n",
        "\n",
        "# historico = modelo.fit(caracteres_treino,\n",
        "#                        epochs=ITERACOES,\n",
        "#                     #    validation_data=caracteres_validacao,\n",
        "#                        verbose=1)"
      ],
      "metadata": {
        "id": "LpjBsWGHNLRy"
      },
      "execution_count": 59,
      "outputs": []
    },
    {
      "cell_type": "code",
      "source": [
        "# grafico_historico_por_iteracao(historico)"
      ],
      "metadata": {
        "id": "-wX1nVhUNLRy"
      },
      "execution_count": 60,
      "outputs": []
    },
    {
      "cell_type": "code",
      "source": [
        "# probabilidades = modelo.predict(caracteres_validacao)\n",
        "# previsoes      = tf.argmax(probabilidades, axis=1)\n",
        "# avaliacoes[3]  = avaliar_modelo(rotulos_int_validacao, previsoes, classes)"
      ],
      "metadata": {
        "id": "BKp0J6XJNLRy"
      },
      "execution_count": 61,
      "outputs": []
    },
    {
      "cell_type": "code",
      "source": [
        "# avaliacoes[3]"
      ],
      "metadata": {
        "id": "vXhFllJNNLRy"
      },
      "execution_count": 62,
      "outputs": []
    },
    {
      "cell_type": "markdown",
      "source": [
        "### Criação de datasets híbridos"
      ],
      "metadata": {
        "id": "8xG1qfx9VZfv"
      }
    },
    {
      "cell_type": "code",
      "source": [
        "# Dataset treino\n",
        "dados_hibridos_treino_textos  = Dataset.from_tensor_slices((df_treino['texto'],\n",
        "                                                            lista_caracteres_treino))\n",
        "dados_hibridos_treino_rotulos = Dataset.from_tensor_slices(rotulos_onehot_treino)\n",
        "dados_hibridos_treino         = Dataset.zip((dados_hibridos_treino_textos, dados_hibridos_treino_rotulos))"
      ],
      "metadata": {
        "id": "F-jeY6_8Vsxv"
      },
      "execution_count": 63,
      "outputs": []
    },
    {
      "cell_type": "code",
      "source": [
        "dados_hibridos_treino"
      ],
      "metadata": {
        "colab": {
          "base_uri": "https://localhost:8080/"
        },
        "id": "us_eXi9gVsxv",
        "outputId": "2b5f9b9f-3e81-4be4-80df-f04b68b87432"
      },
      "execution_count": 64,
      "outputs": [
        {
          "output_type": "execute_result",
          "data": {
            "text/plain": [
              "<ZipDataset element_spec=((TensorSpec(shape=(), dtype=tf.string, name=None), TensorSpec(shape=(), dtype=tf.string, name=None)), TensorSpec(shape=(5,), dtype=tf.float64, name=None))>"
            ]
          },
          "metadata": {},
          "execution_count": 64
        }
      ]
    },
    {
      "cell_type": "code",
      "source": [
        "# Dataset validação\n",
        "dados_hibridos_validacao_textos  = Dataset.from_tensor_slices((df_validacao['texto'],\n",
        "                                                               lista_caracteres_validacao))\n",
        "dados_hibridos_validacao_rotulos = Dataset.from_tensor_slices(rotulos_onehot_validacao)\n",
        "dados_hibridos_validacao         = Dataset.zip((dados_hibridos_validacao_textos, dados_hibridos_validacao_rotulos))"
      ],
      "metadata": {
        "id": "1x53hf08Xx8d"
      },
      "execution_count": 65,
      "outputs": []
    },
    {
      "cell_type": "code",
      "source": [
        "dados_hibridos_validacao"
      ],
      "metadata": {
        "colab": {
          "base_uri": "https://localhost:8080/"
        },
        "id": "-1Op5g7MXx8e",
        "outputId": "30dddac4-d878-4944-edc8-64ad06c59623"
      },
      "execution_count": 66,
      "outputs": [
        {
          "output_type": "execute_result",
          "data": {
            "text/plain": [
              "<ZipDataset element_spec=((TensorSpec(shape=(), dtype=tf.string, name=None), TensorSpec(shape=(), dtype=tf.string, name=None)), TensorSpec(shape=(5,), dtype=tf.float64, name=None))>"
            ]
          },
          "metadata": {},
          "execution_count": 66
        }
      ]
    },
    {
      "cell_type": "code",
      "source": [
        "# Pré-buscas\n",
        "dados_hibridos_treino    = dados_hibridos_treino.batch(LOTE_TAMANHO).prefetch(AUTOTUNE)\n",
        "dados_hibridos_validacao = dados_hibridos_validacao.batch(LOTE_TAMANHO).prefetch(AUTOTUNE)"
      ],
      "metadata": {
        "id": "8PPyTfNBVsxv"
      },
      "execution_count": 67,
      "outputs": []
    },
    {
      "cell_type": "code",
      "source": [
        "dados_hibridos_treino, dados_hibridos_validacao"
      ],
      "metadata": {
        "colab": {
          "base_uri": "https://localhost:8080/"
        },
        "id": "L5CmDwPxVsxv",
        "outputId": "e3fa49bc-126f-4919-f036-ca43f765cfda"
      },
      "execution_count": 68,
      "outputs": [
        {
          "output_type": "execute_result",
          "data": {
            "text/plain": [
              "(<PrefetchDataset element_spec=((TensorSpec(shape=(None,), dtype=tf.string, name=None), TensorSpec(shape=(None,), dtype=tf.string, name=None)), TensorSpec(shape=(None, 5), dtype=tf.float64, name=None))>,\n",
              " <PrefetchDataset element_spec=((TensorSpec(shape=(None,), dtype=tf.string, name=None), TensorSpec(shape=(None,), dtype=tf.string, name=None)), TensorSpec(shape=(None, 5), dtype=tf.float64, name=None))>)"
            ]
          },
          "metadata": {},
          "execution_count": 68
        }
      ]
    },
    {
      "cell_type": "markdown",
      "source": [
        "### Modelo 4: Camada de incorporação híbrida"
      ],
      "metadata": {
        "id": "2Awk_cOsNThs"
      }
    },
    {
      "cell_type": "markdown",
      "source": [
        "Incorporação híbrida é a fusão de duas ou mais incorporações diferentes, neste caso incorporações de palavras e caracteres. Para isso temos os seguintes passos:\n",
        "\n",
        "1. Criar um modelo com incorporação de palavras (Universal Sentence Encoder, como no Modelo 2);\n",
        "2. Criar um modelo com incorporação de caracteres (similar ao Modelo 3);\n",
        "3. Combinar os modelos com `tf.keras.layers.concatenate`;\n",
        "4. Construir uma série de camadas de saída, similar ao descrito na Figura 1 e Seção 4.2 do artigo 1612.05251;\n",
        "5. Construir o modelo."
      ],
      "metadata": {
        "id": "NvZtXTH-UqR3"
      }
    },
    {
      "cell_type": "markdown",
      "source": [
        "#### Modelo com incorporação de palavras"
      ],
      "metadata": {
        "id": "iZOR9zWQELfq"
      }
    },
    {
      "cell_type": "code",
      "source": [
        "modelo_nome = 'modelo_incorporacao_palavras'\n",
        "\n",
        "entradas = Input(shape=[], dtype=ENTRADA_TIPO, name='camada_entrada_palavras')\n",
        "\n",
        "incorporador_use = hub.KerasLayer(handle='https://tfhub.dev/google/universal-sentence-encoder/4',\n",
        "                                  trainable=False,\n",
        "                                  name='incorporador_use')(entradas)\n",
        "\n",
        "saidas = Dense(LIMITE_INCORPORADOR, activation=ATIVACAO_CNN, name='camada_relu_palavras')(incorporador_use)\n",
        "\n",
        "modelo_incorporacao_palavras = Model(inputs=entradas, outputs=saidas, name=modelo_nome)"
      ],
      "metadata": {
        "id": "JpJDafvlIOHj"
      },
      "execution_count": 69,
      "outputs": []
    },
    {
      "cell_type": "markdown",
      "source": [
        "#### Modelo com incorporação de caracteres"
      ],
      "metadata": {
        "id": "fk2PUqR3Jj4V"
      }
    },
    {
      "cell_type": "code",
      "source": [
        "modelo_nome = 'modelo_incorporacao_caracteres'\n",
        "\n",
        "entradas = Input(shape=ENTRADA_FORMATO, dtype=ENTRADA_TIPO, name='camada_entrada_caracteres')\n",
        "\n",
        "camadas = vetorizador_caracteres(entradas)\n",
        "camadas = incorporador_caracteres(camadas)\n",
        "\n",
        "# Camada Bidirectional LSTM (1612.05251 - Figura 1)\n",
        "saidas = Bidirectional(layer=LSTM(units=LIMITE_INCORPORADOR_CARACTERES, activation=ATIVACAO_RNN), name='camada_bi_lstm_caracteres')(camadas)\n",
        "\n",
        "modelo_incorporacao_caracteres = Model(inputs=entradas, outputs=saidas, name=modelo_nome)"
      ],
      "metadata": {
        "id": "vHfIez-QJlTK"
      },
      "execution_count": 70,
      "outputs": []
    },
    {
      "cell_type": "markdown",
      "source": [
        "#### Combinação dos modelos"
      ],
      "metadata": {
        "id": "-YT3Yi7pOEwl"
      }
    },
    {
      "cell_type": "code",
      "source": [
        "combinacao = Concatenate(name=\"camada_combinacao\")([modelo_incorporacao_palavras.output,\n",
        "                                                    modelo_incorporacao_caracteres.output])"
      ],
      "metadata": {
        "id": "aW4OnsGSOGCy"
      },
      "execution_count": 71,
      "outputs": []
    },
    {
      "cell_type": "markdown",
      "source": [
        "#### Camadas de abandono e saída"
      ],
      "metadata": {
        "id": "UjufXtnGO-4P"
      }
    },
    {
      "cell_type": "code",
      "source": [
        "# Taxa de abandono de 50% (1612.05251 - Seção 4.2)\n",
        "abandonos = Dropout(rate=0.5, name='camada_abandonos_combinacao')(combinacao)\n",
        "abandonos = Dense(LIMITE_VETOR_TEXTO * 2, activation=ATIVACAO_CNN, name='camada_abandonos_relu')(abandonos)\n",
        "abandonos = Dropout(rate=0.5, name='camada_abandonos_final')(abandonos)\n",
        "\n",
        "saidas = Dense(len(classes), activation=ATIVACAO_SAIDA, name='camada_saida')(abandonos)"
      ],
      "metadata": {
        "id": "o9FEpSCHPAAa"
      },
      "execution_count": 72,
      "outputs": []
    },
    {
      "cell_type": "markdown",
      "source": [
        "#### Modelo com incorporação híbrida"
      ],
      "metadata": {
        "id": "zGkNTfx6RB8M"
      }
    },
    {
      "cell_type": "code",
      "source": [
        "modelo_nome = 'modelo_4_incorporacao_hibrida'\n",
        "\n",
        "modelo = Model(inputs=[modelo_incorporacao_palavras.input,\n",
        "                       modelo_incorporacao_caracteres.input],\n",
        "               outputs=saidas,\n",
        "               name=modelo_nome)"
      ],
      "metadata": {
        "id": "c5zWy3cTRC_i"
      },
      "execution_count": 73,
      "outputs": []
    },
    {
      "cell_type": "markdown",
      "source": [
        "#### Verificação do modelo"
      ],
      "metadata": {
        "id": "fp4P7setRu6N"
      }
    },
    {
      "cell_type": "code",
      "source": [
        "modelo.summary()"
      ],
      "metadata": {
        "colab": {
          "base_uri": "https://localhost:8080/"
        },
        "id": "wX-RpXHjRwlK",
        "outputId": "9be515d6-5af8-45e2-8553-d747e4c46970"
      },
      "execution_count": 74,
      "outputs": [
        {
          "output_type": "stream",
          "name": "stdout",
          "text": [
            "Model: \"modelo_4_incorporacao_hibrida\"\n",
            "__________________________________________________________________________________________________\n",
            " Layer (type)                   Output Shape         Param #     Connected to                     \n",
            "==================================================================================================\n",
            " camada_entrada_caracteres (Inp  [(None, 1)]         0           []                               \n",
            " utLayer)                                                                                         \n",
            "                                                                                                  \n",
            " camada_entrada_palavras (Input  [(None,)]           0           []                               \n",
            " Layer)                                                                                           \n",
            "                                                                                                  \n",
            " vetorizador_caracteres (TextVe  (None, 290)         0           ['camada_entrada_caracteres[0][0]\n",
            " ctorization)                                                    ']                               \n",
            "                                                                                                  \n",
            " incorporador_use (KerasLayer)  (None, 512)          256797824   ['camada_entrada_palavras[0][0]']\n",
            "                                                                                                  \n",
            " incorporador_caracteres (Embed  (None, 290, 25)     700         ['vetorizador_caracteres[0][0]'] \n",
            " ding)                                                                                            \n",
            "                                                                                                  \n",
            " camada_relu_palavras (Dense)   (None, 300)          153900      ['incorporador_use[0][0]']       \n",
            "                                                                                                  \n",
            " camada_bi_lstm_caracteres (Bid  (None, 50)          10200       ['incorporador_caracteres[0][0]']\n",
            " irectional)                                                                                      \n",
            "                                                                                                  \n",
            " camada_combinacao (Concatenate  (None, 350)         0           ['camada_relu_palavras[0][0]',   \n",
            " )                                                                'camada_bi_lstm_caracteres[0][0]\n",
            "                                                                 ']                               \n",
            "                                                                                                  \n",
            " camada_abandonos_combinacao (D  (None, 350)         0           ['camada_combinacao[0][0]']      \n",
            " ropout)                                                                                          \n",
            "                                                                                                  \n",
            " camada_abandonos_relu (Dense)  (None, 200)          70200       ['camada_abandonos_combinacao[0][\n",
            "                                                                 0]']                             \n",
            "                                                                                                  \n",
            " camada_abandonos_final (Dropou  (None, 200)         0           ['camada_abandonos_relu[0][0]']  \n",
            " t)                                                                                               \n",
            "                                                                                                  \n",
            " camada_saida (Dense)           (None, 5)            1005        ['camada_abandonos_final[0][0]'] \n",
            "                                                                                                  \n",
            "==================================================================================================\n",
            "Total params: 257,033,829\n",
            "Trainable params: 236,005\n",
            "Non-trainable params: 256,797,824\n",
            "__________________________________________________________________________________________________\n"
          ]
        }
      ]
    },
    {
      "cell_type": "code",
      "source": [
        "plot_model(modelo, show_shapes=True)"
      ],
      "metadata": {
        "colab": {
          "base_uri": "https://localhost:8080/",
          "height": 976
        },
        "id": "uIQDX4eXR0B6",
        "outputId": "ab4b6577-b7e7-4847-e21a-99c66fc0b350"
      },
      "execution_count": 75,
      "outputs": [
        {
          "output_type": "execute_result",
          "data": {
            "image/png": "[encoded data removed]",
            "text/plain": [
              "<IPython.core.display.Image object>"
            ]
          },
          "metadata": {},
          "execution_count": 75
        }
      ]
    },
    {
      "cell_type": "markdown",
      "source": [
        "#### Finalização do modelo"
      ],
      "metadata": {
        "id": "yhHduKqiSpdf"
      }
    },
    {
      "cell_type": "code",
      "source": [
        "# # O artigo 1612.05251 informa que o otimizador utilizado foi stochastic gradient descent (SGD).\n",
        "# # Utilizaremos o otimizador Adam para comparações com os modelos anteriores.\n",
        "\n",
        "# modelo.compile(loss=PERDA,\n",
        "#                optimizer=Adam(learning_rate=APRENDIZADO),\n",
        "#                metrics=METRICAS)\n",
        "\n",
        "# historico = modelo.fit(dados_hibridos_treino,\n",
        "#                        epochs=ITERACOES,\n",
        "#                     #    validation_data=dados_hibridos_validacao,\n",
        "#                        verbose=1)"
      ],
      "metadata": {
        "id": "fx1UmYDYSq6i"
      },
      "execution_count": 76,
      "outputs": []
    },
    {
      "cell_type": "code",
      "source": [
        "# grafico_historico_por_iteracao(historico)"
      ],
      "metadata": {
        "id": "ae5Nn7cUYbcx"
      },
      "execution_count": 77,
      "outputs": []
    },
    {
      "cell_type": "code",
      "source": [
        "# probabilidades = modelo.predict(dados_hibridos_validacao)\n",
        "# previsoes      = tf.argmax(probabilidades, axis=1)\n",
        "# avaliacoes[4]  = avaliar_modelo(rotulos_int_validacao, previsoes, classes)"
      ],
      "metadata": {
        "id": "NJ3_MwtgZuf4"
      },
      "execution_count": 78,
      "outputs": []
    },
    {
      "cell_type": "code",
      "source": [
        "# avaliacoes[4]"
      ],
      "metadata": {
        "id": "EJuqI0kLZ9rq"
      },
      "execution_count": 79,
      "outputs": []
    },
    {
      "cell_type": "markdown",
      "source": [
        "### Rótulos numéricos das quantidades de linhas"
      ],
      "metadata": {
        "id": "kYXXDjPgTluz"
      }
    },
    {
      "cell_type": "code",
      "source": [
        "sns.histplot(x=df_treino['numero'], color=COR)\n",
        "\n",
        "plt.xlabel('Número da linha')\n",
        "plt.ylabel('Quantidade de textos');"
      ],
      "metadata": {
        "colab": {
          "base_uri": "https://localhost:8080/",
          "height": 452
        },
        "outputId": "47b8cab5-482f-4977-e325-bffb5306699d",
        "id": "1hGReO4Xr5k4"
      },
      "execution_count": 80,
      "outputs": [
        {
          "output_type": "display_data",
          "data": {
            "text/plain": [
              "<Figure size 800x500 with 1 Axes>"
            ],
            "image/png": "[encoded data removed]"
          },
          "metadata": {}
        }
      ]
    },
    {
      "cell_type": "code",
      "source": [
        "numero_linha_95 = int(np.percentile(df_treino['numero'], 95))\n",
        "numero_linha_98 = int(np.percentile(df_treino['numero'], 98))\n",
        "\n",
        "numero_linha_95, numero_linha_98"
      ],
      "metadata": {
        "colab": {
          "base_uri": "https://localhost:8080/"
        },
        "id": "FdLLsEumTte7",
        "outputId": "1a22fcb3-34f3-4add-d481-4f988f542474"
      },
      "execution_count": 81,
      "outputs": [
        {
          "output_type": "execute_result",
          "data": {
            "text/plain": [
              "(13, 15)"
            ]
          },
          "metadata": {},
          "execution_count": 81
        }
      ]
    },
    {
      "cell_type": "code",
      "source": [
        "linhas_numero_onehot_treino    = tf.one_hot(df_treino['numero'], depth=numero_linha_98)\n",
        "linhas_numero_onehot_validacao = tf.one_hot(df_validacao['numero'], depth=numero_linha_98)\n",
        "linhas_numero_onehot_teste     = tf.one_hot(df_teste['numero'], depth=numero_linha_98)"
      ],
      "metadata": {
        "id": "KPYLoDyCv1js"
      },
      "execution_count": 82,
      "outputs": []
    },
    {
      "cell_type": "code",
      "source": [
        "linhas_numero_onehot_treino"
      ],
      "metadata": {
        "colab": {
          "base_uri": "https://localhost:8080/"
        },
        "id": "U1WX6MkrwRYT",
        "outputId": "39fcf0bc-3efc-4aa3-9949-4ceba9b9802d"
      },
      "execution_count": 83,
      "outputs": [
        {
          "output_type": "execute_result",
          "data": {
            "text/plain": [
              "<tf.Tensor: shape=(180040, 15), dtype=float32, numpy=\n",
              "array([[1., 0., 0., ..., 0., 0., 0.],\n",
              "       [0., 1., 0., ..., 0., 0., 0.],\n",
              "       [0., 0., 1., ..., 0., 0., 0.],\n",
              "       ...,\n",
              "       [0., 0., 0., ..., 0., 0., 0.],\n",
              "       [0., 0., 0., ..., 0., 0., 0.],\n",
              "       [0., 0., 0., ..., 0., 0., 0.]], dtype=float32)>"
            ]
          },
          "metadata": {},
          "execution_count": 83
        }
      ]
    },
    {
      "cell_type": "code",
      "source": [
        "sns.histplot(x=df_treino['total'], color=COR)\n",
        "\n",
        "plt.xlabel('Total de linhas')\n",
        "plt.ylabel('Quantidade de textos');"
      ],
      "metadata": {
        "colab": {
          "base_uri": "https://localhost:8080/",
          "height": 452
        },
        "outputId": "5b1b3b5c-4475-46fb-e89b-4c575a589408",
        "id": "B2Ti77N2u3pw"
      },
      "execution_count": 84,
      "outputs": [
        {
          "output_type": "display_data",
          "data": {
            "text/plain": [
              "<Figure size 800x500 with 1 Axes>"
            ],
            "image/png": "[encoded data removed]"
          },
          "metadata": {}
        }
      ]
    },
    {
      "cell_type": "code",
      "source": [
        "total_linhas_95 = int(np.percentile(df_treino['total'], 95))\n",
        "total_linhas_98 = int(np.percentile(df_treino['total'], 98))\n",
        "\n",
        "total_linhas_95, total_linhas_98"
      ],
      "metadata": {
        "colab": {
          "base_uri": "https://localhost:8080/"
        },
        "outputId": "4f1f0349-b8f3-4da6-c895-1728e1eabe89",
        "id": "BOS0msEwu3p3"
      },
      "execution_count": 85,
      "outputs": [
        {
          "output_type": "execute_result",
          "data": {
            "text/plain": [
              "(19, 21)"
            ]
          },
          "metadata": {},
          "execution_count": 85
        }
      ]
    },
    {
      "cell_type": "code",
      "source": [
        "linhas_total_onehot_treino    = tf.one_hot(df_treino['total'], depth=total_linhas_98)\n",
        "linhas_total_onehot_validacao = tf.one_hot(df_validacao['total'], depth=total_linhas_98)\n",
        "linhas_total_onehot_teste     = tf.one_hot(df_teste['total'], depth=total_linhas_98)"
      ],
      "metadata": {
        "id": "GX3XEe-dr6aZ"
      },
      "execution_count": 86,
      "outputs": []
    },
    {
      "cell_type": "code",
      "source": [
        "df_treino['texto'].shape"
      ],
      "metadata": {
        "colab": {
          "base_uri": "https://localhost:8080/"
        },
        "id": "OTHBYlXUjQ0m",
        "outputId": "369b1ca6-95f5-4800-af26-4290ea25c48e"
      },
      "execution_count": 87,
      "outputs": [
        {
          "output_type": "execute_result",
          "data": {
            "text/plain": [
              "(180040,)"
            ]
          },
          "metadata": {},
          "execution_count": 87
        }
      ]
    },
    {
      "cell_type": "code",
      "source": [
        "len(lista_caracteres_validacao)"
      ],
      "metadata": {
        "colab": {
          "base_uri": "https://localhost:8080/"
        },
        "id": "7vsNkLTgjcap",
        "outputId": "6df278a4-7ab6-4c4c-c0c3-d03361908ea1"
      },
      "execution_count": 88,
      "outputs": [
        {
          "output_type": "execute_result",
          "data": {
            "text/plain": [
              "30212"
            ]
          },
          "metadata": {},
          "execution_count": 88
        }
      ]
    },
    {
      "cell_type": "code",
      "source": [
        "linhas_total_onehot_treino"
      ],
      "metadata": {
        "colab": {
          "base_uri": "https://localhost:8080/"
        },
        "id": "9AhUd9zhxaur",
        "outputId": "6c48c8e4-4105-4877-c38d-20cfbe8b15d6"
      },
      "execution_count": 89,
      "outputs": [
        {
          "output_type": "execute_result",
          "data": {
            "text/plain": [
              "<tf.Tensor: shape=(180040, 21), dtype=float32, numpy=\n",
              "array([[0., 0., 0., ..., 0., 0., 0.],\n",
              "       [0., 0., 0., ..., 0., 0., 0.],\n",
              "       [0., 0., 0., ..., 0., 0., 0.],\n",
              "       ...,\n",
              "       [0., 0., 0., ..., 0., 0., 0.],\n",
              "       [0., 0., 0., ..., 0., 0., 0.],\n",
              "       [0., 0., 0., ..., 0., 0., 0.]], dtype=float32)>"
            ]
          },
          "metadata": {},
          "execution_count": 89
        }
      ]
    },
    {
      "cell_type": "markdown",
      "source": [
        "### Criação de datasets híbridos com dados das linhas"
      ],
      "metadata": {
        "id": "Er0pYMaFeNSw"
      }
    },
    {
      "cell_type": "code",
      "source": [
        "# Dataset treino\n",
        "dados_hibridos_linhas_treino_textos  = Dataset.from_tensor_slices((df_treino['texto'],\n",
        "                                                                   lista_caracteres_treino,\n",
        "                                                                   linhas_numero_onehot_treino,\n",
        "                                                                   linhas_total_onehot_treino))\n",
        "dados_hibridos_linhas_treino_rotulos = Dataset.from_tensor_slices(rotulos_onehot_treino)\n",
        "dados_hibridos_linhas_treino         = Dataset.zip((dados_hibridos_linhas_treino_textos, dados_hibridos_linhas_treino_rotulos))"
      ],
      "metadata": {
        "id": "0TB4A2WMeaOu"
      },
      "execution_count": 90,
      "outputs": []
    },
    {
      "cell_type": "code",
      "source": [
        "dados_hibridos_linhas_treino"
      ],
      "metadata": {
        "colab": {
          "base_uri": "https://localhost:8080/"
        },
        "id": "l3PLHQ76eaOv",
        "outputId": "960a6e29-5c5d-4535-d3f2-dcc3c2e90c39"
      },
      "execution_count": 91,
      "outputs": [
        {
          "output_type": "execute_result",
          "data": {
            "text/plain": [
              "<ZipDataset element_spec=((TensorSpec(shape=(), dtype=tf.string, name=None), TensorSpec(shape=(), dtype=tf.string, name=None), TensorSpec(shape=(15,), dtype=tf.float32, name=None), TensorSpec(shape=(21,), dtype=tf.float32, name=None)), TensorSpec(shape=(5,), dtype=tf.float64, name=None))>"
            ]
          },
          "metadata": {},
          "execution_count": 91
        }
      ]
    },
    {
      "cell_type": "code",
      "source": [
        "# Dataset validação\n",
        "dados_hibridos_linhas_validacao_textos  = Dataset.from_tensor_slices((df_validacao['texto'],\n",
        "                                                                      lista_caracteres_validacao,\n",
        "                                                                      linhas_numero_onehot_validacao,\n",
        "                                                                      linhas_total_onehot_validacao))\n",
        "dados_hibridos_linhas_validacao_rotulos = Dataset.from_tensor_slices(rotulos_onehot_validacao)\n",
        "dados_hibridos_linhas_validacao         = Dataset.zip((dados_hibridos_linhas_validacao_textos, dados_hibridos_linhas_validacao_rotulos))"
      ],
      "metadata": {
        "id": "tMP1rbaZeaOv"
      },
      "execution_count": 92,
      "outputs": []
    },
    {
      "cell_type": "code",
      "source": [
        "dados_hibridos_linhas_validacao"
      ],
      "metadata": {
        "colab": {
          "base_uri": "https://localhost:8080/"
        },
        "id": "JMJlWBRqeaOv",
        "outputId": "9d224256-62c0-4590-ef49-dc7b2fe27929"
      },
      "execution_count": 93,
      "outputs": [
        {
          "output_type": "execute_result",
          "data": {
            "text/plain": [
              "<ZipDataset element_spec=((TensorSpec(shape=(), dtype=tf.string, name=None), TensorSpec(shape=(), dtype=tf.string, name=None), TensorSpec(shape=(15,), dtype=tf.float32, name=None), TensorSpec(shape=(21,), dtype=tf.float32, name=None)), TensorSpec(shape=(5,), dtype=tf.float64, name=None))>"
            ]
          },
          "metadata": {},
          "execution_count": 93
        }
      ]
    },
    {
      "cell_type": "code",
      "source": [
        "# Pré-buscas\n",
        "dados_hibridos_linhas_treino    = dados_hibridos_linhas_treino.batch(LOTE_TAMANHO).prefetch(AUTOTUNE)\n",
        "dados_hibridos_linhas_validacao = dados_hibridos_linhas_validacao.batch(LOTE_TAMANHO).prefetch(AUTOTUNE)"
      ],
      "metadata": {
        "id": "nYb9cMieeaOv"
      },
      "execution_count": 94,
      "outputs": []
    },
    {
      "cell_type": "code",
      "source": [
        "dados_hibridos_linhas_treino, dados_hibridos_linhas_validacao"
      ],
      "metadata": {
        "colab": {
          "base_uri": "https://localhost:8080/"
        },
        "id": "n9kWaG8PeaOv",
        "outputId": "ae1e0013-5076-404a-808f-15d196ed685b"
      },
      "execution_count": 95,
      "outputs": [
        {
          "output_type": "execute_result",
          "data": {
            "text/plain": [
              "(<PrefetchDataset element_spec=((TensorSpec(shape=(None,), dtype=tf.string, name=None), TensorSpec(shape=(None,), dtype=tf.string, name=None), TensorSpec(shape=(None, 15), dtype=tf.float32, name=None), TensorSpec(shape=(None, 21), dtype=tf.float32, name=None)), TensorSpec(shape=(None, 5), dtype=tf.float64, name=None))>,\n",
              " <PrefetchDataset element_spec=((TensorSpec(shape=(None,), dtype=tf.string, name=None), TensorSpec(shape=(None,), dtype=tf.string, name=None), TensorSpec(shape=(None, 15), dtype=tf.float32, name=None), TensorSpec(shape=(None, 21), dtype=tf.float32, name=None)), TensorSpec(shape=(None, 5), dtype=tf.float64, name=None))>)"
            ]
          },
          "metadata": {},
          "execution_count": 95
        }
      ]
    },
    {
      "cell_type": "markdown",
      "source": [
        "### Modelo 5: Camada de otimização da sequência dos rótulos"
      ],
      "metadata": {
        "id": "lkpNncYTZ-EY"
      }
    },
    {
      "cell_type": "markdown",
      "source": [
        "1. Criar um modelo com incorporação de palavras;\n",
        "2. Criar um modelo com incorporação de caracteres;\n",
        "3. Criar um modelo para o número de linhas;\n",
        "4. Criar um modelo para o total de linhas;\n",
        "5. Combinar os modelos dos itens 1 e 2;\n",
        "6. Combinar os modelos dos itens 3, 4 e 5;\n",
        "7. Construir camadas de saída;\n",
        "8. Construir o modelo."
      ],
      "metadata": {
        "id": "UhHroNiqyeP3"
      }
    },
    {
      "cell_type": "markdown",
      "source": [
        "#### Modelo com incorporação de palavras"
      ],
      "metadata": {
        "id": "nqBgr8JO1GwQ"
      }
    },
    {
      "cell_type": "code",
      "source": [
        "modelo_nome = 'modelo_incorporacao_palavras'\n",
        "\n",
        "entradas = Input(shape=[], dtype=ENTRADA_TIPO, name='camada_entrada_palavras')\n",
        "\n",
        "incorporador_use = hub.KerasLayer(handle='https://tfhub.dev/google/universal-sentence-encoder/4',\n",
        "                                  trainable=False,\n",
        "                                  name='incorporador_use')(entradas)\n",
        "\n",
        "saidas = Dense(LIMITE_INCORPORADOR, activation=ATIVACAO_CNN, name='camada_relu_palavras')(incorporador_use)\n",
        "\n",
        "modelo_incorporacao_palavras = Model(inputs=entradas, outputs=saidas, name=modelo_nome)"
      ],
      "metadata": {
        "id": "PUEkkUvG1GwQ"
      },
      "execution_count": 96,
      "outputs": []
    },
    {
      "cell_type": "markdown",
      "source": [
        "#### Modelo com incorporação de caracteres"
      ],
      "metadata": {
        "id": "YggWbgD_1GwR"
      }
    },
    {
      "cell_type": "code",
      "source": [
        "modelo_nome = 'modelo_incorporacao_caracteres'\n",
        "\n",
        "entradas = Input(shape=ENTRADA_FORMATO, dtype=ENTRADA_TIPO, name='camada_entrada_caracteres')\n",
        "\n",
        "camadas = vetorizador_caracteres(entradas)\n",
        "camadas = incorporador_caracteres(camadas)\n",
        "\n",
        "saidas = Bidirectional(layer=LSTM(units=LIMITE_INCORPORADOR_CARACTERES, activation=ATIVACAO_RNN), name='camada_bi_lstm_caracteres')(camadas)\n",
        "\n",
        "modelo_incorporacao_caracteres = Model(inputs=entradas, outputs=saidas, name=modelo_nome)"
      ],
      "metadata": {
        "id": "yQPddG291GwR"
      },
      "execution_count": 97,
      "outputs": []
    },
    {
      "cell_type": "markdown",
      "source": [
        "#### Combinação dos modelos de incorporação"
      ],
      "metadata": {
        "id": "DBmp9kEc2KGN"
      }
    },
    {
      "cell_type": "code",
      "source": [
        "combinacao_incorporacao = Concatenate(name=\"camada_combinacao_incorporacao\")([modelo_incorporacao_palavras.output,\n",
        "                                                                              modelo_incorporacao_caracteres.output])"
      ],
      "metadata": {
        "id": "kgVE8BeU2KGN"
      },
      "execution_count": 98,
      "outputs": []
    },
    {
      "cell_type": "markdown",
      "source": [
        "#### Camadas de abandono"
      ],
      "metadata": {
        "id": "hcZr64H9703q"
      }
    },
    {
      "cell_type": "code",
      "source": [
        "abandonos_incorporacao = Dense(LIMITE_VETOR_TEXTO * 2, activation=ATIVACAO_CNN, name='camada_abandonos_incorporacao_relu')(combinacao_incorporacao)\n",
        "abandonos_incorporacao = Dropout(rate=0.5, name='camada_abandonos_incorporacao')(abandonos_incorporacao)"
      ],
      "metadata": {
        "id": "xUvZpcjR72Qp"
      },
      "execution_count": 99,
      "outputs": []
    },
    {
      "cell_type": "markdown",
      "source": [
        "#### Modelo para o número de linhas"
      ],
      "metadata": {
        "id": "V3QJkRbA1bYr"
      }
    },
    {
      "cell_type": "code",
      "source": [
        "modelo_nome = 'modelo_numero_linhas'\n",
        "\n",
        "entradas = Input(shape=(numero_linha_98,), dtype=linhas_numero_onehot_treino.dtype, name='camada_entrada_numero_linhas')\n",
        "\n",
        "saidas = Dense(numero_linha_98 * 2, activation=ATIVACAO_CNN, name='camada_relu_numero_linhas')(entradas)\n",
        "\n",
        "modelo_numero_linhas = Model(inputs=entradas, outputs=saidas, name=modelo_nome)"
      ],
      "metadata": {
        "id": "oBav4KCW1it6"
      },
      "execution_count": 100,
      "outputs": []
    },
    {
      "cell_type": "markdown",
      "source": [
        "#### Modelo para o total de linhas"
      ],
      "metadata": {
        "id": "Eggj4sYE1fkr"
      }
    },
    {
      "cell_type": "code",
      "source": [
        "modelo_nome = 'modelo_total_linhas'\n",
        "\n",
        "entradas = Input(shape=(total_linhas_98,), dtype=linhas_total_onehot_treino.dtype, name='camada_entrada_total_linhas')\n",
        "\n",
        "saidas = Dense(total_linhas_98 * 2, activation=ATIVACAO_CNN, name='camada_relu_total_linhas')(entradas)\n",
        "\n",
        "modelo_total_linhas = Model(inputs=entradas, outputs=saidas, name=modelo_nome)"
      ],
      "metadata": {
        "id": "LdlgHcRG1h9D"
      },
      "execution_count": 101,
      "outputs": []
    },
    {
      "cell_type": "markdown",
      "source": [
        "#### Combinação dos modelos de incorporação e linhas"
      ],
      "metadata": {
        "id": "AcRyAphB1GwR"
      }
    },
    {
      "cell_type": "code",
      "source": [
        "combinacao_linhas = Concatenate(name=\"camada_combinacao_linhas\")([abandonos_incorporacao,\n",
        "                                                                  modelo_numero_linhas.output,\n",
        "                                                                  modelo_total_linhas.output])"
      ],
      "metadata": {
        "id": "sVXgW62r1GwR"
      },
      "execution_count": 102,
      "outputs": []
    },
    {
      "cell_type": "markdown",
      "source": [
        "#### Camadas de abandono e saída"
      ],
      "metadata": {
        "id": "otNMlC-C1GwR"
      }
    },
    {
      "cell_type": "code",
      "source": [
        "abandonos_linhas = Dense(LIMITE_VETOR_TEXTO * 2, activation=ATIVACAO_CNN, name='camada_abandonos_linhas_relu')(combinacao_linhas)\n",
        "abandonos_linhas = Dropout(rate=0.5, name='camada_abandonos_linhas')(abandonos_linhas)\n",
        "\n",
        "saidas = Dense(len(classes), activation=ATIVACAO_SAIDA, name='camada_saida')(abandonos_linhas)"
      ],
      "metadata": {
        "id": "Laz3vRkw1GwR"
      },
      "execution_count": 103,
      "outputs": []
    },
    {
      "cell_type": "markdown",
      "source": [
        "#### Modelo com incorporação híbrida e linhas"
      ],
      "metadata": {
        "id": "V534sJFN1GwR"
      }
    },
    {
      "cell_type": "code",
      "source": [
        "modelo_nome = 'modelo_5_incorporacao_hibrida_linhas'\n",
        "\n",
        "modelo = Model(inputs=[modelo_incorporacao_palavras.input,\n",
        "                       modelo_incorporacao_caracteres.input,\n",
        "                       modelo_numero_linhas.input,\n",
        "                       modelo_total_linhas.input],\n",
        "               outputs=saidas,\n",
        "               name=modelo_nome)"
      ],
      "metadata": {
        "id": "vTPCFsNV1GwR"
      },
      "execution_count": 104,
      "outputs": []
    },
    {
      "cell_type": "markdown",
      "source": [
        "#### Verificação do modelo"
      ],
      "metadata": {
        "id": "fqsVegs81GwS"
      }
    },
    {
      "cell_type": "code",
      "source": [
        "modelo.summary()"
      ],
      "metadata": {
        "colab": {
          "base_uri": "https://localhost:8080/"
        },
        "outputId": "4e739d69-2aeb-4683-93f3-68e9215ffb68",
        "id": "juCHvx5y1GwS"
      },
      "execution_count": 105,
      "outputs": [
        {
          "output_type": "stream",
          "name": "stdout",
          "text": [
            "Model: \"modelo_5_incorporacao_hibrida_linhas\"\n",
            "__________________________________________________________________________________________________\n",
            " Layer (type)                   Output Shape         Param #     Connected to                     \n",
            "==================================================================================================\n",
            " camada_entrada_caracteres (Inp  [(None, 1)]         0           []                               \n",
            " utLayer)                                                                                         \n",
            "                                                                                                  \n",
            " camada_entrada_palavras (Input  [(None,)]           0           []                               \n",
            " Layer)                                                                                           \n",
            "                                                                                                  \n",
            " vetorizador_caracteres (TextVe  (None, 290)         0           ['camada_entrada_caracteres[0][0]\n",
            " ctorization)                                                    ']                               \n",
            "                                                                                                  \n",
            " incorporador_use (KerasLayer)  (None, 512)          256797824   ['camada_entrada_palavras[0][0]']\n",
            "                                                                                                  \n",
            " incorporador_caracteres (Embed  (None, 290, 25)     700         ['vetorizador_caracteres[1][0]'] \n",
            " ding)                                                                                            \n",
            "                                                                                                  \n",
            " camada_relu_palavras (Dense)   (None, 300)          153900      ['incorporador_use[0][0]']       \n",
            "                                                                                                  \n",
            " camada_bi_lstm_caracteres (Bid  (None, 50)          10200       ['incorporador_caracteres[1][0]']\n",
            " irectional)                                                                                      \n",
            "                                                                                                  \n",
            " camada_combinacao_incorporacao  (None, 350)         0           ['camada_relu_palavras[0][0]',   \n",
            "  (Concatenate)                                                   'camada_bi_lstm_caracteres[0][0]\n",
            "                                                                 ']                               \n",
            "                                                                                                  \n",
            " camada_abandonos_incorporacao_  (None, 200)         70200       ['camada_combinacao_incorporacao[\n",
            " relu (Dense)                                                    0][0]']                          \n",
            "                                                                                                  \n",
            " camada_entrada_numero_linhas (  [(None, 15)]        0           []                               \n",
            " InputLayer)                                                                                      \n",
            "                                                                                                  \n",
            " camada_entrada_total_linhas (I  [(None, 21)]        0           []                               \n",
            " nputLayer)                                                                                       \n",
            "                                                                                                  \n",
            " camada_abandonos_incorporacao   (None, 200)         0           ['camada_abandonos_incorporacao_r\n",
            " (Dropout)                                                       elu[0][0]']                      \n",
            "                                                                                                  \n",
            " camada_relu_numero_linhas (Den  (None, 30)          480         ['camada_entrada_numero_linhas[0]\n",
            " se)                                                             [0]']                            \n",
            "                                                                                                  \n",
            " camada_relu_total_linhas (Dens  (None, 42)          924         ['camada_entrada_total_linhas[0][\n",
            " e)                                                              0]']                             \n",
            "                                                                                                  \n",
            " camada_combinacao_linhas (Conc  (None, 272)         0           ['camada_abandonos_incorporacao[0\n",
            " atenate)                                                        ][0]',                           \n",
            "                                                                  'camada_relu_numero_linhas[0][0]\n",
            "                                                                 ',                               \n",
            "                                                                  'camada_relu_total_linhas[0][0]'\n",
            "                                                                 ]                                \n",
            "                                                                                                  \n",
            " camada_abandonos_linhas_relu (  (None, 200)         54600       ['camada_combinacao_linhas[0][0]'\n",
            " Dense)                                                          ]                                \n",
            "                                                                                                  \n",
            " camada_abandonos_linhas (Dropo  (None, 200)         0           ['camada_abandonos_linhas_relu[0]\n",
            " ut)                                                             [0]']                            \n",
            "                                                                                                  \n",
            " camada_saida (Dense)           (None, 5)            1005        ['camada_abandonos_linhas[0][0]']\n",
            "                                                                                                  \n",
            "==================================================================================================\n",
            "Total params: 257,089,833\n",
            "Trainable params: 292,009\n",
            "Non-trainable params: 256,797,824\n",
            "__________________________________________________________________________________________________\n"
          ]
        }
      ]
    },
    {
      "cell_type": "code",
      "source": [
        "plot_model(modelo, show_shapes=True)"
      ],
      "metadata": {
        "colab": {
          "base_uri": "https://localhost:8080/",
          "height": 1000
        },
        "outputId": "2dd9e83b-e266-4a31-f4da-cadb812010d6",
        "id": "f9XKvJ061GwS"
      },
      "execution_count": 106,
      "outputs": [
        {
          "output_type": "execute_result",
          "data": {
            "image/png": "[encoded data removed]",
            "text/plain": [
              "<IPython.core.display.Image object>"
            ]
          },
          "metadata": {},
          "execution_count": 106
        }
      ]
    },
    {
      "cell_type": "markdown",
      "source": [
        "#### Suavização de rótulo"
      ],
      "metadata": {
        "id": "kvaaKxJegcMy"
      }
    },
    {
      "cell_type": "markdown",
      "source": [
        "Mais informações: https://www.pyimagesearch.com/2019/12/30/label-smoothing-with-keras-tensorflow-and-deep-learning/"
      ],
      "metadata": {
        "id": "6EaBjX2Gghoc"
      }
    },
    {
      "cell_type": "code",
      "source": [
        "modelo.compile(loss=tf.keras.losses.CategoricalCrossentropy(label_smoothing=0.2),  # 20% de suavização\n",
        "               optimizer=Adam(learning_rate=APRENDIZADO),\n",
        "               metrics=METRICAS)"
      ],
      "metadata": {
        "id": "OgEY8WBNgpD9"
      },
      "execution_count": 107,
      "outputs": []
    },
    {
      "cell_type": "markdown",
      "source": [
        "#### Finalização do modelo"
      ],
      "metadata": {
        "id": "HScHZLhE1GwS"
      }
    },
    {
      "cell_type": "code",
      "source": [
        "historico = modelo.fit(dados_hibridos_linhas_treino,\n",
        "                       epochs=ITERACOES,\n",
        "                       validation_data=dados_hibridos_linhas_validacao,\n",
        "                       verbose=1)"
      ],
      "metadata": {
        "colab": {
          "base_uri": "https://localhost:8080/"
        },
        "outputId": "5efc4bca-a35f-41bd-c055-1cf4d0a388c6",
        "id": "jhrS1-1S1GwS"
      },
      "execution_count": 108,
      "outputs": [
        {
          "output_type": "stream",
          "name": "stdout",
          "text": [
            "Epoch 1/3\n",
            "5627/5627 [==============================] - 284s 48ms/step - loss: 0.9327 - accuracy: 0.8327 - val_loss: 0.8652 - val_accuracy: 0.8661\n",
            "Epoch 2/3\n",
            "5627/5627 [==============================] - 266s 47ms/step - loss: 0.8849 - accuracy: 0.8659 - val_loss: 0.8565 - val_accuracy: 0.8712\n",
            "Epoch 3/3\n",
            "5627/5627 [==============================] - 261s 46ms/step - loss: 0.8702 - accuracy: 0.8761 - val_loss: 0.8553 - val_accuracy: 0.8724\n"
          ]
        }
      ]
    },
    {
      "cell_type": "code",
      "source": [
        "grafico_historico_por_iteracao(historico)"
      ],
      "metadata": {
        "colab": {
          "base_uri": "https://localhost:8080/",
          "height": 473
        },
        "outputId": "8b133b71-9354-4ff8-a225-928baef5807c",
        "id": "8KWVEDTy1GwS"
      },
      "execution_count": 109,
      "outputs": [
        {
          "output_type": "display_data",
          "data": {
            "text/plain": [
              "<Figure size 800x500 with 1 Axes>"
            ],
            "image/png": "[encoded data removed]"
          },
          "metadata": {}
        }
      ]
    },
    {
      "cell_type": "code",
      "source": [
        "probabilidades = modelo.predict(dados_hibridos_linhas_validacao)\n",
        "previsoes      = tf.argmax(probabilidades, axis=1)\n",
        "avaliacoes[5]  = avaliar_modelo(rotulos_int_validacao, previsoes, classes)"
      ],
      "metadata": {
        "colab": {
          "base_uri": "https://localhost:8080/",
          "height": 766
        },
        "outputId": "fdaf040d-1d17-4b80-9a2f-25c68a8e119d",
        "id": "3qKSZyL31GwS"
      },
      "execution_count": 110,
      "outputs": [
        {
          "output_type": "stream",
          "name": "stdout",
          "text": [
            "945/945 [==============================] - 21s 20ms/step\n",
            "              precision    recall  f1-score   support\n",
            "\n",
            "  BACKGROUND       0.70      0.87      0.78      3449\n",
            " CONCLUSIONS       0.92      0.87      0.90      4582\n",
            "     METHODS       0.91      0.92      0.91      9964\n",
            "   OBJECTIVE       0.85      0.48      0.61      2376\n",
            "     RESULTS       0.89      0.92      0.90      9841\n",
            "\n",
            "    accuracy                           0.87     30212\n",
            "   macro avg       0.85      0.81      0.82     30212\n",
            "weighted avg       0.88      0.87      0.87     30212\n",
            "\n"
          ]
        },
        {
          "output_type": "display_data",
          "data": {
            "text/plain": [
              "<Figure size 800x500 with 2 Axes>"
            ],
            "image/png": "[encoded data removed]"
          },
          "metadata": {}
        }
      ]
    },
    {
      "cell_type": "code",
      "source": [
        "avaliacoes[5]"
      ],
      "metadata": {
        "colab": {
          "base_uri": "https://localhost:8080/"
        },
        "outputId": "0cb41f04-0403-4a61-c00f-83d66a72f0fc",
        "id": "Ne3OA4Qf1GwT"
      },
      "execution_count": 111,
      "outputs": [
        {
          "output_type": "execute_result",
          "data": {
            "text/plain": [
              "{'acuracia': 0.8723685952601615,\n",
              " 'precisao': 0.8763244002973818,\n",
              " 'revocacao': 0.8723685952601615,\n",
              " 'pontuacao-f1': 0.8690404160984498}"
            ]
          },
          "metadata": {},
          "execution_count": 111
        }
      ]
    },
    {
      "cell_type": "code",
      "source": [],
      "metadata": {
        "id": "CJaHEyWb1HSj"
      },
      "execution_count": 111,
      "outputs": []
    }
  ]
}