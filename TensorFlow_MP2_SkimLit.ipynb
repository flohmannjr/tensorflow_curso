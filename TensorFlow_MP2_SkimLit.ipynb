{
  "nbformat": 4,
  "nbformat_minor": 0,
  "metadata": {
    "colab": {
      "provenance": [],
      "toc_visible": true,
      "authorship_tag": "ABX9TyNScoK867KFYNMPtUg7DHJw",
      "include_colab_link": true
    },
    "kernelspec": {
      "name": "python3",
      "display_name": "Python 3"
    },
    "language_info": {
      "name": "python"
    },
    "accelerator": "GPU",
    "gpuClass": "standard"
  },
  "cells": [
    {
      "cell_type": "markdown",
      "metadata": {
        "id": "view-in-github",
        "colab_type": "text"
      },
      "source": [
        "<a href=\"https://colab.research.google.com/github/flohmannjr/tensorflow_curso/blob/main/TensorFlow_MP2_SkimLit.ipynb\" target=\"_parent\"><img src=\"https://colab.research.google.com/assets/colab-badge.svg\" alt=\"Open In Colab\"/></a>"
      ]
    },
    {
      "cell_type": "markdown",
      "source": [
        "# TensorFlow Milestone Project: SkimLit"
      ],
      "metadata": {
        "id": "G-cwRZOT6Vee"
      }
    },
    {
      "cell_type": "markdown",
      "source": [
        "Este projeto tem como objetivo reproduzir o artigo **PubMed 200k RCT: a Dataset for Sequential Sentence Classification in Medical Abstracts**. https://arxiv.org/abs/1710.06071\n",
        "\n",
        "O resumo de artigos científicos de Medicina costumam ser blocos de texto de difícil interpretação imediata. Este artigo teve como propósito criar um modelo para classificação sequencial de sentenças, onde, uma vez apresentado um resumo, dividirá o texto em cinco categorias: Background, Conclusions, Methods, Objective e Results (Contexto, Conclusões, Métodos, Objetivo e Resultados), facilitando sua interpretação.\n",
        "\n",
        "PubMed 200k RCT utiliza a arquitetura do modelo do artigo **Neural Networks for Joint Sentence Classification in Medical Paper Abstracts**. https://arxiv.org/abs/1612.05251"
      ],
      "metadata": {
        "id": "X3g3-RzJsuU7"
      }
    },
    {
      "cell_type": "code",
      "source": [
        "import tensorflow as tf\n",
        "import tensorflow_hub as hub\n",
        "\n",
        "import numpy as np\n",
        "import pandas as pd\n",
        "import matplotlib.pyplot as plt\n",
        "import seaborn as sns\n",
        "\n",
        "import random, re\n",
        "\n",
        "from tensorflow.data import AUTOTUNE, Dataset\n",
        "from tensorflow.keras import Model\n",
        "from tensorflow.keras.optimizers import Adam\n",
        "\n",
        "from tensorflow.keras.layers import Embedding, TextVectorization\n",
        "from tensorflow.keras.layers import Dense, GlobalAveragePooling1D, Input\n",
        "from tensorflow.keras.layers import Conv1D\n",
        "\n",
        "from sklearn.feature_extraction.text import TfidfVectorizer\n",
        "from sklearn.metrics import classification_report\n",
        "from sklearn.naive_bayes import MultinomialNB\n",
        "from sklearn.pipeline import Pipeline\n",
        "from sklearn.preprocessing import LabelEncoder, OneHotEncoder"
      ],
      "metadata": {
        "id": "ND6yUaUk6kOK"
      },
      "execution_count": 1,
      "outputs": []
    },
    {
      "cell_type": "markdown",
      "source": [
        "## Setup"
      ],
      "metadata": {
        "id": "bYIefgtjOAGl"
      }
    },
    {
      "cell_type": "code",
      "source": [
        "pd.set_option('display.max_colwidth', None)\n",
        "\n",
        "plt.rcParams['figure.figsize'] = [8, 5]\n",
        "plt.rcParams['figure.dpi'] = 100\n",
        "\n",
        "# plt.style.use('seaborn-darkgrid')\n",
        "sns.set_style('darkgrid')"
      ],
      "metadata": {
        "id": "T_u3SG7QOCXV"
      },
      "execution_count": 2,
      "outputs": []
    },
    {
      "cell_type": "markdown",
      "source": [
        "### Constantes"
      ],
      "metadata": {
        "id": "Uy_Tv0JkpVxy"
      }
    },
    {
      "cell_type": "code",
      "source": [
        "SEMENTE = 2008193\n",
        "\n",
        "COR = '#007f66'\n",
        "\n",
        "DIRETORIO_20K = '/content/pubmed-rct/PubMed_20k_RCT_numbers_replaced_with_at_sign'\n",
        "DIRETORIO_200K = '/content/pubmed-rct/PubMed_200k_RCT_numbers_replaced_with_at_sign'\n",
        "\n",
        "# PubMed 200k RCT - Table 2\n",
        "LIMITE_DICIONARIO_20K = 68000\n",
        "LIMITE_DICIONARIO_200K = 331000\n",
        "\n",
        "# Neural Networks for Joint Sentence Classification - Figure 1\n",
        "LIMITE_INCORPORADOR = 256  # O artigo utiliza 300, mas é recomendado um múltiplo binário.\n",
        "\n",
        "LOTE_TAMANHO = 32\n",
        "\n",
        "ENTRADA_FORMATO = (1,)\n",
        "ENTRADA_TIPO = tf.string\n",
        "\n",
        "ATIVACAO_CNN = 'relu'\n",
        "ATIVACAO_RNN = 'tanh'\n",
        "ATIVACAO_SAIDA = 'softmax'\n",
        "\n",
        "FILTROS = 64\n",
        "NUCLEO_TAMANHO = 5\n",
        "PREENCHIMENTO = 'same'\n",
        "\n",
        "PERDA = 'categorical_crossentropy'\n",
        "APRENDIZADO = 0.001\n",
        "METRICAS = ['accuracy']\n",
        "\n",
        "ITERACOES = 3"
      ],
      "metadata": {
        "id": "Z-1CGl0S2DiU"
      },
      "execution_count": 52,
      "outputs": []
    },
    {
      "cell_type": "markdown",
      "source": [
        "### Funções"
      ],
      "metadata": {
        "id": "nVZAWLhD1mhS"
      }
    },
    {
      "cell_type": "code",
      "source": [
        "!wget https://raw.githubusercontent.com/flohmannjr/tensorflow_curso/main/funcoes.py"
      ],
      "metadata": {
        "colab": {
          "base_uri": "https://localhost:8080/"
        },
        "id": "FYXVOXEYBFVR",
        "outputId": "5d4cee0f-dae4-4c78-d5e2-2e0874e74358"
      },
      "execution_count": 4,
      "outputs": [
        {
          "output_type": "stream",
          "name": "stdout",
          "text": [
            "--2023-01-30 20:39:57--  https://raw.githubusercontent.com/flohmannjr/tensorflow_curso/main/funcoes.py\n",
            "Resolving raw.githubusercontent.com (raw.githubusercontent.com)... 185.199.109.133, 185.199.111.133, 185.199.110.133, ...\n",
            "Connecting to raw.githubusercontent.com (raw.githubusercontent.com)|185.199.109.133|:443... connected.\n",
            "HTTP request sent, awaiting response... 200 OK\n",
            "Length: 5909 (5.8K) [text/plain]\n",
            "Saving to: ‘funcoes.py’\n",
            "\n",
            "funcoes.py          100%[===================>]   5.77K  --.-KB/s    in 0s      \n",
            "\n",
            "2023-01-30 20:39:57 (69.6 MB/s) - ‘funcoes.py’ saved [5909/5909]\n",
            "\n"
          ]
        }
      ]
    },
    {
      "cell_type": "code",
      "source": [
        "from funcoes import avaliar_modelo, grafico_historico_por_iteracao"
      ],
      "metadata": {
        "id": "mGECR6zZBKnd"
      },
      "execution_count": 5,
      "outputs": []
    },
    {
      "cell_type": "code",
      "source": [
        "def preprocessar_texto(arquivo):\n",
        "    \"\"\"\n",
        "    Retorna uma lista de dicionários com o conteúdo das linhas do arquivo informado.\n",
        "\n",
        "    Cada dicionário contém o código do resumo, o total de linhas, o número, a classe e o texto da linha.\n",
        "    {codigo, total, numero, classe, texto}\n",
        "    \"\"\"\n",
        "\n",
        "    with open(arquivo, 'r') as a: linhas_arquivo = a.readlines()\n",
        "    linhas = ''  # Linhas do texto\n",
        "    saida = []   # Lista de dicionários\n",
        "\n",
        "    for linha in linhas_arquivo:\n",
        "        if linha.startswith('###'):            # Verifica se a linha inicia com '###'.\n",
        "            codigo = re.sub('\\D+', '', linha)  # Extrai o código do resumo.\n",
        "            linhas = ''                        # Limpa as linhas de texto.\n",
        "        \n",
        "        elif linha.isspace():                       # Verifica se a linha é vazia.\n",
        "            linhas_separadas = linhas.splitlines()  # Separa linhas de texto.\n",
        "\n",
        "            for linha_numero, linha_completa in enumerate(linhas_separadas):  # Itera sobre cada uma das linhas de texto.\n",
        "                linha_dados = {}                                              # Dicionário com os dados da linha.\n",
        "                linha_conteudo = linha_completa.split('\\t')                   # Separa classe e texto.\n",
        "\n",
        "                linha_dados['codigo'] = codigo                    # Código do resumo.\n",
        "                linha_dados['total'] = len(linhas_separadas)      # Total de linhas.\n",
        "                linha_dados['numero'] = linha_numero              # Número da linha.\n",
        "                linha_dados['classe'] = linha_conteudo[0]         # Classe da linha.\n",
        "                linha_dados['texto'] = linha_conteudo[1].lower()  # Texto da linha, em caixa baixa.\n",
        "\n",
        "                saida.append(linha_dados)  # Acrescenta o dicionário à lista.\n",
        "\n",
        "        else:\n",
        "            linhas += linha  # Acrescenta a linha atual às linhas de texto.\n",
        "\n",
        "    return saida"
      ],
      "metadata": {
        "id": "Fc3LGM4_1peB"
      },
      "execution_count": 6,
      "outputs": []
    },
    {
      "cell_type": "markdown",
      "source": [
        "## Dados"
      ],
      "metadata": {
        "id": "nLfeMWwru_9I"
      }
    },
    {
      "cell_type": "code",
      "source": [
        "!git clone https://github.com/Franck-Dernoncourt/pubmed-rct.git"
      ],
      "metadata": {
        "colab": {
          "base_uri": "https://localhost:8080/"
        },
        "id": "HSS_zH7py6b8",
        "outputId": "20c29f6d-9496-451b-f25f-9a9c65294fc8"
      },
      "execution_count": 7,
      "outputs": [
        {
          "output_type": "stream",
          "name": "stdout",
          "text": [
            "Cloning into 'pubmed-rct'...\n",
            "remote: Enumerating objects: 33, done.\u001b[K\n",
            "remote: Counting objects: 100% (8/8), done.\u001b[K\n",
            "remote: Compressing objects: 100% (3/3), done.\u001b[K\n",
            "remote: Total 33 (delta 5), reused 5 (delta 5), pack-reused 25\u001b[K\n",
            "Unpacking objects: 100% (33/33), 177.08 MiB | 7.92 MiB/s, done.\n"
          ]
        }
      ]
    },
    {
      "cell_type": "markdown",
      "source": [
        "### Pré-processamento"
      ],
      "metadata": {
        "id": "4rHNd8yc1a2Z"
      }
    },
    {
      "cell_type": "code",
      "source": [
        "linhas_treino    = preprocessar_texto(f'{DIRETORIO_20K}/train.txt')  # Dados de treino\n",
        "linhas_validacao = preprocessar_texto(f'{DIRETORIO_20K}/dev.txt')    # Dados de validação\n",
        "linhas_teste     = preprocessar_texto(f'{DIRETORIO_20K}/test.txt')   # Dados de teste"
      ],
      "metadata": {
        "id": "vZHFSSiv3MMZ"
      },
      "execution_count": 8,
      "outputs": []
    },
    {
      "cell_type": "code",
      "source": [
        "df_treino    = pd.DataFrame(linhas_treino)\n",
        "df_validacao = pd.DataFrame(linhas_validacao)\n",
        "df_teste     = pd.DataFrame(linhas_teste)"
      ],
      "metadata": {
        "id": "03f210ZBYHDE"
      },
      "execution_count": 9,
      "outputs": []
    },
    {
      "cell_type": "markdown",
      "source": [
        "### Verificação"
      ],
      "metadata": {
        "id": "gRV03ysP1iH-"
      }
    },
    {
      "cell_type": "code",
      "source": [
        "df_treino[:12]"
      ],
      "metadata": {
        "colab": {
          "base_uri": "https://localhost:8080/",
          "height": 539
        },
        "id": "4KkIE_9xZ-ny",
        "outputId": "d87e7c57-ebd6-4983-f0b9-825cc942621d"
      },
      "execution_count": 10,
      "outputs": [
        {
          "output_type": "execute_result",
          "data": {
            "text/plain": [
              "      codigo  total  numero       classe  \\\n",
              "0   24293578     12       0    OBJECTIVE   \n",
              "1   24293578     12       1      METHODS   \n",
              "2   24293578     12       2      METHODS   \n",
              "3   24293578     12       3      METHODS   \n",
              "4   24293578     12       4      METHODS   \n",
              "5   24293578     12       5      METHODS   \n",
              "6   24293578     12       6      RESULTS   \n",
              "7   24293578     12       7      RESULTS   \n",
              "8   24293578     12       8      RESULTS   \n",
              "9   24293578     12       9      RESULTS   \n",
              "10  24293578     12      10      RESULTS   \n",
              "11  24293578     12      11  CONCLUSIONS   \n",
              "\n",
              "                                                                                                                                                                                                                                                                                        texto  \n",
              "0   to investigate the efficacy of @ weeks of daily low-dose oral prednisolone in improving pain , mobility , and systemic low-grade inflammation in the short term and whether the effect would be sustained at @ weeks in older adults with moderate to severe knee osteoarthritis ( oa ) .  \n",
              "1                                                                                                                                                   a total of @ patients with primary knee oa were randomized @:@ ; @ received @ mg/day of prednisolone and @ received placebo for @ weeks .  \n",
              "2                                                                                                                                                                             outcome measures included pain reduction and improvement in function scores and systemic inflammation markers .  \n",
              "3                                                                                                                                                                                                                           pain was assessed using the visual analog pain scale ( @-@ mm ) .  \n",
              "4                                                                           secondary outcome measures included the western ontario and mcmaster universities osteoarthritis index scores , patient global assessment ( pga ) of the severity of knee oa , and @-min walk distance ( @mwd ) .  \n",
              "5                                                                                                                                         serum levels of interleukin @ ( il-@ ) , il-@ , tumor necrosis factor ( tnf ) - , and high-sensitivity c-reactive protein ( hscrp ) were measured .  \n",
              "6                                                                                                                           there was a clinically relevant reduction in the intervention group compared to the placebo group for knee pain , physical function , pga , and @mwd at @ weeks .  \n",
              "7                                                                                                                        the mean difference between treatment arms ( @ % ci ) was @ ( @-@ @ ) , p < @ ; @ ( @-@ @ ) , p < @ ; @ ( @-@ @ ) , p < @ ; and @ ( @-@ @ ) , p < @ , respectively .  \n",
              "8                                                                                                        further , there was a clinically relevant reduction in the serum levels of il-@ , il-@ , tnf - , and hscrp at @ weeks in the intervention group when compared to the placebo group .  \n",
              "9                                                                                                                                                                                                                                         these differences remained significant at @ weeks .  \n",
              "10                                                                                               the outcome measures in rheumatology clinical trials-osteoarthritis research society international responder rate was @ % in the intervention group and @ % in the placebo group ( p < @ ) .  \n",
              "11                                   low-dose oral prednisolone had both a short-term and a longer sustained effect resulting in less knee pain , better physical function , and attenuation of systemic inflammation in older patients with knee oa ( clinicaltrials.gov identifier nct@ ) .  "
            ],
            "text/html": [
              "\n",
              "  <div id=\"df-5e3a3154-722a-4e1d-8447-3ab5deebc886\">\n",
              "    <div class=\"colab-df-container\">\n",
              "      <div>\n",
              "<style scoped>\n",
              "    .dataframe tbody tr th:only-of-type {\n",
              "        vertical-align: middle;\n",
              "    }\n",
              "\n",
              "    .dataframe tbody tr th {\n",
              "        vertical-align: top;\n",
              "    }\n",
              "\n",
              "    .dataframe thead th {\n",
              "        text-align: right;\n",
              "    }\n",
              "</style>\n",
              "<table border=\"1\" class=\"dataframe\">\n",
              "  <thead>\n",
              "    <tr style=\"text-align: right;\">\n",
              "      <th></th>\n",
              "      <th>codigo</th>\n",
              "      <th>total</th>\n",
              "      <th>numero</th>\n",
              "      <th>classe</th>\n",
              "      <th>texto</th>\n",
              "    </tr>\n",
              "  </thead>\n",
              "  <tbody>\n",
              "    <tr>\n",
              "      <th>0</th>\n",
              "      <td>24293578</td>\n",
              "      <td>12</td>\n",
              "      <td>0</td>\n",
              "      <td>OBJECTIVE</td>\n",
              "      <td>to investigate the efficacy of @ weeks of daily low-dose oral prednisolone in improving pain , mobility , and systemic low-grade inflammation in the short term and whether the effect would be sustained at @ weeks in older adults with moderate to severe knee osteoarthritis ( oa ) .</td>\n",
              "    </tr>\n",
              "    <tr>\n",
              "      <th>1</th>\n",
              "      <td>24293578</td>\n",
              "      <td>12</td>\n",
              "      <td>1</td>\n",
              "      <td>METHODS</td>\n",
              "      <td>a total of @ patients with primary knee oa were randomized @:@ ; @ received @ mg/day of prednisolone and @ received placebo for @ weeks .</td>\n",
              "    </tr>\n",
              "    <tr>\n",
              "      <th>2</th>\n",
              "      <td>24293578</td>\n",
              "      <td>12</td>\n",
              "      <td>2</td>\n",
              "      <td>METHODS</td>\n",
              "      <td>outcome measures included pain reduction and improvement in function scores and systemic inflammation markers .</td>\n",
              "    </tr>\n",
              "    <tr>\n",
              "      <th>3</th>\n",
              "      <td>24293578</td>\n",
              "      <td>12</td>\n",
              "      <td>3</td>\n",
              "      <td>METHODS</td>\n",
              "      <td>pain was assessed using the visual analog pain scale ( @-@ mm ) .</td>\n",
              "    </tr>\n",
              "    <tr>\n",
              "      <th>4</th>\n",
              "      <td>24293578</td>\n",
              "      <td>12</td>\n",
              "      <td>4</td>\n",
              "      <td>METHODS</td>\n",
              "      <td>secondary outcome measures included the western ontario and mcmaster universities osteoarthritis index scores , patient global assessment ( pga ) of the severity of knee oa , and @-min walk distance ( @mwd ) .</td>\n",
              "    </tr>\n",
              "    <tr>\n",
              "      <th>5</th>\n",
              "      <td>24293578</td>\n",
              "      <td>12</td>\n",
              "      <td>5</td>\n",
              "      <td>METHODS</td>\n",
              "      <td>serum levels of interleukin @ ( il-@ ) , il-@ , tumor necrosis factor ( tnf ) - , and high-sensitivity c-reactive protein ( hscrp ) were measured .</td>\n",
              "    </tr>\n",
              "    <tr>\n",
              "      <th>6</th>\n",
              "      <td>24293578</td>\n",
              "      <td>12</td>\n",
              "      <td>6</td>\n",
              "      <td>RESULTS</td>\n",
              "      <td>there was a clinically relevant reduction in the intervention group compared to the placebo group for knee pain , physical function , pga , and @mwd at @ weeks .</td>\n",
              "    </tr>\n",
              "    <tr>\n",
              "      <th>7</th>\n",
              "      <td>24293578</td>\n",
              "      <td>12</td>\n",
              "      <td>7</td>\n",
              "      <td>RESULTS</td>\n",
              "      <td>the mean difference between treatment arms ( @ % ci ) was @ ( @-@ @ ) , p &lt; @ ; @ ( @-@ @ ) , p &lt; @ ; @ ( @-@ @ ) , p &lt; @ ; and @ ( @-@ @ ) , p &lt; @ , respectively .</td>\n",
              "    </tr>\n",
              "    <tr>\n",
              "      <th>8</th>\n",
              "      <td>24293578</td>\n",
              "      <td>12</td>\n",
              "      <td>8</td>\n",
              "      <td>RESULTS</td>\n",
              "      <td>further , there was a clinically relevant reduction in the serum levels of il-@ , il-@ , tnf - , and hscrp at @ weeks in the intervention group when compared to the placebo group .</td>\n",
              "    </tr>\n",
              "    <tr>\n",
              "      <th>9</th>\n",
              "      <td>24293578</td>\n",
              "      <td>12</td>\n",
              "      <td>9</td>\n",
              "      <td>RESULTS</td>\n",
              "      <td>these differences remained significant at @ weeks .</td>\n",
              "    </tr>\n",
              "    <tr>\n",
              "      <th>10</th>\n",
              "      <td>24293578</td>\n",
              "      <td>12</td>\n",
              "      <td>10</td>\n",
              "      <td>RESULTS</td>\n",
              "      <td>the outcome measures in rheumatology clinical trials-osteoarthritis research society international responder rate was @ % in the intervention group and @ % in the placebo group ( p &lt; @ ) .</td>\n",
              "    </tr>\n",
              "    <tr>\n",
              "      <th>11</th>\n",
              "      <td>24293578</td>\n",
              "      <td>12</td>\n",
              "      <td>11</td>\n",
              "      <td>CONCLUSIONS</td>\n",
              "      <td>low-dose oral prednisolone had both a short-term and a longer sustained effect resulting in less knee pain , better physical function , and attenuation of systemic inflammation in older patients with knee oa ( clinicaltrials.gov identifier nct@ ) .</td>\n",
              "    </tr>\n",
              "  </tbody>\n",
              "</table>\n",
              "</div>\n",
              "      <button class=\"colab-df-convert\" onclick=\"convertToInteractive('df-5e3a3154-722a-4e1d-8447-3ab5deebc886')\"\n",
              "              title=\"Convert this dataframe to an interactive table.\"\n",
              "              style=\"display:none;\">\n",
              "        \n",
              "  <svg xmlns=\"http://www.w3.org/2000/svg\" height=\"24px\"viewBox=\"0 0 24 24\"\n",
              "       width=\"24px\">\n",
              "    <path d=\"M0 0h24v24H0V0z\" fill=\"none\"/>\n",
              "    <path d=\"M18.56 5.44l.94 2.06.94-2.06 2.06-.94-2.06-.94-.94-2.06-.94 2.06-2.06.94zm-11 1L8.5 8.5l.94-2.06 2.06-.94-2.06-.94L8.5 2.5l-.94 2.06-2.06.94zm10 10l.94 2.06.94-2.06 2.06-.94-2.06-.94-.94-2.06-.94 2.06-2.06.94z\"/><path d=\"M17.41 7.96l-1.37-1.37c-.4-.4-.92-.59-1.43-.59-.52 0-1.04.2-1.43.59L10.3 9.45l-7.72 7.72c-.78.78-.78 2.05 0 2.83L4 21.41c.39.39.9.59 1.41.59.51 0 1.02-.2 1.41-.59l7.78-7.78 2.81-2.81c.8-.78.8-2.07 0-2.86zM5.41 20L4 18.59l7.72-7.72 1.47 1.35L5.41 20z\"/>\n",
              "  </svg>\n",
              "      </button>\n",
              "      \n",
              "  <style>\n",
              "    .colab-df-container {\n",
              "      display:flex;\n",
              "      flex-wrap:wrap;\n",
              "      gap: 12px;\n",
              "    }\n",
              "\n",
              "    .colab-df-convert {\n",
              "      background-color: #E8F0FE;\n",
              "      border: none;\n",
              "      border-radius: 50%;\n",
              "      cursor: pointer;\n",
              "      display: none;\n",
              "      fill: #1967D2;\n",
              "      height: 32px;\n",
              "      padding: 0 0 0 0;\n",
              "      width: 32px;\n",
              "    }\n",
              "\n",
              "    .colab-df-convert:hover {\n",
              "      background-color: #E2EBFA;\n",
              "      box-shadow: 0px 1px 2px rgba(60, 64, 67, 0.3), 0px 1px 3px 1px rgba(60, 64, 67, 0.15);\n",
              "      fill: #174EA6;\n",
              "    }\n",
              "\n",
              "    [theme=dark] .colab-df-convert {\n",
              "      background-color: #3B4455;\n",
              "      fill: #D2E3FC;\n",
              "    }\n",
              "\n",
              "    [theme=dark] .colab-df-convert:hover {\n",
              "      background-color: #434B5C;\n",
              "      box-shadow: 0px 1px 3px 1px rgba(0, 0, 0, 0.15);\n",
              "      filter: drop-shadow(0px 1px 2px rgba(0, 0, 0, 0.3));\n",
              "      fill: #FFFFFF;\n",
              "    }\n",
              "  </style>\n",
              "\n",
              "      <script>\n",
              "        const buttonEl =\n",
              "          document.querySelector('#df-5e3a3154-722a-4e1d-8447-3ab5deebc886 button.colab-df-convert');\n",
              "        buttonEl.style.display =\n",
              "          google.colab.kernel.accessAllowed ? 'block' : 'none';\n",
              "\n",
              "        async function convertToInteractive(key) {\n",
              "          const element = document.querySelector('#df-5e3a3154-722a-4e1d-8447-3ab5deebc886');\n",
              "          const dataTable =\n",
              "            await google.colab.kernel.invokeFunction('convertToInteractive',\n",
              "                                                     [key], {});\n",
              "          if (!dataTable) return;\n",
              "\n",
              "          const docLinkHtml = 'Like what you see? Visit the ' +\n",
              "            '<a target=\"_blank\" href=https://colab.research.google.com/notebooks/data_table.ipynb>data table notebook</a>'\n",
              "            + ' to learn more about interactive tables.';\n",
              "          element.innerHTML = '';\n",
              "          dataTable['output_type'] = 'display_data';\n",
              "          await google.colab.output.renderOutput(dataTable, element);\n",
              "          const docLink = document.createElement('div');\n",
              "          docLink.innerHTML = docLinkHtml;\n",
              "          element.appendChild(docLink);\n",
              "        }\n",
              "      </script>\n",
              "    </div>\n",
              "  </div>\n",
              "  "
            ]
          },
          "metadata": {},
          "execution_count": 10
        }
      ]
    },
    {
      "cell_type": "code",
      "source": [
        "df_treino['classe'].value_counts()"
      ],
      "metadata": {
        "colab": {
          "base_uri": "https://localhost:8080/"
        },
        "id": "DxCyKmEoaM7z",
        "outputId": "f83671a3-6961-4e3a-81e5-b4dc351fa2d6"
      },
      "execution_count": 11,
      "outputs": [
        {
          "output_type": "execute_result",
          "data": {
            "text/plain": [
              "METHODS        59353\n",
              "RESULTS        57953\n",
              "CONCLUSIONS    27168\n",
              "BACKGROUND     21727\n",
              "OBJECTIVE      13839\n",
              "Name: classe, dtype: int64"
            ]
          },
          "metadata": {},
          "execution_count": 11
        }
      ]
    },
    {
      "cell_type": "code",
      "source": [
        "sns.histplot(data=df_treino, x='total', color=COR)\n",
        "\n",
        "plt.xlabel('Quantidade de linhas')\n",
        "plt.ylabel('Quantidade de resumos');"
      ],
      "metadata": {
        "colab": {
          "base_uri": "https://localhost:8080/",
          "height": 457
        },
        "id": "A56YZP5EcOA0",
        "outputId": "b26965ec-c3b7-47b9-9826-5f1de89ef7e0"
      },
      "execution_count": 12,
      "outputs": [
        {
          "output_type": "display_data",
          "data": {
            "text/plain": [
              "<Figure size 800x500 with 1 Axes>"
            ],
            "image/png": "[encoded data removed]"
          },
          "metadata": {}
        }
      ]
    },
    {
      "cell_type": "markdown",
      "source": [
        "### Rótulos numéricos"
      ],
      "metadata": {
        "id": "SaAEt9KddM8U"
      }
    },
    {
      "cell_type": "markdown",
      "source": [
        "#### One-hot"
      ],
      "metadata": {
        "id": "KrqrdjCW4XFm"
      }
    },
    {
      "cell_type": "code",
      "source": [
        "codificador_onehot = OneHotEncoder(sparse=False)\n",
        "\n",
        "rotulos_onehot_treino    = codificador_onehot.fit_transform(df_treino['classe'].to_numpy().reshape(-1, 1))\n",
        "rotulos_onehot_validacao = codificador_onehot.transform(df_validacao['classe'].to_numpy().reshape(-1, 1))\n",
        "rotulos_onehot_teste     = codificador_onehot.transform(df_teste['classe'].to_numpy().reshape(-1, 1))"
      ],
      "metadata": {
        "id": "j2mOlwRr1pr4"
      },
      "execution_count": 13,
      "outputs": []
    },
    {
      "cell_type": "code",
      "source": [
        "rotulos_onehot_treino"
      ],
      "metadata": {
        "colab": {
          "base_uri": "https://localhost:8080/"
        },
        "id": "zVisvpjt2vAQ",
        "outputId": "0890ef3e-908c-49a9-b9bc-da3807288043"
      },
      "execution_count": 14,
      "outputs": [
        {
          "output_type": "execute_result",
          "data": {
            "text/plain": [
              "array([[0., 0., 0., 1., 0.],\n",
              "       [0., 0., 1., 0., 0.],\n",
              "       [0., 0., 1., 0., 0.],\n",
              "       ...,\n",
              "       [0., 0., 0., 0., 1.],\n",
              "       [0., 1., 0., 0., 0.],\n",
              "       [0., 1., 0., 0., 0.]])"
            ]
          },
          "metadata": {},
          "execution_count": 14
        }
      ]
    },
    {
      "cell_type": "markdown",
      "source": [
        "#### Inteiros"
      ],
      "metadata": {
        "id": "mw90LPah2-83"
      }
    },
    {
      "cell_type": "code",
      "source": [
        "codificador_int = LabelEncoder()\n",
        "\n",
        "rotulos_int_treino    = codificador_int.fit_transform(df_treino['classe'].to_numpy())\n",
        "rotulos_int_validacao = codificador_int.transform(df_validacao['classe'].to_numpy())\n",
        "rotulos_int_teste     = codificador_int.transform(df_teste['classe'].to_numpy())"
      ],
      "metadata": {
        "id": "OsmgVFMn4iFB"
      },
      "execution_count": 15,
      "outputs": []
    },
    {
      "cell_type": "code",
      "source": [
        "rotulos_int_treino"
      ],
      "metadata": {
        "colab": {
          "base_uri": "https://localhost:8080/"
        },
        "outputId": "3a6a4f2e-752a-48ab-bfac-60f71cc8e8b8",
        "id": "KKPkj4XE4iFB"
      },
      "execution_count": 16,
      "outputs": [
        {
          "output_type": "execute_result",
          "data": {
            "text/plain": [
              "array([3, 2, 2, ..., 4, 1, 1])"
            ]
          },
          "metadata": {},
          "execution_count": 16
        }
      ]
    },
    {
      "cell_type": "code",
      "source": [
        "classes = codificador_int.classes_\n",
        "classes"
      ],
      "metadata": {
        "colab": {
          "base_uri": "https://localhost:8080/"
        },
        "id": "gH7wCQLS46lv",
        "outputId": "46cedf9b-d0e1-4269-d58f-55493fcaa6a1"
      },
      "execution_count": 17,
      "outputs": [
        {
          "output_type": "execute_result",
          "data": {
            "text/plain": [
              "array(['BACKGROUND', 'CONCLUSIONS', 'METHODS', 'OBJECTIVE', 'RESULTS'],\n",
              "      dtype=object)"
            ]
          },
          "metadata": {},
          "execution_count": 17
        }
      ]
    },
    {
      "cell_type": "markdown",
      "source": [
        "### Treino e teste"
      ],
      "metadata": {
        "id": "Gprweam89O8G"
      }
    },
    {
      "cell_type": "code",
      "source": [
        "X_train = df_treino['texto']\n",
        "y_train = rotulos_int_treino\n",
        "\n",
        "X_test = df_validacao['texto']\n",
        "y_test = rotulos_int_validacao"
      ],
      "metadata": {
        "id": "nEhNF1zL9RF3"
      },
      "execution_count": 18,
      "outputs": []
    },
    {
      "cell_type": "markdown",
      "source": [
        "## Modelos"
      ],
      "metadata": {
        "id": "sF-Hny925HTY"
      }
    },
    {
      "cell_type": "code",
      "source": [
        "modelos = [None] * 5"
      ],
      "metadata": {
        "id": "O7BwmdBR7R5n"
      },
      "execution_count": 19,
      "outputs": []
    },
    {
      "cell_type": "markdown",
      "source": [
        "### Modelo 0: TF-IDF Naive-Bayes"
      ],
      "metadata": {
        "id": "UX62Fknz7GgI"
      }
    },
    {
      "cell_type": "code",
      "source": [
        "modelos[0] = {}"
      ],
      "metadata": {
        "id": "ZndyNUIp-MCX"
      },
      "execution_count": 20,
      "outputs": []
    },
    {
      "cell_type": "code",
      "source": [
        "modelo_nome = 'modelo_0_tfidf_naive_bayes'\n",
        "\n",
        "modelo = Pipeline([('tfidf', TfidfVectorizer()),\n",
        "                   ('clf', MultinomialNB())])\n",
        "\n",
        "modelo.fit(X_train, y_train)"
      ],
      "metadata": {
        "colab": {
          "base_uri": "https://localhost:8080/"
        },
        "id": "Hb0thwq57OEr",
        "outputId": "dd153906-8561-431b-acce-d20f1c697087"
      },
      "execution_count": 21,
      "outputs": [
        {
          "output_type": "execute_result",
          "data": {
            "text/plain": [
              "Pipeline(steps=[('tfidf', TfidfVectorizer()), ('clf', MultinomialNB())])"
            ]
          },
          "metadata": {},
          "execution_count": 21
        }
      ]
    },
    {
      "cell_type": "code",
      "source": [
        "y_pred = modelo.predict(X_test)"
      ],
      "metadata": {
        "id": "t9Eb1OST-YYg"
      },
      "execution_count": 22,
      "outputs": []
    },
    {
      "cell_type": "code",
      "source": [
        "previsoes = np.zeros((y_pred.size, y_pred.max() + 1))\n",
        "previsoes[np.arange(y_pred.size), y_pred] = 1"
      ],
      "metadata": {
        "id": "YWeMPo_lCMbz"
      },
      "execution_count": 23,
      "outputs": []
    },
    {
      "cell_type": "code",
      "source": [
        "avaliacao = avaliar_modelo(y_test, y_pred, classes)"
      ],
      "metadata": {
        "colab": {
          "base_uri": "https://localhost:8080/",
          "height": 752
        },
        "id": "AmCdCp_K-2OX",
        "outputId": "1835b9b9-8ef9-41fd-c7e6-050a87838c1b"
      },
      "execution_count": 24,
      "outputs": [
        {
          "output_type": "stream",
          "name": "stdout",
          "text": [
            "              precision    recall  f1-score   support\n",
            "\n",
            "  BACKGROUND       0.66      0.49      0.56      3449\n",
            " CONCLUSIONS       0.65      0.59      0.61      4582\n",
            "     METHODS       0.72      0.87      0.79      9964\n",
            "   OBJECTIVE       0.75      0.14      0.23      2376\n",
            "     RESULTS       0.76      0.86      0.81      9841\n",
            "\n",
            "    accuracy                           0.72     30212\n",
            "   macro avg       0.71      0.59      0.60     30212\n",
            "weighted avg       0.72      0.72      0.70     30212\n",
            "\n"
          ]
        },
        {
          "output_type": "display_data",
          "data": {
            "text/plain": [
              "<Figure size 800x500 with 2 Axes>"
            ],
            "image/png": "[encoded data removed]"
          },
          "metadata": {}
        }
      ]
    },
    {
      "cell_type": "code",
      "source": [
        "avaliacao"
      ],
      "metadata": {
        "colab": {
          "base_uri": "https://localhost:8080/"
        },
        "id": "Fjjg8COn-89_",
        "outputId": "b2b20d8b-2af6-4bbd-e93a-4d668e20e174"
      },
      "execution_count": 25,
      "outputs": [
        {
          "output_type": "execute_result",
          "data": {
            "text/plain": [
              "{'acuracia': 0.7218323844829869,\n",
              " 'precisao': 0.7186466952323352,\n",
              " 'revocacao': 0.7218323844829869,\n",
              " 'pontuacao-f1': 0.6989250353450294}"
            ]
          },
          "metadata": {},
          "execution_count": 25
        }
      ]
    },
    {
      "cell_type": "code",
      "source": [
        "modelos[0]['nome']           = modelo_nome\n",
        "modelos[0]['descricao']      = 'Modelo 0: TF-IDF Naive-Bayes'\n",
        "modelos[0]['modelo']         = modelo\n",
        "modelos[0]['historico']      = None\n",
        "modelos[0]['probabilidades'] = y_pred\n",
        "modelos[0]['previsoes']      = previsoes\n",
        "modelos[0]['acuracia']       = avaliacao['acuracia']\n",
        "modelos[0]['precisao']       = avaliacao['precisao']\n",
        "modelos[0]['revocacao']      = avaliacao['revocacao']\n",
        "modelos[0]['pontuacao-f1']   = avaliacao['pontuacao-f1']"
      ],
      "metadata": {
        "id": "ehDoIgor-OfR"
      },
      "execution_count": 26,
      "outputs": []
    },
    {
      "cell_type": "markdown",
      "source": [
        "### Preparação dos textos para modelos de sequência profunda."
      ],
      "metadata": {
        "id": "VRtW8n1x-PDW"
      }
    },
    {
      "cell_type": "code",
      "source": [
        "palavras_por_texto    = [len(texto.split()) for texto in X_train]\n",
        "palavras_por_texto_95 = int(np.percentile(palavras_por_texto, 95))  # Quantidade máxima de palavras para 95% dos textos."
      ],
      "metadata": {
        "id": "GWkiCt7ah6Ea"
      },
      "execution_count": 27,
      "outputs": []
    },
    {
      "cell_type": "code",
      "source": [
        "print(f\"Média: {np.mean(palavras_por_texto)}\")\n",
        "print(f\"Máximo: {np.max(palavras_por_texto)}\")\n",
        "print(f\"95%: {palavras_por_texto_95}\")"
      ],
      "metadata": {
        "colab": {
          "base_uri": "https://localhost:8080/"
        },
        "id": "ge1jUxe_iX4w",
        "outputId": "396fcc00-2b80-4697-ac6d-d4fe71e60983"
      },
      "execution_count": 28,
      "outputs": [
        {
          "output_type": "stream",
          "name": "stdout",
          "text": [
            "Média: 26.338269273494777\n",
            "Máximo: 296\n",
            "95%: 55\n"
          ]
        }
      ]
    },
    {
      "cell_type": "code",
      "source": [
        "sns.histplot(x=palavras_por_texto, color=COR)\n",
        "\n",
        "plt.xlim(0, 60)\n",
        "\n",
        "plt.xlabel('Quantidade de palavras')\n",
        "plt.ylabel('Quantidade de textos');"
      ],
      "metadata": {
        "colab": {
          "base_uri": "https://localhost:8080/",
          "height": 457
        },
        "id": "O5Vyt98piT5V",
        "outputId": "e535e93f-e503-4d1f-fec2-390a576858ee"
      },
      "execution_count": 29,
      "outputs": [
        {
          "output_type": "display_data",
          "data": {
            "text/plain": [
              "<Figure size 800x500 with 1 Axes>"
            ],
            "image/png": "[encoded data removed]"
          },
          "metadata": {}
        }
      ]
    },
    {
      "cell_type": "markdown",
      "source": [
        "#### Vetorização"
      ],
      "metadata": {
        "id": "oZvbMm1Doyqc"
      }
    },
    {
      "cell_type": "code",
      "source": [
        "vetorizador = TextVectorization(max_tokens=LIMITE_DICIONARIO_20K,\n",
        "                                output_mode='int',\n",
        "                                output_sequence_length=palavras_por_texto_95)\n",
        "\n",
        "vetorizador.adapt(X_train)"
      ],
      "metadata": {
        "id": "KeLhjzAYH3jG"
      },
      "execution_count": 30,
      "outputs": []
    },
    {
      "cell_type": "code",
      "source": [
        "vetorizador.get_config()"
      ],
      "metadata": {
        "colab": {
          "base_uri": "https://localhost:8080/"
        },
        "id": "6nHcUj06QgTH",
        "outputId": "32279414-2746-4850-e431-d2fe19e8b339"
      },
      "execution_count": 31,
      "outputs": [
        {
          "output_type": "execute_result",
          "data": {
            "text/plain": [
              "{'name': 'text_vectorization',\n",
              " 'trainable': True,\n",
              " 'batch_input_shape': (None, None),\n",
              " 'dtype': 'string',\n",
              " 'max_tokens': 68000,\n",
              " 'standardize': 'lower_and_strip_punctuation',\n",
              " 'split': 'whitespace',\n",
              " 'ngrams': None,\n",
              " 'output_mode': 'int',\n",
              " 'output_sequence_length': 55,\n",
              " 'pad_to_max_tokens': False,\n",
              " 'sparse': False,\n",
              " 'ragged': False,\n",
              " 'vocabulary': None,\n",
              " 'idf_weights': None}"
            ]
          },
          "metadata": {},
          "execution_count": 31
        }
      ]
    },
    {
      "cell_type": "markdown",
      "source": [
        "#### Vocabulário"
      ],
      "metadata": {
        "id": "VRtmy8e7YrHM"
      }
    },
    {
      "cell_type": "code",
      "source": [
        "vocabulario = vetorizador.get_vocabulary()\n",
        "\n",
        "print(f\"Tamanho do vocabulário: {len(vocabulario)}\")\n",
        "print(f\"10 palavras mais comuns: {vocabulario[:10]}\")\n",
        "print(f\"10 palavras menos comuns: {vocabulario[-10:]}\")"
      ],
      "metadata": {
        "colab": {
          "base_uri": "https://localhost:8080/"
        },
        "id": "u10YwRExLW33",
        "outputId": "acee1046-bedc-4331-df4a-c5efabb0f01e"
      },
      "execution_count": 32,
      "outputs": [
        {
          "output_type": "stream",
          "name": "stdout",
          "text": [
            "Tamanho do vocabulário: 64841\n",
            "10 palavras mais comuns: ['', '[UNK]', 'the', 'and', 'of', 'in', 'to', 'with', 'a', 'were']\n",
            "10 palavras menos comuns: ['aarm', 'aaqol', 'aaq', 'aanhui', 'aana', 'aainduced', 'aaigroup', 'aachener', 'aachen', 'aaacp']\n"
          ]
        }
      ]
    },
    {
      "cell_type": "markdown",
      "source": [
        "#### Incorporação"
      ],
      "metadata": {
        "id": "3kBsMF6VLosd"
      }
    },
    {
      "cell_type": "code",
      "source": [
        "incorporador = Embedding(input_dim=len(vocabulario),\n",
        "                         output_dim=LIMITE_INCORPORADOR,\n",
        "                         mask_zero=True,\n",
        "                         input_length=palavras_por_texto_95)"
      ],
      "metadata": {
        "id": "z7XbDbl1LtUs"
      },
      "execution_count": 33,
      "outputs": []
    },
    {
      "cell_type": "markdown",
      "source": [
        "`mask_zero=True` otimiza o tratamento de preenchimento com valor zero nas camadas subsequentes e na função de perda.\n",
        "\n",
        "Mais informações: https://stackoverflow.com/questions/47485216/how-does-mask-zero-in-keras-embedding-layer-work"
      ],
      "metadata": {
        "id": "YNf0XZ4GhcsG"
      }
    },
    {
      "cell_type": "code",
      "source": [
        "incorporador.get_config()"
      ],
      "metadata": {
        "colab": {
          "base_uri": "https://localhost:8080/"
        },
        "id": "MUKf0O-aUHub",
        "outputId": "5390efa7-48d2-459e-b7a7-205f5f9b4d80"
      },
      "execution_count": 34,
      "outputs": [
        {
          "output_type": "execute_result",
          "data": {
            "text/plain": [
              "{'name': 'embedding',\n",
              " 'trainable': True,\n",
              " 'batch_input_shape': (None, 55),\n",
              " 'dtype': 'float32',\n",
              " 'input_dim': 64841,\n",
              " 'output_dim': 256,\n",
              " 'embeddings_initializer': {'class_name': 'RandomUniform',\n",
              "  'config': {'minval': -0.05, 'maxval': 0.05, 'seed': None}},\n",
              " 'embeddings_regularizer': None,\n",
              " 'activity_regularizer': None,\n",
              " 'embeddings_constraint': None,\n",
              " 'mask_zero': True,\n",
              " 'input_length': 55}"
            ]
          },
          "metadata": {},
          "execution_count": 34
        }
      ]
    },
    {
      "cell_type": "markdown",
      "source": [
        "#### Verificação"
      ],
      "metadata": {
        "id": "XfgZ6wGIV60K"
      }
    },
    {
      "cell_type": "code",
      "source": [
        "texto_aleatorio = random.choice(X_train)\n",
        "\n",
        "vetorizado = vetorizador([texto_aleatorio])\n",
        "incorporado = incorporador(vetorizado)\n",
        "\n",
        "print(texto_aleatorio)\n",
        "print()\n",
        "print(f\"Quantidade de palavras: {len(texto_aleatorio.split())}\")\n",
        "print(f\"Formato vetorizado: {vetorizado.shape}\")\n",
        "print(f\"Formato incorporado: {incorporado.shape}\")\n",
        "print()\n",
        "print(vetorizado)\n",
        "print()\n",
        "print(incorporado)"
      ],
      "metadata": {
        "colab": {
          "base_uri": "https://localhost:8080/"
        },
        "id": "eqhJBzTELByS",
        "outputId": "176dedef-9aa8-462c-d311-b55adb58a2e8"
      },
      "execution_count": 35,
      "outputs": [
        {
          "output_type": "stream",
          "name": "stdout",
          "text": [
            "median cycles of @-fluorouracil were reduced in the linifanib arms , versus the bevacizumab arm .\n",
            "\n",
            "Quantidade de palavras: 16\n",
            "Formato vetorizado: (1, 55)\n",
            "Formato incorporado: (1, 55, 256)\n",
            "\n",
            "tf.Tensor(\n",
            "[[ 193 1039    4 2898    9  191    5    2 8413  490  110    2 1034  207\n",
            "     0    0    0    0    0    0    0    0    0    0    0    0    0    0\n",
            "     0    0    0    0    0    0    0    0    0    0    0    0    0    0\n",
            "     0    0    0    0    0    0    0    0    0    0    0    0    0]], shape=(1, 55), dtype=int64)\n",
            "\n",
            "tf.Tensor(\n",
            "[[[-0.00656953  0.04971298  0.04499714 ...  0.02672731  0.00302564\n",
            "   -0.00046121]\n",
            "  [ 0.04766697 -0.03455477  0.04963299 ...  0.02994002  0.04775376\n",
            "    0.03519921]\n",
            "  [ 0.00688462 -0.03971469 -0.04755082 ...  0.03442143 -0.03588052\n",
            "   -0.01843715]\n",
            "  ...\n",
            "  [-0.00936107  0.00774754 -0.0176188  ...  0.00904591 -0.03322052\n",
            "   -0.02352551]\n",
            "  [-0.00936107  0.00774754 -0.0176188  ...  0.00904591 -0.03322052\n",
            "   -0.02352551]\n",
            "  [-0.00936107  0.00774754 -0.0176188  ...  0.00904591 -0.03322052\n",
            "   -0.02352551]]], shape=(1, 55, 256), dtype=float32)\n"
          ]
        }
      ]
    },
    {
      "cell_type": "markdown",
      "source": [
        "#### Criação de datasets"
      ],
      "metadata": {
        "id": "YA2mPLtdSzmW"
      }
    },
    {
      "cell_type": "markdown",
      "source": [
        "Fusão dos dados e rótulos em datasets para ganho de performance.\n",
        "\n",
        "Better performance with the tf.data API: https://www.tensorflow.org/guide/data_performance"
      ],
      "metadata": {
        "id": "zyXYoLr-ja4o"
      }
    },
    {
      "cell_type": "code",
      "source": [
        "# Datasets\n",
        "dados_treino    = Dataset.from_tensor_slices((df_treino['texto'], rotulos_onehot_treino))\n",
        "dados_validacao = Dataset.from_tensor_slices((df_validacao['texto'], rotulos_onehot_validacao))\n",
        "dados_teste     = Dataset.from_tensor_slices((df_teste['texto'], rotulos_onehot_teste))"
      ],
      "metadata": {
        "id": "N4DJJZbJj3Gw"
      },
      "execution_count": 36,
      "outputs": []
    },
    {
      "cell_type": "code",
      "source": [
        "dados_treino"
      ],
      "metadata": {
        "colab": {
          "base_uri": "https://localhost:8080/"
        },
        "id": "aHup0yT6moG_",
        "outputId": "df10168b-84de-4d1e-ce63-5532b1034583"
      },
      "execution_count": 37,
      "outputs": [
        {
          "output_type": "execute_result",
          "data": {
            "text/plain": [
              "<TensorSliceDataset element_spec=(TensorSpec(shape=(), dtype=tf.string, name=None), TensorSpec(shape=(5,), dtype=tf.float64, name=None))>"
            ]
          },
          "metadata": {},
          "execution_count": 37
        }
      ]
    },
    {
      "cell_type": "code",
      "source": [
        "# Pré-buscas\n",
        "dados_treino    = dados_treino.batch(LOTE_TAMANHO).prefetch(AUTOTUNE)\n",
        "dados_validacao = dados_validacao.batch(LOTE_TAMANHO).prefetch(AUTOTUNE)\n",
        "dados_teste     = dados_teste.batch(LOTE_TAMANHO).prefetch(AUTOTUNE)"
      ],
      "metadata": {
        "id": "dXfcMje8mpcz"
      },
      "execution_count": 38,
      "outputs": []
    },
    {
      "cell_type": "code",
      "source": [
        "dados_treino"
      ],
      "metadata": {
        "colab": {
          "base_uri": "https://localhost:8080/"
        },
        "id": "cldjvm9YmpOK",
        "outputId": "34053b0a-6439-421d-a1aa-df9fc9a42af5"
      },
      "execution_count": 39,
      "outputs": [
        {
          "output_type": "execute_result",
          "data": {
            "text/plain": [
              "<PrefetchDataset element_spec=(TensorSpec(shape=(None,), dtype=tf.string, name=None), TensorSpec(shape=(None, 5), dtype=tf.float64, name=None))>"
            ]
          },
          "metadata": {},
          "execution_count": 39
        }
      ]
    },
    {
      "cell_type": "markdown",
      "source": [
        "### Modelo 1: Conv1D com incorporação de palavras"
      ],
      "metadata": {
        "id": "VzH5qYgYmozK"
      }
    },
    {
      "cell_type": "code",
      "source": [
        "modelos[1] = {}"
      ],
      "metadata": {
        "id": "K8syu1mjBxMN"
      },
      "execution_count": 53,
      "outputs": []
    },
    {
      "cell_type": "code",
      "source": [
        "modelo_nome = 'modelo_1_conv1d_inc_palavras'\n",
        "\n",
        "entradas = Input(shape=ENTRADA_FORMATO, dtype=ENTRADA_TIPO, name='camada_entrada')\n",
        "\n",
        "camadas = vetorizador(entradas)\n",
        "camadas = incorporador(camadas)\n",
        "\n",
        "camadas = Conv1D(filters=FILTROS,\n",
        "                 kernel_size=NUCLEO_TAMANHO,\n",
        "                 activation=ATIVACAO_CNN,\n",
        "                 padding=PREENCHIMENTO,\n",
        "                 name='camada_convulacional')(camadas)\n",
        "\n",
        "camadas = GlobalAveragePooling1D(name='agrupamento_media_global')(camadas)\n",
        "\n",
        "saidas = Dense(len(classes), activation=ATIVACAO_SAIDA, name='camada_saida')(camadas)\n",
        "\n",
        "modelo = Model(inputs=entradas, outputs=saidas, name=modelo_nome)\n",
        "\n",
        "modelo.compile(loss=PERDA,\n",
        "               optimizer=Adam(learning_rate=APRENDIZADO),\n",
        "               metrics=METRICAS)\n",
        "\n",
        "historico = modelo.fit(dados_treino,\n",
        "                       epochs=ITERACOES,\n",
        "                       validation_data=dados_validacao,\n",
        "                       verbose=1)"
      ],
      "metadata": {
        "colab": {
          "base_uri": "https://localhost:8080/"
        },
        "id": "tGq3c7yNRiq9",
        "outputId": "a9d07ba7-f8c4-4bef-8aad-b1858e490722"
      },
      "execution_count": 54,
      "outputs": [
        {
          "output_type": "stream",
          "name": "stdout",
          "text": [
            "Epoch 1/3\n",
            "5627/5627 [==============================] - 73s 13ms/step - loss: 0.2636 - accuracy: 0.9151 - val_loss: 0.7805 - val_accuracy: 0.7848\n",
            "Epoch 2/3\n",
            "5627/5627 [==============================] - 72s 13ms/step - loss: 0.1701 - accuracy: 0.9472 - val_loss: 0.9148 - val_accuracy: 0.7785\n",
            "Epoch 3/3\n",
            "5627/5627 [==============================] - 71s 13ms/step - loss: 0.1336 - accuracy: 0.9604 - val_loss: 1.0600 - val_accuracy: 0.7713\n"
          ]
        }
      ]
    },
    {
      "cell_type": "code",
      "source": [
        "grafico_historico_por_iteracao(historico)"
      ],
      "metadata": {
        "colab": {
          "base_uri": "https://localhost:8080/",
          "height": 480
        },
        "id": "DvgTDDqKWfrz",
        "outputId": "2d854a82-b84c-403d-93ba-d820e5978f8f"
      },
      "execution_count": 55,
      "outputs": [
        {
          "output_type": "display_data",
          "data": {
            "text/plain": [
              "<Figure size 800x500 with 1 Axes>"
            ],
            "image/png": "[encoded data removed]"
          },
          "metadata": {}
        }
      ]
    },
    {
      "cell_type": "code",
      "source": [
        "probabilidades = modelo.predict(dados_validacao)\n",
        "previsoes      = tf.argmax(probabilidades, axis=1)\n",
        "avaliacao      = avaliar_modelo(rotulos_int_validacao, previsoes, classes)"
      ],
      "metadata": {
        "colab": {
          "base_uri": "https://localhost:8080/",
          "height": 770
        },
        "id": "pESc6xprWmui",
        "outputId": "951760de-8376-455d-c908-cc0932610f89"
      },
      "execution_count": 56,
      "outputs": [
        {
          "output_type": "stream",
          "name": "stdout",
          "text": [
            "945/945 [==============================] - 2s 2ms/step\n",
            "              precision    recall  f1-score   support\n",
            "\n",
            "  BACKGROUND       0.58      0.61      0.60      3449\n",
            " CONCLUSIONS       0.68      0.69      0.69      4582\n",
            "     METHODS       0.87      0.85      0.86      9964\n",
            "   OBJECTIVE       0.61      0.47      0.53      2376\n",
            "     RESULTS       0.82      0.86      0.84      9841\n",
            "\n",
            "    accuracy                           0.77     30212\n",
            "   macro avg       0.71      0.70      0.70     30212\n",
            "weighted avg       0.77      0.77      0.77     30212\n",
            "\n"
          ]
        },
        {
          "output_type": "display_data",
          "data": {
            "text/plain": [
              "<Figure size 800x500 with 2 Axes>"
            ],
            "image/png": "[encoded data removed]"
          },
          "metadata": {}
        }
      ]
    },
    {
      "cell_type": "code",
      "source": [
        "avaliacao"
      ],
      "metadata": {
        "colab": {
          "base_uri": "https://localhost:8080/"
        },
        "id": "P7WWed99Ytdo",
        "outputId": "b8a5e51e-aea7-4688-a92f-3b0dd33ff119"
      },
      "execution_count": 57,
      "outputs": [
        {
          "output_type": "execute_result",
          "data": {
            "text/plain": [
              "{'acuracia': 0.7712829339335363,\n",
              " 'precisao': 0.7693931747969623,\n",
              " 'revocacao': 0.7712829339335363,\n",
              " 'pontuacao-f1': 0.7693561786246591}"
            ]
          },
          "metadata": {},
          "execution_count": 57
        }
      ]
    },
    {
      "cell_type": "code",
      "source": [
        "modelos[1]['nome']           = modelo_nome\n",
        "modelos[1]['descricao']      = 'Modelo 1: Conv1D com incorporação de palavras'\n",
        "modelos[1]['modelo']         = modelo\n",
        "modelos[1]['historico']      = historico\n",
        "modelos[1]['probabilidades'] = probabilidades\n",
        "modelos[1]['previsoes']      = previsoes\n",
        "modelos[1]['acuracia']       = avaliacao['acuracia']\n",
        "modelos[1]['precisao']       = avaliacao['precisao']\n",
        "modelos[1]['revocacao']      = avaliacao['revocacao']\n",
        "modelos[1]['pontuacao-f1']   = avaliacao['pontuacao-f1']"
      ],
      "metadata": {
        "id": "7yu-J93xY4sT"
      },
      "execution_count": 58,
      "outputs": []
    },
    {
      "cell_type": "markdown",
      "source": [
        "### Modelo 2: TFHub USE"
      ],
      "metadata": {
        "id": "LZ4fqAxTZGOn"
      }
    },
    {
      "cell_type": "code",
      "source": [
        "modelos[2] = {}"
      ],
      "metadata": {
        "id": "KiZi79LszxqM"
      },
      "execution_count": null,
      "outputs": []
    },
    {
      "cell_type": "code",
      "source": [
        "modelo_nome = 'modelo_2_use'\n",
        "\n",
        "entradas = Input(shape=[], dtype=ENTRADA_TIPO, name='camada_entrada')  # shape=[] para entradas de tamanho variável\n",
        "\n",
        "camadas = hub.KerasLayer(handle='https://tfhub.dev/google/universal-sentence-encoder/4',\n",
        "                         trainable=False,\n",
        "                         name='camada_use')(entradas)\n",
        "\n",
        "camadas = Dense(LIMITE_INCORPORADOR, activation=ATIVACAO_CNN, name='camada_relu')(camadas)\n",
        "\n",
        "saidas = Dense(len(classes), activation=ATIVACAO_SAIDA, name='camada_saida')(camadas)\n",
        "\n",
        "modelo = Model(inputs=entradas, outputs=saidas, name=modelo_nome)\n",
        "\n",
        "modelo.compile(loss=PERDA,\n",
        "               optimizer=Adam(learning_rate=APRENDIZADO),\n",
        "               metrics=METRICAS)\n",
        "\n",
        "historico = modelo.fit(dados_treino,\n",
        "                       epochs=ITERACOES,\n",
        "                       validation_data=dados_validacao,\n",
        "                       verbose=1)"
      ],
      "metadata": {
        "id": "oYEdZE6s0F6Q"
      },
      "execution_count": null,
      "outputs": []
    },
    {
      "cell_type": "code",
      "source": [
        "grafico_historico_por_iteracao(historico)"
      ],
      "metadata": {
        "id": "GqS2eo02276k"
      },
      "execution_count": null,
      "outputs": []
    },
    {
      "cell_type": "code",
      "source": [
        "probabilidades = modelo.predict(dados_validacao)\n",
        "previsoes      = tf.argmax(probabilidades, axis=1)\n",
        "avaliacao      = avaliar_modelo(rotulos_int_validacao, previsoes, classes)"
      ],
      "metadata": {
        "id": "J5lUNxJ_3Axz"
      },
      "execution_count": null,
      "outputs": []
    },
    {
      "cell_type": "code",
      "source": [
        "avaliacao"
      ],
      "metadata": {
        "id": "iRbuW8Nh3AsV"
      },
      "execution_count": null,
      "outputs": []
    },
    {
      "cell_type": "code",
      "source": [
        "modelos[2]['nome']           = modelo_nome\n",
        "modelos[2]['descricao']      = 'Modelo 2: TFHub USE'\n",
        "modelos[2]['modelo']         = modelo\n",
        "modelos[2]['historico']      = historico\n",
        "modelos[2]['probabilidades'] = probabilidades\n",
        "modelos[2]['previsoes']      = previsoes\n",
        "modelos[2]['acuracia']       = avaliacao['acuracia']\n",
        "modelos[2]['precisao']       = avaliacao['precisao']\n",
        "modelos[2]['revocacao']      = avaliacao['revocacao']\n",
        "modelos[2]['pontuacao-f1']   = avaliacao['pontuacao-f1']"
      ],
      "metadata": {
        "id": "nsHzoxIM3Ape"
      },
      "execution_count": null,
      "outputs": []
    },
    {
      "cell_type": "code",
      "source": [],
      "metadata": {
        "id": "QjgLcEPf3Amu"
      },
      "execution_count": null,
      "outputs": []
    }
  ]
}