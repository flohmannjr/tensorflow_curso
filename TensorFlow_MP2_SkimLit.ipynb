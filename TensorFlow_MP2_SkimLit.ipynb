{
  "nbformat": 4,
  "nbformat_minor": 0,
  "metadata": {
    "colab": {
      "provenance": [],
      "toc_visible": true,
      "authorship_tag": "ABX9TyMlrtUONHrueEwRMsbzH7wb",
      "include_colab_link": true
    },
    "kernelspec": {
      "name": "python3",
      "display_name": "Python 3"
    },
    "language_info": {
      "name": "python"
    },
    "gpuClass": "standard",
    "accelerator": "GPU"
  },
  "cells": [
    {
      "cell_type": "markdown",
      "metadata": {
        "id": "view-in-github",
        "colab_type": "text"
      },
      "source": [
        "<a href=\"https://colab.research.google.com/github/flohmannjr/tensorflow_curso/blob/main/TensorFlow_MP2_SkimLit.ipynb\" target=\"_parent\"><img src=\"https://colab.research.google.com/assets/colab-badge.svg\" alt=\"Open In Colab\"/></a>"
      ]
    },
    {
      "cell_type": "markdown",
      "source": [
        "# TensorFlow Milestone Project: SkimLit"
      ],
      "metadata": {
        "id": "G-cwRZOT6Vee"
      }
    },
    {
      "cell_type": "markdown",
      "source": [
        "Este projeto tem como objetivo reproduzir o artigo **PubMed 200k RCT: a Dataset for Sequential Sentence Classification in Medical Abstracts**. https://arxiv.org/abs/1710.06071\n",
        "\n",
        "O resumo de artigos científicos de Medicina costumam ser blocos de texto de difícil interpretação imediata. Este artigo teve como propósito criar um modelo para classificação sequencial de sentenças, onde, uma vez apresentado um resumo, dividirá o texto em cinco categorias: Background, Conclusions, Methods, Objective e Results (Contexto, Conclusões, Métodos, Objetivo e Resultados), facilitando sua interpretação.\n",
        "\n",
        "PubMed 200k RCT utiliza a arquitetura do modelo do artigo **Neural Networks for Joint Sentence Classification in Medical Paper Abstracts**. https://arxiv.org/abs/1612.05251"
      ],
      "metadata": {
        "id": "X3g3-RzJsuU7"
      }
    },
    {
      "cell_type": "code",
      "source": [
        "import tensorflow as tf\n",
        "import tensorflow_hub as hub\n",
        "\n",
        "import numpy as np\n",
        "import pandas as pd\n",
        "import matplotlib.pyplot as plt\n",
        "import seaborn as sns\n",
        "\n",
        "import random, re\n",
        "\n",
        "from tensorflow.data import AUTOTUNE, Dataset\n",
        "from tensorflow.keras import Model\n",
        "from tensorflow.keras.optimizers import Adam\n",
        "from tensorflow.keras.utils import plot_model\n",
        "\n",
        "from tensorflow.keras.layers import Embedding, TextVectorization\n",
        "from tensorflow.keras.layers import Dense, GlobalAveragePooling1D, GlobalMaxPool1D, Input\n",
        "from tensorflow.keras.layers import Bidirectional, Concatenate, Conv1D, Dropout, LSTM\n",
        "\n",
        "from sklearn.feature_extraction.text import TfidfVectorizer\n",
        "from sklearn.metrics import classification_report\n",
        "from sklearn.naive_bayes import MultinomialNB\n",
        "from sklearn.pipeline import Pipeline\n",
        "from sklearn.preprocessing import LabelEncoder, OneHotEncoder"
      ],
      "metadata": {
        "id": "ND6yUaUk6kOK"
      },
      "execution_count": 1,
      "outputs": []
    },
    {
      "cell_type": "markdown",
      "source": [
        "## Setup"
      ],
      "metadata": {
        "id": "bYIefgtjOAGl"
      }
    },
    {
      "cell_type": "code",
      "source": [
        "pd.set_option('display.max_colwidth', None)\n",
        "\n",
        "plt.rcParams['figure.figsize'] = [8, 5]\n",
        "plt.rcParams['figure.dpi'] = 100\n",
        "\n",
        "plt.style.use('seaborn-darkgrid')"
      ],
      "metadata": {
        "id": "T_u3SG7QOCXV"
      },
      "execution_count": 2,
      "outputs": []
    },
    {
      "cell_type": "markdown",
      "source": [
        "### Constantes"
      ],
      "metadata": {
        "id": "Uy_Tv0JkpVxy"
      }
    },
    {
      "cell_type": "code",
      "source": [
        "SEMENTE = 2008193\n",
        "\n",
        "COR = '#007f66'\n",
        "\n",
        "DIRETORIO = '/content/pubmed-rct/PubMed_20k_RCT_numbers_replaced_with_at_sign'\n",
        "# DIRETORIO = '/content/pubmed-rct/PubMed_200k_RCT_numbers_replaced_with_at_sign'\n",
        "\n",
        "# 1710.06071 - Tabela 2\n",
        "LIMITE_DICIONARIO = 68000\n",
        "# LIMITE_DICIONARIO = 331000\n",
        "\n",
        "LIMITE_CARACTERES = 80\n",
        "\n",
        "# 1612.05251 - Figura 1\n",
        "LIMITE_INCORPORADOR = 300\n",
        "LIMITE_INCORPORADOR_CARACTERES = 25\n",
        "LIMITE_VETOR_TEXTO = 100\n",
        "\n",
        "LOTE_TAMANHO = 32\n",
        "\n",
        "ENTRADA_FORMATO = (1,)\n",
        "ENTRADA_TIPO = tf.string\n",
        "\n",
        "ATIVACAO_CNN = 'relu'\n",
        "ATIVACAO_RNN = 'tanh'\n",
        "ATIVACAO_SAIDA = 'softmax'\n",
        "\n",
        "FILTROS = 64\n",
        "NUCLEO_TAMANHO = 5\n",
        "PREENCHIMENTO = 'same'\n",
        "\n",
        "PERDA = 'categorical_crossentropy'\n",
        "APRENDIZADO = 0.001\n",
        "METRICAS = ['accuracy']\n",
        "\n",
        "ITERACOES = 3"
      ],
      "metadata": {
        "id": "Z-1CGl0S2DiU"
      },
      "execution_count": 3,
      "outputs": []
    },
    {
      "cell_type": "markdown",
      "source": [
        "### Funções"
      ],
      "metadata": {
        "id": "nVZAWLhD1mhS"
      }
    },
    {
      "cell_type": "code",
      "source": [
        "!wget https://raw.githubusercontent.com/flohmannjr/tensorflow_curso/main/funcoes.py"
      ],
      "metadata": {
        "colab": {
          "base_uri": "https://localhost:8080/"
        },
        "id": "FYXVOXEYBFVR",
        "outputId": "8f558ceb-c53c-42bc-d7f2-133fe68636df"
      },
      "execution_count": 4,
      "outputs": [
        {
          "output_type": "stream",
          "name": "stdout",
          "text": [
            "--2023-02-01 02:34:48--  https://raw.githubusercontent.com/flohmannjr/tensorflow_curso/main/funcoes.py\n",
            "Resolving raw.githubusercontent.com (raw.githubusercontent.com)... 185.199.108.133, 185.199.109.133, 185.199.111.133, ...\n",
            "Connecting to raw.githubusercontent.com (raw.githubusercontent.com)|185.199.108.133|:443... connected.\n",
            "HTTP request sent, awaiting response... 200 OK\n",
            "Length: 5909 (5.8K) [text/plain]\n",
            "Saving to: ‘funcoes.py’\n",
            "\n",
            "funcoes.py          100%[===================>]   5.77K  --.-KB/s    in 0s      \n",
            "\n",
            "2023-02-01 02:34:49 (93.5 MB/s) - ‘funcoes.py’ saved [5909/5909]\n",
            "\n"
          ]
        }
      ]
    },
    {
      "cell_type": "code",
      "source": [
        "from funcoes import avaliar_modelo, grafico_historico_por_iteracao"
      ],
      "metadata": {
        "id": "mGECR6zZBKnd"
      },
      "execution_count": 5,
      "outputs": []
    },
    {
      "cell_type": "code",
      "source": [
        "def preprocessar_texto(arquivo):\n",
        "    \"\"\"\n",
        "    Retorna uma lista de dicionários com o conteúdo das linhas do arquivo informado.\n",
        "\n",
        "    Cada dicionário contém o código do resumo, o total de linhas, o número, a classe e o texto da linha.\n",
        "    {codigo, total, numero, classe, texto}\n",
        "    \"\"\"\n",
        "\n",
        "    with open(arquivo, 'r') as a: linhas_arquivo = a.readlines()\n",
        "    linhas = ''  # Linhas do texto\n",
        "    saida = []   # Lista de dicionários\n",
        "\n",
        "    for linha in linhas_arquivo:\n",
        "        if linha.startswith('###'):            # Verifica se a linha inicia com '###'.\n",
        "            codigo = re.sub('\\D+', '', linha)  # Extrai o código do resumo.\n",
        "            linhas = ''                        # Limpa as linhas de texto.\n",
        "        \n",
        "        elif linha.isspace():                       # Verifica se a linha é vazia.\n",
        "            linhas_separadas = linhas.splitlines()  # Separa linhas de texto.\n",
        "\n",
        "            for linha_numero, linha_completa in enumerate(linhas_separadas):  # Itera sobre cada uma das linhas de texto.\n",
        "                linha_dados = {}                                              # Dicionário com os dados da linha.\n",
        "                linha_conteudo = linha_completa.split('\\t')                   # Separa classe e texto.\n",
        "\n",
        "                linha_dados['codigo'] = codigo                    # Código do resumo.\n",
        "                linha_dados['total'] = len(linhas_separadas)      # Total de linhas.\n",
        "                linha_dados['numero'] = linha_numero              # Número da linha.\n",
        "                linha_dados['classe'] = linha_conteudo[0]         # Classe da linha.\n",
        "                linha_dados['texto'] = linha_conteudo[1].lower()  # Texto da linha, em caixa baixa.\n",
        "\n",
        "                saida.append(linha_dados)  # Acrescenta o dicionário à lista.\n",
        "\n",
        "        else:\n",
        "            linhas += linha  # Acrescenta a linha atual às linhas de texto.\n",
        "\n",
        "    return saida"
      ],
      "metadata": {
        "id": "Fc3LGM4_1peB"
      },
      "execution_count": 6,
      "outputs": []
    },
    {
      "cell_type": "markdown",
      "source": [
        "## Dados"
      ],
      "metadata": {
        "id": "nLfeMWwru_9I"
      }
    },
    {
      "cell_type": "code",
      "source": [
        "!git clone https://github.com/Franck-Dernoncourt/pubmed-rct.git"
      ],
      "metadata": {
        "colab": {
          "base_uri": "https://localhost:8080/"
        },
        "id": "HSS_zH7py6b8",
        "outputId": "f3d5b062-1e22-46aa-bf79-1eeac76b838c"
      },
      "execution_count": 7,
      "outputs": [
        {
          "output_type": "stream",
          "name": "stdout",
          "text": [
            "Cloning into 'pubmed-rct'...\n",
            "remote: Enumerating objects: 33, done.\u001b[K\n",
            "remote: Counting objects: 100% (8/8), done.\u001b[K\n",
            "remote: Compressing objects: 100% (3/3), done.\u001b[K\n",
            "remote: Total 33 (delta 5), reused 5 (delta 5), pack-reused 25\n",
            "Unpacking objects: 100% (33/33), 177.08 MiB | 9.09 MiB/s, done.\n",
            "Updating files: 100% (13/13), done.\n"
          ]
        }
      ]
    },
    {
      "cell_type": "markdown",
      "source": [
        "### Pré-processamento"
      ],
      "metadata": {
        "id": "4rHNd8yc1a2Z"
      }
    },
    {
      "cell_type": "code",
      "source": [
        "linhas_treino    = preprocessar_texto(f'{DIRETORIO}/train.txt')  # Dados de treino\n",
        "linhas_validacao = preprocessar_texto(f'{DIRETORIO}/dev.txt')    # Dados de validação\n",
        "linhas_teste     = preprocessar_texto(f'{DIRETORIO}/test.txt')   # Dados de teste"
      ],
      "metadata": {
        "id": "vZHFSSiv3MMZ"
      },
      "execution_count": 8,
      "outputs": []
    },
    {
      "cell_type": "code",
      "source": [
        "df_treino    = pd.DataFrame(linhas_treino)\n",
        "df_validacao = pd.DataFrame(linhas_validacao)\n",
        "df_teste     = pd.DataFrame(linhas_teste)"
      ],
      "metadata": {
        "id": "03f210ZBYHDE"
      },
      "execution_count": 9,
      "outputs": []
    },
    {
      "cell_type": "markdown",
      "source": [
        "### Verificação"
      ],
      "metadata": {
        "id": "gRV03ysP1iH-"
      }
    },
    {
      "cell_type": "code",
      "source": [
        "df_treino[:12]"
      ],
      "metadata": {
        "colab": {
          "base_uri": "https://localhost:8080/",
          "height": 539
        },
        "id": "4KkIE_9xZ-ny",
        "outputId": "60d1a88d-0dac-4ec7-c835-b73a585e4fbc"
      },
      "execution_count": 10,
      "outputs": [
        {
          "output_type": "execute_result",
          "data": {
            "text/plain": [
              "      codigo  total  numero       classe  \\\n",
              "0   24293578     12       0    OBJECTIVE   \n",
              "1   24293578     12       1      METHODS   \n",
              "2   24293578     12       2      METHODS   \n",
              "3   24293578     12       3      METHODS   \n",
              "4   24293578     12       4      METHODS   \n",
              "5   24293578     12       5      METHODS   \n",
              "6   24293578     12       6      RESULTS   \n",
              "7   24293578     12       7      RESULTS   \n",
              "8   24293578     12       8      RESULTS   \n",
              "9   24293578     12       9      RESULTS   \n",
              "10  24293578     12      10      RESULTS   \n",
              "11  24293578     12      11  CONCLUSIONS   \n",
              "\n",
              "                                                                                                                                                                                                                                                                                        texto  \n",
              "0   to investigate the efficacy of @ weeks of daily low-dose oral prednisolone in improving pain , mobility , and systemic low-grade inflammation in the short term and whether the effect would be sustained at @ weeks in older adults with moderate to severe knee osteoarthritis ( oa ) .  \n",
              "1                                                                                                                                                   a total of @ patients with primary knee oa were randomized @:@ ; @ received @ mg/day of prednisolone and @ received placebo for @ weeks .  \n",
              "2                                                                                                                                                                             outcome measures included pain reduction and improvement in function scores and systemic inflammation markers .  \n",
              "3                                                                                                                                                                                                                           pain was assessed using the visual analog pain scale ( @-@ mm ) .  \n",
              "4                                                                           secondary outcome measures included the western ontario and mcmaster universities osteoarthritis index scores , patient global assessment ( pga ) of the severity of knee oa , and @-min walk distance ( @mwd ) .  \n",
              "5                                                                                                                                         serum levels of interleukin @ ( il-@ ) , il-@ , tumor necrosis factor ( tnf ) - , and high-sensitivity c-reactive protein ( hscrp ) were measured .  \n",
              "6                                                                                                                           there was a clinically relevant reduction in the intervention group compared to the placebo group for knee pain , physical function , pga , and @mwd at @ weeks .  \n",
              "7                                                                                                                        the mean difference between treatment arms ( @ % ci ) was @ ( @-@ @ ) , p < @ ; @ ( @-@ @ ) , p < @ ; @ ( @-@ @ ) , p < @ ; and @ ( @-@ @ ) , p < @ , respectively .  \n",
              "8                                                                                                        further , there was a clinically relevant reduction in the serum levels of il-@ , il-@ , tnf - , and hscrp at @ weeks in the intervention group when compared to the placebo group .  \n",
              "9                                                                                                                                                                                                                                         these differences remained significant at @ weeks .  \n",
              "10                                                                                               the outcome measures in rheumatology clinical trials-osteoarthritis research society international responder rate was @ % in the intervention group and @ % in the placebo group ( p < @ ) .  \n",
              "11                                   low-dose oral prednisolone had both a short-term and a longer sustained effect resulting in less knee pain , better physical function , and attenuation of systemic inflammation in older patients with knee oa ( clinicaltrials.gov identifier nct@ ) .  "
            ],
            "text/html": [
              "\n",
              "  <div id=\"df-a54405cd-195c-4a18-8aec-4e262931c61e\">\n",
              "    <div class=\"colab-df-container\">\n",
              "      <div>\n",
              "<style scoped>\n",
              "    .dataframe tbody tr th:only-of-type {\n",
              "        vertical-align: middle;\n",
              "    }\n",
              "\n",
              "    .dataframe tbody tr th {\n",
              "        vertical-align: top;\n",
              "    }\n",
              "\n",
              "    .dataframe thead th {\n",
              "        text-align: right;\n",
              "    }\n",
              "</style>\n",
              "<table border=\"1\" class=\"dataframe\">\n",
              "  <thead>\n",
              "    <tr style=\"text-align: right;\">\n",
              "      <th></th>\n",
              "      <th>codigo</th>\n",
              "      <th>total</th>\n",
              "      <th>numero</th>\n",
              "      <th>classe</th>\n",
              "      <th>texto</th>\n",
              "    </tr>\n",
              "  </thead>\n",
              "  <tbody>\n",
              "    <tr>\n",
              "      <th>0</th>\n",
              "      <td>24293578</td>\n",
              "      <td>12</td>\n",
              "      <td>0</td>\n",
              "      <td>OBJECTIVE</td>\n",
              "      <td>to investigate the efficacy of @ weeks of daily low-dose oral prednisolone in improving pain , mobility , and systemic low-grade inflammation in the short term and whether the effect would be sustained at @ weeks in older adults with moderate to severe knee osteoarthritis ( oa ) .</td>\n",
              "    </tr>\n",
              "    <tr>\n",
              "      <th>1</th>\n",
              "      <td>24293578</td>\n",
              "      <td>12</td>\n",
              "      <td>1</td>\n",
              "      <td>METHODS</td>\n",
              "      <td>a total of @ patients with primary knee oa were randomized @:@ ; @ received @ mg/day of prednisolone and @ received placebo for @ weeks .</td>\n",
              "    </tr>\n",
              "    <tr>\n",
              "      <th>2</th>\n",
              "      <td>24293578</td>\n",
              "      <td>12</td>\n",
              "      <td>2</td>\n",
              "      <td>METHODS</td>\n",
              "      <td>outcome measures included pain reduction and improvement in function scores and systemic inflammation markers .</td>\n",
              "    </tr>\n",
              "    <tr>\n",
              "      <th>3</th>\n",
              "      <td>24293578</td>\n",
              "      <td>12</td>\n",
              "      <td>3</td>\n",
              "      <td>METHODS</td>\n",
              "      <td>pain was assessed using the visual analog pain scale ( @-@ mm ) .</td>\n",
              "    </tr>\n",
              "    <tr>\n",
              "      <th>4</th>\n",
              "      <td>24293578</td>\n",
              "      <td>12</td>\n",
              "      <td>4</td>\n",
              "      <td>METHODS</td>\n",
              "      <td>secondary outcome measures included the western ontario and mcmaster universities osteoarthritis index scores , patient global assessment ( pga ) of the severity of knee oa , and @-min walk distance ( @mwd ) .</td>\n",
              "    </tr>\n",
              "    <tr>\n",
              "      <th>5</th>\n",
              "      <td>24293578</td>\n",
              "      <td>12</td>\n",
              "      <td>5</td>\n",
              "      <td>METHODS</td>\n",
              "      <td>serum levels of interleukin @ ( il-@ ) , il-@ , tumor necrosis factor ( tnf ) - , and high-sensitivity c-reactive protein ( hscrp ) were measured .</td>\n",
              "    </tr>\n",
              "    <tr>\n",
              "      <th>6</th>\n",
              "      <td>24293578</td>\n",
              "      <td>12</td>\n",
              "      <td>6</td>\n",
              "      <td>RESULTS</td>\n",
              "      <td>there was a clinically relevant reduction in the intervention group compared to the placebo group for knee pain , physical function , pga , and @mwd at @ weeks .</td>\n",
              "    </tr>\n",
              "    <tr>\n",
              "      <th>7</th>\n",
              "      <td>24293578</td>\n",
              "      <td>12</td>\n",
              "      <td>7</td>\n",
              "      <td>RESULTS</td>\n",
              "      <td>the mean difference between treatment arms ( @ % ci ) was @ ( @-@ @ ) , p &lt; @ ; @ ( @-@ @ ) , p &lt; @ ; @ ( @-@ @ ) , p &lt; @ ; and @ ( @-@ @ ) , p &lt; @ , respectively .</td>\n",
              "    </tr>\n",
              "    <tr>\n",
              "      <th>8</th>\n",
              "      <td>24293578</td>\n",
              "      <td>12</td>\n",
              "      <td>8</td>\n",
              "      <td>RESULTS</td>\n",
              "      <td>further , there was a clinically relevant reduction in the serum levels of il-@ , il-@ , tnf - , and hscrp at @ weeks in the intervention group when compared to the placebo group .</td>\n",
              "    </tr>\n",
              "    <tr>\n",
              "      <th>9</th>\n",
              "      <td>24293578</td>\n",
              "      <td>12</td>\n",
              "      <td>9</td>\n",
              "      <td>RESULTS</td>\n",
              "      <td>these differences remained significant at @ weeks .</td>\n",
              "    </tr>\n",
              "    <tr>\n",
              "      <th>10</th>\n",
              "      <td>24293578</td>\n",
              "      <td>12</td>\n",
              "      <td>10</td>\n",
              "      <td>RESULTS</td>\n",
              "      <td>the outcome measures in rheumatology clinical trials-osteoarthritis research society international responder rate was @ % in the intervention group and @ % in the placebo group ( p &lt; @ ) .</td>\n",
              "    </tr>\n",
              "    <tr>\n",
              "      <th>11</th>\n",
              "      <td>24293578</td>\n",
              "      <td>12</td>\n",
              "      <td>11</td>\n",
              "      <td>CONCLUSIONS</td>\n",
              "      <td>low-dose oral prednisolone had both a short-term and a longer sustained effect resulting in less knee pain , better physical function , and attenuation of systemic inflammation in older patients with knee oa ( clinicaltrials.gov identifier nct@ ) .</td>\n",
              "    </tr>\n",
              "  </tbody>\n",
              "</table>\n",
              "</div>\n",
              "      <button class=\"colab-df-convert\" onclick=\"convertToInteractive('df-a54405cd-195c-4a18-8aec-4e262931c61e')\"\n",
              "              title=\"Convert this dataframe to an interactive table.\"\n",
              "              style=\"display:none;\">\n",
              "        \n",
              "  <svg xmlns=\"http://www.w3.org/2000/svg\" height=\"24px\"viewBox=\"0 0 24 24\"\n",
              "       width=\"24px\">\n",
              "    <path d=\"M0 0h24v24H0V0z\" fill=\"none\"/>\n",
              "    <path d=\"M18.56 5.44l.94 2.06.94-2.06 2.06-.94-2.06-.94-.94-2.06-.94 2.06-2.06.94zm-11 1L8.5 8.5l.94-2.06 2.06-.94-2.06-.94L8.5 2.5l-.94 2.06-2.06.94zm10 10l.94 2.06.94-2.06 2.06-.94-2.06-.94-.94-2.06-.94 2.06-2.06.94z\"/><path d=\"M17.41 7.96l-1.37-1.37c-.4-.4-.92-.59-1.43-.59-.52 0-1.04.2-1.43.59L10.3 9.45l-7.72 7.72c-.78.78-.78 2.05 0 2.83L4 21.41c.39.39.9.59 1.41.59.51 0 1.02-.2 1.41-.59l7.78-7.78 2.81-2.81c.8-.78.8-2.07 0-2.86zM5.41 20L4 18.59l7.72-7.72 1.47 1.35L5.41 20z\"/>\n",
              "  </svg>\n",
              "      </button>\n",
              "      \n",
              "  <style>\n",
              "    .colab-df-container {\n",
              "      display:flex;\n",
              "      flex-wrap:wrap;\n",
              "      gap: 12px;\n",
              "    }\n",
              "\n",
              "    .colab-df-convert {\n",
              "      background-color: #E8F0FE;\n",
              "      border: none;\n",
              "      border-radius: 50%;\n",
              "      cursor: pointer;\n",
              "      display: none;\n",
              "      fill: #1967D2;\n",
              "      height: 32px;\n",
              "      padding: 0 0 0 0;\n",
              "      width: 32px;\n",
              "    }\n",
              "\n",
              "    .colab-df-convert:hover {\n",
              "      background-color: #E2EBFA;\n",
              "      box-shadow: 0px 1px 2px rgba(60, 64, 67, 0.3), 0px 1px 3px 1px rgba(60, 64, 67, 0.15);\n",
              "      fill: #174EA6;\n",
              "    }\n",
              "\n",
              "    [theme=dark] .colab-df-convert {\n",
              "      background-color: #3B4455;\n",
              "      fill: #D2E3FC;\n",
              "    }\n",
              "\n",
              "    [theme=dark] .colab-df-convert:hover {\n",
              "      background-color: #434B5C;\n",
              "      box-shadow: 0px 1px 3px 1px rgba(0, 0, 0, 0.15);\n",
              "      filter: drop-shadow(0px 1px 2px rgba(0, 0, 0, 0.3));\n",
              "      fill: #FFFFFF;\n",
              "    }\n",
              "  </style>\n",
              "\n",
              "      <script>\n",
              "        const buttonEl =\n",
              "          document.querySelector('#df-a54405cd-195c-4a18-8aec-4e262931c61e button.colab-df-convert');\n",
              "        buttonEl.style.display =\n",
              "          google.colab.kernel.accessAllowed ? 'block' : 'none';\n",
              "\n",
              "        async function convertToInteractive(key) {\n",
              "          const element = document.querySelector('#df-a54405cd-195c-4a18-8aec-4e262931c61e');\n",
              "          const dataTable =\n",
              "            await google.colab.kernel.invokeFunction('convertToInteractive',\n",
              "                                                     [key], {});\n",
              "          if (!dataTable) return;\n",
              "\n",
              "          const docLinkHtml = 'Like what you see? Visit the ' +\n",
              "            '<a target=\"_blank\" href=https://colab.research.google.com/notebooks/data_table.ipynb>data table notebook</a>'\n",
              "            + ' to learn more about interactive tables.';\n",
              "          element.innerHTML = '';\n",
              "          dataTable['output_type'] = 'display_data';\n",
              "          await google.colab.output.renderOutput(dataTable, element);\n",
              "          const docLink = document.createElement('div');\n",
              "          docLink.innerHTML = docLinkHtml;\n",
              "          element.appendChild(docLink);\n",
              "        }\n",
              "      </script>\n",
              "    </div>\n",
              "  </div>\n",
              "  "
            ]
          },
          "metadata": {},
          "execution_count": 10
        }
      ]
    },
    {
      "cell_type": "code",
      "source": [
        "df_treino['classe'].value_counts()"
      ],
      "metadata": {
        "colab": {
          "base_uri": "https://localhost:8080/"
        },
        "id": "DxCyKmEoaM7z",
        "outputId": "22cff757-e9ec-4e9b-c6b0-848f8cb8c3bd"
      },
      "execution_count": 11,
      "outputs": [
        {
          "output_type": "execute_result",
          "data": {
            "text/plain": [
              "METHODS        59353\n",
              "RESULTS        57953\n",
              "CONCLUSIONS    27168\n",
              "BACKGROUND     21727\n",
              "OBJECTIVE      13839\n",
              "Name: classe, dtype: int64"
            ]
          },
          "metadata": {},
          "execution_count": 11
        }
      ]
    },
    {
      "cell_type": "code",
      "source": [
        "sns.histplot(data=df_treino, x='total', color=COR)\n",
        "\n",
        "plt.xlabel('Quantidade de linhas')\n",
        "plt.ylabel('Quantidade de resumos');"
      ],
      "metadata": {
        "colab": {
          "base_uri": "https://localhost:8080/",
          "height": 452
        },
        "id": "A56YZP5EcOA0",
        "outputId": "e0c358c7-06e8-4521-94f2-c3f3854b3da8"
      },
      "execution_count": 12,
      "outputs": [
        {
          "output_type": "display_data",
          "data": {
            "text/plain": [
              "<Figure size 800x500 with 1 Axes>"
            ],
            "image/png": "[encoded data removed]"
          },
          "metadata": {}
        }
      ]
    },
    {
      "cell_type": "markdown",
      "source": [
        "### Rótulos numéricos"
      ],
      "metadata": {
        "id": "SaAEt9KddM8U"
      }
    },
    {
      "cell_type": "markdown",
      "source": [
        "#### One-hot"
      ],
      "metadata": {
        "id": "KrqrdjCW4XFm"
      }
    },
    {
      "cell_type": "code",
      "source": [
        "codificador_onehot = OneHotEncoder(sparse=False)\n",
        "\n",
        "rotulos_onehot_treino    = codificador_onehot.fit_transform(df_treino['classe'].to_numpy().reshape(-1, 1))\n",
        "rotulos_onehot_validacao = codificador_onehot.transform(df_validacao['classe'].to_numpy().reshape(-1, 1))\n",
        "rotulos_onehot_teste     = codificador_onehot.transform(df_teste['classe'].to_numpy().reshape(-1, 1))"
      ],
      "metadata": {
        "id": "j2mOlwRr1pr4"
      },
      "execution_count": 13,
      "outputs": []
    },
    {
      "cell_type": "code",
      "source": [
        "rotulos_onehot_treino"
      ],
      "metadata": {
        "colab": {
          "base_uri": "https://localhost:8080/"
        },
        "id": "zVisvpjt2vAQ",
        "outputId": "4eb01df8-423f-49c3-ecf2-ad0612200b83"
      },
      "execution_count": 14,
      "outputs": [
        {
          "output_type": "execute_result",
          "data": {
            "text/plain": [
              "array([[0., 0., 0., 1., 0.],\n",
              "       [0., 0., 1., 0., 0.],\n",
              "       [0., 0., 1., 0., 0.],\n",
              "       ...,\n",
              "       [0., 0., 0., 0., 1.],\n",
              "       [0., 1., 0., 0., 0.],\n",
              "       [0., 1., 0., 0., 0.]])"
            ]
          },
          "metadata": {},
          "execution_count": 14
        }
      ]
    },
    {
      "cell_type": "markdown",
      "source": [
        "#### Inteiros"
      ],
      "metadata": {
        "id": "mw90LPah2-83"
      }
    },
    {
      "cell_type": "code",
      "source": [
        "codificador_int = LabelEncoder()\n",
        "\n",
        "rotulos_int_treino    = codificador_int.fit_transform(df_treino['classe'].to_numpy())\n",
        "rotulos_int_validacao = codificador_int.transform(df_validacao['classe'].to_numpy())\n",
        "rotulos_int_teste     = codificador_int.transform(df_teste['classe'].to_numpy())"
      ],
      "metadata": {
        "id": "OsmgVFMn4iFB"
      },
      "execution_count": 15,
      "outputs": []
    },
    {
      "cell_type": "code",
      "source": [
        "rotulos_int_treino"
      ],
      "metadata": {
        "colab": {
          "base_uri": "https://localhost:8080/"
        },
        "outputId": "9d6202a2-f765-4319-b3e1-1b14a8a238ff",
        "id": "KKPkj4XE4iFB"
      },
      "execution_count": 16,
      "outputs": [
        {
          "output_type": "execute_result",
          "data": {
            "text/plain": [
              "array([3, 2, 2, ..., 4, 1, 1])"
            ]
          },
          "metadata": {},
          "execution_count": 16
        }
      ]
    },
    {
      "cell_type": "code",
      "source": [
        "classes = codificador_int.classes_\n",
        "classes"
      ],
      "metadata": {
        "colab": {
          "base_uri": "https://localhost:8080/"
        },
        "id": "gH7wCQLS46lv",
        "outputId": "f4acc62c-db23-41cb-9427-39703b1da502"
      },
      "execution_count": 17,
      "outputs": [
        {
          "output_type": "execute_result",
          "data": {
            "text/plain": [
              "array(['BACKGROUND', 'CONCLUSIONS', 'METHODS', 'OBJECTIVE', 'RESULTS'],\n",
              "      dtype=object)"
            ]
          },
          "metadata": {},
          "execution_count": 17
        }
      ]
    },
    {
      "cell_type": "markdown",
      "source": [
        "## Modelos"
      ],
      "metadata": {
        "id": "sF-Hny925HTY"
      }
    },
    {
      "cell_type": "code",
      "source": [
        "avaliacoes = [None] * 6"
      ],
      "metadata": {
        "id": "O7BwmdBR7R5n"
      },
      "execution_count": 18,
      "outputs": []
    },
    {
      "cell_type": "markdown",
      "source": [
        "### Modelo 0: TF-IDF Naive-Bayes"
      ],
      "metadata": {
        "id": "UX62Fknz7GgI"
      }
    },
    {
      "cell_type": "code",
      "source": [
        "modelo_nome = 'modelo_0_tfidf_naive_bayes'\n",
        "\n",
        "modelo = Pipeline([('tfidf', TfidfVectorizer()),\n",
        "                   ('clf', MultinomialNB())])\n",
        "\n",
        "modelo.fit(df_treino['texto'], rotulos_int_treino)"
      ],
      "metadata": {
        "colab": {
          "base_uri": "https://localhost:8080/"
        },
        "id": "Hb0thwq57OEr",
        "outputId": "d7ee6dc9-f348-4a94-f0e1-e3d19be10668"
      },
      "execution_count": 19,
      "outputs": [
        {
          "output_type": "execute_result",
          "data": {
            "text/plain": [
              "Pipeline(steps=[('tfidf', TfidfVectorizer()), ('clf', MultinomialNB())])"
            ]
          },
          "metadata": {},
          "execution_count": 19
        }
      ]
    },
    {
      "cell_type": "code",
      "source": [
        "probabilidades = modelo.predict(df_validacao['texto'])"
      ],
      "metadata": {
        "id": "t9Eb1OST-YYg"
      },
      "execution_count": 20,
      "outputs": []
    },
    {
      "cell_type": "code",
      "source": [
        "previsoes = np.zeros((probabilidades.size, probabilidades.max() + 1))\n",
        "previsoes[np.arange(probabilidades.size), probabilidades] = 1"
      ],
      "metadata": {
        "id": "YWeMPo_lCMbz"
      },
      "execution_count": 21,
      "outputs": []
    },
    {
      "cell_type": "code",
      "source": [
        "avaliacoes[0] = avaliar_modelo(rotulos_int_validacao, probabilidades, classes)"
      ],
      "metadata": {
        "colab": {
          "base_uri": "https://localhost:8080/",
          "height": 748
        },
        "id": "AmCdCp_K-2OX",
        "outputId": "2b0d1718-0db3-43c0-f187-f792e65fc35e"
      },
      "execution_count": 22,
      "outputs": [
        {
          "output_type": "stream",
          "name": "stdout",
          "text": [
            "              precision    recall  f1-score   support\n",
            "\n",
            "  BACKGROUND       0.66      0.49      0.56      3449\n",
            " CONCLUSIONS       0.65      0.59      0.61      4582\n",
            "     METHODS       0.72      0.87      0.79      9964\n",
            "   OBJECTIVE       0.75      0.14      0.23      2376\n",
            "     RESULTS       0.76      0.86      0.81      9841\n",
            "\n",
            "    accuracy                           0.72     30212\n",
            "   macro avg       0.71      0.59      0.60     30212\n",
            "weighted avg       0.72      0.72      0.70     30212\n",
            "\n"
          ]
        },
        {
          "output_type": "display_data",
          "data": {
            "text/plain": [
              "<Figure size 800x500 with 2 Axes>"
            ],
            "image/png": "[encoded data removed]"
          },
          "metadata": {}
        }
      ]
    },
    {
      "cell_type": "code",
      "source": [
        "avaliacoes[0]"
      ],
      "metadata": {
        "colab": {
          "base_uri": "https://localhost:8080/"
        },
        "id": "Fjjg8COn-89_",
        "outputId": "c759264e-2eb8-407b-f739-996c151286da"
      },
      "execution_count": 23,
      "outputs": [
        {
          "output_type": "execute_result",
          "data": {
            "text/plain": [
              "{'acuracia': 0.7218323844829869,\n",
              " 'precisao': 0.7186466952323352,\n",
              " 'revocacao': 0.7218323844829869,\n",
              " 'pontuacao-f1': 0.6989250353450294}"
            ]
          },
          "metadata": {},
          "execution_count": 23
        }
      ]
    },
    {
      "cell_type": "markdown",
      "source": [
        "### Preparação dos textos"
      ],
      "metadata": {
        "id": "VRtW8n1x-PDW"
      }
    },
    {
      "cell_type": "code",
      "source": [
        "palavras_por_texto    = [len(texto.split()) for texto in df_treino['texto']]\n",
        "palavras_por_texto_95 = int(np.percentile(palavras_por_texto, 95))  # Quantidade máxima de palavras para 95% dos textos."
      ],
      "metadata": {
        "id": "GWkiCt7ah6Ea"
      },
      "execution_count": 24,
      "outputs": []
    },
    {
      "cell_type": "code",
      "source": [
        "print(f\"Média: {np.mean(palavras_por_texto)}\")\n",
        "print(f\"Máximo: {np.max(palavras_por_texto)}\")\n",
        "print(f\"95%: {palavras_por_texto_95}\")"
      ],
      "metadata": {
        "colab": {
          "base_uri": "https://localhost:8080/"
        },
        "id": "ge1jUxe_iX4w",
        "outputId": "1578fb9e-8a58-461d-f4e8-60956710e197"
      },
      "execution_count": 25,
      "outputs": [
        {
          "output_type": "stream",
          "name": "stdout",
          "text": [
            "Média: 26.338269273494777\n",
            "Máximo: 296\n",
            "95%: 55\n"
          ]
        }
      ]
    },
    {
      "cell_type": "code",
      "source": [
        "sns.histplot(x=palavras_por_texto, color=COR)\n",
        "\n",
        "plt.xlim(0, 60)\n",
        "\n",
        "plt.xlabel('Quantidade de palavras')\n",
        "plt.ylabel('Quantidade de textos');"
      ],
      "metadata": {
        "colab": {
          "base_uri": "https://localhost:8080/",
          "height": 452
        },
        "id": "O5Vyt98piT5V",
        "outputId": "dc8543db-ccb0-4b33-e231-c7e18ee004a5"
      },
      "execution_count": 26,
      "outputs": [
        {
          "output_type": "display_data",
          "data": {
            "text/plain": [
              "<Figure size 800x500 with 1 Axes>"
            ],
            "image/png": "[encoded data removed]"
          },
          "metadata": {}
        }
      ]
    },
    {
      "cell_type": "markdown",
      "source": [
        "#### Vetorização"
      ],
      "metadata": {
        "id": "oZvbMm1Doyqc"
      }
    },
    {
      "cell_type": "code",
      "source": [
        "vetorizador = TextVectorization(max_tokens=LIMITE_DICIONARIO,\n",
        "                                output_mode='int',\n",
        "                                output_sequence_length=palavras_por_texto_95,\n",
        "                                name='vetorizador')\n",
        "\n",
        "vetorizador.adapt(df_treino['texto'])"
      ],
      "metadata": {
        "id": "KeLhjzAYH3jG"
      },
      "execution_count": 27,
      "outputs": []
    },
    {
      "cell_type": "code",
      "source": [
        "vetorizador.get_config()"
      ],
      "metadata": {
        "colab": {
          "base_uri": "https://localhost:8080/"
        },
        "id": "6nHcUj06QgTH",
        "outputId": "86461498-0336-4fb4-cee5-b5a9d2a29d15"
      },
      "execution_count": 28,
      "outputs": [
        {
          "output_type": "execute_result",
          "data": {
            "text/plain": [
              "{'name': 'vetorizador',\n",
              " 'trainable': True,\n",
              " 'batch_input_shape': (None, None),\n",
              " 'dtype': 'string',\n",
              " 'max_tokens': 68000,\n",
              " 'standardize': 'lower_and_strip_punctuation',\n",
              " 'split': 'whitespace',\n",
              " 'ngrams': None,\n",
              " 'output_mode': 'int',\n",
              " 'output_sequence_length': 55,\n",
              " 'pad_to_max_tokens': False,\n",
              " 'sparse': False,\n",
              " 'ragged': False,\n",
              " 'vocabulary': None,\n",
              " 'idf_weights': None}"
            ]
          },
          "metadata": {},
          "execution_count": 28
        }
      ]
    },
    {
      "cell_type": "markdown",
      "source": [
        "#### Vocabulário"
      ],
      "metadata": {
        "id": "VRtmy8e7YrHM"
      }
    },
    {
      "cell_type": "code",
      "source": [
        "vocabulario = vetorizador.get_vocabulary()\n",
        "\n",
        "print(f\"Tamanho do vocabulário: {len(vocabulario)}\")\n",
        "print(f\"10 palavras mais comuns: {vocabulario[:10]}\")\n",
        "print(f\"10 palavras menos comuns: {vocabulario[-10:]}\")"
      ],
      "metadata": {
        "colab": {
          "base_uri": "https://localhost:8080/"
        },
        "id": "u10YwRExLW33",
        "outputId": "2d1bb647-2a60-4ddc-b250-94342fd53571"
      },
      "execution_count": 29,
      "outputs": [
        {
          "output_type": "stream",
          "name": "stdout",
          "text": [
            "Tamanho do vocabulário: 64841\n",
            "10 palavras mais comuns: ['', '[UNK]', 'the', 'and', 'of', 'in', 'to', 'with', 'a', 'were']\n",
            "10 palavras menos comuns: ['aarm', 'aaqol', 'aaq', 'aanhui', 'aana', 'aainduced', 'aaigroup', 'aachener', 'aachen', 'aaacp']\n"
          ]
        }
      ]
    },
    {
      "cell_type": "markdown",
      "source": [
        "#### Incorporação"
      ],
      "metadata": {
        "id": "3kBsMF6VLosd"
      }
    },
    {
      "cell_type": "code",
      "source": [
        "incorporador = Embedding(input_dim=len(vocabulario),\n",
        "                         output_dim=LIMITE_INCORPORADOR,\n",
        "                         mask_zero=True,\n",
        "                         input_length=palavras_por_texto_95,\n",
        "                         name='incorporador')"
      ],
      "metadata": {
        "id": "z7XbDbl1LtUs"
      },
      "execution_count": 30,
      "outputs": []
    },
    {
      "cell_type": "markdown",
      "source": [
        "`mask_zero=True` otimiza o tratamento de preenchimento com valor zero nas camadas subsequentes e na função de perda.\n",
        "\n",
        "Mais informações: https://stackoverflow.com/questions/47485216/how-does-mask-zero-in-keras-embedding-layer-work"
      ],
      "metadata": {
        "id": "YNf0XZ4GhcsG"
      }
    },
    {
      "cell_type": "code",
      "source": [
        "incorporador.get_config()"
      ],
      "metadata": {
        "colab": {
          "base_uri": "https://localhost:8080/"
        },
        "id": "MUKf0O-aUHub",
        "outputId": "0493ac7d-bd4d-4fd8-fbe1-2d4e0c226fef"
      },
      "execution_count": 31,
      "outputs": [
        {
          "output_type": "execute_result",
          "data": {
            "text/plain": [
              "{'name': 'incorporador',\n",
              " 'trainable': True,\n",
              " 'batch_input_shape': (None, 55),\n",
              " 'dtype': 'float32',\n",
              " 'input_dim': 64841,\n",
              " 'output_dim': 300,\n",
              " 'embeddings_initializer': {'class_name': 'RandomUniform',\n",
              "  'config': {'minval': -0.05, 'maxval': 0.05, 'seed': None}},\n",
              " 'embeddings_regularizer': None,\n",
              " 'activity_regularizer': None,\n",
              " 'embeddings_constraint': None,\n",
              " 'mask_zero': True,\n",
              " 'input_length': 55}"
            ]
          },
          "metadata": {},
          "execution_count": 31
        }
      ]
    },
    {
      "cell_type": "markdown",
      "source": [
        "#### Verificação"
      ],
      "metadata": {
        "id": "XfgZ6wGIV60K"
      }
    },
    {
      "cell_type": "code",
      "source": [
        "texto_aleatorio = random.choice(df_treino['texto'])\n",
        "\n",
        "vetorizado = vetorizador([texto_aleatorio])\n",
        "incorporado = incorporador(vetorizado)\n",
        "\n",
        "print(texto_aleatorio)\n",
        "print()\n",
        "print(f\"Quantidade de palavras: {len(texto_aleatorio.split())}\")\n",
        "print(f\"Formato vetorizado: {vetorizado.shape}\")\n",
        "print(f\"Formato incorporado: {incorporado.shape}\")\n",
        "print()\n",
        "print(vetorizado)\n",
        "print()\n",
        "print(incorporado)"
      ],
      "metadata": {
        "colab": {
          "base_uri": "https://localhost:8080/"
        },
        "id": "eqhJBzTELByS",
        "outputId": "95addd49-7c3b-46cd-ab6e-296136eaab91"
      },
      "execution_count": 32,
      "outputs": [
        {
          "output_type": "stream",
          "name": "stdout",
          "text": [
            "sixty-one patients with chronic , stable venous leg ulceration were treated with either aop solution or sterile water placebo applied as a lavage over @ weeks .\n",
            "\n",
            "Quantidade de palavras: 27\n",
            "Formato vetorizado: (1, 55)\n",
            "Formato incorporado: (1, 55, 300)\n",
            "\n",
            "tf.Tensor(\n",
            "[[ 7292    12     7   244   729  1120  1508 10124     9   172     7   132\n",
            "  17532   922    16  6739  1135    48   551    25     8  5652   145    53\n",
            "      0     0     0     0     0     0     0     0     0     0     0     0\n",
            "      0     0     0     0     0     0     0     0     0     0     0     0\n",
            "      0     0     0     0     0     0     0]], shape=(1, 55), dtype=int64)\n",
            "\n",
            "tf.Tensor(\n",
            "[[[-0.01521521  0.02152996  0.03396602 ...  0.02701962  0.00799995\n",
            "    0.04244519]\n",
            "  [-0.02188349 -0.01105944  0.03231752 ...  0.03071019  0.01933623\n",
            "   -0.03874286]\n",
            "  [ 0.00519995 -0.0172665   0.00770501 ...  0.00506458  0.01052388\n",
            "   -0.02957587]\n",
            "  ...\n",
            "  [-0.03353562 -0.01297859  0.01236331 ... -0.00645328  0.00131323\n",
            "   -0.01974033]\n",
            "  [-0.03353562 -0.01297859  0.01236331 ... -0.00645328  0.00131323\n",
            "   -0.01974033]\n",
            "  [-0.03353562 -0.01297859  0.01236331 ... -0.00645328  0.00131323\n",
            "   -0.01974033]]], shape=(1, 55, 300), dtype=float32)\n"
          ]
        }
      ]
    },
    {
      "cell_type": "markdown",
      "source": [
        "#### Criação de datasets"
      ],
      "metadata": {
        "id": "YA2mPLtdSzmW"
      }
    },
    {
      "cell_type": "markdown",
      "source": [
        "Fusão dos dados e rótulos em datasets para ganho de performance.\n",
        "\n",
        "Better performance with the tf.data API: https://www.tensorflow.org/guide/data_performance"
      ],
      "metadata": {
        "id": "zyXYoLr-ja4o"
      }
    },
    {
      "cell_type": "code",
      "source": [
        "# Datasets\n",
        "dados_treino    = Dataset.from_tensor_slices((df_treino['texto'], rotulos_onehot_treino))\n",
        "dados_validacao = Dataset.from_tensor_slices((df_validacao['texto'], rotulos_onehot_validacao))\n",
        "dados_teste     = Dataset.from_tensor_slices((df_teste['texto'], rotulos_onehot_teste))"
      ],
      "metadata": {
        "id": "N4DJJZbJj3Gw"
      },
      "execution_count": 33,
      "outputs": []
    },
    {
      "cell_type": "code",
      "source": [
        "dados_treino"
      ],
      "metadata": {
        "colab": {
          "base_uri": "https://localhost:8080/"
        },
        "id": "aHup0yT6moG_",
        "outputId": "98764e7c-a696-4651-ef77-ed9ef5568d9d"
      },
      "execution_count": 34,
      "outputs": [
        {
          "output_type": "execute_result",
          "data": {
            "text/plain": [
              "<TensorSliceDataset element_spec=(TensorSpec(shape=(), dtype=tf.string, name=None), TensorSpec(shape=(5,), dtype=tf.float64, name=None))>"
            ]
          },
          "metadata": {},
          "execution_count": 34
        }
      ]
    },
    {
      "cell_type": "code",
      "source": [
        "# Pré-buscas\n",
        "dados_treino    = dados_treino.batch(LOTE_TAMANHO).prefetch(AUTOTUNE)\n",
        "dados_validacao = dados_validacao.batch(LOTE_TAMANHO).prefetch(AUTOTUNE)\n",
        "dados_teste     = dados_teste.batch(LOTE_TAMANHO).prefetch(AUTOTUNE)"
      ],
      "metadata": {
        "id": "dXfcMje8mpcz"
      },
      "execution_count": 35,
      "outputs": []
    },
    {
      "cell_type": "code",
      "source": [
        "dados_treino"
      ],
      "metadata": {
        "colab": {
          "base_uri": "https://localhost:8080/"
        },
        "id": "cldjvm9YmpOK",
        "outputId": "90e4b218-f297-4ea3-e71d-249696af087a"
      },
      "execution_count": 36,
      "outputs": [
        {
          "output_type": "execute_result",
          "data": {
            "text/plain": [
              "<PrefetchDataset element_spec=(TensorSpec(shape=(None,), dtype=tf.string, name=None), TensorSpec(shape=(None, 5), dtype=tf.float64, name=None))>"
            ]
          },
          "metadata": {},
          "execution_count": 36
        }
      ]
    },
    {
      "cell_type": "markdown",
      "source": [
        "### Modelo 1: Conv1D com incorporação de palavras"
      ],
      "metadata": {
        "id": "VzH5qYgYmozK"
      }
    },
    {
      "cell_type": "code",
      "source": [
        "modelo_nome = 'modelo_1_conv1d_inc_palavras'\n",
        "\n",
        "entradas = Input(shape=ENTRADA_FORMATO, dtype=ENTRADA_TIPO, name='camada_entrada')\n",
        "\n",
        "camadas = vetorizador(entradas)\n",
        "camadas = incorporador(camadas)\n",
        "\n",
        "camadas = Conv1D(filters=FILTROS,\n",
        "                 kernel_size=NUCLEO_TAMANHO,\n",
        "                 activation=ATIVACAO_CNN,\n",
        "                 padding=PREENCHIMENTO,\n",
        "                 name='camada_convulacional')(camadas)\n",
        "\n",
        "camadas = GlobalAveragePooling1D(name='agrupamento_media_global')(camadas)\n",
        "\n",
        "saidas = Dense(len(classes), activation=ATIVACAO_SAIDA, name='camada_saida')(camadas)\n",
        "\n",
        "modelo = Model(inputs=entradas, outputs=saidas, name=modelo_nome)\n",
        "\n",
        "modelo.compile(loss=PERDA,\n",
        "               optimizer=Adam(learning_rate=APRENDIZADO),\n",
        "               metrics=METRICAS)\n",
        "\n",
        "historico = modelo.fit(dados_treino,\n",
        "                       epochs=ITERACOES,\n",
        "                    #    validation_data=dados_validacao,\n",
        "                       verbose=1)"
      ],
      "metadata": {
        "colab": {
          "base_uri": "https://localhost:8080/"
        },
        "id": "tGq3c7yNRiq9",
        "outputId": "3a696aa5-8828-4ac7-9bb6-7a4b55362b6a"
      },
      "execution_count": 37,
      "outputs": [
        {
          "output_type": "stream",
          "name": "stdout",
          "text": [
            "Epoch 1/3\n",
            "5627/5627 [==============================] - 86s 14ms/step - loss: 0.5994 - accuracy: 0.7830\n",
            "Epoch 2/3\n",
            "5627/5627 [==============================] - 78s 14ms/step - loss: 0.4356 - accuracy: 0.8477\n",
            "Epoch 3/3\n",
            "5627/5627 [==============================] - 78s 14ms/step - loss: 0.3430 - accuracy: 0.8837\n"
          ]
        }
      ]
    },
    {
      "cell_type": "code",
      "source": [
        "# grafico_historico_por_iteracao(historico)"
      ],
      "metadata": {
        "id": "DvgTDDqKWfrz"
      },
      "execution_count": 38,
      "outputs": []
    },
    {
      "cell_type": "code",
      "source": [
        "probabilidades = modelo.predict(dados_validacao)\n",
        "previsoes      = tf.argmax(probabilidades, axis=1)\n",
        "avaliacoes[1]  = avaliar_modelo(rotulos_int_validacao, previsoes, classes)"
      ],
      "metadata": {
        "colab": {
          "base_uri": "https://localhost:8080/",
          "height": 766
        },
        "id": "pESc6xprWmui",
        "outputId": "26607ea0-b687-4ee8-ebd2-1e855f035ca7"
      },
      "execution_count": 39,
      "outputs": [
        {
          "output_type": "stream",
          "name": "stdout",
          "text": [
            "945/945 [==============================] - 2s 2ms/step\n",
            "              precision    recall  f1-score   support\n",
            "\n",
            "  BACKGROUND       0.64      0.63      0.64      3449\n",
            " CONCLUSIONS       0.72      0.73      0.73      4582\n",
            "     METHODS       0.88      0.88      0.88      9964\n",
            "   OBJECTIVE       0.70      0.53      0.61      2376\n",
            "     RESULTS       0.84      0.89      0.86      9841\n",
            "\n",
            "    accuracy                           0.80     30212\n",
            "   macro avg       0.76      0.73      0.74     30212\n",
            "weighted avg       0.80      0.80      0.80     30212\n",
            "\n"
          ]
        },
        {
          "output_type": "display_data",
          "data": {
            "text/plain": [
              "<Figure size 800x500 with 2 Axes>"
            ],
            "image/png": "[encoded data removed]"
          },
          "metadata": {}
        }
      ]
    },
    {
      "cell_type": "code",
      "source": [
        "avaliacoes[1]"
      ],
      "metadata": {
        "colab": {
          "base_uri": "https://localhost:8080/"
        },
        "id": "P7WWed99Ytdo",
        "outputId": "8fd1160b-cb75-455e-8df2-29164b8e3cd2"
      },
      "execution_count": 40,
      "outputs": [
        {
          "output_type": "execute_result",
          "data": {
            "text/plain": [
              "{'acuracia': 0.804945054945055,\n",
              " 'precisao': 0.802340920373342,\n",
              " 'revocacao': 0.804945054945055,\n",
              " 'pontuacao-f1': 0.8024811700973418}"
            ]
          },
          "metadata": {},
          "execution_count": 40
        }
      ]
    },
    {
      "cell_type": "markdown",
      "source": [
        "### Modelo 2: TFHub USE"
      ],
      "metadata": {
        "id": "LZ4fqAxTZGOn"
      }
    },
    {
      "cell_type": "code",
      "source": [
        "modelo_nome = 'modelo_2_use'\n",
        "\n",
        "entradas = Input(shape=[], dtype=ENTRADA_TIPO, name='camada_entrada')  # shape=[] para entradas de tamanho variável\n",
        "\n",
        "incorporador_use = hub.KerasLayer(handle='https://tfhub.dev/google/universal-sentence-encoder/4',\n",
        "                                  trainable=False,\n",
        "                                  name='incorporador_use')(entradas)\n",
        "\n",
        "camadas = Dense(LIMITE_INCORPORADOR, activation=ATIVACAO_CNN, name='camada_relu')(incorporador_use)\n",
        "\n",
        "saidas = Dense(len(classes), activation=ATIVACAO_SAIDA, name='camada_saida')(camadas)\n",
        "\n",
        "modelo = Model(inputs=entradas, outputs=saidas, name=modelo_nome)\n",
        "\n",
        "modelo.compile(loss=PERDA,\n",
        "               optimizer=Adam(learning_rate=APRENDIZADO),\n",
        "               metrics=METRICAS)\n",
        "\n",
        "historico = modelo.fit(dados_treino,\n",
        "                       epochs=ITERACOES,\n",
        "                    #    validation_data=dados_validacao,\n",
        "                       verbose=1)"
      ],
      "metadata": {
        "colab": {
          "base_uri": "https://localhost:8080/"
        },
        "id": "oYEdZE6s0F6Q",
        "outputId": "7b87ac64-0492-45c9-b80f-d7a454954454"
      },
      "execution_count": 41,
      "outputs": [
        {
          "output_type": "stream",
          "name": "stdout",
          "text": [
            "Epoch 1/3\n",
            "5627/5627 [==============================] - 63s 11ms/step - loss: 0.7031 - accuracy: 0.7319\n",
            "Epoch 2/3\n",
            "5627/5627 [==============================] - 60s 11ms/step - loss: 0.6103 - accuracy: 0.7689\n",
            "Epoch 3/3\n",
            "5627/5627 [==============================] - 59s 10ms/step - loss: 0.5725 - accuracy: 0.7842\n"
          ]
        }
      ]
    },
    {
      "cell_type": "code",
      "source": [
        "# grafico_historico_por_iteracao(historico)"
      ],
      "metadata": {
        "id": "GqS2eo02276k"
      },
      "execution_count": 42,
      "outputs": []
    },
    {
      "cell_type": "code",
      "source": [
        "probabilidades = modelo.predict(dados_validacao)\n",
        "previsoes      = tf.argmax(probabilidades, axis=1)\n",
        "avaliacoes[2]  = avaliar_modelo(rotulos_int_validacao, previsoes, classes)"
      ],
      "metadata": {
        "colab": {
          "base_uri": "https://localhost:8080/",
          "height": 766
        },
        "id": "J5lUNxJ_3Axz",
        "outputId": "b0aae0e8-86ba-4ba3-fdc2-d44708b2e285"
      },
      "execution_count": 43,
      "outputs": [
        {
          "output_type": "stream",
          "name": "stdout",
          "text": [
            "945/945 [==============================] - 9s 9ms/step\n",
            "              precision    recall  f1-score   support\n",
            "\n",
            "  BACKGROUND       0.62      0.61      0.61      3449\n",
            " CONCLUSIONS       0.68      0.68      0.68      4582\n",
            "     METHODS       0.85      0.85      0.85      9964\n",
            "   OBJECTIVE       0.74      0.47      0.57      2376\n",
            "     RESULTS       0.80      0.88      0.84      9841\n",
            "\n",
            "    accuracy                           0.78     30212\n",
            "   macro avg       0.74      0.70      0.71     30212\n",
            "weighted avg       0.77      0.78      0.77     30212\n",
            "\n"
          ]
        },
        {
          "output_type": "display_data",
          "data": {
            "text/plain": [
              "<Figure size 800x500 with 2 Axes>"
            ],
            "image/png": "[encoded data removed]"
          },
          "metadata": {}
        }
      ]
    },
    {
      "cell_type": "code",
      "source": [
        "avaliacoes[2]"
      ],
      "metadata": {
        "colab": {
          "base_uri": "https://localhost:8080/"
        },
        "id": "iRbuW8Nh3AsV",
        "outputId": "7d090903-de89-4ba3-89fd-b1dbf4a8851d"
      },
      "execution_count": 44,
      "outputs": [
        {
          "output_type": "execute_result",
          "data": {
            "text/plain": [
              "{'acuracia': 0.7761485502449358,\n",
              " 'precisao': 0.7738141402602267,\n",
              " 'revocacao': 0.7761485502449358,\n",
              " 'pontuacao-f1': 0.7719714413563957}"
            ]
          },
          "metadata": {},
          "execution_count": 44
        }
      ]
    },
    {
      "cell_type": "markdown",
      "source": [
        "### Preparação dos caracteres"
      ],
      "metadata": {
        "id": "QjgLcEPf3Amu"
      }
    },
    {
      "cell_type": "code",
      "source": [
        "caracteres_por_texto    = [len(texto) for texto in df_treino['texto']]\n",
        "caracteres_por_texto_95 = int(np.percentile(caracteres_por_texto, 95))  # Quantidade máxima de caracteres para 95% dos textos."
      ],
      "metadata": {
        "id": "E0pxxUvmGzTB"
      },
      "execution_count": 45,
      "outputs": []
    },
    {
      "cell_type": "code",
      "source": [
        "print(f\"Média: {np.mean(caracteres_por_texto)}\")\n",
        "print(f\"Máximo: {np.max(caracteres_por_texto)}\")\n",
        "print(f\"95%: {caracteres_por_texto_95}\")"
      ],
      "metadata": {
        "colab": {
          "base_uri": "https://localhost:8080/"
        },
        "outputId": "60a83069-c38e-4e4e-dbda-2f7145b7b26d",
        "id": "b9asU3JlEQZF"
      },
      "execution_count": 46,
      "outputs": [
        {
          "output_type": "stream",
          "name": "stdout",
          "text": [
            "Média: 149.3662574983337\n",
            "Máximo: 1386\n",
            "95%: 290\n"
          ]
        }
      ]
    },
    {
      "cell_type": "code",
      "source": [
        "sns.histplot(x=caracteres_por_texto, color=COR)\n",
        "\n",
        "plt.xlim(0, 300)\n",
        "\n",
        "plt.xlabel('Quantidade de caracteres')\n",
        "plt.ylabel('Quantidade de textos');"
      ],
      "metadata": {
        "colab": {
          "base_uri": "https://localhost:8080/",
          "height": 452
        },
        "outputId": "15ddd3fb-7ae2-41d2-95ae-d331077f8152",
        "id": "6EJS1vNBEQZF"
      },
      "execution_count": 47,
      "outputs": [
        {
          "output_type": "display_data",
          "data": {
            "text/plain": [
              "<Figure size 800x500 with 1 Axes>"
            ],
            "image/png": "[encoded data removed]"
          },
          "metadata": {}
        }
      ]
    },
    {
      "cell_type": "markdown",
      "source": [
        "#### Listas de caracteres"
      ],
      "metadata": {
        "id": "SbBiHLhsHudf"
      }
    },
    {
      "cell_type": "code",
      "source": [
        "lista_caracteres_treino    = [\" \".join(list(texto)) for texto in df_treino['texto']]\n",
        "lista_caracteres_validacao = [\" \".join(list(texto)) for texto in df_validacao['texto']]\n",
        "lista_caracteres_teste     = [\" \".join(list(texto)) for texto in df_teste['texto']]"
      ],
      "metadata": {
        "id": "vzjrtsvIHQ1d"
      },
      "execution_count": 48,
      "outputs": []
    },
    {
      "cell_type": "markdown",
      "source": [
        "#### Vetorização"
      ],
      "metadata": {
        "id": "bM0_3wobIXFj"
      }
    },
    {
      "cell_type": "code",
      "source": [
        "vetorizador_caracteres = TextVectorization(max_tokens=LIMITE_CARACTERES,\n",
        "                                           output_mode='int',\n",
        "                                           output_sequence_length=caracteres_por_texto_95,\n",
        "                                           name='vetorizador_caracteres')\n",
        "\n",
        "vetorizador_caracteres.adapt(lista_caracteres_treino)"
      ],
      "metadata": {
        "id": "cj6oo8JxIXFj"
      },
      "execution_count": 49,
      "outputs": []
    },
    {
      "cell_type": "code",
      "source": [
        "vetorizador_caracteres.get_config()"
      ],
      "metadata": {
        "colab": {
          "base_uri": "https://localhost:8080/"
        },
        "outputId": "d1cfb16b-30b7-401b-af38-96b5d8a49bca",
        "id": "CKxOJL76IXFj"
      },
      "execution_count": 50,
      "outputs": [
        {
          "output_type": "execute_result",
          "data": {
            "text/plain": [
              "{'name': 'vetorizador_caracteres',\n",
              " 'trainable': True,\n",
              " 'batch_input_shape': (None,),\n",
              " 'dtype': 'string',\n",
              " 'max_tokens': 80,\n",
              " 'standardize': 'lower_and_strip_punctuation',\n",
              " 'split': 'whitespace',\n",
              " 'ngrams': None,\n",
              " 'output_mode': 'int',\n",
              " 'output_sequence_length': 290,\n",
              " 'pad_to_max_tokens': False,\n",
              " 'sparse': False,\n",
              " 'ragged': False,\n",
              " 'vocabulary': None,\n",
              " 'idf_weights': None}"
            ]
          },
          "metadata": {},
          "execution_count": 50
        }
      ]
    },
    {
      "cell_type": "markdown",
      "source": [
        "#### Vocabulário"
      ],
      "metadata": {
        "id": "9y1O0XZXIXFj"
      }
    },
    {
      "cell_type": "code",
      "source": [
        "vocabulario_caracteres = vetorizador_caracteres.get_vocabulary()\n",
        "\n",
        "print(f\"Tamanho do vocabulário: {len(vocabulario_caracteres)}\")\n",
        "print(f\"10 caracteres mais comuns: {vocabulario_caracteres[:10]}\")\n",
        "print(f\"10 caracteres menos comuns: {vocabulario_caracteres[-10:]}\")"
      ],
      "metadata": {
        "colab": {
          "base_uri": "https://localhost:8080/"
        },
        "outputId": "3c0b53dc-1293-4b63-b57e-1d56f6213d09",
        "id": "1WUV2_r5IXFj"
      },
      "execution_count": 51,
      "outputs": [
        {
          "output_type": "stream",
          "name": "stdout",
          "text": [
            "Tamanho do vocabulário: 28\n",
            "10 caracteres mais comuns: ['', '[UNK]', 'e', 't', 'i', 'a', 'n', 'o', 'r', 's']\n",
            "10 caracteres menos comuns: ['g', 'y', 'w', 'v', 'b', 'k', 'x', 'z', 'q', 'j']\n"
          ]
        }
      ]
    },
    {
      "cell_type": "markdown",
      "source": [
        "#### Incorporação"
      ],
      "metadata": {
        "id": "jt-5UfbPIXFk"
      }
    },
    {
      "cell_type": "code",
      "source": [
        "incorporador_caracteres = Embedding(input_dim=len(vocabulario_caracteres),\n",
        "                                    output_dim=LIMITE_INCORPORADOR_CARACTERES,\n",
        "                                    mask_zero=True,\n",
        "                                    input_length=caracteres_por_texto_95,\n",
        "                                    name='incorporador_caracteres')"
      ],
      "metadata": {
        "id": "Q3alwoI7IXFk"
      },
      "execution_count": 52,
      "outputs": []
    },
    {
      "cell_type": "code",
      "source": [
        "incorporador_caracteres.get_config()"
      ],
      "metadata": {
        "colab": {
          "base_uri": "https://localhost:8080/"
        },
        "outputId": "a36015cc-667a-4234-978a-66d5e99af1d3",
        "id": "1pK0YLIuIXFk"
      },
      "execution_count": 53,
      "outputs": [
        {
          "output_type": "execute_result",
          "data": {
            "text/plain": [
              "{'name': 'incorporador_caracteres',\n",
              " 'trainable': True,\n",
              " 'batch_input_shape': (None, 290),\n",
              " 'dtype': 'float32',\n",
              " 'input_dim': 28,\n",
              " 'output_dim': 25,\n",
              " 'embeddings_initializer': {'class_name': 'RandomUniform',\n",
              "  'config': {'minval': -0.05, 'maxval': 0.05, 'seed': None}},\n",
              " 'embeddings_regularizer': None,\n",
              " 'activity_regularizer': None,\n",
              " 'embeddings_constraint': None,\n",
              " 'mask_zero': True,\n",
              " 'input_length': 290}"
            ]
          },
          "metadata": {},
          "execution_count": 53
        }
      ]
    },
    {
      "cell_type": "markdown",
      "source": [
        "#### Verificação"
      ],
      "metadata": {
        "id": "ly2PWk0dIXFk"
      }
    },
    {
      "cell_type": "code",
      "source": [
        "texto_aleatorio = random.choice(lista_caracteres_treino)\n",
        "\n",
        "vetorizado = vetorizador_caracteres([texto_aleatorio])\n",
        "incorporado = incorporador_caracteres(vetorizado)\n",
        "\n",
        "print(texto_aleatorio)\n",
        "print()\n",
        "print(f\"Quantidade de caracteres: {len(texto_aleatorio.split())}\")\n",
        "print(f\"Formato vetorizado: {vetorizado.shape}\")\n",
        "print(f\"Formato incorporado: {incorporado.shape}\")\n",
        "print()\n",
        "print(vetorizado)\n",
        "print()\n",
        "print(incorporado)"
      ],
      "metadata": {
        "colab": {
          "base_uri": "https://localhost:8080/"
        },
        "outputId": "ace7d1bd-352d-4398-c049-f09471960429",
        "id": "eXvchSBvIXFk"
      },
      "execution_count": 54,
      "outputs": [
        {
          "output_type": "stream",
          "name": "stdout",
          "text": [
            "e n r o l l m e n t   o f   p a t i e n t s   w i t h   n o n s q u a m o u s   h i s t o l o g y   w a s   t e m p o r a r i l y   h a l t e d   ,   b u t   r e s u m e d   f o l l o w i n g   a   p r o t o c o l   a m e n d m e n t   (   s c a g l i o t t i   e t   a l .   .\n",
            "\n",
            "Quantidade de caracteres: 119\n",
            "Formato vetorizado: (1, 290)\n",
            "Formato incorporado: (1, 290, 25)\n",
            "\n",
            "tf.Tensor(\n",
            "[[ 2  6  8  7 12 12 15  2  6  3  7 17 14  5  3  4  2  6  3  9 20  4  3 13\n",
            "   6  7  6  9 26 16  5 15  7 16  9 13  4  9  3  7 12  7 18 19 20  5  9  3\n",
            "   2 15 14  7  8  5  8  4 12 19 13  5 12  3  2 10 22 16  3  8  2  9 16 15\n",
            "   2 10 17  7 12 12  7 20  4  6 18  5 14  8  7  3  7 11  7 12  5 15  2  6\n",
            "  10 15  2  6  3  9 11  5 18 12  4  7  3  3  4  2  3  5 12  0  0  0  0  0\n",
            "   0  0  0  0  0  0  0  0  0  0  0  0  0  0  0  0  0  0  0  0  0  0  0  0\n",
            "   0  0  0  0  0  0  0  0  0  0  0  0  0  0  0  0  0  0  0  0  0  0  0  0\n",
            "   0  0  0  0  0  0  0  0  0  0  0  0  0  0  0  0  0  0  0  0  0  0  0  0\n",
            "   0  0  0  0  0  0  0  0  0  0  0  0  0  0  0  0  0  0  0  0  0  0  0  0\n",
            "   0  0  0  0  0  0  0  0  0  0  0  0  0  0  0  0  0  0  0  0  0  0  0  0\n",
            "   0  0  0  0  0  0  0  0  0  0  0  0  0  0  0  0  0  0  0  0  0  0  0  0\n",
            "   0  0  0  0  0  0  0  0  0  0  0  0  0  0  0  0  0  0  0  0  0  0  0  0\n",
            "   0  0]], shape=(1, 290), dtype=int64)\n",
            "\n",
            "tf.Tensor(\n",
            "[[[ 0.02124462  0.01254834 -0.02463679 ...  0.00953509 -0.01396544\n",
            "   -0.04635585]\n",
            "  [ 0.0335781  -0.00893926 -0.04928486 ... -0.03262116  0.01577782\n",
            "    0.01078517]\n",
            "  [-0.04741631 -0.04643375  0.01532323 ... -0.01362939 -0.02627909\n",
            "    0.01515608]\n",
            "  ...\n",
            "  [ 0.01149014 -0.01694496  0.01748594 ...  0.0259237  -0.03790716\n",
            "   -0.0280422 ]\n",
            "  [ 0.01149014 -0.01694496  0.01748594 ...  0.0259237  -0.03790716\n",
            "   -0.0280422 ]\n",
            "  [ 0.01149014 -0.01694496  0.01748594 ...  0.0259237  -0.03790716\n",
            "   -0.0280422 ]]], shape=(1, 290, 25), dtype=float32)\n"
          ]
        }
      ]
    },
    {
      "cell_type": "markdown",
      "source": [
        "#### Criação de datasets"
      ],
      "metadata": {
        "id": "39Aw_gWSNLRr"
      }
    },
    {
      "cell_type": "code",
      "source": [
        "# Datasets\n",
        "caracteres_treino    = Dataset.from_tensor_slices((lista_caracteres_treino, rotulos_onehot_treino))\n",
        "caracteres_validacao = Dataset.from_tensor_slices((lista_caracteres_validacao, rotulos_onehot_validacao))\n",
        "caracteres_teste     = Dataset.from_tensor_slices((lista_caracteres_teste, rotulos_onehot_teste))"
      ],
      "metadata": {
        "id": "-4akrLZ5NLRx"
      },
      "execution_count": 55,
      "outputs": []
    },
    {
      "cell_type": "code",
      "source": [
        "caracteres_treino"
      ],
      "metadata": {
        "colab": {
          "base_uri": "https://localhost:8080/"
        },
        "outputId": "b1d80f35-ea4a-4ac4-a4cf-0fd5b92ba89c",
        "id": "D45KgBeLNLRx"
      },
      "execution_count": 56,
      "outputs": [
        {
          "output_type": "execute_result",
          "data": {
            "text/plain": [
              "<TensorSliceDataset element_spec=(TensorSpec(shape=(), dtype=tf.string, name=None), TensorSpec(shape=(5,), dtype=tf.float64, name=None))>"
            ]
          },
          "metadata": {},
          "execution_count": 56
        }
      ]
    },
    {
      "cell_type": "code",
      "source": [
        "# Pré-buscas\n",
        "caracteres_treino    = caracteres_treino.batch(LOTE_TAMANHO).prefetch(AUTOTUNE)\n",
        "caracteres_validacao = caracteres_validacao.batch(LOTE_TAMANHO).prefetch(AUTOTUNE)\n",
        "caracteres_teste     = caracteres_teste.batch(LOTE_TAMANHO).prefetch(AUTOTUNE)"
      ],
      "metadata": {
        "id": "ljbXXb6ZNLRx"
      },
      "execution_count": 57,
      "outputs": []
    },
    {
      "cell_type": "code",
      "source": [
        "caracteres_treino"
      ],
      "metadata": {
        "colab": {
          "base_uri": "https://localhost:8080/"
        },
        "outputId": "92c80c5b-0a61-4136-b34b-51233810439c",
        "id": "VmXYT7rcNLRx"
      },
      "execution_count": 58,
      "outputs": [
        {
          "output_type": "execute_result",
          "data": {
            "text/plain": [
              "<PrefetchDataset element_spec=(TensorSpec(shape=(None,), dtype=tf.string, name=None), TensorSpec(shape=(None, 5), dtype=tf.float64, name=None))>"
            ]
          },
          "metadata": {},
          "execution_count": 58
        }
      ]
    },
    {
      "cell_type": "markdown",
      "source": [
        "### Modelo 3: Conv1D com incorporação de caracteres"
      ],
      "metadata": {
        "id": "W9HK252ZNLRy"
      }
    },
    {
      "cell_type": "code",
      "source": [
        "modelo_nome = 'modelo_3_conv1d_inc_caracteres'\n",
        "\n",
        "entradas = Input(shape=ENTRADA_FORMATO, dtype=ENTRADA_TIPO, name='camada_entrada')\n",
        "\n",
        "camadas = vetorizador_caracteres(entradas)\n",
        "camadas = incorporador_caracteres(camadas)\n",
        "\n",
        "camadas = Conv1D(filters=FILTROS,\n",
        "                 kernel_size=NUCLEO_TAMANHO,\n",
        "                 activation=ATIVACAO_CNN,\n",
        "                 padding=PREENCHIMENTO,\n",
        "                 name='camada_convulacional')(camadas)\n",
        "\n",
        "camadas = GlobalMaxPool1D(name='agrupamento_maximo_global')(camadas)\n",
        "\n",
        "saidas = Dense(len(classes), activation=ATIVACAO_SAIDA, name='camada_saida')(camadas)\n",
        "\n",
        "modelo = Model(inputs=entradas, outputs=saidas, name=modelo_nome)\n",
        "\n",
        "modelo.compile(loss=PERDA,\n",
        "               optimizer=Adam(learning_rate=APRENDIZADO),\n",
        "               metrics=METRICAS)\n",
        "\n",
        "historico = modelo.fit(caracteres_treino,\n",
        "                       epochs=ITERACOES,\n",
        "                    #    validation_data=caracteres_validacao,\n",
        "                       verbose=1)"
      ],
      "metadata": {
        "colab": {
          "base_uri": "https://localhost:8080/"
        },
        "outputId": "a687293c-6545-4f94-c9d0-8805a3ce8598",
        "id": "LpjBsWGHNLRy"
      },
      "execution_count": 59,
      "outputs": [
        {
          "output_type": "stream",
          "name": "stdout",
          "text": [
            "Epoch 1/3\n",
            "5627/5627 [==============================] - 27s 5ms/step - loss: 0.8956 - accuracy: 0.6501\n",
            "Epoch 2/3\n",
            "5627/5627 [==============================] - 26s 5ms/step - loss: 0.7502 - accuracy: 0.7135\n",
            "Epoch 3/3\n",
            "5627/5627 [==============================] - 26s 5ms/step - loss: 0.7174 - accuracy: 0.7275\n"
          ]
        }
      ]
    },
    {
      "cell_type": "code",
      "source": [
        "# grafico_historico_por_iteracao(historico)"
      ],
      "metadata": {
        "id": "-wX1nVhUNLRy"
      },
      "execution_count": 60,
      "outputs": []
    },
    {
      "cell_type": "code",
      "source": [
        "probabilidades = modelo.predict(caracteres_validacao)\n",
        "previsoes      = tf.argmax(probabilidades, axis=1)\n",
        "avaliacoes[3]  = avaliar_modelo(rotulos_int_validacao, previsoes, classes)"
      ],
      "metadata": {
        "colab": {
          "base_uri": "https://localhost:8080/",
          "height": 766
        },
        "outputId": "3b95f4bc-e7f1-4a6c-9f8c-146e5691aa87",
        "id": "BKp0J6XJNLRy"
      },
      "execution_count": 61,
      "outputs": [
        {
          "output_type": "stream",
          "name": "stdout",
          "text": [
            "945/945 [==============================] - 2s 2ms/step\n",
            "              precision    recall  f1-score   support\n",
            "\n",
            "  BACKGROUND       0.56      0.52      0.54      3449\n",
            " CONCLUSIONS       0.63      0.58      0.60      4582\n",
            "     METHODS       0.84      0.80      0.82      9964\n",
            "   OBJECTIVE       0.65      0.40      0.50      2376\n",
            "     RESULTS       0.73      0.89      0.80      9841\n",
            "\n",
            "    accuracy                           0.73     30212\n",
            "   macro avg       0.68      0.64      0.65     30212\n",
            "weighted avg       0.73      0.73      0.72     30212\n",
            "\n"
          ]
        },
        {
          "output_type": "display_data",
          "data": {
            "text/plain": [
              "<Figure size 800x500 with 2 Axes>"
            ],
            "image/png": "[encoded data removed]"
          },
          "metadata": {}
        }
      ]
    },
    {
      "cell_type": "code",
      "source": [
        "avaliacoes[3]"
      ],
      "metadata": {
        "colab": {
          "base_uri": "https://localhost:8080/"
        },
        "outputId": "ce8c5a90-15d6-4b03-d439-c098416c3da1",
        "id": "vXhFllJNNLRy"
      },
      "execution_count": 62,
      "outputs": [
        {
          "output_type": "execute_result",
          "data": {
            "text/plain": [
              "{'acuracia': 0.7291142592347412,\n",
              " 'precisao': 0.7256485467842352,\n",
              " 'revocacao': 0.7291142592347412,\n",
              " 'pontuacao-f1': 0.7223094752967744}"
            ]
          },
          "metadata": {},
          "execution_count": 62
        }
      ]
    },
    {
      "cell_type": "markdown",
      "source": [
        "### Criação de datasets híbridos"
      ],
      "metadata": {
        "id": "8xG1qfx9VZfv"
      }
    },
    {
      "cell_type": "code",
      "source": [
        "# Dataset treino\n",
        "dados_hibridos_treino_textos  = Dataset.from_tensor_slices((df_treino['texto'],\n",
        "                                                            lista_caracteres_treino))\n",
        "dados_hibridos_treino_rotulos = Dataset.from_tensor_slices(rotulos_onehot_treino)\n",
        "dados_hibridos_treino         = Dataset.zip((dados_hibridos_treino_textos, dados_hibridos_treino_rotulos))"
      ],
      "metadata": {
        "id": "F-jeY6_8Vsxv"
      },
      "execution_count": 63,
      "outputs": []
    },
    {
      "cell_type": "code",
      "source": [
        "dados_hibridos_treino"
      ],
      "metadata": {
        "colab": {
          "base_uri": "https://localhost:8080/"
        },
        "id": "us_eXi9gVsxv",
        "outputId": "8a9a3dbe-4c18-4f37-f488-f0f006744780"
      },
      "execution_count": 64,
      "outputs": [
        {
          "output_type": "execute_result",
          "data": {
            "text/plain": [
              "<ZipDataset element_spec=((TensorSpec(shape=(), dtype=tf.string, name=None), TensorSpec(shape=(), dtype=tf.string, name=None)), TensorSpec(shape=(5,), dtype=tf.float64, name=None))>"
            ]
          },
          "metadata": {},
          "execution_count": 64
        }
      ]
    },
    {
      "cell_type": "code",
      "source": [
        "# Dataset validação\n",
        "dados_hibridos_validacao_textos  = Dataset.from_tensor_slices((df_validacao['texto'],\n",
        "                                                               lista_caracteres_validacao))\n",
        "dados_hibridos_validacao_rotulos = Dataset.from_tensor_slices(rotulos_onehot_validacao)\n",
        "dados_hibridos_validacao         = Dataset.zip((dados_hibridos_validacao_textos, dados_hibridos_validacao_rotulos))"
      ],
      "metadata": {
        "id": "1x53hf08Xx8d"
      },
      "execution_count": 65,
      "outputs": []
    },
    {
      "cell_type": "code",
      "source": [
        "dados_hibridos_validacao"
      ],
      "metadata": {
        "colab": {
          "base_uri": "https://localhost:8080/"
        },
        "id": "-1Op5g7MXx8e",
        "outputId": "f63de04a-3fbb-4985-d498-8f24fe448414"
      },
      "execution_count": 66,
      "outputs": [
        {
          "output_type": "execute_result",
          "data": {
            "text/plain": [
              "<ZipDataset element_spec=((TensorSpec(shape=(), dtype=tf.string, name=None), TensorSpec(shape=(), dtype=tf.string, name=None)), TensorSpec(shape=(5,), dtype=tf.float64, name=None))>"
            ]
          },
          "metadata": {},
          "execution_count": 66
        }
      ]
    },
    {
      "cell_type": "code",
      "source": [
        "# Pré-buscas\n",
        "dados_hibridos_treino    = dados_hibridos_treino.batch(LOTE_TAMANHO).prefetch(AUTOTUNE)\n",
        "dados_hibridos_validacao = dados_hibridos_validacao.batch(LOTE_TAMANHO).prefetch(AUTOTUNE)"
      ],
      "metadata": {
        "id": "8PPyTfNBVsxv"
      },
      "execution_count": 67,
      "outputs": []
    },
    {
      "cell_type": "code",
      "source": [
        "dados_hibridos_treino, dados_hibridos_validacao"
      ],
      "metadata": {
        "colab": {
          "base_uri": "https://localhost:8080/"
        },
        "id": "L5CmDwPxVsxv",
        "outputId": "99e80e4a-e087-4ebd-db24-4d50a0957c1b"
      },
      "execution_count": 68,
      "outputs": [
        {
          "output_type": "execute_result",
          "data": {
            "text/plain": [
              "(<PrefetchDataset element_spec=((TensorSpec(shape=(None,), dtype=tf.string, name=None), TensorSpec(shape=(None,), dtype=tf.string, name=None)), TensorSpec(shape=(None, 5), dtype=tf.float64, name=None))>,\n",
              " <PrefetchDataset element_spec=((TensorSpec(shape=(None,), dtype=tf.string, name=None), TensorSpec(shape=(None,), dtype=tf.string, name=None)), TensorSpec(shape=(None, 5), dtype=tf.float64, name=None))>)"
            ]
          },
          "metadata": {},
          "execution_count": 68
        }
      ]
    },
    {
      "cell_type": "markdown",
      "source": [
        "### Modelo 4: Camada de incorporação híbrida"
      ],
      "metadata": {
        "id": "2Awk_cOsNThs"
      }
    },
    {
      "cell_type": "markdown",
      "source": [
        "Incorporação híbrida é a fusão de duas ou mais incorporações diferentes, neste caso incorporações de palavras e caracteres. Para isso temos os seguintes passos:\n",
        "\n",
        "1. Criar um modelo com incorporação de palavras (Universal Sentence Encoder, como no Modelo 2);\n",
        "2. Criar um modelo com incorporação de caracteres (similar ao Modelo 3);\n",
        "3. Combinar os modelos com `tf.keras.layers.concatenate`;\n",
        "4. Construir uma série de camadas de saída, similar ao descrito na Figura 1 e Seção 4.2 do artigo 1612.05251;\n",
        "5. Construir o modelo."
      ],
      "metadata": {
        "id": "NvZtXTH-UqR3"
      }
    },
    {
      "cell_type": "markdown",
      "source": [
        "#### Modelo com incorporação de palavras"
      ],
      "metadata": {
        "id": "iZOR9zWQELfq"
      }
    },
    {
      "cell_type": "code",
      "source": [
        "modelo_nome = 'modelo_incorporacao_palavras'\n",
        "\n",
        "entradas = Input(shape=[], dtype=ENTRADA_TIPO, name='camada_entrada_palavras')\n",
        "\n",
        "incorporador_use = hub.KerasLayer(handle='https://tfhub.dev/google/universal-sentence-encoder/4',\n",
        "                                  trainable=False,\n",
        "                                  name='incorporador_use')(entradas)\n",
        "\n",
        "saidas = Dense(LIMITE_INCORPORADOR, activation=ATIVACAO_CNN, name='camada_relu_palavras')(incorporador_use)\n",
        "\n",
        "modelo_incorporacao_palavras = Model(inputs=entradas, outputs=saidas, name=modelo_nome)"
      ],
      "metadata": {
        "id": "JpJDafvlIOHj"
      },
      "execution_count": 69,
      "outputs": []
    },
    {
      "cell_type": "markdown",
      "source": [
        "#### Modelo com incorporação de caracteres"
      ],
      "metadata": {
        "id": "fk2PUqR3Jj4V"
      }
    },
    {
      "cell_type": "code",
      "source": [
        "modelo_nome = 'modelo_incorporacao_caracteres'\n",
        "\n",
        "entradas = Input(shape=ENTRADA_FORMATO, dtype=ENTRADA_TIPO, name='camada_entrada_caracteres')\n",
        "\n",
        "camadas = vetorizador_caracteres(entradas)\n",
        "camadas = incorporador_caracteres(camadas)\n",
        "\n",
        "# Camada Bidirectional LSTM (1612.05251 - Figura 1)\n",
        "saidas = Bidirectional(layer=LSTM(units=LIMITE_INCORPORADOR_CARACTERES, activation=ATIVACAO_RNN), name='camada_bi_lstm_caracteres')(camadas)\n",
        "\n",
        "modelo_incorporacao_caracteres = Model(inputs=entradas, outputs=saidas, name=modelo_nome)"
      ],
      "metadata": {
        "id": "vHfIez-QJlTK"
      },
      "execution_count": 70,
      "outputs": []
    },
    {
      "cell_type": "markdown",
      "source": [
        "#### Combinação dos modelos"
      ],
      "metadata": {
        "id": "-YT3Yi7pOEwl"
      }
    },
    {
      "cell_type": "code",
      "source": [
        "combinacao = Concatenate(name=\"camada_combinacao\")([modelo_incorporacao_palavras.output,\n",
        "                                                    modelo_incorporacao_caracteres.output])"
      ],
      "metadata": {
        "id": "aW4OnsGSOGCy"
      },
      "execution_count": 71,
      "outputs": []
    },
    {
      "cell_type": "markdown",
      "source": [
        "#### Camadas de abandono e saída"
      ],
      "metadata": {
        "id": "UjufXtnGO-4P"
      }
    },
    {
      "cell_type": "code",
      "source": [
        "# Taxa de abandono de 50% (1612.05251 - Seção 4.2)\n",
        "abandonos = Dropout(rate=0.5, name='camada_abandonos_combinacao')(combinacao)\n",
        "abandonos = Dense(LIMITE_VETOR_TEXTO * 2, activation=ATIVACAO_CNN, name='camada_abandonos_relu')(abandonos)\n",
        "abandonos = Dropout(rate=0.5, name='camada_abandonos_final')(abandonos)\n",
        "\n",
        "saidas = Dense(len(classes), activation=ATIVACAO_SAIDA, name='camada_saida')(abandonos)"
      ],
      "metadata": {
        "id": "o9FEpSCHPAAa"
      },
      "execution_count": 72,
      "outputs": []
    },
    {
      "cell_type": "markdown",
      "source": [
        "#### Modelo com incorporação híbrida"
      ],
      "metadata": {
        "id": "zGkNTfx6RB8M"
      }
    },
    {
      "cell_type": "code",
      "source": [
        "modelo_nome = 'modelo_4_incorporacao_hibrida'\n",
        "\n",
        "modelo = Model(inputs=[modelo_incorporacao_palavras.input,\n",
        "                       modelo_incorporacao_caracteres.input],\n",
        "               outputs=saidas,\n",
        "               name=modelo_nome)"
      ],
      "metadata": {
        "id": "c5zWy3cTRC_i"
      },
      "execution_count": 73,
      "outputs": []
    },
    {
      "cell_type": "markdown",
      "source": [
        "#### Verificação do modelo"
      ],
      "metadata": {
        "id": "fp4P7setRu6N"
      }
    },
    {
      "cell_type": "code",
      "source": [
        "# modelo.summary()"
      ],
      "metadata": {
        "id": "wX-RpXHjRwlK"
      },
      "execution_count": 74,
      "outputs": []
    },
    {
      "cell_type": "code",
      "source": [
        "# plot_model(modelo, show_shapes=True)"
      ],
      "metadata": {
        "id": "uIQDX4eXR0B6"
      },
      "execution_count": 75,
      "outputs": []
    },
    {
      "cell_type": "markdown",
      "source": [
        "#### Finalização do modelo"
      ],
      "metadata": {
        "id": "yhHduKqiSpdf"
      }
    },
    {
      "cell_type": "code",
      "source": [
        "# O artigo 1612.05251 informa que o otimizador utilizado foi stochastic gradient descent (SGD).\n",
        "# Utilizaremos o otimizador Adam para comparações com os modelos anteriores.\n",
        "\n",
        "modelo.compile(loss=PERDA,\n",
        "               optimizer=Adam(learning_rate=APRENDIZADO),\n",
        "               metrics=METRICAS)\n",
        "\n",
        "historico = modelo.fit(dados_hibridos_treino,\n",
        "                       epochs=ITERACOES,\n",
        "                    #    validation_data=dados_hibridos_validacao,\n",
        "                       verbose=1)"
      ],
      "metadata": {
        "colab": {
          "base_uri": "https://localhost:8080/"
        },
        "id": "fx1UmYDYSq6i",
        "outputId": "3c961f90-3acf-470c-86da-d41b165dccf4"
      },
      "execution_count": 76,
      "outputs": [
        {
          "output_type": "stream",
          "name": "stdout",
          "text": [
            "Epoch 1/3\n",
            "5627/5627 [==============================] - 254s 44ms/step - loss: 0.7221 - accuracy: 0.7244\n",
            "Epoch 2/3\n",
            "5627/5627 [==============================] - 242s 43ms/step - loss: 0.6413 - accuracy: 0.7585\n",
            "Epoch 3/3\n",
            "5627/5627 [==============================] - 242s 43ms/step - loss: 0.6151 - accuracy: 0.7690\n"
          ]
        }
      ]
    },
    {
      "cell_type": "code",
      "source": [
        "# grafico_historico_por_iteracao(historico)"
      ],
      "metadata": {
        "id": "ae5Nn7cUYbcx"
      },
      "execution_count": 77,
      "outputs": []
    },
    {
      "cell_type": "code",
      "source": [
        "probabilidades = modelo.predict(dados_hibridos_validacao)\n",
        "previsoes      = tf.argmax(probabilidades, axis=1)\n",
        "avaliacoes[4]  = avaliar_modelo(rotulos_int_validacao, previsoes, classes)"
      ],
      "metadata": {
        "colab": {
          "base_uri": "https://localhost:8080/",
          "height": 766
        },
        "id": "NJ3_MwtgZuf4",
        "outputId": "32e0dfb4-4d0f-4f27-ade6-8102e1d39b4a"
      },
      "execution_count": 78,
      "outputs": [
        {
          "output_type": "stream",
          "name": "stdout",
          "text": [
            "945/945 [==============================] - 22s 21ms/step\n",
            "              precision    recall  f1-score   support\n",
            "\n",
            "  BACKGROUND       0.61      0.64      0.63      3449\n",
            " CONCLUSIONS       0.69      0.68      0.69      4582\n",
            "     METHODS       0.86      0.87      0.87      9964\n",
            "   OBJECTIVE       0.80      0.49      0.61      2376\n",
            "     RESULTS       0.82      0.87      0.85      9841\n",
            "\n",
            "    accuracy                           0.79     30212\n",
            "   macro avg       0.76      0.71      0.73     30212\n",
            "weighted avg       0.79      0.79      0.78     30212\n",
            "\n"
          ]
        },
        {
          "output_type": "display_data",
          "data": {
            "text/plain": [
              "<Figure size 800x500 with 2 Axes>"
            ],
            "image/png": "[encoded data removed]"
          },
          "metadata": {}
        }
      ]
    },
    {
      "cell_type": "code",
      "source": [
        "avaliacoes[4]"
      ],
      "metadata": {
        "colab": {
          "base_uri": "https://localhost:8080/"
        },
        "id": "EJuqI0kLZ9rq",
        "outputId": "dd4f922b-f5bc-46bc-ac6a-7d5b33523d23"
      },
      "execution_count": 79,
      "outputs": [
        {
          "output_type": "execute_result",
          "data": {
            "text/plain": [
              "{'acuracia': 0.787733350986363,\n",
              " 'precisao': 0.7881003136352549,\n",
              " 'revocacao': 0.787733350986363,\n",
              " 'pontuacao-f1': 0.7844985103057597}"
            ]
          },
          "metadata": {},
          "execution_count": 79
        }
      ]
    },
    {
      "cell_type": "markdown",
      "source": [
        "### Rótulos numéricos das quantidades de linhas"
      ],
      "metadata": {
        "id": "kYXXDjPgTluz"
      }
    },
    {
      "cell_type": "code",
      "source": [
        "sns.histplot(x=df_treino['numero'], color=COR)\n",
        "\n",
        "plt.xlabel('Número da linha')\n",
        "plt.ylabel('Quantidade de textos');"
      ],
      "metadata": {
        "colab": {
          "base_uri": "https://localhost:8080/",
          "height": 452
        },
        "outputId": "e01b1910-1296-4970-d295-80c075dce107",
        "id": "1hGReO4Xr5k4"
      },
      "execution_count": 80,
      "outputs": [
        {
          "output_type": "display_data",
          "data": {
            "text/plain": [
              "<Figure size 800x500 with 1 Axes>"
            ],
            "image/png": "[encoded data removed]"
          },
          "metadata": {}
        }
      ]
    },
    {
      "cell_type": "code",
      "source": [
        "numero_linha_95 = int(np.percentile(df_treino['numero'], 95))\n",
        "numero_linha_98 = int(np.percentile(df_treino['numero'], 98))\n",
        "\n",
        "numero_linha_95, numero_linha_98"
      ],
      "metadata": {
        "colab": {
          "base_uri": "https://localhost:8080/"
        },
        "id": "FdLLsEumTte7",
        "outputId": "b927fe75-ed5f-40f7-a88d-b93db1a6d524"
      },
      "execution_count": 81,
      "outputs": [
        {
          "output_type": "execute_result",
          "data": {
            "text/plain": [
              "(13, 15)"
            ]
          },
          "metadata": {},
          "execution_count": 81
        }
      ]
    },
    {
      "cell_type": "code",
      "source": [
        "linhas_numero_onehot_treino    = tf.one_hot(df_treino['numero'], depth=numero_linha_98)\n",
        "linhas_numero_onehot_validacao = tf.one_hot(df_validacao['numero'], depth=numero_linha_98)\n",
        "linhas_numero_onehot_teste     = tf.one_hot(df_teste['numero'], depth=numero_linha_98)"
      ],
      "metadata": {
        "id": "KPYLoDyCv1js"
      },
      "execution_count": 82,
      "outputs": []
    },
    {
      "cell_type": "code",
      "source": [
        "linhas_numero_onehot_treino"
      ],
      "metadata": {
        "colab": {
          "base_uri": "https://localhost:8080/"
        },
        "id": "U1WX6MkrwRYT",
        "outputId": "45b47873-010e-4a49-a877-71db739a157a"
      },
      "execution_count": 83,
      "outputs": [
        {
          "output_type": "execute_result",
          "data": {
            "text/plain": [
              "<tf.Tensor: shape=(180040, 15), dtype=float32, numpy=\n",
              "array([[1., 0., 0., ..., 0., 0., 0.],\n",
              "       [0., 1., 0., ..., 0., 0., 0.],\n",
              "       [0., 0., 1., ..., 0., 0., 0.],\n",
              "       ...,\n",
              "       [0., 0., 0., ..., 0., 0., 0.],\n",
              "       [0., 0., 0., ..., 0., 0., 0.],\n",
              "       [0., 0., 0., ..., 0., 0., 0.]], dtype=float32)>"
            ]
          },
          "metadata": {},
          "execution_count": 83
        }
      ]
    },
    {
      "cell_type": "code",
      "source": [
        "sns.histplot(x=df_treino['total'], color=COR)\n",
        "\n",
        "plt.xlabel('Total de linhas')\n",
        "plt.ylabel('Quantidade de textos');"
      ],
      "metadata": {
        "colab": {
          "base_uri": "https://localhost:8080/",
          "height": 452
        },
        "outputId": "bc4655ee-b51c-457f-b963-0af79d0f6d14",
        "id": "B2Ti77N2u3pw"
      },
      "execution_count": 84,
      "outputs": [
        {
          "output_type": "display_data",
          "data": {
            "text/plain": [
              "<Figure size 800x500 with 1 Axes>"
            ],
            "image/png": "[encoded data removed]"
          },
          "metadata": {}
        }
      ]
    },
    {
      "cell_type": "code",
      "source": [
        "total_linhas_95 = int(np.percentile(df_treino['total'], 95))\n",
        "total_linhas_98 = int(np.percentile(df_treino['total'], 98))\n",
        "\n",
        "total_linhas_95, total_linhas_98"
      ],
      "metadata": {
        "colab": {
          "base_uri": "https://localhost:8080/"
        },
        "outputId": "53144b06-f1e1-41a5-9461-d9ca4483f3c6",
        "id": "BOS0msEwu3p3"
      },
      "execution_count": 85,
      "outputs": [
        {
          "output_type": "execute_result",
          "data": {
            "text/plain": [
              "(19, 21)"
            ]
          },
          "metadata": {},
          "execution_count": 85
        }
      ]
    },
    {
      "cell_type": "code",
      "source": [
        "linhas_total_onehot_treino    = tf.one_hot(df_treino['total'], depth=total_linhas_98)\n",
        "linhas_total_onehot_validacao = tf.one_hot(df_validacao['total'], depth=total_linhas_98)\n",
        "linhas_total_onehot_teste     = tf.one_hot(df_teste['total'], depth=total_linhas_98)"
      ],
      "metadata": {
        "id": "GX3XEe-dr6aZ"
      },
      "execution_count": 86,
      "outputs": []
    },
    {
      "cell_type": "code",
      "source": [
        "linhas_total_onehot_treino"
      ],
      "metadata": {
        "colab": {
          "base_uri": "https://localhost:8080/"
        },
        "id": "9AhUd9zhxaur",
        "outputId": "beee5358-33a6-49a1-b318-f2cdf9cfffdd"
      },
      "execution_count": 87,
      "outputs": [
        {
          "output_type": "execute_result",
          "data": {
            "text/plain": [
              "<tf.Tensor: shape=(180040, 21), dtype=float32, numpy=\n",
              "array([[0., 0., 0., ..., 0., 0., 0.],\n",
              "       [0., 0., 0., ..., 0., 0., 0.],\n",
              "       [0., 0., 0., ..., 0., 0., 0.],\n",
              "       ...,\n",
              "       [0., 0., 0., ..., 0., 0., 0.],\n",
              "       [0., 0., 0., ..., 0., 0., 0.],\n",
              "       [0., 0., 0., ..., 0., 0., 0.]], dtype=float32)>"
            ]
          },
          "metadata": {},
          "execution_count": 87
        }
      ]
    },
    {
      "cell_type": "markdown",
      "source": [
        "### Criação de datasets híbridos com dados das linhas"
      ],
      "metadata": {
        "id": "Er0pYMaFeNSw"
      }
    },
    {
      "cell_type": "code",
      "source": [
        "# Dataset treino\n",
        "dados_hibridos_linhas_treino_textos  = Dataset.from_tensor_slices((df_treino['texto'],\n",
        "                                                                   lista_caracteres_treino,\n",
        "                                                                   linhas_numero_onehot_treino,\n",
        "                                                                   linhas_total_onehot_treino))\n",
        "dados_hibridos_linhas_treino_rotulos = Dataset.from_tensor_slices(rotulos_onehot_treino)\n",
        "dados_hibridos_linhas_treino         = Dataset.zip((dados_hibridos_linhas_treino_textos, dados_hibridos_linhas_treino_rotulos))"
      ],
      "metadata": {
        "id": "0TB4A2WMeaOu"
      },
      "execution_count": 88,
      "outputs": []
    },
    {
      "cell_type": "code",
      "source": [
        "dados_hibridos_linhas_treino"
      ],
      "metadata": {
        "colab": {
          "base_uri": "https://localhost:8080/"
        },
        "id": "l3PLHQ76eaOv",
        "outputId": "b812c362-6587-4998-8079-b7c404754905"
      },
      "execution_count": 89,
      "outputs": [
        {
          "output_type": "execute_result",
          "data": {
            "text/plain": [
              "<ZipDataset element_spec=((TensorSpec(shape=(), dtype=tf.string, name=None), TensorSpec(shape=(), dtype=tf.string, name=None), TensorSpec(shape=(15,), dtype=tf.float32, name=None), TensorSpec(shape=(21,), dtype=tf.float32, name=None)), TensorSpec(shape=(5,), dtype=tf.float64, name=None))>"
            ]
          },
          "metadata": {},
          "execution_count": 89
        }
      ]
    },
    {
      "cell_type": "code",
      "source": [
        "# Dataset validação\n",
        "dados_hibridos_linhas_validacao_textos  = Dataset.from_tensor_slices((df_validacao['texto'],\n",
        "                                                                      lista_caracteres_validacao,\n",
        "                                                                      linhas_numero_onehot_validacao,\n",
        "                                                                      linhas_total_onehot_validacao))\n",
        "dados_hibridos_linhas_validacao_rotulos = Dataset.from_tensor_slices(rotulos_onehot_validacao)\n",
        "dados_hibridos_linhas_validacao         = Dataset.zip((dados_hibridos_linhas_validacao_textos, dados_hibridos_linhas_validacao_rotulos))"
      ],
      "metadata": {
        "id": "tMP1rbaZeaOv"
      },
      "execution_count": 90,
      "outputs": []
    },
    {
      "cell_type": "code",
      "source": [
        "dados_hibridos_linhas_validacao"
      ],
      "metadata": {
        "colab": {
          "base_uri": "https://localhost:8080/"
        },
        "id": "JMJlWBRqeaOv",
        "outputId": "85445c77-73d4-4bc8-f9a8-ce683236a417"
      },
      "execution_count": 91,
      "outputs": [
        {
          "output_type": "execute_result",
          "data": {
            "text/plain": [
              "<ZipDataset element_spec=((TensorSpec(shape=(), dtype=tf.string, name=None), TensorSpec(shape=(), dtype=tf.string, name=None), TensorSpec(shape=(15,), dtype=tf.float32, name=None), TensorSpec(shape=(21,), dtype=tf.float32, name=None)), TensorSpec(shape=(5,), dtype=tf.float64, name=None))>"
            ]
          },
          "metadata": {},
          "execution_count": 91
        }
      ]
    },
    {
      "cell_type": "code",
      "source": [
        "# Pré-buscas\n",
        "dados_hibridos_linhas_treino    = dados_hibridos_linhas_treino.batch(LOTE_TAMANHO).prefetch(AUTOTUNE)\n",
        "dados_hibridos_linhas_validacao = dados_hibridos_linhas_validacao.batch(LOTE_TAMANHO).prefetch(AUTOTUNE)"
      ],
      "metadata": {
        "id": "nYb9cMieeaOv"
      },
      "execution_count": 92,
      "outputs": []
    },
    {
      "cell_type": "code",
      "source": [
        "dados_hibridos_linhas_treino, dados_hibridos_linhas_validacao"
      ],
      "metadata": {
        "colab": {
          "base_uri": "https://localhost:8080/"
        },
        "id": "n9kWaG8PeaOv",
        "outputId": "29effdb0-476a-4c75-ab51-85b8497ef47c"
      },
      "execution_count": 93,
      "outputs": [
        {
          "output_type": "execute_result",
          "data": {
            "text/plain": [
              "(<PrefetchDataset element_spec=((TensorSpec(shape=(None,), dtype=tf.string, name=None), TensorSpec(shape=(None,), dtype=tf.string, name=None), TensorSpec(shape=(None, 15), dtype=tf.float32, name=None), TensorSpec(shape=(None, 21), dtype=tf.float32, name=None)), TensorSpec(shape=(None, 5), dtype=tf.float64, name=None))>,\n",
              " <PrefetchDataset element_spec=((TensorSpec(shape=(None,), dtype=tf.string, name=None), TensorSpec(shape=(None,), dtype=tf.string, name=None), TensorSpec(shape=(None, 15), dtype=tf.float32, name=None), TensorSpec(shape=(None, 21), dtype=tf.float32, name=None)), TensorSpec(shape=(None, 5), dtype=tf.float64, name=None))>)"
            ]
          },
          "metadata": {},
          "execution_count": 93
        }
      ]
    },
    {
      "cell_type": "markdown",
      "source": [
        "### Modelo 5: Camada de otimização da sequência dos rótulos"
      ],
      "metadata": {
        "id": "lkpNncYTZ-EY"
      }
    },
    {
      "cell_type": "markdown",
      "source": [
        "1. Criar um modelo com incorporação de palavras;\n",
        "2. Criar um modelo com incorporação de caracteres;\n",
        "3. Criar um modelo para o número de linhas;\n",
        "4. Criar um modelo para o total de linhas;\n",
        "5. Combinar os modelos dos itens 1 e 2;\n",
        "6. Combinar os modelos dos itens 3, 4 e 5;\n",
        "7. Construir camadas de saída;\n",
        "8. Construir o modelo."
      ],
      "metadata": {
        "id": "UhHroNiqyeP3"
      }
    },
    {
      "cell_type": "markdown",
      "source": [
        "#### Modelo com incorporação de palavras"
      ],
      "metadata": {
        "id": "nqBgr8JO1GwQ"
      }
    },
    {
      "cell_type": "code",
      "source": [
        "modelo_nome = 'modelo_incorporacao_palavras'\n",
        "\n",
        "entradas = Input(shape=[], dtype=ENTRADA_TIPO, name='camada_entrada_palavras')\n",
        "\n",
        "incorporador_use = hub.KerasLayer(handle='https://tfhub.dev/google/universal-sentence-encoder/4',\n",
        "                                  trainable=False,\n",
        "                                  name='incorporador_use')(entradas)\n",
        "\n",
        "saidas = Dense(LIMITE_INCORPORADOR, activation=ATIVACAO_CNN, name='camada_relu_palavras')(incorporador_use)\n",
        "\n",
        "modelo_incorporacao_palavras = Model(inputs=entradas, outputs=saidas, name=modelo_nome)"
      ],
      "metadata": {
        "id": "PUEkkUvG1GwQ"
      },
      "execution_count": 94,
      "outputs": []
    },
    {
      "cell_type": "markdown",
      "source": [
        "#### Modelo com incorporação de caracteres"
      ],
      "metadata": {
        "id": "YggWbgD_1GwR"
      }
    },
    {
      "cell_type": "code",
      "source": [
        "modelo_nome = 'modelo_incorporacao_caracteres'\n",
        "\n",
        "entradas = Input(shape=ENTRADA_FORMATO, dtype=ENTRADA_TIPO, name='camada_entrada_caracteres')\n",
        "\n",
        "camadas = vetorizador_caracteres(entradas)\n",
        "camadas = incorporador_caracteres(camadas)\n",
        "\n",
        "saidas = Bidirectional(layer=LSTM(units=LIMITE_INCORPORADOR_CARACTERES, activation=ATIVACAO_RNN), name='camada_bi_lstm_caracteres')(camadas)\n",
        "\n",
        "modelo_incorporacao_caracteres = Model(inputs=entradas, outputs=saidas, name=modelo_nome)"
      ],
      "metadata": {
        "id": "yQPddG291GwR"
      },
      "execution_count": 95,
      "outputs": []
    },
    {
      "cell_type": "markdown",
      "source": [
        "#### Combinação dos modelos de incorporação"
      ],
      "metadata": {
        "id": "DBmp9kEc2KGN"
      }
    },
    {
      "cell_type": "code",
      "source": [
        "combinacao_incorporacao = Concatenate(name=\"camada_combinacao_incorporacao\")([modelo_incorporacao_palavras.output,\n",
        "                                                                              modelo_incorporacao_caracteres.output])"
      ],
      "metadata": {
        "id": "kgVE8BeU2KGN"
      },
      "execution_count": 96,
      "outputs": []
    },
    {
      "cell_type": "markdown",
      "source": [
        "#### Camadas de abandono"
      ],
      "metadata": {
        "id": "hcZr64H9703q"
      }
    },
    {
      "cell_type": "code",
      "source": [
        "abandonos_incorporacao = Dense(LIMITE_VETOR_TEXTO * 2, activation=ATIVACAO_CNN, name='camada_abandonos_incorporacao_relu')(combinacao_incorporacao)\n",
        "abandonos_incorporacao = Dropout(rate=0.5, name='camada_abandonos_incorporacao')(abandonos_incorporacao)"
      ],
      "metadata": {
        "id": "xUvZpcjR72Qp"
      },
      "execution_count": 97,
      "outputs": []
    },
    {
      "cell_type": "markdown",
      "source": [
        "#### Modelo para o número de linhas"
      ],
      "metadata": {
        "id": "V3QJkRbA1bYr"
      }
    },
    {
      "cell_type": "code",
      "source": [
        "modelo_nome = 'modelo_numero_linhas'\n",
        "\n",
        "entradas = Input(shape=(numero_linha_98,), dtype=linhas_numero_onehot_treino.dtype, name='camada_entrada_numero_linhas')\n",
        "\n",
        "saidas = Dense(numero_linha_98 * 2, activation=ATIVACAO_CNN, name='camada_relu_numero_linhas')(entradas)\n",
        "\n",
        "modelo_numero_linhas = Model(inputs=entradas, outputs=saidas, name=modelo_nome)"
      ],
      "metadata": {
        "id": "oBav4KCW1it6"
      },
      "execution_count": 98,
      "outputs": []
    },
    {
      "cell_type": "markdown",
      "source": [
        "#### Modelo para o total de linhas"
      ],
      "metadata": {
        "id": "Eggj4sYE1fkr"
      }
    },
    {
      "cell_type": "code",
      "source": [
        "modelo_nome = 'modelo_total_linhas'\n",
        "\n",
        "entradas = Input(shape=(total_linhas_98,), dtype=linhas_total_onehot_treino.dtype, name='camada_entrada_total_linhas')\n",
        "\n",
        "saidas = Dense(total_linhas_98 * 2, activation=ATIVACAO_CNN, name='camada_relu_total_linhas')(entradas)\n",
        "\n",
        "modelo_total_linhas = Model(inputs=entradas, outputs=saidas, name=modelo_nome)"
      ],
      "metadata": {
        "id": "LdlgHcRG1h9D"
      },
      "execution_count": 99,
      "outputs": []
    },
    {
      "cell_type": "markdown",
      "source": [
        "#### Combinação dos modelos de incorporação e linhas"
      ],
      "metadata": {
        "id": "AcRyAphB1GwR"
      }
    },
    {
      "cell_type": "code",
      "source": [
        "combinacao_linhas = Concatenate(name=\"camada_combinacao_linhas\")([abandonos_incorporacao,\n",
        "                                                                  modelo_numero_linhas.output,\n",
        "                                                                  modelo_total_linhas.output])"
      ],
      "metadata": {
        "id": "sVXgW62r1GwR"
      },
      "execution_count": 100,
      "outputs": []
    },
    {
      "cell_type": "markdown",
      "source": [
        "#### Camadas de abandono e saída"
      ],
      "metadata": {
        "id": "otNMlC-C1GwR"
      }
    },
    {
      "cell_type": "code",
      "source": [
        "abandonos_linhas = Dense(LIMITE_VETOR_TEXTO * 2, activation=ATIVACAO_CNN, name='camada_abandonos_linhas_relu')(combinacao_linhas)\n",
        "abandonos_linhas = Dropout(rate=0.5, name='camada_abandonos_linhas')(abandonos_linhas)\n",
        "\n",
        "saidas = Dense(len(classes), activation=ATIVACAO_SAIDA, name='camada_saida')(abandonos_linhas)"
      ],
      "metadata": {
        "id": "Laz3vRkw1GwR"
      },
      "execution_count": 101,
      "outputs": []
    },
    {
      "cell_type": "markdown",
      "source": [
        "#### Modelo com incorporação híbrida e linhas"
      ],
      "metadata": {
        "id": "V534sJFN1GwR"
      }
    },
    {
      "cell_type": "code",
      "source": [
        "modelo_nome = 'modelo_5_incorporacao_hibrida_linhas'\n",
        "\n",
        "modelo = Model(inputs=[modelo_incorporacao_palavras.input,\n",
        "                       modelo_incorporacao_caracteres.input,\n",
        "                       modelo_numero_linhas.input,\n",
        "                       modelo_total_linhas.input],\n",
        "               outputs=saidas,\n",
        "               name=modelo_nome)"
      ],
      "metadata": {
        "id": "vTPCFsNV1GwR"
      },
      "execution_count": 102,
      "outputs": []
    },
    {
      "cell_type": "markdown",
      "source": [
        "#### Verificação do modelo"
      ],
      "metadata": {
        "id": "fqsVegs81GwS"
      }
    },
    {
      "cell_type": "code",
      "source": [
        "# modelo.summary()"
      ],
      "metadata": {
        "id": "juCHvx5y1GwS"
      },
      "execution_count": 103,
      "outputs": []
    },
    {
      "cell_type": "code",
      "source": [
        "# plot_model(modelo, show_shapes=True)"
      ],
      "metadata": {
        "id": "f9XKvJ061GwS"
      },
      "execution_count": 104,
      "outputs": []
    },
    {
      "cell_type": "markdown",
      "source": [
        "#### Suavização de rótulo"
      ],
      "metadata": {
        "id": "kvaaKxJegcMy"
      }
    },
    {
      "cell_type": "markdown",
      "source": [
        "Mais informações: https://www.pyimagesearch.com/2019/12/30/label-smoothing-with-keras-tensorflow-and-deep-learning/"
      ],
      "metadata": {
        "id": "6EaBjX2Gghoc"
      }
    },
    {
      "cell_type": "code",
      "source": [
        "modelo.compile(loss=tf.keras.losses.CategoricalCrossentropy(label_smoothing=0.2),  # 20% de suavização\n",
        "               optimizer=Adam(learning_rate=APRENDIZADO),\n",
        "               metrics=METRICAS)"
      ],
      "metadata": {
        "id": "OgEY8WBNgpD9"
      },
      "execution_count": 105,
      "outputs": []
    },
    {
      "cell_type": "markdown",
      "source": [
        "#### Finalização do modelo"
      ],
      "metadata": {
        "id": "HScHZLhE1GwS"
      }
    },
    {
      "cell_type": "code",
      "source": [
        "historico = modelo.fit(dados_hibridos_linhas_treino,\n",
        "                       epochs=ITERACOES,\n",
        "                    #    validation_data=dados_hibridos_linhas_validacao,\n",
        "                       verbose=1)"
      ],
      "metadata": {
        "colab": {
          "base_uri": "https://localhost:8080/"
        },
        "outputId": "7fd5b3df-45ce-4d0f-8f87-47adbface931",
        "id": "jhrS1-1S1GwS"
      },
      "execution_count": 106,
      "outputs": [
        {
          "output_type": "stream",
          "name": "stdout",
          "text": [
            "Epoch 1/3\n",
            "5627/5627 [==============================] - 251s 43ms/step - loss: 0.9313 - accuracy: 0.8350\n",
            "Epoch 2/3\n",
            "5627/5627 [==============================] - 250s 44ms/step - loss: 0.8825 - accuracy: 0.8674\n",
            "Epoch 3/3\n",
            "5627/5627 [==============================] - 247s 44ms/step - loss: 0.8688 - accuracy: 0.8768\n"
          ]
        }
      ]
    },
    {
      "cell_type": "code",
      "source": [
        "# grafico_historico_por_iteracao(historico)"
      ],
      "metadata": {
        "id": "8KWVEDTy1GwS"
      },
      "execution_count": 107,
      "outputs": []
    },
    {
      "cell_type": "code",
      "source": [
        "probabilidades = modelo.predict(dados_hibridos_linhas_validacao)\n",
        "previsoes      = tf.argmax(probabilidades, axis=1)\n",
        "avaliacoes[5]  = avaliar_modelo(rotulos_int_validacao, previsoes, classes)"
      ],
      "metadata": {
        "colab": {
          "base_uri": "https://localhost:8080/",
          "height": 766
        },
        "outputId": "c63e048d-cacb-4a5f-cf61-bea84848f91d",
        "id": "3qKSZyL31GwS"
      },
      "execution_count": 108,
      "outputs": [
        {
          "output_type": "stream",
          "name": "stdout",
          "text": [
            "945/945 [==============================] - 23s 22ms/step\n",
            "              precision    recall  f1-score   support\n",
            "\n",
            "  BACKGROUND       0.71      0.88      0.78      3449\n",
            " CONCLUSIONS       0.93      0.87      0.90      4582\n",
            "     METHODS       0.91      0.92      0.92      9964\n",
            "   OBJECTIVE       0.84      0.49      0.62      2376\n",
            "     RESULTS       0.89      0.92      0.90      9841\n",
            "\n",
            "    accuracy                           0.87     30212\n",
            "   macro avg       0.86      0.82      0.82     30212\n",
            "weighted avg       0.88      0.87      0.87     30212\n",
            "\n"
          ]
        },
        {
          "output_type": "display_data",
          "data": {
            "text/plain": [
              "<Figure size 800x500 with 2 Axes>"
            ],
            "image/png": "[encoded data removed]"
          },
          "metadata": {}
        }
      ]
    },
    {
      "cell_type": "code",
      "source": [
        "avaliacoes[5]"
      ],
      "metadata": {
        "colab": {
          "base_uri": "https://localhost:8080/"
        },
        "outputId": "68951cc8-94e4-4e31-ca0e-2fb00afe84b2",
        "id": "Ne3OA4Qf1GwT"
      },
      "execution_count": 109,
      "outputs": [
        {
          "output_type": "execute_result",
          "data": {
            "text/plain": [
              "{'acuracia': 0.8746524559777572,\n",
              " 'precisao': 0.87829371162189,\n",
              " 'revocacao': 0.8746524559777572,\n",
              " 'pontuacao-f1': 0.8715714588514581}"
            ]
          },
          "metadata": {},
          "execution_count": 109
        }
      ]
    },
    {
      "cell_type": "markdown",
      "source": [
        "## Comparação de modelos"
      ],
      "metadata": {
        "id": "CJaHEyWb1HSj"
      }
    },
    {
      "cell_type": "code",
      "source": [
        "comparacao = pd.DataFrame(avaliacoes)\n",
        "comparacao = comparacao.reset_index().melt(id_vars='index').rename(columns=str.title)"
      ],
      "metadata": {
        "id": "0PxQ0STCu1-K"
      },
      "execution_count": 110,
      "outputs": []
    },
    {
      "cell_type": "code",
      "source": [
        "sns.barplot(data=comparacao, x='Index', y='Value', hue='Variable', palette='summer_r')\n",
        "\n",
        "plt.ylim(0.60, 0.90)\n",
        "\n",
        "plt.title('Medidas de avaliação dos modelos')\n",
        "plt.xlabel('Modelo')\n",
        "plt.ylabel('Valor')\n",
        "\n",
        "plt.legend(loc=(1.03, 0.76));"
      ],
      "metadata": {
        "colab": {
          "base_uri": "https://localhost:8080/",
          "height": 473
        },
        "id": "_1hTtBITvUky",
        "outputId": "1fd8934a-f6aa-4187-82f1-b952cd8a0305"
      },
      "execution_count": 111,
      "outputs": [
        {
          "output_type": "display_data",
          "data": {
            "text/plain": [
              "<Figure size 800x500 with 1 Axes>"
            ],
            "image/png": "[encoded data removed]"
          },
          "metadata": {}
        }
      ]
    },
    {
      "cell_type": "code",
      "source": [
        "comparacao_f1 = pd.DataFrame([a['pontuacao-f1'] for a in avaliacoes]).T\n",
        "\n",
        "sns.barplot(data=comparacao_f1, color=COR)\n",
        "\n",
        "plt.ylim(0.60, 0.90)\n",
        "\n",
        "plt.title('Pontuação-F1')\n",
        "plt.xlabel('Modelo')\n",
        "plt.ylabel('');"
      ],
      "metadata": {
        "colab": {
          "base_uri": "https://localhost:8080/",
          "height": 473
        },
        "id": "SEfGE99avqXC",
        "outputId": "28b2f30d-4d25-47a7-ac82-5cf161722903"
      },
      "execution_count": 113,
      "outputs": [
        {
          "output_type": "display_data",
          "data": {
            "text/plain": [
              "<Figure size 800x500 with 1 Axes>"
            ],
            "image/png": "[encoded data removed]"
          },
          "metadata": {}
        }
      ]
    },
    {
      "cell_type": "code",
      "source": [],
      "metadata": {
        "id": "90hWnuIMx3_7"
      },
      "execution_count": 112,
      "outputs": []
    }
  ]
}