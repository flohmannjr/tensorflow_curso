{
  "nbformat": 4,
  "nbformat_minor": 0,
  "metadata": {
    "colab": {
      "provenance": [],
      "toc_visible": true,
      "authorship_tag": "ABX9TyPk8R//NBxEeDIsrGEnTGaX",
      "include_colab_link": true
    },
    "kernelspec": {
      "name": "python3",
      "display_name": "Python 3"
    },
    "language_info": {
      "name": "python"
    }
  },
  "cells": [
    {
      "cell_type": "markdown",
      "metadata": {
        "id": "view-in-github",
        "colab_type": "text"
      },
      "source": [
        "<a href=\"https://colab.research.google.com/github/flohmannjr/tensorflow_curso/blob/main/TensorFlow_MP2_SkimLit.ipynb\" target=\"_parent\"><img src=\"https://colab.research.google.com/assets/colab-badge.svg\" alt=\"Open In Colab\"/></a>"
      ]
    },
    {
      "cell_type": "markdown",
      "source": [
        "# TensorFlow Milestone Project: SkimLit\n",
        "\n",
        "PubMed 200k RCT: https://arxiv.org/abs/1710.06071"
      ],
      "metadata": {
        "id": "G-cwRZOT6Vee"
      }
    },
    {
      "cell_type": "code",
      "source": [
        "import tensorflow as tf\n",
        "\n",
        "import numpy as np\n",
        "import pandas as pd\n",
        "import matplotlib.pyplot as plt\n",
        "import seaborn as sns\n",
        "\n",
        "import re\n",
        "\n",
        "from sklearn.feature_extraction.text import TfidfVectorizer\n",
        "from sklearn.metrics import classification_report\n",
        "from sklearn.naive_bayes import MultinomialNB\n",
        "from sklearn.pipeline import Pipeline\n",
        "from sklearn.preprocessing import LabelEncoder, OneHotEncoder"
      ],
      "metadata": {
        "id": "ND6yUaUk6kOK"
      },
      "execution_count": 1,
      "outputs": []
    },
    {
      "cell_type": "markdown",
      "source": [
        "## Setup"
      ],
      "metadata": {
        "id": "bYIefgtjOAGl"
      }
    },
    {
      "cell_type": "code",
      "source": [
        "pd.set_option('display.max_colwidth', None)\n",
        "\n",
        "plt.rcParams['figure.figsize'] = [8, 5]\n",
        "plt.rcParams['figure.dpi'] = 100\n",
        "plt.style.use('seaborn-darkgrid')"
      ],
      "metadata": {
        "id": "T_u3SG7QOCXV"
      },
      "execution_count": 2,
      "outputs": []
    },
    {
      "cell_type": "markdown",
      "source": [
        "### Constantes"
      ],
      "metadata": {
        "id": "Uy_Tv0JkpVxy"
      }
    },
    {
      "cell_type": "code",
      "source": [
        "SEMENTE = 2008193\n",
        "\n",
        "DIRETORIO_20K = '/content/pubmed-rct/PubMed_20k_RCT_numbers_replaced_with_at_sign'\n",
        "DIRETORIO_200K = '/content/pubmed-rct/PubMed_200k_RCT_numbers_replaced_with_at_sign'\n",
        "\n",
        "ENTRADA_FORMATO = (1,)\n",
        "ENTRADA_TIPO = tf.string\n",
        "\n",
        "ATIVACAO_CNN = 'relu'\n",
        "ATIVACAO_RNN = 'tanh'\n",
        "ATIVACAO_SAIDA = 'sigmoid'\n",
        "\n",
        "FILTROS = 32\n",
        "NUCLEO_TAMANHO = 32\n",
        "PREENCHIMENTO = 'same'\n",
        "\n",
        "PERDA = 'binary_crossentropy'\n",
        "APRENDIZADO = 0.001\n",
        "METRICAS = ['accuracy']\n",
        "\n",
        "ITERACOES = 5"
      ],
      "metadata": {
        "id": "Z-1CGl0S2DiU"
      },
      "execution_count": 3,
      "outputs": []
    },
    {
      "cell_type": "markdown",
      "source": [
        "### Funções"
      ],
      "metadata": {
        "id": "nVZAWLhD1mhS"
      }
    },
    {
      "cell_type": "code",
      "source": [
        "!wget https://raw.githubusercontent.com/flohmannjr/tensorflow_curso/main/funcoes.py"
      ],
      "metadata": {
        "colab": {
          "base_uri": "https://localhost:8080/"
        },
        "id": "FYXVOXEYBFVR",
        "outputId": "ac35c5ec-ccb6-49e2-86c2-12530d630e79"
      },
      "execution_count": 50,
      "outputs": [
        {
          "output_type": "stream",
          "name": "stdout",
          "text": [
            "--2023-01-30 01:03:48--  https://raw.githubusercontent.com/flohmannjr/tensorflow_curso/main/funcoes.py\n",
            "Resolving raw.githubusercontent.com (raw.githubusercontent.com)... 185.199.108.133, 185.199.109.133, 185.199.110.133, ...\n",
            "Connecting to raw.githubusercontent.com (raw.githubusercontent.com)|185.199.108.133|:443... connected.\n",
            "HTTP request sent, awaiting response... 200 OK\n",
            "Length: 5909 (5.8K) [text/plain]\n",
            "Saving to: ‘funcoes.py’\n",
            "\n",
            "\rfuncoes.py            0%[                    ]       0  --.-KB/s               \rfuncoes.py          100%[===================>]   5.77K  --.-KB/s    in 0s      \n",
            "\n",
            "2023-01-30 01:03:48 (39.3 MB/s) - ‘funcoes.py’ saved [5909/5909]\n",
            "\n"
          ]
        }
      ]
    },
    {
      "cell_type": "code",
      "source": [
        "from funcoes import avaliar_modelo"
      ],
      "metadata": {
        "id": "mGECR6zZBKnd"
      },
      "execution_count": 51,
      "outputs": []
    },
    {
      "cell_type": "code",
      "source": [
        "def preprocessar_texto(arquivo):\n",
        "    \"\"\"\n",
        "    Retorna uma lista de dicionários com o conteúdo das linhas do arquivo informado.\n",
        "\n",
        "    Cada dicionário contém o código do resumo, o total de linhas, o número, a classe e o texto da linha.\n",
        "    {codigo, total, numero, classe, texto}\n",
        "    \"\"\"\n",
        "\n",
        "    with open(arquivo, 'r') as a: linhas_arquivo = a.readlines()\n",
        "    linhas = ''  # Linhas do texto\n",
        "    saida = []   # Lista de dicionários\n",
        "\n",
        "    for linha in linhas_arquivo:\n",
        "        if linha.startswith('###'):            # Verifica se a linha inicia com '###'.\n",
        "            codigo = re.sub('\\D+', '', linha)  # Extrai o código do resumo.\n",
        "            linhas = ''                        # Limpa as linhas de texto.\n",
        "        \n",
        "        elif linha.isspace():                       # Verifica se a linha é vazia.\n",
        "            linhas_separadas = linhas.splitlines()  # Separa linhas de texto.\n",
        "\n",
        "            for linha_numero, linha_completa in enumerate(linhas_separadas):  # Itera sobre cada uma das linhas de texto.\n",
        "                linha_dados = {}                                              # Dicionário com os dados da linha.\n",
        "                linha_conteudo = linha_completa.split('\\t')                   # Separa classe e texto.\n",
        "\n",
        "                linha_dados['codigo'] = codigo                    # Código do resumo.\n",
        "                linha_dados['total'] = len(linhas_separadas)      # Total de linhas.\n",
        "                linha_dados['numero'] = linha_numero              # Número da linha.\n",
        "                linha_dados['classe'] = linha_conteudo[0]         # Classe da linha.\n",
        "                linha_dados['texto'] = linha_conteudo[1].lower()  # Texto da linha, em caixa baixa.\n",
        "\n",
        "                saida.append(linha_dados)  # Acrescenta o dicionário à lista.\n",
        "\n",
        "        else:\n",
        "            linhas += linha  # Acrescenta a linha atual às linhas de texto.\n",
        "\n",
        "    return saida"
      ],
      "metadata": {
        "id": "Fc3LGM4_1peB"
      },
      "execution_count": 6,
      "outputs": []
    },
    {
      "cell_type": "markdown",
      "source": [
        "## Dados"
      ],
      "metadata": {
        "id": "nLfeMWwru_9I"
      }
    },
    {
      "cell_type": "code",
      "source": [
        "!git clone https://github.com/Franck-Dernoncourt/pubmed-rct.git"
      ],
      "metadata": {
        "colab": {
          "base_uri": "https://localhost:8080/"
        },
        "id": "HSS_zH7py6b8",
        "outputId": "bcc99a0f-d680-4d43-f48d-c827a64d9bda"
      },
      "execution_count": 7,
      "outputs": [
        {
          "output_type": "stream",
          "name": "stdout",
          "text": [
            "Cloning into 'pubmed-rct'...\n",
            "remote: Enumerating objects: 33, done.\u001b[K\n",
            "remote: Counting objects: 100% (8/8), done.\u001b[K\n",
            "remote: Compressing objects: 100% (3/3), done.\u001b[K\n",
            "remote: Total 33 (delta 5), reused 5 (delta 5), pack-reused 25\u001b[K\n",
            "Unpacking objects: 100% (33/33), 177.08 MiB | 6.39 MiB/s, done.\n",
            "Updating files: 100% (13/13), done.\n"
          ]
        }
      ]
    },
    {
      "cell_type": "markdown",
      "source": [
        "### Pré-processamento"
      ],
      "metadata": {
        "id": "4rHNd8yc1a2Z"
      }
    },
    {
      "cell_type": "code",
      "source": [
        "linhas_treino    = preprocessar_texto(f'{DIRETORIO_20K}/train.txt')  # Dados de treino\n",
        "linhas_validacao = preprocessar_texto(f'{DIRETORIO_20K}/dev.txt')    # Dados de validação\n",
        "linhas_teste     = preprocessar_texto(f'{DIRETORIO_20K}/test.txt')   # Dados de teste"
      ],
      "metadata": {
        "id": "vZHFSSiv3MMZ"
      },
      "execution_count": 8,
      "outputs": []
    },
    {
      "cell_type": "code",
      "source": [
        "df_treino    = pd.DataFrame(linhas_treino)\n",
        "df_validacao = pd.DataFrame(linhas_validacao)\n",
        "df_teste     = pd.DataFrame(linhas_teste)"
      ],
      "metadata": {
        "id": "03f210ZBYHDE"
      },
      "execution_count": 9,
      "outputs": []
    },
    {
      "cell_type": "markdown",
      "source": [
        "### Verificação"
      ],
      "metadata": {
        "id": "gRV03ysP1iH-"
      }
    },
    {
      "cell_type": "code",
      "source": [
        "df_treino[:12]"
      ],
      "metadata": {
        "colab": {
          "base_uri": "https://localhost:8080/",
          "height": 539
        },
        "id": "4KkIE_9xZ-ny",
        "outputId": "2f3e464d-93e7-4e96-a9a2-6a69f181115d"
      },
      "execution_count": 10,
      "outputs": [
        {
          "output_type": "execute_result",
          "data": {
            "text/plain": [
              "      codigo  total  numero       classe  \\\n",
              "0   24293578     12       0    OBJECTIVE   \n",
              "1   24293578     12       1      METHODS   \n",
              "2   24293578     12       2      METHODS   \n",
              "3   24293578     12       3      METHODS   \n",
              "4   24293578     12       4      METHODS   \n",
              "5   24293578     12       5      METHODS   \n",
              "6   24293578     12       6      RESULTS   \n",
              "7   24293578     12       7      RESULTS   \n",
              "8   24293578     12       8      RESULTS   \n",
              "9   24293578     12       9      RESULTS   \n",
              "10  24293578     12      10      RESULTS   \n",
              "11  24293578     12      11  CONCLUSIONS   \n",
              "\n",
              "                                                                                                                                                                                                                                                                                        texto  \n",
              "0   to investigate the efficacy of @ weeks of daily low-dose oral prednisolone in improving pain , mobility , and systemic low-grade inflammation in the short term and whether the effect would be sustained at @ weeks in older adults with moderate to severe knee osteoarthritis ( oa ) .  \n",
              "1                                                                                                                                                   a total of @ patients with primary knee oa were randomized @:@ ; @ received @ mg/day of prednisolone and @ received placebo for @ weeks .  \n",
              "2                                                                                                                                                                             outcome measures included pain reduction and improvement in function scores and systemic inflammation markers .  \n",
              "3                                                                                                                                                                                                                           pain was assessed using the visual analog pain scale ( @-@ mm ) .  \n",
              "4                                                                           secondary outcome measures included the western ontario and mcmaster universities osteoarthritis index scores , patient global assessment ( pga ) of the severity of knee oa , and @-min walk distance ( @mwd ) .  \n",
              "5                                                                                                                                         serum levels of interleukin @ ( il-@ ) , il-@ , tumor necrosis factor ( tnf ) - , and high-sensitivity c-reactive protein ( hscrp ) were measured .  \n",
              "6                                                                                                                           there was a clinically relevant reduction in the intervention group compared to the placebo group for knee pain , physical function , pga , and @mwd at @ weeks .  \n",
              "7                                                                                                                        the mean difference between treatment arms ( @ % ci ) was @ ( @-@ @ ) , p < @ ; @ ( @-@ @ ) , p < @ ; @ ( @-@ @ ) , p < @ ; and @ ( @-@ @ ) , p < @ , respectively .  \n",
              "8                                                                                                        further , there was a clinically relevant reduction in the serum levels of il-@ , il-@ , tnf - , and hscrp at @ weeks in the intervention group when compared to the placebo group .  \n",
              "9                                                                                                                                                                                                                                         these differences remained significant at @ weeks .  \n",
              "10                                                                                               the outcome measures in rheumatology clinical trials-osteoarthritis research society international responder rate was @ % in the intervention group and @ % in the placebo group ( p < @ ) .  \n",
              "11                                   low-dose oral prednisolone had both a short-term and a longer sustained effect resulting in less knee pain , better physical function , and attenuation of systemic inflammation in older patients with knee oa ( clinicaltrials.gov identifier nct@ ) .  "
            ],
            "text/html": [
              "\n",
              "  <div id=\"df-4ca7d94a-d2b4-4444-b26c-ce082bd8722c\">\n",
              "    <div class=\"colab-df-container\">\n",
              "      <div>\n",
              "<style scoped>\n",
              "    .dataframe tbody tr th:only-of-type {\n",
              "        vertical-align: middle;\n",
              "    }\n",
              "\n",
              "    .dataframe tbody tr th {\n",
              "        vertical-align: top;\n",
              "    }\n",
              "\n",
              "    .dataframe thead th {\n",
              "        text-align: right;\n",
              "    }\n",
              "</style>\n",
              "<table border=\"1\" class=\"dataframe\">\n",
              "  <thead>\n",
              "    <tr style=\"text-align: right;\">\n",
              "      <th></th>\n",
              "      <th>codigo</th>\n",
              "      <th>total</th>\n",
              "      <th>numero</th>\n",
              "      <th>classe</th>\n",
              "      <th>texto</th>\n",
              "    </tr>\n",
              "  </thead>\n",
              "  <tbody>\n",
              "    <tr>\n",
              "      <th>0</th>\n",
              "      <td>24293578</td>\n",
              "      <td>12</td>\n",
              "      <td>0</td>\n",
              "      <td>OBJECTIVE</td>\n",
              "      <td>to investigate the efficacy of @ weeks of daily low-dose oral prednisolone in improving pain , mobility , and systemic low-grade inflammation in the short term and whether the effect would be sustained at @ weeks in older adults with moderate to severe knee osteoarthritis ( oa ) .</td>\n",
              "    </tr>\n",
              "    <tr>\n",
              "      <th>1</th>\n",
              "      <td>24293578</td>\n",
              "      <td>12</td>\n",
              "      <td>1</td>\n",
              "      <td>METHODS</td>\n",
              "      <td>a total of @ patients with primary knee oa were randomized @:@ ; @ received @ mg/day of prednisolone and @ received placebo for @ weeks .</td>\n",
              "    </tr>\n",
              "    <tr>\n",
              "      <th>2</th>\n",
              "      <td>24293578</td>\n",
              "      <td>12</td>\n",
              "      <td>2</td>\n",
              "      <td>METHODS</td>\n",
              "      <td>outcome measures included pain reduction and improvement in function scores and systemic inflammation markers .</td>\n",
              "    </tr>\n",
              "    <tr>\n",
              "      <th>3</th>\n",
              "      <td>24293578</td>\n",
              "      <td>12</td>\n",
              "      <td>3</td>\n",
              "      <td>METHODS</td>\n",
              "      <td>pain was assessed using the visual analog pain scale ( @-@ mm ) .</td>\n",
              "    </tr>\n",
              "    <tr>\n",
              "      <th>4</th>\n",
              "      <td>24293578</td>\n",
              "      <td>12</td>\n",
              "      <td>4</td>\n",
              "      <td>METHODS</td>\n",
              "      <td>secondary outcome measures included the western ontario and mcmaster universities osteoarthritis index scores , patient global assessment ( pga ) of the severity of knee oa , and @-min walk distance ( @mwd ) .</td>\n",
              "    </tr>\n",
              "    <tr>\n",
              "      <th>5</th>\n",
              "      <td>24293578</td>\n",
              "      <td>12</td>\n",
              "      <td>5</td>\n",
              "      <td>METHODS</td>\n",
              "      <td>serum levels of interleukin @ ( il-@ ) , il-@ , tumor necrosis factor ( tnf ) - , and high-sensitivity c-reactive protein ( hscrp ) were measured .</td>\n",
              "    </tr>\n",
              "    <tr>\n",
              "      <th>6</th>\n",
              "      <td>24293578</td>\n",
              "      <td>12</td>\n",
              "      <td>6</td>\n",
              "      <td>RESULTS</td>\n",
              "      <td>there was a clinically relevant reduction in the intervention group compared to the placebo group for knee pain , physical function , pga , and @mwd at @ weeks .</td>\n",
              "    </tr>\n",
              "    <tr>\n",
              "      <th>7</th>\n",
              "      <td>24293578</td>\n",
              "      <td>12</td>\n",
              "      <td>7</td>\n",
              "      <td>RESULTS</td>\n",
              "      <td>the mean difference between treatment arms ( @ % ci ) was @ ( @-@ @ ) , p &lt; @ ; @ ( @-@ @ ) , p &lt; @ ; @ ( @-@ @ ) , p &lt; @ ; and @ ( @-@ @ ) , p &lt; @ , respectively .</td>\n",
              "    </tr>\n",
              "    <tr>\n",
              "      <th>8</th>\n",
              "      <td>24293578</td>\n",
              "      <td>12</td>\n",
              "      <td>8</td>\n",
              "      <td>RESULTS</td>\n",
              "      <td>further , there was a clinically relevant reduction in the serum levels of il-@ , il-@ , tnf - , and hscrp at @ weeks in the intervention group when compared to the placebo group .</td>\n",
              "    </tr>\n",
              "    <tr>\n",
              "      <th>9</th>\n",
              "      <td>24293578</td>\n",
              "      <td>12</td>\n",
              "      <td>9</td>\n",
              "      <td>RESULTS</td>\n",
              "      <td>these differences remained significant at @ weeks .</td>\n",
              "    </tr>\n",
              "    <tr>\n",
              "      <th>10</th>\n",
              "      <td>24293578</td>\n",
              "      <td>12</td>\n",
              "      <td>10</td>\n",
              "      <td>RESULTS</td>\n",
              "      <td>the outcome measures in rheumatology clinical trials-osteoarthritis research society international responder rate was @ % in the intervention group and @ % in the placebo group ( p &lt; @ ) .</td>\n",
              "    </tr>\n",
              "    <tr>\n",
              "      <th>11</th>\n",
              "      <td>24293578</td>\n",
              "      <td>12</td>\n",
              "      <td>11</td>\n",
              "      <td>CONCLUSIONS</td>\n",
              "      <td>low-dose oral prednisolone had both a short-term and a longer sustained effect resulting in less knee pain , better physical function , and attenuation of systemic inflammation in older patients with knee oa ( clinicaltrials.gov identifier nct@ ) .</td>\n",
              "    </tr>\n",
              "  </tbody>\n",
              "</table>\n",
              "</div>\n",
              "      <button class=\"colab-df-convert\" onclick=\"convertToInteractive('df-4ca7d94a-d2b4-4444-b26c-ce082bd8722c')\"\n",
              "              title=\"Convert this dataframe to an interactive table.\"\n",
              "              style=\"display:none;\">\n",
              "        \n",
              "  <svg xmlns=\"http://www.w3.org/2000/svg\" height=\"24px\"viewBox=\"0 0 24 24\"\n",
              "       width=\"24px\">\n",
              "    <path d=\"M0 0h24v24H0V0z\" fill=\"none\"/>\n",
              "    <path d=\"M18.56 5.44l.94 2.06.94-2.06 2.06-.94-2.06-.94-.94-2.06-.94 2.06-2.06.94zm-11 1L8.5 8.5l.94-2.06 2.06-.94-2.06-.94L8.5 2.5l-.94 2.06-2.06.94zm10 10l.94 2.06.94-2.06 2.06-.94-2.06-.94-.94-2.06-.94 2.06-2.06.94z\"/><path d=\"M17.41 7.96l-1.37-1.37c-.4-.4-.92-.59-1.43-.59-.52 0-1.04.2-1.43.59L10.3 9.45l-7.72 7.72c-.78.78-.78 2.05 0 2.83L4 21.41c.39.39.9.59 1.41.59.51 0 1.02-.2 1.41-.59l7.78-7.78 2.81-2.81c.8-.78.8-2.07 0-2.86zM5.41 20L4 18.59l7.72-7.72 1.47 1.35L5.41 20z\"/>\n",
              "  </svg>\n",
              "      </button>\n",
              "      \n",
              "  <style>\n",
              "    .colab-df-container {\n",
              "      display:flex;\n",
              "      flex-wrap:wrap;\n",
              "      gap: 12px;\n",
              "    }\n",
              "\n",
              "    .colab-df-convert {\n",
              "      background-color: #E8F0FE;\n",
              "      border: none;\n",
              "      border-radius: 50%;\n",
              "      cursor: pointer;\n",
              "      display: none;\n",
              "      fill: #1967D2;\n",
              "      height: 32px;\n",
              "      padding: 0 0 0 0;\n",
              "      width: 32px;\n",
              "    }\n",
              "\n",
              "    .colab-df-convert:hover {\n",
              "      background-color: #E2EBFA;\n",
              "      box-shadow: 0px 1px 2px rgba(60, 64, 67, 0.3), 0px 1px 3px 1px rgba(60, 64, 67, 0.15);\n",
              "      fill: #174EA6;\n",
              "    }\n",
              "\n",
              "    [theme=dark] .colab-df-convert {\n",
              "      background-color: #3B4455;\n",
              "      fill: #D2E3FC;\n",
              "    }\n",
              "\n",
              "    [theme=dark] .colab-df-convert:hover {\n",
              "      background-color: #434B5C;\n",
              "      box-shadow: 0px 1px 3px 1px rgba(0, 0, 0, 0.15);\n",
              "      filter: drop-shadow(0px 1px 2px rgba(0, 0, 0, 0.3));\n",
              "      fill: #FFFFFF;\n",
              "    }\n",
              "  </style>\n",
              "\n",
              "      <script>\n",
              "        const buttonEl =\n",
              "          document.querySelector('#df-4ca7d94a-d2b4-4444-b26c-ce082bd8722c button.colab-df-convert');\n",
              "        buttonEl.style.display =\n",
              "          google.colab.kernel.accessAllowed ? 'block' : 'none';\n",
              "\n",
              "        async function convertToInteractive(key) {\n",
              "          const element = document.querySelector('#df-4ca7d94a-d2b4-4444-b26c-ce082bd8722c');\n",
              "          const dataTable =\n",
              "            await google.colab.kernel.invokeFunction('convertToInteractive',\n",
              "                                                     [key], {});\n",
              "          if (!dataTable) return;\n",
              "\n",
              "          const docLinkHtml = 'Like what you see? Visit the ' +\n",
              "            '<a target=\"_blank\" href=https://colab.research.google.com/notebooks/data_table.ipynb>data table notebook</a>'\n",
              "            + ' to learn more about interactive tables.';\n",
              "          element.innerHTML = '';\n",
              "          dataTable['output_type'] = 'display_data';\n",
              "          await google.colab.output.renderOutput(dataTable, element);\n",
              "          const docLink = document.createElement('div');\n",
              "          docLink.innerHTML = docLinkHtml;\n",
              "          element.appendChild(docLink);\n",
              "        }\n",
              "      </script>\n",
              "    </div>\n",
              "  </div>\n",
              "  "
            ]
          },
          "metadata": {},
          "execution_count": 10
        }
      ]
    },
    {
      "cell_type": "code",
      "source": [
        "df_treino['classe'].value_counts()"
      ],
      "metadata": {
        "colab": {
          "base_uri": "https://localhost:8080/"
        },
        "id": "DxCyKmEoaM7z",
        "outputId": "e691f6d0-01db-4e0e-db59-87e9c11f29ea"
      },
      "execution_count": 11,
      "outputs": [
        {
          "output_type": "execute_result",
          "data": {
            "text/plain": [
              "METHODS        59353\n",
              "RESULTS        57953\n",
              "CONCLUSIONS    27168\n",
              "BACKGROUND     21727\n",
              "OBJECTIVE      13839\n",
              "Name: classe, dtype: int64"
            ]
          },
          "metadata": {},
          "execution_count": 11
        }
      ]
    },
    {
      "cell_type": "code",
      "source": [
        "sns.histplot(data=df_treino, x='total', hue='classe', multiple=\"stack\", binwidth=3);"
      ],
      "metadata": {
        "colab": {
          "base_uri": "https://localhost:8080/",
          "height": 453
        },
        "id": "A56YZP5EcOA0",
        "outputId": "366e18c7-04e1-4984-e886-45e805383a07"
      },
      "execution_count": 12,
      "outputs": [
        {
          "output_type": "display_data",
          "data": {
            "text/plain": [
              "<Figure size 800x500 with 1 Axes>"
            ],
            "image/png": "[encoded data removed]"
          },
          "metadata": {}
        }
      ]
    },
    {
      "cell_type": "markdown",
      "source": [
        "### Rótulos numéricos"
      ],
      "metadata": {
        "id": "SaAEt9KddM8U"
      }
    },
    {
      "cell_type": "markdown",
      "source": [
        "#### One-hot"
      ],
      "metadata": {
        "id": "KrqrdjCW4XFm"
      }
    },
    {
      "cell_type": "code",
      "source": [
        "codificador_onehot = OneHotEncoder(sparse=False)\n",
        "\n",
        "rotulos_onehot_treino    = codificador_onehot.fit_transform(df_treino['classe'].to_numpy().reshape(-1, 1))\n",
        "rotulos_onehot_validacao = codificador_onehot.transform(df_validacao['classe'].to_numpy().reshape(-1, 1))\n",
        "rotulos_onehot_teste     = codificador_onehot.transform(df_teste['classe'].to_numpy().reshape(-1, 1))"
      ],
      "metadata": {
        "id": "j2mOlwRr1pr4"
      },
      "execution_count": 13,
      "outputs": []
    },
    {
      "cell_type": "code",
      "source": [
        "rotulos_onehot_treino"
      ],
      "metadata": {
        "colab": {
          "base_uri": "https://localhost:8080/"
        },
        "id": "zVisvpjt2vAQ",
        "outputId": "691d944e-3d09-4b5f-9aeb-c1a5cefb250c"
      },
      "execution_count": 14,
      "outputs": [
        {
          "output_type": "execute_result",
          "data": {
            "text/plain": [
              "array([[0., 0., 0., 1., 0.],\n",
              "       [0., 0., 1., 0., 0.],\n",
              "       [0., 0., 1., 0., 0.],\n",
              "       ...,\n",
              "       [0., 0., 0., 0., 1.],\n",
              "       [0., 1., 0., 0., 0.],\n",
              "       [0., 1., 0., 0., 0.]])"
            ]
          },
          "metadata": {},
          "execution_count": 14
        }
      ]
    },
    {
      "cell_type": "markdown",
      "source": [
        "#### Inteiros"
      ],
      "metadata": {
        "id": "mw90LPah2-83"
      }
    },
    {
      "cell_type": "code",
      "source": [
        "codificador_int = LabelEncoder()\n",
        "\n",
        "rotulos_int_treino    = codificador_int.fit_transform(df_treino['classe'].to_numpy())\n",
        "rotulos_int_validacao = codificador_int.transform(df_validacao['classe'].to_numpy())\n",
        "rotulos_int_teste     = codificador_int.transform(df_teste['classe'].to_numpy())"
      ],
      "metadata": {
        "id": "OsmgVFMn4iFB"
      },
      "execution_count": 15,
      "outputs": []
    },
    {
      "cell_type": "code",
      "source": [
        "rotulos_int_treino"
      ],
      "metadata": {
        "colab": {
          "base_uri": "https://localhost:8080/"
        },
        "outputId": "d0fb6c81-3010-4b9a-adad-483faca2fcec",
        "id": "KKPkj4XE4iFB"
      },
      "execution_count": 16,
      "outputs": [
        {
          "output_type": "execute_result",
          "data": {
            "text/plain": [
              "array([3, 2, 2, ..., 4, 1, 1])"
            ]
          },
          "metadata": {},
          "execution_count": 16
        }
      ]
    },
    {
      "cell_type": "code",
      "source": [
        "classes = codificador_int.classes_\n",
        "classes"
      ],
      "metadata": {
        "colab": {
          "base_uri": "https://localhost:8080/"
        },
        "id": "gH7wCQLS46lv",
        "outputId": "c4111171-5904-4e1b-dbc9-c7a31f08d0b0"
      },
      "execution_count": 17,
      "outputs": [
        {
          "output_type": "execute_result",
          "data": {
            "text/plain": [
              "array(['BACKGROUND', 'CONCLUSIONS', 'METHODS', 'OBJECTIVE', 'RESULTS'],\n",
              "      dtype=object)"
            ]
          },
          "metadata": {},
          "execution_count": 17
        }
      ]
    },
    {
      "cell_type": "markdown",
      "source": [
        "### Treino e teste"
      ],
      "metadata": {
        "id": "Gprweam89O8G"
      }
    },
    {
      "cell_type": "code",
      "source": [
        "X_train = df_treino['texto']\n",
        "y_train = rotulos_int_treino\n",
        "\n",
        "X_test = df_validacao['texto']\n",
        "y_test = rotulos_int_validacao"
      ],
      "metadata": {
        "id": "nEhNF1zL9RF3"
      },
      "execution_count": 18,
      "outputs": []
    },
    {
      "cell_type": "markdown",
      "source": [
        "## Modelos"
      ],
      "metadata": {
        "id": "sF-Hny925HTY"
      }
    },
    {
      "cell_type": "code",
      "source": [
        "modelos = [None] * 5"
      ],
      "metadata": {
        "id": "O7BwmdBR7R5n"
      },
      "execution_count": 19,
      "outputs": []
    },
    {
      "cell_type": "markdown",
      "source": [
        "### Modelo 0: TF-IDF Naive-Bayes"
      ],
      "metadata": {
        "id": "UX62Fknz7GgI"
      }
    },
    {
      "cell_type": "code",
      "source": [
        "modelos[0] = {}"
      ],
      "metadata": {
        "id": "ZndyNUIp-MCX"
      },
      "execution_count": 20,
      "outputs": []
    },
    {
      "cell_type": "code",
      "source": [
        "modelo = Pipeline([('tfidf', TfidfVectorizer()),\n",
        "                   ('clf', MultinomialNB())])\n",
        "\n",
        "modelo.fit(X_train, y_train)"
      ],
      "metadata": {
        "colab": {
          "base_uri": "https://localhost:8080/"
        },
        "id": "Hb0thwq57OEr",
        "outputId": "b3fa153d-7273-4fd5-d1b7-93f8fcd41b63"
      },
      "execution_count": 21,
      "outputs": [
        {
          "output_type": "execute_result",
          "data": {
            "text/plain": [
              "Pipeline(steps=[('tfidf', TfidfVectorizer()), ('clf', MultinomialNB())])"
            ]
          },
          "metadata": {},
          "execution_count": 21
        }
      ]
    },
    {
      "cell_type": "code",
      "source": [
        "y_pred = modelo.predict(X_test)"
      ],
      "metadata": {
        "id": "t9Eb1OST-YYg"
      },
      "execution_count": 22,
      "outputs": []
    },
    {
      "cell_type": "code",
      "source": [
        "porcentagens = np.zeros((y_pred.size, y_pred.max() + 1))\n",
        "porcentagens[np.arange(y_pred.size), y_pred] = 1"
      ],
      "metadata": {
        "id": "YWeMPo_lCMbz"
      },
      "execution_count": 23,
      "outputs": []
    },
    {
      "cell_type": "code",
      "source": [
        "avaliacao = avaliar_modelo(y_test, y_pred, classes)"
      ],
      "metadata": {
        "colab": {
          "base_uri": "https://localhost:8080/",
          "height": 748
        },
        "id": "AmCdCp_K-2OX",
        "outputId": "1b9ec630-e548-42f5-cd20-ae3c0c99b543"
      },
      "execution_count": 52,
      "outputs": [
        {
          "output_type": "stream",
          "name": "stdout",
          "text": [
            "              precision    recall  f1-score   support\n",
            "\n",
            "  BACKGROUND       0.66      0.49      0.56      3449\n",
            " CONCLUSIONS       0.65      0.59      0.61      4582\n",
            "     METHODS       0.72      0.87      0.79      9964\n",
            "   OBJECTIVE       0.75      0.14      0.23      2376\n",
            "     RESULTS       0.76      0.86      0.81      9841\n",
            "\n",
            "    accuracy                           0.72     30212\n",
            "   macro avg       0.71      0.59      0.60     30212\n",
            "weighted avg       0.72      0.72      0.70     30212\n",
            "\n"
          ]
        },
        {
          "output_type": "display_data",
          "data": {
            "text/plain": [
              "<Figure size 800x500 with 2 Axes>"
            ],
            "image/png": "[encoded data removed]"
          },
          "metadata": {}
        }
      ]
    },
    {
      "cell_type": "code",
      "source": [
        "avaliacao"
      ],
      "metadata": {
        "colab": {
          "base_uri": "https://localhost:8080/"
        },
        "id": "Fjjg8COn-89_",
        "outputId": "21bf9266-56b4-4bdd-c51c-5ee36dff372b"
      },
      "execution_count": 53,
      "outputs": [
        {
          "output_type": "execute_result",
          "data": {
            "text/plain": [
              "{'acuracia': 0.7218323844829869,\n",
              " 'precisao': 0.7186466952323352,\n",
              " 'revocacao': 0.7218323844829869,\n",
              " 'pontuacao-f1': 0.6989250353450294}"
            ]
          },
          "metadata": {},
          "execution_count": 53
        }
      ]
    },
    {
      "cell_type": "code",
      "source": [
        "modelos[0]['nome']         = 'Modelo 0'\n",
        "modelos[0]['modelo']       = modelo\n",
        "modelos[0]['historico']    = None\n",
        "modelos[0]['previsoes']    = y_pred\n",
        "modelos[0]['porcentagens'] = porcentagens\n",
        "modelos[0]['acuracia']     = avaliacao['acuracia']\n",
        "modelos[0]['precisao']     = avaliacao['precisao']\n",
        "modelos[0]['revocacao']    = avaliacao['revocacao']\n",
        "modelos[0]['pontuacao-f1'] = avaliacao['pontuacao-f1']"
      ],
      "metadata": {
        "id": "ehDoIgor-OfR"
      },
      "execution_count": 29,
      "outputs": []
    },
    {
      "cell_type": "code",
      "source": [],
      "metadata": {
        "id": "VRtW8n1x-PDW"
      },
      "execution_count": 29,
      "outputs": []
    }
  ]
}