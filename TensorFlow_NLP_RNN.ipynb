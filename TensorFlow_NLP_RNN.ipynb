{
  "nbformat": 4,
  "nbformat_minor": 0,
  "metadata": {
    "colab": {
      "provenance": [],
      "toc_visible": true,
      "authorship_tag": "ABX9TyMaUc9/aS404xCpE3TzXdsq",
      "include_colab_link": true
    },
    "kernelspec": {
      "name": "python3",
      "display_name": "Python 3"
    },
    "language_info": {
      "name": "python"
    },
    "gpuClass": "standard"
  },
  "cells": [
    {
      "cell_type": "markdown",
      "metadata": {
        "id": "view-in-github",
        "colab_type": "text"
      },
      "source": [
        "<a href=\"https://colab.research.google.com/github/flohmannjr/tensorflow_curso/blob/main/TensorFlow_NLP_RNN.ipynb\" target=\"_parent\"><img src=\"https://colab.research.google.com/assets/colab-badge.svg\" alt=\"Open In Colab\"/></a>"
      ]
    },
    {
      "cell_type": "markdown",
      "source": [
        "# TensorFlow Natural Language Processing"
      ],
      "metadata": {
        "id": "dT_z5biDpDhn"
      }
    },
    {
      "cell_type": "code",
      "source": [
        "import tensorflow as tf\n",
        "\n",
        "import pandas as pd\n",
        "import matplotlib.pyplot as plt\n",
        "import seaborn as sns\n",
        "\n",
        "import random\n",
        "\n",
        "from tensorflow.keras import Model\n",
        "from tensorflow.keras.optimizers import Adam\n",
        "\n",
        "from tensorflow.keras.layers import Embedding, TextVectorization\n",
        "from tensorflow.keras.layers import Dense, GlobalAveragePooling1D, Input\n",
        "from tensorflow.keras.layers import Bidirectional, GRU, LSTM\n",
        "\n",
        "from sklearn.feature_extraction.text import TfidfVectorizer\n",
        "from sklearn.metrics import classification_report, ConfusionMatrixDisplay\n",
        "from sklearn.model_selection import train_test_split\n",
        "from sklearn.naive_bayes import MultinomialNB\n",
        "from sklearn.pipeline import Pipeline"
      ],
      "metadata": {
        "id": "gndy7tIUpNJO"
      },
      "execution_count": 1,
      "outputs": []
    },
    {
      "cell_type": "markdown",
      "source": [
        "## Setup"
      ],
      "metadata": {
        "id": "bYIefgtjOAGl"
      }
    },
    {
      "cell_type": "code",
      "source": [
        "plt.rcParams['figure.figsize'] = [8, 5]\n",
        "plt.rcParams['figure.dpi'] = 100\n",
        "plt.style.use('seaborn-darkgrid')"
      ],
      "metadata": {
        "id": "T_u3SG7QOCXV"
      },
      "execution_count": 2,
      "outputs": []
    },
    {
      "cell_type": "markdown",
      "source": [
        "## Constantes"
      ],
      "metadata": {
        "id": "Uy_Tv0JkpVxy"
      }
    },
    {
      "cell_type": "code",
      "source": [
        "SEMENTE = 2008193\n",
        "\n",
        "ENTRADA_FORMATO = (1,)\n",
        "ENTRADA_TIPO = tf.string\n",
        "\n",
        "ATIVACAO_CNN = 'relu'\n",
        "ATIVACAO_RNN = 'tanh'\n",
        "ATIVACAO_SAIDA = 'sigmoid'\n",
        "\n",
        "PERDA = 'binary_crossentropy'\n",
        "APRENDIZADO = 0.001\n",
        "METRICAS = ['accuracy']\n",
        "\n",
        "ITERACOES = 5\n",
        "\n",
        "DIRETORIO_TB = 'tb_nlp'"
      ],
      "metadata": {
        "id": "Z-1CGl0S2DiU"
      },
      "execution_count": 3,
      "outputs": []
    },
    {
      "cell_type": "markdown",
      "source": [
        "## Funções"
      ],
      "metadata": {
        "id": "JdEFvvfnOjbd"
      }
    },
    {
      "cell_type": "code",
      "source": [
        "!wget https://raw.githubusercontent.com/flohmannjr/tensorflow_curso/main/funcoes.py"
      ],
      "metadata": {
        "id": "HRvtg6AjOlD1",
        "colab": {
          "base_uri": "https://localhost:8080/"
        },
        "outputId": "5e3c340e-ed49-4b71-a88a-c959b0fd4c61"
      },
      "execution_count": 4,
      "outputs": [
        {
          "output_type": "stream",
          "name": "stdout",
          "text": [
            "--2023-01-28 13:11:18--  https://raw.githubusercontent.com/flohmannjr/tensorflow_curso/main/funcoes.py\n",
            "Resolving raw.githubusercontent.com (raw.githubusercontent.com)... 185.199.108.133, 185.199.109.133, 185.199.110.133, ...\n",
            "Connecting to raw.githubusercontent.com (raw.githubusercontent.com)|185.199.108.133|:443... connected.\n",
            "HTTP request sent, awaiting response... 200 OK\n",
            "Length: 5196 (5.1K) [text/plain]\n",
            "Saving to: ‘funcoes.py.1’\n",
            "\n",
            "\rfuncoes.py.1          0%[                    ]       0  --.-KB/s               \rfuncoes.py.1        100%[===================>]   5.07K  --.-KB/s    in 0s      \n",
            "\n",
            "2023-01-28 13:11:18 (16.6 MB/s) - ‘funcoes.py.1’ saved [5196/5196]\n",
            "\n"
          ]
        }
      ]
    },
    {
      "cell_type": "code",
      "source": [
        "from funcoes import criar_callback_tensorboard, grafico_historico_por_iteracao, unzip_data"
      ],
      "metadata": {
        "id": "rw9KUoPdOpBG"
      },
      "execution_count": 5,
      "outputs": []
    },
    {
      "cell_type": "code",
      "source": [
        "def avaliar_modelo(previsao, validacao):\n",
        "    print(classification_report(validacao, previsao))\n",
        "\n",
        "    ConfusionMatrixDisplay.from_predictions(validacao, previsao, cmap='summer_r')\n",
        "    plt.grid(False)\n",
        "\n",
        "    relatorio = classification_report(validacao, previsao, output_dict=True)\n",
        "\n",
        "    return {'acuracia': relatorio['accuracy'],\n",
        "            'precisao': relatorio['weighted avg']['precision'],\n",
        "            'revocacao': relatorio['weighted avg']['recall'],\n",
        "            'pontuacao-f1': relatorio['weighted avg']['f1-score']}"
      ],
      "metadata": {
        "id": "KyYEiwDcnppZ"
      },
      "execution_count": 6,
      "outputs": []
    },
    {
      "cell_type": "markdown",
      "source": [
        "## Dados"
      ],
      "metadata": {
        "id": "JwVKeK--qP0c"
      }
    },
    {
      "cell_type": "markdown",
      "source": [
        "Dados originalmente da competição **Natural Language Processing with Disaster Tweets** no Kaggle. (Em andamento em 27.01.2023.)\n",
        "\n",
        "https://www.kaggle.com/c/nlp-getting-started"
      ],
      "metadata": {
        "id": "ogGEu1xNqbNU"
      }
    },
    {
      "cell_type": "code",
      "source": [
        "!wget https://storage.googleapis.com/ztm_tf_course/nlp_getting_started.zip\n",
        "\n",
        "unzip_data('nlp_getting_started.zip')"
      ],
      "metadata": {
        "colab": {
          "base_uri": "https://localhost:8080/"
        },
        "id": "xckD58OPsjZ_",
        "outputId": "2a9c591a-431b-4846-b791-6f2d1dbf0e49"
      },
      "execution_count": 7,
      "outputs": [
        {
          "output_type": "stream",
          "name": "stdout",
          "text": [
            "--2023-01-28 13:11:18--  https://storage.googleapis.com/ztm_tf_course/nlp_getting_started.zip\n",
            "Resolving storage.googleapis.com (storage.googleapis.com)... 172.253.62.128, 172.253.115.128, 172.253.122.128, ...\n",
            "Connecting to storage.googleapis.com (storage.googleapis.com)|172.253.62.128|:443... connected.\n",
            "HTTP request sent, awaiting response... 200 OK\n",
            "Length: 607343 (593K) [application/zip]\n",
            "Saving to: ‘nlp_getting_started.zip.1’\n",
            "\n",
            "\r          nlp_getti   0%[                    ]       0  --.-KB/s               \rnlp_getting_started 100%[===================>] 593.11K  --.-KB/s    in 0.005s  \n",
            "\n",
            "2023-01-28 13:11:18 (105 MB/s) - ‘nlp_getting_started.zip.1’ saved [607343/607343]\n",
            "\n"
          ]
        }
      ]
    },
    {
      "cell_type": "code",
      "source": [
        "df_treino = pd.read_csv('train.csv')\n",
        "df_teste = pd.read_csv('test.csv')\n",
        "\n",
        "# Embaralhar dados de treino (frac=1 = 100% dos dados)\n",
        "df_treino = df_treino.sample(frac=1, random_state=SEMENTE)"
      ],
      "metadata": {
        "id": "YxQcLCK2tqDc"
      },
      "execution_count": 8,
      "outputs": []
    },
    {
      "cell_type": "code",
      "source": [
        "df_treino.head()"
      ],
      "metadata": {
        "colab": {
          "base_uri": "https://localhost:8080/",
          "height": 206
        },
        "id": "aB-j8N8H0dQh",
        "outputId": "ed93787c-2673-462f-fb7d-96dc6d1ac342"
      },
      "execution_count": 9,
      "outputs": [
        {
          "output_type": "execute_result",
          "data": {
            "text/plain": [
              "        id     keyword         location  \\\n",
              "2299  3299    demolish             NYHC   \n",
              "3704  5269        fear        Carregado   \n",
              "3468  4961   explosion         New York   \n",
              "6653  9533   terrorist  ????? ???? ????   \n",
              "3634  5183  fatalities          jersey    \n",
              "\n",
              "                                                   text  target  \n",
              "2299  If you think going to demolish Drake's house o...       1  \n",
              "3704  I didn`t want to hurt you but the fear drove m...       0  \n",
              "3468  New Explosion-proof Tempered Glass Screen Prot...       0  \n",
              "6653   #UdhampurAgain 2 terrorist shot dead.. #Udhampur       1  \n",
              "3634  mortal kombat fatalities are so gross but inte...       0  "
            ],
            "text/html": [
              "\n",
              "  <div id=\"df-dc9df37a-6bb6-4264-afc0-ef9ba64cafc5\">\n",
              "    <div class=\"colab-df-container\">\n",
              "      <div>\n",
              "<style scoped>\n",
              "    .dataframe tbody tr th:only-of-type {\n",
              "        vertical-align: middle;\n",
              "    }\n",
              "\n",
              "    .dataframe tbody tr th {\n",
              "        vertical-align: top;\n",
              "    }\n",
              "\n",
              "    .dataframe thead th {\n",
              "        text-align: right;\n",
              "    }\n",
              "</style>\n",
              "<table border=\"1\" class=\"dataframe\">\n",
              "  <thead>\n",
              "    <tr style=\"text-align: right;\">\n",
              "      <th></th>\n",
              "      <th>id</th>\n",
              "      <th>keyword</th>\n",
              "      <th>location</th>\n",
              "      <th>text</th>\n",
              "      <th>target</th>\n",
              "    </tr>\n",
              "  </thead>\n",
              "  <tbody>\n",
              "    <tr>\n",
              "      <th>2299</th>\n",
              "      <td>3299</td>\n",
              "      <td>demolish</td>\n",
              "      <td>NYHC</td>\n",
              "      <td>If you think going to demolish Drake's house o...</td>\n",
              "      <td>1</td>\n",
              "    </tr>\n",
              "    <tr>\n",
              "      <th>3704</th>\n",
              "      <td>5269</td>\n",
              "      <td>fear</td>\n",
              "      <td>Carregado</td>\n",
              "      <td>I didn`t want to hurt you but the fear drove m...</td>\n",
              "      <td>0</td>\n",
              "    </tr>\n",
              "    <tr>\n",
              "      <th>3468</th>\n",
              "      <td>4961</td>\n",
              "      <td>explosion</td>\n",
              "      <td>New York</td>\n",
              "      <td>New Explosion-proof Tempered Glass Screen Prot...</td>\n",
              "      <td>0</td>\n",
              "    </tr>\n",
              "    <tr>\n",
              "      <th>6653</th>\n",
              "      <td>9533</td>\n",
              "      <td>terrorist</td>\n",
              "      <td>????? ???? ????</td>\n",
              "      <td>#UdhampurAgain 2 terrorist shot dead.. #Udhampur</td>\n",
              "      <td>1</td>\n",
              "    </tr>\n",
              "    <tr>\n",
              "      <th>3634</th>\n",
              "      <td>5183</td>\n",
              "      <td>fatalities</td>\n",
              "      <td>jersey</td>\n",
              "      <td>mortal kombat fatalities are so gross but inte...</td>\n",
              "      <td>0</td>\n",
              "    </tr>\n",
              "  </tbody>\n",
              "</table>\n",
              "</div>\n",
              "      <button class=\"colab-df-convert\" onclick=\"convertToInteractive('df-dc9df37a-6bb6-4264-afc0-ef9ba64cafc5')\"\n",
              "              title=\"Convert this dataframe to an interactive table.\"\n",
              "              style=\"display:none;\">\n",
              "        \n",
              "  <svg xmlns=\"http://www.w3.org/2000/svg\" height=\"24px\"viewBox=\"0 0 24 24\"\n",
              "       width=\"24px\">\n",
              "    <path d=\"M0 0h24v24H0V0z\" fill=\"none\"/>\n",
              "    <path d=\"M18.56 5.44l.94 2.06.94-2.06 2.06-.94-2.06-.94-.94-2.06-.94 2.06-2.06.94zm-11 1L8.5 8.5l.94-2.06 2.06-.94-2.06-.94L8.5 2.5l-.94 2.06-2.06.94zm10 10l.94 2.06.94-2.06 2.06-.94-2.06-.94-.94-2.06-.94 2.06-2.06.94z\"/><path d=\"M17.41 7.96l-1.37-1.37c-.4-.4-.92-.59-1.43-.59-.52 0-1.04.2-1.43.59L10.3 9.45l-7.72 7.72c-.78.78-.78 2.05 0 2.83L4 21.41c.39.39.9.59 1.41.59.51 0 1.02-.2 1.41-.59l7.78-7.78 2.81-2.81c.8-.78.8-2.07 0-2.86zM5.41 20L4 18.59l7.72-7.72 1.47 1.35L5.41 20z\"/>\n",
              "  </svg>\n",
              "      </button>\n",
              "      \n",
              "  <style>\n",
              "    .colab-df-container {\n",
              "      display:flex;\n",
              "      flex-wrap:wrap;\n",
              "      gap: 12px;\n",
              "    }\n",
              "\n",
              "    .colab-df-convert {\n",
              "      background-color: #E8F0FE;\n",
              "      border: none;\n",
              "      border-radius: 50%;\n",
              "      cursor: pointer;\n",
              "      display: none;\n",
              "      fill: #1967D2;\n",
              "      height: 32px;\n",
              "      padding: 0 0 0 0;\n",
              "      width: 32px;\n",
              "    }\n",
              "\n",
              "    .colab-df-convert:hover {\n",
              "      background-color: #E2EBFA;\n",
              "      box-shadow: 0px 1px 2px rgba(60, 64, 67, 0.3), 0px 1px 3px 1px rgba(60, 64, 67, 0.15);\n",
              "      fill: #174EA6;\n",
              "    }\n",
              "\n",
              "    [theme=dark] .colab-df-convert {\n",
              "      background-color: #3B4455;\n",
              "      fill: #D2E3FC;\n",
              "    }\n",
              "\n",
              "    [theme=dark] .colab-df-convert:hover {\n",
              "      background-color: #434B5C;\n",
              "      box-shadow: 0px 1px 3px 1px rgba(0, 0, 0, 0.15);\n",
              "      filter: drop-shadow(0px 1px 2px rgba(0, 0, 0, 0.3));\n",
              "      fill: #FFFFFF;\n",
              "    }\n",
              "  </style>\n",
              "\n",
              "      <script>\n",
              "        const buttonEl =\n",
              "          document.querySelector('#df-dc9df37a-6bb6-4264-afc0-ef9ba64cafc5 button.colab-df-convert');\n",
              "        buttonEl.style.display =\n",
              "          google.colab.kernel.accessAllowed ? 'block' : 'none';\n",
              "\n",
              "        async function convertToInteractive(key) {\n",
              "          const element = document.querySelector('#df-dc9df37a-6bb6-4264-afc0-ef9ba64cafc5');\n",
              "          const dataTable =\n",
              "            await google.colab.kernel.invokeFunction('convertToInteractive',\n",
              "                                                     [key], {});\n",
              "          if (!dataTable) return;\n",
              "\n",
              "          const docLinkHtml = 'Like what you see? Visit the ' +\n",
              "            '<a target=\"_blank\" href=https://colab.research.google.com/notebooks/data_table.ipynb>data table notebook</a>'\n",
              "            + ' to learn more about interactive tables.';\n",
              "          element.innerHTML = '';\n",
              "          dataTable['output_type'] = 'display_data';\n",
              "          await google.colab.output.renderOutput(dataTable, element);\n",
              "          const docLink = document.createElement('div');\n",
              "          docLink.innerHTML = docLinkHtml;\n",
              "          element.appendChild(docLink);\n",
              "        }\n",
              "      </script>\n",
              "    </div>\n",
              "  </div>\n",
              "  "
            ]
          },
          "metadata": {},
          "execution_count": 9
        }
      ]
    },
    {
      "cell_type": "code",
      "source": [
        "df_treino.info()"
      ],
      "metadata": {
        "colab": {
          "base_uri": "https://localhost:8080/"
        },
        "id": "WbntiFfY0fP_",
        "outputId": "e64523ec-e50a-4149-ad5a-e484021a0d60"
      },
      "execution_count": 10,
      "outputs": [
        {
          "output_type": "stream",
          "name": "stdout",
          "text": [
            "<class 'pandas.core.frame.DataFrame'>\n",
            "Int64Index: 7613 entries, 2299 to 4895\n",
            "Data columns (total 5 columns):\n",
            " #   Column    Non-Null Count  Dtype \n",
            "---  ------    --------------  ----- \n",
            " 0   id        7613 non-null   int64 \n",
            " 1   keyword   7552 non-null   object\n",
            " 2   location  5080 non-null   object\n",
            " 3   text      7613 non-null   object\n",
            " 4   target    7613 non-null   int64 \n",
            "dtypes: int64(2), object(3)\n",
            "memory usage: 356.9+ KB\n"
          ]
        }
      ]
    },
    {
      "cell_type": "code",
      "source": [
        "df_treino['target'].value_counts()"
      ],
      "metadata": {
        "colab": {
          "base_uri": "https://localhost:8080/"
        },
        "id": "5zNTAQjr0ln6",
        "outputId": "8eccfc2d-1e09-4af3-dfa9-de88b23896b9"
      },
      "execution_count": 11,
      "outputs": [
        {
          "output_type": "execute_result",
          "data": {
            "text/plain": [
              "0    4342\n",
              "1    3271\n",
              "Name: target, dtype: int64"
            ]
          },
          "metadata": {},
          "execution_count": 11
        }
      ]
    },
    {
      "cell_type": "markdown",
      "source": [
        "### Separar dados para validação"
      ],
      "metadata": {
        "id": "9aFFo29NDdxO"
      }
    },
    {
      "cell_type": "code",
      "source": [
        "X = df_treino['text']\n",
        "y = df_treino['target']\n",
        "\n",
        "X_train, X_test, y_train, y_test = train_test_split(X, y, test_size=0.1, random_state=SEMENTE)"
      ],
      "metadata": {
        "id": "cn9dBpJf3ahG"
      },
      "execution_count": 12,
      "outputs": []
    },
    {
      "cell_type": "markdown",
      "source": [
        "## Converter texto em números"
      ],
      "metadata": {
        "id": "XFJvbZGNF1wQ"
      }
    },
    {
      "cell_type": "markdown",
      "source": [
        "### Vetorização (Vectorization)"
      ],
      "metadata": {
        "id": "MZMY-KhKPbON"
      }
    },
    {
      "cell_type": "code",
      "source": [
        "limite_dicionario = 10000\n",
        "media_palavras_por_texto = round(sum([len(texto.split()) for texto in X_train]) / len(X_train))\n",
        "\n",
        "vetorizador = TextVectorization(max_tokens=limite_dicionario,                     # (Default: None) Máximo de tokens (palavras) no dicionário.\n",
        "                                standardize='lower_and_strip_punctuation',        # (Default) Texto em caixa baixa e retira caracteres especiais.\n",
        "                                split='whitespace',                               # (Default) Separador de tokens.\n",
        "                                ngrams=None,                                      # (Default) Tokens por grupo. (None = não agrupar tokens.)\n",
        "                                output_mode='int',                                # (Default) Como mapear tokens para números.\n",
        "                                output_sequence_length=media_palavras_por_texto)  # (Default: None) Tamanho do texto, completado ou truncado, se necessário. (Válido apenas para 'int'.)"
      ],
      "metadata": {
        "id": "cK8AkY3m4DYF"
      },
      "execution_count": 13,
      "outputs": []
    },
    {
      "cell_type": "code",
      "source": [
        "vetorizador.adapt(X_train)"
      ],
      "metadata": {
        "id": "Ak3f6OTu7Dfp"
      },
      "execution_count": 14,
      "outputs": []
    },
    {
      "cell_type": "code",
      "source": [
        "texto = random.choice(X_train)\n",
        "print(texto)\n",
        "\n",
        "vetorizador([texto])"
      ],
      "metadata": {
        "colab": {
          "base_uri": "https://localhost:8080/"
        },
        "id": "orHNIpsbLafi",
        "outputId": "5b0f5c6e-da07-49fc-e496-f1ad908711a5"
      },
      "execution_count": 15,
      "outputs": [
        {
          "output_type": "stream",
          "name": "stdout",
          "text": [
            "'you canÛªt research collective memory' The 1st Rule of writing diverse should be don't touch another group's tragedy https://t.co/PHFoEozYPS\n"
          ]
        },
        {
          "output_type": "execute_result",
          "data": {
            "text/plain": [
              "<tf.Tensor: shape=(1, 15), dtype=int64, numpy=\n",
              "array([[  12, 2149, 1115, 5934, 2878,    2, 1452, 1797,    6, 1942, 5772,\n",
              "         171,   22,   58, 1964]])>"
            ]
          },
          "metadata": {},
          "execution_count": 15
        }
      ]
    },
    {
      "cell_type": "code",
      "source": [
        "vocabulario = vetorizador.get_vocabulary()"
      ],
      "metadata": {
        "id": "TRo6HuAcMLEf"
      },
      "execution_count": 16,
      "outputs": []
    },
    {
      "cell_type": "code",
      "source": [
        "# [UNK] = Desconhecido, fora do limite do dicionário.\n",
        "len(vocabulario), vocabulario[:5], vocabulario[-5:]"
      ],
      "metadata": {
        "colab": {
          "base_uri": "https://localhost:8080/"
        },
        "id": "kUN1qXHXNrY-",
        "outputId": "29997555-e6b0-4043-ad8f-2ec3fd5b0049"
      },
      "execution_count": 17,
      "outputs": [
        {
          "output_type": "execute_result",
          "data": {
            "text/plain": [
              "(10000,\n",
              " ['', '[UNK]', 'the', 'a', 'in'],\n",
              " ['pacic', 'p45perez', 'oyster', 'oworoshoki', 'ownership'])"
            ]
          },
          "metadata": {},
          "execution_count": 17
        }
      ]
    },
    {
      "cell_type": "markdown",
      "source": [
        "### Incorporação (Embedding)"
      ],
      "metadata": {
        "id": "aFWb7WPXOnqn"
      }
    },
    {
      "cell_type": "code",
      "source": [
        "incorporador = Embedding(input_dim=limite_dicionario,            # Tamanho do vocabulário de entrada.\n",
        "                         output_dim=128,                         # Dimensão do vetor de saída. (Geralmente um múltiplo de 8.)\n",
        "                         input_length=media_palavras_por_texto)  # Tamanho do texto de entrada."
      ],
      "metadata": {
        "id": "LhYEdM7FPqW_"
      },
      "execution_count": 18,
      "outputs": []
    },
    {
      "cell_type": "code",
      "source": [
        "texto = random.choice(X_train)\n",
        "print(texto)\n",
        "\n",
        "incorporador(vetorizador([texto]))"
      ],
      "metadata": {
        "colab": {
          "base_uri": "https://localhost:8080/"
        },
        "id": "3eUep0VlTCSa",
        "outputId": "dcafb635-f949-4860-8fe1-22127f05065b"
      },
      "execution_count": 19,
      "outputs": [
        {
          "output_type": "stream",
          "name": "stdout",
          "text": [
            "Ah yes the gays are totally destroying America. I can see buildings burning and meteors crashing into schools wow\n"
          ]
        },
        {
          "output_type": "execute_result",
          "data": {
            "text/plain": [
              "<tf.Tensor: shape=(1, 15, 128), dtype=float32, numpy=\n",
              "array([[[-0.03196541,  0.04825116,  0.04234679, ..., -0.01732742,\n",
              "          0.04696165,  0.0155425 ],\n",
              "        [ 0.01008806, -0.04590577,  0.03350134, ..., -0.0354255 ,\n",
              "          0.00180564, -0.02945814],\n",
              "        [-0.01535301, -0.01496931, -0.03488327, ..., -0.02133101,\n",
              "         -0.02205541, -0.0217971 ],\n",
              "        ...,\n",
              "        [ 0.00074511, -0.03542973, -0.013955  , ..., -0.0453202 ,\n",
              "         -0.01917421,  0.04969975],\n",
              "        [-0.01811781,  0.0352697 , -0.04766853, ...,  0.02024784,\n",
              "          0.024063  ,  0.00547944],\n",
              "        [ 0.01186134,  0.01519651, -0.01812411, ..., -0.01511298,\n",
              "         -0.03918342, -0.04959189]]], dtype=float32)>"
            ]
          },
          "metadata": {},
          "execution_count": 19
        }
      ]
    },
    {
      "cell_type": "markdown",
      "source": [
        "## Experimentos"
      ],
      "metadata": {
        "id": "pLbpRM9GTN0V"
      }
    },
    {
      "cell_type": "markdown",
      "source": [
        "* Model 0: Naive Bayes with TF-IDF encoder (baseline)\n",
        "* Model 1: Feed-forward neural network (dense model)\n",
        "* Model 2: LSTM model (RNN)\n",
        "* Model 3: GRU model (RNN)\n",
        "* Model 4: Bidirectional LSTM (RNN)\n",
        "* Model 5: 1D Convolutional Neural Network\n",
        "* Model 6: TFHub Pretrained Word Embedding (feature extractor)\n",
        "* Model 7: Same as model 6 but using 10% of data"
      ],
      "metadata": {
        "id": "8VmOb9hHd6bM"
      }
    },
    {
      "cell_type": "code",
      "source": [
        "modelos = [None] * 8\n",
        "avaliacoes = [None] * 8\n",
        "previsoes = [None] * 8\n",
        "relatorios = [None] * 8\n",
        "historicos = [None] * 8"
      ],
      "metadata": {
        "id": "vPO_5qcCkVq8"
      },
      "execution_count": 20,
      "outputs": []
    },
    {
      "cell_type": "markdown",
      "source": [
        "### Modelo 0: Naive Bayes with TF-IDF encoder (baseline)"
      ],
      "metadata": {
        "id": "TMZ6qOyheN3r"
      }
    },
    {
      "cell_type": "code",
      "source": [
        "modelos[0] = Pipeline([('tdidf', TfidfVectorizer()),\n",
        "                       ('clf', MultinomialNB())]) # clf = classifier\n",
        "\n",
        "modelos[0].fit(X_train, y_train)"
      ],
      "metadata": {
        "colab": {
          "base_uri": "https://localhost:8080/"
        },
        "id": "cCsJso3vfxfD",
        "outputId": "5d5ce269-93de-4212-faa6-d6dcb0bbe4d9"
      },
      "execution_count": 21,
      "outputs": [
        {
          "output_type": "execute_result",
          "data": {
            "text/plain": [
              "Pipeline(steps=[('tdidf', TfidfVectorizer()), ('clf', MultinomialNB())])"
            ]
          },
          "metadata": {},
          "execution_count": 21
        }
      ]
    },
    {
      "cell_type": "code",
      "source": [
        "avaliacoes[0] = modelos[0].score(X_test, y_test)\n",
        "avaliacoes[0]"
      ],
      "metadata": {
        "colab": {
          "base_uri": "https://localhost:8080/"
        },
        "id": "sV_JXr3ojLLF",
        "outputId": "af3f4930-5c33-4b08-8c84-04ee8813b03a"
      },
      "execution_count": 22,
      "outputs": [
        {
          "output_type": "execute_result",
          "data": {
            "text/plain": [
              "0.8083989501312336"
            ]
          },
          "metadata": {},
          "execution_count": 22
        }
      ]
    },
    {
      "cell_type": "code",
      "source": [
        "previsoes[0] = modelos[0].predict(X_test)\n",
        "previsoes[0][:20]"
      ],
      "metadata": {
        "colab": {
          "base_uri": "https://localhost:8080/"
        },
        "id": "8Agn57DsjkIt",
        "outputId": "b7902d0e-b72f-4ab7-e8c1-09472f751acb"
      },
      "execution_count": 23,
      "outputs": [
        {
          "output_type": "execute_result",
          "data": {
            "text/plain": [
              "array([0, 0, 1, 0, 0, 1, 0, 1, 0, 0, 1, 0, 0, 0, 1, 0, 1, 1, 0, 1])"
            ]
          },
          "metadata": {},
          "execution_count": 23
        }
      ]
    },
    {
      "cell_type": "code",
      "source": [
        "relatorios[0] = avaliar_modelo(previsoes[0], y_test)"
      ],
      "metadata": {
        "colab": {
          "base_uri": "https://localhost:8080/",
          "height": 609
        },
        "id": "lcUD_qM2mBfi",
        "outputId": "9a4e6032-4ccc-4477-9e8f-f410a90bb9de"
      },
      "execution_count": 24,
      "outputs": [
        {
          "output_type": "stream",
          "name": "stdout",
          "text": [
            "              precision    recall  f1-score   support\n",
            "\n",
            "           0       0.77      0.94      0.85       433\n",
            "           1       0.88      0.64      0.74       329\n",
            "\n",
            "    accuracy                           0.81       762\n",
            "   macro avg       0.83      0.79      0.80       762\n",
            "weighted avg       0.82      0.81      0.80       762\n",
            "\n"
          ]
        },
        {
          "output_type": "display_data",
          "data": {
            "text/plain": [
              "<Figure size 800x500 with 2 Axes>"
            ],
            "image/png": "[encoded data removed]"
          },
          "metadata": {}
        }
      ]
    },
    {
      "cell_type": "code",
      "source": [
        "relatorios[0]"
      ],
      "metadata": {
        "colab": {
          "base_uri": "https://localhost:8080/"
        },
        "id": "abQE9YahqzLw",
        "outputId": "2655b32e-6bef-48f8-d792-5478a01aa453"
      },
      "execution_count": 25,
      "outputs": [
        {
          "output_type": "execute_result",
          "data": {
            "text/plain": [
              "{'acuracia': 0.8083989501312336,\n",
              " 'precisao': 0.821209966257038,\n",
              " 'revocacao': 0.8083989501312336,\n",
              " 'pontuacao-f1': 0.8022381673606139}"
            ]
          },
          "metadata": {},
          "execution_count": 25
        }
      ]
    },
    {
      "cell_type": "markdown",
      "source": [
        "### Modelo 1: Feed-forward neural network (dense model)"
      ],
      "metadata": {
        "id": "src09mbeuhsw"
      }
    },
    {
      "cell_type": "code",
      "source": [
        "modelo_nome = 'modelo_1_dense'\n",
        "\n",
        "entradas = Input(shape=ENTRADA_FORMATO, dtype=ENTRADA_TIPO, name='camada_entrada')\n",
        "\n",
        "camadas = vetorizador(entradas)\n",
        "camadas = incorporador(camadas)\n",
        "camadas = GlobalAveragePooling1D(name='agrupamento_media_global')(camadas)\n",
        "\n",
        "saidas = Dense(1, activation=ATIVACAO_SAIDA, name='camada_saida')(camadas)\n",
        "\n",
        "modelos[1] = Model(inputs=entradas, outputs=saidas, name=modelo_nome)\n",
        "\n",
        "modelos[1].compile(loss=PERDA,\n",
        "                   optimizer=Adam(learning_rate=APRENDIZADO),\n",
        "                   metrics=METRICAS)\n",
        "\n",
        "historicos[1] = modelos[1].fit(x=X_train,\n",
        "                               y=y_train,\n",
        "                               epochs=ITERACOES,\n",
        "                               validation_data=(X_test, y_test),\n",
        "                               callbacks=[criar_callback_tensorboard(diretorio=DIRETORIO_TB, experimento=modelo_nome)],\n",
        "                               verbose=1)"
      ],
      "metadata": {
        "colab": {
          "base_uri": "https://localhost:8080/"
        },
        "id": "clIH5flW_uUO",
        "outputId": "b6df08b2-0e76-4465-ea4f-7680976370b5"
      },
      "execution_count": 26,
      "outputs": [
        {
          "output_type": "stream",
          "name": "stdout",
          "text": [
            "Salvando log TensorBoard em: 'tb_nlp/modelo_1_dense/20230128-131121'.\n",
            "Epoch 1/5\n",
            "215/215 [==============================] - 5s 15ms/step - loss: 0.6134 - accuracy: 0.6884 - val_loss: 0.5202 - val_accuracy: 0.7835\n",
            "Epoch 2/5\n",
            "215/215 [==============================] - 3s 14ms/step - loss: 0.4464 - accuracy: 0.8168 - val_loss: 0.4401 - val_accuracy: 0.8163\n",
            "Epoch 3/5\n",
            "215/215 [==============================] - 3s 14ms/step - loss: 0.3527 - accuracy: 0.8597 - val_loss: 0.4191 - val_accuracy: 0.8097\n",
            "Epoch 4/5\n",
            "215/215 [==============================] - 3s 15ms/step - loss: 0.2897 - accuracy: 0.8863 - val_loss: 0.4186 - val_accuracy: 0.8136\n",
            "Epoch 5/5\n",
            "215/215 [==============================] - 3s 14ms/step - loss: 0.2421 - accuracy: 0.9057 - val_loss: 0.4296 - val_accuracy: 0.8071\n"
          ]
        }
      ]
    },
    {
      "cell_type": "code",
      "source": [
        "grafico_historico_por_iteracao(historicos[1])"
      ],
      "metadata": {
        "colab": {
          "base_uri": "https://localhost:8080/",
          "height": 473
        },
        "id": "wnxjZyqDE2EZ",
        "outputId": "f9741f72-3bec-4ff9-d0d9-28fe94f9060c"
      },
      "execution_count": 27,
      "outputs": [
        {
          "output_type": "display_data",
          "data": {
            "text/plain": [
              "<Figure size 800x500 with 1 Axes>"
            ],
            "image/png": "[encoded data removed]"
          },
          "metadata": {}
        }
      ]
    },
    {
      "cell_type": "code",
      "source": [
        "avaliacoes[1] = modelos[1].evaluate(X_test, y_test)\n",
        "previsoes[1] = tf.squeeze(tf.round(modelos[1].predict(X_test)))\n",
        "relatorios[1] = avaliar_modelo(previsoes[1], y_test)"
      ],
      "metadata": {
        "colab": {
          "base_uri": "https://localhost:8080/",
          "height": 643
        },
        "id": "itV7bhSHE7Ki",
        "outputId": "ae84cb8b-5b97-4af0-83b0-45446dfd5d62"
      },
      "execution_count": 28,
      "outputs": [
        {
          "output_type": "stream",
          "name": "stdout",
          "text": [
            "24/24 [==============================] - 0s 2ms/step - loss: 0.4296 - accuracy: 0.8071\n",
            "24/24 [==============================] - 0s 1ms/step\n",
            "              precision    recall  f1-score   support\n",
            "\n",
            "           0       0.82      0.85      0.83       433\n",
            "           1       0.79      0.76      0.77       329\n",
            "\n",
            "    accuracy                           0.81       762\n",
            "   macro avg       0.80      0.80      0.80       762\n",
            "weighted avg       0.81      0.81      0.81       762\n",
            "\n"
          ]
        },
        {
          "output_type": "display_data",
          "data": {
            "text/plain": [
              "<Figure size 800x500 with 2 Axes>"
            ],
            "image/png": "[encoded data removed]"
          },
          "metadata": {}
        }
      ]
    },
    {
      "cell_type": "code",
      "source": [
        "relatorios[1]"
      ],
      "metadata": {
        "colab": {
          "base_uri": "https://localhost:8080/"
        },
        "id": "U6eelfBGFaWM",
        "outputId": "f70c743e-12d0-47c6-eb01-172a7dafefe5"
      },
      "execution_count": 29,
      "outputs": [
        {
          "output_type": "execute_result",
          "data": {
            "text/plain": [
              "{'acuracia': 0.8070866141732284,\n",
              " 'precisao': 0.8065295399620714,\n",
              " 'revocacao': 0.8070866141732284,\n",
              " 'pontuacao-f1': 0.80656907528594}"
            ]
          },
          "metadata": {},
          "execution_count": 29
        }
      ]
    },
    {
      "cell_type": "markdown",
      "source": [
        "### Modelo 2: LSTM model (RNN)"
      ],
      "metadata": {
        "id": "RQ4IIsHrFhEu"
      }
    },
    {
      "cell_type": "code",
      "source": [
        "modelo_nome = 'modelo_2_lstm'\n",
        "\n",
        "entradas = Input(shape=ENTRADA_FORMATO, dtype=ENTRADA_TIPO, name='camada_entrada')\n",
        "\n",
        "camadas = vetorizador(entradas)\n",
        "camadas = incorporador(camadas)\n",
        "\n",
        "# camadas = LSTM(units=64, activation=ATIVACAO_RNN, return_sequences=True)(camadas) # Para empilhar camadas recorrentes é necessário return_sequences=True\n",
        "camadas = LSTM(units=64, activation=ATIVACAO_RNN)(camadas)\n",
        "\n",
        "saidas = Dense(1, activation=ATIVACAO_SAIDA, name='camada_saida')(camadas)\n",
        "\n",
        "modelos[2] = Model(inputs=entradas, outputs=saidas, name=modelo_nome)\n",
        "\n",
        "modelos[2].compile(loss=PERDA,\n",
        "                   optimizer=Adam(learning_rate=APRENDIZADO),\n",
        "                   metrics=METRICAS)\n",
        "\n",
        "historicos[2] = modelos[2].fit(x=X_train,\n",
        "                               y=y_train,\n",
        "                               epochs=ITERACOES,\n",
        "                               validation_data=(X_test, y_test),\n",
        "                               callbacks=[criar_callback_tensorboard(diretorio=DIRETORIO_TB, experimento=modelo_nome)],\n",
        "                               verbose=1)"
      ],
      "metadata": {
        "id": "lSttDmjirgFn",
        "colab": {
          "base_uri": "https://localhost:8080/"
        },
        "outputId": "441c4c63-eee4-4084-d446-3f8c3026cce8"
      },
      "execution_count": 30,
      "outputs": [
        {
          "output_type": "stream",
          "name": "stdout",
          "text": [
            "Salvando log TensorBoard em: 'tb_nlp/modelo_2_lstm/20230128-131144'.\n",
            "Epoch 1/5\n",
            "215/215 [==============================] - 6s 19ms/step - loss: 0.2260 - accuracy: 0.9175 - val_loss: 0.5798 - val_accuracy: 0.7927\n",
            "Epoch 2/5\n",
            "215/215 [==============================] - 4s 16ms/step - loss: 0.1587 - accuracy: 0.9423 - val_loss: 0.5593 - val_accuracy: 0.7808\n",
            "Epoch 3/5\n",
            "215/215 [==============================] - 3s 16ms/step - loss: 0.1317 - accuracy: 0.9529 - val_loss: 0.6520 - val_accuracy: 0.7730\n",
            "Epoch 4/5\n",
            "215/215 [==============================] - 4s 17ms/step - loss: 0.1076 - accuracy: 0.9613 - val_loss: 0.7324 - val_accuracy: 0.7677\n",
            "Epoch 5/5\n",
            "215/215 [==============================] - 4s 17ms/step - loss: 0.0912 - accuracy: 0.9675 - val_loss: 0.8609 - val_accuracy: 0.7717\n"
          ]
        }
      ]
    },
    {
      "cell_type": "code",
      "source": [
        "grafico_historico_por_iteracao(historicos[2])"
      ],
      "metadata": {
        "colab": {
          "base_uri": "https://localhost:8080/",
          "height": 473
        },
        "id": "3RXwpdz3TIM9",
        "outputId": "8979fd0a-9125-4826-bd9b-275bfb643091"
      },
      "execution_count": 31,
      "outputs": [
        {
          "output_type": "display_data",
          "data": {
            "text/plain": [
              "<Figure size 800x500 with 1 Axes>"
            ],
            "image/png": "[encoded data removed]"
          },
          "metadata": {}
        }
      ]
    },
    {
      "cell_type": "code",
      "source": [
        "avaliacoes[2] = modelos[2].evaluate(X_test, y_test)\n",
        "previsoes[2] = tf.squeeze(tf.round(modelos[2].predict(X_test)))\n",
        "relatorios[2] = avaliar_modelo(previsoes[2], y_test)"
      ],
      "metadata": {
        "colab": {
          "base_uri": "https://localhost:8080/",
          "height": 643
        },
        "id": "Gb3EVK9KTRYu",
        "outputId": "ae1ad496-a483-4a1d-facc-df3387326368"
      },
      "execution_count": 32,
      "outputs": [
        {
          "output_type": "stream",
          "name": "stdout",
          "text": [
            "24/24 [==============================] - 0s 4ms/step - loss: 0.8609 - accuracy: 0.7717\n",
            "24/24 [==============================] - 0s 3ms/step\n",
            "              precision    recall  f1-score   support\n",
            "\n",
            "           0       0.78      0.83      0.81       433\n",
            "           1       0.76      0.69      0.72       329\n",
            "\n",
            "    accuracy                           0.77       762\n",
            "   macro avg       0.77      0.76      0.76       762\n",
            "weighted avg       0.77      0.77      0.77       762\n",
            "\n"
          ]
        },
        {
          "output_type": "display_data",
          "data": {
            "text/plain": [
              "<Figure size 800x500 with 2 Axes>"
            ],
            "image/png": "[encoded data removed]"
          },
          "metadata": {}
        }
      ]
    },
    {
      "cell_type": "code",
      "source": [
        "relatorios[2]"
      ],
      "metadata": {
        "colab": {
          "base_uri": "https://localhost:8080/"
        },
        "id": "R3wj_4RqT7kH",
        "outputId": "08912b66-c252-4adb-bef1-9d00a7bcf1b8"
      },
      "execution_count": 33,
      "outputs": [
        {
          "output_type": "execute_result",
          "data": {
            "text/plain": [
              "{'acuracia': 0.7716535433070866,\n",
              " 'precisao': 0.7708464448907343,\n",
              " 'revocacao': 0.7716535433070866,\n",
              " 'pontuacao-f1': 0.770022172536952}"
            ]
          },
          "metadata": {},
          "execution_count": 33
        }
      ]
    },
    {
      "cell_type": "markdown",
      "source": [
        "### Modelo 3: GRU model (RNN)"
      ],
      "metadata": {
        "id": "2hz8D-xET8mF"
      }
    },
    {
      "cell_type": "code",
      "source": [
        "modelo_nome = 'modelo_3_gru'\n",
        "\n",
        "entradas = Input(shape=ENTRADA_FORMATO, dtype=ENTRADA_TIPO, name='camada_entrada')\n",
        "\n",
        "camadas = vetorizador(entradas)\n",
        "camadas = incorporador(camadas)\n",
        "\n",
        "# camadas = GRU(units=64, activation=ATIVACAO_RNN, return_sequences=True)(camadas)\n",
        "camadas = GRU(units=64, activation=ATIVACAO_RNN)(camadas)\n",
        "\n",
        "saidas = Dense(1, activation=ATIVACAO_SAIDA, name='camda_saida')(camadas)\n",
        "\n",
        "modelos[3] = Model(inputs=entradas, outputs=saidas, name=modelo_nome)\n",
        "\n",
        "modelos[3].compile(loss=PERDA,\n",
        "                   optimizer=Adam(learning_rate=APRENDIZADO),\n",
        "                   metrics=METRICAS)\n",
        "\n",
        "historicos[3] = modelos[3].fit(x=X_train,\n",
        "                               y=y_train,\n",
        "                               epochs=ITERACOES,\n",
        "                               validation_data=(X_test, y_test),\n",
        "                               callbacks=[criar_callback_tensorboard(diretorio=DIRETORIO_TB, experimento=modelo_nome)],\n",
        "                               verbose=1)"
      ],
      "metadata": {
        "colab": {
          "base_uri": "https://localhost:8080/"
        },
        "id": "7tLqq30yV6ad",
        "outputId": "0272eaa6-2c37-4747-f8c3-1f2762f832b9"
      },
      "execution_count": 34,
      "outputs": [
        {
          "output_type": "stream",
          "name": "stdout",
          "text": [
            "Salvando log TensorBoard em: 'tb_nlp/modelo_3_gru/20230128-131207'.\n",
            "Epoch 1/5\n",
            "215/215 [==============================] - 6s 18ms/step - loss: 0.1594 - accuracy: 0.9334 - val_loss: 0.6374 - val_accuracy: 0.7743\n",
            "Epoch 2/5\n",
            "215/215 [==============================] - 3s 16ms/step - loss: 0.0844 - accuracy: 0.9704 - val_loss: 0.9244 - val_accuracy: 0.7664\n",
            "Epoch 3/5\n",
            "215/215 [==============================] - 3s 16ms/step - loss: 0.0751 - accuracy: 0.9721 - val_loss: 0.9119 - val_accuracy: 0.7612\n",
            "Epoch 4/5\n",
            "215/215 [==============================] - 3s 15ms/step - loss: 0.0698 - accuracy: 0.9734 - val_loss: 0.8910 - val_accuracy: 0.7598\n",
            "Epoch 5/5\n",
            "215/215 [==============================] - 3s 15ms/step - loss: 0.0617 - accuracy: 0.9752 - val_loss: 0.8717 - val_accuracy: 0.7677\n"
          ]
        }
      ]
    },
    {
      "cell_type": "code",
      "source": [
        "grafico_historico_por_iteracao(historicos[3])"
      ],
      "metadata": {
        "colab": {
          "base_uri": "https://localhost:8080/",
          "height": 473
        },
        "id": "XZou8Lp2Xj2W",
        "outputId": "b24e0fb2-1553-4daa-e13e-eb39e619f8de"
      },
      "execution_count": 35,
      "outputs": [
        {
          "output_type": "display_data",
          "data": {
            "text/plain": [
              "<Figure size 800x500 with 1 Axes>"
            ],
            "image/png": "[encoded data removed]"
          },
          "metadata": {}
        }
      ]
    },
    {
      "cell_type": "code",
      "source": [
        "avaliacoes[3] = modelos[3].evaluate(X_test, y_test)\n",
        "previsoes[3] = tf.squeeze(tf.round(modelos[3].predict(X_test)))\n",
        "relatorios[3] = avaliar_modelo(previsoes[3], y_test)"
      ],
      "metadata": {
        "colab": {
          "base_uri": "https://localhost:8080/",
          "height": 643
        },
        "id": "bkugRPZZXrAU",
        "outputId": "02f79c9d-e7e8-44ab-fd8a-3f3d3173e55c"
      },
      "execution_count": 36,
      "outputs": [
        {
          "output_type": "stream",
          "name": "stdout",
          "text": [
            "24/24 [==============================] - 0s 3ms/step - loss: 0.8717 - accuracy: 0.7677\n",
            "24/24 [==============================] - 0s 3ms/step\n",
            "              precision    recall  f1-score   support\n",
            "\n",
            "           0       0.80      0.79      0.79       433\n",
            "           1       0.73      0.74      0.73       329\n",
            "\n",
            "    accuracy                           0.77       762\n",
            "   macro avg       0.76      0.76      0.76       762\n",
            "weighted avg       0.77      0.77      0.77       762\n",
            "\n"
          ]
        },
        {
          "output_type": "display_data",
          "data": {
            "text/plain": [
              "<Figure size 800x500 with 2 Axes>"
            ],
            "image/png": "[encoded data removed]"
          },
          "metadata": {}
        }
      ]
    },
    {
      "cell_type": "code",
      "source": [
        "relatorios[3]"
      ],
      "metadata": {
        "colab": {
          "base_uri": "https://localhost:8080/"
        },
        "id": "l4vlF6MtYFB9",
        "outputId": "1cffa792-029e-4215-991c-adc5ae73e5a2"
      },
      "execution_count": 37,
      "outputs": [
        {
          "output_type": "execute_result",
          "data": {
            "text/plain": [
              "{'acuracia': 0.7677165354330708,\n",
              " 'precisao': 0.7679872391966694,\n",
              " 'revocacao': 0.7677165354330708,\n",
              " 'pontuacao-f1': 0.7678399165417246}"
            ]
          },
          "metadata": {},
          "execution_count": 37
        }
      ]
    },
    {
      "cell_type": "markdown",
      "source": [
        "### Modelo 4: Bidirectional LSTM (RNN)"
      ],
      "metadata": {
        "id": "0_oIztLzYGf0"
      }
    },
    {
      "cell_type": "code",
      "source": [
        "modelo_nome = 'modelo_4_bidirectional_lstm'\n",
        "\n",
        "entradas = Input(shape=ENTRADA_FORMATO, dtype=ENTRADA_TIPO, name='camada_entrada')\n",
        "\n",
        "camadas = vetorizador(entradas)\n",
        "camadas = incorporador(camadas)\n",
        "\n",
        "# camadas = Bidirectional(layer=LSTM(units=64, activation=ATIVACAO_RNN, return_sequences=True))(camadas)\n",
        "camadas = Bidirectional(layer=LSTM(units=64, activation=ATIVACAO_RNN))(camadas)\n",
        "\n",
        "saidas = Dense(1, activation=ATIVACAO_SAIDA, name='camada_saida')(camadas)\n",
        "\n",
        "modelos[4] = Model(inputs=entradas, outputs=saidas, name=modelo_nome)\n",
        "\n",
        "modelos[4].compile(loss=PERDA,\n",
        "                   optimizer=Adam(learning_rate=APRENDIZADO),\n",
        "                   metrics=METRICAS)\n",
        "\n",
        "historicos[4] = modelos[4].fit(x=X_train,\n",
        "                               y=y_train,\n",
        "                               epochs=ITERACOES,\n",
        "                               validation_data=(X_test, y_test),\n",
        "                               callbacks=[criar_callback_tensorboard(diretorio=DIRETORIO_TB, experimento=modelo_nome)],\n",
        "                               verbose=1)"
      ],
      "metadata": {
        "colab": {
          "base_uri": "https://localhost:8080/"
        },
        "id": "coxtdI9FbWBb",
        "outputId": "db64eaf6-1006-43b5-c391-c058145d1378"
      },
      "execution_count": 38,
      "outputs": [
        {
          "output_type": "stream",
          "name": "stdout",
          "text": [
            "Salvando log TensorBoard em: 'tb_nlp/modelo_4_bidirectional_lstm/20230128-131228'.\n",
            "Epoch 1/5\n",
            "215/215 [==============================] - 10s 33ms/step - loss: 0.1084 - accuracy: 0.9650 - val_loss: 0.9528 - val_accuracy: 0.7730\n",
            "Epoch 2/5\n",
            "215/215 [==============================] - 5s 22ms/step - loss: 0.0584 - accuracy: 0.9756 - val_loss: 1.0430 - val_accuracy: 0.7612\n",
            "Epoch 3/5\n",
            "215/215 [==============================] - 5s 23ms/step - loss: 0.0530 - accuracy: 0.9769 - val_loss: 1.2053 - val_accuracy: 0.7598\n",
            "Epoch 4/5\n",
            "215/215 [==============================] - 5s 23ms/step - loss: 0.0462 - accuracy: 0.9791 - val_loss: 1.2235 - val_accuracy: 0.7651\n",
            "Epoch 5/5\n",
            "215/215 [==============================] - 5s 23ms/step - loss: 0.0431 - accuracy: 0.9796 - val_loss: 1.2965 - val_accuracy: 0.7703\n"
          ]
        }
      ]
    },
    {
      "cell_type": "code",
      "source": [
        "grafico_historico_por_iteracao(historicos[4])"
      ],
      "metadata": {
        "colab": {
          "base_uri": "https://localhost:8080/",
          "height": 473
        },
        "id": "eUAu3g9AfgiE",
        "outputId": "b268367d-7071-4239-dbad-412496116006"
      },
      "execution_count": 39,
      "outputs": [
        {
          "output_type": "display_data",
          "data": {
            "text/plain": [
              "<Figure size 800x500 with 1 Axes>"
            ],
            "image/png": "[encoded data removed]"
          },
          "metadata": {}
        }
      ]
    },
    {
      "cell_type": "code",
      "source": [
        "avaliacoes[4] = modelos[4].evaluate(X_test, y_test)\n",
        "previsoes[4] = tf.squeeze(tf.round(modelos[4].predict(X_test)))\n",
        "relatorios[4] = avaliar_modelo(previsoes[4], y_test)"
      ],
      "metadata": {
        "colab": {
          "base_uri": "https://localhost:8080/",
          "height": 643
        },
        "id": "qtSciiPgfjWK",
        "outputId": "5e848d8b-b501-4e2c-bf11-3fc5908f7ef2"
      },
      "execution_count": 40,
      "outputs": [
        {
          "output_type": "stream",
          "name": "stdout",
          "text": [
            "24/24 [==============================] - 0s 5ms/step - loss: 1.2965 - accuracy: 0.7703\n",
            "24/24 [==============================] - 1s 5ms/step\n",
            "              precision    recall  f1-score   support\n",
            "\n",
            "           0       0.79      0.82      0.80       433\n",
            "           1       0.75      0.71      0.73       329\n",
            "\n",
            "    accuracy                           0.77       762\n",
            "   macro avg       0.77      0.76      0.76       762\n",
            "weighted avg       0.77      0.77      0.77       762\n",
            "\n"
          ]
        },
        {
          "output_type": "display_data",
          "data": {
            "text/plain": [
              "<Figure size 800x500 with 2 Axes>"
            ],
            "image/png": "[encoded data removed]"
          },
          "metadata": {}
        }
      ]
    },
    {
      "cell_type": "code",
      "source": [
        "relatorios[4]"
      ],
      "metadata": {
        "colab": {
          "base_uri": "https://localhost:8080/"
        },
        "id": "1vfInz8vf93j",
        "outputId": "087ba4f7-d656-46d6-94bd-895d286e1932"
      },
      "execution_count": 41,
      "outputs": [
        {
          "output_type": "execute_result",
          "data": {
            "text/plain": [
              "{'acuracia': 0.7703412073490814,\n",
              " 'precisao': 0.7694183575682786,\n",
              " 'revocacao': 0.7703412073490814,\n",
              " 'pontuacao-f1': 0.7693921386268986}"
            ]
          },
          "metadata": {},
          "execution_count": 41
        }
      ]
    },
    {
      "cell_type": "code",
      "source": [],
      "metadata": {
        "id": "pZrwPL5Jf_Bz"
      },
      "execution_count": 41,
      "outputs": []
    }
  ]
}