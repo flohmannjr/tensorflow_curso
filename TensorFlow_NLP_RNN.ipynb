{
  "nbformat": 4,
  "nbformat_minor": 0,
  "metadata": {
    "colab": {
      "provenance": [],
      "toc_visible": true,
      "authorship_tag": "ABX9TyNnf6n2Z7OZlu4AmF4iodJC",
      "include_colab_link": true
    },
    "kernelspec": {
      "name": "python3",
      "display_name": "Python 3"
    },
    "language_info": {
      "name": "python"
    },
    "gpuClass": "standard",
    "accelerator": "GPU"
  },
  "cells": [
    {
      "cell_type": "markdown",
      "metadata": {
        "id": "view-in-github",
        "colab_type": "text"
      },
      "source": [
        "<a href=\"https://colab.research.google.com/github/flohmannjr/tensorflow_curso/blob/main/TensorFlow_NLP_RNN.ipynb\" target=\"_parent\"><img src=\"https://colab.research.google.com/assets/colab-badge.svg\" alt=\"Open In Colab\"/></a>"
      ]
    },
    {
      "cell_type": "markdown",
      "source": [
        "# TensorFlow Natural Language Processing"
      ],
      "metadata": {
        "id": "dT_z5biDpDhn"
      }
    },
    {
      "cell_type": "code",
      "source": [
        "import tensorflow as tf\n",
        "import tensorflow_hub as hub\n",
        "\n",
        "import pandas as pd\n",
        "import matplotlib.pyplot as plt\n",
        "import seaborn as sns\n",
        "\n",
        "import random, time\n",
        "\n",
        "from tensorflow.keras import Model, Sequential\n",
        "from tensorflow.keras.models import clone_model\n",
        "from tensorflow.keras.optimizers import Adam\n",
        "\n",
        "from tensorflow.keras.layers import Embedding, TextVectorization\n",
        "from tensorflow.keras.layers import Dense, GlobalAveragePooling1D, GlobalMaxPool1D, Input\n",
        "from tensorflow.keras.layers import Bidirectional, Conv1D, GRU, LSTM\n",
        "\n",
        "from sklearn.feature_extraction.text import TfidfVectorizer\n",
        "from sklearn.metrics import classification_report, ConfusionMatrixDisplay\n",
        "from sklearn.model_selection import train_test_split\n",
        "from sklearn.naive_bayes import MultinomialNB\n",
        "from sklearn.pipeline import Pipeline"
      ],
      "metadata": {
        "id": "gndy7tIUpNJO"
      },
      "execution_count": 1,
      "outputs": []
    },
    {
      "cell_type": "markdown",
      "source": [
        "## Setup"
      ],
      "metadata": {
        "id": "bYIefgtjOAGl"
      }
    },
    {
      "cell_type": "code",
      "source": [
        "plt.rcParams['figure.figsize'] = [8, 5]\n",
        "plt.rcParams['figure.dpi'] = 100\n",
        "plt.style.use('seaborn-darkgrid')"
      ],
      "metadata": {
        "id": "T_u3SG7QOCXV"
      },
      "execution_count": 2,
      "outputs": []
    },
    {
      "cell_type": "markdown",
      "source": [
        "### Constantes"
      ],
      "metadata": {
        "id": "Uy_Tv0JkpVxy"
      }
    },
    {
      "cell_type": "code",
      "source": [
        "SEMENTE = 2008193\n",
        "\n",
        "ENTRADA_FORMATO = (1,)\n",
        "ENTRADA_TIPO = tf.string\n",
        "\n",
        "ATIVACAO_CNN = 'relu'\n",
        "ATIVACAO_RNN = 'tanh'\n",
        "ATIVACAO_SAIDA = 'sigmoid'\n",
        "\n",
        "FILTROS = 32\n",
        "NUCLEO_TAMANHO = 32\n",
        "PREENCHIMENTO = 'same'\n",
        "\n",
        "PERDA = 'binary_crossentropy'\n",
        "APRENDIZADO = 0.001\n",
        "METRICAS = ['accuracy']\n",
        "\n",
        "ITERACOES = 5\n",
        "\n",
        "DIRETORIO_TB = 'tb_nlp'"
      ],
      "metadata": {
        "id": "Z-1CGl0S2DiU"
      },
      "execution_count": 3,
      "outputs": []
    },
    {
      "cell_type": "markdown",
      "source": [
        "### Funções"
      ],
      "metadata": {
        "id": "JdEFvvfnOjbd"
      }
    },
    {
      "cell_type": "code",
      "source": [
        "!wget https://raw.githubusercontent.com/flohmannjr/tensorflow_curso/main/funcoes.py"
      ],
      "metadata": {
        "id": "HRvtg6AjOlD1",
        "colab": {
          "base_uri": "https://localhost:8080/"
        },
        "outputId": "cda1fd9d-04df-423d-8285-c61f8b8afbb1"
      },
      "execution_count": 4,
      "outputs": [
        {
          "output_type": "stream",
          "name": "stdout",
          "text": [
            "--2023-01-29 06:34:03--  https://raw.githubusercontent.com/flohmannjr/tensorflow_curso/main/funcoes.py\n",
            "Resolving raw.githubusercontent.com (raw.githubusercontent.com)... 185.199.108.133, 185.199.111.133, 185.199.110.133, ...\n",
            "Connecting to raw.githubusercontent.com (raw.githubusercontent.com)|185.199.108.133|:443... connected.\n",
            "HTTP request sent, awaiting response... 200 OK\n",
            "Length: 5196 (5.1K) [text/plain]\n",
            "Saving to: ‘funcoes.py’\n",
            "\n",
            "funcoes.py          100%[===================>]   5.07K  --.-KB/s    in 0s      \n",
            "\n",
            "2023-01-29 06:34:03 (61.0 MB/s) - ‘funcoes.py’ saved [5196/5196]\n",
            "\n"
          ]
        }
      ]
    },
    {
      "cell_type": "code",
      "source": [
        "from funcoes import criar_callback_tensorboard, grafico_historico_por_iteracao, unzip_data"
      ],
      "metadata": {
        "id": "rw9KUoPdOpBG"
      },
      "execution_count": 5,
      "outputs": []
    },
    {
      "cell_type": "code",
      "source": [
        "def avaliar_modelo(previsao, validacao):\n",
        "    print(classification_report(validacao, previsao))\n",
        "\n",
        "    ConfusionMatrixDisplay.from_predictions(validacao, previsao, cmap='summer_r')\n",
        "    plt.grid(False)\n",
        "\n",
        "    relatorio = classification_report(validacao, previsao, output_dict=True)\n",
        "\n",
        "    return {'acuracia': relatorio['accuracy'],\n",
        "            'precisao': relatorio['weighted avg']['precision'],\n",
        "            'revocacao': relatorio['weighted avg']['recall'],\n",
        "            'pontuacao-f1': relatorio['weighted avg']['f1-score']}"
      ],
      "metadata": {
        "id": "KyYEiwDcnppZ"
      },
      "execution_count": 6,
      "outputs": []
    },
    {
      "cell_type": "markdown",
      "source": [
        "### Limpar diretorio TensorBoard"
      ],
      "metadata": {
        "id": "vVBMbw9FgVLc"
      }
    },
    {
      "cell_type": "code",
      "source": [
        "# # Apagar diretórios não-vazios\n",
        "# import shutil\n",
        "# shutil.rmtree(DIRETORIO_TB)"
      ],
      "metadata": {
        "id": "18vE-Xt6gbtB"
      },
      "execution_count": 7,
      "outputs": []
    },
    {
      "cell_type": "markdown",
      "source": [
        "## Dados"
      ],
      "metadata": {
        "id": "JwVKeK--qP0c"
      }
    },
    {
      "cell_type": "markdown",
      "source": [
        "Dados originalmente da competição **Natural Language Processing with Disaster Tweets** no Kaggle. (Em andamento em 27.01.2023.)\n",
        "\n",
        "https://www.kaggle.com/c/nlp-getting-started"
      ],
      "metadata": {
        "id": "ogGEu1xNqbNU"
      }
    },
    {
      "cell_type": "code",
      "source": [
        "!wget https://storage.googleapis.com/ztm_tf_course/nlp_getting_started.zip\n",
        "\n",
        "unzip_data('nlp_getting_started.zip')"
      ],
      "metadata": {
        "colab": {
          "base_uri": "https://localhost:8080/"
        },
        "id": "xckD58OPsjZ_",
        "outputId": "abd94db0-5e2c-42a2-c22a-b9f0ad0e03d5"
      },
      "execution_count": 8,
      "outputs": [
        {
          "output_type": "stream",
          "name": "stdout",
          "text": [
            "--2023-01-29 06:34:03--  https://storage.googleapis.com/ztm_tf_course/nlp_getting_started.zip\n",
            "Resolving storage.googleapis.com (storage.googleapis.com)... 142.251.10.128, 142.251.12.128, 172.217.194.128, ...\n",
            "Connecting to storage.googleapis.com (storage.googleapis.com)|142.251.10.128|:443... connected.\n",
            "HTTP request sent, awaiting response... 200 OK\n",
            "Length: 607343 (593K) [application/zip]\n",
            "Saving to: ‘nlp_getting_started.zip’\n",
            "\n",
            "nlp_getting_started 100%[===================>] 593.11K   755KB/s    in 0.8s    \n",
            "\n",
            "2023-01-29 06:34:04 (755 KB/s) - ‘nlp_getting_started.zip’ saved [607343/607343]\n",
            "\n"
          ]
        }
      ]
    },
    {
      "cell_type": "code",
      "source": [
        "df_treino = pd.read_csv('train.csv')\n",
        "df_teste = pd.read_csv('test.csv')\n",
        "\n",
        "# Embaralhar dados de treino (frac=1 = 100% dos dados)\n",
        "df_treino = df_treino.sample(frac=1, random_state=SEMENTE)"
      ],
      "metadata": {
        "id": "YxQcLCK2tqDc"
      },
      "execution_count": 9,
      "outputs": []
    },
    {
      "cell_type": "code",
      "source": [
        "df_treino.head()"
      ],
      "metadata": {
        "colab": {
          "base_uri": "https://localhost:8080/",
          "height": 206
        },
        "id": "aB-j8N8H0dQh",
        "outputId": "2d0753e0-9a99-4cb9-c3b2-675c35643bf4"
      },
      "execution_count": 10,
      "outputs": [
        {
          "output_type": "execute_result",
          "data": {
            "text/plain": [
              "        id     keyword         location  \\\n",
              "2299  3299    demolish             NYHC   \n",
              "3704  5269        fear        Carregado   \n",
              "3468  4961   explosion         New York   \n",
              "6653  9533   terrorist  ????? ???? ????   \n",
              "3634  5183  fatalities          jersey    \n",
              "\n",
              "                                                   text  target  \n",
              "2299  If you think going to demolish Drake's house o...       1  \n",
              "3704  I didn`t want to hurt you but the fear drove m...       0  \n",
              "3468  New Explosion-proof Tempered Glass Screen Prot...       0  \n",
              "6653   #UdhampurAgain 2 terrorist shot dead.. #Udhampur       1  \n",
              "3634  mortal kombat fatalities are so gross but inte...       0  "
            ],
            "text/html": [
              "\n",
              "  <div id=\"df-426e3d88-e6fa-4bb2-a6ee-911a997e0598\">\n",
              "    <div class=\"colab-df-container\">\n",
              "      <div>\n",
              "<style scoped>\n",
              "    .dataframe tbody tr th:only-of-type {\n",
              "        vertical-align: middle;\n",
              "    }\n",
              "\n",
              "    .dataframe tbody tr th {\n",
              "        vertical-align: top;\n",
              "    }\n",
              "\n",
              "    .dataframe thead th {\n",
              "        text-align: right;\n",
              "    }\n",
              "</style>\n",
              "<table border=\"1\" class=\"dataframe\">\n",
              "  <thead>\n",
              "    <tr style=\"text-align: right;\">\n",
              "      <th></th>\n",
              "      <th>id</th>\n",
              "      <th>keyword</th>\n",
              "      <th>location</th>\n",
              "      <th>text</th>\n",
              "      <th>target</th>\n",
              "    </tr>\n",
              "  </thead>\n",
              "  <tbody>\n",
              "    <tr>\n",
              "      <th>2299</th>\n",
              "      <td>3299</td>\n",
              "      <td>demolish</td>\n",
              "      <td>NYHC</td>\n",
              "      <td>If you think going to demolish Drake's house o...</td>\n",
              "      <td>1</td>\n",
              "    </tr>\n",
              "    <tr>\n",
              "      <th>3704</th>\n",
              "      <td>5269</td>\n",
              "      <td>fear</td>\n",
              "      <td>Carregado</td>\n",
              "      <td>I didn`t want to hurt you but the fear drove m...</td>\n",
              "      <td>0</td>\n",
              "    </tr>\n",
              "    <tr>\n",
              "      <th>3468</th>\n",
              "      <td>4961</td>\n",
              "      <td>explosion</td>\n",
              "      <td>New York</td>\n",
              "      <td>New Explosion-proof Tempered Glass Screen Prot...</td>\n",
              "      <td>0</td>\n",
              "    </tr>\n",
              "    <tr>\n",
              "      <th>6653</th>\n",
              "      <td>9533</td>\n",
              "      <td>terrorist</td>\n",
              "      <td>????? ???? ????</td>\n",
              "      <td>#UdhampurAgain 2 terrorist shot dead.. #Udhampur</td>\n",
              "      <td>1</td>\n",
              "    </tr>\n",
              "    <tr>\n",
              "      <th>3634</th>\n",
              "      <td>5183</td>\n",
              "      <td>fatalities</td>\n",
              "      <td>jersey</td>\n",
              "      <td>mortal kombat fatalities are so gross but inte...</td>\n",
              "      <td>0</td>\n",
              "    </tr>\n",
              "  </tbody>\n",
              "</table>\n",
              "</div>\n",
              "      <button class=\"colab-df-convert\" onclick=\"convertToInteractive('df-426e3d88-e6fa-4bb2-a6ee-911a997e0598')\"\n",
              "              title=\"Convert this dataframe to an interactive table.\"\n",
              "              style=\"display:none;\">\n",
              "        \n",
              "  <svg xmlns=\"http://www.w3.org/2000/svg\" height=\"24px\"viewBox=\"0 0 24 24\"\n",
              "       width=\"24px\">\n",
              "    <path d=\"M0 0h24v24H0V0z\" fill=\"none\"/>\n",
              "    <path d=\"M18.56 5.44l.94 2.06.94-2.06 2.06-.94-2.06-.94-.94-2.06-.94 2.06-2.06.94zm-11 1L8.5 8.5l.94-2.06 2.06-.94-2.06-.94L8.5 2.5l-.94 2.06-2.06.94zm10 10l.94 2.06.94-2.06 2.06-.94-2.06-.94-.94-2.06-.94 2.06-2.06.94z\"/><path d=\"M17.41 7.96l-1.37-1.37c-.4-.4-.92-.59-1.43-.59-.52 0-1.04.2-1.43.59L10.3 9.45l-7.72 7.72c-.78.78-.78 2.05 0 2.83L4 21.41c.39.39.9.59 1.41.59.51 0 1.02-.2 1.41-.59l7.78-7.78 2.81-2.81c.8-.78.8-2.07 0-2.86zM5.41 20L4 18.59l7.72-7.72 1.47 1.35L5.41 20z\"/>\n",
              "  </svg>\n",
              "      </button>\n",
              "      \n",
              "  <style>\n",
              "    .colab-df-container {\n",
              "      display:flex;\n",
              "      flex-wrap:wrap;\n",
              "      gap: 12px;\n",
              "    }\n",
              "\n",
              "    .colab-df-convert {\n",
              "      background-color: #E8F0FE;\n",
              "      border: none;\n",
              "      border-radius: 50%;\n",
              "      cursor: pointer;\n",
              "      display: none;\n",
              "      fill: #1967D2;\n",
              "      height: 32px;\n",
              "      padding: 0 0 0 0;\n",
              "      width: 32px;\n",
              "    }\n",
              "\n",
              "    .colab-df-convert:hover {\n",
              "      background-color: #E2EBFA;\n",
              "      box-shadow: 0px 1px 2px rgba(60, 64, 67, 0.3), 0px 1px 3px 1px rgba(60, 64, 67, 0.15);\n",
              "      fill: #174EA6;\n",
              "    }\n",
              "\n",
              "    [theme=dark] .colab-df-convert {\n",
              "      background-color: #3B4455;\n",
              "      fill: #D2E3FC;\n",
              "    }\n",
              "\n",
              "    [theme=dark] .colab-df-convert:hover {\n",
              "      background-color: #434B5C;\n",
              "      box-shadow: 0px 1px 3px 1px rgba(0, 0, 0, 0.15);\n",
              "      filter: drop-shadow(0px 1px 2px rgba(0, 0, 0, 0.3));\n",
              "      fill: #FFFFFF;\n",
              "    }\n",
              "  </style>\n",
              "\n",
              "      <script>\n",
              "        const buttonEl =\n",
              "          document.querySelector('#df-426e3d88-e6fa-4bb2-a6ee-911a997e0598 button.colab-df-convert');\n",
              "        buttonEl.style.display =\n",
              "          google.colab.kernel.accessAllowed ? 'block' : 'none';\n",
              "\n",
              "        async function convertToInteractive(key) {\n",
              "          const element = document.querySelector('#df-426e3d88-e6fa-4bb2-a6ee-911a997e0598');\n",
              "          const dataTable =\n",
              "            await google.colab.kernel.invokeFunction('convertToInteractive',\n",
              "                                                     [key], {});\n",
              "          if (!dataTable) return;\n",
              "\n",
              "          const docLinkHtml = 'Like what you see? Visit the ' +\n",
              "            '<a target=\"_blank\" href=https://colab.research.google.com/notebooks/data_table.ipynb>data table notebook</a>'\n",
              "            + ' to learn more about interactive tables.';\n",
              "          element.innerHTML = '';\n",
              "          dataTable['output_type'] = 'display_data';\n",
              "          await google.colab.output.renderOutput(dataTable, element);\n",
              "          const docLink = document.createElement('div');\n",
              "          docLink.innerHTML = docLinkHtml;\n",
              "          element.appendChild(docLink);\n",
              "        }\n",
              "      </script>\n",
              "    </div>\n",
              "  </div>\n",
              "  "
            ]
          },
          "metadata": {},
          "execution_count": 10
        }
      ]
    },
    {
      "cell_type": "code",
      "source": [
        "df_treino.info()"
      ],
      "metadata": {
        "colab": {
          "base_uri": "https://localhost:8080/"
        },
        "id": "WbntiFfY0fP_",
        "outputId": "47f6bbff-cda8-41c9-d116-cc7b0cfa0151"
      },
      "execution_count": 11,
      "outputs": [
        {
          "output_type": "stream",
          "name": "stdout",
          "text": [
            "<class 'pandas.core.frame.DataFrame'>\n",
            "Int64Index: 7613 entries, 2299 to 4895\n",
            "Data columns (total 5 columns):\n",
            " #   Column    Non-Null Count  Dtype \n",
            "---  ------    --------------  ----- \n",
            " 0   id        7613 non-null   int64 \n",
            " 1   keyword   7552 non-null   object\n",
            " 2   location  5080 non-null   object\n",
            " 3   text      7613 non-null   object\n",
            " 4   target    7613 non-null   int64 \n",
            "dtypes: int64(2), object(3)\n",
            "memory usage: 356.9+ KB\n"
          ]
        }
      ]
    },
    {
      "cell_type": "code",
      "source": [
        "df_treino['target'].value_counts()"
      ],
      "metadata": {
        "colab": {
          "base_uri": "https://localhost:8080/"
        },
        "id": "5zNTAQjr0ln6",
        "outputId": "b6e26791-207c-46bc-9877-972170dd9c64"
      },
      "execution_count": 12,
      "outputs": [
        {
          "output_type": "execute_result",
          "data": {
            "text/plain": [
              "0    4342\n",
              "1    3271\n",
              "Name: target, dtype: int64"
            ]
          },
          "metadata": {},
          "execution_count": 12
        }
      ]
    },
    {
      "cell_type": "markdown",
      "source": [
        "### Separar dados para validação"
      ],
      "metadata": {
        "id": "9aFFo29NDdxO"
      }
    },
    {
      "cell_type": "code",
      "source": [
        "X = df_treino['text']\n",
        "y = df_treino['target']\n",
        "\n",
        "X_train, X_test, y_train, y_test = train_test_split(X, y, test_size=0.1, random_state=SEMENTE)"
      ],
      "metadata": {
        "id": "cn9dBpJf3ahG"
      },
      "execution_count": 13,
      "outputs": []
    },
    {
      "cell_type": "markdown",
      "source": [
        "## Converter texto em números"
      ],
      "metadata": {
        "id": "XFJvbZGNF1wQ"
      }
    },
    {
      "cell_type": "code",
      "source": [
        "limite_dicionario = 10000\n",
        "\n",
        "media_palavras_por_texto = round(sum([len(texto.split()) for texto in X_train]) / len(X_train))\n",
        "# maximo_palavras_por_texto = max([len(texto.split()) for texto in X_train])\n",
        "\n",
        "tamanho_texto = media_palavras_por_texto"
      ],
      "metadata": {
        "id": "eEeIqaudihRy"
      },
      "execution_count": 14,
      "outputs": []
    },
    {
      "cell_type": "markdown",
      "source": [
        "### Vetorização (Vectorization)"
      ],
      "metadata": {
        "id": "MZMY-KhKPbON"
      }
    },
    {
      "cell_type": "code",
      "source": [
        "vetorizador = TextVectorization(max_tokens=limite_dicionario,               # (Default: None) Máximo de tokens (palavras) no dicionário.\n",
        "                                standardize='lower_and_strip_punctuation',  # (Default) Texto em caixa baixa e retira caracteres especiais.\n",
        "                                split='whitespace',                         # (Default) Separador de tokens.\n",
        "                                ngrams=None,                                # (Default) Tokens por grupo. (None = não agrupar tokens.)\n",
        "                                output_mode='int',                          # (Default) Como mapear tokens para números.\n",
        "                                output_sequence_length=tamanho_texto)       # (Default: None) Tamanho do texto, completado ou truncado, se necessário. (Válido apenas para 'int'.)"
      ],
      "metadata": {
        "id": "cK8AkY3m4DYF"
      },
      "execution_count": 15,
      "outputs": []
    },
    {
      "cell_type": "code",
      "source": [
        "vetorizador.adapt(X_train)"
      ],
      "metadata": {
        "id": "Ak3f6OTu7Dfp"
      },
      "execution_count": 16,
      "outputs": []
    },
    {
      "cell_type": "code",
      "source": [
        "texto = random.choice(X_train)\n",
        "print(texto)\n",
        "\n",
        "vetorizador([texto])"
      ],
      "metadata": {
        "colab": {
          "base_uri": "https://localhost:8080/"
        },
        "id": "orHNIpsbLafi",
        "outputId": "fb1dcc1f-d318-4c76-a633-ae741ca13814"
      },
      "execution_count": 17,
      "outputs": [
        {
          "output_type": "stream",
          "name": "stdout",
          "text": [
            "Families to sue over Legionnaires: More than 40 families affected by the fatal outbreak of Legionnaires' disea... http://t.co/oJyW7jkUH5\n"
          ]
        },
        {
          "output_type": "execute_result",
          "data": {
            "text/plain": [
              "<tf.Tensor: shape=(1, 15), dtype=int64, numpy=\n",
              "array([[139,   5, 642,  64, 194,  53,  79, 479, 139, 551,  18,   2, 188,\n",
              "        341,   6]])>"
            ]
          },
          "metadata": {},
          "execution_count": 17
        }
      ]
    },
    {
      "cell_type": "code",
      "source": [
        "vocabulario = vetorizador.get_vocabulary()"
      ],
      "metadata": {
        "id": "TRo6HuAcMLEf"
      },
      "execution_count": 18,
      "outputs": []
    },
    {
      "cell_type": "code",
      "source": [
        "# [UNK] = Desconhecido, fora do limite do dicionário.\n",
        "len(vocabulario), vocabulario[:5], vocabulario[-5:]"
      ],
      "metadata": {
        "colab": {
          "base_uri": "https://localhost:8080/"
        },
        "id": "kUN1qXHXNrY-",
        "outputId": "b2045b76-e2ba-4ad0-c277-94fd844fb69e"
      },
      "execution_count": 19,
      "outputs": [
        {
          "output_type": "execute_result",
          "data": {
            "text/plain": [
              "(10000,\n",
              " ['', '[UNK]', 'the', 'a', 'in'],\n",
              " ['pacic', 'p45perez', 'oyster', 'oworoshoki', 'ownership'])"
            ]
          },
          "metadata": {},
          "execution_count": 19
        }
      ]
    },
    {
      "cell_type": "markdown",
      "source": [
        "### Incorporação (Embedding)"
      ],
      "metadata": {
        "id": "aFWb7WPXOnqn"
      }
    },
    {
      "cell_type": "code",
      "source": [
        "incorporador = Embedding(input_dim=limite_dicionario,  # Tamanho do vocabulário de entrada.\n",
        "                         output_dim=128,               # Dimensão do vetor de saída. (Geralmente um múltiplo de 8.)\n",
        "                         input_length=tamanho_texto)   # Tamanho do texto de entrada."
      ],
      "metadata": {
        "id": "LhYEdM7FPqW_"
      },
      "execution_count": 20,
      "outputs": []
    },
    {
      "cell_type": "code",
      "source": [
        "texto = random.choice(X_train)\n",
        "print(texto)\n",
        "\n",
        "incorporador(vetorizador([texto]))"
      ],
      "metadata": {
        "colab": {
          "base_uri": "https://localhost:8080/"
        },
        "id": "3eUep0VlTCSa",
        "outputId": "ea313507-9f25-4145-dacf-5a77388a64de"
      },
      "execution_count": 21,
      "outputs": [
        {
          "output_type": "stream",
          "name": "stdout",
          "text": [
            "AMBULANCE SPRINTER AUTOMATIC FRONTLINE VEHICLE CHOICE OF 14 LEZ COMPLIANT | eBay http://t.co/UJrX9kgawp\n"
          ]
        },
        {
          "output_type": "execute_result",
          "data": {
            "text/plain": [
              "<tf.Tensor: shape=(1, 15, 128), dtype=float32, numpy=\n",
              "array([[[-0.04995641,  0.0310593 ,  0.00490378, ..., -0.04975635,\n",
              "          0.02047822,  0.04372041],\n",
              "        [ 0.02290884,  0.00253878, -0.01452812, ...,  0.01112006,\n",
              "         -0.00786034, -0.02538692],\n",
              "        [ 0.00300956,  0.00833621,  0.04256078, ..., -0.01495417,\n",
              "         -0.03281917, -0.02854469],\n",
              "        ...,\n",
              "        [ 0.00470575, -0.04538809, -0.04056036, ..., -0.01854389,\n",
              "         -0.01388413,  0.041064  ],\n",
              "        [ 0.00470575, -0.04538809, -0.04056036, ..., -0.01854389,\n",
              "         -0.01388413,  0.041064  ],\n",
              "        [ 0.00470575, -0.04538809, -0.04056036, ..., -0.01854389,\n",
              "         -0.01388413,  0.041064  ]]], dtype=float32)>"
            ]
          },
          "metadata": {},
          "execution_count": 21
        }
      ]
    },
    {
      "cell_type": "markdown",
      "source": [
        "## Experimentos"
      ],
      "metadata": {
        "id": "pLbpRM9GTN0V"
      }
    },
    {
      "cell_type": "markdown",
      "source": [
        "* Model 0: Naive Bayes with TF-IDF encoder (baseline)\n",
        "* Model 1: Feed-forward neural network (dense model)\n",
        "* Model 2: LSTM model (RNN)\n",
        "* Model 3: GRU model (RNN)\n",
        "* Model 4: Bidirectional LSTM (RNN)\n",
        "* Model 5: 1D Convolutional Neural Network\n",
        "* Model 6: TFHub Universal Sentence Encoder\n",
        "* Model 7: Same as model 6 but using 10% of data"
      ],
      "metadata": {
        "id": "8VmOb9hHd6bM"
      }
    },
    {
      "cell_type": "code",
      "source": [
        "modelos = [None] * 8\n",
        "avaliacoes = [None] * 8\n",
        "previsoes = [None] * 8\n",
        "relatorios = [None] * 8\n",
        "\n",
        "probabilidades = [None] * 8\n",
        "historicos = [None] * 8"
      ],
      "metadata": {
        "id": "vPO_5qcCkVq8"
      },
      "execution_count": 22,
      "outputs": []
    },
    {
      "cell_type": "code",
      "source": [
        "def dados_modelo(indice):\n",
        "    avaliacoes[indice] = modelos[indice].evaluate(X_test, y_test)\n",
        "    probabilidades[indice] = modelos[indice].predict(X_test)\n",
        "    previsoes[indice] = tf.squeeze(tf.round(probabilidades[indice]))\n",
        "    relatorios[indice] = avaliar_modelo(previsoes[indice], y_test)"
      ],
      "metadata": {
        "id": "ep7PQ31JtSwx"
      },
      "execution_count": 23,
      "outputs": []
    },
    {
      "cell_type": "markdown",
      "source": [
        "### Modelo 0: Naive Bayes with TF-IDF encoder (baseline)"
      ],
      "metadata": {
        "id": "TMZ6qOyheN3r"
      }
    },
    {
      "cell_type": "code",
      "source": [
        "modelos[0] = Pipeline([('tdidf', TfidfVectorizer()),\n",
        "                       ('clf', MultinomialNB())]) # clf = classifier\n",
        "\n",
        "modelos[0].fit(X_train, y_train)"
      ],
      "metadata": {
        "colab": {
          "base_uri": "https://localhost:8080/"
        },
        "id": "cCsJso3vfxfD",
        "outputId": "e47405a3-6643-43fc-fef7-329b91ed1223"
      },
      "execution_count": 24,
      "outputs": [
        {
          "output_type": "execute_result",
          "data": {
            "text/plain": [
              "Pipeline(steps=[('tdidf', TfidfVectorizer()), ('clf', MultinomialNB())])"
            ]
          },
          "metadata": {},
          "execution_count": 24
        }
      ]
    },
    {
      "cell_type": "code",
      "source": [
        "avaliacoes[0] = modelos[0].score(X_test, y_test)\n",
        "avaliacoes[0]"
      ],
      "metadata": {
        "colab": {
          "base_uri": "https://localhost:8080/"
        },
        "id": "sV_JXr3ojLLF",
        "outputId": "e969303a-9c48-45bf-be4f-f16e20f05783"
      },
      "execution_count": 25,
      "outputs": [
        {
          "output_type": "execute_result",
          "data": {
            "text/plain": [
              "0.8083989501312336"
            ]
          },
          "metadata": {},
          "execution_count": 25
        }
      ]
    },
    {
      "cell_type": "code",
      "source": [
        "previsoes[0] = modelos[0].predict(X_test)\n",
        "previsoes[0][:20]"
      ],
      "metadata": {
        "colab": {
          "base_uri": "https://localhost:8080/"
        },
        "id": "8Agn57DsjkIt",
        "outputId": "02ee6b16-bd36-4864-b50f-8ea14290afaf"
      },
      "execution_count": 26,
      "outputs": [
        {
          "output_type": "execute_result",
          "data": {
            "text/plain": [
              "array([0, 0, 1, 0, 0, 1, 0, 1, 0, 0, 1, 0, 0, 0, 1, 0, 1, 1, 0, 1])"
            ]
          },
          "metadata": {},
          "execution_count": 26
        }
      ]
    },
    {
      "cell_type": "code",
      "source": [
        "relatorios[0] = avaliar_modelo(previsoes[0], y_test)"
      ],
      "metadata": {
        "colab": {
          "base_uri": "https://localhost:8080/",
          "height": 609
        },
        "id": "lcUD_qM2mBfi",
        "outputId": "3700a1df-46f0-4b45-fc4f-7fc88f77ae3e"
      },
      "execution_count": 27,
      "outputs": [
        {
          "output_type": "stream",
          "name": "stdout",
          "text": [
            "              precision    recall  f1-score   support\n",
            "\n",
            "           0       0.77      0.94      0.85       433\n",
            "           1       0.88      0.64      0.74       329\n",
            "\n",
            "    accuracy                           0.81       762\n",
            "   macro avg       0.83      0.79      0.80       762\n",
            "weighted avg       0.82      0.81      0.80       762\n",
            "\n"
          ]
        },
        {
          "output_type": "display_data",
          "data": {
            "text/plain": [
              "<Figure size 800x500 with 2 Axes>"
            ],
            "image/png": "[encoded data removed]"
          },
          "metadata": {}
        }
      ]
    },
    {
      "cell_type": "code",
      "source": [
        "relatorios[0]"
      ],
      "metadata": {
        "colab": {
          "base_uri": "https://localhost:8080/"
        },
        "id": "abQE9YahqzLw",
        "outputId": "ca7a489c-61b1-4a76-9a70-e236d2c73ff9"
      },
      "execution_count": 28,
      "outputs": [
        {
          "output_type": "execute_result",
          "data": {
            "text/plain": [
              "{'acuracia': 0.8083989501312336,\n",
              " 'precisao': 0.821209966257038,\n",
              " 'revocacao': 0.8083989501312336,\n",
              " 'pontuacao-f1': 0.8022381673606139}"
            ]
          },
          "metadata": {},
          "execution_count": 28
        }
      ]
    },
    {
      "cell_type": "markdown",
      "source": [
        "### Modelo 1: Feed-forward neural network (dense model)"
      ],
      "metadata": {
        "id": "src09mbeuhsw"
      }
    },
    {
      "cell_type": "code",
      "source": [
        "modelo_nome = 'modelo_1_dense'\n",
        "\n",
        "entradas = Input(shape=ENTRADA_FORMATO, dtype=ENTRADA_TIPO, name='camada_entrada')\n",
        "\n",
        "camadas = vetorizador(entradas)\n",
        "camadas = incorporador(camadas)\n",
        "camadas = GlobalAveragePooling1D(name='agrupamento_media_global')(camadas)\n",
        "\n",
        "saidas = Dense(1, activation=ATIVACAO_SAIDA, name='camada_saida')(camadas)\n",
        "\n",
        "modelos[1] = Model(inputs=entradas, outputs=saidas, name=modelo_nome)\n",
        "\n",
        "modelos[1].compile(loss=PERDA,\n",
        "                   optimizer=Adam(learning_rate=APRENDIZADO),\n",
        "                   metrics=METRICAS)\n",
        "\n",
        "historicos[1] = modelos[1].fit(x=X_train,\n",
        "                               y=y_train,\n",
        "                               epochs=ITERACOES,\n",
        "                               validation_data=(X_test, y_test),\n",
        "                               # callbacks=[criar_callback_tensorboard(diretorio=DIRETORIO_TB, experimento=modelo_nome)],\n",
        "                               verbose=1)"
      ],
      "metadata": {
        "colab": {
          "base_uri": "https://localhost:8080/"
        },
        "id": "clIH5flW_uUO",
        "outputId": "77e8a33c-a146-4192-b66f-2fbf7efd9e07"
      },
      "execution_count": 29,
      "outputs": [
        {
          "output_type": "stream",
          "name": "stdout",
          "text": [
            "Epoch 1/5\n",
            "215/215 [==============================] - 6s 9ms/step - loss: 0.6127 - accuracy: 0.6868 - val_loss: 0.5167 - val_accuracy: 0.7900\n",
            "Epoch 2/5\n",
            "215/215 [==============================] - 1s 5ms/step - loss: 0.4438 - accuracy: 0.8186 - val_loss: 0.4395 - val_accuracy: 0.8097\n",
            "Epoch 3/5\n",
            "215/215 [==============================] - 1s 4ms/step - loss: 0.3503 - accuracy: 0.8603 - val_loss: 0.4180 - val_accuracy: 0.8110\n",
            "Epoch 4/5\n",
            "215/215 [==============================] - 1s 4ms/step - loss: 0.2883 - accuracy: 0.8888 - val_loss: 0.4176 - val_accuracy: 0.8110\n",
            "Epoch 5/5\n",
            "215/215 [==============================] - 1s 4ms/step - loss: 0.2408 - accuracy: 0.9096 - val_loss: 0.4273 - val_accuracy: 0.8058\n"
          ]
        }
      ]
    },
    {
      "cell_type": "code",
      "source": [
        "grafico_historico_por_iteracao(historicos[1])"
      ],
      "metadata": {
        "colab": {
          "base_uri": "https://localhost:8080/",
          "height": 473
        },
        "id": "wnxjZyqDE2EZ",
        "outputId": "8d2c6acb-85c3-4b65-c88e-3a7f371d429d"
      },
      "execution_count": 30,
      "outputs": [
        {
          "output_type": "display_data",
          "data": {
            "text/plain": [
              "<Figure size 800x500 with 1 Axes>"
            ],
            "image/png": "[encoded data removed]"
          },
          "metadata": {}
        }
      ]
    },
    {
      "cell_type": "code",
      "source": [
        "dados_modelo(1)"
      ],
      "metadata": {
        "colab": {
          "base_uri": "https://localhost:8080/",
          "height": 643
        },
        "id": "itV7bhSHE7Ki",
        "outputId": "5bdaafbc-fc04-475d-a51a-507579bd0eec"
      },
      "execution_count": 31,
      "outputs": [
        {
          "output_type": "stream",
          "name": "stdout",
          "text": [
            "24/24 [==============================] - 0s 3ms/step - loss: 0.4273 - accuracy: 0.8058\n",
            "24/24 [==============================] - 0s 2ms/step\n",
            "              precision    recall  f1-score   support\n",
            "\n",
            "           0       0.81      0.86      0.83       433\n",
            "           1       0.80      0.73      0.77       329\n",
            "\n",
            "    accuracy                           0.81       762\n",
            "   macro avg       0.80      0.80      0.80       762\n",
            "weighted avg       0.81      0.81      0.80       762\n",
            "\n"
          ]
        },
        {
          "output_type": "display_data",
          "data": {
            "text/plain": [
              "<Figure size 800x500 with 2 Axes>"
            ],
            "image/png": "[encoded data removed]"
          },
          "metadata": {}
        }
      ]
    },
    {
      "cell_type": "code",
      "source": [
        "relatorios[1]"
      ],
      "metadata": {
        "colab": {
          "base_uri": "https://localhost:8080/"
        },
        "id": "U6eelfBGFaWM",
        "outputId": "a245db26-d992-4d1b-8a0e-3cb1af5b349b"
      },
      "execution_count": 32,
      "outputs": [
        {
          "output_type": "execute_result",
          "data": {
            "text/plain": [
              "{'acuracia': 0.8057742782152231,\n",
              " 'precisao': 0.8054639199964303,\n",
              " 'revocacao': 0.8057742782152231,\n",
              " 'pontuacao-f1': 0.804499717177411}"
            ]
          },
          "metadata": {},
          "execution_count": 32
        }
      ]
    },
    {
      "cell_type": "markdown",
      "source": [
        "### Modelo 2: LSTM model (RNN)"
      ],
      "metadata": {
        "id": "RQ4IIsHrFhEu"
      }
    },
    {
      "cell_type": "code",
      "source": [
        "modelo_nome = 'modelo_2_lstm'\n",
        "\n",
        "entradas = Input(shape=ENTRADA_FORMATO, dtype=ENTRADA_TIPO, name='camada_entrada')\n",
        "\n",
        "camadas = vetorizador(entradas)\n",
        "camadas = incorporador(camadas)\n",
        "\n",
        "# camadas = LSTM(units=64, activation=ATIVACAO_RNN, return_sequences=True)(camadas) # Para empilhar camadas recorrentes é necessário return_sequences=True\n",
        "camadas = LSTM(units=64, activation=ATIVACAO_RNN)(camadas)\n",
        "\n",
        "saidas = Dense(1, activation=ATIVACAO_SAIDA, name='camada_saida')(camadas)\n",
        "\n",
        "modelos[2] = Model(inputs=entradas, outputs=saidas, name=modelo_nome)\n",
        "\n",
        "modelos[2].compile(loss=PERDA,\n",
        "                   optimizer=Adam(learning_rate=APRENDIZADO),\n",
        "                   metrics=METRICAS)\n",
        "\n",
        "historicos[2] = modelos[2].fit(x=X_train,\n",
        "                               y=y_train,\n",
        "                               epochs=ITERACOES,\n",
        "                               validation_data=(X_test, y_test),\n",
        "                               # callbacks=[criar_callback_tensorboard(diretorio=DIRETORIO_TB, experimento=modelo_nome)],\n",
        "                               verbose=1)"
      ],
      "metadata": {
        "id": "lSttDmjirgFn",
        "colab": {
          "base_uri": "https://localhost:8080/"
        },
        "outputId": "78fdf303-4106-413e-cc4a-e3978cf74e29"
      },
      "execution_count": 33,
      "outputs": [
        {
          "output_type": "stream",
          "name": "stdout",
          "text": [
            "Epoch 1/5\n",
            "215/215 [==============================] - 6s 9ms/step - loss: 0.2284 - accuracy: 0.9155 - val_loss: 0.5011 - val_accuracy: 0.7966\n",
            "Epoch 2/5\n",
            "215/215 [==============================] - 1s 7ms/step - loss: 0.1574 - accuracy: 0.9423 - val_loss: 0.4823 - val_accuracy: 0.7808\n",
            "Epoch 3/5\n",
            "215/215 [==============================] - 1s 6ms/step - loss: 0.1304 - accuracy: 0.9531 - val_loss: 0.6270 - val_accuracy: 0.7782\n",
            "Epoch 4/5\n",
            "215/215 [==============================] - 1s 6ms/step - loss: 0.1087 - accuracy: 0.9593 - val_loss: 0.6558 - val_accuracy: 0.7756\n",
            "Epoch 5/5\n",
            "215/215 [==============================] - 1s 6ms/step - loss: 0.0921 - accuracy: 0.9639 - val_loss: 0.7150 - val_accuracy: 0.7756\n"
          ]
        }
      ]
    },
    {
      "cell_type": "code",
      "source": [
        "grafico_historico_por_iteracao(historicos[2])"
      ],
      "metadata": {
        "colab": {
          "base_uri": "https://localhost:8080/",
          "height": 473
        },
        "id": "3RXwpdz3TIM9",
        "outputId": "1a5777c0-2079-4362-e686-f797c8745469"
      },
      "execution_count": 34,
      "outputs": [
        {
          "output_type": "display_data",
          "data": {
            "text/plain": [
              "<Figure size 800x500 with 1 Axes>"
            ],
            "image/png": "[encoded data removed]"
          },
          "metadata": {}
        }
      ]
    },
    {
      "cell_type": "code",
      "source": [
        "dados_modelo(2)"
      ],
      "metadata": {
        "colab": {
          "base_uri": "https://localhost:8080/",
          "height": 643
        },
        "id": "Gb3EVK9KTRYu",
        "outputId": "a9f89cb2-e883-4e13-dfb4-a7830db9cc71"
      },
      "execution_count": 35,
      "outputs": [
        {
          "output_type": "stream",
          "name": "stdout",
          "text": [
            "24/24 [==============================] - 0s 4ms/step - loss: 0.7150 - accuracy: 0.7756\n",
            "24/24 [==============================] - 0s 3ms/step\n",
            "              precision    recall  f1-score   support\n",
            "\n",
            "           0       0.78      0.85      0.81       433\n",
            "           1       0.78      0.67      0.72       329\n",
            "\n",
            "    accuracy                           0.78       762\n",
            "   macro avg       0.78      0.76      0.77       762\n",
            "weighted avg       0.78      0.78      0.77       762\n",
            "\n"
          ]
        },
        {
          "output_type": "display_data",
          "data": {
            "text/plain": [
              "<Figure size 800x500 with 2 Axes>"
            ],
            "image/png": "[encoded data removed]"
          },
          "metadata": {}
        }
      ]
    },
    {
      "cell_type": "code",
      "source": [
        "relatorios[2]"
      ],
      "metadata": {
        "colab": {
          "base_uri": "https://localhost:8080/"
        },
        "id": "R3wj_4RqT7kH",
        "outputId": "5029d04e-bb65-4d88-d84e-f7199e73310b"
      },
      "execution_count": 36,
      "outputs": [
        {
          "output_type": "execute_result",
          "data": {
            "text/plain": [
              "{'acuracia': 0.7755905511811023,\n",
              " 'precisao': 0.7756477542836968,\n",
              " 'revocacao': 0.7755905511811023,\n",
              " 'pontuacao-f1': 0.7730531570537502}"
            ]
          },
          "metadata": {},
          "execution_count": 36
        }
      ]
    },
    {
      "cell_type": "markdown",
      "source": [
        "### Modelo 3: GRU model (RNN)"
      ],
      "metadata": {
        "id": "2hz8D-xET8mF"
      }
    },
    {
      "cell_type": "code",
      "source": [
        "modelo_nome = 'modelo_3_gru'\n",
        "\n",
        "entradas = Input(shape=ENTRADA_FORMATO, dtype=ENTRADA_TIPO, name='camada_entrada')\n",
        "\n",
        "camadas = vetorizador(entradas)\n",
        "camadas = incorporador(camadas)\n",
        "\n",
        "# camadas = GRU(units=64, activation=ATIVACAO_RNN, return_sequences=True)(camadas)\n",
        "camadas = GRU(units=64, activation=ATIVACAO_RNN)(camadas)\n",
        "\n",
        "saidas = Dense(1, activation=ATIVACAO_SAIDA, name='camda_saida')(camadas)\n",
        "\n",
        "modelos[3] = Model(inputs=entradas, outputs=saidas, name=modelo_nome)\n",
        "\n",
        "modelos[3].compile(loss=PERDA,\n",
        "                   optimizer=Adam(learning_rate=APRENDIZADO),\n",
        "                   metrics=METRICAS)\n",
        "\n",
        "historicos[3] = modelos[3].fit(x=X_train,\n",
        "                               y=y_train,\n",
        "                               epochs=ITERACOES,\n",
        "                               validation_data=(X_test, y_test),\n",
        "                               # callbacks=[criar_callback_tensorboard(diretorio=DIRETORIO_TB, experimento=modelo_nome)],\n",
        "                               verbose=1)"
      ],
      "metadata": {
        "colab": {
          "base_uri": "https://localhost:8080/"
        },
        "id": "7tLqq30yV6ad",
        "outputId": "53c6e842-a1c0-44a5-961d-29551e61ad2a"
      },
      "execution_count": 37,
      "outputs": [
        {
          "output_type": "stream",
          "name": "stdout",
          "text": [
            "Epoch 1/5\n",
            "215/215 [==============================] - 3s 8ms/step - loss: 0.1505 - accuracy: 0.9438 - val_loss: 0.7079 - val_accuracy: 0.7664\n",
            "Epoch 2/5\n",
            "215/215 [==============================] - 1s 6ms/step - loss: 0.0827 - accuracy: 0.9696 - val_loss: 0.7864 - val_accuracy: 0.7717\n",
            "Epoch 3/5\n",
            "215/215 [==============================] - 1s 6ms/step - loss: 0.0729 - accuracy: 0.9737 - val_loss: 0.9540 - val_accuracy: 0.7664\n",
            "Epoch 4/5\n",
            "215/215 [==============================] - 1s 6ms/step - loss: 0.0698 - accuracy: 0.9717 - val_loss: 0.8701 - val_accuracy: 0.7625\n",
            "Epoch 5/5\n",
            "215/215 [==============================] - 1s 6ms/step - loss: 0.0608 - accuracy: 0.9756 - val_loss: 0.9069 - val_accuracy: 0.7756\n"
          ]
        }
      ]
    },
    {
      "cell_type": "code",
      "source": [
        "grafico_historico_por_iteracao(historicos[3])"
      ],
      "metadata": {
        "colab": {
          "base_uri": "https://localhost:8080/",
          "height": 473
        },
        "id": "XZou8Lp2Xj2W",
        "outputId": "cea8bff4-15bd-47f7-f326-30b0676b22c8"
      },
      "execution_count": 38,
      "outputs": [
        {
          "output_type": "display_data",
          "data": {
            "text/plain": [
              "<Figure size 800x500 with 1 Axes>"
            ],
            "image/png": "[encoded data removed]"
          },
          "metadata": {}
        }
      ]
    },
    {
      "cell_type": "code",
      "source": [
        "dados_modelo(3)"
      ],
      "metadata": {
        "colab": {
          "base_uri": "https://localhost:8080/",
          "height": 643
        },
        "id": "bkugRPZZXrAU",
        "outputId": "a48a7dbd-b26a-4919-89f9-2b9ef4e3b8f2"
      },
      "execution_count": 39,
      "outputs": [
        {
          "output_type": "stream",
          "name": "stdout",
          "text": [
            "24/24 [==============================] - 0s 3ms/step - loss: 0.9069 - accuracy: 0.7756\n",
            "24/24 [==============================] - 0s 3ms/step\n",
            "              precision    recall  f1-score   support\n",
            "\n",
            "           0       0.80      0.80      0.80       433\n",
            "           1       0.74      0.74      0.74       329\n",
            "\n",
            "    accuracy                           0.78       762\n",
            "   macro avg       0.77      0.77      0.77       762\n",
            "weighted avg       0.78      0.78      0.78       762\n",
            "\n"
          ]
        },
        {
          "output_type": "display_data",
          "data": {
            "text/plain": [
              "<Figure size 800x500 with 2 Axes>"
            ],
            "image/png": "[encoded data removed]"
          },
          "metadata": {}
        }
      ]
    },
    {
      "cell_type": "code",
      "source": [
        "relatorios[3]"
      ],
      "metadata": {
        "colab": {
          "base_uri": "https://localhost:8080/"
        },
        "id": "l4vlF6MtYFB9",
        "outputId": "e8db70a4-aed5-4d3d-ae09-b5942adbfe24"
      },
      "execution_count": 40,
      "outputs": [
        {
          "output_type": "execute_result",
          "data": {
            "text/plain": [
              "{'acuracia': 0.7755905511811023,\n",
              " 'precisao': 0.7758531470691409,\n",
              " 'revocacao': 0.7755905511811023,\n",
              " 'pontuacao-f1': 0.7757097498792934}"
            ]
          },
          "metadata": {},
          "execution_count": 40
        }
      ]
    },
    {
      "cell_type": "markdown",
      "source": [
        "### Modelo 4: Bidirectional LSTM (RNN)"
      ],
      "metadata": {
        "id": "0_oIztLzYGf0"
      }
    },
    {
      "cell_type": "code",
      "source": [
        "modelo_nome = 'modelo_4_bidirectional_lstm'\n",
        "\n",
        "entradas = Input(shape=ENTRADA_FORMATO, dtype=ENTRADA_TIPO, name='camada_entrada')\n",
        "\n",
        "camadas = vetorizador(entradas)\n",
        "camadas = incorporador(camadas)\n",
        "\n",
        "# camadas = Bidirectional(layer=LSTM(units=64, activation=ATIVACAO_RNN, return_sequences=True))(camadas)\n",
        "camadas = Bidirectional(layer=LSTM(units=64, activation=ATIVACAO_RNN))(camadas)\n",
        "\n",
        "saidas = Dense(1, activation=ATIVACAO_SAIDA, name='camada_saida')(camadas)\n",
        "\n",
        "modelos[4] = Model(inputs=entradas, outputs=saidas, name=modelo_nome)\n",
        "\n",
        "modelos[4].compile(loss=PERDA,\n",
        "                   optimizer=Adam(learning_rate=APRENDIZADO),\n",
        "                   metrics=METRICAS)\n",
        "\n",
        "historicos[4] = modelos[4].fit(x=X_train,\n",
        "                               y=y_train,\n",
        "                               epochs=ITERACOES,\n",
        "                               validation_data=(X_test, y_test),\n",
        "                               # callbacks=[criar_callback_tensorboard(diretorio=DIRETORIO_TB, experimento=modelo_nome)],\n",
        "                               verbose=1)"
      ],
      "metadata": {
        "colab": {
          "base_uri": "https://localhost:8080/"
        },
        "id": "coxtdI9FbWBb",
        "outputId": "dd0c66cc-379b-4a34-9ec3-0fb62cd2ec4c"
      },
      "execution_count": 41,
      "outputs": [
        {
          "output_type": "stream",
          "name": "stdout",
          "text": [
            "Epoch 1/5\n",
            "215/215 [==============================] - 5s 11ms/step - loss: 0.1052 - accuracy: 0.9682 - val_loss: 0.8614 - val_accuracy: 0.7730\n",
            "Epoch 2/5\n",
            "215/215 [==============================] - 2s 8ms/step - loss: 0.0587 - accuracy: 0.9783 - val_loss: 0.9545 - val_accuracy: 0.7703\n",
            "Epoch 3/5\n",
            "215/215 [==============================] - 2s 8ms/step - loss: 0.0511 - accuracy: 0.9764 - val_loss: 1.2454 - val_accuracy: 0.7664\n",
            "Epoch 4/5\n",
            "215/215 [==============================] - 2s 8ms/step - loss: 0.0444 - accuracy: 0.9797 - val_loss: 1.1613 - val_accuracy: 0.7677\n",
            "Epoch 5/5\n",
            "215/215 [==============================] - 2s 8ms/step - loss: 0.0457 - accuracy: 0.9769 - val_loss: 1.2013 - val_accuracy: 0.7625\n"
          ]
        }
      ]
    },
    {
      "cell_type": "code",
      "source": [
        "grafico_historico_por_iteracao(historicos[4])"
      ],
      "metadata": {
        "colab": {
          "base_uri": "https://localhost:8080/",
          "height": 473
        },
        "id": "eUAu3g9AfgiE",
        "outputId": "8e7d5aed-d620-48e6-a1cf-d1105677c21a"
      },
      "execution_count": 42,
      "outputs": [
        {
          "output_type": "display_data",
          "data": {
            "text/plain": [
              "<Figure size 800x500 with 1 Axes>"
            ],
            "image/png": "[encoded data removed]"
          },
          "metadata": {}
        }
      ]
    },
    {
      "cell_type": "code",
      "source": [
        "dados_modelo(4)"
      ],
      "metadata": {
        "colab": {
          "base_uri": "https://localhost:8080/",
          "height": 643
        },
        "id": "qtSciiPgfjWK",
        "outputId": "3eced4bf-cab1-4efe-d769-939a3f71d7b3"
      },
      "execution_count": 43,
      "outputs": [
        {
          "output_type": "stream",
          "name": "stdout",
          "text": [
            "24/24 [==============================] - 0s 4ms/step - loss: 1.2013 - accuracy: 0.7625\n",
            "24/24 [==============================] - 1s 4ms/step\n",
            "              precision    recall  f1-score   support\n",
            "\n",
            "           0       0.80      0.77      0.79       433\n",
            "           1       0.72      0.75      0.73       329\n",
            "\n",
            "    accuracy                           0.76       762\n",
            "   macro avg       0.76      0.76      0.76       762\n",
            "weighted avg       0.76      0.76      0.76       762\n",
            "\n"
          ]
        },
        {
          "output_type": "display_data",
          "data": {
            "text/plain": [
              "<Figure size 800x500 with 2 Axes>"
            ],
            "image/png": "[encoded data removed]"
          },
          "metadata": {}
        }
      ]
    },
    {
      "cell_type": "code",
      "source": [
        "relatorios[4]"
      ],
      "metadata": {
        "colab": {
          "base_uri": "https://localhost:8080/"
        },
        "id": "1vfInz8vf93j",
        "outputId": "fc04a11c-a00f-4740-ab2c-812a44b1c062"
      },
      "execution_count": 44,
      "outputs": [
        {
          "output_type": "execute_result",
          "data": {
            "text/plain": [
              "{'acuracia': 0.7624671916010499,\n",
              " 'precisao': 0.7641663870268136,\n",
              " 'revocacao': 0.7624671916010499,\n",
              " 'pontuacao-f1': 0.7630208733969838}"
            ]
          },
          "metadata": {},
          "execution_count": 44
        }
      ]
    },
    {
      "cell_type": "markdown",
      "source": [
        "### Modelo 5: 1D Convolutional Neural Network"
      ],
      "metadata": {
        "id": "pZrwPL5Jf_Bz"
      }
    },
    {
      "cell_type": "code",
      "source": [
        "modelo_nome = 'modelo_5_1d_cnn'\n",
        "\n",
        "entradas = Input(shape=ENTRADA_FORMATO, dtype=ENTRADA_TIPO, name='camada_entrada')\n",
        "\n",
        "camadas = vetorizador(entradas)\n",
        "camadas = incorporador(camadas)\n",
        "\n",
        "camadas = Conv1D(filters=FILTROS,\n",
        "                 kernel_size=NUCLEO_TAMANHO,  # Quantidade de palavras processadas por vez.\n",
        "                 activation=ATIVACAO_CNN,\n",
        "                 padding=PREENCHIMENTO,\n",
        "                 name='camada_convulacional')(camadas)\n",
        "\n",
        "camadas = GlobalMaxPool1D(name='agrupamento_maximo_global')(camadas)\n",
        "\n",
        "saidas = Dense(1, activation=ATIVACAO_SAIDA, name='camada_saida')(camadas)\n",
        "\n",
        "modelos[5] = Model(inputs=entradas, outputs=saidas, name=modelo_nome)\n",
        "\n",
        "modelos[5].compile(loss=PERDA,\n",
        "                   optimizer=Adam(learning_rate=APRENDIZADO),\n",
        "                   metrics=METRICAS)\n",
        "\n",
        "historicos[5] = modelos[5].fit(x=X_train,\n",
        "                               y=y_train,\n",
        "                               epochs=ITERACOES,\n",
        "                               validation_data=(X_test, y_test),\n",
        "                               # callbacks=[criar_callback_tensorboard(diretorio=DIRETORIO_TB, experimento=modelo_nome)],\n",
        "                               verbose=1)"
      ],
      "metadata": {
        "colab": {
          "base_uri": "https://localhost:8080/"
        },
        "id": "ip6n1hcEOGkM",
        "outputId": "66f706be-6099-4897-8ed2-e80540769468"
      },
      "execution_count": 45,
      "outputs": [
        {
          "output_type": "stream",
          "name": "stdout",
          "text": [
            "Epoch 1/5\n",
            "215/215 [==============================] - 5s 6ms/step - loss: 0.0961 - accuracy: 0.9740 - val_loss: 0.9555 - val_accuracy: 0.7559\n",
            "Epoch 2/5\n",
            "215/215 [==============================] - 1s 5ms/step - loss: 0.0605 - accuracy: 0.9764 - val_loss: 1.0309 - val_accuracy: 0.7703\n",
            "Epoch 3/5\n",
            "215/215 [==============================] - 1s 5ms/step - loss: 0.0548 - accuracy: 0.9764 - val_loss: 1.0987 - val_accuracy: 0.7585\n",
            "Epoch 4/5\n",
            "215/215 [==============================] - 1s 5ms/step - loss: 0.0461 - accuracy: 0.9799 - val_loss: 1.1728 - val_accuracy: 0.7717\n",
            "Epoch 5/5\n",
            "215/215 [==============================] - 1s 5ms/step - loss: 0.0451 - accuracy: 0.9793 - val_loss: 1.2369 - val_accuracy: 0.7664\n"
          ]
        }
      ]
    },
    {
      "cell_type": "code",
      "source": [
        "grafico_historico_por_iteracao(historicos[5])"
      ],
      "metadata": {
        "colab": {
          "base_uri": "https://localhost:8080/",
          "height": 473
        },
        "id": "ukZ2R76GY_HS",
        "outputId": "353fe4a8-60d7-4449-aadf-4c517de596f9"
      },
      "execution_count": 46,
      "outputs": [
        {
          "output_type": "display_data",
          "data": {
            "text/plain": [
              "<Figure size 800x500 with 1 Axes>"
            ],
            "image/png": "[encoded data removed]"
          },
          "metadata": {}
        }
      ]
    },
    {
      "cell_type": "code",
      "source": [
        "dados_modelo(5)"
      ],
      "metadata": {
        "colab": {
          "base_uri": "https://localhost:8080/",
          "height": 643
        },
        "id": "Xoq0qVstc03A",
        "outputId": "cf2e1277-837b-434c-b8ec-d283b57972c1"
      },
      "execution_count": 47,
      "outputs": [
        {
          "output_type": "stream",
          "name": "stdout",
          "text": [
            "24/24 [==============================] - 0s 3ms/step - loss: 1.2369 - accuracy: 0.7664\n",
            "24/24 [==============================] - 0s 2ms/step\n",
            "              precision    recall  f1-score   support\n",
            "\n",
            "           0       0.79      0.80      0.79       433\n",
            "           1       0.73      0.73      0.73       329\n",
            "\n",
            "    accuracy                           0.77       762\n",
            "   macro avg       0.76      0.76      0.76       762\n",
            "weighted avg       0.77      0.77      0.77       762\n",
            "\n"
          ]
        },
        {
          "output_type": "display_data",
          "data": {
            "text/plain": [
              "<Figure size 800x500 with 2 Axes>"
            ],
            "image/png": "[encoded data removed]"
          },
          "metadata": {}
        }
      ]
    },
    {
      "cell_type": "code",
      "source": [
        "relatorios[5]"
      ],
      "metadata": {
        "colab": {
          "base_uri": "https://localhost:8080/"
        },
        "id": "gk7-pEb8dRaA",
        "outputId": "b746184d-d782-40a6-f97a-3f708fc0b5e0"
      },
      "execution_count": 48,
      "outputs": [
        {
          "output_type": "execute_result",
          "data": {
            "text/plain": [
              "{'acuracia': 0.7664041994750657,\n",
              " 'precisao': 0.7662409013172626,\n",
              " 'revocacao': 0.7664041994750657,\n",
              " 'pontuacao-f1': 0.766317227901587}"
            ]
          },
          "metadata": {},
          "execution_count": 48
        }
      ]
    },
    {
      "cell_type": "markdown",
      "source": [
        "### Modelo 6: TFHub Universal Sentence Encoder"
      ],
      "metadata": {
        "id": "bMFfYq8UdSmo"
      }
    },
    {
      "cell_type": "markdown",
      "source": [
        "Universal Sentence Encoder: https://tfhub.dev/google/universal-sentence-encoder/4"
      ],
      "metadata": {
        "id": "ECzccAlhnHTh"
      }
    },
    {
      "cell_type": "code",
      "source": [
        "modelo_nome = 'modelo_6_tfhub_use'\n",
        "\n",
        "modelos[6] = Sequential(name=modelo_nome)\n",
        "\n",
        "modelos[6].add(hub.KerasLayer(handle='https://tfhub.dev/google/universal-sentence-encoder/4',\n",
        "                              trainable=False,\n",
        "                              input_shape=[], # USE aceita textos de tamanho variável.\n",
        "                              dtype=ENTRADA_TIPO,\n",
        "                              name='camada_use'))\n",
        "\n",
        "modelos[6].add(Dense(64, activation=ATIVACAO_CNN, name='camada_relu'))\n",
        "modelos[6].add(Dense(1, activation=ATIVACAO_SAIDA, name='camada_saida'))\n",
        "\n",
        "modelos[6].compile(loss=PERDA,\n",
        "                   optimizer=Adam(learning_rate=APRENDIZADO),\n",
        "                   metrics=METRICAS)\n",
        "\n",
        "historicos[6] = modelos[6].fit(x=X_train,\n",
        "                               y=y_train,\n",
        "                               epochs=ITERACOES,\n",
        "                               validation_data=(X_test, y_test),\n",
        "                               # callbacks=[criar_callback_tensorboard(diretorio=DIRETORIO_TB, experimento=modelo_nome)],\n",
        "                               verbose=1)"
      ],
      "metadata": {
        "colab": {
          "base_uri": "https://localhost:8080/"
        },
        "id": "r03mKYDsebMw",
        "outputId": "4ea58a67-c698-406e-f119-ad46afa8050a"
      },
      "execution_count": 49,
      "outputs": [
        {
          "output_type": "stream",
          "name": "stdout",
          "text": [
            "Epoch 1/5\n",
            "215/215 [==============================] - 7s 13ms/step - loss: 0.5033 - accuracy: 0.7824 - val_loss: 0.4473 - val_accuracy: 0.7835\n",
            "Epoch 2/5\n",
            "215/215 [==============================] - 3s 12ms/step - loss: 0.4133 - accuracy: 0.8165 - val_loss: 0.4320 - val_accuracy: 0.7992\n",
            "Epoch 3/5\n",
            "215/215 [==============================] - 2s 12ms/step - loss: 0.4001 - accuracy: 0.8241 - val_loss: 0.4294 - val_accuracy: 0.7940\n",
            "Epoch 4/5\n",
            "215/215 [==============================] - 2s 11ms/step - loss: 0.3911 - accuracy: 0.8298 - val_loss: 0.4286 - val_accuracy: 0.7966\n",
            "Epoch 5/5\n",
            "215/215 [==============================] - 2s 11ms/step - loss: 0.3849 - accuracy: 0.8326 - val_loss: 0.4252 - val_accuracy: 0.8045\n"
          ]
        }
      ]
    },
    {
      "cell_type": "code",
      "source": [
        "grafico_historico_por_iteracao(historicos[6])"
      ],
      "metadata": {
        "colab": {
          "base_uri": "https://localhost:8080/",
          "height": 473
        },
        "id": "dK7L8QfUs8HF",
        "outputId": "428dd6f9-834b-4cf4-bd8b-25500b299fdb"
      },
      "execution_count": 50,
      "outputs": [
        {
          "output_type": "display_data",
          "data": {
            "text/plain": [
              "<Figure size 800x500 with 1 Axes>"
            ],
            "image/png": "[encoded data removed]"
          },
          "metadata": {}
        }
      ]
    },
    {
      "cell_type": "code",
      "source": [
        "dados_modelo(6)"
      ],
      "metadata": {
        "colab": {
          "base_uri": "https://localhost:8080/",
          "height": 643
        },
        "id": "PKBL7K7Bs7tp",
        "outputId": "841bdef1-b06e-4e3c-91e8-a87ce262e139"
      },
      "execution_count": 51,
      "outputs": [
        {
          "output_type": "stream",
          "name": "stdout",
          "text": [
            "24/24 [==============================] - 0s 10ms/step - loss: 0.4252 - accuracy: 0.8045\n",
            "24/24 [==============================] - 1s 9ms/step\n",
            "              precision    recall  f1-score   support\n",
            "\n",
            "           0       0.80      0.88      0.84       433\n",
            "           1       0.81      0.71      0.76       329\n",
            "\n",
            "    accuracy                           0.80       762\n",
            "   macro avg       0.81      0.79      0.80       762\n",
            "weighted avg       0.81      0.80      0.80       762\n",
            "\n"
          ]
        },
        {
          "output_type": "display_data",
          "data": {
            "text/plain": [
              "<Figure size 800x500 with 2 Axes>"
            ],
            "image/png": "[encoded data removed]"
          },
          "metadata": {}
        }
      ]
    },
    {
      "cell_type": "code",
      "source": [
        "relatorios[6]"
      ],
      "metadata": {
        "colab": {
          "base_uri": "https://localhost:8080/"
        },
        "id": "cyGVzE0atXi_",
        "outputId": "6831407c-3ad7-4e7a-9243-13095d2e6b39"
      },
      "execution_count": 52,
      "outputs": [
        {
          "output_type": "execute_result",
          "data": {
            "text/plain": [
              "{'acuracia': 0.8044619422572179,\n",
              " 'precisao': 0.8053854822034535,\n",
              " 'revocacao': 0.8044619422572179,\n",
              " 'pontuacao-f1': 0.8022509964971275}"
            ]
          },
          "metadata": {},
          "execution_count": 52
        }
      ]
    },
    {
      "cell_type": "markdown",
      "source": [
        "### Modelo 7: Same as model 6 but using 10% of data"
      ],
      "metadata": {
        "id": "qbG9ARiltZRf"
      }
    },
    {
      "cell_type": "markdown",
      "source": [
        "#### Separar 10% dos dados"
      ],
      "metadata": {
        "id": "-iOMVI86H7wg"
      }
    },
    {
      "cell_type": "code",
      "source": [
        "X_train_10 = X_train.sample(frac=0.1, random_state=SEMENTE)\n",
        "y_train_10 = y_train.sample(frac=0.1, random_state=SEMENTE)"
      ],
      "metadata": {
        "id": "GmqShEEWICUS"
      },
      "execution_count": 53,
      "outputs": []
    },
    {
      "cell_type": "markdown",
      "source": [
        "#### Clonar Modelo 6"
      ],
      "metadata": {
        "id": "4OKHaUA4NBIE"
      }
    },
    {
      "cell_type": "code",
      "source": [
        "modelo_nome = 'modelo_7_tfhub_use_10'\n",
        "\n",
        "modelos[7] = clone_model(modelos[6])\n",
        "modelos[7]._name = modelo_nome\n",
        "\n",
        "modelos[7].compile(loss=PERDA,\n",
        "                   optimizer=Adam(learning_rate=APRENDIZADO),\n",
        "                   metrics=METRICAS)\n",
        "\n",
        "historicos[7] = modelos[7].fit(x=X_train_10,\n",
        "                               y=y_train_10,\n",
        "                               epochs=ITERACOES,\n",
        "                               validation_data=(X_test, y_test),\n",
        "                               # callbacks=[criar_callback_tensorboard(diretorio=DIRETORIO_TB, experimento=modelo_nome)],\n",
        "                               verbose=1)"
      ],
      "metadata": {
        "colab": {
          "base_uri": "https://localhost:8080/"
        },
        "id": "8_w5VnbF4nfD",
        "outputId": "3a3577e3-e7f8-42f4-f759-c60246da90e0"
      },
      "execution_count": 54,
      "outputs": [
        {
          "output_type": "stream",
          "name": "stdout",
          "text": [
            "Epoch 1/5\n",
            "22/22 [==============================] - 3s 37ms/step - loss: 0.6694 - accuracy: 0.6993 - val_loss: 0.6448 - val_accuracy: 0.7625\n",
            "Epoch 2/5\n",
            "22/22 [==============================] - 0s 21ms/step - loss: 0.5919 - accuracy: 0.8146 - val_loss: 0.5816 - val_accuracy: 0.7756\n",
            "Epoch 3/5\n",
            "22/22 [==============================] - 0s 22ms/step - loss: 0.5073 - accuracy: 0.8321 - val_loss: 0.5268 - val_accuracy: 0.7822\n",
            "Epoch 4/5\n",
            "22/22 [==============================] - 0s 21ms/step - loss: 0.4414 - accuracy: 0.8321 - val_loss: 0.4990 - val_accuracy: 0.7861\n",
            "Epoch 5/5\n",
            "22/22 [==============================] - 0s 21ms/step - loss: 0.3985 - accuracy: 0.8453 - val_loss: 0.4830 - val_accuracy: 0.7808\n"
          ]
        }
      ]
    },
    {
      "cell_type": "code",
      "source": [
        "grafico_historico_por_iteracao(historicos[7])"
      ],
      "metadata": {
        "colab": {
          "base_uri": "https://localhost:8080/",
          "height": 473
        },
        "id": "ljuSNfg95T8q",
        "outputId": "64833683-8781-4166-aa7b-8d8f276ec859"
      },
      "execution_count": 55,
      "outputs": [
        {
          "output_type": "display_data",
          "data": {
            "text/plain": [
              "<Figure size 800x500 with 1 Axes>"
            ],
            "image/png": "[encoded data removed]"
          },
          "metadata": {}
        }
      ]
    },
    {
      "cell_type": "code",
      "source": [
        "dados_modelo(7)"
      ],
      "metadata": {
        "colab": {
          "base_uri": "https://localhost:8080/",
          "height": 643
        },
        "id": "2SZmobmFNPRX",
        "outputId": "4dbcde8d-9b1c-4204-dbde-7d7b6be1ff8b"
      },
      "execution_count": 56,
      "outputs": [
        {
          "output_type": "stream",
          "name": "stdout",
          "text": [
            "24/24 [==============================] - 0s 10ms/step - loss: 0.4830 - accuracy: 0.7808\n",
            "24/24 [==============================] - 1s 9ms/step\n",
            "              precision    recall  f1-score   support\n",
            "\n",
            "           0       0.80      0.82      0.81       433\n",
            "           1       0.75      0.73      0.74       329\n",
            "\n",
            "    accuracy                           0.78       762\n",
            "   macro avg       0.78      0.77      0.78       762\n",
            "weighted avg       0.78      0.78      0.78       762\n",
            "\n"
          ]
        },
        {
          "output_type": "display_data",
          "data": {
            "text/plain": [
              "<Figure size 800x500 with 2 Axes>"
            ],
            "image/png": "[encoded data removed]"
          },
          "metadata": {}
        }
      ]
    },
    {
      "cell_type": "code",
      "source": [
        "relatorios[7]"
      ],
      "metadata": {
        "colab": {
          "base_uri": "https://localhost:8080/"
        },
        "id": "Tkp7jshkNYJQ",
        "outputId": "7b5914e3-2275-46a0-80d3-968795630998"
      },
      "execution_count": 57,
      "outputs": [
        {
          "output_type": "execute_result",
          "data": {
            "text/plain": [
              "{'acuracia': 0.7808398950131233,\n",
              " 'precisao': 0.7801927057052597,\n",
              " 'revocacao': 0.7808398950131233,\n",
              " 'pontuacao-f1': 0.7803513009885871}"
            ]
          },
          "metadata": {},
          "execution_count": 57
        }
      ]
    },
    {
      "cell_type": "markdown",
      "source": [
        "## Comparar modelos"
      ],
      "metadata": {
        "id": "n7n2p3ZBPuKA"
      }
    },
    {
      "cell_type": "code",
      "source": [
        "comparacao = pd.DataFrame(relatorios)\n",
        "comparacao = comparacao.reset_index().melt(id_vars='index').rename(columns=str.title)"
      ],
      "metadata": {
        "id": "EE4iA_hhRdx3"
      },
      "execution_count": 58,
      "outputs": []
    },
    {
      "cell_type": "code",
      "source": [
        "sns.barplot(data=comparacao, x='Index', y='Value', hue='Variable', palette='summer_r')\n",
        "\n",
        "plt.ylim(0.74, 0.84)\n",
        "\n",
        "plt.title('Medidas de avaliação dos modelos')\n",
        "plt.xlabel('Modelos')\n",
        "plt.ylabel('Valor')\n",
        "\n",
        "plt.legend(loc=(1.03, 0.76));"
      ],
      "metadata": {
        "colab": {
          "base_uri": "https://localhost:8080/",
          "height": 473
        },
        "id": "XweHcfObUtPn",
        "outputId": "72574225-58bc-4a37-ee8a-5bdf164d31fa"
      },
      "execution_count": 59,
      "outputs": [
        {
          "output_type": "display_data",
          "data": {
            "text/plain": [
              "<Figure size 800x500 with 1 Axes>"
            ],
            "image/png": "[encoded data removed]"
          },
          "metadata": {}
        }
      ]
    },
    {
      "cell_type": "markdown",
      "source": [
        "### TensorBoard"
      ],
      "metadata": {
        "id": "gr3rOAHkd5UJ"
      }
    },
    {
      "cell_type": "code",
      "source": [
        "# !tensorboard dev upload --logdir ./$DIRETORIO_TB/ \\\n",
        "#                         --name \"Modelos PLN\" \\\n",
        "#                         --description \"Testes de modelos Naive Bayes, Dense, LSTM, GRU, Bidirectional LSTM, Conv1D e USE para PLN. Base de dados nlp-getting-started (Kaggle).\" \\\n",
        "#                         --one_shot"
      ],
      "metadata": {
        "id": "uI18ccqCeL_z"
      },
      "execution_count": 60,
      "outputs": []
    },
    {
      "cell_type": "markdown",
      "source": [
        "TensorBoard link: https://tensorboard.dev/experiment/t962Gl86T4mSJ7JlM1GYrQ/"
      ],
      "metadata": {
        "id": "vSLNOo9MeURn"
      }
    },
    {
      "cell_type": "markdown",
      "source": [
        "## Encontrar os exemplos \"mais errados\""
      ],
      "metadata": {
        "id": "TzGpw1OSZwko"
      }
    },
    {
      "cell_type": "code",
      "source": [
        "pd.set_option('display.max_colwidth', None)\n",
        "\n",
        "pd.set_option('display.min_rows', 20)\n",
        "pd.set_option('display.max_rows', 20)\n",
        "\n",
        "for indice in range(1, 8):\n",
        "    df = pd.DataFrame({'text': X_test,\n",
        "                       'target': y_test,\n",
        "                       'previsão': previsoes[indice],\n",
        "                       'probabilidade': tf.squeeze(probabilidades[indice])})\n",
        "\n",
        "    mais_errados = df[df[\"target\"] != df[\"previsão\"]].sort_values(\"probabilidade\", ascending=False)\n",
        "    \n",
        "    print()\n",
        "    print('=' * 8)\n",
        "    print(f\"Modelo {indice}\")\n",
        "    print('=' * 8)\n",
        "    \n",
        "    display(mais_errados)"
      ],
      "metadata": {
        "colab": {
          "base_uri": "https://localhost:8080/",
          "height": 1000
        },
        "id": "sRJQc1uZq0RU",
        "outputId": "ee9b266d-70ef-42e6-a5e5-9dab0de10452"
      },
      "execution_count": 61,
      "outputs": [
        {
          "output_type": "stream",
          "name": "stdout",
          "text": [
            "\n",
            "========\n",
            "Modelo 1\n",
            "========\n"
          ]
        },
        {
          "output_type": "display_data",
          "data": {
            "text/plain": [
              "                                                                                                                                              text  \\\n",
              "4476                #hot  C-130 specially modified to land in a stadium and rescue hostages in Iran in 1980 http://t.co/zY3hpdJNwg #prebreak #best   \n",
              "4227       09:13 PM:  Hazardous Weather Outlook (http://t.co/ed1VpITsWY): NO HAZARDOUS WEATHER IS EXPECTED AT THIS TIME.... http://t.co/6XSbddlZiy   \n",
              "3806                                         Former Township fire truck being used in Philippines - Langley Times http://t.co/iMiLsFxntf #filipino   \n",
              "7249             @Glosblue66 no idea what this means. Look at our violent crime rate without weapons. Ban guns we become like Mexico not Australia   \n",
              "7043                                                              Satellite Spies Super Typhoon Soudelor from Space (Photo) http://t.co/VBhu2t8wgB   \n",
              "2121                                                                 53 years ago this week is the anniversary of Marilyn Monroe's death RIPRIPRIP   \n",
              "2037                                                                           Don't like those head first slides. Especially into home !! #danger   \n",
              "2131    Breast milk is the original #superfood but rates worldwide have stalled below 40% contributing to more than 800000 child deaths last year.   \n",
              "5152  The  People's  Republic  Of  China  (  PROC  ): Abandon the West Philippine Sea and all the ... https://t.co/pD14GsrfSC via @ChangePilipinas   \n",
              "7107                                                                            @Skarletan åÇ the storm. A violent swell of emotions then nothing.   \n",
              "...                                                                                                                                            ...   \n",
              "3209     #Nursing alert: Emergency Department Psychiatric RN (.90 FTE Day) | Providence Health &amp; Services | #Olympia WA http://t.co/Yu6NUe7gFB   \n",
              "2715                               Man Currensy really be talkin that talk... I'd be more devastated if he had a ghostwriter than anybody else....   \n",
              "3850                                                                       @gilderoy i wish i was good enough to add flames to my nails im on fire   \n",
              "5574                                                                       'The way you move is like a full on rainstorm and I'm a house of cards'   \n",
              "5779                                                      'Money can't buy happiness' is just a lie we tell poor people to keep them from rioting.   \n",
              "5509      #hot  Reddit's new content policy goes into effect many horrible subreddits banned or quarantined http://t.co/nGKrZPza45 #prebreak #best   \n",
              "4594         Enjoying a little golf this summer? Take care to avoid injury -- back and shoulder injuries can happen quickly http://t.co/f1R5ISBVks   \n",
              "358                                        One Direction Is my pick for http://t.co/q2eBlOKeVE Fan Army #Directioners http://t.co/eNCmhz6y34 x1392   \n",
              "547                 STAR WARS POWER OF THE JEDI COLLECTION 1 BATTLE DROID HASBRO - Full read by eBay http://t.co/xFguklrlTf http://t.co/FeGu8hWMc4   \n",
              "5122     US Navy Sidelines 3 Newest Subs - http://t.co/guvTIzyCHE: DefenseNews.comUS Navy Sidelines 3 Newest SubsD... http://t.co/SY2WhXT0K5 #navy   \n",
              "\n",
              "      target  previsão  probabilidade  \n",
              "4476       0       1.0       0.990228  \n",
              "4227       0       1.0       0.976455  \n",
              "3806       0       1.0       0.963693  \n",
              "7249       0       1.0       0.878004  \n",
              "7043       0       1.0       0.860133  \n",
              "2121       0       1.0       0.821708  \n",
              "2037       0       1.0       0.800499  \n",
              "2131       0       1.0       0.794804  \n",
              "5152       0       1.0       0.792055  \n",
              "7107       0       1.0       0.789286  \n",
              "...      ...       ...            ...  \n",
              "3209       1       0.0       0.054584  \n",
              "2715       1       0.0       0.038306  \n",
              "3850       1       0.0       0.033540  \n",
              "5574       1       0.0       0.029946  \n",
              "5779       1       0.0       0.028891  \n",
              "5509       1       0.0       0.023094  \n",
              "4594       1       0.0       0.019617  \n",
              "358        1       0.0       0.014063  \n",
              "547        1       0.0       0.005853  \n",
              "5122       1       0.0       0.001569  \n",
              "\n",
              "[148 rows x 4 columns]"
            ],
            "text/html": [
              "\n",
              "  <div id=\"df-f47724f8-0937-49c9-91cb-9c54b6f23fb2\">\n",
              "    <div class=\"colab-df-container\">\n",
              "      <div>\n",
              "<style scoped>\n",
              "    .dataframe tbody tr th:only-of-type {\n",
              "        vertical-align: middle;\n",
              "    }\n",
              "\n",
              "    .dataframe tbody tr th {\n",
              "        vertical-align: top;\n",
              "    }\n",
              "\n",
              "    .dataframe thead th {\n",
              "        text-align: right;\n",
              "    }\n",
              "</style>\n",
              "<table border=\"1\" class=\"dataframe\">\n",
              "  <thead>\n",
              "    <tr style=\"text-align: right;\">\n",
              "      <th></th>\n",
              "      <th>text</th>\n",
              "      <th>target</th>\n",
              "      <th>previsão</th>\n",
              "      <th>probabilidade</th>\n",
              "    </tr>\n",
              "  </thead>\n",
              "  <tbody>\n",
              "    <tr>\n",
              "      <th>4476</th>\n",
              "      <td>#hot  C-130 specially modified to land in a stadium and rescue hostages in Iran in 1980 http://t.co/zY3hpdJNwg #prebreak #best</td>\n",
              "      <td>0</td>\n",
              "      <td>1.0</td>\n",
              "      <td>0.990228</td>\n",
              "    </tr>\n",
              "    <tr>\n",
              "      <th>4227</th>\n",
              "      <td>09:13 PM:  Hazardous Weather Outlook (http://t.co/ed1VpITsWY): NO HAZARDOUS WEATHER IS EXPECTED AT THIS TIME.... http://t.co/6XSbddlZiy</td>\n",
              "      <td>0</td>\n",
              "      <td>1.0</td>\n",
              "      <td>0.976455</td>\n",
              "    </tr>\n",
              "    <tr>\n",
              "      <th>3806</th>\n",
              "      <td>Former Township fire truck being used in Philippines - Langley Times http://t.co/iMiLsFxntf #filipino</td>\n",
              "      <td>0</td>\n",
              "      <td>1.0</td>\n",
              "      <td>0.963693</td>\n",
              "    </tr>\n",
              "    <tr>\n",
              "      <th>7249</th>\n",
              "      <td>@Glosblue66 no idea what this means. Look at our violent crime rate without weapons. Ban guns we become like Mexico not Australia</td>\n",
              "      <td>0</td>\n",
              "      <td>1.0</td>\n",
              "      <td>0.878004</td>\n",
              "    </tr>\n",
              "    <tr>\n",
              "      <th>7043</th>\n",
              "      <td>Satellite Spies Super Typhoon Soudelor from Space (Photo) http://t.co/VBhu2t8wgB</td>\n",
              "      <td>0</td>\n",
              "      <td>1.0</td>\n",
              "      <td>0.860133</td>\n",
              "    </tr>\n",
              "    <tr>\n",
              "      <th>2121</th>\n",
              "      <td>53 years ago this week is the anniversary of Marilyn Monroe's death RIPRIPRIP</td>\n",
              "      <td>0</td>\n",
              "      <td>1.0</td>\n",
              "      <td>0.821708</td>\n",
              "    </tr>\n",
              "    <tr>\n",
              "      <th>2037</th>\n",
              "      <td>Don't like those head first slides. Especially into home !! #danger</td>\n",
              "      <td>0</td>\n",
              "      <td>1.0</td>\n",
              "      <td>0.800499</td>\n",
              "    </tr>\n",
              "    <tr>\n",
              "      <th>2131</th>\n",
              "      <td>Breast milk is the original #superfood but rates worldwide have stalled below 40% contributing to more than 800000 child deaths last year.</td>\n",
              "      <td>0</td>\n",
              "      <td>1.0</td>\n",
              "      <td>0.794804</td>\n",
              "    </tr>\n",
              "    <tr>\n",
              "      <th>5152</th>\n",
              "      <td>The  People's  Republic  Of  China  (  PROC  ): Abandon the West Philippine Sea and all the ... https://t.co/pD14GsrfSC via @ChangePilipinas</td>\n",
              "      <td>0</td>\n",
              "      <td>1.0</td>\n",
              "      <td>0.792055</td>\n",
              "    </tr>\n",
              "    <tr>\n",
              "      <th>7107</th>\n",
              "      <td>@Skarletan åÇ the storm. A violent swell of emotions then nothing.</td>\n",
              "      <td>0</td>\n",
              "      <td>1.0</td>\n",
              "      <td>0.789286</td>\n",
              "    </tr>\n",
              "    <tr>\n",
              "      <th>...</th>\n",
              "      <td>...</td>\n",
              "      <td>...</td>\n",
              "      <td>...</td>\n",
              "      <td>...</td>\n",
              "    </tr>\n",
              "    <tr>\n",
              "      <th>3209</th>\n",
              "      <td>#Nursing alert: Emergency Department Psychiatric RN (.90 FTE Day) | Providence Health &amp;amp; Services | #Olympia WA http://t.co/Yu6NUe7gFB</td>\n",
              "      <td>1</td>\n",
              "      <td>0.0</td>\n",
              "      <td>0.054584</td>\n",
              "    </tr>\n",
              "    <tr>\n",
              "      <th>2715</th>\n",
              "      <td>Man Currensy really be talkin that talk... I'd be more devastated if he had a ghostwriter than anybody else....</td>\n",
              "      <td>1</td>\n",
              "      <td>0.0</td>\n",
              "      <td>0.038306</td>\n",
              "    </tr>\n",
              "    <tr>\n",
              "      <th>3850</th>\n",
              "      <td>@gilderoy i wish i was good enough to add flames to my nails im on fire</td>\n",
              "      <td>1</td>\n",
              "      <td>0.0</td>\n",
              "      <td>0.033540</td>\n",
              "    </tr>\n",
              "    <tr>\n",
              "      <th>5574</th>\n",
              "      <td>'The way you move is like a full on rainstorm and I'm a house of cards'</td>\n",
              "      <td>1</td>\n",
              "      <td>0.0</td>\n",
              "      <td>0.029946</td>\n",
              "    </tr>\n",
              "    <tr>\n",
              "      <th>5779</th>\n",
              "      <td>'Money can't buy happiness' is just a lie we tell poor people to keep them from rioting.</td>\n",
              "      <td>1</td>\n",
              "      <td>0.0</td>\n",
              "      <td>0.028891</td>\n",
              "    </tr>\n",
              "    <tr>\n",
              "      <th>5509</th>\n",
              "      <td>#hot  Reddit's new content policy goes into effect many horrible subreddits banned or quarantined http://t.co/nGKrZPza45 #prebreak #best</td>\n",
              "      <td>1</td>\n",
              "      <td>0.0</td>\n",
              "      <td>0.023094</td>\n",
              "    </tr>\n",
              "    <tr>\n",
              "      <th>4594</th>\n",
              "      <td>Enjoying a little golf this summer? Take care to avoid injury -- back and shoulder injuries can happen quickly http://t.co/f1R5ISBVks</td>\n",
              "      <td>1</td>\n",
              "      <td>0.0</td>\n",
              "      <td>0.019617</td>\n",
              "    </tr>\n",
              "    <tr>\n",
              "      <th>358</th>\n",
              "      <td>One Direction Is my pick for http://t.co/q2eBlOKeVE Fan Army #Directioners http://t.co/eNCmhz6y34 x1392</td>\n",
              "      <td>1</td>\n",
              "      <td>0.0</td>\n",
              "      <td>0.014063</td>\n",
              "    </tr>\n",
              "    <tr>\n",
              "      <th>547</th>\n",
              "      <td>STAR WARS POWER OF THE JEDI COLLECTION 1 BATTLE DROID HASBRO - Full read by eBay http://t.co/xFguklrlTf http://t.co/FeGu8hWMc4</td>\n",
              "      <td>1</td>\n",
              "      <td>0.0</td>\n",
              "      <td>0.005853</td>\n",
              "    </tr>\n",
              "    <tr>\n",
              "      <th>5122</th>\n",
              "      <td>US Navy Sidelines 3 Newest Subs - http://t.co/guvTIzyCHE: DefenseNews.comUS Navy Sidelines 3 Newest SubsD... http://t.co/SY2WhXT0K5 #navy</td>\n",
              "      <td>1</td>\n",
              "      <td>0.0</td>\n",
              "      <td>0.001569</td>\n",
              "    </tr>\n",
              "  </tbody>\n",
              "</table>\n",
              "<p>148 rows × 4 columns</p>\n",
              "</div>\n",
              "      <button class=\"colab-df-convert\" onclick=\"convertToInteractive('df-f47724f8-0937-49c9-91cb-9c54b6f23fb2')\"\n",
              "              title=\"Convert this dataframe to an interactive table.\"\n",
              "              style=\"display:none;\">\n",
              "        \n",
              "  <svg xmlns=\"http://www.w3.org/2000/svg\" height=\"24px\"viewBox=\"0 0 24 24\"\n",
              "       width=\"24px\">\n",
              "    <path d=\"M0 0h24v24H0V0z\" fill=\"none\"/>\n",
              "    <path d=\"M18.56 5.44l.94 2.06.94-2.06 2.06-.94-2.06-.94-.94-2.06-.94 2.06-2.06.94zm-11 1L8.5 8.5l.94-2.06 2.06-.94-2.06-.94L8.5 2.5l-.94 2.06-2.06.94zm10 10l.94 2.06.94-2.06 2.06-.94-2.06-.94-.94-2.06-.94 2.06-2.06.94z\"/><path d=\"M17.41 7.96l-1.37-1.37c-.4-.4-.92-.59-1.43-.59-.52 0-1.04.2-1.43.59L10.3 9.45l-7.72 7.72c-.78.78-.78 2.05 0 2.83L4 21.41c.39.39.9.59 1.41.59.51 0 1.02-.2 1.41-.59l7.78-7.78 2.81-2.81c.8-.78.8-2.07 0-2.86zM5.41 20L4 18.59l7.72-7.72 1.47 1.35L5.41 20z\"/>\n",
              "  </svg>\n",
              "      </button>\n",
              "      \n",
              "  <style>\n",
              "    .colab-df-container {\n",
              "      display:flex;\n",
              "      flex-wrap:wrap;\n",
              "      gap: 12px;\n",
              "    }\n",
              "\n",
              "    .colab-df-convert {\n",
              "      background-color: #E8F0FE;\n",
              "      border: none;\n",
              "      border-radius: 50%;\n",
              "      cursor: pointer;\n",
              "      display: none;\n",
              "      fill: #1967D2;\n",
              "      height: 32px;\n",
              "      padding: 0 0 0 0;\n",
              "      width: 32px;\n",
              "    }\n",
              "\n",
              "    .colab-df-convert:hover {\n",
              "      background-color: #E2EBFA;\n",
              "      box-shadow: 0px 1px 2px rgba(60, 64, 67, 0.3), 0px 1px 3px 1px rgba(60, 64, 67, 0.15);\n",
              "      fill: #174EA6;\n",
              "    }\n",
              "\n",
              "    [theme=dark] .colab-df-convert {\n",
              "      background-color: #3B4455;\n",
              "      fill: #D2E3FC;\n",
              "    }\n",
              "\n",
              "    [theme=dark] .colab-df-convert:hover {\n",
              "      background-color: #434B5C;\n",
              "      box-shadow: 0px 1px 3px 1px rgba(0, 0, 0, 0.15);\n",
              "      filter: drop-shadow(0px 1px 2px rgba(0, 0, 0, 0.3));\n",
              "      fill: #FFFFFF;\n",
              "    }\n",
              "  </style>\n",
              "\n",
              "      <script>\n",
              "        const buttonEl =\n",
              "          document.querySelector('#df-f47724f8-0937-49c9-91cb-9c54b6f23fb2 button.colab-df-convert');\n",
              "        buttonEl.style.display =\n",
              "          google.colab.kernel.accessAllowed ? 'block' : 'none';\n",
              "\n",
              "        async function convertToInteractive(key) {\n",
              "          const element = document.querySelector('#df-f47724f8-0937-49c9-91cb-9c54b6f23fb2');\n",
              "          const dataTable =\n",
              "            await google.colab.kernel.invokeFunction('convertToInteractive',\n",
              "                                                     [key], {});\n",
              "          if (!dataTable) return;\n",
              "\n",
              "          const docLinkHtml = 'Like what you see? Visit the ' +\n",
              "            '<a target=\"_blank\" href=https://colab.research.google.com/notebooks/data_table.ipynb>data table notebook</a>'\n",
              "            + ' to learn more about interactive tables.';\n",
              "          element.innerHTML = '';\n",
              "          dataTable['output_type'] = 'display_data';\n",
              "          await google.colab.output.renderOutput(dataTable, element);\n",
              "          const docLink = document.createElement('div');\n",
              "          docLink.innerHTML = docLinkHtml;\n",
              "          element.appendChild(docLink);\n",
              "        }\n",
              "      </script>\n",
              "    </div>\n",
              "  </div>\n",
              "  "
            ]
          },
          "metadata": {}
        },
        {
          "output_type": "stream",
          "name": "stdout",
          "text": [
            "\n",
            "========\n",
            "Modelo 2\n",
            "========\n"
          ]
        },
        {
          "output_type": "display_data",
          "data": {
            "text/plain": [
              "                                                                                                                                             text  \\\n",
              "4476               #hot  C-130 specially modified to land in a stadium and rescue hostages in Iran in 1980 http://t.co/zY3hpdJNwg #prebreak #best   \n",
              "3806                                        Former Township fire truck being used in Philippines - Langley Times http://t.co/iMiLsFxntf #filipino   \n",
              "2298  Just had my first counter on a league game against another Orianna I happened to demolish her xD. I totally appreciate people that play her   \n",
              "4663     #tech Data Overload: The Growing Demand for Context and Structure: In a world inundated with information... http://t.co/s0ctCQJvjX #news   \n",
              "2037                                                                          Don't like those head first slides. Especially into home !! #danger   \n",
              "2131   Breast milk is the original #superfood but rates worldwide have stalled below 40% contributing to more than 800000 child deaths last year.   \n",
              "2116                                VIDEO: Slain Mexican Journalist Unknowingly Predicted His Own Death http://t.co/QxhOwCv16R via @BreitbartNews   \n",
              "1284                                                        burned 202 calories doing 30 minutes of Walking 4.0 mph very brisk pace #myfitnesspal   \n",
              "4227      09:13 PM:  Hazardous Weather Outlook (http://t.co/ed1VpITsWY): NO HAZARDOUS WEATHER IS EXPECTED AT THIS TIME.... http://t.co/6XSbddlZiy   \n",
              "7043                                                             Satellite Spies Super Typhoon Soudelor from Space (Photo) http://t.co/VBhu2t8wgB   \n",
              "...                                                                                                                                           ...   \n",
              "3209    #Nursing alert: Emergency Department Psychiatric RN (.90 FTE Day) | Providence Health &amp; Services | #Olympia WA http://t.co/Yu6NUe7gFB   \n",
              "5574                                                                      'The way you move is like a full on rainstorm and I'm a house of cards'   \n",
              "5805                                                                people rioting everywhere and I think I'd be one of them.'\\n\\nUsami-san &lt;3   \n",
              "2612                        New RAN report from the frontlines of human rights abuses and forest destruction for fashion.: http://t.co/tYDXauuEnQ   \n",
              "2715                              Man Currensy really be talkin that talk... I'd be more devastated if he had a ghostwriter than anybody else....   \n",
              "358                                       One Direction Is my pick for http://t.co/q2eBlOKeVE Fan Army #Directioners http://t.co/eNCmhz6y34 x1392   \n",
              "4594        Enjoying a little golf this summer? Take care to avoid injury -- back and shoulder injuries can happen quickly http://t.co/f1R5ISBVks   \n",
              "5779                                                     'Money can't buy happiness' is just a lie we tell poor people to keep them from rioting.   \n",
              "547                STAR WARS POWER OF THE JEDI COLLECTION 1 BATTLE DROID HASBRO - Full read by eBay http://t.co/xFguklrlTf http://t.co/FeGu8hWMc4   \n",
              "5122    US Navy Sidelines 3 Newest Subs - http://t.co/guvTIzyCHE: DefenseNews.comUS Navy Sidelines 3 Newest SubsD... http://t.co/SY2WhXT0K5 #navy   \n",
              "\n",
              "      target  previsão  probabilidade  \n",
              "4476       0       1.0       0.999692  \n",
              "3806       0       1.0       0.999210  \n",
              "2298       0       1.0       0.998334  \n",
              "4663       0       1.0       0.997369  \n",
              "2037       0       1.0       0.995741  \n",
              "2131       0       1.0       0.994484  \n",
              "2116       0       1.0       0.987030  \n",
              "1284       0       1.0       0.978938  \n",
              "4227       0       1.0       0.974179  \n",
              "7043       0       1.0       0.973906  \n",
              "...      ...       ...            ...  \n",
              "3209       1       0.0       0.001472  \n",
              "5574       1       0.0       0.001346  \n",
              "5805       1       0.0       0.000846  \n",
              "2612       1       0.0       0.000571  \n",
              "2715       1       0.0       0.000378  \n",
              "358        1       0.0       0.000356  \n",
              "4594       1       0.0       0.000331  \n",
              "5779       1       0.0       0.000291  \n",
              "547        1       0.0       0.000252  \n",
              "5122       1       0.0       0.000157  \n",
              "\n",
              "[171 rows x 4 columns]"
            ],
            "text/html": [
              "\n",
              "  <div id=\"df-aff889b4-5d4a-4ba6-990b-82063967c7fa\">\n",
              "    <div class=\"colab-df-container\">\n",
              "      <div>\n",
              "<style scoped>\n",
              "    .dataframe tbody tr th:only-of-type {\n",
              "        vertical-align: middle;\n",
              "    }\n",
              "\n",
              "    .dataframe tbody tr th {\n",
              "        vertical-align: top;\n",
              "    }\n",
              "\n",
              "    .dataframe thead th {\n",
              "        text-align: right;\n",
              "    }\n",
              "</style>\n",
              "<table border=\"1\" class=\"dataframe\">\n",
              "  <thead>\n",
              "    <tr style=\"text-align: right;\">\n",
              "      <th></th>\n",
              "      <th>text</th>\n",
              "      <th>target</th>\n",
              "      <th>previsão</th>\n",
              "      <th>probabilidade</th>\n",
              "    </tr>\n",
              "  </thead>\n",
              "  <tbody>\n",
              "    <tr>\n",
              "      <th>4476</th>\n",
              "      <td>#hot  C-130 specially modified to land in a stadium and rescue hostages in Iran in 1980 http://t.co/zY3hpdJNwg #prebreak #best</td>\n",
              "      <td>0</td>\n",
              "      <td>1.0</td>\n",
              "      <td>0.999692</td>\n",
              "    </tr>\n",
              "    <tr>\n",
              "      <th>3806</th>\n",
              "      <td>Former Township fire truck being used in Philippines - Langley Times http://t.co/iMiLsFxntf #filipino</td>\n",
              "      <td>0</td>\n",
              "      <td>1.0</td>\n",
              "      <td>0.999210</td>\n",
              "    </tr>\n",
              "    <tr>\n",
              "      <th>2298</th>\n",
              "      <td>Just had my first counter on a league game against another Orianna I happened to demolish her xD. I totally appreciate people that play her</td>\n",
              "      <td>0</td>\n",
              "      <td>1.0</td>\n",
              "      <td>0.998334</td>\n",
              "    </tr>\n",
              "    <tr>\n",
              "      <th>4663</th>\n",
              "      <td>#tech Data Overload: The Growing Demand for Context and Structure: In a world inundated with information... http://t.co/s0ctCQJvjX #news</td>\n",
              "      <td>0</td>\n",
              "      <td>1.0</td>\n",
              "      <td>0.997369</td>\n",
              "    </tr>\n",
              "    <tr>\n",
              "      <th>2037</th>\n",
              "      <td>Don't like those head first slides. Especially into home !! #danger</td>\n",
              "      <td>0</td>\n",
              "      <td>1.0</td>\n",
              "      <td>0.995741</td>\n",
              "    </tr>\n",
              "    <tr>\n",
              "      <th>2131</th>\n",
              "      <td>Breast milk is the original #superfood but rates worldwide have stalled below 40% contributing to more than 800000 child deaths last year.</td>\n",
              "      <td>0</td>\n",
              "      <td>1.0</td>\n",
              "      <td>0.994484</td>\n",
              "    </tr>\n",
              "    <tr>\n",
              "      <th>2116</th>\n",
              "      <td>VIDEO: Slain Mexican Journalist Unknowingly Predicted His Own Death http://t.co/QxhOwCv16R via @BreitbartNews</td>\n",
              "      <td>0</td>\n",
              "      <td>1.0</td>\n",
              "      <td>0.987030</td>\n",
              "    </tr>\n",
              "    <tr>\n",
              "      <th>1284</th>\n",
              "      <td>burned 202 calories doing 30 minutes of Walking 4.0 mph very brisk pace #myfitnesspal</td>\n",
              "      <td>0</td>\n",
              "      <td>1.0</td>\n",
              "      <td>0.978938</td>\n",
              "    </tr>\n",
              "    <tr>\n",
              "      <th>4227</th>\n",
              "      <td>09:13 PM:  Hazardous Weather Outlook (http://t.co/ed1VpITsWY): NO HAZARDOUS WEATHER IS EXPECTED AT THIS TIME.... http://t.co/6XSbddlZiy</td>\n",
              "      <td>0</td>\n",
              "      <td>1.0</td>\n",
              "      <td>0.974179</td>\n",
              "    </tr>\n",
              "    <tr>\n",
              "      <th>7043</th>\n",
              "      <td>Satellite Spies Super Typhoon Soudelor from Space (Photo) http://t.co/VBhu2t8wgB</td>\n",
              "      <td>0</td>\n",
              "      <td>1.0</td>\n",
              "      <td>0.973906</td>\n",
              "    </tr>\n",
              "    <tr>\n",
              "      <th>...</th>\n",
              "      <td>...</td>\n",
              "      <td>...</td>\n",
              "      <td>...</td>\n",
              "      <td>...</td>\n",
              "    </tr>\n",
              "    <tr>\n",
              "      <th>3209</th>\n",
              "      <td>#Nursing alert: Emergency Department Psychiatric RN (.90 FTE Day) | Providence Health &amp;amp; Services | #Olympia WA http://t.co/Yu6NUe7gFB</td>\n",
              "      <td>1</td>\n",
              "      <td>0.0</td>\n",
              "      <td>0.001472</td>\n",
              "    </tr>\n",
              "    <tr>\n",
              "      <th>5574</th>\n",
              "      <td>'The way you move is like a full on rainstorm and I'm a house of cards'</td>\n",
              "      <td>1</td>\n",
              "      <td>0.0</td>\n",
              "      <td>0.001346</td>\n",
              "    </tr>\n",
              "    <tr>\n",
              "      <th>5805</th>\n",
              "      <td>people rioting everywhere and I think I'd be one of them.'\\n\\nUsami-san &amp;lt;3</td>\n",
              "      <td>1</td>\n",
              "      <td>0.0</td>\n",
              "      <td>0.000846</td>\n",
              "    </tr>\n",
              "    <tr>\n",
              "      <th>2612</th>\n",
              "      <td>New RAN report from the frontlines of human rights abuses and forest destruction for fashion.: http://t.co/tYDXauuEnQ</td>\n",
              "      <td>1</td>\n",
              "      <td>0.0</td>\n",
              "      <td>0.000571</td>\n",
              "    </tr>\n",
              "    <tr>\n",
              "      <th>2715</th>\n",
              "      <td>Man Currensy really be talkin that talk... I'd be more devastated if he had a ghostwriter than anybody else....</td>\n",
              "      <td>1</td>\n",
              "      <td>0.0</td>\n",
              "      <td>0.000378</td>\n",
              "    </tr>\n",
              "    <tr>\n",
              "      <th>358</th>\n",
              "      <td>One Direction Is my pick for http://t.co/q2eBlOKeVE Fan Army #Directioners http://t.co/eNCmhz6y34 x1392</td>\n",
              "      <td>1</td>\n",
              "      <td>0.0</td>\n",
              "      <td>0.000356</td>\n",
              "    </tr>\n",
              "    <tr>\n",
              "      <th>4594</th>\n",
              "      <td>Enjoying a little golf this summer? Take care to avoid injury -- back and shoulder injuries can happen quickly http://t.co/f1R5ISBVks</td>\n",
              "      <td>1</td>\n",
              "      <td>0.0</td>\n",
              "      <td>0.000331</td>\n",
              "    </tr>\n",
              "    <tr>\n",
              "      <th>5779</th>\n",
              "      <td>'Money can't buy happiness' is just a lie we tell poor people to keep them from rioting.</td>\n",
              "      <td>1</td>\n",
              "      <td>0.0</td>\n",
              "      <td>0.000291</td>\n",
              "    </tr>\n",
              "    <tr>\n",
              "      <th>547</th>\n",
              "      <td>STAR WARS POWER OF THE JEDI COLLECTION 1 BATTLE DROID HASBRO - Full read by eBay http://t.co/xFguklrlTf http://t.co/FeGu8hWMc4</td>\n",
              "      <td>1</td>\n",
              "      <td>0.0</td>\n",
              "      <td>0.000252</td>\n",
              "    </tr>\n",
              "    <tr>\n",
              "      <th>5122</th>\n",
              "      <td>US Navy Sidelines 3 Newest Subs - http://t.co/guvTIzyCHE: DefenseNews.comUS Navy Sidelines 3 Newest SubsD... http://t.co/SY2WhXT0K5 #navy</td>\n",
              "      <td>1</td>\n",
              "      <td>0.0</td>\n",
              "      <td>0.000157</td>\n",
              "    </tr>\n",
              "  </tbody>\n",
              "</table>\n",
              "<p>171 rows × 4 columns</p>\n",
              "</div>\n",
              "      <button class=\"colab-df-convert\" onclick=\"convertToInteractive('df-aff889b4-5d4a-4ba6-990b-82063967c7fa')\"\n",
              "              title=\"Convert this dataframe to an interactive table.\"\n",
              "              style=\"display:none;\">\n",
              "        \n",
              "  <svg xmlns=\"http://www.w3.org/2000/svg\" height=\"24px\"viewBox=\"0 0 24 24\"\n",
              "       width=\"24px\">\n",
              "    <path d=\"M0 0h24v24H0V0z\" fill=\"none\"/>\n",
              "    <path d=\"M18.56 5.44l.94 2.06.94-2.06 2.06-.94-2.06-.94-.94-2.06-.94 2.06-2.06.94zm-11 1L8.5 8.5l.94-2.06 2.06-.94-2.06-.94L8.5 2.5l-.94 2.06-2.06.94zm10 10l.94 2.06.94-2.06 2.06-.94-2.06-.94-.94-2.06-.94 2.06-2.06.94z\"/><path d=\"M17.41 7.96l-1.37-1.37c-.4-.4-.92-.59-1.43-.59-.52 0-1.04.2-1.43.59L10.3 9.45l-7.72 7.72c-.78.78-.78 2.05 0 2.83L4 21.41c.39.39.9.59 1.41.59.51 0 1.02-.2 1.41-.59l7.78-7.78 2.81-2.81c.8-.78.8-2.07 0-2.86zM5.41 20L4 18.59l7.72-7.72 1.47 1.35L5.41 20z\"/>\n",
              "  </svg>\n",
              "      </button>\n",
              "      \n",
              "  <style>\n",
              "    .colab-df-container {\n",
              "      display:flex;\n",
              "      flex-wrap:wrap;\n",
              "      gap: 12px;\n",
              "    }\n",
              "\n",
              "    .colab-df-convert {\n",
              "      background-color: #E8F0FE;\n",
              "      border: none;\n",
              "      border-radius: 50%;\n",
              "      cursor: pointer;\n",
              "      display: none;\n",
              "      fill: #1967D2;\n",
              "      height: 32px;\n",
              "      padding: 0 0 0 0;\n",
              "      width: 32px;\n",
              "    }\n",
              "\n",
              "    .colab-df-convert:hover {\n",
              "      background-color: #E2EBFA;\n",
              "      box-shadow: 0px 1px 2px rgba(60, 64, 67, 0.3), 0px 1px 3px 1px rgba(60, 64, 67, 0.15);\n",
              "      fill: #174EA6;\n",
              "    }\n",
              "\n",
              "    [theme=dark] .colab-df-convert {\n",
              "      background-color: #3B4455;\n",
              "      fill: #D2E3FC;\n",
              "    }\n",
              "\n",
              "    [theme=dark] .colab-df-convert:hover {\n",
              "      background-color: #434B5C;\n",
              "      box-shadow: 0px 1px 3px 1px rgba(0, 0, 0, 0.15);\n",
              "      filter: drop-shadow(0px 1px 2px rgba(0, 0, 0, 0.3));\n",
              "      fill: #FFFFFF;\n",
              "    }\n",
              "  </style>\n",
              "\n",
              "      <script>\n",
              "        const buttonEl =\n",
              "          document.querySelector('#df-aff889b4-5d4a-4ba6-990b-82063967c7fa button.colab-df-convert');\n",
              "        buttonEl.style.display =\n",
              "          google.colab.kernel.accessAllowed ? 'block' : 'none';\n",
              "\n",
              "        async function convertToInteractive(key) {\n",
              "          const element = document.querySelector('#df-aff889b4-5d4a-4ba6-990b-82063967c7fa');\n",
              "          const dataTable =\n",
              "            await google.colab.kernel.invokeFunction('convertToInteractive',\n",
              "                                                     [key], {});\n",
              "          if (!dataTable) return;\n",
              "\n",
              "          const docLinkHtml = 'Like what you see? Visit the ' +\n",
              "            '<a target=\"_blank\" href=https://colab.research.google.com/notebooks/data_table.ipynb>data table notebook</a>'\n",
              "            + ' to learn more about interactive tables.';\n",
              "          element.innerHTML = '';\n",
              "          dataTable['output_type'] = 'display_data';\n",
              "          await google.colab.output.renderOutput(dataTable, element);\n",
              "          const docLink = document.createElement('div');\n",
              "          docLink.innerHTML = docLinkHtml;\n",
              "          element.appendChild(docLink);\n",
              "        }\n",
              "      </script>\n",
              "    </div>\n",
              "  </div>\n",
              "  "
            ]
          },
          "metadata": {}
        },
        {
          "output_type": "stream",
          "name": "stdout",
          "text": [
            "\n",
            "========\n",
            "Modelo 3\n",
            "========\n"
          ]
        },
        {
          "output_type": "display_data",
          "data": {
            "text/plain": [
              "                                                                                                                                              text  \\\n",
              "2298   Just had my first counter on a league game against another Orianna I happened to demolish her xD. I totally appreciate people that play her   \n",
              "4476                #hot  C-130 specially modified to land in a stadium and rescue hostages in Iran in 1980 http://t.co/zY3hpdJNwg #prebreak #best   \n",
              "2131    Breast milk is the original #superfood but rates worldwide have stalled below 40% contributing to more than 800000 child deaths last year.   \n",
              "3806                                         Former Township fire truck being used in Philippines - Langley Times http://t.co/iMiLsFxntf #filipino   \n",
              "4663      #tech Data Overload: The Growing Demand for Context and Structure: In a world inundated with information... http://t.co/s0ctCQJvjX #news   \n",
              "5152  The  People's  Republic  Of  China  (  PROC  ): Abandon the West Philippine Sea and all the ... https://t.co/pD14GsrfSC via @ChangePilipinas   \n",
              "2037                                                                           Don't like those head first slides. Especially into home !! #danger   \n",
              "4791   #auspol Can you see the resemblance between ABBOTT &amp; Campbell both are loud and came in with a big BANG!! Out the same way;  Lets see !   \n",
              "2116                                 VIDEO: Slain Mexican Journalist Unknowingly Predicted His Own Death http://t.co/QxhOwCv16R via @BreitbartNews   \n",
              "1284                                                         burned 202 calories doing 30 minutes of Walking 4.0 mph very brisk pace #myfitnesspal   \n",
              "...                                                                                                                                            ...   \n",
              "2310               Got my first gamer troll I just demolished a kid from Philly with Toronto on MLB and he was upset #BacktoBack #ChargedUp ??????   \n",
              "5642                    Newlyweds feed thousands of Syrian refugees instead of hosting a banquet wedding dinner -  http://t.co/XZV0lT9ZZk via @smh   \n",
              "4594         Enjoying a little golf this summer? Take care to avoid injury -- back and shoulder injuries can happen quickly http://t.co/f1R5ISBVks   \n",
              "2715                               Man Currensy really be talkin that talk... I'd be more devastated if he had a ghostwriter than anybody else....   \n",
              "5779                                                      'Money can't buy happiness' is just a lie we tell poor people to keep them from rioting.   \n",
              "5805                                                                 people rioting everywhere and I think I'd be one of them.'\\n\\nUsami-san &lt;3   \n",
              "358                                        One Direction Is my pick for http://t.co/q2eBlOKeVE Fan Army #Directioners http://t.co/eNCmhz6y34 x1392   \n",
              "2612                         New RAN report from the frontlines of human rights abuses and forest destruction for fashion.: http://t.co/tYDXauuEnQ   \n",
              "5122     US Navy Sidelines 3 Newest Subs - http://t.co/guvTIzyCHE: DefenseNews.comUS Navy Sidelines 3 Newest SubsD... http://t.co/SY2WhXT0K5 #navy   \n",
              "547                 STAR WARS POWER OF THE JEDI COLLECTION 1 BATTLE DROID HASBRO - Full read by eBay http://t.co/xFguklrlTf http://t.co/FeGu8hWMc4   \n",
              "\n",
              "      target  previsão  probabilidade  \n",
              "2298       0       1.0       0.999838  \n",
              "4476       0       1.0       0.999819  \n",
              "2131       0       1.0       0.999626  \n",
              "3806       0       1.0       0.999585  \n",
              "4663       0       1.0       0.999390  \n",
              "5152       0       1.0       0.999348  \n",
              "2037       0       1.0       0.999152  \n",
              "4791       0       1.0       0.998823  \n",
              "2116       0       1.0       0.998814  \n",
              "1284       0       1.0       0.998730  \n",
              "...      ...       ...            ...  \n",
              "2310       1       0.0       0.001072  \n",
              "5642       1       0.0       0.001044  \n",
              "4594       1       0.0       0.000685  \n",
              "2715       1       0.0       0.000382  \n",
              "5779       1       0.0       0.000361  \n",
              "5805       1       0.0       0.000275  \n",
              "358        1       0.0       0.000243  \n",
              "2612       1       0.0       0.000166  \n",
              "5122       1       0.0       0.000101  \n",
              "547        1       0.0       0.000081  \n",
              "\n",
              "[171 rows x 4 columns]"
            ],
            "text/html": [
              "\n",
              "  <div id=\"df-68faf217-813f-41bd-8efe-64218b856767\">\n",
              "    <div class=\"colab-df-container\">\n",
              "      <div>\n",
              "<style scoped>\n",
              "    .dataframe tbody tr th:only-of-type {\n",
              "        vertical-align: middle;\n",
              "    }\n",
              "\n",
              "    .dataframe tbody tr th {\n",
              "        vertical-align: top;\n",
              "    }\n",
              "\n",
              "    .dataframe thead th {\n",
              "        text-align: right;\n",
              "    }\n",
              "</style>\n",
              "<table border=\"1\" class=\"dataframe\">\n",
              "  <thead>\n",
              "    <tr style=\"text-align: right;\">\n",
              "      <th></th>\n",
              "      <th>text</th>\n",
              "      <th>target</th>\n",
              "      <th>previsão</th>\n",
              "      <th>probabilidade</th>\n",
              "    </tr>\n",
              "  </thead>\n",
              "  <tbody>\n",
              "    <tr>\n",
              "      <th>2298</th>\n",
              "      <td>Just had my first counter on a league game against another Orianna I happened to demolish her xD. I totally appreciate people that play her</td>\n",
              "      <td>0</td>\n",
              "      <td>1.0</td>\n",
              "      <td>0.999838</td>\n",
              "    </tr>\n",
              "    <tr>\n",
              "      <th>4476</th>\n",
              "      <td>#hot  C-130 specially modified to land in a stadium and rescue hostages in Iran in 1980 http://t.co/zY3hpdJNwg #prebreak #best</td>\n",
              "      <td>0</td>\n",
              "      <td>1.0</td>\n",
              "      <td>0.999819</td>\n",
              "    </tr>\n",
              "    <tr>\n",
              "      <th>2131</th>\n",
              "      <td>Breast milk is the original #superfood but rates worldwide have stalled below 40% contributing to more than 800000 child deaths last year.</td>\n",
              "      <td>0</td>\n",
              "      <td>1.0</td>\n",
              "      <td>0.999626</td>\n",
              "    </tr>\n",
              "    <tr>\n",
              "      <th>3806</th>\n",
              "      <td>Former Township fire truck being used in Philippines - Langley Times http://t.co/iMiLsFxntf #filipino</td>\n",
              "      <td>0</td>\n",
              "      <td>1.0</td>\n",
              "      <td>0.999585</td>\n",
              "    </tr>\n",
              "    <tr>\n",
              "      <th>4663</th>\n",
              "      <td>#tech Data Overload: The Growing Demand for Context and Structure: In a world inundated with information... http://t.co/s0ctCQJvjX #news</td>\n",
              "      <td>0</td>\n",
              "      <td>1.0</td>\n",
              "      <td>0.999390</td>\n",
              "    </tr>\n",
              "    <tr>\n",
              "      <th>5152</th>\n",
              "      <td>The  People's  Republic  Of  China  (  PROC  ): Abandon the West Philippine Sea and all the ... https://t.co/pD14GsrfSC via @ChangePilipinas</td>\n",
              "      <td>0</td>\n",
              "      <td>1.0</td>\n",
              "      <td>0.999348</td>\n",
              "    </tr>\n",
              "    <tr>\n",
              "      <th>2037</th>\n",
              "      <td>Don't like those head first slides. Especially into home !! #danger</td>\n",
              "      <td>0</td>\n",
              "      <td>1.0</td>\n",
              "      <td>0.999152</td>\n",
              "    </tr>\n",
              "    <tr>\n",
              "      <th>4791</th>\n",
              "      <td>#auspol Can you see the resemblance between ABBOTT &amp;amp; Campbell both are loud and came in with a big BANG!! Out the same way;  Lets see !</td>\n",
              "      <td>0</td>\n",
              "      <td>1.0</td>\n",
              "      <td>0.998823</td>\n",
              "    </tr>\n",
              "    <tr>\n",
              "      <th>2116</th>\n",
              "      <td>VIDEO: Slain Mexican Journalist Unknowingly Predicted His Own Death http://t.co/QxhOwCv16R via @BreitbartNews</td>\n",
              "      <td>0</td>\n",
              "      <td>1.0</td>\n",
              "      <td>0.998814</td>\n",
              "    </tr>\n",
              "    <tr>\n",
              "      <th>1284</th>\n",
              "      <td>burned 202 calories doing 30 minutes of Walking 4.0 mph very brisk pace #myfitnesspal</td>\n",
              "      <td>0</td>\n",
              "      <td>1.0</td>\n",
              "      <td>0.998730</td>\n",
              "    </tr>\n",
              "    <tr>\n",
              "      <th>...</th>\n",
              "      <td>...</td>\n",
              "      <td>...</td>\n",
              "      <td>...</td>\n",
              "      <td>...</td>\n",
              "    </tr>\n",
              "    <tr>\n",
              "      <th>2310</th>\n",
              "      <td>Got my first gamer troll I just demolished a kid from Philly with Toronto on MLB and he was upset #BacktoBack #ChargedUp ??????</td>\n",
              "      <td>1</td>\n",
              "      <td>0.0</td>\n",
              "      <td>0.001072</td>\n",
              "    </tr>\n",
              "    <tr>\n",
              "      <th>5642</th>\n",
              "      <td>Newlyweds feed thousands of Syrian refugees instead of hosting a banquet wedding dinner -  http://t.co/XZV0lT9ZZk via @smh</td>\n",
              "      <td>1</td>\n",
              "      <td>0.0</td>\n",
              "      <td>0.001044</td>\n",
              "    </tr>\n",
              "    <tr>\n",
              "      <th>4594</th>\n",
              "      <td>Enjoying a little golf this summer? Take care to avoid injury -- back and shoulder injuries can happen quickly http://t.co/f1R5ISBVks</td>\n",
              "      <td>1</td>\n",
              "      <td>0.0</td>\n",
              "      <td>0.000685</td>\n",
              "    </tr>\n",
              "    <tr>\n",
              "      <th>2715</th>\n",
              "      <td>Man Currensy really be talkin that talk... I'd be more devastated if he had a ghostwriter than anybody else....</td>\n",
              "      <td>1</td>\n",
              "      <td>0.0</td>\n",
              "      <td>0.000382</td>\n",
              "    </tr>\n",
              "    <tr>\n",
              "      <th>5779</th>\n",
              "      <td>'Money can't buy happiness' is just a lie we tell poor people to keep them from rioting.</td>\n",
              "      <td>1</td>\n",
              "      <td>0.0</td>\n",
              "      <td>0.000361</td>\n",
              "    </tr>\n",
              "    <tr>\n",
              "      <th>5805</th>\n",
              "      <td>people rioting everywhere and I think I'd be one of them.'\\n\\nUsami-san &amp;lt;3</td>\n",
              "      <td>1</td>\n",
              "      <td>0.0</td>\n",
              "      <td>0.000275</td>\n",
              "    </tr>\n",
              "    <tr>\n",
              "      <th>358</th>\n",
              "      <td>One Direction Is my pick for http://t.co/q2eBlOKeVE Fan Army #Directioners http://t.co/eNCmhz6y34 x1392</td>\n",
              "      <td>1</td>\n",
              "      <td>0.0</td>\n",
              "      <td>0.000243</td>\n",
              "    </tr>\n",
              "    <tr>\n",
              "      <th>2612</th>\n",
              "      <td>New RAN report from the frontlines of human rights abuses and forest destruction for fashion.: http://t.co/tYDXauuEnQ</td>\n",
              "      <td>1</td>\n",
              "      <td>0.0</td>\n",
              "      <td>0.000166</td>\n",
              "    </tr>\n",
              "    <tr>\n",
              "      <th>5122</th>\n",
              "      <td>US Navy Sidelines 3 Newest Subs - http://t.co/guvTIzyCHE: DefenseNews.comUS Navy Sidelines 3 Newest SubsD... http://t.co/SY2WhXT0K5 #navy</td>\n",
              "      <td>1</td>\n",
              "      <td>0.0</td>\n",
              "      <td>0.000101</td>\n",
              "    </tr>\n",
              "    <tr>\n",
              "      <th>547</th>\n",
              "      <td>STAR WARS POWER OF THE JEDI COLLECTION 1 BATTLE DROID HASBRO - Full read by eBay http://t.co/xFguklrlTf http://t.co/FeGu8hWMc4</td>\n",
              "      <td>1</td>\n",
              "      <td>0.0</td>\n",
              "      <td>0.000081</td>\n",
              "    </tr>\n",
              "  </tbody>\n",
              "</table>\n",
              "<p>171 rows × 4 columns</p>\n",
              "</div>\n",
              "      <button class=\"colab-df-convert\" onclick=\"convertToInteractive('df-68faf217-813f-41bd-8efe-64218b856767')\"\n",
              "              title=\"Convert this dataframe to an interactive table.\"\n",
              "              style=\"display:none;\">\n",
              "        \n",
              "  <svg xmlns=\"http://www.w3.org/2000/svg\" height=\"24px\"viewBox=\"0 0 24 24\"\n",
              "       width=\"24px\">\n",
              "    <path d=\"M0 0h24v24H0V0z\" fill=\"none\"/>\n",
              "    <path d=\"M18.56 5.44l.94 2.06.94-2.06 2.06-.94-2.06-.94-.94-2.06-.94 2.06-2.06.94zm-11 1L8.5 8.5l.94-2.06 2.06-.94-2.06-.94L8.5 2.5l-.94 2.06-2.06.94zm10 10l.94 2.06.94-2.06 2.06-.94-2.06-.94-.94-2.06-.94 2.06-2.06.94z\"/><path d=\"M17.41 7.96l-1.37-1.37c-.4-.4-.92-.59-1.43-.59-.52 0-1.04.2-1.43.59L10.3 9.45l-7.72 7.72c-.78.78-.78 2.05 0 2.83L4 21.41c.39.39.9.59 1.41.59.51 0 1.02-.2 1.41-.59l7.78-7.78 2.81-2.81c.8-.78.8-2.07 0-2.86zM5.41 20L4 18.59l7.72-7.72 1.47 1.35L5.41 20z\"/>\n",
              "  </svg>\n",
              "      </button>\n",
              "      \n",
              "  <style>\n",
              "    .colab-df-container {\n",
              "      display:flex;\n",
              "      flex-wrap:wrap;\n",
              "      gap: 12px;\n",
              "    }\n",
              "\n",
              "    .colab-df-convert {\n",
              "      background-color: #E8F0FE;\n",
              "      border: none;\n",
              "      border-radius: 50%;\n",
              "      cursor: pointer;\n",
              "      display: none;\n",
              "      fill: #1967D2;\n",
              "      height: 32px;\n",
              "      padding: 0 0 0 0;\n",
              "      width: 32px;\n",
              "    }\n",
              "\n",
              "    .colab-df-convert:hover {\n",
              "      background-color: #E2EBFA;\n",
              "      box-shadow: 0px 1px 2px rgba(60, 64, 67, 0.3), 0px 1px 3px 1px rgba(60, 64, 67, 0.15);\n",
              "      fill: #174EA6;\n",
              "    }\n",
              "\n",
              "    [theme=dark] .colab-df-convert {\n",
              "      background-color: #3B4455;\n",
              "      fill: #D2E3FC;\n",
              "    }\n",
              "\n",
              "    [theme=dark] .colab-df-convert:hover {\n",
              "      background-color: #434B5C;\n",
              "      box-shadow: 0px 1px 3px 1px rgba(0, 0, 0, 0.15);\n",
              "      filter: drop-shadow(0px 1px 2px rgba(0, 0, 0, 0.3));\n",
              "      fill: #FFFFFF;\n",
              "    }\n",
              "  </style>\n",
              "\n",
              "      <script>\n",
              "        const buttonEl =\n",
              "          document.querySelector('#df-68faf217-813f-41bd-8efe-64218b856767 button.colab-df-convert');\n",
              "        buttonEl.style.display =\n",
              "          google.colab.kernel.accessAllowed ? 'block' : 'none';\n",
              "\n",
              "        async function convertToInteractive(key) {\n",
              "          const element = document.querySelector('#df-68faf217-813f-41bd-8efe-64218b856767');\n",
              "          const dataTable =\n",
              "            await google.colab.kernel.invokeFunction('convertToInteractive',\n",
              "                                                     [key], {});\n",
              "          if (!dataTable) return;\n",
              "\n",
              "          const docLinkHtml = 'Like what you see? Visit the ' +\n",
              "            '<a target=\"_blank\" href=https://colab.research.google.com/notebooks/data_table.ipynb>data table notebook</a>'\n",
              "            + ' to learn more about interactive tables.';\n",
              "          element.innerHTML = '';\n",
              "          dataTable['output_type'] = 'display_data';\n",
              "          await google.colab.output.renderOutput(dataTable, element);\n",
              "          const docLink = document.createElement('div');\n",
              "          docLink.innerHTML = docLinkHtml;\n",
              "          element.appendChild(docLink);\n",
              "        }\n",
              "      </script>\n",
              "    </div>\n",
              "  </div>\n",
              "  "
            ]
          },
          "metadata": {}
        },
        {
          "output_type": "stream",
          "name": "stdout",
          "text": [
            "\n",
            "========\n",
            "Modelo 4\n",
            "========\n"
          ]
        },
        {
          "output_type": "display_data",
          "data": {
            "text/plain": [
              "                                                                                                                                              text  \\\n",
              "3806                                         Former Township fire truck being used in Philippines - Langley Times http://t.co/iMiLsFxntf #filipino   \n",
              "4476                #hot  C-130 specially modified to land in a stadium and rescue hostages in Iran in 1980 http://t.co/zY3hpdJNwg #prebreak #best   \n",
              "2298   Just had my first counter on a league game against another Orianna I happened to demolish her xD. I totally appreciate people that play her   \n",
              "4663      #tech Data Overload: The Growing Demand for Context and Structure: In a world inundated with information... http://t.co/s0ctCQJvjX #news   \n",
              "2037                                                                           Don't like those head first slides. Especially into home !! #danger   \n",
              "934                                 @KaylaK369 got it last month when I went into the EE shop. Glad it hasn't blown up yet. http://t.co/PgB2BmCFX8   \n",
              "5152  The  People's  Republic  Of  China  (  PROC  ): Abandon the West Philippine Sea and all the ... https://t.co/pD14GsrfSC via @ChangePilipinas   \n",
              "2116                                 VIDEO: Slain Mexican Journalist Unknowingly Predicted His Own Death http://t.co/QxhOwCv16R via @BreitbartNews   \n",
              "1284                                                         burned 202 calories doing 30 minutes of Walking 4.0 mph very brisk pace #myfitnesspal   \n",
              "2353   @MentalHealthGov like AHHhhh fix the ALEC made state med tort and work comp laws leading to the injustice in our MH https://t.co/qEjEDwsFDG   \n",
              "...                                                                                                                                            ...   \n",
              "5642                    Newlyweds feed thousands of Syrian refugees instead of hosting a banquet wedding dinner -  http://t.co/XZV0lT9ZZk via @smh   \n",
              "7231                         @NRO Except when ordered not to carry unauthorized weapons while on duty or in military uniforms. THATS THE RULE FOOL   \n",
              "5805                                                                 people rioting everywhere and I think I'd be one of them.'\\n\\nUsami-san &lt;3   \n",
              "1956                                                          @XHNews We need these plants in the pacific during the cyclone seasons it would help   \n",
              "358                                        One Direction Is my pick for http://t.co/q2eBlOKeVE Fan Army #Directioners http://t.co/eNCmhz6y34 x1392   \n",
              "2612                         New RAN report from the frontlines of human rights abuses and forest destruction for fashion.: http://t.co/tYDXauuEnQ   \n",
              "2715                               Man Currensy really be talkin that talk... I'd be more devastated if he had a ghostwriter than anybody else....   \n",
              "5779                                                      'Money can't buy happiness' is just a lie we tell poor people to keep them from rioting.   \n",
              "5122     US Navy Sidelines 3 Newest Subs - http://t.co/guvTIzyCHE: DefenseNews.comUS Navy Sidelines 3 Newest SubsD... http://t.co/SY2WhXT0K5 #navy   \n",
              "4594         Enjoying a little golf this summer? Take care to avoid injury -- back and shoulder injuries can happen quickly http://t.co/f1R5ISBVks   \n",
              "\n",
              "      target  previsão  probabilidade  \n",
              "3806       0       1.0       0.999968  \n",
              "4476       0       1.0       0.999951  \n",
              "2298       0       1.0       0.999949  \n",
              "4663       0       1.0       0.999945  \n",
              "2037       0       1.0       0.999934  \n",
              "934        0       1.0       0.999930  \n",
              "5152       0       1.0       0.999926  \n",
              "2116       0       1.0       0.999920  \n",
              "1284       0       1.0       0.999914  \n",
              "2353       0       1.0       0.999881  \n",
              "...      ...       ...            ...  \n",
              "5642       1       0.0       0.000136  \n",
              "7231       1       0.0       0.000130  \n",
              "5805       1       0.0       0.000129  \n",
              "1956       1       0.0       0.000126  \n",
              "358        1       0.0       0.000094  \n",
              "2612       1       0.0       0.000077  \n",
              "2715       1       0.0       0.000070  \n",
              "5779       1       0.0       0.000067  \n",
              "5122       1       0.0       0.000062  \n",
              "4594       1       0.0       0.000048  \n",
              "\n",
              "[181 rows x 4 columns]"
            ],
            "text/html": [
              "\n",
              "  <div id=\"df-61b5dc44-0a53-470e-9c7c-a96d207aad0f\">\n",
              "    <div class=\"colab-df-container\">\n",
              "      <div>\n",
              "<style scoped>\n",
              "    .dataframe tbody tr th:only-of-type {\n",
              "        vertical-align: middle;\n",
              "    }\n",
              "\n",
              "    .dataframe tbody tr th {\n",
              "        vertical-align: top;\n",
              "    }\n",
              "\n",
              "    .dataframe thead th {\n",
              "        text-align: right;\n",
              "    }\n",
              "</style>\n",
              "<table border=\"1\" class=\"dataframe\">\n",
              "  <thead>\n",
              "    <tr style=\"text-align: right;\">\n",
              "      <th></th>\n",
              "      <th>text</th>\n",
              "      <th>target</th>\n",
              "      <th>previsão</th>\n",
              "      <th>probabilidade</th>\n",
              "    </tr>\n",
              "  </thead>\n",
              "  <tbody>\n",
              "    <tr>\n",
              "      <th>3806</th>\n",
              "      <td>Former Township fire truck being used in Philippines - Langley Times http://t.co/iMiLsFxntf #filipino</td>\n",
              "      <td>0</td>\n",
              "      <td>1.0</td>\n",
              "      <td>0.999968</td>\n",
              "    </tr>\n",
              "    <tr>\n",
              "      <th>4476</th>\n",
              "      <td>#hot  C-130 specially modified to land in a stadium and rescue hostages in Iran in 1980 http://t.co/zY3hpdJNwg #prebreak #best</td>\n",
              "      <td>0</td>\n",
              "      <td>1.0</td>\n",
              "      <td>0.999951</td>\n",
              "    </tr>\n",
              "    <tr>\n",
              "      <th>2298</th>\n",
              "      <td>Just had my first counter on a league game against another Orianna I happened to demolish her xD. I totally appreciate people that play her</td>\n",
              "      <td>0</td>\n",
              "      <td>1.0</td>\n",
              "      <td>0.999949</td>\n",
              "    </tr>\n",
              "    <tr>\n",
              "      <th>4663</th>\n",
              "      <td>#tech Data Overload: The Growing Demand for Context and Structure: In a world inundated with information... http://t.co/s0ctCQJvjX #news</td>\n",
              "      <td>0</td>\n",
              "      <td>1.0</td>\n",
              "      <td>0.999945</td>\n",
              "    </tr>\n",
              "    <tr>\n",
              "      <th>2037</th>\n",
              "      <td>Don't like those head first slides. Especially into home !! #danger</td>\n",
              "      <td>0</td>\n",
              "      <td>1.0</td>\n",
              "      <td>0.999934</td>\n",
              "    </tr>\n",
              "    <tr>\n",
              "      <th>934</th>\n",
              "      <td>@KaylaK369 got it last month when I went into the EE shop. Glad it hasn't blown up yet. http://t.co/PgB2BmCFX8</td>\n",
              "      <td>0</td>\n",
              "      <td>1.0</td>\n",
              "      <td>0.999930</td>\n",
              "    </tr>\n",
              "    <tr>\n",
              "      <th>5152</th>\n",
              "      <td>The  People's  Republic  Of  China  (  PROC  ): Abandon the West Philippine Sea and all the ... https://t.co/pD14GsrfSC via @ChangePilipinas</td>\n",
              "      <td>0</td>\n",
              "      <td>1.0</td>\n",
              "      <td>0.999926</td>\n",
              "    </tr>\n",
              "    <tr>\n",
              "      <th>2116</th>\n",
              "      <td>VIDEO: Slain Mexican Journalist Unknowingly Predicted His Own Death http://t.co/QxhOwCv16R via @BreitbartNews</td>\n",
              "      <td>0</td>\n",
              "      <td>1.0</td>\n",
              "      <td>0.999920</td>\n",
              "    </tr>\n",
              "    <tr>\n",
              "      <th>1284</th>\n",
              "      <td>burned 202 calories doing 30 minutes of Walking 4.0 mph very brisk pace #myfitnesspal</td>\n",
              "      <td>0</td>\n",
              "      <td>1.0</td>\n",
              "      <td>0.999914</td>\n",
              "    </tr>\n",
              "    <tr>\n",
              "      <th>2353</th>\n",
              "      <td>@MentalHealthGov like AHHhhh fix the ALEC made state med tort and work comp laws leading to the injustice in our MH https://t.co/qEjEDwsFDG</td>\n",
              "      <td>0</td>\n",
              "      <td>1.0</td>\n",
              "      <td>0.999881</td>\n",
              "    </tr>\n",
              "    <tr>\n",
              "      <th>...</th>\n",
              "      <td>...</td>\n",
              "      <td>...</td>\n",
              "      <td>...</td>\n",
              "      <td>...</td>\n",
              "    </tr>\n",
              "    <tr>\n",
              "      <th>5642</th>\n",
              "      <td>Newlyweds feed thousands of Syrian refugees instead of hosting a banquet wedding dinner -  http://t.co/XZV0lT9ZZk via @smh</td>\n",
              "      <td>1</td>\n",
              "      <td>0.0</td>\n",
              "      <td>0.000136</td>\n",
              "    </tr>\n",
              "    <tr>\n",
              "      <th>7231</th>\n",
              "      <td>@NRO Except when ordered not to carry unauthorized weapons while on duty or in military uniforms. THATS THE RULE FOOL</td>\n",
              "      <td>1</td>\n",
              "      <td>0.0</td>\n",
              "      <td>0.000130</td>\n",
              "    </tr>\n",
              "    <tr>\n",
              "      <th>5805</th>\n",
              "      <td>people rioting everywhere and I think I'd be one of them.'\\n\\nUsami-san &amp;lt;3</td>\n",
              "      <td>1</td>\n",
              "      <td>0.0</td>\n",
              "      <td>0.000129</td>\n",
              "    </tr>\n",
              "    <tr>\n",
              "      <th>1956</th>\n",
              "      <td>@XHNews We need these plants in the pacific during the cyclone seasons it would help</td>\n",
              "      <td>1</td>\n",
              "      <td>0.0</td>\n",
              "      <td>0.000126</td>\n",
              "    </tr>\n",
              "    <tr>\n",
              "      <th>358</th>\n",
              "      <td>One Direction Is my pick for http://t.co/q2eBlOKeVE Fan Army #Directioners http://t.co/eNCmhz6y34 x1392</td>\n",
              "      <td>1</td>\n",
              "      <td>0.0</td>\n",
              "      <td>0.000094</td>\n",
              "    </tr>\n",
              "    <tr>\n",
              "      <th>2612</th>\n",
              "      <td>New RAN report from the frontlines of human rights abuses and forest destruction for fashion.: http://t.co/tYDXauuEnQ</td>\n",
              "      <td>1</td>\n",
              "      <td>0.0</td>\n",
              "      <td>0.000077</td>\n",
              "    </tr>\n",
              "    <tr>\n",
              "      <th>2715</th>\n",
              "      <td>Man Currensy really be talkin that talk... I'd be more devastated if he had a ghostwriter than anybody else....</td>\n",
              "      <td>1</td>\n",
              "      <td>0.0</td>\n",
              "      <td>0.000070</td>\n",
              "    </tr>\n",
              "    <tr>\n",
              "      <th>5779</th>\n",
              "      <td>'Money can't buy happiness' is just a lie we tell poor people to keep them from rioting.</td>\n",
              "      <td>1</td>\n",
              "      <td>0.0</td>\n",
              "      <td>0.000067</td>\n",
              "    </tr>\n",
              "    <tr>\n",
              "      <th>5122</th>\n",
              "      <td>US Navy Sidelines 3 Newest Subs - http://t.co/guvTIzyCHE: DefenseNews.comUS Navy Sidelines 3 Newest SubsD... http://t.co/SY2WhXT0K5 #navy</td>\n",
              "      <td>1</td>\n",
              "      <td>0.0</td>\n",
              "      <td>0.000062</td>\n",
              "    </tr>\n",
              "    <tr>\n",
              "      <th>4594</th>\n",
              "      <td>Enjoying a little golf this summer? Take care to avoid injury -- back and shoulder injuries can happen quickly http://t.co/f1R5ISBVks</td>\n",
              "      <td>1</td>\n",
              "      <td>0.0</td>\n",
              "      <td>0.000048</td>\n",
              "    </tr>\n",
              "  </tbody>\n",
              "</table>\n",
              "<p>181 rows × 4 columns</p>\n",
              "</div>\n",
              "      <button class=\"colab-df-convert\" onclick=\"convertToInteractive('df-61b5dc44-0a53-470e-9c7c-a96d207aad0f')\"\n",
              "              title=\"Convert this dataframe to an interactive table.\"\n",
              "              style=\"display:none;\">\n",
              "        \n",
              "  <svg xmlns=\"http://www.w3.org/2000/svg\" height=\"24px\"viewBox=\"0 0 24 24\"\n",
              "       width=\"24px\">\n",
              "    <path d=\"M0 0h24v24H0V0z\" fill=\"none\"/>\n",
              "    <path d=\"M18.56 5.44l.94 2.06.94-2.06 2.06-.94-2.06-.94-.94-2.06-.94 2.06-2.06.94zm-11 1L8.5 8.5l.94-2.06 2.06-.94-2.06-.94L8.5 2.5l-.94 2.06-2.06.94zm10 10l.94 2.06.94-2.06 2.06-.94-2.06-.94-.94-2.06-.94 2.06-2.06.94z\"/><path d=\"M17.41 7.96l-1.37-1.37c-.4-.4-.92-.59-1.43-.59-.52 0-1.04.2-1.43.59L10.3 9.45l-7.72 7.72c-.78.78-.78 2.05 0 2.83L4 21.41c.39.39.9.59 1.41.59.51 0 1.02-.2 1.41-.59l7.78-7.78 2.81-2.81c.8-.78.8-2.07 0-2.86zM5.41 20L4 18.59l7.72-7.72 1.47 1.35L5.41 20z\"/>\n",
              "  </svg>\n",
              "      </button>\n",
              "      \n",
              "  <style>\n",
              "    .colab-df-container {\n",
              "      display:flex;\n",
              "      flex-wrap:wrap;\n",
              "      gap: 12px;\n",
              "    }\n",
              "\n",
              "    .colab-df-convert {\n",
              "      background-color: #E8F0FE;\n",
              "      border: none;\n",
              "      border-radius: 50%;\n",
              "      cursor: pointer;\n",
              "      display: none;\n",
              "      fill: #1967D2;\n",
              "      height: 32px;\n",
              "      padding: 0 0 0 0;\n",
              "      width: 32px;\n",
              "    }\n",
              "\n",
              "    .colab-df-convert:hover {\n",
              "      background-color: #E2EBFA;\n",
              "      box-shadow: 0px 1px 2px rgba(60, 64, 67, 0.3), 0px 1px 3px 1px rgba(60, 64, 67, 0.15);\n",
              "      fill: #174EA6;\n",
              "    }\n",
              "\n",
              "    [theme=dark] .colab-df-convert {\n",
              "      background-color: #3B4455;\n",
              "      fill: #D2E3FC;\n",
              "    }\n",
              "\n",
              "    [theme=dark] .colab-df-convert:hover {\n",
              "      background-color: #434B5C;\n",
              "      box-shadow: 0px 1px 3px 1px rgba(0, 0, 0, 0.15);\n",
              "      filter: drop-shadow(0px 1px 2px rgba(0, 0, 0, 0.3));\n",
              "      fill: #FFFFFF;\n",
              "    }\n",
              "  </style>\n",
              "\n",
              "      <script>\n",
              "        const buttonEl =\n",
              "          document.querySelector('#df-61b5dc44-0a53-470e-9c7c-a96d207aad0f button.colab-df-convert');\n",
              "        buttonEl.style.display =\n",
              "          google.colab.kernel.accessAllowed ? 'block' : 'none';\n",
              "\n",
              "        async function convertToInteractive(key) {\n",
              "          const element = document.querySelector('#df-61b5dc44-0a53-470e-9c7c-a96d207aad0f');\n",
              "          const dataTable =\n",
              "            await google.colab.kernel.invokeFunction('convertToInteractive',\n",
              "                                                     [key], {});\n",
              "          if (!dataTable) return;\n",
              "\n",
              "          const docLinkHtml = 'Like what you see? Visit the ' +\n",
              "            '<a target=\"_blank\" href=https://colab.research.google.com/notebooks/data_table.ipynb>data table notebook</a>'\n",
              "            + ' to learn more about interactive tables.';\n",
              "          element.innerHTML = '';\n",
              "          dataTable['output_type'] = 'display_data';\n",
              "          await google.colab.output.renderOutput(dataTable, element);\n",
              "          const docLink = document.createElement('div');\n",
              "          docLink.innerHTML = docLinkHtml;\n",
              "          element.appendChild(docLink);\n",
              "        }\n",
              "      </script>\n",
              "    </div>\n",
              "  </div>\n",
              "  "
            ]
          },
          "metadata": {}
        },
        {
          "output_type": "stream",
          "name": "stdout",
          "text": [
            "\n",
            "========\n",
            "Modelo 5\n",
            "========\n"
          ]
        },
        {
          "output_type": "display_data",
          "data": {
            "text/plain": [
              "                                                                                                                                             text  \\\n",
              "3806                                        Former Township fire truck being used in Philippines - Langley Times http://t.co/iMiLsFxntf #filipino   \n",
              "4476               #hot  C-130 specially modified to land in a stadium and rescue hostages in Iran in 1980 http://t.co/zY3hpdJNwg #prebreak #best   \n",
              "2298  Just had my first counter on a league game against another Orianna I happened to demolish her xD. I totally appreciate people that play her   \n",
              "4663     #tech Data Overload: The Growing Demand for Context and Structure: In a world inundated with information... http://t.co/s0ctCQJvjX #news   \n",
              "2037                                                                          Don't like those head first slides. Especially into home !! #danger   \n",
              "7043                                                             Satellite Spies Super Typhoon Soudelor from Space (Photo) http://t.co/VBhu2t8wgB   \n",
              "2131   Breast milk is the original #superfood but rates worldwide have stalled below 40% contributing to more than 800000 child deaths last year.   \n",
              "2116                                VIDEO: Slain Mexican Journalist Unknowingly Predicted His Own Death http://t.co/QxhOwCv16R via @BreitbartNews   \n",
              "934                                @KaylaK369 got it last month when I went into the EE shop. Glad it hasn't blown up yet. http://t.co/PgB2BmCFX8   \n",
              "6524            @DDNewsLive @NitishKumar  and @ArvindKejriwal can't survive without referring @@narendramodi . Without Mr Modi they are BIG ZEROS   \n",
              "...                                                                                                                                           ...   \n",
              "2310              Got my first gamer troll I just demolished a kid from Philly with Toronto on MLB and he was upset #BacktoBack #ChargedUp ??????   \n",
              "7231                        @NRO Except when ordered not to carry unauthorized weapons while on duty or in military uniforms. THATS THE RULE FOOL   \n",
              "4594        Enjoying a little golf this summer? Take care to avoid injury -- back and shoulder injuries can happen quickly http://t.co/f1R5ISBVks   \n",
              "358                                       One Direction Is my pick for http://t.co/q2eBlOKeVE Fan Army #Directioners http://t.co/eNCmhz6y34 x1392   \n",
              "547                STAR WARS POWER OF THE JEDI COLLECTION 1 BATTLE DROID HASBRO - Full read by eBay http://t.co/xFguklrlTf http://t.co/FeGu8hWMc4   \n",
              "5805                                                                people rioting everywhere and I think I'd be one of them.'\\n\\nUsami-san &lt;3   \n",
              "2612                        New RAN report from the frontlines of human rights abuses and forest destruction for fashion.: http://t.co/tYDXauuEnQ   \n",
              "2715                              Man Currensy really be talkin that talk... I'd be more devastated if he had a ghostwriter than anybody else....   \n",
              "5779                                                     'Money can't buy happiness' is just a lie we tell poor people to keep them from rioting.   \n",
              "5122    US Navy Sidelines 3 Newest Subs - http://t.co/guvTIzyCHE: DefenseNews.comUS Navy Sidelines 3 Newest SubsD... http://t.co/SY2WhXT0K5 #navy   \n",
              "\n",
              "      target  previsão  probabilidade  \n",
              "3806       0       1.0   1.000000e+00  \n",
              "4476       0       1.0   1.000000e+00  \n",
              "2298       0       1.0   9.999999e-01  \n",
              "4663       0       1.0   9.999995e-01  \n",
              "2037       0       1.0   9.999981e-01  \n",
              "7043       0       1.0   9.999979e-01  \n",
              "2131       0       1.0   9.999942e-01  \n",
              "2116       0       1.0   9.999921e-01  \n",
              "934        0       1.0   9.999850e-01  \n",
              "6524       0       1.0   9.999311e-01  \n",
              "...      ...       ...            ...  \n",
              "2310       1       0.0   1.000892e-04  \n",
              "7231       1       0.0   9.816584e-05  \n",
              "4594       1       0.0   5.507934e-05  \n",
              "358        1       0.0   2.019014e-05  \n",
              "547        1       0.0   1.213724e-05  \n",
              "5805       1       0.0   1.087729e-05  \n",
              "2612       1       0.0   3.215735e-06  \n",
              "2715       1       0.0   1.171420e-06  \n",
              "5779       1       0.0   8.354882e-07  \n",
              "5122       1       0.0   3.214706e-08  \n",
              "\n",
              "[178 rows x 4 columns]"
            ],
            "text/html": [
              "\n",
              "  <div id=\"df-40b7f54b-1f97-48b8-8364-a1073037fb03\">\n",
              "    <div class=\"colab-df-container\">\n",
              "      <div>\n",
              "<style scoped>\n",
              "    .dataframe tbody tr th:only-of-type {\n",
              "        vertical-align: middle;\n",
              "    }\n",
              "\n",
              "    .dataframe tbody tr th {\n",
              "        vertical-align: top;\n",
              "    }\n",
              "\n",
              "    .dataframe thead th {\n",
              "        text-align: right;\n",
              "    }\n",
              "</style>\n",
              "<table border=\"1\" class=\"dataframe\">\n",
              "  <thead>\n",
              "    <tr style=\"text-align: right;\">\n",
              "      <th></th>\n",
              "      <th>text</th>\n",
              "      <th>target</th>\n",
              "      <th>previsão</th>\n",
              "      <th>probabilidade</th>\n",
              "    </tr>\n",
              "  </thead>\n",
              "  <tbody>\n",
              "    <tr>\n",
              "      <th>3806</th>\n",
              "      <td>Former Township fire truck being used in Philippines - Langley Times http://t.co/iMiLsFxntf #filipino</td>\n",
              "      <td>0</td>\n",
              "      <td>1.0</td>\n",
              "      <td>1.000000e+00</td>\n",
              "    </tr>\n",
              "    <tr>\n",
              "      <th>4476</th>\n",
              "      <td>#hot  C-130 specially modified to land in a stadium and rescue hostages in Iran in 1980 http://t.co/zY3hpdJNwg #prebreak #best</td>\n",
              "      <td>0</td>\n",
              "      <td>1.0</td>\n",
              "      <td>1.000000e+00</td>\n",
              "    </tr>\n",
              "    <tr>\n",
              "      <th>2298</th>\n",
              "      <td>Just had my first counter on a league game against another Orianna I happened to demolish her xD. I totally appreciate people that play her</td>\n",
              "      <td>0</td>\n",
              "      <td>1.0</td>\n",
              "      <td>9.999999e-01</td>\n",
              "    </tr>\n",
              "    <tr>\n",
              "      <th>4663</th>\n",
              "      <td>#tech Data Overload: The Growing Demand for Context and Structure: In a world inundated with information... http://t.co/s0ctCQJvjX #news</td>\n",
              "      <td>0</td>\n",
              "      <td>1.0</td>\n",
              "      <td>9.999995e-01</td>\n",
              "    </tr>\n",
              "    <tr>\n",
              "      <th>2037</th>\n",
              "      <td>Don't like those head first slides. Especially into home !! #danger</td>\n",
              "      <td>0</td>\n",
              "      <td>1.0</td>\n",
              "      <td>9.999981e-01</td>\n",
              "    </tr>\n",
              "    <tr>\n",
              "      <th>7043</th>\n",
              "      <td>Satellite Spies Super Typhoon Soudelor from Space (Photo) http://t.co/VBhu2t8wgB</td>\n",
              "      <td>0</td>\n",
              "      <td>1.0</td>\n",
              "      <td>9.999979e-01</td>\n",
              "    </tr>\n",
              "    <tr>\n",
              "      <th>2131</th>\n",
              "      <td>Breast milk is the original #superfood but rates worldwide have stalled below 40% contributing to more than 800000 child deaths last year.</td>\n",
              "      <td>0</td>\n",
              "      <td>1.0</td>\n",
              "      <td>9.999942e-01</td>\n",
              "    </tr>\n",
              "    <tr>\n",
              "      <th>2116</th>\n",
              "      <td>VIDEO: Slain Mexican Journalist Unknowingly Predicted His Own Death http://t.co/QxhOwCv16R via @BreitbartNews</td>\n",
              "      <td>0</td>\n",
              "      <td>1.0</td>\n",
              "      <td>9.999921e-01</td>\n",
              "    </tr>\n",
              "    <tr>\n",
              "      <th>934</th>\n",
              "      <td>@KaylaK369 got it last month when I went into the EE shop. Glad it hasn't blown up yet. http://t.co/PgB2BmCFX8</td>\n",
              "      <td>0</td>\n",
              "      <td>1.0</td>\n",
              "      <td>9.999850e-01</td>\n",
              "    </tr>\n",
              "    <tr>\n",
              "      <th>6524</th>\n",
              "      <td>@DDNewsLive @NitishKumar  and @ArvindKejriwal can't survive without referring @@narendramodi . Without Mr Modi they are BIG ZEROS</td>\n",
              "      <td>0</td>\n",
              "      <td>1.0</td>\n",
              "      <td>9.999311e-01</td>\n",
              "    </tr>\n",
              "    <tr>\n",
              "      <th>...</th>\n",
              "      <td>...</td>\n",
              "      <td>...</td>\n",
              "      <td>...</td>\n",
              "      <td>...</td>\n",
              "    </tr>\n",
              "    <tr>\n",
              "      <th>2310</th>\n",
              "      <td>Got my first gamer troll I just demolished a kid from Philly with Toronto on MLB and he was upset #BacktoBack #ChargedUp ??????</td>\n",
              "      <td>1</td>\n",
              "      <td>0.0</td>\n",
              "      <td>1.000892e-04</td>\n",
              "    </tr>\n",
              "    <tr>\n",
              "      <th>7231</th>\n",
              "      <td>@NRO Except when ordered not to carry unauthorized weapons while on duty or in military uniforms. THATS THE RULE FOOL</td>\n",
              "      <td>1</td>\n",
              "      <td>0.0</td>\n",
              "      <td>9.816584e-05</td>\n",
              "    </tr>\n",
              "    <tr>\n",
              "      <th>4594</th>\n",
              "      <td>Enjoying a little golf this summer? Take care to avoid injury -- back and shoulder injuries can happen quickly http://t.co/f1R5ISBVks</td>\n",
              "      <td>1</td>\n",
              "      <td>0.0</td>\n",
              "      <td>5.507934e-05</td>\n",
              "    </tr>\n",
              "    <tr>\n",
              "      <th>358</th>\n",
              "      <td>One Direction Is my pick for http://t.co/q2eBlOKeVE Fan Army #Directioners http://t.co/eNCmhz6y34 x1392</td>\n",
              "      <td>1</td>\n",
              "      <td>0.0</td>\n",
              "      <td>2.019014e-05</td>\n",
              "    </tr>\n",
              "    <tr>\n",
              "      <th>547</th>\n",
              "      <td>STAR WARS POWER OF THE JEDI COLLECTION 1 BATTLE DROID HASBRO - Full read by eBay http://t.co/xFguklrlTf http://t.co/FeGu8hWMc4</td>\n",
              "      <td>1</td>\n",
              "      <td>0.0</td>\n",
              "      <td>1.213724e-05</td>\n",
              "    </tr>\n",
              "    <tr>\n",
              "      <th>5805</th>\n",
              "      <td>people rioting everywhere and I think I'd be one of them.'\\n\\nUsami-san &amp;lt;3</td>\n",
              "      <td>1</td>\n",
              "      <td>0.0</td>\n",
              "      <td>1.087729e-05</td>\n",
              "    </tr>\n",
              "    <tr>\n",
              "      <th>2612</th>\n",
              "      <td>New RAN report from the frontlines of human rights abuses and forest destruction for fashion.: http://t.co/tYDXauuEnQ</td>\n",
              "      <td>1</td>\n",
              "      <td>0.0</td>\n",
              "      <td>3.215735e-06</td>\n",
              "    </tr>\n",
              "    <tr>\n",
              "      <th>2715</th>\n",
              "      <td>Man Currensy really be talkin that talk... I'd be more devastated if he had a ghostwriter than anybody else....</td>\n",
              "      <td>1</td>\n",
              "      <td>0.0</td>\n",
              "      <td>1.171420e-06</td>\n",
              "    </tr>\n",
              "    <tr>\n",
              "      <th>5779</th>\n",
              "      <td>'Money can't buy happiness' is just a lie we tell poor people to keep them from rioting.</td>\n",
              "      <td>1</td>\n",
              "      <td>0.0</td>\n",
              "      <td>8.354882e-07</td>\n",
              "    </tr>\n",
              "    <tr>\n",
              "      <th>5122</th>\n",
              "      <td>US Navy Sidelines 3 Newest Subs - http://t.co/guvTIzyCHE: DefenseNews.comUS Navy Sidelines 3 Newest SubsD... http://t.co/SY2WhXT0K5 #navy</td>\n",
              "      <td>1</td>\n",
              "      <td>0.0</td>\n",
              "      <td>3.214706e-08</td>\n",
              "    </tr>\n",
              "  </tbody>\n",
              "</table>\n",
              "<p>178 rows × 4 columns</p>\n",
              "</div>\n",
              "      <button class=\"colab-df-convert\" onclick=\"convertToInteractive('df-40b7f54b-1f97-48b8-8364-a1073037fb03')\"\n",
              "              title=\"Convert this dataframe to an interactive table.\"\n",
              "              style=\"display:none;\">\n",
              "        \n",
              "  <svg xmlns=\"http://www.w3.org/2000/svg\" height=\"24px\"viewBox=\"0 0 24 24\"\n",
              "       width=\"24px\">\n",
              "    <path d=\"M0 0h24v24H0V0z\" fill=\"none\"/>\n",
              "    <path d=\"M18.56 5.44l.94 2.06.94-2.06 2.06-.94-2.06-.94-.94-2.06-.94 2.06-2.06.94zm-11 1L8.5 8.5l.94-2.06 2.06-.94-2.06-.94L8.5 2.5l-.94 2.06-2.06.94zm10 10l.94 2.06.94-2.06 2.06-.94-2.06-.94-.94-2.06-.94 2.06-2.06.94z\"/><path d=\"M17.41 7.96l-1.37-1.37c-.4-.4-.92-.59-1.43-.59-.52 0-1.04.2-1.43.59L10.3 9.45l-7.72 7.72c-.78.78-.78 2.05 0 2.83L4 21.41c.39.39.9.59 1.41.59.51 0 1.02-.2 1.41-.59l7.78-7.78 2.81-2.81c.8-.78.8-2.07 0-2.86zM5.41 20L4 18.59l7.72-7.72 1.47 1.35L5.41 20z\"/>\n",
              "  </svg>\n",
              "      </button>\n",
              "      \n",
              "  <style>\n",
              "    .colab-df-container {\n",
              "      display:flex;\n",
              "      flex-wrap:wrap;\n",
              "      gap: 12px;\n",
              "    }\n",
              "\n",
              "    .colab-df-convert {\n",
              "      background-color: #E8F0FE;\n",
              "      border: none;\n",
              "      border-radius: 50%;\n",
              "      cursor: pointer;\n",
              "      display: none;\n",
              "      fill: #1967D2;\n",
              "      height: 32px;\n",
              "      padding: 0 0 0 0;\n",
              "      width: 32px;\n",
              "    }\n",
              "\n",
              "    .colab-df-convert:hover {\n",
              "      background-color: #E2EBFA;\n",
              "      box-shadow: 0px 1px 2px rgba(60, 64, 67, 0.3), 0px 1px 3px 1px rgba(60, 64, 67, 0.15);\n",
              "      fill: #174EA6;\n",
              "    }\n",
              "\n",
              "    [theme=dark] .colab-df-convert {\n",
              "      background-color: #3B4455;\n",
              "      fill: #D2E3FC;\n",
              "    }\n",
              "\n",
              "    [theme=dark] .colab-df-convert:hover {\n",
              "      background-color: #434B5C;\n",
              "      box-shadow: 0px 1px 3px 1px rgba(0, 0, 0, 0.15);\n",
              "      filter: drop-shadow(0px 1px 2px rgba(0, 0, 0, 0.3));\n",
              "      fill: #FFFFFF;\n",
              "    }\n",
              "  </style>\n",
              "\n",
              "      <script>\n",
              "        const buttonEl =\n",
              "          document.querySelector('#df-40b7f54b-1f97-48b8-8364-a1073037fb03 button.colab-df-convert');\n",
              "        buttonEl.style.display =\n",
              "          google.colab.kernel.accessAllowed ? 'block' : 'none';\n",
              "\n",
              "        async function convertToInteractive(key) {\n",
              "          const element = document.querySelector('#df-40b7f54b-1f97-48b8-8364-a1073037fb03');\n",
              "          const dataTable =\n",
              "            await google.colab.kernel.invokeFunction('convertToInteractive',\n",
              "                                                     [key], {});\n",
              "          if (!dataTable) return;\n",
              "\n",
              "          const docLinkHtml = 'Like what you see? Visit the ' +\n",
              "            '<a target=\"_blank\" href=https://colab.research.google.com/notebooks/data_table.ipynb>data table notebook</a>'\n",
              "            + ' to learn more about interactive tables.';\n",
              "          element.innerHTML = '';\n",
              "          dataTable['output_type'] = 'display_data';\n",
              "          await google.colab.output.renderOutput(dataTable, element);\n",
              "          const docLink = document.createElement('div');\n",
              "          docLink.innerHTML = docLinkHtml;\n",
              "          element.appendChild(docLink);\n",
              "        }\n",
              "      </script>\n",
              "    </div>\n",
              "  </div>\n",
              "  "
            ]
          },
          "metadata": {}
        },
        {
          "output_type": "stream",
          "name": "stdout",
          "text": [
            "\n",
            "========\n",
            "Modelo 6\n",
            "========\n"
          ]
        },
        {
          "output_type": "display_data",
          "data": {
            "text/plain": [
              "                                                                                                                                             text  \\\n",
              "4476               #hot  C-130 specially modified to land in a stadium and rescue hostages in Iran in 1980 http://t.co/zY3hpdJNwg #prebreak #best   \n",
              "5445      Episcopal priests on road trip with interracial family shares harrowing story of police harassment http://t.co/RG4JIsHyBs via @dailykos   \n",
              "3352                           Ahrar Al Sham: In our negotiations with Iran over Al Zabadani they wanted all Sunnis evacuated out of Al Zabadani!   \n",
              "3806                                        Former Township fire truck being used in Philippines - Langley Times http://t.co/iMiLsFxntf #filipino   \n",
              "7266            PawSox owners public return from whirlwind trip to Durham - Knoxville News Sentinel http://t.co/9ckggGYvOU http://t.co/u0vdBrXfia   \n",
              "4227      09:13 PM:  Hazardous Weather Outlook (http://t.co/ed1VpITsWY): NO HAZARDOUS WEATHER IS EXPECTED AT THIS TIME.... http://t.co/6XSbddlZiy   \n",
              "2325                                                                  'Dangerous' property in downtown Phoenix demolished  http://t.co/hiBDw7d7ja   \n",
              "2116                                VIDEO: Slain Mexican Journalist Unknowingly Predicted His Own Death http://t.co/QxhOwCv16R via @BreitbartNews   \n",
              "3821                                                      Juneau Empire - First responders turn out for National Night Out http://t.co/94UYT4ojYK   \n",
              "4821                                       @noah_anyname That's where the concentration camps and mass murder come in. \\n \\nEVERY. FUCKING. TIME.   \n",
              "...                                                                                                                                           ...   \n",
              "3850                                                                      @gilderoy i wish i was good enough to add flames to my nails im on fire   \n",
              "4594        Enjoying a little golf this summer? Take care to avoid injury -- back and shoulder injuries can happen quickly http://t.co/f1R5ISBVks   \n",
              "5596                                                                                                @DavidVonderhaar At least you were sincere ??   \n",
              "6005  @OllyMursAus I do feel sorry for him! He is not a piece of meat! He is a nice guy... People don't need to rush him and screams in his face!   \n",
              "5574                                                                      'The way you move is like a full on rainstorm and I'm a house of cards'   \n",
              "5509     #hot  Reddit's new content policy goes into effect many horrible subreddits banned or quarantined http://t.co/nGKrZPza45 #prebreak #best   \n",
              "3663                                                                                                                       @Truly_Stings Yo Dm me   \n",
              "358                                       One Direction Is my pick for http://t.co/q2eBlOKeVE Fan Army #Directioners http://t.co/eNCmhz6y34 x1392   \n",
              "1005                               'I did another one I did another one. You still ain't done shit about the other one.' Nigga body bagging Meek.   \n",
              "2715                              Man Currensy really be talkin that talk... I'd be more devastated if he had a ghostwriter than anybody else....   \n",
              "\n",
              "      target  previsão  probabilidade  \n",
              "4476       0       1.0       0.972487  \n",
              "5445       0       1.0       0.954311  \n",
              "3352       0       1.0       0.916366  \n",
              "3806       0       1.0       0.912938  \n",
              "7266       0       1.0       0.895528  \n",
              "4227       0       1.0       0.888692  \n",
              "2325       0       1.0       0.879917  \n",
              "2116       0       1.0       0.863424  \n",
              "3821       0       1.0       0.856630  \n",
              "4821       0       1.0       0.842571  \n",
              "...      ...       ...            ...  \n",
              "3850       1       0.0       0.073886  \n",
              "4594       1       0.0       0.070657  \n",
              "5596       1       0.0       0.069978  \n",
              "6005       1       0.0       0.068035  \n",
              "5574       1       0.0       0.065388  \n",
              "5509       1       0.0       0.061767  \n",
              "3663       1       0.0       0.055940  \n",
              "358        1       0.0       0.055435  \n",
              "1005       1       0.0       0.031863  \n",
              "2715       1       0.0       0.030671  \n",
              "\n",
              "[149 rows x 4 columns]"
            ],
            "text/html": [
              "\n",
              "  <div id=\"df-d4075398-0adf-4d31-bb1e-1e9ae91222a0\">\n",
              "    <div class=\"colab-df-container\">\n",
              "      <div>\n",
              "<style scoped>\n",
              "    .dataframe tbody tr th:only-of-type {\n",
              "        vertical-align: middle;\n",
              "    }\n",
              "\n",
              "    .dataframe tbody tr th {\n",
              "        vertical-align: top;\n",
              "    }\n",
              "\n",
              "    .dataframe thead th {\n",
              "        text-align: right;\n",
              "    }\n",
              "</style>\n",
              "<table border=\"1\" class=\"dataframe\">\n",
              "  <thead>\n",
              "    <tr style=\"text-align: right;\">\n",
              "      <th></th>\n",
              "      <th>text</th>\n",
              "      <th>target</th>\n",
              "      <th>previsão</th>\n",
              "      <th>probabilidade</th>\n",
              "    </tr>\n",
              "  </thead>\n",
              "  <tbody>\n",
              "    <tr>\n",
              "      <th>4476</th>\n",
              "      <td>#hot  C-130 specially modified to land in a stadium and rescue hostages in Iran in 1980 http://t.co/zY3hpdJNwg #prebreak #best</td>\n",
              "      <td>0</td>\n",
              "      <td>1.0</td>\n",
              "      <td>0.972487</td>\n",
              "    </tr>\n",
              "    <tr>\n",
              "      <th>5445</th>\n",
              "      <td>Episcopal priests on road trip with interracial family shares harrowing story of police harassment http://t.co/RG4JIsHyBs via @dailykos</td>\n",
              "      <td>0</td>\n",
              "      <td>1.0</td>\n",
              "      <td>0.954311</td>\n",
              "    </tr>\n",
              "    <tr>\n",
              "      <th>3352</th>\n",
              "      <td>Ahrar Al Sham: In our negotiations with Iran over Al Zabadani they wanted all Sunnis evacuated out of Al Zabadani!</td>\n",
              "      <td>0</td>\n",
              "      <td>1.0</td>\n",
              "      <td>0.916366</td>\n",
              "    </tr>\n",
              "    <tr>\n",
              "      <th>3806</th>\n",
              "      <td>Former Township fire truck being used in Philippines - Langley Times http://t.co/iMiLsFxntf #filipino</td>\n",
              "      <td>0</td>\n",
              "      <td>1.0</td>\n",
              "      <td>0.912938</td>\n",
              "    </tr>\n",
              "    <tr>\n",
              "      <th>7266</th>\n",
              "      <td>PawSox owners public return from whirlwind trip to Durham - Knoxville News Sentinel http://t.co/9ckggGYvOU http://t.co/u0vdBrXfia</td>\n",
              "      <td>0</td>\n",
              "      <td>1.0</td>\n",
              "      <td>0.895528</td>\n",
              "    </tr>\n",
              "    <tr>\n",
              "      <th>4227</th>\n",
              "      <td>09:13 PM:  Hazardous Weather Outlook (http://t.co/ed1VpITsWY): NO HAZARDOUS WEATHER IS EXPECTED AT THIS TIME.... http://t.co/6XSbddlZiy</td>\n",
              "      <td>0</td>\n",
              "      <td>1.0</td>\n",
              "      <td>0.888692</td>\n",
              "    </tr>\n",
              "    <tr>\n",
              "      <th>2325</th>\n",
              "      <td>'Dangerous' property in downtown Phoenix demolished  http://t.co/hiBDw7d7ja</td>\n",
              "      <td>0</td>\n",
              "      <td>1.0</td>\n",
              "      <td>0.879917</td>\n",
              "    </tr>\n",
              "    <tr>\n",
              "      <th>2116</th>\n",
              "      <td>VIDEO: Slain Mexican Journalist Unknowingly Predicted His Own Death http://t.co/QxhOwCv16R via @BreitbartNews</td>\n",
              "      <td>0</td>\n",
              "      <td>1.0</td>\n",
              "      <td>0.863424</td>\n",
              "    </tr>\n",
              "    <tr>\n",
              "      <th>3821</th>\n",
              "      <td>Juneau Empire - First responders turn out for National Night Out http://t.co/94UYT4ojYK</td>\n",
              "      <td>0</td>\n",
              "      <td>1.0</td>\n",
              "      <td>0.856630</td>\n",
              "    </tr>\n",
              "    <tr>\n",
              "      <th>4821</th>\n",
              "      <td>@noah_anyname That's where the concentration camps and mass murder come in. \\n \\nEVERY. FUCKING. TIME.</td>\n",
              "      <td>0</td>\n",
              "      <td>1.0</td>\n",
              "      <td>0.842571</td>\n",
              "    </tr>\n",
              "    <tr>\n",
              "      <th>...</th>\n",
              "      <td>...</td>\n",
              "      <td>...</td>\n",
              "      <td>...</td>\n",
              "      <td>...</td>\n",
              "    </tr>\n",
              "    <tr>\n",
              "      <th>3850</th>\n",
              "      <td>@gilderoy i wish i was good enough to add flames to my nails im on fire</td>\n",
              "      <td>1</td>\n",
              "      <td>0.0</td>\n",
              "      <td>0.073886</td>\n",
              "    </tr>\n",
              "    <tr>\n",
              "      <th>4594</th>\n",
              "      <td>Enjoying a little golf this summer? Take care to avoid injury -- back and shoulder injuries can happen quickly http://t.co/f1R5ISBVks</td>\n",
              "      <td>1</td>\n",
              "      <td>0.0</td>\n",
              "      <td>0.070657</td>\n",
              "    </tr>\n",
              "    <tr>\n",
              "      <th>5596</th>\n",
              "      <td>@DavidVonderhaar At least you were sincere ??</td>\n",
              "      <td>1</td>\n",
              "      <td>0.0</td>\n",
              "      <td>0.069978</td>\n",
              "    </tr>\n",
              "    <tr>\n",
              "      <th>6005</th>\n",
              "      <td>@OllyMursAus I do feel sorry for him! He is not a piece of meat! He is a nice guy... People don't need to rush him and screams in his face!</td>\n",
              "      <td>1</td>\n",
              "      <td>0.0</td>\n",
              "      <td>0.068035</td>\n",
              "    </tr>\n",
              "    <tr>\n",
              "      <th>5574</th>\n",
              "      <td>'The way you move is like a full on rainstorm and I'm a house of cards'</td>\n",
              "      <td>1</td>\n",
              "      <td>0.0</td>\n",
              "      <td>0.065388</td>\n",
              "    </tr>\n",
              "    <tr>\n",
              "      <th>5509</th>\n",
              "      <td>#hot  Reddit's new content policy goes into effect many horrible subreddits banned or quarantined http://t.co/nGKrZPza45 #prebreak #best</td>\n",
              "      <td>1</td>\n",
              "      <td>0.0</td>\n",
              "      <td>0.061767</td>\n",
              "    </tr>\n",
              "    <tr>\n",
              "      <th>3663</th>\n",
              "      <td>@Truly_Stings Yo Dm me</td>\n",
              "      <td>1</td>\n",
              "      <td>0.0</td>\n",
              "      <td>0.055940</td>\n",
              "    </tr>\n",
              "    <tr>\n",
              "      <th>358</th>\n",
              "      <td>One Direction Is my pick for http://t.co/q2eBlOKeVE Fan Army #Directioners http://t.co/eNCmhz6y34 x1392</td>\n",
              "      <td>1</td>\n",
              "      <td>0.0</td>\n",
              "      <td>0.055435</td>\n",
              "    </tr>\n",
              "    <tr>\n",
              "      <th>1005</th>\n",
              "      <td>'I did another one I did another one. You still ain't done shit about the other one.' Nigga body bagging Meek.</td>\n",
              "      <td>1</td>\n",
              "      <td>0.0</td>\n",
              "      <td>0.031863</td>\n",
              "    </tr>\n",
              "    <tr>\n",
              "      <th>2715</th>\n",
              "      <td>Man Currensy really be talkin that talk... I'd be more devastated if he had a ghostwriter than anybody else....</td>\n",
              "      <td>1</td>\n",
              "      <td>0.0</td>\n",
              "      <td>0.030671</td>\n",
              "    </tr>\n",
              "  </tbody>\n",
              "</table>\n",
              "<p>149 rows × 4 columns</p>\n",
              "</div>\n",
              "      <button class=\"colab-df-convert\" onclick=\"convertToInteractive('df-d4075398-0adf-4d31-bb1e-1e9ae91222a0')\"\n",
              "              title=\"Convert this dataframe to an interactive table.\"\n",
              "              style=\"display:none;\">\n",
              "        \n",
              "  <svg xmlns=\"http://www.w3.org/2000/svg\" height=\"24px\"viewBox=\"0 0 24 24\"\n",
              "       width=\"24px\">\n",
              "    <path d=\"M0 0h24v24H0V0z\" fill=\"none\"/>\n",
              "    <path d=\"M18.56 5.44l.94 2.06.94-2.06 2.06-.94-2.06-.94-.94-2.06-.94 2.06-2.06.94zm-11 1L8.5 8.5l.94-2.06 2.06-.94-2.06-.94L8.5 2.5l-.94 2.06-2.06.94zm10 10l.94 2.06.94-2.06 2.06-.94-2.06-.94-.94-2.06-.94 2.06-2.06.94z\"/><path d=\"M17.41 7.96l-1.37-1.37c-.4-.4-.92-.59-1.43-.59-.52 0-1.04.2-1.43.59L10.3 9.45l-7.72 7.72c-.78.78-.78 2.05 0 2.83L4 21.41c.39.39.9.59 1.41.59.51 0 1.02-.2 1.41-.59l7.78-7.78 2.81-2.81c.8-.78.8-2.07 0-2.86zM5.41 20L4 18.59l7.72-7.72 1.47 1.35L5.41 20z\"/>\n",
              "  </svg>\n",
              "      </button>\n",
              "      \n",
              "  <style>\n",
              "    .colab-df-container {\n",
              "      display:flex;\n",
              "      flex-wrap:wrap;\n",
              "      gap: 12px;\n",
              "    }\n",
              "\n",
              "    .colab-df-convert {\n",
              "      background-color: #E8F0FE;\n",
              "      border: none;\n",
              "      border-radius: 50%;\n",
              "      cursor: pointer;\n",
              "      display: none;\n",
              "      fill: #1967D2;\n",
              "      height: 32px;\n",
              "      padding: 0 0 0 0;\n",
              "      width: 32px;\n",
              "    }\n",
              "\n",
              "    .colab-df-convert:hover {\n",
              "      background-color: #E2EBFA;\n",
              "      box-shadow: 0px 1px 2px rgba(60, 64, 67, 0.3), 0px 1px 3px 1px rgba(60, 64, 67, 0.15);\n",
              "      fill: #174EA6;\n",
              "    }\n",
              "\n",
              "    [theme=dark] .colab-df-convert {\n",
              "      background-color: #3B4455;\n",
              "      fill: #D2E3FC;\n",
              "    }\n",
              "\n",
              "    [theme=dark] .colab-df-convert:hover {\n",
              "      background-color: #434B5C;\n",
              "      box-shadow: 0px 1px 3px 1px rgba(0, 0, 0, 0.15);\n",
              "      filter: drop-shadow(0px 1px 2px rgba(0, 0, 0, 0.3));\n",
              "      fill: #FFFFFF;\n",
              "    }\n",
              "  </style>\n",
              "\n",
              "      <script>\n",
              "        const buttonEl =\n",
              "          document.querySelector('#df-d4075398-0adf-4d31-bb1e-1e9ae91222a0 button.colab-df-convert');\n",
              "        buttonEl.style.display =\n",
              "          google.colab.kernel.accessAllowed ? 'block' : 'none';\n",
              "\n",
              "        async function convertToInteractive(key) {\n",
              "          const element = document.querySelector('#df-d4075398-0adf-4d31-bb1e-1e9ae91222a0');\n",
              "          const dataTable =\n",
              "            await google.colab.kernel.invokeFunction('convertToInteractive',\n",
              "                                                     [key], {});\n",
              "          if (!dataTable) return;\n",
              "\n",
              "          const docLinkHtml = 'Like what you see? Visit the ' +\n",
              "            '<a target=\"_blank\" href=https://colab.research.google.com/notebooks/data_table.ipynb>data table notebook</a>'\n",
              "            + ' to learn more about interactive tables.';\n",
              "          element.innerHTML = '';\n",
              "          dataTable['output_type'] = 'display_data';\n",
              "          await google.colab.output.renderOutput(dataTable, element);\n",
              "          const docLink = document.createElement('div');\n",
              "          docLink.innerHTML = docLinkHtml;\n",
              "          element.appendChild(docLink);\n",
              "        }\n",
              "      </script>\n",
              "    </div>\n",
              "  </div>\n",
              "  "
            ]
          },
          "metadata": {}
        },
        {
          "output_type": "stream",
          "name": "stdout",
          "text": [
            "\n",
            "========\n",
            "Modelo 7\n",
            "========\n"
          ]
        },
        {
          "output_type": "display_data",
          "data": {
            "text/plain": [
              "                                                                                                                                             text  \\\n",
              "5445      Episcopal priests on road trip with interracial family shares harrowing story of police harassment http://t.co/RG4JIsHyBs via @dailykos   \n",
              "3806                                        Former Township fire truck being used in Philippines - Langley Times http://t.co/iMiLsFxntf #filipino   \n",
              "2359          China detains seven Christians trying to protect their church's cross from demolition http://t.co/XuUB2HBlI5 http://t.co/h5EPx2D1ga   \n",
              "5827                                             China's Stock Market Crash: Are There Gems In The Rubble? http://t.co/o6oNSjHCsD #tcot #p2 #news   \n",
              "6827    #entertainment Hollywood movie about trapped miners released in Chile: SANTIAGO Chile (AP) ÛÓ The Hollyw... http://t.co/C22ecVl4Hw #news   \n",
              "792   City program to help turn blight into greenspace: The Tennessee Housing DevelopmentÛ_ http://t.co/ZZcbBQyJ1q  #news http://t.co/KKSgHsblFH   \n",
              "7266            PawSox owners public return from whirlwind trip to Durham - Knoxville News Sentinel http://t.co/9ckggGYvOU http://t.co/u0vdBrXfia   \n",
              "529                                              the fall of leaves from a poplar is as fully ordained as the tumbling of an avalanche - Spurgeon   \n",
              "4476               #hot  C-130 specially modified to land in a stadium and rescue hostages in Iran in 1980 http://t.co/zY3hpdJNwg #prebreak #best   \n",
              "3821                                                      Juneau Empire - First responders turn out for National Night Out http://t.co/94UYT4ojYK   \n",
              "...                                                                                                                                           ...   \n",
              "214                                                                                                   Annihilated Abs . ?? http://t.co/1xPw292tJe   \n",
              "2310              Got my first gamer troll I just demolished a kid from Philly with Toronto on MLB and he was upset #BacktoBack #ChargedUp ??????   \n",
              "358                                       One Direction Is my pick for http://t.co/q2eBlOKeVE Fan Army #Directioners http://t.co/eNCmhz6y34 x1392   \n",
              "5574                                                                      'The way you move is like a full on rainstorm and I'm a house of cards'   \n",
              "3663                                                                                                                       @Truly_Stings Yo Dm me   \n",
              "2010                                                                                                                  Beach did damage to my shit   \n",
              "6005  @OllyMursAus I do feel sorry for him! He is not a piece of meat! He is a nice guy... People don't need to rush him and screams in his face!   \n",
              "5596                                                                                                @DavidVonderhaar At least you were sincere ??   \n",
              "3850                                                                      @gilderoy i wish i was good enough to add flames to my nails im on fire   \n",
              "1005                               'I did another one I did another one. You still ain't done shit about the other one.' Nigga body bagging Meek.   \n",
              "\n",
              "      target  previsão  probabilidade  \n",
              "5445       0       1.0       0.848189  \n",
              "3806       0       1.0       0.820840  \n",
              "2359       0       1.0       0.819010  \n",
              "5827       0       1.0       0.801486  \n",
              "6827       0       1.0       0.789079  \n",
              "792        0       1.0       0.780315  \n",
              "7266       0       1.0       0.779598  \n",
              "529        0       1.0       0.773780  \n",
              "4476       0       1.0       0.769562  \n",
              "3821       0       1.0       0.767586  \n",
              "...      ...       ...            ...  \n",
              "214        1       0.0       0.107016  \n",
              "2310       1       0.0       0.104660  \n",
              "358        1       0.0       0.104052  \n",
              "5574       1       0.0       0.097398  \n",
              "3663       1       0.0       0.095206  \n",
              "2010       1       0.0       0.094121  \n",
              "6005       1       0.0       0.094056  \n",
              "5596       1       0.0       0.089489  \n",
              "3850       1       0.0       0.086109  \n",
              "1005       1       0.0       0.050406  \n",
              "\n",
              "[167 rows x 4 columns]"
            ],
            "text/html": [
              "\n",
              "  <div id=\"df-79f8f588-88e9-432f-a1f0-fa5d9cd27e63\">\n",
              "    <div class=\"colab-df-container\">\n",
              "      <div>\n",
              "<style scoped>\n",
              "    .dataframe tbody tr th:only-of-type {\n",
              "        vertical-align: middle;\n",
              "    }\n",
              "\n",
              "    .dataframe tbody tr th {\n",
              "        vertical-align: top;\n",
              "    }\n",
              "\n",
              "    .dataframe thead th {\n",
              "        text-align: right;\n",
              "    }\n",
              "</style>\n",
              "<table border=\"1\" class=\"dataframe\">\n",
              "  <thead>\n",
              "    <tr style=\"text-align: right;\">\n",
              "      <th></th>\n",
              "      <th>text</th>\n",
              "      <th>target</th>\n",
              "      <th>previsão</th>\n",
              "      <th>probabilidade</th>\n",
              "    </tr>\n",
              "  </thead>\n",
              "  <tbody>\n",
              "    <tr>\n",
              "      <th>5445</th>\n",
              "      <td>Episcopal priests on road trip with interracial family shares harrowing story of police harassment http://t.co/RG4JIsHyBs via @dailykos</td>\n",
              "      <td>0</td>\n",
              "      <td>1.0</td>\n",
              "      <td>0.848189</td>\n",
              "    </tr>\n",
              "    <tr>\n",
              "      <th>3806</th>\n",
              "      <td>Former Township fire truck being used in Philippines - Langley Times http://t.co/iMiLsFxntf #filipino</td>\n",
              "      <td>0</td>\n",
              "      <td>1.0</td>\n",
              "      <td>0.820840</td>\n",
              "    </tr>\n",
              "    <tr>\n",
              "      <th>2359</th>\n",
              "      <td>China detains seven Christians trying to protect their church's cross from demolition http://t.co/XuUB2HBlI5 http://t.co/h5EPx2D1ga</td>\n",
              "      <td>0</td>\n",
              "      <td>1.0</td>\n",
              "      <td>0.819010</td>\n",
              "    </tr>\n",
              "    <tr>\n",
              "      <th>5827</th>\n",
              "      <td>China's Stock Market Crash: Are There Gems In The Rubble? http://t.co/o6oNSjHCsD #tcot #p2 #news</td>\n",
              "      <td>0</td>\n",
              "      <td>1.0</td>\n",
              "      <td>0.801486</td>\n",
              "    </tr>\n",
              "    <tr>\n",
              "      <th>6827</th>\n",
              "      <td>#entertainment Hollywood movie about trapped miners released in Chile: SANTIAGO Chile (AP) ÛÓ The Hollyw... http://t.co/C22ecVl4Hw #news</td>\n",
              "      <td>0</td>\n",
              "      <td>1.0</td>\n",
              "      <td>0.789079</td>\n",
              "    </tr>\n",
              "    <tr>\n",
              "      <th>792</th>\n",
              "      <td>City program to help turn blight into greenspace: The Tennessee Housing DevelopmentÛ_ http://t.co/ZZcbBQyJ1q  #news http://t.co/KKSgHsblFH</td>\n",
              "      <td>0</td>\n",
              "      <td>1.0</td>\n",
              "      <td>0.780315</td>\n",
              "    </tr>\n",
              "    <tr>\n",
              "      <th>7266</th>\n",
              "      <td>PawSox owners public return from whirlwind trip to Durham - Knoxville News Sentinel http://t.co/9ckggGYvOU http://t.co/u0vdBrXfia</td>\n",
              "      <td>0</td>\n",
              "      <td>1.0</td>\n",
              "      <td>0.779598</td>\n",
              "    </tr>\n",
              "    <tr>\n",
              "      <th>529</th>\n",
              "      <td>the fall of leaves from a poplar is as fully ordained as the tumbling of an avalanche - Spurgeon</td>\n",
              "      <td>0</td>\n",
              "      <td>1.0</td>\n",
              "      <td>0.773780</td>\n",
              "    </tr>\n",
              "    <tr>\n",
              "      <th>4476</th>\n",
              "      <td>#hot  C-130 specially modified to land in a stadium and rescue hostages in Iran in 1980 http://t.co/zY3hpdJNwg #prebreak #best</td>\n",
              "      <td>0</td>\n",
              "      <td>1.0</td>\n",
              "      <td>0.769562</td>\n",
              "    </tr>\n",
              "    <tr>\n",
              "      <th>3821</th>\n",
              "      <td>Juneau Empire - First responders turn out for National Night Out http://t.co/94UYT4ojYK</td>\n",
              "      <td>0</td>\n",
              "      <td>1.0</td>\n",
              "      <td>0.767586</td>\n",
              "    </tr>\n",
              "    <tr>\n",
              "      <th>...</th>\n",
              "      <td>...</td>\n",
              "      <td>...</td>\n",
              "      <td>...</td>\n",
              "      <td>...</td>\n",
              "    </tr>\n",
              "    <tr>\n",
              "      <th>214</th>\n",
              "      <td>Annihilated Abs . ?? http://t.co/1xPw292tJe</td>\n",
              "      <td>1</td>\n",
              "      <td>0.0</td>\n",
              "      <td>0.107016</td>\n",
              "    </tr>\n",
              "    <tr>\n",
              "      <th>2310</th>\n",
              "      <td>Got my first gamer troll I just demolished a kid from Philly with Toronto on MLB and he was upset #BacktoBack #ChargedUp ??????</td>\n",
              "      <td>1</td>\n",
              "      <td>0.0</td>\n",
              "      <td>0.104660</td>\n",
              "    </tr>\n",
              "    <tr>\n",
              "      <th>358</th>\n",
              "      <td>One Direction Is my pick for http://t.co/q2eBlOKeVE Fan Army #Directioners http://t.co/eNCmhz6y34 x1392</td>\n",
              "      <td>1</td>\n",
              "      <td>0.0</td>\n",
              "      <td>0.104052</td>\n",
              "    </tr>\n",
              "    <tr>\n",
              "      <th>5574</th>\n",
              "      <td>'The way you move is like a full on rainstorm and I'm a house of cards'</td>\n",
              "      <td>1</td>\n",
              "      <td>0.0</td>\n",
              "      <td>0.097398</td>\n",
              "    </tr>\n",
              "    <tr>\n",
              "      <th>3663</th>\n",
              "      <td>@Truly_Stings Yo Dm me</td>\n",
              "      <td>1</td>\n",
              "      <td>0.0</td>\n",
              "      <td>0.095206</td>\n",
              "    </tr>\n",
              "    <tr>\n",
              "      <th>2010</th>\n",
              "      <td>Beach did damage to my shit</td>\n",
              "      <td>1</td>\n",
              "      <td>0.0</td>\n",
              "      <td>0.094121</td>\n",
              "    </tr>\n",
              "    <tr>\n",
              "      <th>6005</th>\n",
              "      <td>@OllyMursAus I do feel sorry for him! He is not a piece of meat! He is a nice guy... People don't need to rush him and screams in his face!</td>\n",
              "      <td>1</td>\n",
              "      <td>0.0</td>\n",
              "      <td>0.094056</td>\n",
              "    </tr>\n",
              "    <tr>\n",
              "      <th>5596</th>\n",
              "      <td>@DavidVonderhaar At least you were sincere ??</td>\n",
              "      <td>1</td>\n",
              "      <td>0.0</td>\n",
              "      <td>0.089489</td>\n",
              "    </tr>\n",
              "    <tr>\n",
              "      <th>3850</th>\n",
              "      <td>@gilderoy i wish i was good enough to add flames to my nails im on fire</td>\n",
              "      <td>1</td>\n",
              "      <td>0.0</td>\n",
              "      <td>0.086109</td>\n",
              "    </tr>\n",
              "    <tr>\n",
              "      <th>1005</th>\n",
              "      <td>'I did another one I did another one. You still ain't done shit about the other one.' Nigga body bagging Meek.</td>\n",
              "      <td>1</td>\n",
              "      <td>0.0</td>\n",
              "      <td>0.050406</td>\n",
              "    </tr>\n",
              "  </tbody>\n",
              "</table>\n",
              "<p>167 rows × 4 columns</p>\n",
              "</div>\n",
              "      <button class=\"colab-df-convert\" onclick=\"convertToInteractive('df-79f8f588-88e9-432f-a1f0-fa5d9cd27e63')\"\n",
              "              title=\"Convert this dataframe to an interactive table.\"\n",
              "              style=\"display:none;\">\n",
              "        \n",
              "  <svg xmlns=\"http://www.w3.org/2000/svg\" height=\"24px\"viewBox=\"0 0 24 24\"\n",
              "       width=\"24px\">\n",
              "    <path d=\"M0 0h24v24H0V0z\" fill=\"none\"/>\n",
              "    <path d=\"M18.56 5.44l.94 2.06.94-2.06 2.06-.94-2.06-.94-.94-2.06-.94 2.06-2.06.94zm-11 1L8.5 8.5l.94-2.06 2.06-.94-2.06-.94L8.5 2.5l-.94 2.06-2.06.94zm10 10l.94 2.06.94-2.06 2.06-.94-2.06-.94-.94-2.06-.94 2.06-2.06.94z\"/><path d=\"M17.41 7.96l-1.37-1.37c-.4-.4-.92-.59-1.43-.59-.52 0-1.04.2-1.43.59L10.3 9.45l-7.72 7.72c-.78.78-.78 2.05 0 2.83L4 21.41c.39.39.9.59 1.41.59.51 0 1.02-.2 1.41-.59l7.78-7.78 2.81-2.81c.8-.78.8-2.07 0-2.86zM5.41 20L4 18.59l7.72-7.72 1.47 1.35L5.41 20z\"/>\n",
              "  </svg>\n",
              "      </button>\n",
              "      \n",
              "  <style>\n",
              "    .colab-df-container {\n",
              "      display:flex;\n",
              "      flex-wrap:wrap;\n",
              "      gap: 12px;\n",
              "    }\n",
              "\n",
              "    .colab-df-convert {\n",
              "      background-color: #E8F0FE;\n",
              "      border: none;\n",
              "      border-radius: 50%;\n",
              "      cursor: pointer;\n",
              "      display: none;\n",
              "      fill: #1967D2;\n",
              "      height: 32px;\n",
              "      padding: 0 0 0 0;\n",
              "      width: 32px;\n",
              "    }\n",
              "\n",
              "    .colab-df-convert:hover {\n",
              "      background-color: #E2EBFA;\n",
              "      box-shadow: 0px 1px 2px rgba(60, 64, 67, 0.3), 0px 1px 3px 1px rgba(60, 64, 67, 0.15);\n",
              "      fill: #174EA6;\n",
              "    }\n",
              "\n",
              "    [theme=dark] .colab-df-convert {\n",
              "      background-color: #3B4455;\n",
              "      fill: #D2E3FC;\n",
              "    }\n",
              "\n",
              "    [theme=dark] .colab-df-convert:hover {\n",
              "      background-color: #434B5C;\n",
              "      box-shadow: 0px 1px 3px 1px rgba(0, 0, 0, 0.15);\n",
              "      filter: drop-shadow(0px 1px 2px rgba(0, 0, 0, 0.3));\n",
              "      fill: #FFFFFF;\n",
              "    }\n",
              "  </style>\n",
              "\n",
              "      <script>\n",
              "        const buttonEl =\n",
              "          document.querySelector('#df-79f8f588-88e9-432f-a1f0-fa5d9cd27e63 button.colab-df-convert');\n",
              "        buttonEl.style.display =\n",
              "          google.colab.kernel.accessAllowed ? 'block' : 'none';\n",
              "\n",
              "        async function convertToInteractive(key) {\n",
              "          const element = document.querySelector('#df-79f8f588-88e9-432f-a1f0-fa5d9cd27e63');\n",
              "          const dataTable =\n",
              "            await google.colab.kernel.invokeFunction('convertToInteractive',\n",
              "                                                     [key], {});\n",
              "          if (!dataTable) return;\n",
              "\n",
              "          const docLinkHtml = 'Like what you see? Visit the ' +\n",
              "            '<a target=\"_blank\" href=https://colab.research.google.com/notebooks/data_table.ipynb>data table notebook</a>'\n",
              "            + ' to learn more about interactive tables.';\n",
              "          element.innerHTML = '';\n",
              "          dataTable['output_type'] = 'display_data';\n",
              "          await google.colab.output.renderOutput(dataTable, element);\n",
              "          const docLink = document.createElement('div');\n",
              "          docLink.innerHTML = docLinkHtml;\n",
              "          element.appendChild(docLink);\n",
              "        }\n",
              "      </script>\n",
              "    </div>\n",
              "  </div>\n",
              "  "
            ]
          },
          "metadata": {}
        }
      ]
    },
    {
      "cell_type": "markdown",
      "source": [
        "## Prever dados de teste (Kaggle)"
      ],
      "metadata": {
        "id": "O60nc-jLvJqV"
      }
    },
    {
      "cell_type": "code",
      "source": [
        "previsao_teste = pd.DataFrame({'Texto': df_teste['text']})\n",
        "\n",
        "for indice in range(1, 8):\n",
        "    previsao_teste[f'Modelo {indice}'] = tf.squeeze(tf.round(modelos[indice].predict([previsao_teste['Texto']]) * 1000000) / 1000000)\n",
        "\n",
        "previsao_teste.sort_values(\"Modelo 1\", ascending=False)"
      ],
      "metadata": {
        "colab": {
          "base_uri": "https://localhost:8080/",
          "height": 1000
        },
        "id": "g4J4BOV33pWK",
        "outputId": "ca182181-dfd7-4887-b076-3b29a944d34c"
      },
      "execution_count": 62,
      "outputs": [
        {
          "output_type": "stream",
          "name": "stdout",
          "text": [
            "102/102 [==============================] - 0s 2ms/step\n",
            "102/102 [==============================] - 1s 3ms/step\n",
            "102/102 [==============================] - 1s 3ms/step\n",
            "102/102 [==============================] - 1s 3ms/step\n",
            "102/102 [==============================] - 0s 2ms/step\n",
            "102/102 [==============================] - 1s 9ms/step\n",
            "102/102 [==============================] - 1s 9ms/step\n"
          ]
        },
        {
          "output_type": "execute_result",
          "data": {
            "text/plain": [
              "                                                                                                                                                 Texto  \\\n",
              "859   SEVERE WEATHER BULLETIN No. 6\\nFOR: TYPHOON ÛÏ#HannaPHÛ (SOUDELOR)\\nTROPICAL CYCLONE: WARNING\\n\\nISSUED AT 11:00 PM... http://t.co/fKoJd0YqK0   \n",
              "867     RT  SEVERE WEATHER BULLETIN No. 6\\nFOR: TYPHOON ÛÏÛ (SOUDELOR)\\nTROPICAL CYCLONE: WARNING\\n\\nISSUED AT 11:00 PM...  https://t.co/BYy4dHrqyH   \n",
              "1066          Madhya Pradesh Train Derailment: Village Youth Saved Many Lives: A group of villagers saved over 70 passengers' lives after two train...   \n",
              "1072          Madhya Pradesh Train Derailment: Village Youth Saved Many Lives: A group of villagers saved over 70 passengers' lives after two train...   \n",
              "471           Hiroshima marks 70 years since bomb: The Japanese city of Hiroshima marks the 70th anniversary of the dropping... http://t.co/INRGS4z0AC   \n",
              "508           Japan marks 70th anniversary of Hiroshima atomic bombing: Bells tolled in Hiroshima on Thursday as Japan marke... http://t.co/IqAIRPdIhg   \n",
              "1281          Hundreds feared drowned as migrant boat capsizes off Libya: Hundreds of migrants are feared to have drowned af... http://t.co/Cbhe0eXIRA   \n",
              "1279          Hundreds feared drowned as migrant boat capsizes off Libya: Hundreds of migrants are feared to have drowned af... http://t.co/bF3OhacB1r   \n",
              "1288          #dw_english Hundreds feared drowned as migrant boat capsizes off Libya: Hundreds of migrants are feared to hav... http://t.co/i9HW0qZoVy   \n",
              "483                &lt;Kyodonews&gt; UPDATE1: Hiroshima marks 70th A-bomb anniv. amid fears of eroded pacifism http://t.co/VpGu8z1Lhb #followme #japan   \n",
              "...                                                                                                                                                ...   \n",
              "2455          Stuart Broad Takes Eight Before Joe Root Runs Riot Against Aussies: Stuart Broad took career-best figures of 8... http://t.co/2UmwMG7lvN   \n",
              "845                                                                     WHEN YOUR PARENTS TRY TO PUT A CURFEW ON YOU AND YOU'RE ALMOST 19 ????????????   \n",
              "1312              New Mad Max Screenshots Show Off a Lovely Dust Storm Combat Magnum Opus: New Mad Max screenshots have beenÛ_ http://t.co/l8dh8KLRKR   \n",
              "1143          Crackdown 3 Destruction Restricted to Multiplayer: Crackdown 3 impressed earlier this week with a demonstratio... http://t.co/ma9LLiKcjk   \n",
              "49          320 [IR] ICEMOON [AFTERSHOCK] | http://t.co/gRPeF7yAWG | @djicemoon | #Dubstep #TrapMusic #DnB #EDM #Dance #IcesÛ_ http://t.co/GGmvzT58vE   \n",
              "3247                  RT CNBC '3 words from Disney CEO Bob Iger wrecked Disney's stock says Jim Cramer: http://t.co/f0texKsqhL http://t.co/ilySLaTMgI'   \n",
              "53          320 [IR] ICEMOON [AFTERSHOCK] | http://t.co/THyzOMVWU0 | @djicemoon | #Dubstep #TrapMusic #DnB #EDM #Dance #IcesÛ_ http://t.co/83jOO0xk29   \n",
              "47          320 [IR] ICEMOON [AFTERSHOCK] | http://t.co/THyzOMVWU0 | @djicemoon | #Dubstep #TrapMusic #DnB #EDM #Dance #IcesÛ_ http://t.co/83jOO0xk29   \n",
              "2207                            I'd love to see a nigga try and diss the King haha he would OBLITERATE THEM. With no struggle! https://t.co/cwn2gT0r5p   \n",
              "430              Louis Vuitton Monogram Sophie Limited Edition Clutch Cross body Bag - Full read by eBay http://t.co/YC2FYXiKBA http://t.co/Pv8wRAvNZQ   \n",
              "\n",
              "      Modelo 1  Modelo 2  Modelo 3  Modelo 4  Modelo 5  Modelo 6  Modelo 7  \n",
              "859   0.999999  0.999862  0.999980  0.999980       1.0  0.979185  0.901983  \n",
              "867   0.999996  0.999911  0.999952  0.999988       1.0  0.959833  0.887818  \n",
              "1066  0.999993  0.999904  0.999959  0.999987       1.0  0.958276  0.864111  \n",
              "1072  0.999993  0.999904  0.999959  0.999987       1.0  0.958276  0.864111  \n",
              "471   0.999992  0.999888  0.999993  0.999986       1.0  0.988250  0.876979  \n",
              "508   0.999987  0.999702  0.999667  0.999967       1.0  0.987231  0.884289  \n",
              "1281  0.999971  0.999846  0.999909  0.999980       1.0  0.993684  0.844463  \n",
              "1279  0.999971  0.999846  0.999909  0.999980       1.0  0.992200  0.837458  \n",
              "1288  0.999970  0.999811  0.999986  0.999987       1.0  0.985718  0.787977  \n",
              "483   0.999969  0.999845  0.999983  0.999988       1.0  0.993818  0.910782  \n",
              "...        ...       ...       ...       ...       ...       ...       ...  \n",
              "2455  0.000127  0.000141  0.000067  0.000035       0.0  0.161961  0.495688  \n",
              "845   0.000101  0.000126  0.000056  0.000080       0.0  0.082073  0.203865  \n",
              "1312  0.000074  0.000098  0.000021  0.000027       0.0  0.191002  0.342457  \n",
              "1143  0.000043  0.000103  0.000049  0.000024       0.0  0.134263  0.289128  \n",
              "49    0.000023  0.000155  0.000054  0.000040       0.0  0.114343  0.348576  \n",
              "3247  0.000022  0.000100  0.000021  0.000046       0.0  0.115860  0.291650  \n",
              "53    0.000011  0.000150  0.000047  0.000040       0.0  0.146500  0.308396  \n",
              "47    0.000011  0.000150  0.000047  0.000040       0.0  0.146500  0.308396  \n",
              "2207  0.000010  0.000156  0.000036  0.000036       0.0  0.073617  0.072285  \n",
              "430   0.000004  0.000086  0.000039  0.000022       0.0  0.043804  0.185591  \n",
              "\n",
              "[3263 rows x 8 columns]"
            ],
            "text/html": [
              "\n",
              "  <div id=\"df-04954a11-9d68-46e2-8481-1b2d94054c59\">\n",
              "    <div class=\"colab-df-container\">\n",
              "      <div>\n",
              "<style scoped>\n",
              "    .dataframe tbody tr th:only-of-type {\n",
              "        vertical-align: middle;\n",
              "    }\n",
              "\n",
              "    .dataframe tbody tr th {\n",
              "        vertical-align: top;\n",
              "    }\n",
              "\n",
              "    .dataframe thead th {\n",
              "        text-align: right;\n",
              "    }\n",
              "</style>\n",
              "<table border=\"1\" class=\"dataframe\">\n",
              "  <thead>\n",
              "    <tr style=\"text-align: right;\">\n",
              "      <th></th>\n",
              "      <th>Texto</th>\n",
              "      <th>Modelo 1</th>\n",
              "      <th>Modelo 2</th>\n",
              "      <th>Modelo 3</th>\n",
              "      <th>Modelo 4</th>\n",
              "      <th>Modelo 5</th>\n",
              "      <th>Modelo 6</th>\n",
              "      <th>Modelo 7</th>\n",
              "    </tr>\n",
              "  </thead>\n",
              "  <tbody>\n",
              "    <tr>\n",
              "      <th>859</th>\n",
              "      <td>SEVERE WEATHER BULLETIN No. 6\\nFOR: TYPHOON ÛÏ#HannaPHÛ (SOUDELOR)\\nTROPICAL CYCLONE: WARNING\\n\\nISSUED AT 11:00 PM... http://t.co/fKoJd0YqK0</td>\n",
              "      <td>0.999999</td>\n",
              "      <td>0.999862</td>\n",
              "      <td>0.999980</td>\n",
              "      <td>0.999980</td>\n",
              "      <td>1.0</td>\n",
              "      <td>0.979185</td>\n",
              "      <td>0.901983</td>\n",
              "    </tr>\n",
              "    <tr>\n",
              "      <th>867</th>\n",
              "      <td>RT  SEVERE WEATHER BULLETIN No. 6\\nFOR: TYPHOON ÛÏÛ (SOUDELOR)\\nTROPICAL CYCLONE: WARNING\\n\\nISSUED AT 11:00 PM...  https://t.co/BYy4dHrqyH</td>\n",
              "      <td>0.999996</td>\n",
              "      <td>0.999911</td>\n",
              "      <td>0.999952</td>\n",
              "      <td>0.999988</td>\n",
              "      <td>1.0</td>\n",
              "      <td>0.959833</td>\n",
              "      <td>0.887818</td>\n",
              "    </tr>\n",
              "    <tr>\n",
              "      <th>1066</th>\n",
              "      <td>Madhya Pradesh Train Derailment: Village Youth Saved Many Lives: A group of villagers saved over 70 passengers' lives after two train...</td>\n",
              "      <td>0.999993</td>\n",
              "      <td>0.999904</td>\n",
              "      <td>0.999959</td>\n",
              "      <td>0.999987</td>\n",
              "      <td>1.0</td>\n",
              "      <td>0.958276</td>\n",
              "      <td>0.864111</td>\n",
              "    </tr>\n",
              "    <tr>\n",
              "      <th>1072</th>\n",
              "      <td>Madhya Pradesh Train Derailment: Village Youth Saved Many Lives: A group of villagers saved over 70 passengers' lives after two train...</td>\n",
              "      <td>0.999993</td>\n",
              "      <td>0.999904</td>\n",
              "      <td>0.999959</td>\n",
              "      <td>0.999987</td>\n",
              "      <td>1.0</td>\n",
              "      <td>0.958276</td>\n",
              "      <td>0.864111</td>\n",
              "    </tr>\n",
              "    <tr>\n",
              "      <th>471</th>\n",
              "      <td>Hiroshima marks 70 years since bomb: The Japanese city of Hiroshima marks the 70th anniversary of the dropping... http://t.co/INRGS4z0AC</td>\n",
              "      <td>0.999992</td>\n",
              "      <td>0.999888</td>\n",
              "      <td>0.999993</td>\n",
              "      <td>0.999986</td>\n",
              "      <td>1.0</td>\n",
              "      <td>0.988250</td>\n",
              "      <td>0.876979</td>\n",
              "    </tr>\n",
              "    <tr>\n",
              "      <th>508</th>\n",
              "      <td>Japan marks 70th anniversary of Hiroshima atomic bombing: Bells tolled in Hiroshima on Thursday as Japan marke... http://t.co/IqAIRPdIhg</td>\n",
              "      <td>0.999987</td>\n",
              "      <td>0.999702</td>\n",
              "      <td>0.999667</td>\n",
              "      <td>0.999967</td>\n",
              "      <td>1.0</td>\n",
              "      <td>0.987231</td>\n",
              "      <td>0.884289</td>\n",
              "    </tr>\n",
              "    <tr>\n",
              "      <th>1281</th>\n",
              "      <td>Hundreds feared drowned as migrant boat capsizes off Libya: Hundreds of migrants are feared to have drowned af... http://t.co/Cbhe0eXIRA</td>\n",
              "      <td>0.999971</td>\n",
              "      <td>0.999846</td>\n",
              "      <td>0.999909</td>\n",
              "      <td>0.999980</td>\n",
              "      <td>1.0</td>\n",
              "      <td>0.993684</td>\n",
              "      <td>0.844463</td>\n",
              "    </tr>\n",
              "    <tr>\n",
              "      <th>1279</th>\n",
              "      <td>Hundreds feared drowned as migrant boat capsizes off Libya: Hundreds of migrants are feared to have drowned af... http://t.co/bF3OhacB1r</td>\n",
              "      <td>0.999971</td>\n",
              "      <td>0.999846</td>\n",
              "      <td>0.999909</td>\n",
              "      <td>0.999980</td>\n",
              "      <td>1.0</td>\n",
              "      <td>0.992200</td>\n",
              "      <td>0.837458</td>\n",
              "    </tr>\n",
              "    <tr>\n",
              "      <th>1288</th>\n",
              "      <td>#dw_english Hundreds feared drowned as migrant boat capsizes off Libya: Hundreds of migrants are feared to hav... http://t.co/i9HW0qZoVy</td>\n",
              "      <td>0.999970</td>\n",
              "      <td>0.999811</td>\n",
              "      <td>0.999986</td>\n",
              "      <td>0.999987</td>\n",
              "      <td>1.0</td>\n",
              "      <td>0.985718</td>\n",
              "      <td>0.787977</td>\n",
              "    </tr>\n",
              "    <tr>\n",
              "      <th>483</th>\n",
              "      <td>&amp;lt;Kyodonews&amp;gt; UPDATE1: Hiroshima marks 70th A-bomb anniv. amid fears of eroded pacifism http://t.co/VpGu8z1Lhb #followme #japan</td>\n",
              "      <td>0.999969</td>\n",
              "      <td>0.999845</td>\n",
              "      <td>0.999983</td>\n",
              "      <td>0.999988</td>\n",
              "      <td>1.0</td>\n",
              "      <td>0.993818</td>\n",
              "      <td>0.910782</td>\n",
              "    </tr>\n",
              "    <tr>\n",
              "      <th>...</th>\n",
              "      <td>...</td>\n",
              "      <td>...</td>\n",
              "      <td>...</td>\n",
              "      <td>...</td>\n",
              "      <td>...</td>\n",
              "      <td>...</td>\n",
              "      <td>...</td>\n",
              "      <td>...</td>\n",
              "    </tr>\n",
              "    <tr>\n",
              "      <th>2455</th>\n",
              "      <td>Stuart Broad Takes Eight Before Joe Root Runs Riot Against Aussies: Stuart Broad took career-best figures of 8... http://t.co/2UmwMG7lvN</td>\n",
              "      <td>0.000127</td>\n",
              "      <td>0.000141</td>\n",
              "      <td>0.000067</td>\n",
              "      <td>0.000035</td>\n",
              "      <td>0.0</td>\n",
              "      <td>0.161961</td>\n",
              "      <td>0.495688</td>\n",
              "    </tr>\n",
              "    <tr>\n",
              "      <th>845</th>\n",
              "      <td>WHEN YOUR PARENTS TRY TO PUT A CURFEW ON YOU AND YOU'RE ALMOST 19 ????????????</td>\n",
              "      <td>0.000101</td>\n",
              "      <td>0.000126</td>\n",
              "      <td>0.000056</td>\n",
              "      <td>0.000080</td>\n",
              "      <td>0.0</td>\n",
              "      <td>0.082073</td>\n",
              "      <td>0.203865</td>\n",
              "    </tr>\n",
              "    <tr>\n",
              "      <th>1312</th>\n",
              "      <td>New Mad Max Screenshots Show Off a Lovely Dust Storm Combat Magnum Opus: New Mad Max screenshots have beenÛ_ http://t.co/l8dh8KLRKR</td>\n",
              "      <td>0.000074</td>\n",
              "      <td>0.000098</td>\n",
              "      <td>0.000021</td>\n",
              "      <td>0.000027</td>\n",
              "      <td>0.0</td>\n",
              "      <td>0.191002</td>\n",
              "      <td>0.342457</td>\n",
              "    </tr>\n",
              "    <tr>\n",
              "      <th>1143</th>\n",
              "      <td>Crackdown 3 Destruction Restricted to Multiplayer: Crackdown 3 impressed earlier this week with a demonstratio... http://t.co/ma9LLiKcjk</td>\n",
              "      <td>0.000043</td>\n",
              "      <td>0.000103</td>\n",
              "      <td>0.000049</td>\n",
              "      <td>0.000024</td>\n",
              "      <td>0.0</td>\n",
              "      <td>0.134263</td>\n",
              "      <td>0.289128</td>\n",
              "    </tr>\n",
              "    <tr>\n",
              "      <th>49</th>\n",
              "      <td>320 [IR] ICEMOON [AFTERSHOCK] | http://t.co/gRPeF7yAWG | @djicemoon | #Dubstep #TrapMusic #DnB #EDM #Dance #IcesÛ_ http://t.co/GGmvzT58vE</td>\n",
              "      <td>0.000023</td>\n",
              "      <td>0.000155</td>\n",
              "      <td>0.000054</td>\n",
              "      <td>0.000040</td>\n",
              "      <td>0.0</td>\n",
              "      <td>0.114343</td>\n",
              "      <td>0.348576</td>\n",
              "    </tr>\n",
              "    <tr>\n",
              "      <th>3247</th>\n",
              "      <td>RT CNBC '3 words from Disney CEO Bob Iger wrecked Disney's stock says Jim Cramer: http://t.co/f0texKsqhL http://t.co/ilySLaTMgI'</td>\n",
              "      <td>0.000022</td>\n",
              "      <td>0.000100</td>\n",
              "      <td>0.000021</td>\n",
              "      <td>0.000046</td>\n",
              "      <td>0.0</td>\n",
              "      <td>0.115860</td>\n",
              "      <td>0.291650</td>\n",
              "    </tr>\n",
              "    <tr>\n",
              "      <th>53</th>\n",
              "      <td>320 [IR] ICEMOON [AFTERSHOCK] | http://t.co/THyzOMVWU0 | @djicemoon | #Dubstep #TrapMusic #DnB #EDM #Dance #IcesÛ_ http://t.co/83jOO0xk29</td>\n",
              "      <td>0.000011</td>\n",
              "      <td>0.000150</td>\n",
              "      <td>0.000047</td>\n",
              "      <td>0.000040</td>\n",
              "      <td>0.0</td>\n",
              "      <td>0.146500</td>\n",
              "      <td>0.308396</td>\n",
              "    </tr>\n",
              "    <tr>\n",
              "      <th>47</th>\n",
              "      <td>320 [IR] ICEMOON [AFTERSHOCK] | http://t.co/THyzOMVWU0 | @djicemoon | #Dubstep #TrapMusic #DnB #EDM #Dance #IcesÛ_ http://t.co/83jOO0xk29</td>\n",
              "      <td>0.000011</td>\n",
              "      <td>0.000150</td>\n",
              "      <td>0.000047</td>\n",
              "      <td>0.000040</td>\n",
              "      <td>0.0</td>\n",
              "      <td>0.146500</td>\n",
              "      <td>0.308396</td>\n",
              "    </tr>\n",
              "    <tr>\n",
              "      <th>2207</th>\n",
              "      <td>I'd love to see a nigga try and diss the King haha he would OBLITERATE THEM. With no struggle! https://t.co/cwn2gT0r5p</td>\n",
              "      <td>0.000010</td>\n",
              "      <td>0.000156</td>\n",
              "      <td>0.000036</td>\n",
              "      <td>0.000036</td>\n",
              "      <td>0.0</td>\n",
              "      <td>0.073617</td>\n",
              "      <td>0.072285</td>\n",
              "    </tr>\n",
              "    <tr>\n",
              "      <th>430</th>\n",
              "      <td>Louis Vuitton Monogram Sophie Limited Edition Clutch Cross body Bag - Full read by eBay http://t.co/YC2FYXiKBA http://t.co/Pv8wRAvNZQ</td>\n",
              "      <td>0.000004</td>\n",
              "      <td>0.000086</td>\n",
              "      <td>0.000039</td>\n",
              "      <td>0.000022</td>\n",
              "      <td>0.0</td>\n",
              "      <td>0.043804</td>\n",
              "      <td>0.185591</td>\n",
              "    </tr>\n",
              "  </tbody>\n",
              "</table>\n",
              "<p>3263 rows × 8 columns</p>\n",
              "</div>\n",
              "      <button class=\"colab-df-convert\" onclick=\"convertToInteractive('df-04954a11-9d68-46e2-8481-1b2d94054c59')\"\n",
              "              title=\"Convert this dataframe to an interactive table.\"\n",
              "              style=\"display:none;\">\n",
              "        \n",
              "  <svg xmlns=\"http://www.w3.org/2000/svg\" height=\"24px\"viewBox=\"0 0 24 24\"\n",
              "       width=\"24px\">\n",
              "    <path d=\"M0 0h24v24H0V0z\" fill=\"none\"/>\n",
              "    <path d=\"M18.56 5.44l.94 2.06.94-2.06 2.06-.94-2.06-.94-.94-2.06-.94 2.06-2.06.94zm-11 1L8.5 8.5l.94-2.06 2.06-.94-2.06-.94L8.5 2.5l-.94 2.06-2.06.94zm10 10l.94 2.06.94-2.06 2.06-.94-2.06-.94-.94-2.06-.94 2.06-2.06.94z\"/><path d=\"M17.41 7.96l-1.37-1.37c-.4-.4-.92-.59-1.43-.59-.52 0-1.04.2-1.43.59L10.3 9.45l-7.72 7.72c-.78.78-.78 2.05 0 2.83L4 21.41c.39.39.9.59 1.41.59.51 0 1.02-.2 1.41-.59l7.78-7.78 2.81-2.81c.8-.78.8-2.07 0-2.86zM5.41 20L4 18.59l7.72-7.72 1.47 1.35L5.41 20z\"/>\n",
              "  </svg>\n",
              "      </button>\n",
              "      \n",
              "  <style>\n",
              "    .colab-df-container {\n",
              "      display:flex;\n",
              "      flex-wrap:wrap;\n",
              "      gap: 12px;\n",
              "    }\n",
              "\n",
              "    .colab-df-convert {\n",
              "      background-color: #E8F0FE;\n",
              "      border: none;\n",
              "      border-radius: 50%;\n",
              "      cursor: pointer;\n",
              "      display: none;\n",
              "      fill: #1967D2;\n",
              "      height: 32px;\n",
              "      padding: 0 0 0 0;\n",
              "      width: 32px;\n",
              "    }\n",
              "\n",
              "    .colab-df-convert:hover {\n",
              "      background-color: #E2EBFA;\n",
              "      box-shadow: 0px 1px 2px rgba(60, 64, 67, 0.3), 0px 1px 3px 1px rgba(60, 64, 67, 0.15);\n",
              "      fill: #174EA6;\n",
              "    }\n",
              "\n",
              "    [theme=dark] .colab-df-convert {\n",
              "      background-color: #3B4455;\n",
              "      fill: #D2E3FC;\n",
              "    }\n",
              "\n",
              "    [theme=dark] .colab-df-convert:hover {\n",
              "      background-color: #434B5C;\n",
              "      box-shadow: 0px 1px 3px 1px rgba(0, 0, 0, 0.15);\n",
              "      filter: drop-shadow(0px 1px 2px rgba(0, 0, 0, 0.3));\n",
              "      fill: #FFFFFF;\n",
              "    }\n",
              "  </style>\n",
              "\n",
              "      <script>\n",
              "        const buttonEl =\n",
              "          document.querySelector('#df-04954a11-9d68-46e2-8481-1b2d94054c59 button.colab-df-convert');\n",
              "        buttonEl.style.display =\n",
              "          google.colab.kernel.accessAllowed ? 'block' : 'none';\n",
              "\n",
              "        async function convertToInteractive(key) {\n",
              "          const element = document.querySelector('#df-04954a11-9d68-46e2-8481-1b2d94054c59');\n",
              "          const dataTable =\n",
              "            await google.colab.kernel.invokeFunction('convertToInteractive',\n",
              "                                                     [key], {});\n",
              "          if (!dataTable) return;\n",
              "\n",
              "          const docLinkHtml = 'Like what you see? Visit the ' +\n",
              "            '<a target=\"_blank\" href=https://colab.research.google.com/notebooks/data_table.ipynb>data table notebook</a>'\n",
              "            + ' to learn more about interactive tables.';\n",
              "          element.innerHTML = '';\n",
              "          dataTable['output_type'] = 'display_data';\n",
              "          await google.colab.output.renderOutput(dataTable, element);\n",
              "          const docLink = document.createElement('div');\n",
              "          docLink.innerHTML = docLinkHtml;\n",
              "          element.appendChild(docLink);\n",
              "        }\n",
              "      </script>\n",
              "    </div>\n",
              "  </div>\n",
              "  "
            ]
          },
          "metadata": {},
          "execution_count": 62
        }
      ]
    },
    {
      "cell_type": "markdown",
      "source": [
        "## Troca velocidade/pontuação"
      ],
      "metadata": {
        "id": "8oNhRccM3v1K"
      }
    },
    {
      "cell_type": "code",
      "source": [
        "def cronometro(modelo):\n",
        "    inicio = time.perf_counter()\n",
        "    modelo.predict(X_test)\n",
        "    fim = time.perf_counter()\n",
        "\n",
        "    return fim - inicio"
      ],
      "metadata": {
        "id": "wRV6XfM0_huh"
      },
      "execution_count": 63,
      "outputs": []
    },
    {
      "cell_type": "code",
      "source": [
        "colunas = ('Modelo', 'Acurácia', 'Tempo total de previsão')\n",
        "troca = pd.DataFrame(columns=colunas)\n",
        "\n",
        "for indice, modelo in enumerate(modelos):\n",
        "    troca = pd.concat([troca, pd.DataFrame([[f'Modelo {indice}', relatorios[indice]['acuracia'], cronometro(modelo)]], columns=colunas)])\n"
      ],
      "metadata": {
        "colab": {
          "base_uri": "https://localhost:8080/"
        },
        "id": "mr4JDgu2D5J8",
        "outputId": "131cef77-3b10-4c0e-ba98-276c97eca81f"
      },
      "execution_count": 64,
      "outputs": [
        {
          "output_type": "stream",
          "name": "stdout",
          "text": [
            "24/24 [==============================] - 0s 2ms/step\n",
            "24/24 [==============================] - 0s 3ms/step\n",
            "24/24 [==============================] - 0s 3ms/step\n",
            "24/24 [==============================] - 0s 3ms/step\n",
            "24/24 [==============================] - 0s 2ms/step\n",
            "24/24 [==============================] - 0s 10ms/step\n",
            "24/24 [==============================] - 0s 10ms/step\n"
          ]
        }
      ]
    },
    {
      "cell_type": "code",
      "source": [
        "sns.scatterplot(data=troca, x='Tempo total de previsão', y='Acurácia', hue='Modelo')\n",
        "\n",
        "plt.legend(loc='lower left', frameon=True, facecolor='white');"
      ],
      "metadata": {
        "colab": {
          "base_uri": "https://localhost:8080/",
          "height": 453
        },
        "id": "KFlzIxDSBJEZ",
        "outputId": "8ce5090a-9585-40fd-a13f-f99f21b67dec"
      },
      "execution_count": 65,
      "outputs": [
        {
          "output_type": "display_data",
          "data": {
            "text/plain": [
              "<Figure size 800x500 with 1 Axes>"
            ],
            "image/png": "[encoded data removed]"
          },
          "metadata": {}
        }
      ]
    },
    {
      "cell_type": "code",
      "source": [],
      "metadata": {
        "id": "Cezmlx6WCZEQ"
      },
      "execution_count": 65,
      "outputs": []
    }
  ]
}