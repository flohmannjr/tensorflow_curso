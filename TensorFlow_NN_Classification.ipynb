{
  "nbformat": 4,
  "nbformat_minor": 0,
  "metadata": {
    "colab": {
      "provenance": [],
      "toc_visible": true,
      "collapsed_sections": [
        "PPnSvCWOEVZ6",
        "NQvtAqYol8gk",
        "rxs6MAOCmLei",
        "56uc2fJ4bBRo",
        "pkj0AZUNvJCG",
        "PkxSEyL6EKG-",
        "OL37kylkwdh2",
        "6USJYoemedtf",
        "se1NGF_DEjfb",
        "GS2Gkiycuded",
        "pItroyMHsOCO",
        "X3AKF8txr5YJ",
        "ExuaKb9OJ009",
        "V0YWr3TTF4wn"
      ],
      "authorship_tag": "ABX9TyNqWRenkpM+101qimBcgoDk",
      "include_colab_link": true
    },
    "kernelspec": {
      "name": "python3",
      "display_name": "Python 3"
    },
    "language_info": {
      "name": "python"
    },
    "accelerator": "GPU",
    "gpuClass": "standard"
  },
  "cells": [
    {
      "cell_type": "markdown",
      "metadata": {
        "id": "view-in-github",
        "colab_type": "text"
      },
      "source": [
        "<a href=\"https://colab.research.google.com/github/flohmannjr/tensorflow_curso/blob/main/TensorFlow_NN_Classification.ipynb\" target=\"_parent\"><img src=\"https://colab.research.google.com/assets/colab-badge.svg\" alt=\"Open In Colab\"/></a>"
      ]
    },
    {
      "cell_type": "markdown",
      "source": [
        "# TensorFlow Neural Network Classification"
      ],
      "metadata": {
        "id": "Z5snveoLahBF"
      }
    },
    {
      "cell_type": "markdown",
      "source": [
        "## Importar biblioteca"
      ],
      "metadata": {
        "id": "BDaGpW8narwP"
      }
    },
    {
      "cell_type": "code",
      "source": [
        "import tensorflow as tf\n",
        "\n",
        "import numpy as np\n",
        "import pandas as pd\n",
        "\n",
        "import matplotlib.pyplot as plt\n",
        "import seaborn as sns"
      ],
      "metadata": {
        "id": "7mlGJ4-Oazgn"
      },
      "execution_count": null,
      "outputs": []
    },
    {
      "cell_type": "markdown",
      "source": [
        "## Setup"
      ],
      "metadata": {
        "id": "R7wzDVX5a1Va"
      }
    },
    {
      "cell_type": "code",
      "source": [
        "# Ajustes MatPlotLib\n",
        "plt.rcParams['figure.figsize'] = [8, 5]\n",
        "plt.rcParams['figure.dpi'] = 100\n",
        "plt.style.use('seaborn-darkgrid')\n",
        "\n",
        "# Determinando um seed\n",
        "seed = 2008193"
      ],
      "metadata": {
        "id": "iuVrpeQCa4gP"
      },
      "execution_count": null,
      "outputs": []
    },
    {
      "cell_type": "markdown",
      "source": [
        "### Função plot_decision_boundary"
      ],
      "metadata": {
        "id": "PPnSvCWOEVZ6"
      }
    },
    {
      "cell_type": "code",
      "source": [
        "def plot_decision_boundary(model, X, y, cmap):\n",
        "    \"\"\"\n",
        "    Plots the decision boundary created by a model predicting on X.\n",
        "    This function has been adapted from two phenomenal resources:\n",
        "    1. CS231n - https://cs231n.github.io/neural-networks-case-study/\n",
        "    2. Made with ML basics - https://github.com/GokuMohandas/MadeWithML/blob/main/notebooks/08_Neural_Networks.ipynb\n",
        "    \"\"\"\n",
        "\n",
        "    # Define the axis boundaries of the plot\n",
        "    x_min, x_max = X[:, 0].min() - 0.1, X[:, 0].max() + 0.1\n",
        "    y_min, y_max = X[:, 1].min() - 0.1, X[:, 1].max() + 0.1\n",
        "\n",
        "    # Create a meshgrid\n",
        "    xx, yy = np.meshgrid(np.linspace(x_min, x_max, 100),\n",
        "                         np.linspace(y_min, y_max, 100))\n",
        "\n",
        "    # Create X values (we're going to predict on all of these)\n",
        "    # stack 2D arrays together: https://numpy.org/devdocs/reference/generated/numpy.c_.html\n",
        "    x_in = np.c_[xx.ravel(), yy.ravel()]\n",
        "\n",
        "    # Make predictions using the trained model\n",
        "    y_pred = model.predict(x_in, verbose=0)\n",
        "\n",
        "    # Check for multi-class\n",
        "    # Checks the final dimension of the model's output shape, if this is > (greater than) 1, it's multi-class \n",
        "    if model.output_shape[-1] > 1:\n",
        "        # Multiclass classification\n",
        "        # We have to reshape our predictions to get them ready for plotting\n",
        "        y_pred = np.argmax(y_pred, axis=1).reshape(xx.shape)\n",
        "    else:\n",
        "        # Binary classifcation\n",
        "        y_pred = np.round(np.max(y_pred, axis=1)).reshape(xx.shape)\n",
        "\n",
        "    # Plots\n",
        "    plt.contourf(xx, yy, y_pred, cmap=cmap, alpha=0.6)\n",
        "    # plt.scatter(X[:, 0], X[:, 1], c=y, s=40, cmap=cmap)\n",
        "    sns.scatterplot(x=X[:, 0], y=X[:, 1], hue=y, cmap=cmap)\n",
        "\n",
        "    # Plot decision boundary\n",
        "    plt.xlim(xx.min(), xx.max())\n",
        "    plt.ylim(yy.min(), yy.max())\n",
        "\n",
        "    # No legend\n",
        "    plt.legend('')"
      ],
      "metadata": {
        "id": "RmyJpCOJEXXw"
      },
      "execution_count": null,
      "outputs": []
    },
    {
      "cell_type": "markdown",
      "source": [
        "### Função get_color_gradient\n",
        "\n",
        "https://medium.com/@BrendanArtley/matplotlib-color-gradients-21374910584b"
      ],
      "metadata": {
        "id": "NQvtAqYol8gk"
      }
    },
    {
      "cell_type": "code",
      "source": [
        "def hex_to_RGB(hex_str):\n",
        "    \"\"\" #FFFFFF -> [255,255,255]\"\"\"\n",
        "    #Pass 16 to the integer function for change of base\n",
        "    return [int(hex_str[i:i+2], 16) for i in range(1,6,2)]\n",
        "\n",
        "def get_color_gradient(c1, c2, n=32):\n",
        "    \"\"\"\n",
        "    Given two hex colors, returns a color gradient\n",
        "    with n colors.\n",
        "    \"\"\"\n",
        "    c1_rgb = np.array(hex_to_RGB(c1))/255\n",
        "    c2_rgb = np.array(hex_to_RGB(c2))/255\n",
        "    mix_pcts = [x/(n-1) for x in range(n)]\n",
        "    rgb_colors = [((1-mix)*c1_rgb + (mix*c2_rgb)) for mix in mix_pcts]\n",
        "    return [\"#\" + \"\".join([format(int(round(val*255)), \"02x\") for val in item]) for item in rgb_colors]"
      ],
      "metadata": {
        "id": "kRqA26mhl_4i"
      },
      "execution_count": null,
      "outputs": []
    },
    {
      "cell_type": "markdown",
      "source": [
        "### Cores"
      ],
      "metadata": {
        "id": "rxs6MAOCmLei"
      }
    },
    {
      "cell_type": "code",
      "source": [
        "from matplotlib.colors import ListedColormap\n",
        "\n",
        "cor_inicial = '#4c72b0'\n",
        "cor_final = '#dd8452'\n",
        "\n",
        "limites = ListedColormap([cor_inicial, cor_final])\n",
        "gradiente = ListedColormap(get_color_gradient(cor_inicial, cor_final, 10))"
      ],
      "metadata": {
        "id": "ChRetmw0vfRu"
      },
      "execution_count": null,
      "outputs": []
    },
    {
      "cell_type": "markdown",
      "source": [
        "## Dados para testes iniciais"
      ],
      "metadata": {
        "id": "56uc2fJ4bBRo"
      }
    },
    {
      "cell_type": "code",
      "source": [
        "# from sklearn.datasets import make_circles\n",
        "\n",
        "# # Quantidade de amostras\n",
        "# n_amostras = 1000\n",
        "\n",
        "# # Criar círculos\n",
        "# X, y = make_circles(n_samples=n_amostras,\n",
        "#                     noise=0.03,\n",
        "#                     random_state=seed)"
      ],
      "metadata": {
        "id": "W0iU9NdjbDeP"
      },
      "execution_count": null,
      "outputs": []
    },
    {
      "cell_type": "code",
      "source": [
        "# circulos = pd.DataFrame({'cx': X[:, 0],\n",
        "#                          'cy': X[:, 1],\n",
        "#                          'rotulo': y})\n",
        "\n",
        "# circulos.head()"
      ],
      "metadata": {
        "id": "SUxnINpuuBR-"
      },
      "execution_count": null,
      "outputs": []
    },
    {
      "cell_type": "markdown",
      "source": [
        "### Visualizando os dados"
      ],
      "metadata": {
        "id": "pkj0AZUNvJCG"
      }
    },
    {
      "cell_type": "code",
      "source": [
        "# sns.scatterplot(data=circulos, x='cx', y='cy', hue='rotulo')\n",
        "\n",
        "# plt.xlabel('')\n",
        "# plt.ylabel('')\n",
        "\n",
        "# plt.legend('');"
      ],
      "metadata": {
        "id": "HNfd3tdJwTo2"
      },
      "execution_count": null,
      "outputs": []
    },
    {
      "cell_type": "markdown",
      "source": [
        "### Separando dados"
      ],
      "metadata": {
        "id": "PkxSEyL6EKG-"
      }
    },
    {
      "cell_type": "code",
      "source": [
        "# from sklearn.model_selection import train_test_split\n",
        "\n",
        "# X_train, X_test, y_train, y_test = train_test_split(X, y, test_size=0.2, random_state=seed)"
      ],
      "metadata": {
        "id": "BgC_RSA5EO_l"
      },
      "execution_count": null,
      "outputs": []
    },
    {
      "cell_type": "markdown",
      "source": [
        "## Modelo inicial (binário)"
      ],
      "metadata": {
        "id": "OL37kylkwdh2"
      }
    },
    {
      "cell_type": "code",
      "source": [
        "# tfc = tf.keras.Sequential()\n",
        "\n",
        "# # Camada de entrada com formato\n",
        "# tfc.add(tf.keras.Input(shape=(2,)))\n",
        "\n",
        "# # Camada oculta ReLU\n",
        "# tfc.add(tf.keras.layers.Dense(100, activation='relu'))\n",
        "\n",
        "# # Camada de saída Sigmoid (para classificão binária)\n",
        "# tfc.add(tf.keras.layers.Dense(1, activation='sigmoid'))\n",
        "\n",
        "# tfc.compile(loss='binary_crossentropy',\n",
        "#             optimizer=tf.keras.optimizers.Adam(learning_rate=0.007),\n",
        "#             metrics=['accuracy'])\n",
        "\n",
        "# hist_tfc = tfc.fit(X_train, y_train, epochs=100, verbose=0)\n",
        "\n",
        "# tfc.evaluate(X_test, y_test)"
      ],
      "metadata": {
        "id": "BiioPe_BDH-d"
      },
      "execution_count": null,
      "outputs": []
    },
    {
      "cell_type": "markdown",
      "source": [
        "### Visualizando o modelo"
      ],
      "metadata": {
        "id": "6USJYoemedtf"
      }
    },
    {
      "cell_type": "code",
      "source": [
        "# sns.lineplot(data=hist_tfc.history['loss'], label='Perda')\n",
        "# sns.lineplot(data=hist_tfc.history['accuracy'], label='Precisão')\n",
        "\n",
        "# plt.title('Histórico de perda e precisão por iteração')\n",
        "# plt.xlabel('Iteração')\n",
        "# plt.ylabel('Perda / Precisão')\n",
        "\n",
        "# plt.legend(frameon=True, facecolor='white');"
      ],
      "metadata": {
        "id": "96No5huVGrn4"
      },
      "execution_count": null,
      "outputs": []
    },
    {
      "cell_type": "code",
      "source": [
        "# plot_decision_boundary(tfc, X_test, y_test, limites)"
      ],
      "metadata": {
        "id": "-LLEVnPhKxAN"
      },
      "execution_count": null,
      "outputs": []
    },
    {
      "cell_type": "markdown",
      "source": [
        "## Encontrando o melhor taxa de aprendizado (via callback)"
      ],
      "metadata": {
        "id": "se1NGF_DEjfb"
      }
    },
    {
      "cell_type": "code",
      "source": [
        "# tfcb = tf.keras.Sequential()\n",
        "\n",
        "# tfcb.add(tf.keras.Input(shape=(2,)))\n",
        "# tfcb.add(tf.keras.layers.Dense(100, activation='relu'))\n",
        "# tfcb.add(tf.keras.layers.Dense(1, 'sigmoid'))\n",
        "\n",
        "# tfcb.compile(loss='binary_crossentropy',\n",
        "#              optimizer='Adam',\n",
        "#              metrics=['accuracy'])\n",
        "\n",
        "# # Scheduler: lambda epoch: 1e-4 * 10 ** (epoch / 20)\n",
        "# lrs = tf.keras.callbacks.LearningRateScheduler(lambda epoch: tf.multiply(0.0001, tf.pow(10, tf.divide(epoch, 20))))\n",
        "\n",
        "# hist_tfcb = tfcb.fit(X_train, y_train, epochs=100, callbacks=[lrs], verbose=0)"
      ],
      "metadata": {
        "id": "vHfKEzwXea-R"
      },
      "execution_count": null,
      "outputs": []
    },
    {
      "cell_type": "code",
      "source": [
        "# sns.lineplot(x=hist_tfcb.history['lr'], y=hist_tfcb.history['loss'], label='Perda')\n",
        "# sns.lineplot(x=hist_tfcb.history['lr'], y=hist_tfcb.history['accuracy'], label='Precisão')\n",
        "\n",
        "# plt.xscale('log')\n",
        "\n",
        "# plt.title('Histórico de perda e precisão por taxa de aprendizado')\n",
        "# plt.xlabel('Taxa de aprendizado')\n",
        "# plt.ylabel('Perda / Precisão')\n",
        "\n",
        "# plt.legend(frameon=True, facecolor='white');"
      ],
      "metadata": {
        "id": "wO1WNGwHt1qO"
      },
      "execution_count": null,
      "outputs": []
    },
    {
      "cell_type": "markdown",
      "source": [
        "## Métodos de avaliação de classificação"
      ],
      "metadata": {
        "id": "GS2Gkiycuded"
      }
    },
    {
      "cell_type": "markdown",
      "source": [
        "**tp** - True Positive\n",
        "<br>\n",
        "**tn** - True Negative\n",
        "<br>\n",
        "**fp** - False Positive\n",
        "<br>\n",
        "**fn** - False Negative"
      ],
      "metadata": {
        "id": "U3T4MuIMvAUZ"
      }
    },
    {
      "cell_type": "markdown",
      "source": [
        "**Accuracy**: $\\Large \\  \\frac{tp \\ + \\ tn}{tp \\ + \\ tn \\ + \\ fp \\ + \\ fn}$\n",
        "<br><p>\n",
        "**Precision**: $\\Large \\  \\frac{tp}{tp \\ + \\ fp}$\n",
        "<br><p>\n",
        "**Recall**: $\\Large \\  \\frac{tp}{tp \\ + \\ fn}$\n",
        "<br><p>\n",
        "**F1-score**: $\\large \\ 2 \\cdot \\Large \\frac{precision \\ \\cdot \\ recall}{precision \\ + \\ recall}$"
      ],
      "metadata": {
        "id": "cq3qiz6-IACu"
      }
    },
    {
      "cell_type": "markdown",
      "source": [
        "### Previsão"
      ],
      "metadata": {
        "id": "pItroyMHsOCO"
      }
    },
    {
      "cell_type": "code",
      "source": [
        "# from sklearn.metrics import confusion_matrix, ConfusionMatrixDisplay, classification_report\n",
        "\n",
        "# y_pred = tfc.predict(X_test)\n",
        "# y_pred[:3]"
      ],
      "metadata": {
        "id": "jfje3svVNf-7"
      },
      "execution_count": null,
      "outputs": []
    },
    {
      "cell_type": "markdown",
      "source": [
        "**y_pred** está em formato probabilístico, que é o padrão para funções Sigmoid e Softmax."
      ],
      "metadata": {
        "id": "q4IDazeiQAjF"
      }
    },
    {
      "cell_type": "code",
      "source": [
        "# y_pred = tf.round(y_pred)"
      ],
      "metadata": {
        "id": "vlE8jntiQ8Jc"
      },
      "execution_count": null,
      "outputs": []
    },
    {
      "cell_type": "markdown",
      "source": [
        "### Relatório de classificação"
      ],
      "metadata": {
        "id": "X3AKF8txr5YJ"
      }
    },
    {
      "cell_type": "code",
      "source": [
        "# print(classification_report(y_test, y_pred))"
      ],
      "metadata": {
        "id": "27OwrPofQ_1T"
      },
      "execution_count": null,
      "outputs": []
    },
    {
      "cell_type": "markdown",
      "source": [
        "### Matriz de confusão"
      ],
      "metadata": {
        "id": "ExuaKb9OJ009"
      }
    },
    {
      "cell_type": "code",
      "source": [
        "# confusion_matrix(y_test, y_pred)"
      ],
      "metadata": {
        "id": "EypNqWNQO-qU"
      },
      "execution_count": null,
      "outputs": []
    },
    {
      "cell_type": "code",
      "source": [
        "# ConfusionMatrixDisplay.from_predictions(y_test, y_pred, cmap=gradiente)\n",
        "# plt.grid(False)"
      ],
      "metadata": {
        "id": "UfU7WWZJfevi"
      },
      "execution_count": null,
      "outputs": []
    },
    {
      "cell_type": "markdown",
      "source": [
        "## Modelo multiclasse"
      ],
      "metadata": {
        "id": "wLFte-4Rp1WR"
      }
    },
    {
      "cell_type": "markdown",
      "source": [
        "### Dados\n",
        "\n",
        "Fashion-MNIST is a dataset of Zalando's article images consisting of a training set of 60,000 examples and a test set of 10,000 examples. Each example is a 28x28 grayscale image, associated with a label from 10 classes.\n",
        "\n",
        "https://www.tensorflow.org/datasets/catalog/fashion_mnist"
      ],
      "metadata": {
        "id": "06noaFUctrFK"
      }
    },
    {
      "cell_type": "code",
      "source": [
        "from tensorflow.keras.datasets import fashion_mnist\n",
        "\n",
        "(X_train, y_train), (X_test, y_test) = fashion_mnist.load_data()"
      ],
      "metadata": {
        "id": "zyqOqVNyQ8L5"
      },
      "execution_count": null,
      "outputs": []
    },
    {
      "cell_type": "code",
      "source": [
        "# Rótulos\n",
        "rotulos = ['T-shirt/top', 'Trouser', 'Pullover', 'Dress', 'Coat', 'Sandal', 'Shirt', 'Sneaker', 'Bag', 'Ankle boot']"
      ],
      "metadata": {
        "id": "-n9cRgD6UMsi"
      },
      "execution_count": null,
      "outputs": []
    },
    {
      "cell_type": "markdown",
      "source": [
        "#### Amostra"
      ],
      "metadata": {
        "id": "V0YWr3TTF4wn"
      }
    },
    {
      "cell_type": "code",
      "source": [
        "# plt.figure(figsize=(8, 8))\n",
        "\n",
        "# for i in range(25):\n",
        "#     eixo = plt.subplot(5, 5, i + 1)\n",
        "#     item = tf.random.uniform(shape=[], maxval=len(X_train), dtype=tf.int32)\n",
        "#     plt.imshow(X_train[item], cmap='gray_r')\n",
        "#     plt.title(f'[{item}] {rotulos[y_train[item]]}', fontdict={'fontsize': 8})\n",
        "#     plt.axis(False)"
      ],
      "metadata": {
        "id": "o0q4ADtzSTkO"
      },
      "execution_count": null,
      "outputs": []
    },
    {
      "cell_type": "markdown",
      "source": [
        "#### Escalonamento"
      ],
      "metadata": {
        "id": "PkQD94IRF7kH"
      }
    },
    {
      "cell_type": "code",
      "source": [
        "# from sklearn.preprocessing import MinMaxScaler\n",
        "\n",
        "# scaler = MinMaxScaler()\n",
        "\n",
        "# X_train = scaler.fit_transform(X_train)\n",
        "# X_test = scaler.transform(X_test)"
      ],
      "metadata": {
        "id": "pkDh5OGLGcx3"
      },
      "execution_count": null,
      "outputs": []
    },
    {
      "cell_type": "code",
      "source": [
        "# Dividir X_train e X_test por X_train.max() para escalonar os valores para o intervalo [0, 1]\n",
        "\n",
        "max = X_train.max()\n",
        "\n",
        "X_train = tf.divide(X_train, max)\n",
        "X_test = tf.divide(X_test, max)"
      ],
      "metadata": {
        "id": "X4wXMLErdDWl"
      },
      "execution_count": null,
      "outputs": []
    },
    {
      "cell_type": "markdown",
      "source": [
        "#### One-hot rótulos"
      ],
      "metadata": {
        "id": "6f33AYhIk1cx"
      }
    },
    {
      "cell_type": "code",
      "source": [
        "# Para utilizarmos loss='categorical_crossentropy' e também podermos avaliar a classificação.\n",
        "\n",
        "y_train = tf.one_hot(y_train, depth=10)\n",
        "y_test = tf.one_hot(y_test, depth=10)"
      ],
      "metadata": {
        "id": "2cSOEDWjk19N"
      },
      "execution_count": null,
      "outputs": []
    },
    {
      "cell_type": "markdown",
      "source": [
        "### Modelo"
      ],
      "metadata": {
        "id": "mtViPHzyUpm-"
      }
    },
    {
      "cell_type": "code",
      "source": [
        "moda = tf.keras.Sequential()\n",
        "\n",
        "moda.add(tf.keras.layers.Flatten(input_shape=X_train[0].shape))\n",
        "moda.add(tf.keras.layers.Dense(40, activation='relu'))\n",
        "moda.add(tf.keras.layers.Dense(40, activation='relu'))\n",
        "moda.add(tf.keras.layers.Dense(10, activation='softmax'))\n",
        "\n",
        "moda.compile(loss='categorical_crossentropy',\n",
        "             optimizer=tf.keras.optimizers.Adam(learning_rate=0.005),\n",
        "            #  optimizer=tf.keras.optimizers.Adam(),\n",
        "             metrics=['accuracy'])\n",
        "\n",
        "# lrs = tf.keras.callbacks.LearningRateScheduler(lambda epoch: tf.multiply(0.0001, tf.pow(10, tf.divide(epoch, 20))))\n",
        "\n",
        "hist_moda = moda.fit(x=X_train,\n",
        "                     y=y_train,\n",
        "                     epochs=40,\n",
        "                    #  epochs=100,\n",
        "                    #  validation_data=(X_test, y_test),\n",
        "                    #  callbacks=[lrs],\n",
        "                     verbose=0)\n",
        "\n",
        "moda.evaluate(X_test, y_test)"
      ],
      "metadata": {
        "colab": {
          "base_uri": "https://localhost:8080/"
        },
        "id": "6aBPNmVudujV",
        "outputId": "73185956-4f20-49f8-8aa9-33dd632d4c74"
      },
      "execution_count": null,
      "outputs": [
        {
          "output_type": "stream",
          "name": "stdout",
          "text": [
            "313/313 [==============================] - 1s 2ms/step - loss: 0.5209 - accuracy: 0.8436\n"
          ]
        },
        {
          "output_type": "execute_result",
          "data": {
            "text/plain": [
              "[0.5208508372306824, 0.8435999751091003]"
            ]
          },
          "metadata": {},
          "execution_count": 26
        }
      ]
    },
    {
      "cell_type": "code",
      "source": [
        "# Verificar a melhor taxa de aprendizado\n",
        "\n",
        "# sns.lineplot(x=hist_moda.history['lr'], y=hist_moda.history['loss'], label='Perda')\n",
        "# sns.lineplot(x=hist_moda.history['lr'], y=hist_moda.history['accuracy'], label='Precisão')\n",
        "\n",
        "# plt.xscale('log')\n",
        "\n",
        "# plt.title('Histórico de perda e precisão por taxa de aprendizado')\n",
        "# plt.xlabel('Taxa de aprendizado')\n",
        "# plt.ylabel('Perda / Precisão')\n",
        "\n",
        "# plt.legend(frameon=True, facecolor='white');"
      ],
      "metadata": {
        "id": "327LJVnxER56"
      },
      "execution_count": null,
      "outputs": []
    },
    {
      "cell_type": "code",
      "source": [
        "sns.lineplot(data=hist_moda.history['loss'], label='Perda')\n",
        "sns.lineplot(data=hist_moda.history['accuracy'], label='Precisão')\n",
        "\n",
        "plt.title('Histórico de perda e precisão por iteração')\n",
        "plt.xlabel('Iteração')\n",
        "plt.ylabel('Perda / Precisão')\n",
        "\n",
        "plt.legend(frameon=True, facecolor='white');"
      ],
      "metadata": {
        "id": "RVNckFn4fX32",
        "colab": {
          "base_uri": "https://localhost:8080/",
          "height": 54
        },
        "outputId": "63b34d28-9d06-4c68-e321-80f743fbacc1"
      },
      "execution_count": null,
      "outputs": [
        {
          "output_type": "display_data",
          "data": {
            "text/plain": [
              "<Figure size 800x500 with 1 Axes>"
            ],
            "image/png": "[encoded data removed]"
          },
          "metadata": {}
        }
      ]
    },
    {
      "cell_type": "code",
      "source": [
        "from sklearn.metrics import classification_report, confusion_matrix, ConfusionMatrixDisplay\n",
        "\n",
        "y_pred = moda.predict(X_test)\n",
        "\n",
        "print(classification_report(y_test, tf.round(y_pred), target_names=rotulos))\n",
        "\n",
        "# Utilizando tf.argmax(..., axis=1) para retornar o índice com o maior valor, que é equivalente ao rótulo.\n",
        "\n",
        "# print(confusion_matrix(tf.argmax(y_test, axis=1), tf.argmax(y_pred, axis=1)))\n",
        "\n",
        "ConfusionMatrixDisplay.from_predictions(tf.argmax(y_test, axis=1),\n",
        "                                        tf.argmax(y_pred, axis=1),\n",
        "                                        display_labels=rotulos,\n",
        "                                        xticks_rotation='vertical',\n",
        "                                        cmap=gradiente)\n",
        "plt.grid(False)"
      ],
      "metadata": {
        "colab": {
          "base_uri": "https://localhost:8080/",
          "height": 419
        },
        "id": "aPxacYJRhzWI",
        "outputId": "909f6900-d2fd-4783-8071-920c8857e23f"
      },
      "execution_count": null,
      "outputs": [
        {
          "output_type": "stream",
          "name": "stdout",
          "text": [
            "313/313 [==============================] - 1s 2ms/step\n",
            "              precision    recall  f1-score   support\n",
            "\n",
            " T-shirt/top       0.91      0.61      0.73      1000\n",
            "     Trouser       0.98      0.96      0.97      1000\n",
            "    Pullover       0.77      0.67      0.71      1000\n",
            "       Dress       0.89      0.81      0.85      1000\n",
            "        Coat       0.82      0.69      0.75      1000\n",
            "      Sandal       0.93      0.97      0.95      1000\n",
            "       Shirt       0.55      0.76      0.64      1000\n",
            "     Sneaker       0.92      0.95      0.94      1000\n",
            "         Bag       0.97      0.96      0.96      1000\n",
            "  Ankle boot       0.98      0.91      0.94      1000\n",
            "\n",
            "   micro avg       0.86      0.83      0.84     10000\n",
            "   macro avg       0.87      0.83      0.84     10000\n",
            "weighted avg       0.87      0.83      0.84     10000\n",
            " samples avg       0.83      0.83      0.83     10000\n",
            "\n"
          ]
        },
        {
          "output_type": "stream",
          "name": "stderr",
          "text": [
            "/usr/local/lib/python3.8/dist-packages/sklearn/metrics/_classification.py:1318: UndefinedMetricWarning: Precision and F-score are ill-defined and being set to 0.0 in samples with no predicted labels. Use `zero_division` parameter to control this behavior.\n",
            "  _warn_prf(average, modifier, msg_start, len(result))\n"
          ]
        },
        {
          "output_type": "display_data",
          "data": {
            "text/plain": [
              "<Figure size 800x500 with 2 Axes>"
            ],
            "image/png": "[encoded data removed]"
          },
          "metadata": {}
        }
      ]
    },
    {
      "cell_type": "code",
      "source": [],
      "metadata": {
        "id": "1MxG_KnQp_Z3"
      },
      "execution_count": null,
      "outputs": []
    }
  ]
}