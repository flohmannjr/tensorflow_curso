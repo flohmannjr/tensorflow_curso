{
  "nbformat": 4,
  "nbformat_minor": 0,
  "metadata": {
    "colab": {
      "provenance": [],
      "toc_visible": true,
      "collapsed_sections": [
        "i5Ca8JRpjpnx",
        "BXPj7UquhAzv",
        "oKPSJ5C5-RL9",
        "eW4u_QfkdOIZ",
        "LSllHRxAiwDk",
        "l4Kxn7A3lPr5",
        "fz76KMTvMdtI",
        "eJ69_nSq97yU",
        "_SylWemtDHra",
        "1VvIkPn-V7xQ",
        "SsQBDU453BPv",
        "tWjsWBUYyXYq",
        "9Z2YZkCRhwrn",
        "i-JYnlntH2uj",
        "20qlQggBIuws",
        "ai62pcSqIxCE",
        "6f-Mw8ECvhjS",
        "So9IYsZnwUd2",
        "gBU9DF8ziQ3S",
        "yhcRktCV3zrB",
        "DRgIV_2Zvahz"
      ],
      "authorship_tag": "ABX9TyMkkqAq5/ca/Zf7+vISWSBI",
      "include_colab_link": true
    },
    "kernelspec": {
      "name": "python3",
      "display_name": "Python 3"
    },
    "language_info": {
      "name": "python"
    },
    "gpuClass": "standard"
  },
  "cells": [
    {
      "cell_type": "markdown",
      "metadata": {
        "id": "view-in-github",
        "colab_type": "text"
      },
      "source": [
        "<a href=\"https://colab.research.google.com/github/flohmannjr/tensorflow_curso/blob/main/TensorFlow_NN_Regression.ipynb\" target=\"_parent\"><img src=\"https://colab.research.google.com/assets/colab-badge.svg\" alt=\"Open In Colab\"/></a>"
      ]
    },
    {
      "cell_type": "markdown",
      "source": [
        "# TensorFlow Neural Network Regression"
      ],
      "metadata": {
        "id": "EaX3Ns_4o6ue"
      }
    },
    {
      "cell_type": "markdown",
      "source": [
        "## Importar bibliotecas"
      ],
      "metadata": {
        "id": "Bq34EMkUo9zN"
      }
    },
    {
      "cell_type": "code",
      "execution_count": null,
      "metadata": {
        "id": "AeMF_T_Dnk4b"
      },
      "outputs": [],
      "source": [
        "import tensorflow as tf\n",
        "\n",
        "import numpy as np\n",
        "import pandas as pd\n",
        "\n",
        "import matplotlib.pyplot as plt\n",
        "import seaborn as sns"
      ]
    },
    {
      "cell_type": "markdown",
      "source": [
        "## Setup"
      ],
      "metadata": {
        "id": "FoJSJY8vtZvG"
      }
    },
    {
      "cell_type": "code",
      "source": [
        "# Ajustes MatPlotLib\n",
        "plt.rcParams['figure.figsize'] = [8, 5]\n",
        "plt.rcParams['figure.dpi'] = 100\n",
        "plt.style.use('seaborn-darkgrid')\n",
        "\n",
        "# Determinando um seed\n",
        "seed = 2008193"
      ],
      "metadata": {
        "id": "3WVEqMC7tcGB"
      },
      "execution_count": null,
      "outputs": []
    },
    {
      "cell_type": "markdown",
      "source": [
        "### Dados"
      ],
      "metadata": {
        "id": "i5Ca8JRpjpnx"
      }
    },
    {
      "cell_type": "code",
      "source": [
        "# # Dados simples para testes iniciais\n",
        "# # X = tf.constant([-7., -4, -1., 2., 5., 8., 11., 14.])\n",
        "# # y = tf.constant([3., 6., 9., 12., 15., 18., 21., 24.])\n",
        "\n",
        "# # Quantidade maior de dados para teste\n",
        "# X = tf.range(-50., 50., 4)\n",
        "# y = X + 10\n",
        "\n",
        "# # Entrada para previsão\n",
        "# prever = 17.\n",
        "\n",
        "# print(X)\n",
        "# print(y)\n",
        "\n",
        "# # Correção\n",
        "# X = X[..., tf.newaxis]"
      ],
      "metadata": {
        "id": "elWDQj6WjrUj"
      },
      "execution_count": null,
      "outputs": []
    },
    {
      "cell_type": "markdown",
      "source": [
        "### DataFrame para análise"
      ],
      "metadata": {
        "id": "BXPj7UquhAzv"
      }
    },
    {
      "cell_type": "code",
      "source": [
        "# # resultados = pd.DataFrame(columns=['Ocultas', 'Perda', 'Otimizador', 'Aprendizagem', 'Medida', 'Iterações', 'Previsão'])\n",
        "# resultados = pd.DataFrame(columns=['Ocultas', 'Neurônios', 'Perda', 'Otimizador', 'Aprendizagem', 'Medida', 'Iterações', 'Previsão'])\n",
        "# resultados"
      ],
      "metadata": {
        "id": "e-pBakHphHbL"
      },
      "execution_count": null,
      "outputs": []
    },
    {
      "cell_type": "markdown",
      "source": [
        "## Formas de entrada e saída"
      ],
      "metadata": {
        "id": "oKPSJ5C5-RL9"
      }
    },
    {
      "cell_type": "code",
      "source": [
        "# house_info = tf.constant(['bedroom', 'bathroom', 'garage'])\n",
        "# house_price = tf.constant([939700])\n",
        "\n",
        "# house_info, house_price"
      ],
      "metadata": {
        "id": "_jfsMHqb-Wfr"
      },
      "execution_count": null,
      "outputs": []
    },
    {
      "cell_type": "markdown",
      "source": [
        "## Modelando com TensorFlow"
      ],
      "metadata": {
        "id": "EqwFZYVw--cL"
      }
    },
    {
      "cell_type": "markdown",
      "source": [
        "### Passos para modelagem"
      ],
      "metadata": {
        "id": "eW4u_QfkdOIZ"
      }
    },
    {
      "cell_type": "code",
      "source": [
        "# # 1. Criar um modelo usando a Sequential API\n",
        "# model = tf.keras.Sequential()\n",
        "\n",
        "# # 1.1. Adicionar camadas\n",
        "# model.add(tf.keras.layers.Dense(1))\n",
        "\n",
        "# # 2. Compilar o modelo\n",
        "# model.compile(loss=tf.keras.losses.mae, # mean absolute error\n",
        "#               optimizer=tf.keras.optimizers.SGD(), # stochastic gradient descent\n",
        "#               metrics=[\"mae\"])\n",
        "\n",
        "# # 3. Ajustar o modelo\n",
        "\n",
        "# # model.fit(X, y, epochs=5)\n",
        "# # ValueError: Exception encountered when calling layer \"sequential\" (type Sequential).\n",
        "# # Input 0 of layer \"dense\" is incompatible with the layer: expected min_ndim=2, found ndim=1. Full shape received: (None,)\n",
        "\n",
        "# # 3.1. Correção\n",
        "# X = X[..., tf.newaxis]\n",
        "\n",
        "# model.fit(X, y, epochs=5)"
      ],
      "metadata": {
        "id": "Zn49sgkadhed"
      },
      "execution_count": null,
      "outputs": []
    },
    {
      "cell_type": "markdown",
      "source": [
        "### Previsão utilizando modelo treinado"
      ],
      "metadata": {
        "id": "LSllHRxAiwDk"
      }
    },
    {
      "cell_type": "code",
      "source": [
        "# y_pred = model.predict([prever])\n",
        "\n",
        "# resultados = resultados.append(pd.Series([0, 'MAE', 'SGD', 0, 'MAE', 5, y_pred[0][0]], index=resultados.columns), ignore_index=True)"
      ],
      "metadata": {
        "id": "OIo2sw3pko5m"
      },
      "execution_count": null,
      "outputs": []
    },
    {
      "cell_type": "markdown",
      "source": [
        "## Aprimorando o modelo"
      ],
      "metadata": {
        "id": "l4Kxn7A3lPr5"
      }
    },
    {
      "cell_type": "code",
      "source": [
        "# # Aumentar a quantidade de epochs (iterações) [5 => 100]\n",
        "# model.fit(X, y, epochs=100)"
      ],
      "metadata": {
        "id": "_n4mPZ0Zz0Yw"
      },
      "execution_count": null,
      "outputs": []
    },
    {
      "cell_type": "code",
      "source": [
        "# y_pred = model.predict([prever])\n",
        "\n",
        "# resultados = resultados.append(pd.Series([0, 'MAE', 'SGD', 0, 'MAE', 100, y_pred[0][0]], index=resultados.columns), ignore_index=True)"
      ],
      "metadata": {
        "id": "YH0xm1vT2eE3"
      },
      "execution_count": null,
      "outputs": []
    },
    {
      "cell_type": "code",
      "source": [
        "# # Diminuir a taxa de aprendizagem (tamanho do passo) [0.0001 => 0.01]\n",
        "\n",
        "# model.compile(loss=tf.keras.losses.mae,\n",
        "#               optimizer=tf.keras.optimizers.SGD(learning_rate=0.01),\n",
        "#               metrics=[\"mae\"])\n",
        "\n",
        "# model.fit(X, y, epochs=100) # manter alteração anterior"
      ],
      "metadata": {
        "id": "gyB8_gud2rKP"
      },
      "execution_count": null,
      "outputs": []
    },
    {
      "cell_type": "code",
      "source": [
        "# y_pred = model.predict([prever])\n",
        "\n",
        "# resultados = resultados.append(pd.Series([0, 'MAE', 'SGD', 0.01, 'MAE', 100, y_pred[0][0]], index=resultados.columns), ignore_index=True)"
      ],
      "metadata": {
        "id": "wPXjojVh4yhX"
      },
      "execution_count": null,
      "outputs": []
    },
    {
      "cell_type": "code",
      "source": [
        "# # Alterar otimizador [SGD => Adam]\n",
        "\n",
        "# model.compile(loss=tf.keras.losses.mae,\n",
        "#               optimizer=tf.keras.optimizers.Adam(learning_rate=0.01),\n",
        "#               metrics=[\"mae\"])\n",
        "\n",
        "# model.fit(X, y, epochs=100)"
      ],
      "metadata": {
        "id": "kVkgI0YX4-Tf"
      },
      "execution_count": null,
      "outputs": []
    },
    {
      "cell_type": "code",
      "source": [
        "# y_pred = model.predict([prever])\n",
        "\n",
        "# resultados = resultados.append(pd.Series([0, 'MAE', 'Adam', 0.01, 'MAE', 100, y_pred[0][0]], index=resultados.columns), ignore_index=True)"
      ],
      "metadata": {
        "id": "A_H_rZ8u5PSt"
      },
      "execution_count": null,
      "outputs": []
    },
    {
      "cell_type": "code",
      "source": [
        "# # Alterar o número de camadas, voltando ao otimizador inicial.\n",
        "\n",
        "# model = tf.keras.Sequential()\n",
        "\n",
        "# # Três camadas de 100 neurônios ReLU e uma sem ativação, conforme exemplo.\n",
        "\n",
        "# model.add(tf.keras.layers.Dense(100, activation='relu')) \n",
        "# model.add(tf.keras.layers.Dense(100, activation='relu')) \n",
        "# model.add(tf.keras.layers.Dense(100, activation='relu')) \n",
        "# model.add(tf.keras.layers.Dense(1))\n",
        "\n",
        "# model.compile(loss=tf.keras.losses.mae,\n",
        "#               optimizer=tf.keras.optimizers.SGD(),\n",
        "#               metrics=[\"mae\"])\n",
        "\n",
        "# model.fit(X, y, epochs=100)"
      ],
      "metadata": {
        "id": "EISbfL9E5e83"
      },
      "execution_count": null,
      "outputs": []
    },
    {
      "cell_type": "code",
      "source": [
        "# y_pred = model.predict([prever])\n",
        "\n",
        "# resultados = resultados.append(pd.Series([3, 'MAE', 'SGD', 0, 'MAE', 100, y_pred[0][0]], index=resultados.columns), ignore_index=True)"
      ],
      "metadata": {
        "id": "ziFTejkr9TKO"
      },
      "execution_count": null,
      "outputs": []
    },
    {
      "cell_type": "code",
      "source": [
        "# # Alterar otimizador novamente [SGD => Adam]\n",
        "\n",
        "# model = tf.keras.Sequential()\n",
        "\n",
        "# model.add(tf.keras.layers.Dense(100, activation='relu')) \n",
        "# model.add(tf.keras.layers.Dense(100, activation='relu')) \n",
        "# model.add(tf.keras.layers.Dense(100, activation='relu')) \n",
        "# model.add(tf.keras.layers.Dense(1))\n",
        "\n",
        "# model.compile(loss=tf.keras.losses.mae,\n",
        "#               optimizer=tf.keras.optimizers.Adam(learning_rate=0.01),\n",
        "#               metrics=[\"mae\"])\n",
        "\n",
        "# model.fit(X, y, epochs=100)"
      ],
      "metadata": {
        "id": "LcPOzaY59Z-M"
      },
      "execution_count": null,
      "outputs": []
    },
    {
      "cell_type": "code",
      "source": [
        "# y_pred = model.predict([prever])\n",
        "\n",
        "# resultados = resultados.append(pd.Series([3, 'MAE', 'Adam', 0.01, 'MAE', 100, y_pred[0][0]], index=resultados.columns), ignore_index=True)"
      ],
      "metadata": {
        "id": "y4I0CAZf9vlN"
      },
      "execution_count": null,
      "outputs": []
    },
    {
      "cell_type": "markdown",
      "source": [
        "### Quantidades de camadas ocultas\n",
        "\n",
        "Não há uma regra para definição do número de camadas ocultas. Alguns autores defendem o processo de intuição, experimentação e profundidade, relatando que mais camadas costumam retornar melhores resultados.\n",
        "\n",
        "Para problemas simples, zero a duas camadas são geralmente utilizadas."
      ],
      "metadata": {
        "id": "fz76KMTvMdtI"
      }
    },
    {
      "cell_type": "code",
      "source": [
        "# nl = 2"
      ],
      "metadata": {
        "id": "goEoIf85NWy4"
      },
      "execution_count": null,
      "outputs": []
    },
    {
      "cell_type": "markdown",
      "source": [
        "### Fórmula para calcular a quantidade de neurônios das camadas ocultas\n",
        "\n",
        "<p><br>\n",
        "$\\Large N_h = \\frac{N_i \\ + \\ N_o}{2}$\n",
        "\n",
        "<p><br>\n",
        "$N_h$ = number of neurons <br>\n",
        "$N_i$ = number of input neurons <br>\n",
        "$N_o$ = number of output neurons"
      ],
      "metadata": {
        "id": "eJ69_nSq97yU"
      }
    },
    {
      "cell_type": "code",
      "source": [
        "# ni = tf.rank(X)\n",
        "# no = tf.rank(y)\n",
        "\n",
        "# nh = tf.cast(tf.math.ceil(tf.divide(tf.add(ni, no), 2)), dtype=tf.int16)\n",
        "# nh"
      ],
      "metadata": {
        "id": "1mYC-bRvC1az"
      },
      "execution_count": null,
      "outputs": []
    },
    {
      "cell_type": "markdown",
      "source": [
        "### Fórmula alternativa\n",
        "https://stats.stackexchange.com/questions/181/how-to-choose-the-number-of-hidden-layers-and-nodes-in-a-feedforward-neural-netw\n",
        "\n",
        "<p><br>\n",
        "$\\Large N_h = \\frac{N_s}{(\\alpha \\ * \\ (N_i \\ + \\ N_o))}$\n",
        "\n",
        "<p><br>\n",
        "$N_h$ = number of neurons <br>\n",
        "$N_s$ = number of samples in training data set <br>\n",
        "$\\alpha$ = an arbitrary scaling factor usually 2-10 <br>\n",
        "$N_i$ = number of input neurons <br>\n",
        "$N_o$ = number of output neurons"
      ],
      "metadata": {
        "id": "_SylWemtDHra"
      }
    },
    {
      "cell_type": "code",
      "source": [
        "# ns = tf.size(X)\n",
        "# al = 2\n",
        "# ni = tf.rank(X)\n",
        "# no = tf.rank(y)\n",
        "\n",
        "# nh = tf.cast(tf.math.ceil(tf.divide(ns, tf.multiply(al, tf.add(ni, no)))), dtype=tf.int16)\n",
        "# nh"
      ],
      "metadata": {
        "id": "DLwjkDPKKfE5"
      },
      "execution_count": null,
      "outputs": []
    },
    {
      "cell_type": "code",
      "source": [
        "# model = tf.keras.Sequential()\n",
        "\n",
        "# for l in range(nl):\n",
        "#     model.add(tf.keras.layers.Dense(nh, activation='relu')) \n",
        "\n",
        "# model.add(tf.keras.layers.Dense(no))\n",
        "\n",
        "# model.compile(loss=tf.keras.losses.mae,\n",
        "#               optimizer=tf.keras.optimizers.Adam(learning_rate=0.01),\n",
        "#               metrics=[\"mae\"])\n",
        "\n",
        "# model.fit(X, y, epochs=100)"
      ],
      "metadata": {
        "id": "FeCWgStwLFP4"
      },
      "execution_count": null,
      "outputs": []
    },
    {
      "cell_type": "code",
      "source": [
        "# y_pred = model.predict([prever])\n",
        "\n",
        "# resultados = resultados.append(pd.Series([nl, 'MAE', 'Adam', 0.01, 'MAE', 100, y_pred[0][0]], index=resultados.columns), ignore_index=True)"
      ],
      "metadata": {
        "id": "D1Xsy2nfOFNw"
      },
      "execution_count": null,
      "outputs": []
    },
    {
      "cell_type": "markdown",
      "source": [
        "### Testes com hiperparâmetros"
      ],
      "metadata": {
        "id": "9qWDVkBZXUdx"
      }
    },
    {
      "cell_type": "code",
      "source": [
        "# # Forma simplificada do exemplo\n",
        "# # Uma camada oculta com 100 neurônios ReLU e otimizador SGD.\n",
        "\n",
        "# model = tf.keras.Sequential()\n",
        "# model.add(tf.keras.layers.Dense(100, activation='relu')) \n",
        "# model.add(tf.keras.layers.Dense(1))\n",
        "\n",
        "# model.compile(loss=tf.keras.losses.mae,\n",
        "#               optimizer=tf.keras.optimizers.SGD(),\n",
        "#               metrics=[\"mae\"])\n",
        "\n",
        "# model.fit(X, y, epochs=100)"
      ],
      "metadata": {
        "id": "aDWwPeP4QKKX"
      },
      "execution_count": null,
      "outputs": []
    },
    {
      "cell_type": "code",
      "source": [
        "# y_pred = model.predict([prever])\n",
        "\n",
        "# resultados = resultados.append(pd.Series([1, 'MAE', 'SGD', 0, 'MAE', 100, y_pred[0][0]], index=resultados.columns), ignore_index=True)"
      ],
      "metadata": {
        "id": "HmFXNiFtWtAr"
      },
      "execution_count": null,
      "outputs": []
    },
    {
      "cell_type": "code",
      "source": [
        "# # 10 camadas ocultas com 100 neurônios ReLU cada e otimizador SGD.\n",
        "\n",
        "# model = tf.keras.Sequential()\n",
        "\n",
        "# for l in range(10):\n",
        "#     model.add(tf.keras.layers.Dense(100, activation='relu')) \n",
        "\n",
        "# model.add(tf.keras.layers.Dense(1))\n",
        "\n",
        "# model.compile(loss=tf.keras.losses.mae,\n",
        "#               optimizer=tf.keras.optimizers.SGD(),\n",
        "#               metrics=[\"mae\"])\n",
        "\n",
        "# model.fit(X, y, epochs=100)"
      ],
      "metadata": {
        "id": "VUiYFI0LWz_S"
      },
      "execution_count": null,
      "outputs": []
    },
    {
      "cell_type": "code",
      "source": [
        "# y_pred = model.predict([prever])\n",
        "\n",
        "# resultados = resultados.append(pd.Series([10, 'MAE', 'SGD', 0, 'MAE', 100, y_pred[0][0]], index=resultados.columns), ignore_index=True)"
      ],
      "metadata": {
        "id": "SZ9lY_OTXkrD"
      },
      "execution_count": null,
      "outputs": []
    },
    {
      "cell_type": "code",
      "source": [
        "# # Duas camadas ocultas com 100 neurônios ReLU e otimizador SGD com taxa de aprendizagem de 0.01.\n",
        "\n",
        "# model = tf.keras.Sequential()\n",
        "# model.add(tf.keras.layers.Dense(100, activation='relu')) \n",
        "# model.add(tf.keras.layers.Dense(100, activation='relu')) \n",
        "# model.add(tf.keras.layers.Dense(1))\n",
        "\n",
        "# model.compile(loss=tf.keras.losses.mae,\n",
        "#               optimizer=tf.keras.optimizers.SGD(learning_rate=0.01),\n",
        "#               metrics=[\"mae\"])\n",
        "\n",
        "# model.fit(X, y, epochs=100)"
      ],
      "metadata": {
        "id": "-iYU1uupX2Mi"
      },
      "execution_count": null,
      "outputs": []
    },
    {
      "cell_type": "code",
      "source": [
        "# y_pred = model.predict([prever])\n",
        "\n",
        "# resultados = resultados.append(pd.Series([2, 'MAE', 'SGD', 0.01, 'MAE', 100, y_pred[0][0]], index=resultados.columns), ignore_index=True)"
      ],
      "metadata": {
        "id": "ktf0EjAMZxmj"
      },
      "execution_count": null,
      "outputs": []
    },
    {
      "cell_type": "code",
      "source": [
        "# # 6 camadas ocultas com 100 neurônios ReLU cada e otimizador SGD com taxa de aprendizagem de 0.01.\n",
        "\n",
        "# model = tf.keras.Sequential()\n",
        "\n",
        "# for l in range(6):\n",
        "#     model.add(tf.keras.layers.Dense(100, activation='relu')) \n",
        "\n",
        "# model.add(tf.keras.layers.Dense(1))\n",
        "\n",
        "# model.compile(loss=tf.keras.losses.mae,\n",
        "#               optimizer=tf.keras.optimizers.SGD(learning_rate=0.01),\n",
        "#               metrics=[\"mae\"])\n",
        "\n",
        "# model.fit(X, y, epochs=100)"
      ],
      "metadata": {
        "id": "uUhzICLMUPaE"
      },
      "execution_count": null,
      "outputs": []
    },
    {
      "cell_type": "code",
      "source": [
        "# y_pred = model.predict([prever])\n",
        "\n",
        "# resultados = resultados.append(pd.Series([6, 'MAE', 'SGD', 0.01, 'MAE', 100, y_pred[0][0]], index=resultados.columns), ignore_index=True)"
      ],
      "metadata": {
        "id": "0P4vNI0yUam1"
      },
      "execution_count": null,
      "outputs": []
    },
    {
      "cell_type": "code",
      "source": [
        "# # Três camadas ocultas com 100 neurônios ReLU e otimizador Adam com taxa de aprendizagem de 0.01.\n",
        "\n",
        "# model = tf.keras.Sequential()\n",
        "# model.add(tf.keras.layers.Dense(100, activation='relu')) \n",
        "# model.add(tf.keras.layers.Dense(100, activation='relu')) \n",
        "# model.add(tf.keras.layers.Dense(100, activation='relu')) \n",
        "# model.add(tf.keras.layers.Dense(1))\n",
        "\n",
        "# model.compile(loss=tf.keras.losses.mae,\n",
        "#               optimizer=tf.keras.optimizers.Adam(learning_rate=0.01),\n",
        "#               metrics=[\"mae\"])\n",
        "\n",
        "# model.fit(X, y, epochs=100)"
      ],
      "metadata": {
        "id": "cfh59QyCZ80a"
      },
      "execution_count": null,
      "outputs": []
    },
    {
      "cell_type": "code",
      "source": [
        "# y_pred = model.predict([prever])\n",
        "\n",
        "# resultados = resultados.append(pd.Series([3, 'MAE', 'Adam', 0.01, 'MAE', 100, y_pred[0][0]], index=resultados.columns), ignore_index=True)"
      ],
      "metadata": {
        "id": "rN_KfJsNaCX6"
      },
      "execution_count": null,
      "outputs": []
    },
    {
      "cell_type": "code",
      "source": [
        "# # 10 camadas ocultas com 100 neurônios ReLU cada e otimizador Adam com taxa de aprendizagem de 0.01.\n",
        "\n",
        "# model = tf.keras.Sequential()\n",
        "\n",
        "# for l in range(10):\n",
        "#     model.add(tf.keras.layers.Dense(100, activation='relu')) \n",
        "\n",
        "# model.add(tf.keras.layers.Dense(1))\n",
        "\n",
        "# model.compile(loss=tf.keras.losses.mae,\n",
        "#               optimizer=tf.keras.optimizers.Adam(learning_rate=0.01),\n",
        "#               metrics=[\"mae\"])\n",
        "\n",
        "# model.fit(X, y, epochs=100)"
      ],
      "metadata": {
        "id": "btOgvTpeaItK"
      },
      "execution_count": null,
      "outputs": []
    },
    {
      "cell_type": "code",
      "source": [
        "# y_pred = model.predict([prever])\n",
        "\n",
        "# resultados = resultados.append(pd.Series([10, 'MAE', 'Adam', 0.01, 'MAE', 100, y_pred[0][0]], index=resultados.columns), ignore_index=True)"
      ],
      "metadata": {
        "id": "CwYED-J_aR_C"
      },
      "execution_count": null,
      "outputs": []
    },
    {
      "cell_type": "code",
      "source": [
        "# # 10 camadas ocultas com 100 neurônios ReLU cada e otimizador Adam com taxa de aprendizagem de 0.001.\n",
        "\n",
        "# model = tf.keras.Sequential()\n",
        "\n",
        "# for l in range(10):\n",
        "#     model.add(tf.keras.layers.Dense(100, activation='relu')) \n",
        "\n",
        "# model.add(tf.keras.layers.Dense(1))\n",
        "\n",
        "# model.compile(loss=tf.keras.losses.mae,\n",
        "#               optimizer=tf.keras.optimizers.Adam(learning_rate=0.001),\n",
        "#               metrics=[\"mae\"])\n",
        "\n",
        "# model.fit(X, y, epochs=100)"
      ],
      "metadata": {
        "id": "_QI-ZQY5bIBi"
      },
      "execution_count": null,
      "outputs": []
    },
    {
      "cell_type": "code",
      "source": [
        "# y_pred = model.predict([prever])\n",
        "\n",
        "# resultados = resultados.append(pd.Series([10, 'MAE', 'Adam', 0.001, 'MAE', 100, y_pred[0][0]], index=resultados.columns), ignore_index=True)"
      ],
      "metadata": {
        "id": "GfBu-Kk9bO06"
      },
      "execution_count": null,
      "outputs": []
    },
    {
      "cell_type": "code",
      "source": [
        "# # 10 camadas ocultas com 100 neurônios ReLU cada e otimizador Adam com taxa de aprendizagem de 0.05.\n",
        "\n",
        "# model = tf.keras.Sequential()\n",
        "\n",
        "# for l in range(10):\n",
        "#     model.add(tf.keras.layers.Dense(100, activation='relu')) \n",
        "\n",
        "# model.add(tf.keras.layers.Dense(1))\n",
        "\n",
        "# model.compile(loss=tf.keras.losses.mae,\n",
        "#               optimizer=tf.keras.optimizers.Adam(learning_rate=0.05),\n",
        "#               metrics=[\"mae\"])\n",
        "\n",
        "# model.fit(X, y, epochs=100)"
      ],
      "metadata": {
        "id": "yE9jxgIpbUYi"
      },
      "execution_count": null,
      "outputs": []
    },
    {
      "cell_type": "code",
      "source": [
        "# y_pred = model.predict([prever])\n",
        "\n",
        "# resultados = resultados.append(pd.Series([10, 'MAE', 'Adam', 0.05, 'MAE', 100, y_pred[0][0]], index=resultados.columns), ignore_index=True)"
      ],
      "metadata": {
        "id": "hzQrtjINbaU6"
      },
      "execution_count": null,
      "outputs": []
    },
    {
      "cell_type": "code",
      "source": [
        "# model = tf.keras.Sequential()\n",
        "\n",
        "# for l in range(10):\n",
        "#     model.add(tf.keras.layers.Dense(100, activation='relu')) \n",
        "\n",
        "# model.add(tf.keras.layers.Dense(1))\n",
        "\n",
        "# model.compile(loss=tf.keras.losses.mae,\n",
        "#               optimizer=tf.keras.optimizers.Adam(learning_rate=0.1),\n",
        "#               metrics=tf.keras.losses.mae)\n",
        "\n",
        "# model.fit(X, y, epochs=100)"
      ],
      "metadata": {
        "id": "tNICrglBVjyz"
      },
      "execution_count": null,
      "outputs": []
    },
    {
      "cell_type": "code",
      "source": [
        "# y_pred = model.predict([prever])\n",
        "\n",
        "# resultados = resultados.append(pd.Series([10, 'MAE', 'Adam', 0.1, 'MAE', 100, y_pred[0][0]], index=resultados.columns), ignore_index=True)"
      ],
      "metadata": {
        "id": "DVer3HVmVtsO"
      },
      "execution_count": null,
      "outputs": []
    },
    {
      "cell_type": "markdown",
      "source": [
        "## Grade de parâmetros"
      ],
      "metadata": {
        "id": "1VvIkPn-V7xQ"
      }
    },
    {
      "cell_type": "code",
      "source": [
        "# # param_grid = {'ocultas': [3, 6, 10],\n",
        "# #               'neuronios': [30, 50, 100],\n",
        "# #               'perda': ['mae', 'mse'],\n",
        "# #               'otimizador': ['SGD', 'Adam'],\n",
        "# #               'aprendizagem': [0.01, 0.005, 0.001],\n",
        "# #             #   'medida': ['mae'],\n",
        "# #               'iteracoes': [80, 100, 120]}\n",
        "\n",
        "# # Configuração concluida por observação\n",
        "# # Camadas Ocultas: 3\n",
        "# # Neurônios: 50\n",
        "# # Perda: mse\n",
        "# # Otimizador: Adam\n",
        "# # Aprendizagem: 0.01\n",
        "# # Medida: mse\n",
        "# # Iterações: 100\n",
        "\n",
        "# param_grid = {'ocultas': [3],\n",
        "#               'neuronios': [50],\n",
        "#               'perda': ['mse'],\n",
        "#               'otimizador': ['Adam'],\n",
        "#               'aprendizagem': [0.01],\n",
        "#               'iteracoes': [100]}\n",
        "\n",
        "# from sklearn.model_selection import ParameterGrid\n",
        "\n",
        "# grid = list(ParameterGrid(param_grid))"
      ],
      "metadata": {
        "id": "jwxtkmhuWROL"
      },
      "execution_count": null,
      "outputs": []
    },
    {
      "cell_type": "code",
      "source": [
        "# for parametros in grid:\n",
        "#     model = tf.keras.Sequential()\n",
        "\n",
        "#     for l in range(parametros['ocultas']):\n",
        "#         model.add(tf.keras.layers.Dense(parametros['neuronios'], activation='relu')) \n",
        "\n",
        "#     model.add(tf.keras.layers.Dense(1))\n",
        "\n",
        "#     model.compile(loss=getattr(tf.keras.losses, parametros['perda']),\n",
        "#                   optimizer=getattr(tf.keras.optimizers, parametros['otimizador'])(learning_rate=parametros['aprendizagem']),\n",
        "#                   metrics=getattr(tf.keras.losses, parametros['perda']))\n",
        "\n",
        "#     model.fit(X, y, epochs=parametros['iteracoes'], verbose=0)\n",
        "\n",
        "#     y_pred = model.predict([prever])\n",
        "\n",
        "#     resultados = resultados.append(pd.Series([parametros['ocultas'],\n",
        "#                                               parametros['neuronios'],\n",
        "#                                               parametros['perda'],\n",
        "#                                               parametros['otimizador'],\n",
        "#                                               parametros['aprendizagem'],\n",
        "#                                               parametros['perda'],\n",
        "#                                               parametros['iteracoes'],\n",
        "#                                               y_pred[0][0]],\n",
        "#                                              index=resultados.columns),\n",
        "#                                    ignore_index=True)"
      ],
      "metadata": {
        "id": "F11zXJ3Zj1P0"
      },
      "execution_count": null,
      "outputs": []
    },
    {
      "cell_type": "markdown",
      "source": [
        "## Resultados"
      ],
      "metadata": {
        "id": "SsQBDU453BPv"
      }
    },
    {
      "cell_type": "code",
      "source": [
        "# print(resultados.to_string())"
      ],
      "metadata": {
        "id": "rt_tFhY7bmny"
      },
      "execution_count": null,
      "outputs": []
    },
    {
      "cell_type": "markdown",
      "source": [
        "### Gráficos"
      ],
      "metadata": {
        "id": "tWjsWBUYyXYq"
      }
    },
    {
      "cell_type": "code",
      "source": [
        "# sns.barplot(data=resultados.sort_values('Previsão'),\n",
        "#             x=resultados.index,\n",
        "#             y='Previsão',\n",
        "#             palette='cividis')\n",
        "\n",
        "# plt.axhline(y=(prever + 10), color='goldenrod')\n",
        "\n",
        "# plt.title('Previsões')\n",
        "# plt.ylabel('')\n",
        "\n",
        "# plt.xticks([])\n",
        "# plt.yticks(np.arange(0, 35, 3));"
      ],
      "metadata": {
        "id": "Vn6n9O9Il6dR"
      },
      "execution_count": null,
      "outputs": []
    },
    {
      "cell_type": "code",
      "source": [
        "# sns.barplot(data=resultados.sort_values('Previsão'),\n",
        "#             x=resultados.index,\n",
        "#             y='Previsão',\n",
        "#             hue='Otimizador',\n",
        "#             palette=[(0.0000, 0.1492, 0.3537),\n",
        "#                      (0.9860, 0.8862, 0.2807)])\n",
        "\n",
        "# plt.axhline(y=(prever + 10), color='goldenrod')\n",
        "\n",
        "# plt.title('Previsões')\n",
        "# plt.ylabel('')\n",
        "\n",
        "# plt.xticks([])\n",
        "# plt.yticks(np.arange(0, 35, 3));"
      ],
      "metadata": {
        "id": "WoxmKIVB7ZnR"
      },
      "execution_count": null,
      "outputs": []
    },
    {
      "cell_type": "code",
      "source": [
        "# resultados_Adam = resultados[resultados['Otimizador'] == 'Adam']"
      ],
      "metadata": {
        "id": "wDF0KOS1BFvQ"
      },
      "execution_count": null,
      "outputs": []
    },
    {
      "cell_type": "code",
      "source": [
        "# sns.barplot(data=resultados_Adam.sort_values('Previsão'),\n",
        "#             x=resultados_Adam.index,\n",
        "#             y='Previsão',\n",
        "#             hue='Ocultas',\n",
        "#             palette=[(0.0000, 0.1492, 0.3537),\n",
        "#                      (0.4722, 0.4709, 0.4665),\n",
        "#                      (0.9860, 0.8862, 0.2807)])\n",
        "\n",
        "# plt.axhline(y=(prever + 10), color='goldenrod')\n",
        "\n",
        "# plt.title('Previsões - Otimizador Adam')\n",
        "# plt.ylabel('')\n",
        "\n",
        "# plt.xticks([])\n",
        "# plt.yticks(np.arange(0, 35, 3))\n",
        "\n",
        "# plt.legend(title='Ocultas',\n",
        "#            loc=(1.03, 0.76));"
      ],
      "metadata": {
        "id": "U3fTqqKAL68E"
      },
      "execution_count": null,
      "outputs": []
    },
    {
      "cell_type": "code",
      "source": [
        "# sns.barplot(data=resultados_Adam.sort_values('Previsão'),\n",
        "#             x=resultados_Adam.index,\n",
        "#             y='Previsão',\n",
        "#             hue='Neurônios',\n",
        "#             palette=[(0.0000, 0.1492, 0.3537),\n",
        "#                      (0.4722, 0.4709, 0.4665),\n",
        "#                      (0.9860, 0.8862, 0.2807)])\n",
        "\n",
        "# plt.axhline(y=(prever + 10), color='goldenrod')\n",
        "\n",
        "# plt.title('Previsões - Otimizador Adam')\n",
        "# plt.ylabel('')\n",
        "\n",
        "# plt.xticks([])\n",
        "# plt.yticks(np.arange(0, 35, 3))\n",
        "\n",
        "# plt.legend(title='Neurônios',\n",
        "#            loc=(1.03, 0.76));"
      ],
      "metadata": {
        "id": "fitciTE8ktsj"
      },
      "execution_count": null,
      "outputs": []
    },
    {
      "cell_type": "code",
      "source": [
        "# sns.barplot(data=resultados_Adam.sort_values('Previsão'),\n",
        "#             x=resultados_Adam.index,\n",
        "#             y='Previsão',\n",
        "#             hue='Perda',\n",
        "#             palette=[(0.0000, 0.1492, 0.3537),\n",
        "#                      (0.9860, 0.8862, 0.2807)])\n",
        "\n",
        "# plt.axhline(y=(prever + 10), color='goldenrod')\n",
        "\n",
        "# plt.title('Previsões - Otimizador Adam')\n",
        "# plt.ylabel('')\n",
        "\n",
        "# plt.xticks([])\n",
        "# plt.yticks(np.arange(0, 35, 3))\n",
        "\n",
        "# plt.legend(title='Perda',\n",
        "#            loc=(1.03, 0.76));"
      ],
      "metadata": {
        "id": "ThmTiwQcMFz4"
      },
      "execution_count": null,
      "outputs": []
    },
    {
      "cell_type": "code",
      "source": [
        "# sns.barplot(data=resultados_Adam.sort_values('Previsão'),\n",
        "#             x=resultados_Adam.index,\n",
        "#             y='Previsão',\n",
        "#             hue='Aprendizagem',\n",
        "#             palette=[(0.0000, 0.1492, 0.3537),\n",
        "#                      (0.4722, 0.4709, 0.4665),\n",
        "#                      (0.9860, 0.8862, 0.2807)])\n",
        "\n",
        "# plt.axhline(y=(prever + 10), color='goldenrod')\n",
        "\n",
        "# plt.title('Previsões - Otimizador Adam')\n",
        "# plt.ylabel('')\n",
        "\n",
        "# plt.xticks([])\n",
        "# plt.yticks(np.arange(0, 35, 3))\n",
        "\n",
        "# plt.legend(title='Aprendizagem',\n",
        "#            loc=(1.03, 0.76));"
      ],
      "metadata": {
        "id": "LXLPe_GwA-ow"
      },
      "execution_count": null,
      "outputs": []
    },
    {
      "cell_type": "code",
      "source": [
        "# sns.barplot(data=resultados_Adam.sort_values('Previsão'),\n",
        "#             x=resultados_Adam.index,\n",
        "#             y='Previsão',\n",
        "#             hue='Iterações',\n",
        "#             palette=[(0.0000, 0.1492, 0.3537),\n",
        "#                      (0.4722, 0.4709, 0.4665),\n",
        "#                      (0.9860, 0.8862, 0.2807)])\n",
        "\n",
        "# plt.axhline(y=(prever + 10), color='goldenrod')\n",
        "\n",
        "# plt.title('Previsões - Otimizador Adam')\n",
        "# plt.ylabel('')\n",
        "\n",
        "# plt.xticks([])\n",
        "# plt.yticks(np.arange(0, 35, 3))\n",
        "\n",
        "# plt.legend(title='Iterações',\n",
        "#            loc=(1.03, 0.76));"
      ],
      "metadata": {
        "id": "Ig7gPQR4EqPQ"
      },
      "execution_count": null,
      "outputs": []
    },
    {
      "cell_type": "markdown",
      "source": [
        "## Validação"
      ],
      "metadata": {
        "id": "9Z2YZkCRhwrn"
      }
    },
    {
      "cell_type": "markdown",
      "source": [
        "### Novos dados"
      ],
      "metadata": {
        "id": "GHuiSPogh063"
      }
    },
    {
      "cell_type": "code",
      "source": [
        "# # Quantidade maior de dados para teste\n",
        "# X = tf.range(-400., 400., 4)\n",
        "# y = X + 10\n",
        "\n",
        "# # X, y"
      ],
      "metadata": {
        "id": "1rT6WUy2h6tX"
      },
      "execution_count": null,
      "outputs": []
    },
    {
      "cell_type": "code",
      "source": [
        "# # X_train, X_test, y_train, y_test = train_test_split(X, y, test_size=0.2, random_state=seed)\n",
        "\n",
        "# # Lista de índices embaralhados\n",
        "# indices = tf.random.shuffle(tf.range(tf.size(X)))\n",
        "\n",
        "# # Quantidade de dados de treino (80% do total)\n",
        "# n_treino = tf.cast(tf.math.ceil(tf.multiply(tf.cast(tf.size(X), dtype=tf.float32), 0.8)), dtype=tf.int32)\n",
        "\n",
        "# # Dados de treino obtidos dos índices embaralhados do início até o limite n_treino\n",
        "# X_train = tf.gather(X, indices)[:n_treino]\n",
        "# y_train = tf.gather(y, indices)[:n_treino]\n",
        "\n",
        "# # Dados de teste obtidos dos índices embaralhados do limite n_treino até o fim\n",
        "# X_test = tf.gather(X, indices)[n_treino:]\n",
        "# y_test = tf.gather(y, indices)[n_treino:]\n",
        "\n",
        "# # X_train, X_test, y_train, y_test"
      ],
      "metadata": {
        "id": "nhTgyDITE1yg"
      },
      "execution_count": null,
      "outputs": []
    },
    {
      "cell_type": "markdown",
      "source": [
        "### Treino do modelo"
      ],
      "metadata": {
        "id": "i-JYnlntH2uj"
      }
    },
    {
      "cell_type": "code",
      "source": [
        "# model = tf.keras.Sequential()\n",
        "\n",
        "# for l in range(3):\n",
        "#     model.add(tf.keras.layers.Dense(100, activation='relu'))\n",
        "\n",
        "# model.add(tf.keras.layers.Dense(1))\n",
        "\n",
        "# model.compile(loss=tf.keras.losses.mse,\n",
        "#               optimizer=tf.keras.optimizers.Adam(learning_rate=0.01),\n",
        "#               metrics=tf.keras.losses.mse)\n",
        "\n",
        "# model.fit(X_train[..., tf.newaxis], y_train, 100, verbose=0)"
      ],
      "metadata": {
        "id": "sdmQ6eznh_LY"
      },
      "execution_count": null,
      "outputs": []
    },
    {
      "cell_type": "markdown",
      "source": [
        "### Resumo das camadas"
      ],
      "metadata": {
        "id": "20qlQggBIuws"
      }
    },
    {
      "cell_type": "code",
      "source": [
        "# model.summary()"
      ],
      "metadata": {
        "id": "pUGSj8t2IX8s"
      },
      "execution_count": null,
      "outputs": []
    },
    {
      "cell_type": "code",
      "source": [
        "# from tensorflow.keras.utils import plot_model\n",
        "\n",
        "# plot_model(model=model, show_shapes=True)"
      ],
      "metadata": {
        "id": "IYlqnjXLbcnY"
      },
      "execution_count": null,
      "outputs": []
    },
    {
      "cell_type": "markdown",
      "source": [
        "### Teste do modelo"
      ],
      "metadata": {
        "id": "ai62pcSqIxCE"
      }
    },
    {
      "cell_type": "code",
      "source": [
        "# X_test, y_test"
      ],
      "metadata": {
        "id": "KmDzRYttIOhr"
      },
      "execution_count": null,
      "outputs": []
    },
    {
      "cell_type": "code",
      "source": [
        "# y_pred = model.predict(X_test)\n",
        "# y_pred = tf.squeeze(y_pred)\n",
        "# # y_pred"
      ],
      "metadata": {
        "id": "QplnxC8TINCc"
      },
      "execution_count": null,
      "outputs": []
    },
    {
      "cell_type": "code",
      "source": [
        "# # Dados de treino em verde\n",
        "# sns.scatterplot(x=X_train, y=y_train, color='green', alpha=0.5, label='Treino')\n",
        "\n",
        "# # Dados de teste em azul\n",
        "# sns.scatterplot(x=X_test, y=y_test, color='blue', label='Teste')\n",
        "\n",
        "# # Dados de previstos em vermelho\n",
        "# sns.scatterplot(x=X_test, y=y_pred, color='red', label='Previsão')\n",
        "\n",
        "# plt.title('Teste de modelo')\n",
        "\n",
        "# plt.xticks(tf.range(-400, 450, 50))\n",
        "# plt.yticks(tf.range(-400, 450, 50))\n",
        "\n",
        "# plt.legend(frameon=True, facecolor='white', handlelength=0.8);"
      ],
      "metadata": {
        "id": "UbdPMCyPYsgr"
      },
      "execution_count": null,
      "outputs": []
    },
    {
      "cell_type": "markdown",
      "source": [
        "### Verificar o erro do modelo"
      ],
      "metadata": {
        "id": "6f-Mw8ECvhjS"
      }
    },
    {
      "cell_type": "code",
      "source": [
        "# # Verificar loss e metric do modelo\n",
        "# model.evaluate(X_test, y_test)"
      ],
      "metadata": {
        "id": "huJ-h9I7as8d"
      },
      "execution_count": null,
      "outputs": []
    },
    {
      "cell_type": "code",
      "source": [
        "# # Mean squared error\n",
        "# # tf.keras.losses.mse(y_test, y_pred)\n",
        "# tf.metrics.mean_squared_error(y_test, y_pred)"
      ],
      "metadata": {
        "id": "q0NdmgpXuWQW"
      },
      "execution_count": null,
      "outputs": []
    },
    {
      "cell_type": "code",
      "source": [
        "# # Mean absolute error\n",
        "# # tf.keras.losses.mae(y_test, y_pred)\n",
        "# tf.metrics.mean_absolute_error(y_test, y_pred)"
      ],
      "metadata": {
        "id": "anPfPHr5wN9N"
      },
      "execution_count": null,
      "outputs": []
    },
    {
      "cell_type": "markdown",
      "source": [
        "## Salvar o modelo"
      ],
      "metadata": {
        "id": "So9IYsZnwUd2"
      }
    },
    {
      "cell_type": "code",
      "source": [
        "# Formato SavedModel\n",
        "# model.save('modelo_SavedModel')"
      ],
      "metadata": {
        "id": "Z-uWEDl6wa0G"
      },
      "execution_count": null,
      "outputs": []
    },
    {
      "cell_type": "code",
      "source": [
        "# Formato HDF5\n",
        "# model.save('modelo_HDF5.h5')"
      ],
      "metadata": {
        "id": "y0Vg7CJ0gzbs"
      },
      "execution_count": null,
      "outputs": []
    },
    {
      "cell_type": "markdown",
      "source": [
        "## Carregar o modelo"
      ],
      "metadata": {
        "id": "gBU9DF8ziQ3S"
      }
    },
    {
      "cell_type": "code",
      "source": [
        "# # Formato SavedModel\n",
        "# model_loaded = tf.keras.models.load_model('modelo_SavedModel')\n",
        "# model_loaded.summary()"
      ],
      "metadata": {
        "id": "8t9kAVI_i-S8"
      },
      "execution_count": null,
      "outputs": []
    },
    {
      "cell_type": "code",
      "source": [
        "# Formato HDF5\n",
        "# model_loaded = tf.keras.models.load_model('modelo_HDF5.h5')\n",
        "# model_loaded.summary()"
      ],
      "metadata": {
        "id": "op1XZ7kUkmEy"
      },
      "execution_count": null,
      "outputs": []
    },
    {
      "cell_type": "code",
      "source": [
        "# y_pred_loaded = model_loaded.predict(X_test)\n",
        "# y_pred_loaded = tf.squeeze(y_pred_loaded)\n",
        "\n",
        "# sns.scatterplot(x=X_train, y=y_train, color='green', alpha=0.5, label='Treino')\n",
        "# sns.scatterplot(x=X_test, y=y_test, color='blue', label='Teste')\n",
        "# sns.scatterplot(x=X_test, y=y_pred_loaded, color='red', label='Previsão')\n",
        "\n",
        "# plt.title('Teste de modelo - Carregado')\n",
        "\n",
        "# plt.xticks(tf.range(-400, 450, 50))\n",
        "# plt.yticks(tf.range(-400, 450, 50))\n",
        "\n",
        "# plt.legend(frameon=True, facecolor='white', handlelength=0.8);"
      ],
      "metadata": {
        "id": "c5yh5ZCfkxXr"
      },
      "execution_count": null,
      "outputs": []
    },
    {
      "cell_type": "markdown",
      "source": [
        "## Modelando uma situação mais realista\n",
        "\n",
        "Medical Cost Personal Datasets\n",
        "\n",
        "https://www.kaggle.com/datasets/mirichoi0218/insurance\n",
        "\n",
        "* age: age of primary beneficiary\n",
        "* sex: insurance contractor gender, female, male\n",
        "* bmi: Body mass index, providing an understanding of body, weights that are relatively high or low relative to height, objective index of body weight (kg / m ^ 2) using the ratio of height to weight, ideally 18.5 to 24.9\n",
        "* children: Number of children covered by health insurance / Number of dependents\n",
        "* smoker: Smoking\n",
        "* region: the beneficiary's residential area in the US, northeast, southeast, southwest, northwest.\n",
        "* charges: Individual medical costs billed by health insurance"
      ],
      "metadata": {
        "id": "gbrEg6Hllamy"
      }
    },
    {
      "cell_type": "code",
      "source": [
        "seguros = pd.read_csv('https://raw.githubusercontent.com/stedy/Machine-Learning-with-R-datasets/master/insurance.csv')"
      ],
      "metadata": {
        "id": "4y-fsqMRqtZ0"
      },
      "execution_count": null,
      "outputs": []
    },
    {
      "cell_type": "markdown",
      "source": [
        "### Convertendo dados"
      ],
      "metadata": {
        "id": "ojX3PXL_5p6I"
      }
    },
    {
      "cell_type": "code",
      "source": [
        "# Idade (18-64) para uint8\n",
        "seguros['age'] = seguros['age'].astype('uint8')\n",
        "\n",
        "# Filhos (0-5) para uint8\n",
        "seguros['children'] = seguros['children'].astype('uint8')\n",
        "\n",
        "# One-hot para todo o DataFrame\n",
        "# drop_first=True - remove o primeiro dummy de cada feature\n",
        "seguros = pd.get_dummies(data=seguros, drop_first=True)"
      ],
      "metadata": {
        "id": "qhfZgPC2vod6"
      },
      "execution_count": null,
      "outputs": []
    },
    {
      "cell_type": "code",
      "source": [
        "seguros.info()"
      ],
      "metadata": {
        "colab": {
          "base_uri": "https://localhost:8080/"
        },
        "id": "ZAaCIsIC14MK",
        "outputId": "080be4ae-5df4-4e2e-828d-ad6a32728e51"
      },
      "execution_count": null,
      "outputs": [
        {
          "output_type": "stream",
          "name": "stdout",
          "text": [
            "<class 'pandas.core.frame.DataFrame'>\n",
            "RangeIndex: 1338 entries, 0 to 1337\n",
            "Data columns (total 9 columns):\n",
            " #   Column            Non-Null Count  Dtype  \n",
            "---  ------            --------------  -----  \n",
            " 0   age               1338 non-null   uint8  \n",
            " 1   bmi               1338 non-null   float64\n",
            " 2   children          1338 non-null   uint8  \n",
            " 3   charges           1338 non-null   float64\n",
            " 4   sex_male          1338 non-null   uint8  \n",
            " 5   smoker_yes        1338 non-null   uint8  \n",
            " 6   region_northwest  1338 non-null   uint8  \n",
            " 7   region_southeast  1338 non-null   uint8  \n",
            " 8   region_southwest  1338 non-null   uint8  \n",
            "dtypes: float64(2), uint8(7)\n",
            "memory usage: 30.2 KB\n"
          ]
        }
      ]
    },
    {
      "cell_type": "code",
      "source": [
        "seguros['charges'].describe()"
      ],
      "metadata": {
        "colab": {
          "base_uri": "https://localhost:8080/"
        },
        "id": "Ahwhunfr-Au-",
        "outputId": "123da8be-f50e-420e-ff8a-f48cc6bb2470"
      },
      "execution_count": null,
      "outputs": [
        {
          "output_type": "execute_result",
          "data": {
            "text/plain": [
              "count     1338.000000\n",
              "mean     13270.422265\n",
              "std      12110.011237\n",
              "min       1121.873900\n",
              "25%       4740.287150\n",
              "50%       9382.033000\n",
              "75%      16639.912515\n",
              "max      63770.428010\n",
              "Name: charges, dtype: float64"
            ]
          },
          "metadata": {},
          "execution_count": 71
        }
      ]
    },
    {
      "cell_type": "markdown",
      "source": [
        "### Separando dados de treino e teste"
      ],
      "metadata": {
        "id": "WggW3Xdd6ZR_"
      }
    },
    {
      "cell_type": "code",
      "source": [
        "X = seguros.drop('charges', axis=1)\n",
        "y = seguros['charges']"
      ],
      "metadata": {
        "id": "mG5z_6350-C7"
      },
      "execution_count": null,
      "outputs": []
    },
    {
      "cell_type": "code",
      "source": [
        "from sklearn.model_selection import train_test_split\n",
        "\n",
        "X_train, X_test, y_train, y_test = train_test_split(X, y, test_size=0.2, random_state=seed)"
      ],
      "metadata": {
        "id": "y4ASmDHc1uVi"
      },
      "execution_count": null,
      "outputs": []
    },
    {
      "cell_type": "markdown",
      "source": [
        "### Escalonando dados"
      ],
      "metadata": {
        "id": "yhcRktCV3zrB"
      }
    },
    {
      "cell_type": "code",
      "source": [
        "# from sklearn.preprocessing import StandardScaler\n",
        "\n",
        "# scaler = StandardScaler()\n",
        "\n",
        "# X_train = scaler.fit_transform(X_train)\n",
        "# X_test = scaler.transform(X_test)"
      ],
      "metadata": {
        "id": "gLsaRuZc34ha"
      },
      "execution_count": null,
      "outputs": []
    },
    {
      "cell_type": "markdown",
      "source": [
        "### Modelos scikit-learn\n",
        "\n",
        "https://scikit-learn.org/"
      ],
      "metadata": {
        "id": "DRgIV_2Zvahz"
      }
    },
    {
      "cell_type": "markdown",
      "source": [
        "#### Regressão Linear\n",
        "\n",
        "https://scikit-learn.org/stable/modules/generated/sklearn.linear_model.LinearRegression.html"
      ],
      "metadata": {
        "id": "2Hsoj-Gd6hOz"
      }
    },
    {
      "cell_type": "code",
      "source": [
        "# from sklearn.linear_model import LinearRegression\n",
        "\n",
        "# lir = LinearRegression()\n",
        "\n",
        "# lir.fit(X_train, y_train)\n",
        "\n",
        "# y_pred_lir = lir.predict(X_test)\n",
        "\n",
        "# tf.metrics.mean_absolute_error(y_test, y_pred_lir), tf.sqrt(tf.metrics.mean_squared_error(y_test, y_pred_lir))"
      ],
      "metadata": {
        "id": "3Oz7VGbV3crD"
      },
      "execution_count": null,
      "outputs": []
    },
    {
      "cell_type": "markdown",
      "source": [
        "#### Support Vector Machines\n",
        "\n",
        "https://scikit-learn.org/stable/modules/generated/sklearn.svm.SVR.html"
      ],
      "metadata": {
        "id": "AJyW2j8i8I6j"
      }
    },
    {
      "cell_type": "code",
      "source": [
        "# from sklearn.svm import SVR\n",
        "\n",
        "# svr = SVR()\n",
        "\n",
        "# svr.fit(X_train, y_train)\n",
        "\n",
        "# y_pred_svr = svr.predict(X_test)\n",
        "\n",
        "# tf.metrics.mean_absolute_error(y_test, y_pred_svr), tf.sqrt(tf.metrics.mean_squared_error(y_test, y_pred_svr))"
      ],
      "metadata": {
        "id": "0_YGzIcyt96-"
      },
      "execution_count": null,
      "outputs": []
    },
    {
      "cell_type": "markdown",
      "source": [
        "#### Random Forest\n",
        "\n",
        "https://scikit-learn.org/stable/modules/generated/sklearn.ensemble.RandomForestRegressor.html"
      ],
      "metadata": {
        "id": "3hR3WAQKu2Br"
      }
    },
    {
      "cell_type": "code",
      "source": [
        "# from sklearn.ensemble import RandomForestRegressor\n",
        "\n",
        "# rfr = RandomForestRegressor()\n",
        "\n",
        "# rfr.fit(X_train, y_train)\n",
        "\n",
        "# y_pred_rfr = rfr.predict(X_test)\n",
        "\n",
        "# tf.metrics.mean_absolute_error(y_test, y_pred_rfr), tf.sqrt(tf.metrics.mean_squared_error(y_test, y_pred_rfr))"
      ],
      "metadata": {
        "id": "QYfi993-vJRW"
      },
      "execution_count": null,
      "outputs": []
    },
    {
      "cell_type": "markdown",
      "source": [
        "#### Neural Network\n",
        "\n",
        "https://scikit-learn.org/stable/modules/generated/sklearn.neural_network.MLPRegressor.html"
      ],
      "metadata": {
        "id": "1hA7CL7XvtV1"
      }
    },
    {
      "cell_type": "code",
      "source": [
        "# from sklearn.neural_network import MLPRegressor\n",
        "\n",
        "# mpr = MLPRegressor(hidden_layer_sizes=[100] * 5,\n",
        "#                    activation='relu',\n",
        "#                    solver='adam',\n",
        "#                    learning_rate='constant',\n",
        "#                    learning_rate_init=0.01,\n",
        "#                    max_iter=200)\n",
        "\n",
        "# mpr.fit(X_train, y_train)\n",
        "\n",
        "# y_pred_mpr = mpr.predict(X_test)\n",
        "\n",
        "# tf.metrics.mean_absolute_error(y_test, y_pred_mpr), tf.sqrt(tf.metrics.mean_squared_error(y_test, y_pred_mpr))"
      ],
      "metadata": {
        "id": "SyzSMUUBxGnG"
      },
      "execution_count": null,
      "outputs": []
    },
    {
      "cell_type": "markdown",
      "source": [
        "### Modelo TensorFlow"
      ],
      "metadata": {
        "id": "_2J4wN_-yQ4u"
      }
    },
    {
      "cell_type": "code",
      "source": [
        "tfr = tf.keras.Sequential()\n",
        "\n",
        "for l in tf.range(5):\n",
        "    tfr.add(tf.keras.layers.Dense(100, activation='relu'))\n",
        "\n",
        "tfr.add(tf.keras.layers.Dense(1))\n",
        "\n",
        "tfr.compile(loss=tf.keras.losses.mae,\n",
        "            optimizer=tf.keras.optimizers.Adam(learning_rate=0.01),\n",
        "            metrics=tf.keras.metrics.mae)\n",
        "\n",
        "hist_tfr = tfr.fit(X_train, y_train, epochs=200, verbose=0)\n",
        "\n",
        "y_pred_tfr = tfr.predict(X_test, verbose=0)\n",
        "y_pred_tfr = tf.squeeze(y_pred_tfr)\n",
        "\n",
        "tf.metrics.mean_absolute_error(y_test, y_pred_tfr), tf.sqrt(tf.metrics.mean_squared_error(y_test, y_pred_tfr))"
      ],
      "metadata": {
        "colab": {
          "base_uri": "https://localhost:8080/"
        },
        "id": "hRXiHG-NF0Iy",
        "outputId": "7acedf19-f20e-4426-d64b-388093674ef0"
      },
      "execution_count": null,
      "outputs": [
        {
          "output_type": "execute_result",
          "data": {
            "text/plain": [
              "(<tf.Tensor: shape=(), dtype=float32, numpy=1303.4297>,\n",
              " <tf.Tensor: shape=(), dtype=float32, numpy=3778.3174>)"
            ]
          },
          "metadata": {},
          "execution_count": 110
        }
      ]
    },
    {
      "cell_type": "code",
      "source": [
        "sns.lineplot(data=hist_tfr.history['loss'])\n",
        "\n",
        "plt.title('Histórico de perda por iteração')\n",
        "plt.xlabel('Iteração')\n",
        "plt.ylabel('Perda')\n",
        "\n",
        "zoom = plt.axes(arg=[0.57, 0.53, 0.3, 0.3],\n",
        "                xlim=[180, 200],\n",
        "                ylim=[1500, 2500])\n",
        "\n",
        "sns.lineplot(data=hist_tfr.history['loss'], ax=zoom);"
      ],
      "metadata": {
        "id": "-1CnQL__HsVY",
        "colab": {
          "base_uri": "https://localhost:8080/",
          "height": 473
        },
        "outputId": "2b9249a8-a5b9-4158-e618-08970c8c7af8"
      },
      "execution_count": null,
      "outputs": [
        {
          "output_type": "display_data",
          "data": {
            "text/plain": [
              "<Figure size 800x500 with 2 Axes>"
            ],
            "image/png": "[encoded data removed]"
          },
          "metadata": {}
        }
      ]
    },
    {
      "cell_type": "code",
      "source": [],
      "metadata": {
        "id": "EiskkO4gfnkV"
      },
      "execution_count": null,
      "outputs": []
    }
  ]
}