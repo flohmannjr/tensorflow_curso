{
  "nbformat": 4,
  "nbformat_minor": 0,
  "metadata": {
    "colab": {
      "provenance": [],
      "toc_visible": true,
      "authorship_tag": "ABX9TyNNMBAafdCyxBYzfBZlNMaS",
      "include_colab_link": true
    },
    "kernelspec": {
      "name": "python3",
      "display_name": "Python 3"
    },
    "language_info": {
      "name": "python"
    }
  },
  "cells": [
    {
      "cell_type": "markdown",
      "metadata": {
        "id": "view-in-github",
        "colab_type": "text"
      },
      "source": [
        "<a href=\"https://colab.research.google.com/github/flohmannjr/tensorflow_curso/blob/main/TensorFlow_TL2_Fine_tuning.ipynb\" target=\"_parent\"><img src=\"https://colab.research.google.com/assets/colab-badge.svg\" alt=\"Open In Colab\"/></a>"
      ]
    },
    {
      "cell_type": "markdown",
      "source": [
        "# TensorFlow Transfer Learning Fine-tuning"
      ],
      "metadata": {
        "id": "HymbYfRKbl-S"
      }
    },
    {
      "cell_type": "code",
      "source": [
        "import tensorflow as tf\n",
        "import tensorflow_hub as hub\n",
        "\n",
        "import numpy as np\n",
        "\n",
        "import matplotlib.pyplot as plt\n",
        "import seaborn as sns\n",
        "\n",
        "import pathlib\n",
        "import random\n",
        "\n",
        "# from tensorflow.keras import Sequential\n",
        "# from tensorflow.keras.layers import Dense\n",
        "from tensorflow.keras.optimizers import Adam\n",
        "from tensorflow.keras.preprocessing.image import ImageDataGenerator"
      ],
      "metadata": {
        "id": "ViK8Ekhcb21W"
      },
      "execution_count": 1,
      "outputs": []
    },
    {
      "cell_type": "markdown",
      "source": [
        "## Setup"
      ],
      "metadata": {
        "id": "fXO9wODfdMbJ"
      }
    },
    {
      "cell_type": "code",
      "source": [
        "plt.rcParams['figure.figsize'] = [8, 5]\n",
        "plt.rcParams['figure.dpi'] = 100\n",
        "plt.style.use('seaborn-darkgrid')"
      ],
      "metadata": {
        "id": "2GxsFMvJdOg1"
      },
      "execution_count": 2,
      "outputs": []
    },
    {
      "cell_type": "markdown",
      "source": [
        "### Constantes"
      ],
      "metadata": {
        "id": "I0D9JDSFdPF1"
      }
    },
    {
      "cell_type": "code",
      "source": [
        "SEMENTE = 2008193\n",
        "\n",
        "DIR_TREINO = '10_food_classes_10_percent/train'\n",
        "DIR_TESTE = '10_food_classes_10_percent/test'\n",
        "\n",
        "DIR_TREINO_COMPLETO = '10_food_classes_all_data/train'\n",
        "\n",
        "DIR_TREINO_1 = '10_food_classes_1_percent/train'\n",
        "DIR_TESTE_1 = '10_food_classes_1_percent/test'\n",
        "\n",
        "TAMANHO_LOTE = 32\n",
        "FORMATO_IMAGEM = (224, 224)\n",
        "MODO_CLASSE = 'categorical'\n",
        "\n",
        "FORMATO_ENTRADA = FORMATO_IMAGEM + (3,)\n",
        "ATIVACAO = 'softmax'\n",
        "\n",
        "PERDA = 'categorical_crossentropy'\n",
        "OTIMIZADOR = Adam()\n",
        "METRICAS = ['accuracy']"
      ],
      "metadata": {
        "id": "xodNb0G7dR31"
      },
      "execution_count": 3,
      "outputs": []
    },
    {
      "cell_type": "markdown",
      "source": [
        "### Funções"
      ],
      "metadata": {
        "id": "SaLpKic4eLqm"
      }
    },
    {
      "cell_type": "code",
      "source": [
        "!wget https://raw.githubusercontent.com/flohmannjr/tensorflow_curso/main/funcoes.py"
      ],
      "metadata": {
        "colab": {
          "base_uri": "https://localhost:8080/"
        },
        "id": "9IaUvjWXuFct",
        "outputId": "56190456-507e-4787-cefe-ce2a4002f7d5"
      },
      "execution_count": 4,
      "outputs": [
        {
          "output_type": "stream",
          "name": "stdout",
          "text": [
            "--2023-01-22 00:29:12--  https://raw.githubusercontent.com/flohmannjr/tensorflow_curso/main/funcoes.py\n",
            "Resolving raw.githubusercontent.com (raw.githubusercontent.com)... 185.199.111.133, 185.199.108.133, 185.199.110.133, ...\n",
            "Connecting to raw.githubusercontent.com (raw.githubusercontent.com)|185.199.111.133|:443... connected.\n",
            "HTTP request sent, awaiting response... 200 OK\n",
            "Length: 4041 (3.9K) [text/plain]\n",
            "Saving to: ‘funcoes.py’\n",
            "\n",
            "\rfuncoes.py            0%[                    ]       0  --.-KB/s               \rfuncoes.py          100%[===================>]   3.95K  --.-KB/s    in 0s      \n",
            "\n",
            "2023-01-22 00:29:12 (53.4 MB/s) - ‘funcoes.py’ saved [4041/4041]\n",
            "\n"
          ]
        }
      ]
    },
    {
      "cell_type": "code",
      "source": [
        "from funcoes import criar_callback_tensorboard, grafico_perda_precisao_por_iteracao, unzip_data, walk_through_dir"
      ],
      "metadata": {
        "id": "77XNzG6C1GMs"
      },
      "execution_count": 5,
      "outputs": []
    },
    {
      "cell_type": "markdown",
      "source": [
        "## Dados"
      ],
      "metadata": {
        "id": "es4ut6FFefgF"
      }
    },
    {
      "cell_type": "code",
      "source": [],
      "metadata": {
        "id": "9Zd7SYfVhW-l"
      },
      "execution_count": 5,
      "outputs": []
    }
  ]
}