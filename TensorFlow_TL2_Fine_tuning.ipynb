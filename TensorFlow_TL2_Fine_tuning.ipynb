{
  "nbformat": 4,
  "nbformat_minor": 0,
  "metadata": {
    "colab": {
      "provenance": [],
      "toc_visible": true,
      "authorship_tag": "ABX9TyOVejaV/41g1jNlcfxJt99+",
      "include_colab_link": true
    },
    "kernelspec": {
      "name": "python3",
      "display_name": "Python 3"
    },
    "language_info": {
      "name": "python"
    }
  },
  "cells": [
    {
      "cell_type": "markdown",
      "metadata": {
        "id": "view-in-github",
        "colab_type": "text"
      },
      "source": [
        "<a href=\"https://colab.research.google.com/github/flohmannjr/tensorflow_curso/blob/main/TensorFlow_TL2_Fine_tuning.ipynb\" target=\"_parent\"><img src=\"https://colab.research.google.com/assets/colab-badge.svg\" alt=\"Open In Colab\"/></a>"
      ]
    },
    {
      "cell_type": "markdown",
      "source": [
        "# TensorFlow Transfer Learning Fine-tuning"
      ],
      "metadata": {
        "id": "HymbYfRKbl-S"
      }
    },
    {
      "cell_type": "code",
      "source": [
        "import tensorflow as tf\n",
        "import tensorflow_hub as hub\n",
        "\n",
        "# import numpy as np\n",
        "\n",
        "import matplotlib.pyplot as plt\n",
        "import seaborn as sns\n",
        "\n",
        "# import random\n",
        "\n",
        "# from tensorflow.keras import Sequential\n",
        "# from tensorflow.keras.layers import Dense\n",
        "from tensorflow.keras.optimizers import Adam\n",
        "from tensorflow.keras.utils import image_dataset_from_directory"
      ],
      "metadata": {
        "id": "ViK8Ekhcb21W"
      },
      "execution_count": 1,
      "outputs": []
    },
    {
      "cell_type": "markdown",
      "source": [
        "## Setup"
      ],
      "metadata": {
        "id": "fXO9wODfdMbJ"
      }
    },
    {
      "cell_type": "code",
      "source": [
        "plt.rcParams['figure.figsize'] = [8, 5]\n",
        "plt.rcParams['figure.dpi'] = 100\n",
        "plt.style.use('seaborn-darkgrid')"
      ],
      "metadata": {
        "id": "2GxsFMvJdOg1"
      },
      "execution_count": 2,
      "outputs": []
    },
    {
      "cell_type": "markdown",
      "source": [
        "### Constantes"
      ],
      "metadata": {
        "id": "I0D9JDSFdPF1"
      }
    },
    {
      "cell_type": "code",
      "source": [
        "SEMENTE = 2008193\n",
        "\n",
        "DIR_TREINO    = '10_food_classes_all_data/train'\n",
        "DIR_TREINO_10 = '10_food_classes_10_percent/train'\n",
        "DIR_TREINO_1  = '10_food_classes_1_percent/train'\n",
        "DIR_TESTE     = '10_food_classes_all_data/test'\n",
        "\n",
        "TAMANHO_LOTE = 32\n",
        "FORMATO_IMAGEM = (224, 224)\n",
        "MODO_CLASSE = 'categorical'\n",
        "\n",
        "FORMATO_ENTRADA = FORMATO_IMAGEM + (3,)\n",
        "ATIVACAO = 'softmax'\n",
        "\n",
        "PERDA = 'categorical_crossentropy'\n",
        "METRICAS = ['accuracy']\n",
        "\n",
        "# OTIMIZADOR = 'Adam'\n",
        "# APRENDIZADO = 0.001"
      ],
      "metadata": {
        "id": "xodNb0G7dR31"
      },
      "execution_count": 3,
      "outputs": []
    },
    {
      "cell_type": "markdown",
      "source": [
        "### Funções"
      ],
      "metadata": {
        "id": "SaLpKic4eLqm"
      }
    },
    {
      "cell_type": "code",
      "source": [
        "!wget https://raw.githubusercontent.com/flohmannjr/tensorflow_curso/main/funcoes.py"
      ],
      "metadata": {
        "colab": {
          "base_uri": "https://localhost:8080/"
        },
        "id": "9IaUvjWXuFct",
        "outputId": "0756f63f-8732-4a8b-8606-b69adb21c81e"
      },
      "execution_count": 4,
      "outputs": [
        {
          "output_type": "stream",
          "name": "stdout",
          "text": [
            "--2023-01-22 12:41:48--  https://raw.githubusercontent.com/flohmannjr/tensorflow_curso/main/funcoes.py\n",
            "Resolving raw.githubusercontent.com (raw.githubusercontent.com)... 185.199.111.133, 185.199.108.133, 185.199.109.133, ...\n",
            "Connecting to raw.githubusercontent.com (raw.githubusercontent.com)|185.199.111.133|:443... connected.\n",
            "HTTP request sent, awaiting response... 200 OK\n",
            "Length: 4041 (3.9K) [text/plain]\n",
            "Saving to: ‘funcoes.py’\n",
            "\n",
            "\rfuncoes.py            0%[                    ]       0  --.-KB/s               \rfuncoes.py          100%[===================>]   3.95K  --.-KB/s    in 0s      \n",
            "\n",
            "2023-01-22 12:41:48 (46.6 MB/s) - ‘funcoes.py’ saved [4041/4041]\n",
            "\n"
          ]
        }
      ]
    },
    {
      "cell_type": "code",
      "source": [
        "from funcoes import criar_callback_tensorboard, grafico_perda_precisao_por_iteracao, unzip_data, walk_through_dir"
      ],
      "metadata": {
        "id": "77XNzG6C1GMs"
      },
      "execution_count": 5,
      "outputs": []
    },
    {
      "cell_type": "markdown",
      "source": [
        "## Dados"
      ],
      "metadata": {
        "id": "es4ut6FFefgF"
      }
    },
    {
      "cell_type": "code",
      "source": [
        "!wget https://storage.googleapis.com/ztm_tf_course/food_vision/10_food_classes_all_data.zip\n",
        "!wget https://storage.googleapis.com/ztm_tf_course/food_vision/10_food_classes_10_percent.zip\n",
        "!wget https://storage.googleapis.com/ztm_tf_course/food_vision/10_food_classes_1_percent.zip\n",
        "\n",
        "unzip_data('10_food_classes_all_data.zip')\n",
        "unzip_data('10_food_classes_10_percent.zip')\n",
        "unzip_data('10_food_classes_1_percent.zip')"
      ],
      "metadata": {
        "id": "S1EvsZqoecXZ"
      },
      "execution_count": null,
      "outputs": []
    },
    {
      "cell_type": "code",
      "source": [
        "# walk_through_dir('10_food_classes_all_data')"
      ],
      "metadata": {
        "id": "McZZZBuoGUtK"
      },
      "execution_count": 7,
      "outputs": []
    },
    {
      "cell_type": "markdown",
      "source": [
        "### Importando os dados e tranformando-os em lotes"
      ],
      "metadata": {
        "id": "HP6yBT_-IkiA"
      }
    },
    {
      "cell_type": "code",
      "source": [
        "dados_treino = image_dataset_from_directory(directory=DIR_TREINO,\n",
        "                                            batch_size=TAMANHO_LOTE,\n",
        "                                            image_size=FORMATO_IMAGEM,\n",
        "                                            label_mode=MODO_CLASSE,\n",
        "                                            seed=SEMENTE)\n",
        "\n",
        "dados_teste = image_dataset_from_directory(directory=DIR_TESTE,\n",
        "                                           batch_size=TAMANHO_LOTE,\n",
        "                                           image_size=FORMATO_IMAGEM,\n",
        "                                           label_mode=MODO_CLASSE,\n",
        "                                           seed=SEMENTE)\n",
        "\n",
        "dados_treino_10 = image_dataset_from_directory(directory=DIR_TREINO_10,\n",
        "                                               batch_size=TAMANHO_LOTE,\n",
        "                                               image_size=FORMATO_IMAGEM,\n",
        "                                               label_mode=MODO_CLASSE,\n",
        "                                               seed=SEMENTE)\n",
        "\n",
        "dados_treino_1 = image_dataset_from_directory(directory=DIR_TREINO_1,\n",
        "                                              batch_size=TAMANHO_LOTE,\n",
        "                                              image_size=FORMATO_IMAGEM,\n",
        "                                              label_mode=MODO_CLASSE,\n",
        "                                              seed=SEMENTE)"
      ],
      "metadata": {
        "id": "HRAYdJDSKYne"
      },
      "execution_count": null,
      "outputs": []
    },
    {
      "cell_type": "code",
      "source": [
        "# image_dataset_from_directory retorna um BatchDataset\n",
        "\n",
        "# O primeiro tensor contém as imagens. DADOS NÃO ESCALONADOS.\n",
        "# O tamanho do lote não está especificado, mesmo que tenha sido informado.\n",
        "# Os canais de cores estão definidos pelo parâmetro color_mode='rgb' (default).\n",
        "\n",
        "# O segundo tensor contém as classes em formato one-hot.\n",
        "\n",
        "dados_treino"
      ],
      "metadata": {
        "colab": {
          "base_uri": "https://localhost:8080/"
        },
        "id": "1xr8dvjRN82a",
        "outputId": "a99afb23-63c2-4835-c80d-dce10569eefc"
      },
      "execution_count": 11,
      "outputs": [
        {
          "output_type": "execute_result",
          "data": {
            "text/plain": [
              "<BatchDataset element_spec=(TensorSpec(shape=(None, 224, 224, 3), dtype=tf.float32, name=None), TensorSpec(shape=(None, 10), dtype=tf.float32, name=None))>"
            ]
          },
          "metadata": {},
          "execution_count": 11
        }
      ]
    },
    {
      "cell_type": "code",
      "source": [
        "rotulos = dados_treino.class_names\n",
        "# rotulos"
      ],
      "metadata": {
        "id": "BY_JtcolQgy3"
      },
      "execution_count": 12,
      "outputs": []
    },
    {
      "cell_type": "markdown",
      "source": [
        "### Criando modelo"
      ],
      "metadata": {
        "id": "qaD_zsz0Jsri"
      }
    },
    {
      "cell_type": "markdown",
      "source": [
        "Modelos pré-treinados: https://www.tensorflow.org/api_docs/python/tf/keras/applications"
      ],
      "metadata": {
        "id": "9Zd7SYfVhW-l"
      }
    },
    {
      "cell_type": "code",
      "source": [],
      "metadata": {
        "id": "ToUTEhQQIXIT"
      },
      "execution_count": 12,
      "outputs": []
    }
  ]
}