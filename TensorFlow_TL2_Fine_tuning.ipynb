{
  "nbformat": 4,
  "nbformat_minor": 0,
  "metadata": {
    "colab": {
      "provenance": [],
      "toc_visible": true,
      "authorship_tag": "ABX9TyPkjOAouUO9+hOrGsaa3728",
      "include_colab_link": true
    },
    "kernelspec": {
      "name": "python3",
      "display_name": "Python 3"
    },
    "language_info": {
      "name": "python"
    },
    "accelerator": "GPU",
    "gpuClass": "standard"
  },
  "cells": [
    {
      "cell_type": "markdown",
      "metadata": {
        "id": "view-in-github",
        "colab_type": "text"
      },
      "source": [
        "<a href=\"https://colab.research.google.com/github/flohmannjr/tensorflow_curso/blob/main/TensorFlow_TL2_Fine_tuning.ipynb\" target=\"_parent\"><img src=\"https://colab.research.google.com/assets/colab-badge.svg\" alt=\"Open In Colab\"/></a>"
      ]
    },
    {
      "cell_type": "markdown",
      "source": [
        "# TensorFlow Transfer Learning Fine-tuning"
      ],
      "metadata": {
        "id": "HymbYfRKbl-S"
      }
    },
    {
      "cell_type": "code",
      "source": [
        "import tensorflow as tf\n",
        "import tensorflow_hub as hub\n",
        "\n",
        "import matplotlib.pyplot as plt\n",
        "import seaborn as sns\n",
        "\n",
        "from tensorflow.keras import Model\n",
        "from tensorflow.keras.applications import EfficientNetB0\n",
        "from tensorflow.keras.layers import Input, GlobalAveragePooling2D, Dense\n",
        "from tensorflow.keras.optimizers import Adam\n",
        "from tensorflow.keras.utils import image_dataset_from_directory"
      ],
      "metadata": {
        "id": "ViK8Ekhcb21W"
      },
      "execution_count": 1,
      "outputs": []
    },
    {
      "cell_type": "markdown",
      "source": [
        "## Setup"
      ],
      "metadata": {
        "id": "fXO9wODfdMbJ"
      }
    },
    {
      "cell_type": "code",
      "source": [
        "plt.rcParams['figure.figsize'] = [8, 5]\n",
        "plt.rcParams['figure.dpi'] = 100\n",
        "plt.style.use('seaborn-darkgrid')"
      ],
      "metadata": {
        "id": "2GxsFMvJdOg1"
      },
      "execution_count": 2,
      "outputs": []
    },
    {
      "cell_type": "markdown",
      "source": [
        "### Constantes"
      ],
      "metadata": {
        "id": "I0D9JDSFdPF1"
      }
    },
    {
      "cell_type": "code",
      "source": [
        "SEMENTE = 2008193\n",
        "\n",
        "DIR_TREINO    = '10_food_classes_all_data/train'\n",
        "DIR_TREINO_10 = '10_food_classes_10_percent/train'\n",
        "DIR_TREINO_1  = '10_food_classes_1_percent/train'\n",
        "DIR_TESTE     = '10_food_classes_all_data/test'\n",
        "\n",
        "TAMANHO_LOTE = 32\n",
        "FORMATO_IMAGEM = (224, 224)\n",
        "MODO_CLASSE = 'categorical'\n",
        "\n",
        "FORMATO_ENTRADA = FORMATO_IMAGEM + (3,)\n",
        "ATIVACAO = 'softmax'\n",
        "\n",
        "PERDA = 'categorical_crossentropy'\n",
        "METRICAS = ['accuracy']\n",
        "\n",
        "# OTIMIZADOR = 'Adam'\n",
        "# APRENDIZADO = 0.001"
      ],
      "metadata": {
        "id": "xodNb0G7dR31"
      },
      "execution_count": 3,
      "outputs": []
    },
    {
      "cell_type": "markdown",
      "source": [
        "### Funções"
      ],
      "metadata": {
        "id": "SaLpKic4eLqm"
      }
    },
    {
      "cell_type": "code",
      "source": [
        "!wget https://raw.githubusercontent.com/flohmannjr/tensorflow_curso/main/funcoes.py"
      ],
      "metadata": {
        "colab": {
          "base_uri": "https://localhost:8080/"
        },
        "id": "9IaUvjWXuFct",
        "outputId": "b7eecbeb-879b-4efd-f883-e11c927b2084"
      },
      "execution_count": 4,
      "outputs": [
        {
          "output_type": "stream",
          "name": "stdout",
          "text": [
            "--2023-01-23 01:52:44--  https://raw.githubusercontent.com/flohmannjr/tensorflow_curso/main/funcoes.py\n",
            "Resolving raw.githubusercontent.com (raw.githubusercontent.com)... 185.199.108.133, 185.199.109.133, 185.199.110.133, ...\n",
            "Connecting to raw.githubusercontent.com (raw.githubusercontent.com)|185.199.108.133|:443... connected.\n",
            "HTTP request sent, awaiting response... 200 OK\n",
            "Length: 4049 (4.0K) [text/plain]\n",
            "Saving to: ‘funcoes.py’\n",
            "\n",
            "\rfuncoes.py            0%[                    ]       0  --.-KB/s               \rfuncoes.py          100%[===================>]   3.95K  --.-KB/s    in 0s      \n",
            "\n",
            "2023-01-23 01:52:44 (56.4 MB/s) - ‘funcoes.py’ saved [4049/4049]\n",
            "\n"
          ]
        }
      ]
    },
    {
      "cell_type": "code",
      "source": [
        "from funcoes import criar_callback_tensorboard, grafico_perda_precisao_por_iteracao, unzip_data, walk_through_dir"
      ],
      "metadata": {
        "id": "77XNzG6C1GMs"
      },
      "execution_count": 5,
      "outputs": []
    },
    {
      "cell_type": "markdown",
      "source": [
        "## Dados"
      ],
      "metadata": {
        "id": "es4ut6FFefgF"
      }
    },
    {
      "cell_type": "code",
      "source": [
        "!wget https://storage.googleapis.com/ztm_tf_course/food_vision/10_food_classes_all_data.zip\n",
        "!wget https://storage.googleapis.com/ztm_tf_course/food_vision/10_food_classes_10_percent.zip\n",
        "!wget https://storage.googleapis.com/ztm_tf_course/food_vision/10_food_classes_1_percent.zip\n",
        "\n",
        "unzip_data('10_food_classes_all_data.zip')\n",
        "unzip_data('10_food_classes_10_percent.zip')\n",
        "unzip_data('10_food_classes_1_percent.zip')"
      ],
      "metadata": {
        "colab": {
          "base_uri": "https://localhost:8080/"
        },
        "id": "S1EvsZqoecXZ",
        "outputId": "cda68325-8b6f-4f18-e20a-2732c3cd21a2"
      },
      "execution_count": 6,
      "outputs": [
        {
          "output_type": "stream",
          "name": "stdout",
          "text": [
            "--2023-01-23 01:52:45--  https://storage.googleapis.com/ztm_tf_course/food_vision/10_food_classes_all_data.zip\n",
            "Resolving storage.googleapis.com (storage.googleapis.com)... 173.194.211.128, 142.250.97.128, 142.251.107.128, ...\n",
            "Connecting to storage.googleapis.com (storage.googleapis.com)|173.194.211.128|:443... connected.\n",
            "HTTP request sent, awaiting response... 200 OK\n",
            "Length: 519183241 (495M) [application/zip]\n",
            "Saving to: ‘10_food_classes_all_data.zip’\n",
            "\n",
            "10_food_classes_all 100%[===================>] 495.13M   108MB/s    in 4.2s    \n",
            "\n",
            "2023-01-23 01:52:49 (117 MB/s) - ‘10_food_classes_all_data.zip’ saved [519183241/519183241]\n",
            "\n",
            "--2023-01-23 01:52:49--  https://storage.googleapis.com/ztm_tf_course/food_vision/10_food_classes_10_percent.zip\n",
            "Resolving storage.googleapis.com (storage.googleapis.com)... 173.194.211.128, 142.250.97.128, 142.251.107.128, ...\n",
            "Connecting to storage.googleapis.com (storage.googleapis.com)|173.194.211.128|:443... connected.\n",
            "HTTP request sent, awaiting response... 200 OK\n",
            "Length: 168546183 (161M) [application/zip]\n",
            "Saving to: ‘10_food_classes_10_percent.zip’\n",
            "\n",
            "10_food_classes_10_ 100%[===================>] 160.74M  69.0MB/s    in 2.3s    \n",
            "\n",
            "2023-01-23 01:52:52 (69.0 MB/s) - ‘10_food_classes_10_percent.zip’ saved [168546183/168546183]\n",
            "\n",
            "--2023-01-23 01:52:52--  https://storage.googleapis.com/ztm_tf_course/food_vision/10_food_classes_1_percent.zip\n",
            "Resolving storage.googleapis.com (storage.googleapis.com)... 173.194.211.128, 142.250.97.128, 142.251.107.128, ...\n",
            "Connecting to storage.googleapis.com (storage.googleapis.com)|173.194.211.128|:443... connected.\n",
            "HTTP request sent, awaiting response... 200 OK\n",
            "Length: 133612354 (127M) [application/zip]\n",
            "Saving to: ‘10_food_classes_1_percent.zip’\n",
            "\n",
            "10_food_classes_1_p 100%[===================>] 127.42M  86.0MB/s    in 1.5s    \n",
            "\n",
            "2023-01-23 01:52:53 (86.0 MB/s) - ‘10_food_classes_1_percent.zip’ saved [133612354/133612354]\n",
            "\n"
          ]
        }
      ]
    },
    {
      "cell_type": "code",
      "source": [
        "# walk_through_dir('10_food_classes_all_data')"
      ],
      "metadata": {
        "id": "McZZZBuoGUtK"
      },
      "execution_count": 7,
      "outputs": []
    },
    {
      "cell_type": "markdown",
      "source": [
        "### Importando os dados e tranformando-os em lotes"
      ],
      "metadata": {
        "id": "HP6yBT_-IkiA"
      }
    },
    {
      "cell_type": "code",
      "source": [
        "dados_treino = image_dataset_from_directory(directory=DIR_TREINO,\n",
        "                                            batch_size=TAMANHO_LOTE,\n",
        "                                            image_size=FORMATO_IMAGEM,\n",
        "                                            label_mode=MODO_CLASSE,\n",
        "                                            seed=SEMENTE)\n",
        "\n",
        "dados_teste = image_dataset_from_directory(directory=DIR_TESTE,\n",
        "                                           batch_size=TAMANHO_LOTE,\n",
        "                                           image_size=FORMATO_IMAGEM,\n",
        "                                           label_mode=MODO_CLASSE,\n",
        "                                           seed=SEMENTE)\n",
        "\n",
        "dados_treino_10 = image_dataset_from_directory(directory=DIR_TREINO_10,\n",
        "                                               batch_size=TAMANHO_LOTE,\n",
        "                                               image_size=FORMATO_IMAGEM,\n",
        "                                               label_mode=MODO_CLASSE,\n",
        "                                               seed=SEMENTE)\n",
        "\n",
        "dados_treino_1 = image_dataset_from_directory(directory=DIR_TREINO_1,\n",
        "                                              batch_size=TAMANHO_LOTE,\n",
        "                                              image_size=FORMATO_IMAGEM,\n",
        "                                              label_mode=MODO_CLASSE,\n",
        "                                              seed=SEMENTE)"
      ],
      "metadata": {
        "colab": {
          "base_uri": "https://localhost:8080/"
        },
        "id": "HRAYdJDSKYne",
        "outputId": "8f0d07a1-3bb8-49c3-9483-54af660ba25c"
      },
      "execution_count": 8,
      "outputs": [
        {
          "output_type": "stream",
          "name": "stdout",
          "text": [
            "Found 7500 files belonging to 10 classes.\n",
            "Found 2500 files belonging to 10 classes.\n",
            "Found 750 files belonging to 10 classes.\n",
            "Found 70 files belonging to 10 classes.\n"
          ]
        }
      ]
    },
    {
      "cell_type": "code",
      "source": [
        "# image_dataset_from_directory retorna um BatchDataset\n",
        "\n",
        "# O primeiro tensor contém as imagens. DADOS NÃO ESCALONADOS.\n",
        "# O tamanho do lote não está especificado, mesmo que tenha sido informado.\n",
        "# Os canais de cores estão definidos pelo parâmetro color_mode='rgb' (default).\n",
        "\n",
        "# O segundo tensor contém as classes em formato one-hot.\n",
        "\n",
        "dados_treino"
      ],
      "metadata": {
        "colab": {
          "base_uri": "https://localhost:8080/"
        },
        "id": "1xr8dvjRN82a",
        "outputId": "1b2a366c-7674-4545-8f3c-00e434148e94"
      },
      "execution_count": 9,
      "outputs": [
        {
          "output_type": "execute_result",
          "data": {
            "text/plain": [
              "<BatchDataset element_spec=(TensorSpec(shape=(None, 224, 224, 3), dtype=tf.float32, name=None), TensorSpec(shape=(None, 10), dtype=tf.float32, name=None))>"
            ]
          },
          "metadata": {},
          "execution_count": 9
        }
      ]
    },
    {
      "cell_type": "code",
      "source": [
        "rotulos = dados_treino.class_names\n",
        "# rotulos"
      ],
      "metadata": {
        "id": "BY_JtcolQgy3"
      },
      "execution_count": 10,
      "outputs": []
    },
    {
      "cell_type": "markdown",
      "source": [
        "### Criando modelo"
      ],
      "metadata": {
        "id": "qaD_zsz0Jsri"
      }
    },
    {
      "cell_type": "markdown",
      "source": [
        "The Functional API: https://www.tensorflow.org/guide/keras/functional\n",
        "\n",
        "Modelos pré-treinados: https://www.tensorflow.org/api_docs/python/tf/keras/applications"
      ],
      "metadata": {
        "id": "9Zd7SYfVhW-l"
      }
    },
    {
      "cell_type": "code",
      "source": [
        "# Criar um modelo-base a partir de um modelo pré-treinado.\n",
        "# EfficientNetB0 foi treinado com a ImageNet, portanto a camada no topo tem 1000 entradas.\n",
        "# Nossos dados possuem 10 classes, portanto não utilizaremos a camada no topo padrão. (include_top=False)\n",
        "modelo_base = EfficientNetB0(include_top=False)\n",
        "\n",
        "# \"Congelar\" o modelo-base, para que os padrões pré-treinados não sejam odificados durante o treinamento.\n",
        "modelo_base.trainable = False\n",
        "\n",
        "# Camada de entrada.\n",
        "entradas = Input(shape=FORMATO_ENTRADA, name='camada_entrada')\n",
        "\n",
        "# Se for utilizar um modelo que não tenha escalonamento interno, como ResNet50V2, é necessário escalonar os dados.\n",
        "# Modelos EfficientNet possuem escalonamento interno.\n",
        "# camadas = tf.keras.layers.experimental.preprocessing.Rescaling(1./255)(entradas)\n",
        "# Obs.: acredito que a camada de escalonamento devia ser adicionada à 'entradas', não 'camadas'.\n",
        "\n",
        "# Carregar as entradas no modelo-base.\n",
        "camadas = modelo_base(entradas)\n",
        "\n",
        "# Agrupar a média global do modelo-base.\n",
        "camadas = GlobalAveragePooling2D(name='agrupamento_media_global')(camadas)\n",
        "\n",
        "# Camada de saída.\n",
        "saidas = Dense(len(rotulos), activation=ATIVACAO, name='camada_saida')(camadas)\n",
        "\n",
        "# Reunir camadas de entrada e saída em um modelo.\n",
        "modelo_00 = Model(inputs=entradas,\n",
        "                  outputs=saidas,\n",
        "                  name='Modelo_00')\n",
        "\n",
        "# Compilar o modelo.\n",
        "modelo_00.compile(loss=PERDA,\n",
        "                  optimizer=Adam(),\n",
        "                  metrics=METRICAS)\n",
        "\n",
        "# Ajustar o modelo, gravando histórico e criando logs TensorBoard.\n",
        "historico_00 = modelo_00.fit(dados_treino_10,\n",
        "                             epochs=5,\n",
        "                             steps_per_epoch=len(dados_treino_10),\n",
        "                             validation_data=dados_teste,\n",
        "                             validation_steps=len(dados_teste),\n",
        "                             callbacks=[criar_callback_tensorboard(diretorio='transfer_learning',\n",
        "                                                                   experimento='modelo_00_10_por_cento')],\n",
        "                             verbose=1)"
      ],
      "metadata": {
        "colab": {
          "base_uri": "https://localhost:8080/"
        },
        "id": "ToUTEhQQIXIT",
        "outputId": "ac545f68-d5d2-4c80-a76b-4c9ade306714"
      },
      "execution_count": 11,
      "outputs": [
        {
          "output_type": "stream",
          "name": "stdout",
          "text": [
            "Downloading data from https://storage.googleapis.com/keras-applications/efficientnetb0_notop.h5\n",
            "16705208/16705208 [==============================] - 0s 0us/step\n",
            "Salvando log TensorBoard em: 'transfer_learning/modelo_00_10_por_cento/20230123-015309'.\n",
            "Epoch 1/5\n",
            "24/24 [==============================] - 23s 404ms/step - loss: 1.7859 - accuracy: 0.4893 - val_loss: 1.2490 - val_accuracy: 0.7352\n",
            "Epoch 2/5\n",
            "24/24 [==============================] - 8s 315ms/step - loss: 1.0608 - accuracy: 0.7720 - val_loss: 0.8510 - val_accuracy: 0.8132\n",
            "Epoch 3/5\n",
            "24/24 [==============================] - 8s 319ms/step - loss: 0.7706 - accuracy: 0.8213 - val_loss: 0.6845 - val_accuracy: 0.8428\n",
            "Epoch 4/5\n",
            "24/24 [==============================] - 8s 315ms/step - loss: 0.6328 - accuracy: 0.8547 - val_loss: 0.6019 - val_accuracy: 0.8580\n",
            "Epoch 5/5\n",
            "24/24 [==============================] - 8s 315ms/step - loss: 0.5442 - accuracy: 0.8760 - val_loss: 0.5505 - val_accuracy: 0.8632\n"
          ]
        }
      ]
    },
    {
      "cell_type": "code",
      "source": [
        "grafico_perda_precisao_por_iteracao(historico_00)"
      ],
      "metadata": {
        "colab": {
          "base_uri": "https://localhost:8080/",
          "height": 473
        },
        "id": "xSuN3pf-ROpd",
        "outputId": "b172f751-b047-4a65-ff1b-26e2986de692"
      },
      "execution_count": 12,
      "outputs": [
        {
          "output_type": "display_data",
          "data": {
            "text/plain": [
              "<Figure size 800x500 with 1 Axes>"
            ],
            "image/png": "[encoded data removed]"
          },
          "metadata": {}
        }
      ]
    },
    {
      "cell_type": "code",
      "source": [
        "modelo_00.summary()"
      ],
      "metadata": {
        "colab": {
          "base_uri": "https://localhost:8080/"
        },
        "id": "Wc8WL7nZWDRG",
        "outputId": "3bbc99ff-7971-4382-9237-02b89da836b3"
      },
      "execution_count": 18,
      "outputs": [
        {
          "output_type": "stream",
          "name": "stdout",
          "text": [
            "Model: \"Modelo_00\"\n",
            "_________________________________________________________________\n",
            " Layer (type)                Output Shape              Param #   \n",
            "=================================================================\n",
            " camada_entrada (InputLayer)  [(None, 224, 224, 3)]    0         \n",
            "                                                                 \n",
            " efficientnetb0 (Functional)  (None, None, None, 1280)  4049571  \n",
            "                                                                 \n",
            " agrupamento_media_global (G  (None, 1280)             0         \n",
            " lobalAveragePooling2D)                                          \n",
            "                                                                 \n",
            " camada_saida (Dense)        (None, 10)                12810     \n",
            "                                                                 \n",
            "=================================================================\n",
            "Total params: 4,062,381\n",
            "Trainable params: 12,810\n",
            "Non-trainable params: 4,049,571\n",
            "_________________________________________________________________\n"
          ]
        }
      ]
    },
    {
      "cell_type": "code",
      "source": [],
      "metadata": {
        "id": "gmp-2-L-WkJS"
      },
      "execution_count": null,
      "outputs": []
    }
  ]
}