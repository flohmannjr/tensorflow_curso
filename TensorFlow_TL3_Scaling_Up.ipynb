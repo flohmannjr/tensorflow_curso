{
  "nbformat": 4,
  "nbformat_minor": 0,
  "metadata": {
    "colab": {
      "provenance": [],
      "toc_visible": true,
      "authorship_tag": "ABX9TyPXGpEKOecaAhYITUDGg+JT",
      "include_colab_link": true
    },
    "kernelspec": {
      "name": "python3",
      "display_name": "Python 3"
    },
    "language_info": {
      "name": "python"
    },
    "accelerator": "GPU",
    "gpuClass": "standard"
  },
  "cells": [
    {
      "cell_type": "markdown",
      "metadata": {
        "id": "view-in-github",
        "colab_type": "text"
      },
      "source": [
        "<a href=\"https://colab.research.google.com/github/flohmannjr/tensorflow_curso/blob/main/TensorFlow_TL3_Scaling_Up.ipynb\" target=\"_parent\"><img src=\"https://colab.research.google.com/assets/colab-badge.svg\" alt=\"Open In Colab\"/></a>"
      ]
    },
    {
      "cell_type": "markdown",
      "source": [
        "# TensorFlow Transfer Learning Scaling Up"
      ],
      "metadata": {
        "id": "1WIj0zjf27eI"
      }
    },
    {
      "cell_type": "code",
      "source": [
        "import tensorflow as tf\n",
        "import tensorflow_hub as hub\n",
        "\n",
        "import matplotlib.pyplot as plt\n",
        "import seaborn as sns\n",
        "\n",
        "from tensorflow.keras import Model, Sequential\n",
        "from tensorflow.keras.applications import EfficientNetB0\n",
        "from tensorflow.keras.callbacks import ModelCheckpoint\n",
        "from tensorflow.keras.layers import Dense, GlobalAveragePooling2D, Input\n",
        "from tensorflow.keras.layers import RandomFlip, RandomHeight, RandomRotation, RandomWidth, RandomZoom\n",
        "from tensorflow.keras.optimizers import Adam\n",
        "from tensorflow.keras.utils import image_dataset_from_directory\n",
        "\n",
        "from sklearn.metrics import classification_report"
      ],
      "metadata": {
        "id": "HsnVnhni3Dcv"
      },
      "execution_count": 1,
      "outputs": []
    },
    {
      "cell_type": "markdown",
      "source": [
        "## Setup"
      ],
      "metadata": {
        "id": "BzWq49ds3tBj"
      }
    },
    {
      "cell_type": "code",
      "source": [
        "plt.rcParams['figure.figsize'] = [8, 5]\n",
        "plt.rcParams['figure.dpi'] = 100\n",
        "plt.style.use('seaborn-darkgrid')"
      ],
      "metadata": {
        "id": "0FD3Wd9m5H7P"
      },
      "execution_count": 2,
      "outputs": []
    },
    {
      "cell_type": "markdown",
      "source": [
        "### Constantes"
      ],
      "metadata": {
        "id": "qG4CB1I25Ifu"
      }
    },
    {
      "cell_type": "code",
      "source": [
        "SEMENTE = 2008193\n",
        "\n",
        "DIR_TREINO = '101_food_classes_10_percent/train'\n",
        "DIR_TESTE  = '101_food_classes_10_percent/test'\n",
        "\n",
        "TAMANHO_LOTE = 32\n",
        "FORMATO_IMAGEM = (224, 224)\n",
        "MODO_CLASSE = 'categorical'\n",
        "\n",
        "FORMATO_ENTRADA = FORMATO_IMAGEM + (3,)\n",
        "ATIVACAO = 'softmax'\n",
        "\n",
        "PERDA = 'categorical_crossentropy'\n",
        "METRICAS = ['accuracy']\n",
        "\n",
        "# OTIMIZADOR = 'Adam'\n",
        "APRENDIZADO = 0.001\n",
        "APRENDIZADO_RESSINTONIZADO = 0.0001\n",
        "\n",
        "ITERACOES = 5\n",
        "ITERACOES_RESSINTONIZADAS = ITERACOES + 5"
      ],
      "metadata": {
        "id": "TD8UPz_Z5L2m"
      },
      "execution_count": 3,
      "outputs": []
    },
    {
      "cell_type": "markdown",
      "source": [
        "### Funções"
      ],
      "metadata": {
        "id": "97Fa3s9r6Z3B"
      }
    },
    {
      "cell_type": "code",
      "source": [
        "!wget https://raw.githubusercontent.com/flohmannjr/tensorflow_curso/main/funcoes.py"
      ],
      "metadata": {
        "id": "GPD8ufRR6cP_",
        "colab": {
          "base_uri": "https://localhost:8080/"
        },
        "outputId": "cd999b66-2f24-46ea-a513-cb2eeb5137eb"
      },
      "execution_count": 4,
      "outputs": [
        {
          "output_type": "stream",
          "name": "stdout",
          "text": [
            "--2023-01-25 00:50:57--  https://raw.githubusercontent.com/flohmannjr/tensorflow_curso/main/funcoes.py\n",
            "Resolving raw.githubusercontent.com (raw.githubusercontent.com)... 185.199.108.133, 185.199.109.133, 185.199.110.133, ...\n",
            "Connecting to raw.githubusercontent.com (raw.githubusercontent.com)|185.199.108.133|:443... connected.\n",
            "HTTP request sent, awaiting response... 200 OK\n",
            "Length: 4971 (4.9K) [text/plain]\n",
            "Saving to: ‘funcoes.py’\n",
            "\n",
            "funcoes.py          100%[===================>]   4.85K  --.-KB/s    in 0s      \n",
            "\n",
            "2023-01-25 00:50:57 (51.1 MB/s) - ‘funcoes.py’ saved [4971/4971]\n",
            "\n"
          ]
        }
      ]
    },
    {
      "cell_type": "code",
      "source": [
        "from funcoes import grafico_historico_por_iteracao, grafico_historicos_complementares, unzip_data"
      ],
      "metadata": {
        "id": "QHmBZKSd6ltO"
      },
      "execution_count": 5,
      "outputs": []
    },
    {
      "cell_type": "markdown",
      "source": [
        "## Dados"
      ],
      "metadata": {
        "id": "9x9kjrDl6rRH"
      }
    },
    {
      "cell_type": "code",
      "source": [
        "!wget https://storage.googleapis.com/ztm_tf_course/food_vision/101_food_classes_10_percent.zip\n",
        "\n",
        "unzip_data('101_food_classes_10_percent.zip')"
      ],
      "metadata": {
        "id": "AUywlUBF6z8x",
        "colab": {
          "base_uri": "https://localhost:8080/"
        },
        "outputId": "63567f0b-4005-474c-dd75-bc78e9735ed2"
      },
      "execution_count": 6,
      "outputs": [
        {
          "output_type": "stream",
          "name": "stdout",
          "text": [
            "--2023-01-25 00:50:57--  https://storage.googleapis.com/ztm_tf_course/food_vision/101_food_classes_10_percent.zip\n",
            "Resolving storage.googleapis.com (storage.googleapis.com)... 142.251.163.128, 142.251.167.128, 172.253.115.128, ...\n",
            "Connecting to storage.googleapis.com (storage.googleapis.com)|142.251.163.128|:443... connected.\n",
            "HTTP request sent, awaiting response... 200 OK\n",
            "Length: 1625420029 (1.5G) [application/zip]\n",
            "Saving to: ‘101_food_classes_10_percent.zip’\n",
            "\n",
            "101_food_classes_10 100%[===================>]   1.51G   125MB/s    in 8.8s    \n",
            "\n",
            "2023-01-25 00:51:06 (177 MB/s) - ‘101_food_classes_10_percent.zip’ saved [1625420029/1625420029]\n",
            "\n"
          ]
        }
      ]
    },
    {
      "cell_type": "markdown",
      "source": [
        "### Importando os dados e tranformando-os em lotes"
      ],
      "metadata": {
        "id": "FZuXZWH07F7X"
      }
    },
    {
      "cell_type": "code",
      "source": [
        "dados_treino = image_dataset_from_directory(directory=DIR_TREINO,\n",
        "                                            batch_size=TAMANHO_LOTE,\n",
        "                                            image_size=FORMATO_IMAGEM,\n",
        "                                            label_mode=MODO_CLASSE,\n",
        "                                            seed=SEMENTE)\n",
        "\n",
        "dados_teste = image_dataset_from_directory(directory=DIR_TESTE,\n",
        "                                           batch_size=TAMANHO_LOTE,\n",
        "                                           image_size=FORMATO_IMAGEM,\n",
        "                                           label_mode=MODO_CLASSE,\n",
        "                                           shuffle=False, # Não embaralhar os dados de teste para permitir avaliarmos as previsões.\n",
        "                                           seed=SEMENTE)"
      ],
      "metadata": {
        "id": "BXNQRrab7QMX",
        "colab": {
          "base_uri": "https://localhost:8080/"
        },
        "outputId": "ca000807-12f1-42cc-c286-314f0fbd5fbe"
      },
      "execution_count": 37,
      "outputs": [
        {
          "output_type": "stream",
          "name": "stdout",
          "text": [
            "Found 7575 files belonging to 101 classes.\n",
            "Found 25250 files belonging to 101 classes.\n"
          ]
        }
      ]
    },
    {
      "cell_type": "code",
      "source": [
        "rotulos = dados_treino.class_names"
      ],
      "metadata": {
        "id": "VJ3l2w5v8z7h"
      },
      "execution_count": 38,
      "outputs": []
    },
    {
      "cell_type": "markdown",
      "source": [
        "## Pré-modelagem"
      ],
      "metadata": {
        "id": "g0Z65r-U9BjG"
      }
    },
    {
      "cell_type": "markdown",
      "source": [
        "### Expansão dos dados"
      ],
      "metadata": {
        "id": "GmQbMlNbCpRu"
      }
    },
    {
      "cell_type": "code",
      "source": [
        "expansao_dados = Sequential(name='expansao_dados')\n",
        "\n",
        "expansao_dados.add(RandomFlip('horizontal'))\n",
        "expansao_dados.add(RandomHeight(0.2))\n",
        "expansao_dados.add(RandomRotation(0.2))\n",
        "expansao_dados.add(RandomWidth(0.2))\n",
        "expansao_dados.add(RandomZoom(0.2))"
      ],
      "metadata": {
        "id": "U48bYJmWD3JX"
      },
      "execution_count": null,
      "outputs": []
    },
    {
      "cell_type": "markdown",
      "source": [
        "### Modelo-base"
      ],
      "metadata": {
        "id": "epJCE1bJEd7I"
      }
    },
    {
      "cell_type": "code",
      "source": [
        "modelo_base = EfficientNetB0(include_top=False)\n",
        "modelo_base.trainable = False"
      ],
      "metadata": {
        "id": "8HZ0M8K_EiHP"
      },
      "execution_count": null,
      "outputs": []
    },
    {
      "cell_type": "markdown",
      "source": [
        "## Modelo inicial"
      ],
      "metadata": {
        "id": "og0k8Cp3EurA"
      }
    },
    {
      "cell_type": "code",
      "source": [
        "entradas = Input(shape=FORMATO_ENTRADA, name='camada_entrada')\n",
        "\n",
        "# Há um bug na versão 2.8 do TensorFlow que faz necessário forçar o treinamento para que a expansão dos dados funcione.\n",
        "expandidos = expansao_dados(entradas, training=True)\n",
        "\n",
        "camadas = modelo_base(expandidos, training=False)\n",
        "camadas = GlobalAveragePooling2D(name='agrupamento_media_global')(camadas)\n",
        "\n",
        "saidas = Dense(len(rotulos), activation=ATIVACAO, name='camada_saida')(camadas)\n",
        "\n",
        "modelo = Model(inputs=entradas, outputs=saidas, name='Modelo')\n",
        "\n",
        "modelo.compile(loss=PERDA,\n",
        "               optimizer=Adam(learning_rate=APRENDIZADO),\n",
        "               metrics=METRICAS)"
      ],
      "metadata": {
        "id": "i0zF6OFSE38m"
      },
      "execution_count": null,
      "outputs": []
    },
    {
      "cell_type": "code",
      "source": [
        "historico_inicial = modelo.fit(dados_treino,\n",
        "                               epochs=ITERACOES,\n",
        "                               steps_per_epoch=len(dados_treino),\n",
        "                               validation_data=dados_teste,\n",
        "                               validation_steps=int(0.15 + len(dados_teste)), # Apenas 15% da base de teste\n",
        "                               verbose=1)"
      ],
      "metadata": {
        "id": "uWu4jN2HGh1g"
      },
      "execution_count": null,
      "outputs": []
    },
    {
      "cell_type": "code",
      "source": [
        "grafico_historico_por_iteracao(historico_inicial)"
      ],
      "metadata": {
        "id": "F016zwJrIEZ3"
      },
      "execution_count": null,
      "outputs": []
    },
    {
      "cell_type": "code",
      "source": [
        "validacao_inicial = modelo.evaluate(dados_teste)\n",
        "validacao_inicial"
      ],
      "metadata": {
        "id": "crcX-eI-IIsO"
      },
      "execution_count": null,
      "outputs": []
    },
    {
      "cell_type": "markdown",
      "source": [
        "## Ressintonizando modelo"
      ],
      "metadata": {
        "id": "IpIC2HcjLwVv"
      }
    },
    {
      "cell_type": "code",
      "source": [
        "# \"Descongela\" as últimas 5 camadas do modelo_base (EfficientNetB0).\n",
        "for layer in modelo_base.layers[-5:]:\n",
        "    layer.trainable = True\n",
        "\n",
        "modelo.compile(loss=PERDA,\n",
        "               optimizer=Adam(learning_rate=APRENDIZADO_RESSINTONIZADO),\n",
        "               metrics=METRICAS)"
      ],
      "metadata": {
        "id": "DClwPUzANzcG"
      },
      "execution_count": null,
      "outputs": []
    },
    {
      "cell_type": "code",
      "source": [
        "historico_ressintonizado = modelo.fit(dados_treino,\n",
        "                                     epochs=ITERACOES_RESSINTONIZADAS,\n",
        "                                     steps_per_epoch=len(dados_treino),\n",
        "                                     initial_epoch=len(historico_inicial.epoch),\n",
        "                                     validation_data=dados_teste,\n",
        "                                     validation_steps=int(0.15 * len(dados_teste)),\n",
        "                                     verbose=1)"
      ],
      "metadata": {
        "id": "fFXubearPlKX"
      },
      "execution_count": null,
      "outputs": []
    },
    {
      "cell_type": "code",
      "source": [
        "grafico_historico_por_iteracao(historico_ressintonizado)"
      ],
      "metadata": {
        "id": "AWA_FBt7RB52"
      },
      "execution_count": null,
      "outputs": []
    },
    {
      "cell_type": "code",
      "source": [
        "grafico_historicos_complementares(historico_inicial, historico_ressintonizado)"
      ],
      "metadata": {
        "id": "BZIZDdSFRIdt"
      },
      "execution_count": null,
      "outputs": []
    },
    {
      "cell_type": "code",
      "source": [
        "validacao_ressintonizada = modelo.evaluate(dados_teste)\n",
        "validacao_ressintonizada"
      ],
      "metadata": {
        "id": "nJI8e1lVRNNM"
      },
      "execution_count": null,
      "outputs": []
    },
    {
      "cell_type": "markdown",
      "source": [
        "## Salvando modelo"
      ],
      "metadata": {
        "id": "qZ2ZnVrLRUg9"
      }
    },
    {
      "cell_type": "code",
      "source": [
        "# Formato HDF5\n",
        "modelo.save('scaling_up_HDF5.h5')"
      ],
      "metadata": {
        "id": "BJqpKiKjSVvV"
      },
      "execution_count": null,
      "outputs": []
    },
    {
      "cell_type": "markdown",
      "source": [
        "## Carregando modelo"
      ],
      "metadata": {
        "id": "_7rN67r8SjAj"
      }
    },
    {
      "cell_type": "code",
      "source": [
        "# modelo = tf.keras.models.load_model('scaling_up_HDF5.h5')"
      ],
      "metadata": {
        "id": "blzGQYxJSnJV"
      },
      "execution_count": null,
      "outputs": []
    },
    {
      "cell_type": "markdown",
      "source": [
        "## Pretuned model"
      ],
      "metadata": {
        "id": "55Ao5RVHZlsK"
      }
    },
    {
      "cell_type": "code",
      "source": [
        "# !wget https://storage.googleapis.com/ztm_tf_course/food_vision/06_101_food_class_10_percent_saved_big_dog_model.zip\n",
        "\n",
        "# unzip_data('06_101_food_class_10_percent_saved_big_dog_model.zip')\n",
        "\n",
        "# modelo = tf.keras.models.load_model('06_101_food_class_10_percent_saved_big_dog_model')"
      ],
      "metadata": {
        "id": "bZghx_9TZvQf"
      },
      "execution_count": null,
      "outputs": []
    },
    {
      "cell_type": "markdown",
      "source": [
        "## Previsões"
      ],
      "metadata": {
        "id": "kutoLnY5Srze"
      }
    },
    {
      "cell_type": "code",
      "source": [
        "previsoes = modelo.predict(dados_teste, verbose=1)"
      ],
      "metadata": {
        "id": "8BgwCAwEVavX",
        "colab": {
          "base_uri": "https://localhost:8080/"
        },
        "outputId": "f3e17908-e9e9-44cf-e0b6-009fc912f4c3"
      },
      "execution_count": 39,
      "outputs": [
        {
          "output_type": "stream",
          "name": "stdout",
          "text": [
            "790/790 [==============================] - 1544s 2s/step\n"
          ]
        }
      ]
    },
    {
      "cell_type": "code",
      "source": [
        "# Retorna o índice da classe com maior probabilidade\n",
        "classes_previstas = previsoes.argmax(axis=1)"
      ],
      "metadata": {
        "id": "cmOnEnorvHSS"
      },
      "execution_count": 40,
      "outputs": []
    },
    {
      "cell_type": "markdown",
      "source": [
        "`dados_teste` está no formato `BatchDataset`, que contém dois tensores: a imagem `(altura, largura, canais)` e a classe `(one-hot)`.\n",
        "\n",
        "Para extrair os dados é necessário \"deslotear\" com `unbatch()` e iterar o resultado."
      ],
      "metadata": {
        "id": "82i-iU0hi8kA"
      }
    },
    {
      "cell_type": "code",
      "source": [
        "classes_verdadeiras = []\n",
        "\n",
        "for imagem, classe in dados_teste.unbatch():\n",
        "    classes_verdadeiras.append(classe.numpy().argmax())"
      ],
      "metadata": {
        "id": "NE2v5vwzhCjd"
      },
      "execution_count": 43,
      "outputs": []
    },
    {
      "cell_type": "code",
      "source": [
        "print(classification_report(y_true=classes_verdadeiras,\n",
        "                            y_pred=classes_previstas,\n",
        "                            target_names=rotulos))"
      ],
      "metadata": {
        "id": "f4Ppj2qJZ4ib",
        "colab": {
          "base_uri": "https://localhost:8080/"
        },
        "outputId": "9d565299-48f2-45a1-9652-0ed7b2f47576"
      },
      "execution_count": 49,
      "outputs": [
        {
          "output_type": "stream",
          "name": "stdout",
          "text": [
            "                         precision    recall  f1-score   support\n",
            "\n",
            "              apple_pie       0.29      0.20      0.24       250\n",
            "         baby_back_ribs       0.51      0.69      0.59       250\n",
            "                baklava       0.56      0.65      0.60       250\n",
            "         beef_carpaccio       0.74      0.53      0.62       250\n",
            "           beef_tartare       0.73      0.43      0.54       250\n",
            "             beet_salad       0.34      0.54      0.42       250\n",
            "               beignets       0.67      0.79      0.72       250\n",
            "               bibimbap       0.82      0.76      0.79       250\n",
            "          bread_pudding       0.40      0.37      0.39       250\n",
            "      breakfast_burrito       0.62      0.44      0.51       250\n",
            "             bruschetta       0.62      0.42      0.50       250\n",
            "           caesar_salad       0.84      0.49      0.62       250\n",
            "                cannoli       0.52      0.74      0.61       250\n",
            "          caprese_salad       0.56      0.60      0.58       250\n",
            "            carrot_cake       0.56      0.59      0.57       250\n",
            "                ceviche       0.44      0.32      0.37       250\n",
            "           cheese_plate       0.45      0.75      0.57       250\n",
            "             cheesecake       0.37      0.51      0.43       250\n",
            "          chicken_curry       0.43      0.60      0.50       250\n",
            "     chicken_quesadilla       0.68      0.60      0.64       250\n",
            "          chicken_wings       0.68      0.75      0.71       250\n",
            "         chocolate_cake       0.35      0.64      0.45       250\n",
            "       chocolate_mousse       0.30      0.37      0.33       250\n",
            "                churros       0.66      0.77      0.71       250\n",
            "           clam_chowder       0.83      0.72      0.77       250\n",
            "          club_sandwich       0.76      0.71      0.73       250\n",
            "             crab_cakes       0.51      0.42      0.46       250\n",
            "           creme_brulee       0.78      0.72      0.75       250\n",
            "          croque_madame       0.70      0.69      0.69       250\n",
            "              cup_cakes       0.70      0.68      0.69       250\n",
            "           deviled_eggs       0.92      0.63      0.75       250\n",
            "                 donuts       0.78      0.70      0.74       250\n",
            "              dumplings       0.75      0.83      0.79       250\n",
            "                edamame       0.89      0.98      0.94       250\n",
            "          eggs_benedict       0.68      0.78      0.72       250\n",
            "              escargots       0.78      0.66      0.72       250\n",
            "                falafel       0.53      0.56      0.55       250\n",
            "           filet_mignon       0.30      0.55      0.39       250\n",
            "         fish_and_chips       0.78      0.63      0.69       250\n",
            "              foie_gras       0.27      0.33      0.30       250\n",
            "           french_fries       0.72      0.81      0.76       250\n",
            "      french_onion_soup       0.81      0.62      0.70       250\n",
            "           french_toast       0.50      0.58      0.54       250\n",
            "         fried_calamari       0.75      0.60      0.67       250\n",
            "             fried_rice       0.74      0.45      0.56       250\n",
            "          frozen_yogurt       0.77      0.85      0.81       250\n",
            "           garlic_bread       0.81      0.46      0.58       250\n",
            "                gnocchi       0.44      0.49      0.46       250\n",
            "            greek_salad       0.45      0.81      0.58       250\n",
            "grilled_cheese_sandwich       0.50      0.44      0.47       250\n",
            "         grilled_salmon       0.54      0.39      0.46       250\n",
            "              guacamole       0.71      0.86      0.78       250\n",
            "                  gyoza       0.51      0.77      0.61       250\n",
            "              hamburger       0.67      0.68      0.68       250\n",
            "      hot_and_sour_soup       0.88      0.75      0.81       250\n",
            "                hot_dog       0.86      0.69      0.76       250\n",
            "       huevos_rancheros       0.56      0.24      0.34       250\n",
            "                 hummus       0.62      0.45      0.52       250\n",
            "              ice_cream       0.68      0.58      0.62       250\n",
            "                lasagna       0.70      0.37      0.49       250\n",
            "         lobster_bisque       0.83      0.59      0.69       250\n",
            "  lobster_roll_sandwich       0.54      0.81      0.65       250\n",
            "    macaroni_and_cheese       0.72      0.49      0.58       250\n",
            "               macarons       0.94      0.86      0.90       250\n",
            "              miso_soup       0.78      0.85      0.81       250\n",
            "                mussels       0.82      0.82      0.82       250\n",
            "                 nachos       0.69      0.32      0.44       250\n",
            "               omelette       0.41      0.58      0.48       250\n",
            "            onion_rings       0.90      0.78      0.83       250\n",
            "                oysters       0.84      0.82      0.83       250\n",
            "               pad_thai       0.62      0.83      0.71       250\n",
            "                 paella       0.81      0.46      0.59       250\n",
            "               pancakes       0.64      0.65      0.65       250\n",
            "            panna_cotta       0.51      0.44      0.47       250\n",
            "            peking_duck       0.72      0.61      0.66       250\n",
            "                    pho       0.84      0.90      0.87       250\n",
            "                  pizza       0.78      0.78      0.78       250\n",
            "              pork_chop       0.36      0.27      0.31       250\n",
            "                poutine       0.79      0.74      0.76       250\n",
            "              prime_rib       0.44      0.81      0.57       250\n",
            "   pulled_pork_sandwich       0.57      0.60      0.59       250\n",
            "                  ramen       0.65      0.70      0.68       250\n",
            "                ravioli       0.38      0.31      0.34       250\n",
            "        red_velvet_cake       0.58      0.80      0.67       250\n",
            "                risotto       0.61      0.38      0.47       250\n",
            "                 samosa       0.44      0.74      0.55       250\n",
            "                sashimi       0.71      0.86      0.78       250\n",
            "               scallops       0.41      0.39      0.40       250\n",
            "          seaweed_salad       0.83      0.80      0.81       250\n",
            "       shrimp_and_grits       0.71      0.31      0.43       250\n",
            "    spaghetti_bolognese       0.92      0.69      0.79       250\n",
            "    spaghetti_carbonara       0.83      0.87      0.85       250\n",
            "           spring_rolls       0.68      0.65      0.67       250\n",
            "                  steak       0.31      0.38      0.34       250\n",
            "   strawberry_shortcake       0.61      0.54      0.57       250\n",
            "                  sushi       0.74      0.61      0.67       250\n",
            "                  tacos       0.56      0.29      0.38       250\n",
            "               takoyaki       0.45      0.74      0.56       250\n",
            "               tiramisu       0.47      0.33      0.39       250\n",
            "           tuna_tartare       0.52      0.27      0.35       250\n",
            "                waffles       0.59      0.70      0.64       250\n",
            "\n",
            "               accuracy                           0.61     25250\n",
            "              macro avg       0.63      0.61      0.61     25250\n",
            "           weighted avg       0.63      0.61      0.61     25250\n",
            "\n"
          ]
        }
      ]
    },
    {
      "cell_type": "code",
      "source": [],
      "metadata": {
        "id": "CxpFuGDa1U1J"
      },
      "execution_count": null,
      "outputs": []
    }
  ]
}