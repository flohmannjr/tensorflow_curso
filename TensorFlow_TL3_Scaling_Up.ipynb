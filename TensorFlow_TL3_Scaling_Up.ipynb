{
  "nbformat": 4,
  "nbformat_minor": 0,
  "metadata": {
    "colab": {
      "provenance": [],
      "toc_visible": true,
      "authorship_tag": "ABX9TyM+ZRydGoIXz+0YsM8LpgtQ",
      "include_colab_link": true
    },
    "kernelspec": {
      "name": "python3",
      "display_name": "Python 3"
    },
    "language_info": {
      "name": "python"
    },
    "accelerator": "GPU",
    "gpuClass": "standard"
  },
  "cells": [
    {
      "cell_type": "markdown",
      "metadata": {
        "id": "view-in-github",
        "colab_type": "text"
      },
      "source": [
        "<a href=\"https://colab.research.google.com/github/flohmannjr/tensorflow_curso/blob/main/TensorFlow_TL3_Scaling_Up.ipynb\" target=\"_parent\"><img src=\"https://colab.research.google.com/assets/colab-badge.svg\" alt=\"Open In Colab\"/></a>"
      ]
    },
    {
      "cell_type": "markdown",
      "source": [
        "# TensorFlow Transfer Learning Scaling Up"
      ],
      "metadata": {
        "id": "1WIj0zjf27eI"
      }
    },
    {
      "cell_type": "code",
      "source": [
        "import tensorflow as tf\n",
        "import tensorflow_hub as hub\n",
        "\n",
        "import matplotlib.pyplot as plt\n",
        "import seaborn as sns\n",
        "\n",
        "from tensorflow.keras import Model, Sequential\n",
        "from tensorflow.keras.applications import EfficientNetB0\n",
        "from tensorflow.keras.callbacks import ModelCheckpoint\n",
        "from tensorflow.keras.layers import Dense, GlobalAveragePooling2D, Input\n",
        "from tensorflow.keras.layers import RandomFlip, RandomHeight, RandomRotation, RandomWidth, RandomZoom\n",
        "from tensorflow.keras.optimizers import Adam\n",
        "from tensorflow.keras.utils import image_dataset_from_directory"
      ],
      "metadata": {
        "id": "HsnVnhni3Dcv"
      },
      "execution_count": 16,
      "outputs": []
    },
    {
      "cell_type": "markdown",
      "source": [
        "## Setup"
      ],
      "metadata": {
        "id": "BzWq49ds3tBj"
      }
    },
    {
      "cell_type": "code",
      "source": [
        "plt.rcParams['figure.figsize'] = [8, 5]\n",
        "plt.rcParams['figure.dpi'] = 100\n",
        "plt.style.use('seaborn-darkgrid')"
      ],
      "metadata": {
        "id": "0FD3Wd9m5H7P"
      },
      "execution_count": 3,
      "outputs": []
    },
    {
      "cell_type": "markdown",
      "source": [
        "### Constantes"
      ],
      "metadata": {
        "id": "qG4CB1I25Ifu"
      }
    },
    {
      "cell_type": "code",
      "source": [
        "SEMENTE = 2008193\n",
        "\n",
        "DIR_TREINO_10 = '101_food_classes_10_percent/train'\n",
        "DIR_TESTE     = '101_food_classes_10_percent/test'\n",
        "\n",
        "TAMANHO_LOTE = 32\n",
        "FORMATO_IMAGEM = (224, 224)\n",
        "MODO_CLASSE = 'categorical'\n",
        "\n",
        "CAMINHO_CHECKPOINT = 'checkpoints/scaling_up'\n",
        "\n",
        "FORMATO_ENTRADA = FORMATO_IMAGEM + (3,)\n",
        "ATIVACAO = 'softmax'\n",
        "\n",
        "PERDA = 'categorical_crossentropy'\n",
        "METRICAS = ['accuracy']\n",
        "\n",
        "# OTIMIZADOR = 'Adam'\n",
        "# APRENDIZADO = 0.001\n",
        "\n",
        "ITERACOES = 5"
      ],
      "metadata": {
        "id": "TD8UPz_Z5L2m"
      },
      "execution_count": 12,
      "outputs": []
    },
    {
      "cell_type": "markdown",
      "source": [
        "### Funções"
      ],
      "metadata": {
        "id": "97Fa3s9r6Z3B"
      }
    },
    {
      "cell_type": "code",
      "source": [
        "!wget https://raw.githubusercontent.com/flohmannjr/tensorflow_curso/main/funcoes.py"
      ],
      "metadata": {
        "colab": {
          "base_uri": "https://localhost:8080/"
        },
        "id": "GPD8ufRR6cP_",
        "outputId": "b92d633c-de47-467d-c415-70a40037b57d"
      },
      "execution_count": 5,
      "outputs": [
        {
          "output_type": "stream",
          "name": "stdout",
          "text": [
            "--2023-01-24 18:21:38--  https://raw.githubusercontent.com/flohmannjr/tensorflow_curso/main/funcoes.py\n",
            "Resolving raw.githubusercontent.com (raw.githubusercontent.com)... 185.199.108.133, 185.199.109.133, 185.199.110.133, ...\n",
            "Connecting to raw.githubusercontent.com (raw.githubusercontent.com)|185.199.108.133|:443... connected.\n",
            "HTTP request sent, awaiting response... 200 OK\n",
            "Length: 4971 (4.9K) [text/plain]\n",
            "Saving to: ‘funcoes.py’\n",
            "\n",
            "\rfuncoes.py            0%[                    ]       0  --.-KB/s               \rfuncoes.py          100%[===================>]   4.85K  --.-KB/s    in 0s      \n",
            "\n",
            "2023-01-24 18:21:38 (68.8 MB/s) - ‘funcoes.py’ saved [4971/4971]\n",
            "\n"
          ]
        }
      ]
    },
    {
      "cell_type": "code",
      "source": [
        "from funcoes import criar_callback_tensorboard, grafico_historico_por_iteracao, grafico_historicos_complementares, unzip_data, walk_through_dir"
      ],
      "metadata": {
        "id": "QHmBZKSd6ltO"
      },
      "execution_count": 6,
      "outputs": []
    },
    {
      "cell_type": "markdown",
      "source": [
        "## Dados"
      ],
      "metadata": {
        "id": "9x9kjrDl6rRH"
      }
    },
    {
      "cell_type": "code",
      "source": [
        "!wget https://storage.googleapis.com/ztm_tf_course/food_vision/101_food_classes_10_percent.zip\n",
        "\n",
        "unzip_data('101_food_classes_10_percent.zip')"
      ],
      "metadata": {
        "colab": {
          "base_uri": "https://localhost:8080/"
        },
        "id": "AUywlUBF6z8x",
        "outputId": "ed30bf61-d673-4fc9-8881-93983a9ee3be"
      },
      "execution_count": 7,
      "outputs": [
        {
          "output_type": "stream",
          "name": "stdout",
          "text": [
            "--2023-01-24 18:21:38--  https://storage.googleapis.com/ztm_tf_course/food_vision/101_food_classes_10_percent.zip\n",
            "Resolving storage.googleapis.com (storage.googleapis.com)... 108.177.96.128, 108.177.127.128, 142.250.153.128, ...\n",
            "Connecting to storage.googleapis.com (storage.googleapis.com)|108.177.96.128|:443... connected.\n",
            "HTTP request sent, awaiting response... 200 OK\n",
            "Length: 1625420029 (1.5G) [application/zip]\n",
            "Saving to: ‘101_food_classes_10_percent.zip’\n",
            "\n",
            "101_food_classes_10 100%[===================>]   1.51G  41.3MB/s    in 40s     \n",
            "\n",
            "2023-01-24 18:22:18 (38.9 MB/s) - ‘101_food_classes_10_percent.zip’ saved [1625420029/1625420029]\n",
            "\n"
          ]
        }
      ]
    },
    {
      "cell_type": "code",
      "source": [
        "# walk_through_dir('101_food_classes_10_percent')"
      ],
      "metadata": {
        "id": "FZQAvbcT7ADf"
      },
      "execution_count": 8,
      "outputs": []
    },
    {
      "cell_type": "markdown",
      "source": [
        "### Importando os dados e tranformando-os em lotes"
      ],
      "metadata": {
        "id": "FZuXZWH07F7X"
      }
    },
    {
      "cell_type": "code",
      "source": [
        "dados_treino_10 = image_dataset_from_directory(directory=DIR_TREINO_10,\n",
        "                                               batch_size=TAMANHO_LOTE,\n",
        "                                               image_size=FORMATO_IMAGEM,\n",
        "                                               label_mode=MODO_CLASSE,\n",
        "                                               seed=SEMENTE)\n",
        "\n",
        "dados_teste = image_dataset_from_directory(directory=DIR_TESTE,\n",
        "                                           batch_size=TAMANHO_LOTE,\n",
        "                                           image_size=FORMATO_IMAGEM,\n",
        "                                           label_mode=MODO_CLASSE,\n",
        "                                           seed=SEMENTE)"
      ],
      "metadata": {
        "colab": {
          "base_uri": "https://localhost:8080/"
        },
        "id": "BXNQRrab7QMX",
        "outputId": "b5ef2fa0-3ac3-4162-8196-ab8a1a563f3c"
      },
      "execution_count": 9,
      "outputs": [
        {
          "output_type": "stream",
          "name": "stdout",
          "text": [
            "Found 7575 files belonging to 101 classes.\n",
            "Found 25250 files belonging to 101 classes.\n"
          ]
        }
      ]
    },
    {
      "cell_type": "code",
      "source": [
        "rotulos = dados_treino_10.class_names\n",
        "# rotulos"
      ],
      "metadata": {
        "id": "VJ3l2w5v8z7h"
      },
      "execution_count": 11,
      "outputs": []
    },
    {
      "cell_type": "markdown",
      "source": [
        "## Pré-modelagem"
      ],
      "metadata": {
        "id": "g0Z65r-U9BjG"
      }
    },
    {
      "cell_type": "markdown",
      "source": [
        "### Callback ModelCheckpoint"
      ],
      "metadata": {
        "id": "PF_czn9RBYn3"
      }
    },
    {
      "cell_type": "code",
      "source": [
        "callback_checkpoint = ModelCheckpoint(filepath=CAMINHO_CHECKPOINT,\n",
        "                                      save_weights_only = True,\n",
        "                                      save_best_only = True,\n",
        "                                      save_freq='epoch',\n",
        "                                      monitor='val_accuracy',\n",
        "                                      verbose=1)"
      ],
      "metadata": {
        "id": "UDP6XTbrBnCG"
      },
      "execution_count": 15,
      "outputs": []
    },
    {
      "cell_type": "markdown",
      "source": [
        "### Expansão dos dados"
      ],
      "metadata": {
        "id": "GmQbMlNbCpRu"
      }
    },
    {
      "cell_type": "code",
      "source": [
        "expansao_dados = Sequential(name='expansao_dados')\n",
        "\n",
        "expansao_dados.add(RandomFlip('horizontal'))\n",
        "expansao_dados.add(RandomHeight(0.2))\n",
        "expansao_dados.add(RandomRotation(0.2))\n",
        "expansao_dados.add(RandomWidth(0.2))\n",
        "expansao_dados.add(RandomZoom(0.2))"
      ],
      "metadata": {
        "id": "U48bYJmWD3JX"
      },
      "execution_count": 17,
      "outputs": []
    },
    {
      "cell_type": "markdown",
      "source": [
        "### Modelo-base"
      ],
      "metadata": {
        "id": "epJCE1bJEd7I"
      }
    },
    {
      "cell_type": "code",
      "source": [
        "modelo_base = EfficientNetB0(include_top=False)\n",
        "modelo_base.trainable = False"
      ],
      "metadata": {
        "colab": {
          "base_uri": "https://localhost:8080/"
        },
        "id": "8HZ0M8K_EiHP",
        "outputId": "86fa7749-3c18-42b8-f8d1-6586a8c89042"
      },
      "execution_count": 18,
      "outputs": [
        {
          "output_type": "stream",
          "name": "stdout",
          "text": [
            "Downloading data from https://storage.googleapis.com/keras-applications/efficientnetb0_notop.h5\n",
            "16705208/16705208 [==============================] - 1s 0us/step\n"
          ]
        }
      ]
    },
    {
      "cell_type": "markdown",
      "source": [
        "## Modelo 10% expandido"
      ],
      "metadata": {
        "id": "og0k8Cp3EurA"
      }
    },
    {
      "cell_type": "code",
      "source": [
        "entradas = Input(shape=FORMATO_ENTRADA, name='camada_entrada')\n",
        "\n",
        "# Há um bug na versão 2.8 do TensorFlow que faz necessário forçar o treinamento para que a expansão dos dados funcione.\n",
        "expandidos = expansao_dados(entradas, training=True)\n",
        "\n",
        "camadas = modelo_base(expandidos, training=False)\n",
        "camadas = GlobalAveragePooling2D(name='agrupamento_media_global')(camadas)\n",
        "\n",
        "saidas = Dense(len(rotulos), activation=ATIVACAO, name='camada_saida')(camadas)\n",
        "\n",
        "modelo = Model(inputs=entradas, outputs=saidas, name='Modelo')\n",
        "\n",
        "modelo.compile(loss=PERDA,\n",
        "               optimizer=Adam(),\n",
        "               metrics=METRICAS)"
      ],
      "metadata": {
        "id": "i0zF6OFSE38m"
      },
      "execution_count": 19,
      "outputs": []
    },
    {
      "cell_type": "code",
      "source": [
        "historico = modelo.fit(dados_treino_10,\n",
        "                       epochs=ITERACOES,\n",
        "                       steps_per_epoch=len(dados_treino_10),\n",
        "                       validation_data=dados_teste,\n",
        "                       validation_steps=int(0.15 + len(dados_teste)), # Apenas 15% da base de teste\n",
        "                       callbacks=[criar_callback_tensorboard(diretorio='scaling_up',\n",
        "                                                             experimento='modelo_10_expandido'),\n",
        "                                  callback_checkpoint],\n",
        "                       verbose=1)"
      ],
      "metadata": {
        "colab": {
          "base_uri": "https://localhost:8080/"
        },
        "id": "uWu4jN2HGh1g",
        "outputId": "f526e8b6-c7c4-4fdc-95ac-cbc706eed291"
      },
      "execution_count": 20,
      "outputs": [
        {
          "output_type": "stream",
          "name": "stdout",
          "text": [
            "Salvando log TensorBoard em: 'scaling_up/modelo_10_extendido/20230124-185254'.\n",
            "Epoch 1/5\n",
            "237/237 [==============================] - ETA: 0s - loss: 3.4140 - accuracy: 0.2712\n",
            "Epoch 1: val_accuracy improved from -inf to 0.43596, saving model to checkpoints/scaling_up\n",
            "237/237 [==============================] - 254s 1s/step - loss: 3.4140 - accuracy: 0.2712 - val_loss: 2.5076 - val_accuracy: 0.4360\n",
            "Epoch 2/5\n",
            "237/237 [==============================] - ETA: 0s - loss: 2.2411 - accuracy: 0.4916\n",
            "Epoch 2: val_accuracy improved from 0.43596 to 0.49956, saving model to checkpoints/scaling_up\n",
            "237/237 [==============================] - 170s 717ms/step - loss: 2.2411 - accuracy: 0.4916 - val_loss: 2.0825 - val_accuracy: 0.4996\n",
            "Epoch 3/5\n",
            "237/237 [==============================] - ETA: 0s - loss: 1.8646 - accuracy: 0.5578\n",
            "Epoch 3: val_accuracy improved from 0.49956 to 0.51644, saving model to checkpoints/scaling_up\n",
            "237/237 [==============================] - 149s 627ms/step - loss: 1.8646 - accuracy: 0.5578 - val_loss: 1.9243 - val_accuracy: 0.5164\n",
            "Epoch 4/5\n",
            "237/237 [==============================] - ETA: 0s - loss: 1.6365 - accuracy: 0.6059\n",
            "Epoch 4: val_accuracy improved from 0.51644 to 0.53521, saving model to checkpoints/scaling_up\n",
            "237/237 [==============================] - 134s 564ms/step - loss: 1.6365 - accuracy: 0.6059 - val_loss: 1.8386 - val_accuracy: 0.5352\n",
            "Epoch 5/5\n",
            "237/237 [==============================] - ETA: 0s - loss: 1.4718 - accuracy: 0.6426\n",
            "Epoch 5: val_accuracy improved from 0.53521 to 0.54016, saving model to checkpoints/scaling_up\n",
            "237/237 [==============================] - 128s 539ms/step - loss: 1.4718 - accuracy: 0.6426 - val_loss: 1.8019 - val_accuracy: 0.5402\n"
          ]
        }
      ]
    },
    {
      "cell_type": "code",
      "source": [
        "grafico_historico_por_iteracao(historico)"
      ],
      "metadata": {
        "colab": {
          "base_uri": "https://localhost:8080/",
          "height": 473
        },
        "id": "F016zwJrIEZ3",
        "outputId": "1b4e0d21-966e-4b7a-c8e4-0f405fa57a39"
      },
      "execution_count": 21,
      "outputs": [
        {
          "output_type": "display_data",
          "data": {
            "text/plain": [
              "<Figure size 800x500 with 1 Axes>"
            ],
            "image/png": "[encoded data removed]"
          },
          "metadata": {}
        }
      ]
    },
    {
      "cell_type": "code",
      "source": [
        "validacao_original = modelo.evaluate(dados_teste)\n",
        "validacao_original"
      ],
      "metadata": {
        "colab": {
          "base_uri": "https://localhost:8080/"
        },
        "id": "crcX-eI-IIsO",
        "outputId": "7ea6b5f2-7ba8-471f-e8a4-84bea18f9c69"
      },
      "execution_count": 23,
      "outputs": [
        {
          "output_type": "stream",
          "name": "stdout",
          "text": [
            "790/790 [==============================] - 97s 122ms/step - loss: 1.7969 - accuracy: 0.5373\n"
          ]
        },
        {
          "output_type": "execute_result",
          "data": {
            "text/plain": [
              "[1.7968957424163818, 0.5373465418815613]"
            ]
          },
          "metadata": {},
          "execution_count": 23
        }
      ]
    },
    {
      "cell_type": "code",
      "source": [],
      "metadata": {
        "id": "IpIC2HcjLwVv"
      },
      "execution_count": null,
      "outputs": []
    }
  ]
}