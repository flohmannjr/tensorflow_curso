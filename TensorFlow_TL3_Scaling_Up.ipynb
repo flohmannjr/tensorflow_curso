{
  "nbformat": 4,
  "nbformat_minor": 0,
  "metadata": {
    "colab": {
      "provenance": [],
      "toc_visible": true,
      "authorship_tag": "ABX9TyMRJHTrZ+roVYvuTISJr7U9",
      "include_colab_link": true
    },
    "kernelspec": {
      "name": "python3",
      "display_name": "Python 3"
    },
    "language_info": {
      "name": "python"
    },
    "accelerator": "GPU",
    "gpuClass": "standard"
  },
  "cells": [
    {
      "cell_type": "markdown",
      "metadata": {
        "id": "view-in-github",
        "colab_type": "text"
      },
      "source": [
        "<a href=\"https://colab.research.google.com/github/flohmannjr/tensorflow_curso/blob/main/TensorFlow_TL3_Scaling_Up.ipynb\" target=\"_parent\"><img src=\"https://colab.research.google.com/assets/colab-badge.svg\" alt=\"Open In Colab\"/></a>"
      ]
    },
    {
      "cell_type": "markdown",
      "source": [
        "# TensorFlow Transfer Learning Scaling Up"
      ],
      "metadata": {
        "id": "1WIj0zjf27eI"
      }
    },
    {
      "cell_type": "code",
      "source": [
        "import tensorflow as tf\n",
        "import tensorflow_hub as hub\n",
        "\n",
        "import matplotlib.pyplot as plt\n",
        "import seaborn as sns\n",
        "\n",
        "from tensorflow.keras import Model, Sequential\n",
        "from tensorflow.keras.applications import EfficientNetB0\n",
        "from tensorflow.keras.callbacks import ModelCheckpoint\n",
        "from tensorflow.keras.layers import Dense, GlobalAveragePooling2D, Input\n",
        "from tensorflow.keras.layers import RandomFlip, RandomHeight, RandomRotation, RandomWidth, RandomZoom\n",
        "from tensorflow.keras.optimizers import Adam\n",
        "from tensorflow.keras.utils import image_dataset_from_directory"
      ],
      "metadata": {
        "id": "HsnVnhni3Dcv"
      },
      "execution_count": null,
      "outputs": []
    },
    {
      "cell_type": "markdown",
      "source": [
        "## Setup"
      ],
      "metadata": {
        "id": "BzWq49ds3tBj"
      }
    },
    {
      "cell_type": "code",
      "source": [
        "plt.rcParams['figure.figsize'] = [8, 5]\n",
        "plt.rcParams['figure.dpi'] = 100\n",
        "plt.style.use('seaborn-darkgrid')"
      ],
      "metadata": {
        "id": "0FD3Wd9m5H7P"
      },
      "execution_count": null,
      "outputs": []
    },
    {
      "cell_type": "markdown",
      "source": [
        "### Constantes"
      ],
      "metadata": {
        "id": "qG4CB1I25Ifu"
      }
    },
    {
      "cell_type": "code",
      "source": [
        "SEMENTE = 2008193\n",
        "\n",
        "DIR_TREINO = '101_food_classes_10_percent/train'\n",
        "DIR_TESTE  = '101_food_classes_10_percent/test'\n",
        "\n",
        "TAMANHO_LOTE = 32\n",
        "FORMATO_IMAGEM = (224, 224)\n",
        "MODO_CLASSE = 'categorical'\n",
        "\n",
        "FORMATO_ENTRADA = FORMATO_IMAGEM + (3,)\n",
        "ATIVACAO = 'softmax'\n",
        "\n",
        "PERDA = 'categorical_crossentropy'\n",
        "METRICAS = ['accuracy']\n",
        "\n",
        "# OTIMIZADOR = 'Adam'\n",
        "APRENDIZADO = 0.001\n",
        "APRENDIZADO_RESSINTONIZADO = 0.0001\n",
        "\n",
        "ITERACOES = 5\n",
        "ITERACOES_RESSINTONIZADAS = ITERACOES + 5"
      ],
      "metadata": {
        "id": "TD8UPz_Z5L2m"
      },
      "execution_count": null,
      "outputs": []
    },
    {
      "cell_type": "markdown",
      "source": [
        "### Funções"
      ],
      "metadata": {
        "id": "97Fa3s9r6Z3B"
      }
    },
    {
      "cell_type": "code",
      "source": [
        "!wget https://raw.githubusercontent.com/flohmannjr/tensorflow_curso/main/funcoes.py"
      ],
      "metadata": {
        "id": "GPD8ufRR6cP_"
      },
      "execution_count": null,
      "outputs": []
    },
    {
      "cell_type": "code",
      "source": [
        "from funcoes import grafico_historico_por_iteracao, grafico_historicos_complementares, unzip_data"
      ],
      "metadata": {
        "id": "QHmBZKSd6ltO"
      },
      "execution_count": null,
      "outputs": []
    },
    {
      "cell_type": "markdown",
      "source": [
        "## Dados"
      ],
      "metadata": {
        "id": "9x9kjrDl6rRH"
      }
    },
    {
      "cell_type": "code",
      "source": [
        "!wget https://storage.googleapis.com/ztm_tf_course/food_vision/101_food_classes_10_percent.zip\n",
        "\n",
        "unzip_data('101_food_classes_10_percent.zip')"
      ],
      "metadata": {
        "id": "AUywlUBF6z8x"
      },
      "execution_count": null,
      "outputs": []
    },
    {
      "cell_type": "markdown",
      "source": [
        "### Importando os dados e tranformando-os em lotes"
      ],
      "metadata": {
        "id": "FZuXZWH07F7X"
      }
    },
    {
      "cell_type": "code",
      "source": [
        "dados_treino = image_dataset_from_directory(directory=DIR_TREINO,\n",
        "                                            batch_size=TAMANHO_LOTE,\n",
        "                                            image_size=FORMATO_IMAGEM,\n",
        "                                            label_mode=MODO_CLASSE,\n",
        "                                            seed=SEMENTE)\n",
        "\n",
        "dados_teste = image_dataset_from_directory(directory=DIR_TESTE,\n",
        "                                           batch_size=TAMANHO_LOTE,\n",
        "                                           image_size=FORMATO_IMAGEM,\n",
        "                                           label_mode=MODO_CLASSE,\n",
        "                                           seed=SEMENTE)"
      ],
      "metadata": {
        "id": "BXNQRrab7QMX"
      },
      "execution_count": null,
      "outputs": []
    },
    {
      "cell_type": "code",
      "source": [
        "rotulos = dados_treino.class_names"
      ],
      "metadata": {
        "id": "VJ3l2w5v8z7h"
      },
      "execution_count": null,
      "outputs": []
    },
    {
      "cell_type": "markdown",
      "source": [
        "## Pré-modelagem"
      ],
      "metadata": {
        "id": "g0Z65r-U9BjG"
      }
    },
    {
      "cell_type": "markdown",
      "source": [
        "### Expansão dos dados"
      ],
      "metadata": {
        "id": "GmQbMlNbCpRu"
      }
    },
    {
      "cell_type": "code",
      "source": [
        "expansao_dados = Sequential(name='expansao_dados')\n",
        "\n",
        "expansao_dados.add(RandomFlip('horizontal'))\n",
        "expansao_dados.add(RandomHeight(0.2))\n",
        "expansao_dados.add(RandomRotation(0.2))\n",
        "expansao_dados.add(RandomWidth(0.2))\n",
        "expansao_dados.add(RandomZoom(0.2))"
      ],
      "metadata": {
        "id": "U48bYJmWD3JX"
      },
      "execution_count": null,
      "outputs": []
    },
    {
      "cell_type": "markdown",
      "source": [
        "### Modelo-base"
      ],
      "metadata": {
        "id": "epJCE1bJEd7I"
      }
    },
    {
      "cell_type": "code",
      "source": [
        "modelo_base = EfficientNetB0(include_top=False)\n",
        "modelo_base.trainable = False"
      ],
      "metadata": {
        "id": "8HZ0M8K_EiHP"
      },
      "execution_count": null,
      "outputs": []
    },
    {
      "cell_type": "markdown",
      "source": [
        "## Modelo inicial"
      ],
      "metadata": {
        "id": "og0k8Cp3EurA"
      }
    },
    {
      "cell_type": "code",
      "source": [
        "entradas = Input(shape=FORMATO_ENTRADA, name='camada_entrada')\n",
        "\n",
        "# Há um bug na versão 2.8 do TensorFlow que faz necessário forçar o treinamento para que a expansão dos dados funcione.\n",
        "expandidos = expansao_dados(entradas, training=True)\n",
        "\n",
        "camadas = modelo_base(expandidos, training=False)\n",
        "camadas = GlobalAveragePooling2D(name='agrupamento_media_global')(camadas)\n",
        "\n",
        "saidas = Dense(len(rotulos), activation=ATIVACAO, name='camada_saida')(camadas)\n",
        "\n",
        "modelo = Model(inputs=entradas, outputs=saidas, name='Modelo')\n",
        "\n",
        "modelo.compile(loss=PERDA,\n",
        "               optimizer=Adam(learning_rate=APRENDIZADO),\n",
        "               metrics=METRICAS)"
      ],
      "metadata": {
        "id": "i0zF6OFSE38m"
      },
      "execution_count": null,
      "outputs": []
    },
    {
      "cell_type": "code",
      "source": [
        "historico_inicial = modelo.fit(dados_treino,\n",
        "                               epochs=ITERACOES,\n",
        "                               steps_per_epoch=len(dados_treino),\n",
        "                               validation_data=dados_teste,\n",
        "                               validation_steps=int(0.15 + len(dados_teste)), # Apenas 15% da base de teste\n",
        "                               verbose=1)"
      ],
      "metadata": {
        "id": "uWu4jN2HGh1g"
      },
      "execution_count": null,
      "outputs": []
    },
    {
      "cell_type": "code",
      "source": [
        "grafico_historico_por_iteracao(historico_inicial)"
      ],
      "metadata": {
        "id": "F016zwJrIEZ3"
      },
      "execution_count": null,
      "outputs": []
    },
    {
      "cell_type": "code",
      "source": [
        "validacao_inicial = modelo.evaluate(dados_teste)\n",
        "validacao_inicial"
      ],
      "metadata": {
        "id": "crcX-eI-IIsO"
      },
      "execution_count": null,
      "outputs": []
    },
    {
      "cell_type": "markdown",
      "source": [
        "## Ressintonizando modelo"
      ],
      "metadata": {
        "id": "IpIC2HcjLwVv"
      }
    },
    {
      "cell_type": "code",
      "source": [
        "# \"Descongela\" as últimas 5 camadas do modelo_base (EfficientNetB0).\n",
        "for layer in modelo_base.layers[-5:]:\n",
        "    layer.trainable = True\n",
        "\n",
        "modelo.compile(loss=PERDA,\n",
        "               optimizer=Adam(learning_rate=APRENDIZADO_RESSINTONIZADO),\n",
        "               metrics=METRICAS)"
      ],
      "metadata": {
        "id": "DClwPUzANzcG"
      },
      "execution_count": null,
      "outputs": []
    },
    {
      "cell_type": "code",
      "source": [
        "historico_ressintonizado = modelo.fit(dados_treino,\n",
        "                                     epochs=ITERACOES_RESSINTONIZADAS,\n",
        "                                     steps_per_epoch=len(dados_treino),\n",
        "                                     initial_epoch=len(historico_inicial.epoch),\n",
        "                                     validation_data=dados_teste,\n",
        "                                     validation_steps=int(0.15 * len(dados_teste)),\n",
        "                                     verbose=1)"
      ],
      "metadata": {
        "id": "fFXubearPlKX"
      },
      "execution_count": null,
      "outputs": []
    },
    {
      "cell_type": "code",
      "source": [
        "grafico_historico_por_iteracao(historico_ressintonizado)"
      ],
      "metadata": {
        "id": "AWA_FBt7RB52"
      },
      "execution_count": null,
      "outputs": []
    },
    {
      "cell_type": "code",
      "source": [
        "grafico_historicos_complementares(historico_inicial, historico_ressintonizado)"
      ],
      "metadata": {
        "id": "BZIZDdSFRIdt"
      },
      "execution_count": null,
      "outputs": []
    },
    {
      "cell_type": "code",
      "source": [
        "validacao_ressintonizada = modelo.evaluate(dados_teste)\n",
        "validacao_ressintonizada"
      ],
      "metadata": {
        "id": "nJI8e1lVRNNM"
      },
      "execution_count": null,
      "outputs": []
    },
    {
      "cell_type": "markdown",
      "source": [
        "## Salvando modelo"
      ],
      "metadata": {
        "id": "qZ2ZnVrLRUg9"
      }
    },
    {
      "cell_type": "code",
      "source": [
        "# Formato HDF5\n",
        "modelo.save('scaling_up_HDF5.h5')"
      ],
      "metadata": {
        "id": "BJqpKiKjSVvV"
      },
      "execution_count": null,
      "outputs": []
    },
    {
      "cell_type": "markdown",
      "source": [
        "## Carregando modelo"
      ],
      "metadata": {
        "id": "_7rN67r8SjAj"
      }
    },
    {
      "cell_type": "code",
      "source": [
        "# modelo = tf.keras.models.load_model('scaling_up_HDF5.h5')"
      ],
      "metadata": {
        "id": "blzGQYxJSnJV"
      },
      "execution_count": null,
      "outputs": []
    },
    {
      "cell_type": "markdown",
      "source": [
        "## Previsão"
      ],
      "metadata": {
        "id": "kutoLnY5Srze"
      }
    },
    {
      "cell_type": "code",
      "source": [
        "previsao = modelo.predict(dados_teste, verbose=1)"
      ],
      "metadata": {
        "id": "8BgwCAwEVavX"
      },
      "execution_count": null,
      "outputs": []
    },
    {
      "cell_type": "code",
      "source": [
        "print(\"Exemplo de previsões\")\n",
        "print(f\"Quantidade de previsões: {len(previsao[0])}\")\n",
        "print(f\"Soma das previsões: {sum(previsao[0])}\")\n",
        "print(f\"Previsões:\\n{previsao[0]}\")\n",
        "print(f\"Maior probabilidade: {(previsao[0].max() * 100):0.2f}% ({rotulos[previsao[0].argmax()]})\")"
      ],
      "metadata": {
        "id": "4V7KLm5_Vk29"
      },
      "execution_count": null,
      "outputs": []
    },
    {
      "cell_type": "code",
      "source": [],
      "metadata": {
        "id": "f4Ppj2qJZ4ib"
      },
      "execution_count": null,
      "outputs": []
    }
  ]
}