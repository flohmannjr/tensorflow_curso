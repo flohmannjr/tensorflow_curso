{
  "nbformat": 4,
  "nbformat_minor": 0,
  "metadata": {
    "colab": {
      "provenance": [],
      "toc_visible": true,
      "authorship_tag": "ABX9TyNVe5maDhN5sMnhMv6Ng6CX",
      "include_colab_link": true
    },
    "kernelspec": {
      "name": "python3",
      "display_name": "Python 3"
    },
    "language_info": {
      "name": "python"
    }
  },
  "cells": [
    {
      "cell_type": "markdown",
      "metadata": {
        "id": "view-in-github",
        "colab_type": "text"
      },
      "source": [
        "<a href=\"https://colab.research.google.com/github/flohmannjr/tensorflow_curso/blob/main/TensorFlow_TL3_Scaling_Up.ipynb\" target=\"_parent\"><img src=\"https://colab.research.google.com/assets/colab-badge.svg\" alt=\"Open In Colab\"/></a>"
      ]
    },
    {
      "cell_type": "markdown",
      "source": [
        "# TensorFlow Transfer Learning Scaling Up"
      ],
      "metadata": {
        "id": "1WIj0zjf27eI"
      }
    },
    {
      "cell_type": "code",
      "source": [
        "import tensorflow as tf\n",
        "import tensorflow_hub as hub\n",
        "\n",
        "import matplotlib.pyplot as plt\n",
        "import seaborn as sns\n",
        "\n",
        "from tensorflow.keras.utils import image_dataset_from_directory"
      ],
      "metadata": {
        "id": "HsnVnhni3Dcv"
      },
      "execution_count": 9,
      "outputs": []
    },
    {
      "cell_type": "markdown",
      "source": [
        "## Setup"
      ],
      "metadata": {
        "id": "BzWq49ds3tBj"
      }
    },
    {
      "cell_type": "code",
      "source": [
        "plt.rcParams['figure.figsize'] = [8, 5]\n",
        "plt.rcParams['figure.dpi'] = 100\n",
        "plt.style.use('seaborn-darkgrid')"
      ],
      "metadata": {
        "id": "0FD3Wd9m5H7P"
      },
      "execution_count": 2,
      "outputs": []
    },
    {
      "cell_type": "markdown",
      "source": [
        "### Constantes"
      ],
      "metadata": {
        "id": "qG4CB1I25Ifu"
      }
    },
    {
      "cell_type": "code",
      "source": [
        "SEMENTE = 2008193\n",
        "\n",
        "DIR_TREINO_10 = '101_food_classes_10_percent/train'\n",
        "DIR_TESTE     = '101_food_classes_10_percent/test'\n",
        "\n",
        "TAMANHO_LOTE = 32\n",
        "FORMATO_IMAGEM = (224, 224)\n",
        "MODO_CLASSE = 'categorical'\n",
        "\n",
        "FORMATO_ENTRADA = FORMATO_IMAGEM + (3,)\n",
        "ATIVACAO = 'softmax'\n",
        "\n",
        "PERDA = 'categorical_crossentropy'\n",
        "METRICAS = ['accuracy']\n",
        "\n",
        "# OTIMIZADOR = 'Adam'\n",
        "# APRENDIZADO = 0.001\n",
        "\n",
        "ITERACOES = 5"
      ],
      "metadata": {
        "id": "TD8UPz_Z5L2m"
      },
      "execution_count": 10,
      "outputs": []
    },
    {
      "cell_type": "markdown",
      "source": [
        "### Funções"
      ],
      "metadata": {
        "id": "97Fa3s9r6Z3B"
      }
    },
    {
      "cell_type": "code",
      "source": [
        "!wget https://raw.githubusercontent.com/flohmannjr/tensorflow_curso/main/funcoes.py"
      ],
      "metadata": {
        "colab": {
          "base_uri": "https://localhost:8080/"
        },
        "id": "GPD8ufRR6cP_",
        "outputId": "d3f11feb-4e83-4655-be1c-2740ee28a940"
      },
      "execution_count": 4,
      "outputs": [
        {
          "output_type": "stream",
          "name": "stdout",
          "text": [
            "--2023-01-24 17:54:01--  https://raw.githubusercontent.com/flohmannjr/tensorflow_curso/main/funcoes.py\n",
            "Resolving raw.githubusercontent.com (raw.githubusercontent.com)... 185.199.110.133, 185.199.108.133, 185.199.111.133, ...\n",
            "Connecting to raw.githubusercontent.com (raw.githubusercontent.com)|185.199.110.133|:443... connected.\n",
            "HTTP request sent, awaiting response... 200 OK\n",
            "Length: 4971 (4.9K) [text/plain]\n",
            "Saving to: ‘funcoes.py’\n",
            "\n",
            "funcoes.py          100%[===================>]   4.85K  --.-KB/s    in 0s      \n",
            "\n",
            "2023-01-24 17:54:01 (54.0 MB/s) - ‘funcoes.py’ saved [4971/4971]\n",
            "\n"
          ]
        }
      ]
    },
    {
      "cell_type": "code",
      "source": [
        "from funcoes import criar_callback_tensorboard, grafico_historico_por_iteracao, grafico_historicos_complementares, unzip_data, walk_through_dir"
      ],
      "metadata": {
        "id": "QHmBZKSd6ltO"
      },
      "execution_count": 5,
      "outputs": []
    },
    {
      "cell_type": "markdown",
      "source": [
        "## Dados"
      ],
      "metadata": {
        "id": "9x9kjrDl6rRH"
      }
    },
    {
      "cell_type": "code",
      "source": [
        "!wget https://storage.googleapis.com/ztm_tf_course/food_vision/101_food_classes_10_percent.zip\n",
        "\n",
        "unzip_data('101_food_classes_10_percent.zip')"
      ],
      "metadata": {
        "colab": {
          "base_uri": "https://localhost:8080/"
        },
        "id": "AUywlUBF6z8x",
        "outputId": "2e649af1-1c9b-443e-d265-9db374e0345d"
      },
      "execution_count": 6,
      "outputs": [
        {
          "output_type": "stream",
          "name": "stdout",
          "text": [
            "--2023-01-24 17:55:50--  https://storage.googleapis.com/ztm_tf_course/food_vision/101_food_classes_10_percent.zip\n",
            "Resolving storage.googleapis.com (storage.googleapis.com)... 74.125.204.128, 64.233.189.128, 108.177.97.128, ...\n",
            "Connecting to storage.googleapis.com (storage.googleapis.com)|74.125.204.128|:443... connected.\n",
            "HTTP request sent, awaiting response... 200 OK\n",
            "Length: 1625420029 (1.5G) [application/zip]\n",
            "Saving to: ‘101_food_classes_10_percent.zip’\n",
            "\n",
            "101_food_classes_10 100%[===================>]   1.51G  28.8MB/s    in 54s     \n",
            "\n",
            "2023-01-24 17:56:44 (28.9 MB/s) - ‘101_food_classes_10_percent.zip’ saved [1625420029/1625420029]\n",
            "\n"
          ]
        }
      ]
    },
    {
      "cell_type": "code",
      "source": [
        "# walk_through_dir('101_food_classes_10_percent')"
      ],
      "metadata": {
        "id": "FZQAvbcT7ADf"
      },
      "execution_count": 8,
      "outputs": []
    },
    {
      "cell_type": "markdown",
      "source": [
        "### Importando os dados e tranformando-os em lotes"
      ],
      "metadata": {
        "id": "FZuXZWH07F7X"
      }
    },
    {
      "cell_type": "code",
      "source": [
        "dados_treino_10 = image_dataset_from_directory(directory=DIR_TREINO_10,\n",
        "                                               batch_size=TAMANHO_LOTE,\n",
        "                                               image_size=FORMATO_IMAGEM,\n",
        "                                               label_mode=MODO_CLASSE,\n",
        "                                               seed=SEMENTE)\n",
        "\n",
        "dados_teste = image_dataset_from_directory(directory=DIR_TESTE,\n",
        "                                           batch_size=TAMANHO_LOTE,\n",
        "                                           image_size=FORMATO_IMAGEM,\n",
        "                                           label_mode=MODO_CLASSE,\n",
        "                                           seed=SEMENTE)"
      ],
      "metadata": {
        "colab": {
          "base_uri": "https://localhost:8080/"
        },
        "id": "BXNQRrab7QMX",
        "outputId": "034301a3-bc7c-441a-9644-ac7b371e6160"
      },
      "execution_count": 11,
      "outputs": [
        {
          "output_type": "stream",
          "name": "stdout",
          "text": [
            "Found 7575 files belonging to 101 classes.\n",
            "Found 25250 files belonging to 101 classes.\n"
          ]
        }
      ]
    },
    {
      "cell_type": "code",
      "source": [
        "rotulos = dados_treino_10.class_names"
      ],
      "metadata": {
        "id": "VJ3l2w5v8z7h"
      },
      "execution_count": 12,
      "outputs": []
    },
    {
      "cell_type": "code",
      "source": [],
      "metadata": {
        "id": "g0Z65r-U9BjG"
      },
      "execution_count": null,
      "outputs": []
    }
  ]
}