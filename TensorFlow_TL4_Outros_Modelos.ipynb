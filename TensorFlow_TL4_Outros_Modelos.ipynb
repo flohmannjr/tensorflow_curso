{
  "nbformat": 4,
  "nbformat_minor": 0,
  "metadata": {
    "colab": {
      "provenance": [],
      "toc_visible": true,
      "authorship_tag": "ABX9TyMRNOJZxR+bZac6SVtWP3C3",
      "include_colab_link": true
    },
    "kernelspec": {
      "name": "python3",
      "display_name": "Python 3"
    },
    "language_info": {
      "name": "python"
    },
    "accelerator": "GPU",
    "gpuClass": "standard"
  },
  "cells": [
    {
      "cell_type": "markdown",
      "metadata": {
        "id": "view-in-github",
        "colab_type": "text"
      },
      "source": [
        "<a href=\"https://colab.research.google.com/github/flohmannjr/tensorflow_curso/blob/main/TensorFlow_TL4_Outros_Modelos.ipynb\" target=\"_parent\"><img src=\"https://colab.research.google.com/assets/colab-badge.svg\" alt=\"Open In Colab\"/></a>"
      ]
    },
    {
      "cell_type": "markdown",
      "source": [
        "# TensorFlow Tranfer Learning Teste de Modelos"
      ],
      "metadata": {
        "id": "pzQxgVa8NcVK"
      }
    },
    {
      "cell_type": "code",
      "source": [
        "import tensorflow as tf\n",
        "import tensorflow_hub as hub\n",
        "\n",
        "import matplotlib.pyplot as plt\n",
        "import seaborn as sns\n",
        "\n",
        "import re\n",
        "\n",
        "from tensorflow.keras import Model, Sequential\n",
        "from tensorflow.keras.layers import Dense, GlobalAveragePooling2D, Input\n",
        "from tensorflow.keras.layers import Rescaling, RandomFlip, RandomHeight, RandomRotation, RandomWidth, RandomZoom\n",
        "from tensorflow.keras.optimizers import Adam\n",
        "from tensorflow.keras.utils import image_dataset_from_directory\n",
        "\n",
        "from tensorflow.keras.applications import EfficientNetB0, EfficientNetB1, EfficientNetB2, EfficientNetB3, InceptionV3, ResNet50V2"
      ],
      "metadata": {
        "id": "gNy5dPvRNtoO"
      },
      "execution_count": null,
      "outputs": []
    },
    {
      "cell_type": "markdown",
      "source": [
        "## Setup"
      ],
      "metadata": {
        "id": "bYIefgtjOAGl"
      }
    },
    {
      "cell_type": "code",
      "source": [
        "plt.rcParams['figure.figsize'] = [8, 5]\n",
        "plt.rcParams['figure.dpi'] = 100\n",
        "plt.style.use('seaborn-darkgrid')"
      ],
      "metadata": {
        "id": "T_u3SG7QOCXV"
      },
      "execution_count": null,
      "outputs": []
    },
    {
      "cell_type": "markdown",
      "source": [
        "## Constantes"
      ],
      "metadata": {
        "id": "HFAMby9kOGWW"
      }
    },
    {
      "cell_type": "code",
      "source": [
        "SEMENTE = 2008193\n",
        "\n",
        "DIR_TREINO = '10_food_classes_10_percent/train'\n",
        "DIR_TESTE  = '10_food_classes_10_percent/test'\n",
        "\n",
        "TAMANHO_LOTE = 32\n",
        "FORMATO_IMAGEM = (224, 224)\n",
        "MODO_CLASSE = 'categorical'\n",
        "\n",
        "FORMATO_ENTRADA = FORMATO_IMAGEM + (3,)\n",
        "ATIVACAO = 'softmax'\n",
        "\n",
        "PERDA = 'categorical_crossentropy'\n",
        "METRICAS = ['accuracy']\n",
        "\n",
        "# OTIMIZADOR = 'Adam'\n",
        "APRENDIZADO = 0.001\n",
        "\n",
        "ITERACOES = 5"
      ],
      "metadata": {
        "id": "5q6UnPqAOJIe"
      },
      "execution_count": null,
      "outputs": []
    },
    {
      "cell_type": "markdown",
      "source": [
        "### Modelos"
      ],
      "metadata": {
        "id": "KlUc3EOa6oEP"
      }
    },
    {
      "cell_type": "code",
      "source": [
        "MODELOS_BASE = [EfficientNetB0, EfficientNetB1, EfficientNetB2, EfficientNetB3, InceptionV3, ResNet50V2]\n",
        "\n",
        "MODELOS_HUB = ['https://tfhub.dev/tensorflow/efficientnet/b0/feature-vector/1',\n",
        "               'https://tfhub.dev/tensorflow/efficientnet/b1/feature-vector/1',\n",
        "               'https://tfhub.dev/tensorflow/efficientnet/b2/feature-vector/1',\n",
        "               'https://tfhub.dev/tensorflow/efficientnet/b3/feature-vector/1',\n",
        "               'https://tfhub.dev/google/imagenet/resnet_v1_50/feature_vector/5',\n",
        "               'https://tfhub.dev/google/imagenet/resnet_v2_50/feature_vector/5',\n",
        "               'https://tfhub.dev/google/imagenet/inception_v3/feature_vector/5']\n",
        "\n",
        "# Modelos testados e descartados:\n",
        "# Com performance muito inferior: ResNet50, VGG16\n",
        "# Com performance levemente inferior:\n",
        "# EfficientNetB4, EfficientNetB5, EfficientNetB6, EfficientNetB7\n",
        "# EfficientNetV2B0, EfficientNetV2B1, EfficientNetV2B2, EfficientNetV2B3\n",
        "# https://tfhub.dev/tensorflow/efficientnet/b4/feature-vector/1\n",
        "# https://tfhub.dev/tensorflow/efficientnet/b5/feature-vector/1\n",
        "# https://tfhub.dev/tensorflow/efficientnet/b6/feature-vector/1\n",
        "# https://tfhub.dev/tensorflow/efficientnet/b7/feature-vector/1"
      ],
      "metadata": {
        "id": "zG7X0PCw6qIb"
      },
      "execution_count": null,
      "outputs": []
    },
    {
      "cell_type": "markdown",
      "source": [
        "## Funções"
      ],
      "metadata": {
        "id": "JdEFvvfnOjbd"
      }
    },
    {
      "cell_type": "code",
      "source": [
        "!wget https://raw.githubusercontent.com/flohmannjr/tensorflow_curso/main/funcoes.py"
      ],
      "metadata": {
        "id": "HRvtg6AjOlD1"
      },
      "execution_count": null,
      "outputs": []
    },
    {
      "cell_type": "code",
      "source": [
        "from funcoes import criar_callback_tensorboard, grafico_historico_por_iteracao, unzip_data"
      ],
      "metadata": {
        "id": "rw9KUoPdOpBG"
      },
      "execution_count": null,
      "outputs": []
    },
    {
      "cell_type": "markdown",
      "source": [
        "## Dados"
      ],
      "metadata": {
        "id": "bJgqcuBmOw7j"
      }
    },
    {
      "cell_type": "code",
      "source": [
        "!wget https://storage.googleapis.com/ztm_tf_course/food_vision/10_food_classes_10_percent.zip\n",
        "\n",
        "unzip_data('10_food_classes_10_percent.zip')"
      ],
      "metadata": {
        "id": "zD02NQa9O1BF"
      },
      "execution_count": null,
      "outputs": []
    },
    {
      "cell_type": "markdown",
      "source": [
        "### Importando os dados e tranformando-os em lotes"
      ],
      "metadata": {
        "id": "F08A5MwdO_mg"
      }
    },
    {
      "cell_type": "code",
      "source": [
        "dados_treino = image_dataset_from_directory(directory=DIR_TREINO,\n",
        "                                            batch_size=TAMANHO_LOTE,\n",
        "                                            image_size=FORMATO_IMAGEM,\n",
        "                                            label_mode=MODO_CLASSE,\n",
        "                                            seed=SEMENTE)\n",
        "\n",
        "dados_teste = image_dataset_from_directory(directory=DIR_TESTE,\n",
        "                                           batch_size=TAMANHO_LOTE,\n",
        "                                           image_size=FORMATO_IMAGEM,\n",
        "                                           label_mode=MODO_CLASSE,\n",
        "                                           shuffle=False, # Não embaralhar os dados de teste para permitir avaliarmos as previsões.\n",
        "                                           seed=SEMENTE)\n",
        "\n",
        "rotulos = dados_treino.class_names"
      ],
      "metadata": {
        "id": "zdCg29IiO_9l"
      },
      "execution_count": null,
      "outputs": []
    },
    {
      "cell_type": "markdown",
      "source": [
        "## Modelos"
      ],
      "metadata": {
        "id": "6PjcYfxlPWE0"
      }
    },
    {
      "cell_type": "code",
      "source": [
        "modelos = {}"
      ],
      "metadata": {
        "id": "fLjUWw5-At1O"
      },
      "execution_count": null,
      "outputs": []
    },
    {
      "cell_type": "code",
      "source": [
        "for mb in MODELOS_BASE:\n",
        "    modelo_base = mb(include_top=False)\n",
        "    modelo_base.trainable = False\n",
        "\n",
        "    modelo_nome = f'modelo_base_{modelo_base.name}'\n",
        "\n",
        "    entradas = Input(shape=FORMATO_ENTRADA, name='camada_entrada')\n",
        "\n",
        "    expansao_dados = Sequential(name='expansao_dados')\n",
        "\n",
        "    if modelo_base.name[:12] != 'efficientnet':\n",
        "        expansao_dados.add(Rescaling(1./255))\n",
        "\n",
        "    expansao_dados.add(RandomFlip('horizontal'))\n",
        "    expansao_dados.add(RandomHeight(0.2))\n",
        "    expansao_dados.add(RandomRotation(0.2))\n",
        "    expansao_dados.add(RandomWidth(0.2))\n",
        "    expansao_dados.add(RandomZoom(0.2))\n",
        "\n",
        "    # Há um bug na versão 2.8 do TensorFlow que faz necessário forçar o treinamento para que a expansão dos dados funcione.\n",
        "    expandidos = expansao_dados(entradas, training=True)\n",
        "\n",
        "    camadas = modelo_base(expandidos, training=False)\n",
        "    camadas = GlobalAveragePooling2D(name='agrupamento_media_global')(camadas)\n",
        "\n",
        "    saidas = Dense(len(rotulos), activation=ATIVACAO, name='camada_saida')(camadas)\n",
        "\n",
        "    modelo = Model(inputs=entradas, outputs=saidas, name=modelo_nome)\n",
        "\n",
        "    modelo.compile(loss=PERDA,\n",
        "                   optimizer=Adam(learning_rate=APRENDIZADO),\n",
        "                   metrics=METRICAS)\n",
        "    \n",
        "    historico = modelo.fit(dados_treino,\n",
        "                           epochs=ITERACOES,\n",
        "                           steps_per_epoch=len(dados_treino),\n",
        "                           validation_data=dados_teste,\n",
        "                           validation_steps=len(dados_teste),\n",
        "                           callbacks=[criar_callback_tensorboard(diretorio='outros_modelos', experimento=modelo_nome)],\n",
        "                           verbose=1)\n",
        "\n",
        "    modelos[modelo_nome] = modelo\n",
        "    \n",
        "    grafico_historico_por_iteracao(historico)\n",
        "\n",
        "\n",
        "for mh in MODELOS_HUB:\n",
        "    modelo_nome = \"modelo_hub_\" + re.sub('\\W+', '_', mh[18:])\n",
        "    \n",
        "    modelo = Sequential(name=modelo_nome)\n",
        "\n",
        "    modelo.add(Rescaling(1./255))\n",
        "    modelo.add(RandomFlip('horizontal'))\n",
        "    modelo.add(RandomHeight(0.2))\n",
        "    modelo.add(RandomRotation(0.2))\n",
        "    modelo.add(RandomWidth(0.2))\n",
        "    modelo.add(RandomZoom(0.2))\n",
        "\n",
        "    modelo.add(hub.KerasLayer(handle=mh,\n",
        "                              trainable=False,\n",
        "                              input_shape=FORMATO_ENTRADA))\n",
        "\n",
        "    modelo.add(Dense(len(rotulos), activation=ATIVACAO))\n",
        "\n",
        "    modelo.compile(loss=PERDA,\n",
        "                   optimizer=Adam(learning_rate=APRENDIZADO),\n",
        "                   metrics=METRICAS)\n",
        "    \n",
        "    historico = modelo.fit(dados_treino,\n",
        "                           epochs=ITERACOES,\n",
        "                           steps_per_epoch=len(dados_treino),\n",
        "                           validation_data=dados_teste,\n",
        "                           validation_steps=len(dados_teste),\n",
        "                           callbacks=[criar_callback_tensorboard(diretorio='outros_modelos', experimento=modelo_nome)],\n",
        "                           verbose=1)\n",
        "\n",
        "    modelos[modelo_nome] = modelo\n",
        "    \n",
        "    grafico_historico_por_iteracao(historico)\n"
      ],
      "metadata": {
        "id": "5QaQst0PPXou"
      },
      "execution_count": null,
      "outputs": []
    },
    {
      "cell_type": "markdown",
      "source": [
        "## Salvando modelos"
      ],
      "metadata": {
        "id": "pbuStgYcPQNs"
      }
    },
    {
      "cell_type": "code",
      "source": [
        "# for modelo_nome, modelo in modelos:\n",
        "#     modelo.save(f'{modelo_nome}_HDF5.h5')"
      ],
      "metadata": {
        "id": "PIVL3512PUGq"
      },
      "execution_count": null,
      "outputs": []
    },
    {
      "cell_type": "markdown",
      "source": [
        "## Comparando modelos utilizando TensorBoard"
      ],
      "metadata": {
        "id": "gr3rOAHkd5UJ"
      }
    },
    {
      "cell_type": "code",
      "source": [
        "# !tensorboard dev upload --logdir ./outros_modelos/ \\\n",
        "#                         --name \"Teste de Modelos.\" \\\n",
        "#                         --description \"Teste de modelos EfficientNet, Inception, ResNet. Base de dados Food101 reduzida.\" \\\n",
        "#                         --one_shot"
      ],
      "metadata": {
        "id": "uI18ccqCeL_z"
      },
      "execution_count": null,
      "outputs": []
    },
    {
      "cell_type": "markdown",
      "source": [
        "TensorBoard link: "
      ],
      "metadata": {
        "id": "vSLNOo9MeURn"
      }
    },
    {
      "cell_type": "code",
      "source": [
        "# Apagar diretórios não-vazios\n",
        "# import shutil\n",
        "# shutil.rmtree('outros_modelos')"
      ],
      "metadata": {
        "id": "rhfBigVdeTNZ"
      },
      "execution_count": null,
      "outputs": []
    },
    {
      "cell_type": "code",
      "source": [],
      "metadata": {
        "id": "Pb4nA6AVilF-"
      },
      "execution_count": null,
      "outputs": []
    }
  ]
}