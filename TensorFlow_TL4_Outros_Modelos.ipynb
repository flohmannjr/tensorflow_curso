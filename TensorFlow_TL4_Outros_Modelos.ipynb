{
  "nbformat": 4,
  "nbformat_minor": 0,
  "metadata": {
    "colab": {
      "provenance": [],
      "toc_visible": true,
      "authorship_tag": "ABX9TyMvO0ovtPvp7y9AO66Ewmyq",
      "include_colab_link": true
    },
    "kernelspec": {
      "name": "python3",
      "display_name": "Python 3"
    },
    "language_info": {
      "name": "python"
    },
    "accelerator": "GPU",
    "gpuClass": "standard"
  },
  "cells": [
    {
      "cell_type": "markdown",
      "metadata": {
        "id": "view-in-github",
        "colab_type": "text"
      },
      "source": [
        "<a href=\"https://colab.research.google.com/github/flohmannjr/tensorflow_curso/blob/main/TensorFlow_TL4_Outros_Modelos.ipynb\" target=\"_parent\"><img src=\"https://colab.research.google.com/assets/colab-badge.svg\" alt=\"Open In Colab\"/></a>"
      ]
    },
    {
      "cell_type": "markdown",
      "source": [
        "# TensorFlow Tranfer Learning Teste de Modelos"
      ],
      "metadata": {
        "id": "pzQxgVa8NcVK"
      }
    },
    {
      "cell_type": "code",
      "source": [
        "import tensorflow as tf\n",
        "import tensorflow_hub as hub\n",
        "\n",
        "import matplotlib.pyplot as plt\n",
        "import seaborn as sns\n",
        "\n",
        "from tensorflow.keras import Model, Sequential\n",
        "from tensorflow.keras.layers import Dense, GlobalAveragePooling2D, Input\n",
        "from tensorflow.keras.layers import RandomFlip, RandomHeight, RandomRotation, RandomWidth, RandomZoom\n",
        "from tensorflow.keras.optimizers import Adam\n",
        "from tensorflow.keras.utils import image_dataset_from_directory\n",
        "\n",
        "from tensorflow.keras.applications import EfficientNetB0, EfficientNetB1, EfficientNetB2, EfficientNetB3\n",
        "from tensorflow.keras.applications import EfficientNetV2B0, EfficientNetV2B1, EfficientNetV2B2, EfficientNetV2B3\n",
        "from tensorflow.keras.applications import InceptionV3, ResNet50, ResNet50V2, VGG16"
      ],
      "metadata": {
        "id": "gNy5dPvRNtoO"
      },
      "execution_count": null,
      "outputs": []
    },
    {
      "cell_type": "markdown",
      "source": [
        "## Setup"
      ],
      "metadata": {
        "id": "bYIefgtjOAGl"
      }
    },
    {
      "cell_type": "code",
      "source": [
        "plt.rcParams['figure.figsize'] = [8, 5]\n",
        "plt.rcParams['figure.dpi'] = 100\n",
        "plt.style.use('seaborn-darkgrid')"
      ],
      "metadata": {
        "id": "T_u3SG7QOCXV"
      },
      "execution_count": null,
      "outputs": []
    },
    {
      "cell_type": "markdown",
      "source": [
        "## Constantes"
      ],
      "metadata": {
        "id": "HFAMby9kOGWW"
      }
    },
    {
      "cell_type": "code",
      "source": [
        "SEMENTE = 2008193\n",
        "\n",
        "MODELOS_BASE = [EfficientNetB0, EfficientNetB1, EfficientNetB2, EfficientNetB3,\n",
        "                EfficientNetV2B0, EfficientNetV2B1, EfficientNetV2B2, EfficientNetV2B3,\n",
        "                InceptionV3, ResNet50, ResNet50V2, VGG16]\n",
        "\n",
        "DIR_TREINO = '10_food_classes_10_percent/train'\n",
        "DIR_TESTE  = '10_food_classes_10_percent/test'\n",
        "\n",
        "TAMANHO_LOTE = 32\n",
        "FORMATO_IMAGEM = (224, 224)\n",
        "MODO_CLASSE = 'categorical'\n",
        "\n",
        "FORMATO_ENTRADA = FORMATO_IMAGEM + (3,)\n",
        "ATIVACAO = 'softmax'\n",
        "\n",
        "PERDA = 'categorical_crossentropy'\n",
        "METRICAS = ['accuracy']\n",
        "\n",
        "# OTIMIZADOR = 'Adam'\n",
        "APRENDIZADO = 0.001\n",
        "\n",
        "ITERACOES = 5"
      ],
      "metadata": {
        "id": "5q6UnPqAOJIe"
      },
      "execution_count": null,
      "outputs": []
    },
    {
      "cell_type": "markdown",
      "source": [
        "## Funções"
      ],
      "metadata": {
        "id": "JdEFvvfnOjbd"
      }
    },
    {
      "cell_type": "code",
      "source": [
        "!wget https://raw.githubusercontent.com/flohmannjr/tensorflow_curso/main/funcoes.py"
      ],
      "metadata": {
        "id": "HRvtg6AjOlD1"
      },
      "execution_count": null,
      "outputs": []
    },
    {
      "cell_type": "code",
      "source": [
        "from funcoes import criar_callback_tensorboard, criar_modelo, grafico_historico_por_iteracao, grafico_historicos_complementares, unzip_data"
      ],
      "metadata": {
        "id": "rw9KUoPdOpBG"
      },
      "execution_count": null,
      "outputs": []
    },
    {
      "cell_type": "markdown",
      "source": [
        "## Dados"
      ],
      "metadata": {
        "id": "bJgqcuBmOw7j"
      }
    },
    {
      "cell_type": "code",
      "source": [
        "!wget https://storage.googleapis.com/ztm_tf_course/food_vision/10_food_classes_10_percent.zip\n",
        "\n",
        "unzip_data('10_food_classes_10_percent.zip')"
      ],
      "metadata": {
        "id": "zD02NQa9O1BF"
      },
      "execution_count": null,
      "outputs": []
    },
    {
      "cell_type": "markdown",
      "source": [
        "### Importando os dados e tranformando-os em lotes"
      ],
      "metadata": {
        "id": "F08A5MwdO_mg"
      }
    },
    {
      "cell_type": "code",
      "source": [
        "dados_treino = image_dataset_from_directory(directory=DIR_TREINO,\n",
        "                                            batch_size=TAMANHO_LOTE,\n",
        "                                            image_size=FORMATO_IMAGEM,\n",
        "                                            label_mode=MODO_CLASSE,\n",
        "                                            seed=SEMENTE)\n",
        "\n",
        "dados_teste = image_dataset_from_directory(directory=DIR_TESTE,\n",
        "                                           batch_size=TAMANHO_LOTE,\n",
        "                                           image_size=FORMATO_IMAGEM,\n",
        "                                           label_mode=MODO_CLASSE,\n",
        "                                           shuffle=False, # Não embaralhar os dados de teste para permitir avaliarmos as previsões.\n",
        "                                           seed=SEMENTE)\n",
        "\n",
        "rotulos = dados_treino.class_names"
      ],
      "metadata": {
        "id": "zdCg29IiO_9l"
      },
      "execution_count": null,
      "outputs": []
    },
    {
      "cell_type": "markdown",
      "source": [
        "## Pré-modelagem"
      ],
      "metadata": {
        "id": "B4KUcqnHPOg8"
      }
    },
    {
      "cell_type": "markdown",
      "source": [
        "### Expansão dos dados"
      ],
      "metadata": {
        "id": "TZI-QeJ5PO80"
      }
    },
    {
      "cell_type": "code",
      "source": [
        "expansao_dados = Sequential(name='expansao_dados')\n",
        "\n",
        "expansao_dados.add(RandomFlip('horizontal'))\n",
        "expansao_dados.add(RandomHeight(0.2))\n",
        "expansao_dados.add(RandomRotation(0.2))\n",
        "expansao_dados.add(RandomWidth(0.2))\n",
        "expansao_dados.add(RandomZoom(0.2))"
      ],
      "metadata": {
        "id": "G_q1Xj4bPUAN"
      },
      "execution_count": null,
      "outputs": []
    },
    {
      "cell_type": "markdown",
      "source": [
        "## Modelos"
      ],
      "metadata": {
        "id": "6PjcYfxlPWE0"
      }
    },
    {
      "cell_type": "code",
      "source": [
        "historicos = {}"
      ],
      "metadata": {
        "id": "PxjSVwm_aB0u"
      },
      "execution_count": null,
      "outputs": []
    },
    {
      "cell_type": "code",
      "source": [
        "for mb in MODELOS_BASE:\n",
        "    modelo_base = mb(include_top=False)\n",
        "    modelo_base.trainable = False\n",
        "\n",
        "    modelo_nome = f'modelo_{modelo_base.name}'\n",
        "\n",
        "    entradas = Input(shape=FORMATO_ENTRADA, name='camada_entrada')\n",
        "\n",
        "    # Há um bug na versão 2.8 do TensorFlow que faz necessário forçar o treinamento para que a expansão dos dados funcione.\n",
        "    expandidos = expansao_dados(entradas, training=True)\n",
        "\n",
        "    camadas = modelo_base(expandidos, training=False)\n",
        "    camadas = GlobalAveragePooling2D(name='agrupamento_media_global')(camadas)\n",
        "\n",
        "    saidas = Dense(len(rotulos), activation=ATIVACAO, name='camada_saida')(camadas)\n",
        "\n",
        "    modelo = Model(inputs=entradas, outputs=saidas, name=modelo_nome)\n",
        "\n",
        "    modelo.compile(loss=PERDA,\n",
        "                   optimizer=Adam(learning_rate=APRENDIZADO),\n",
        "                   metrics=METRICAS)\n",
        "    \n",
        "    historicos[modelo_nome] = modelo.fit(dados_treino,\n",
        "                                         epochs=ITERACOES,\n",
        "                                         steps_per_epoch=len(dados_treino),\n",
        "                                         validation_data=dados_teste,\n",
        "                                         validation_steps=len(dados_teste),\n",
        "                                         callbacks=[criar_callback_tensorboard(diretorio='outros_modelos', experimento=modelo_nome)]\n",
        "                                         verbose=1)\n",
        "    \n",
        "    modelo.save(f'{modelo_nome}_HDF5.h5')"
      ],
      "metadata": {
        "id": "5QaQst0PPXou"
      },
      "execution_count": null,
      "outputs": []
    },
    {
      "cell_type": "code",
      "source": [],
      "metadata": {
        "id": "zbUSEEBsb-9r"
      },
      "execution_count": null,
      "outputs": []
    }
  ]
}